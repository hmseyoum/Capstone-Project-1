{
 "cells": [
  {
   "cell_type": "markdown",
   "metadata": {},
   "source": [
    "# Predicting House Prices of Washington Using Machine Learning"
   ]
  },
  {
   "cell_type": "markdown",
   "metadata": {},
   "source": [
    "by Hanna Seyoum"
   ]
  },
  {
   "cell_type": "markdown",
   "metadata": {},
   "source": [
    "## Problem Statement"
   ]
  },
  {
   "cell_type": "markdown",
   "metadata": {},
   "source": [
    "House prices generally tend to go up with time, gradually, with some probability of crashing. With price increase, or decrease, many people either looking to buy or sell are affected. The goal is to predict current values of the houses so that buyers and sellers can make informed decisions."
   ]
  },
  {
   "cell_type": "markdown",
   "metadata": {},
   "source": [
    "## The Data"
   ]
  },
  {
   "cell_type": "markdown",
   "metadata": {},
   "source": [
    "The data contains houses from the state of Washington with 18 attributes such as number of bedrooms and bathrooms, square footage of the entire house and of the lot, house address, etc. The dataset was acquired from Kaggle.\n",
    "\n",
    "https://www.kaggle.com/shree1992/housedata"
   ]
  },
  {
   "cell_type": "markdown",
   "metadata": {},
   "source": [
    "## Methodology"
   ]
  },
  {
   "cell_type": "markdown",
   "metadata": {},
   "source": [
    "I have treated this as a supervised learning regression problem."
   ]
  },
  {
   "cell_type": "markdown",
   "metadata": {},
   "source": [
    "* Acquired dataset from Kaggle  \n",
    "* Applied data wrangling & cleaning for feautre engineering and selection, and to handle missing values and outliers \n",
    "* Exploratory Data Analysis and Visualizations to find patterns and insights w.r.t various features in housing data  \n",
    "* Hypothesis testing leveraging inferential statistics  \n",
    "* Predictive modeling for house prices leveraging linear regression, ridge regression, and random forest regression. "
   ]
  },
  {
   "cell_type": "markdown",
   "metadata": {},
   "source": [
    "### Libraries"
   ]
  },
  {
   "cell_type": "markdown",
   "metadata": {},
   "source": [
    "pandas for:  \n",
    "    \n",
    "    data loading, wrangling, cleaning, and manipulation  \n",
    "    feature selection and engineering  \n",
    "    descriptive statistics\n",
    "\n",
    "\n",
    "numpy for:\n",
    "\n",
    "    generating an array of values\n",
    "    array sorting and manipulation\n",
    "    \n",
    "\n",
    "matplotlib and seaborn for:\n",
    "\n",
    "    data visualization\n",
    "    \n",
    "\n",
    "scikit-learn for:\n",
    "\n",
    "    data preprocessing\n",
    "    regression and ensemble models\n",
    "    cross-validation\n",
    "    model selection\n",
    "    model performance / metrics"
   ]
  },
  {
   "cell_type": "markdown",
   "metadata": {},
   "source": [
    "### Data Wrangling & Cleaning"
   ]
  },
  {
   "cell_type": "markdown",
   "metadata": {},
   "source": [
    "The data is a CSV file which I uploaded onto pandas as a data frame. A combination of feature engineering and selection was used. There were no NaNs, but instead there were 0s that indicated missing values in some entries."
   ]
  },
  {
   "cell_type": "markdown",
   "metadata": {},
   "source": [
    "**Cleaning steps**"
   ]
  },
  {
   "cell_type": "markdown",
   "metadata": {},
   "source": [
    "* Used a combination of **feature engineering** & **feature selection**. The more the features the better, to a certain extent (i.e., curse of dimensionality), therefore I kept all features except for `statezip`, which I deleted after splitting it into `state` and `zipcode` features, `date`, `year`, `country`, `state`, and `street`.\n",
    "\n",
    "* Created `month` & `year` features from the `date` column, and created `renovation_age` and `house_age` features.\n",
    "\n",
    "* Created a `total_sqft` feature by summing `sqft_living` and `sqft_lot`.\n",
    "\n",
    "* Changed the data types of `waterfront` & `condition` features from `int` to `category` because they both have values `0` & `1` where 1 means yes & 0 means no.\n",
    "\n",
    "* Created features `price_is0`, `renov_date_is0`, and `yr_built_is0` with boolean arrays where it's 1 for all 0 values and 0 for the rest."
   ]
  },
  {
   "cell_type": "markdown",
   "metadata": {},
   "source": [
    "**Handling missing/zero values**"
   ]
  },
  {
   "cell_type": "markdown",
   "metadata": {},
   "source": [
    "* Found 2 houses with 0 bedrooms & 0 bathrooms that were priced over \\$1 million. It was clear that they were erroneous data. Therefore I replaced the bedroom & bathroom values of both houses with the mean bedroom & bathroom values.\n",
    "\n",
    "* The `yr_renovated` column is a numeric column with years of when the houses were last renovated, & 59.5\\% of the rows have 0s as their value. I was not sure if the 0 meant that a house was never renovated, or if the renovation date was missing. I considered removing the column since 59.5\\% of the rows are zeros, but instead of deleting the column, I added a boolean array column with 1s for all the houses that have a 0, and 0s for all the houses that have a renovation year listed.\n",
    "\n",
    "* 1.1\\% of the `Price` column has houses with 0 values. It is unlikely that the houses were worth \\$0, so I did the same as with the `yr_renovated` column and added a boolean array column. I also created a new dataframe with these houses removed to compare it's models to the ones with \\$0 house price included. There was a slight improvement in the models with the 0s removed. However, I don't think this improvement in model performance is worth removing 1.1\\% of the data."
   ]
  },
  {
   "cell_type": "markdown",
   "metadata": {},
   "source": [
    "**Outliers**"
   ]
  },
  {
   "cell_type": "markdown",
   "metadata": {},
   "source": [
    "* Found two 3-bedroom houses with prices over \\$10 million. To check if they were outliers or possibly erroneous, I plotted a linear regression line of `price` & `sqft_living` to check if the prices are high due to their square footage. The plot showed that they were erroneous entries, so I created a new dataframe with both houses removed and compared it's model performance with the original dataframe's model. There was significant improvement in model performance. Therefore I've conducted remaining analysis with the dataframe exlcuding these 2 houses.\n",
    "* Found outliers in `sqft_lot` where the lot sizes were significantly larger than than of other homes. Therefore I removed houses with lot size of over 600,000 sqft.  \n",
    "\n",
    "The following plots will show the `price` and `sqft_lot` outliers."
   ]
  },
  {
   "cell_type": "code",
   "execution_count": 2,
   "metadata": {},
   "outputs": [
    {
     "data": {
      "image/png": "[encoded data removed]",
      "text/plain": [
       "<Figure size 432x288 with 1 Axes>"
      ]
     },
     "metadata": {
      "needs_background": "light"
     },
     "output_type": "display_data"
    }
   ],
   "source": [
    "import matplotlib.pyplot as plt\n",
    "import matplotlib.image as mpimg\n",
    "\n",
    "img=mpimg.imread(\"outliers.png\")\n",
    "imgplot = plt.imshow(img)\n",
    "plt.show()"
   ]
  },
  {
   "cell_type": "markdown",
   "metadata": {},
   "source": [
    "### Exploratory Data Analysis & Statistical Analysis Plots"
   ]
  },
  {
   "cell_type": "markdown",
   "metadata": {},
   "source": [
    "**Feature Observation**"
   ]
  },
  {
   "cell_type": "markdown",
   "metadata": {},
   "source": [
    "Some assumptions:\n",
    "\n",
    "    Houses with more bedrooms will be worth more\n",
    "    Houses with more bathrooms will be worth more\n",
    "    Houses in bad condition will be worth less\n",
    "    Houses with higher square footage will be worth more\n",
    "    Houses with a waterfront will be worth more"
   ]
  },
  {
   "cell_type": "markdown",
   "metadata": {},
   "source": [
    "* Plotted a heatmap of all the features and target variable to get an idea of their relationships.\n",
    "* Plotted scatter plots of `price` against # of bedrooms, house size, and house condition. These plots showed a positive linear relationship between `sqft_living` & `price`, a non linear (polynomial) relationship between `bedrooms` & `price`, and the `condition` plot showed that houses in poor condition are worth much less than houses in moderate and good condition. Also, majority of the houses are in moderate condition, and the plot has a slightly parabolic shape.\n",
    "* Plotted a barplot of `waterfront` vs `price` which showed that houses with waterfronts are worth more.\n",
    "* Plotted a line plot of `yr_built` and `price`. This plot shows that house prices are higher with houses that are very old and also new. Old houses could be priced higher due to their historical value. \n",
    "* Plot of mean & median prices per bedrooms. Noticed a slight difference between the two plots, with mean prices being slightly larger than median prices. This could be due to some price outliers.\n",
    "* Plot of mean & median house sizes per number of bedrooms. We see a strong positive linear relationship between `bedrooms` and `price`, and the mean & median plots are very similar.\n",
    "* An ecdf plot of house prices by each month (may, june, & july) shows that house prices remained about the same in each month."
   ]
  },
  {
   "cell_type": "code",
   "execution_count": 3,
   "metadata": {
    "scrolled": true
   },
   "outputs": [
    {
     "data": {
      "image/png": "[encoded data removed]",
      "text/plain": [
       "<Figure size 432x288 with 1 Axes>"
      ]
     },
     "metadata": {
      "needs_background": "light"
     },
     "output_type": "display_data"
    }
   ],
   "source": [
    "img=mpimg.imread(\"some_visualization.png\")\n",
    "imgplot = plt.imshow(img)\n",
    "plt.show()"
   ]
  },
  {
   "cell_type": "markdown",
   "metadata": {},
   "source": [
    "**Feature Importance**"
   ]
  },
  {
   "cell_type": "markdown",
   "metadata": {},
   "source": [
    "The heatmap gives us a visual representation of the features correlation with each other and with the target variable `price`. In addition to the heatmap, the coefficient of each feature tells us how siginificant each feature is in regards to its predictability of the target variable, i.e., the relationship of each feature with price.\n",
    "\n",
    "I go into more detail when discussing the coefficients further down."
   ]
  },
  {
   "cell_type": "markdown",
   "metadata": {},
   "source": [
    "### Model Fitting"
   ]
  },
  {
   "cell_type": "markdown",
   "metadata": {},
   "source": [
    "3 algorithms were used: Linear Regression, Ridge Regression & Random Forrest.\n",
    "\n",
    "**Choosing hyperparameters**\n",
    "\n",
    "**Ridge Regression**   \n",
    "The hyperparameter that I tuned for Ridge is alpha. I tried values 0.0001, 0.001, 0.01, 0.1, 1, 10, and found alpha=1 to be the best parameter.\n",
    "\n",
    "**Random Forest**   \n",
    "The hyperparameters that I tuned for Random Forest are n_estimators & max_depth, with best values of None & 100 respectively. \n",
    "\n",
    "With the above hyperparameters, I proceceded to fit several models using the 3 algorithims, using data with outlier prices removed, data with price outliers & zero prices removed, and using data with both included. Also fitted some models with parabolic transformations of the `bedrooms` feature since it had a parabolic shape. Overall, the best model was the Random Forest Regressor that was fitted with data excluding houses with erroneous prices."
   ]
  },
  {
   "cell_type": "markdown",
   "metadata": {},
   "source": [
    "## Results"
   ]
  },
  {
   "cell_type": "markdown",
   "metadata": {},
   "source": [
    "Our initial assumptions of the features are confirmed: \n",
    "\n",
    "`waterfront`, `sqft_living`, and `bathrooms` have a positive linear relationship with `price`. An unexpected result was `bedrooms` having a negative relationship with price. I talk about this in more detail further down when discussing the coefficients."
   ]
  },
  {
   "cell_type": "markdown",
   "metadata": {},
   "source": [
    "$R^2$ represents the proportion of variance of the target variable `price` that has been explained by the features in the model. The higher the $R^2$ value the better. Random Forest resulted in the highest $R^2$ value of 65\\%, which is better than average, but needs to be improved."
   ]
  },
  {
   "cell_type": "code",
   "execution_count": 4,
   "metadata": {},
   "outputs": [
    {
     "data": {
      "image/png": "[encoded data removed]",
      "text/plain": [
       "<Figure size 432x288 with 1 Axes>"
      ]
     },
     "metadata": {
      "needs_background": "light"
     },
     "output_type": "display_data"
    }
   ],
   "source": [
    "# scatter plot of actual price and predicted price of the ridge model\n",
    "img=mpimg.imread(\"scatter_true_pred.png\")\n",
    "imgplot = plt.imshow(img)\n",
    "plt.show()"
   ]
  },
  {
   "cell_type": "markdown",
   "metadata": {},
   "source": [
    "We see in the above plot that the predicted prices are somewhat close to the actual prices, but not very close. The best case scenario would be for the scatter plots to follow a perfectly straight diagonal line, indicating that our model perfectly predicted the house prices. This is one visual indication that a linear regression model does not best fit this data. \n",
    "\n",
    "Let's take a look at a histogram of the residuals of the best performing linear regression model."
   ]
  },
  {
   "cell_type": "code",
   "execution_count": 5,
   "metadata": {
    "scrolled": true
   },
   "outputs": [
    {
     "data": {
      "image/png": "[encoded data removed]",
      "text/plain": [
       "<Figure size 432x288 with 1 Axes>"
      ]
     },
     "metadata": {
      "needs_background": "light"
     },
     "output_type": "display_data"
    }
   ],
   "source": [
    "img=mpimg.imread(\"hist_resid.png\")\n",
    "imgplot = plt.imshow(img)\n",
    "plt.show()"
   ]
  },
  {
   "cell_type": "markdown",
   "metadata": {},
   "source": [
    "Ideally a residual histogram follows a normal distribution, and that tells us that we've chosen an appropriate model type. However, the above plot does not closely follow a normal distribution, which is another indication that either my models need improvemnt, or a regression model is not best fit for my data."
   ]
  },
  {
   "cell_type": "markdown",
   "metadata": {},
   "source": [
    "#### Accuracy Score Table -- models include home addresses"
   ]
  },
  {
   "cell_type": "markdown",
   "metadata": {},
   "source": [
    "Below is an accuracy score table of all the models tested. We can see that Random Forest performed the best. \n",
    "The train & test scores are $R^2$ values and the train & test errors are the RMSE values. I chose RMSE instead of MSE since RMSE gives us the price value, while MSE gives us the price squared."
   ]
  },
  {
   "cell_type": "code",
   "execution_count": 6,
   "metadata": {
    "scrolled": true
   },
   "outputs": [
    {
     "data": {
      "text/html": [
       "<div>\n",
       "<style scoped>\n",
       "    .dataframe tbody tr th:only-of-type {\n",
       "        vertical-align: middle;\n",
       "    }\n",
       "\n",
       "    .dataframe tbody tr th {\n",
       "        vertical-align: top;\n",
       "    }\n",
       "\n",
       "    .dataframe thead th {\n",
       "        text-align: right;\n",
       "    }\n",
       "</style>\n",
       "<table border=\"1\" class=\"dataframe\">\n",
       "  <thead>\n",
       "    <tr style=\"text-align: right;\">\n",
       "      <th></th>\n",
       "      <th>models</th>\n",
       "      <th>test_score</th>\n",
       "      <th>train_score</th>\n",
       "      <th>test_error</th>\n",
       "      <th>train_error</th>\n",
       "      <th>price outs removed</th>\n",
       "      <th>description</th>\n",
       "      <th>features</th>\n",
       "    </tr>\n",
       "  </thead>\n",
       "  <tbody>\n",
       "    <tr>\n",
       "      <th>15</th>\n",
       "      <td>RidgeRegression</td>\n",
       "      <td>0.766</td>\n",
       "      <td>0.895</td>\n",
       "      <td>4866.0</td>\n",
       "      <td>0.0</td>\n",
       "      <td>yes</td>\n",
       "      <td>df2 parabolic transformation</td>\n",
       "      <td>all except price, date, year, street, city, state</td>\n",
       "    </tr>\n",
       "    <tr>\n",
       "      <th>14</th>\n",
       "      <td>RidgeRegression</td>\n",
       "      <td>0.766</td>\n",
       "      <td>0.894</td>\n",
       "      <td>4759.0</td>\n",
       "      <td>0.0</td>\n",
       "      <td>yes</td>\n",
       "      <td>df2 zero prices removed</td>\n",
       "      <td>all except price, date, year, street, city, state</td>\n",
       "    </tr>\n",
       "    <tr>\n",
       "      <th>10</th>\n",
       "      <td>RidgeRegression</td>\n",
       "      <td>0.766</td>\n",
       "      <td>0.894</td>\n",
       "      <td>4759.0</td>\n",
       "      <td>0.0</td>\n",
       "      <td>yes</td>\n",
       "      <td>zero prices removed</td>\n",
       "      <td>all except price, date, year, street, city, state</td>\n",
       "    </tr>\n",
       "    <tr>\n",
       "      <th>11</th>\n",
       "      <td>RidgeRegression</td>\n",
       "      <td>0.766</td>\n",
       "      <td>0.895</td>\n",
       "      <td>4866.0</td>\n",
       "      <td>0.0</td>\n",
       "      <td>yes</td>\n",
       "      <td>parabolic transformation</td>\n",
       "      <td>all except price, date, year, street, city, state</td>\n",
       "    </tr>\n",
       "    <tr>\n",
       "      <th>17</th>\n",
       "      <td>RandomForest</td>\n",
       "      <td>0.745</td>\n",
       "      <td>0.947</td>\n",
       "      <td>2825.0</td>\n",
       "      <td>2565.0</td>\n",
       "      <td>yes</td>\n",
       "      <td>no transformations</td>\n",
       "      <td>all except price, date, year, street, city, state</td>\n",
       "    </tr>\n",
       "    <tr>\n",
       "      <th>21</th>\n",
       "      <td>RandomForest</td>\n",
       "      <td>0.731</td>\n",
       "      <td>0.947</td>\n",
       "      <td>3668.0</td>\n",
       "      <td>2823.0</td>\n",
       "      <td>yes</td>\n",
       "      <td>df2 no transformations</td>\n",
       "      <td>all except price, date, year, street, city, state</td>\n",
       "    </tr>\n",
       "    <tr>\n",
       "      <th>23</th>\n",
       "      <td>RandomForest</td>\n",
       "      <td>0.719</td>\n",
       "      <td>0.953</td>\n",
       "      <td>12669.0</td>\n",
       "      <td>2873.0</td>\n",
       "      <td>yes</td>\n",
       "      <td>df2 parabolic transformation</td>\n",
       "      <td>all except price, date, year, street, city, state</td>\n",
       "    </tr>\n",
       "    <tr>\n",
       "      <th>19</th>\n",
       "      <td>RandomForest</td>\n",
       "      <td>0.718</td>\n",
       "      <td>0.954</td>\n",
       "      <td>12482.0</td>\n",
       "      <td>3169.0</td>\n",
       "      <td>yes</td>\n",
       "      <td>parabolic transformation</td>\n",
       "      <td>all except price, date, year, street, city, state</td>\n",
       "    </tr>\n",
       "    <tr>\n",
       "      <th>18</th>\n",
       "      <td>RandomForest</td>\n",
       "      <td>0.717</td>\n",
       "      <td>0.955</td>\n",
       "      <td>13568.0</td>\n",
       "      <td>3284.0</td>\n",
       "      <td>yes</td>\n",
       "      <td>zero prices removed</td>\n",
       "      <td>all except price, date, year, street, city, state</td>\n",
       "    </tr>\n",
       "    <tr>\n",
       "      <th>22</th>\n",
       "      <td>RandomForest</td>\n",
       "      <td>0.708</td>\n",
       "      <td>0.955</td>\n",
       "      <td>12563.0</td>\n",
       "      <td>3135.0</td>\n",
       "      <td>yes</td>\n",
       "      <td>df2 zero prices removed</td>\n",
       "      <td>all except price, date, year, street, city, state</td>\n",
       "    </tr>\n",
       "    <tr>\n",
       "      <th>13</th>\n",
       "      <td>RidgeRegression</td>\n",
       "      <td>0.705</td>\n",
       "      <td>0.884</td>\n",
       "      <td>4409.0</td>\n",
       "      <td>0.0</td>\n",
       "      <td>yes</td>\n",
       "      <td>df2 no transformations</td>\n",
       "      <td>all except price, date, year, street, city, state</td>\n",
       "    </tr>\n",
       "    <tr>\n",
       "      <th>9</th>\n",
       "      <td>RidgeRegression</td>\n",
       "      <td>0.705</td>\n",
       "      <td>0.884</td>\n",
       "      <td>4409.0</td>\n",
       "      <td>0.0</td>\n",
       "      <td>yes</td>\n",
       "      <td>no transformations</td>\n",
       "      <td>all except price, date, year, street, city, state</td>\n",
       "    </tr>\n",
       "    <tr>\n",
       "      <th>12</th>\n",
       "      <td>RidgeRegression</td>\n",
       "      <td>0.128</td>\n",
       "      <td>0.786</td>\n",
       "      <td>14425.0</td>\n",
       "      <td>0.0</td>\n",
       "      <td>no</td>\n",
       "      <td>df2 no transformations</td>\n",
       "      <td>all except price, date, year, street, city, state</td>\n",
       "    </tr>\n",
       "    <tr>\n",
       "      <th>20</th>\n",
       "      <td>RandomForest</td>\n",
       "      <td>0.124</td>\n",
       "      <td>0.917</td>\n",
       "      <td>18167.0</td>\n",
       "      <td>2277.0</td>\n",
       "      <td>no</td>\n",
       "      <td>df2 no transformations</td>\n",
       "      <td>all except price, date, year, street, city, state</td>\n",
       "    </tr>\n",
       "    <tr>\n",
       "      <th>8</th>\n",
       "      <td>RidgeRegression</td>\n",
       "      <td>0.098</td>\n",
       "      <td>0.889</td>\n",
       "      <td>23232.0</td>\n",
       "      <td>0.0</td>\n",
       "      <td>no</td>\n",
       "      <td>no transformations</td>\n",
       "      <td>all except price, date, year, street, city, state</td>\n",
       "    </tr>\n",
       "    <tr>\n",
       "      <th>16</th>\n",
       "      <td>RandomForest</td>\n",
       "      <td>0.091</td>\n",
       "      <td>0.957</td>\n",
       "      <td>28626.0</td>\n",
       "      <td>1870.0</td>\n",
       "      <td>no</td>\n",
       "      <td>no transformations</td>\n",
       "      <td>all except price, date, year, street, city, state</td>\n",
       "    </tr>\n",
       "    <tr>\n",
       "      <th>7</th>\n",
       "      <td>LinearRegression</td>\n",
       "      <td>0.088</td>\n",
       "      <td>0.932</td>\n",
       "      <td>50163.0</td>\n",
       "      <td>3.0</td>\n",
       "      <td>yes</td>\n",
       "      <td>df2 parabolic transformation</td>\n",
       "      <td>all except price, date, year, street, city, state</td>\n",
       "    </tr>\n",
       "    <tr>\n",
       "      <th>3</th>\n",
       "      <td>LinearRegression</td>\n",
       "      <td>0.088</td>\n",
       "      <td>0.932</td>\n",
       "      <td>50163.0</td>\n",
       "      <td>3.0</td>\n",
       "      <td>yes</td>\n",
       "      <td>parabolic transformation</td>\n",
       "      <td>all except price, date, year, street, city, state</td>\n",
       "    </tr>\n",
       "    <tr>\n",
       "      <th>4</th>\n",
       "      <td>LinearRegression</td>\n",
       "      <td>-15.582</td>\n",
       "      <td>0.826</td>\n",
       "      <td>489486.0</td>\n",
       "      <td>187.0</td>\n",
       "      <td>no</td>\n",
       "      <td>df2 no transformations</td>\n",
       "      <td>all except price, date, year, street, city, state</td>\n",
       "    </tr>\n",
       "    <tr>\n",
       "      <th>0</th>\n",
       "      <td>LinearRegression</td>\n",
       "      <td>-37.746</td>\n",
       "      <td>0.923</td>\n",
       "      <td>1979556.0</td>\n",
       "      <td>145.0</td>\n",
       "      <td>no</td>\n",
       "      <td>no transformations</td>\n",
       "      <td>all except price, date, year, street, city, state</td>\n",
       "    </tr>\n",
       "    <tr>\n",
       "      <th>1</th>\n",
       "      <td>LinearRegression</td>\n",
       "      <td>-251.569</td>\n",
       "      <td>0.918</td>\n",
       "      <td>665865.0</td>\n",
       "      <td>58.0</td>\n",
       "      <td>yes</td>\n",
       "      <td>no transformations</td>\n",
       "      <td>all except price, date, year, street, city, state</td>\n",
       "    </tr>\n",
       "    <tr>\n",
       "      <th>5</th>\n",
       "      <td>LinearRegression</td>\n",
       "      <td>-251.569</td>\n",
       "      <td>0.918</td>\n",
       "      <td>665865.0</td>\n",
       "      <td>58.0</td>\n",
       "      <td>yes</td>\n",
       "      <td>df2 no transformations</td>\n",
       "      <td>all except price, date, year, street, city, state</td>\n",
       "    </tr>\n",
       "    <tr>\n",
       "      <th>6</th>\n",
       "      <td>LinearRegression</td>\n",
       "      <td>-1492.156</td>\n",
       "      <td>0.931</td>\n",
       "      <td>1166730.0</td>\n",
       "      <td>30.0</td>\n",
       "      <td>yes</td>\n",
       "      <td>df2 zero prices removed</td>\n",
       "      <td>all except price, date, year, street, city, state</td>\n",
       "    </tr>\n",
       "    <tr>\n",
       "      <th>2</th>\n",
       "      <td>LinearRegression</td>\n",
       "      <td>-1492.156</td>\n",
       "      <td>0.931</td>\n",
       "      <td>1166730.0</td>\n",
       "      <td>30.0</td>\n",
       "      <td>yes</td>\n",
       "      <td>zero prices removed</td>\n",
       "      <td>all except price, date, year, street, city, state</td>\n",
       "    </tr>\n",
       "  </tbody>\n",
       "</table>\n",
       "</div>"
      ],
      "text/plain": [
       "              models  test_score  train_score  test_error  train_error  \\\n",
       "15   RidgeRegression       0.766        0.895      4866.0          0.0   \n",
       "14   RidgeRegression       0.766        0.894      4759.0          0.0   \n",
       "10   RidgeRegression       0.766        0.894      4759.0          0.0   \n",
       "11   RidgeRegression       0.766        0.895      4866.0          0.0   \n",
       "17      RandomForest       0.745        0.947      2825.0       2565.0   \n",
       "21      RandomForest       0.731        0.947      3668.0       2823.0   \n",
       "23      RandomForest       0.719        0.953     12669.0       2873.0   \n",
       "19      RandomForest       0.718        0.954     12482.0       3169.0   \n",
       "18      RandomForest       0.717        0.955     13568.0       3284.0   \n",
       "22      RandomForest       0.708        0.955     12563.0       3135.0   \n",
       "13   RidgeRegression       0.705        0.884      4409.0          0.0   \n",
       "9    RidgeRegression       0.705        0.884      4409.0          0.0   \n",
       "12   RidgeRegression       0.128        0.786     14425.0          0.0   \n",
       "20      RandomForest       0.124        0.917     18167.0       2277.0   \n",
       "8    RidgeRegression       0.098        0.889     23232.0          0.0   \n",
       "16      RandomForest       0.091        0.957     28626.0       1870.0   \n",
       "7   LinearRegression       0.088        0.932     50163.0          3.0   \n",
       "3   LinearRegression       0.088        0.932     50163.0          3.0   \n",
       "4   LinearRegression     -15.582        0.826    489486.0        187.0   \n",
       "0   LinearRegression     -37.746        0.923   1979556.0        145.0   \n",
       "1   LinearRegression    -251.569        0.918    665865.0         58.0   \n",
       "5   LinearRegression    -251.569        0.918    665865.0         58.0   \n",
       "6   LinearRegression   -1492.156        0.931   1166730.0         30.0   \n",
       "2   LinearRegression   -1492.156        0.931   1166730.0         30.0   \n",
       "\n",
       "   price outs removed                   description  \\\n",
       "15                yes  df2 parabolic transformation   \n",
       "14                yes       df2 zero prices removed   \n",
       "10                yes           zero prices removed   \n",
       "11                yes      parabolic transformation   \n",
       "17                yes            no transformations   \n",
       "21                yes        df2 no transformations   \n",
       "23                yes  df2 parabolic transformation   \n",
       "19                yes      parabolic transformation   \n",
       "18                yes           zero prices removed   \n",
       "22                yes       df2 zero prices removed   \n",
       "13                yes        df2 no transformations   \n",
       "9                 yes            no transformations   \n",
       "12                 no        df2 no transformations   \n",
       "20                 no        df2 no transformations   \n",
       "8                  no            no transformations   \n",
       "16                 no            no transformations   \n",
       "7                 yes  df2 parabolic transformation   \n",
       "3                 yes      parabolic transformation   \n",
       "4                  no        df2 no transformations   \n",
       "0                  no            no transformations   \n",
       "1                 yes            no transformations   \n",
       "5                 yes        df2 no transformations   \n",
       "6                 yes       df2 zero prices removed   \n",
       "2                 yes           zero prices removed   \n",
       "\n",
       "                                             features  \n",
       "15  all except price, date, year, street, city, state  \n",
       "14  all except price, date, year, street, city, state  \n",
       "10  all except price, date, year, street, city, state  \n",
       "11  all except price, date, year, street, city, state  \n",
       "17  all except price, date, year, street, city, state  \n",
       "21  all except price, date, year, street, city, state  \n",
       "23  all except price, date, year, street, city, state  \n",
       "19  all except price, date, year, street, city, state  \n",
       "18  all except price, date, year, street, city, state  \n",
       "22  all except price, date, year, street, city, state  \n",
       "13  all except price, date, year, street, city, state  \n",
       "9   all except price, date, year, street, city, state  \n",
       "12  all except price, date, year, street, city, state  \n",
       "20  all except price, date, year, street, city, state  \n",
       "8   all except price, date, year, street, city, state  \n",
       "16  all except price, date, year, street, city, state  \n",
       "7   all except price, date, year, street, city, state  \n",
       "3   all except price, date, year, street, city, state  \n",
       "4   all except price, date, year, street, city, state  \n",
       "0   all except price, date, year, street, city, state  \n",
       "1   all except price, date, year, street, city, state  \n",
       "5   all except price, date, year, street, city, state  \n",
       "6   all except price, date, year, street, city, state  \n",
       "2   all except price, date, year, street, city, state  "
      ]
     },
     "execution_count": 6,
     "metadata": {},
     "output_type": "execute_result"
    }
   ],
   "source": [
    "import pandas as pd\n",
    "#with_address table\n",
    "\n",
    "w_address = pd.read_csv(\"with_address.csv\")\n",
    "w_address.sort_values(\"test_score\", ascending=False)"
   ]
  },
  {
   "cell_type": "markdown",
   "metadata": {},
   "source": [
    "Model description:\n",
    "* Each model contains all features except for `price`, `date`, `year`, `street`, `city`, and `state`\n",
    "* Models described as having no transformations are those which did not have their `bedrooms` feature undergo parabolic transformation.\n",
    "* Models with zero prices removed are those with zero values in the `price` feature and price outliers removed.\n",
    "* Models with parabolic transformation are based on data with price outliers and zero prices removed, and have their `bedrooms` feature transformed.\n",
    "\n",
    "From the table above we can see that the best model is the Ridge Regression model with 76.6% accuracy. In fact there are 4 Ridge models with the same 76.6% accuracy, with the Random Forest model being the next best.\n",
    "\n",
    "The hyperparameter of the ridge regression model `alpha` was chosen to be 1, and the hyperparameters of the Random Forest model were chosen to be None and 200 for `max_depth` and `n_estimators` respectively."
   ]
  },
  {
   "cell_type": "markdown",
   "metadata": {},
   "source": [
    "**Analysing the coefficients**"
   ]
  },
  {
   "cell_type": "markdown",
   "metadata": {},
   "source": [
    "Let's take a look at the coefficients of the best performing ridge regression model that has its `bedrooms` feature transformed."
   ]
  },
  {
   "cell_type": "code",
   "execution_count": 7,
   "metadata": {},
   "outputs": [
    {
     "data": {
      "text/html": [
       "<div>\n",
       "<style scoped>\n",
       "    .dataframe tbody tr th:only-of-type {\n",
       "        vertical-align: middle;\n",
       "    }\n",
       "\n",
       "    .dataframe tbody tr th {\n",
       "        vertical-align: top;\n",
       "    }\n",
       "\n",
       "    .dataframe thead th {\n",
       "        text-align: right;\n",
       "    }\n",
       "</style>\n",
       "<table border=\"1\" class=\"dataframe\">\n",
       "  <thead>\n",
       "    <tr style=\"text-align: right;\">\n",
       "      <th></th>\n",
       "      <th>features</th>\n",
       "      <th>coef</th>\n",
       "    </tr>\n",
       "  </thead>\n",
       "  <tbody>\n",
       "    <tr>\n",
       "      <th>5</th>\n",
       "      <td>waterfront</td>\n",
       "      <td>533796.510797</td>\n",
       "    </tr>\n",
       "    <tr>\n",
       "      <th>14</th>\n",
       "      <td>renov_date_is0</td>\n",
       "      <td>59524.707516</td>\n",
       "    </tr>\n",
       "    <tr>\n",
       "      <th>6</th>\n",
       "      <td>view</td>\n",
       "      <td>58641.431715</td>\n",
       "    </tr>\n",
       "    <tr>\n",
       "      <th>7</th>\n",
       "      <td>condition</td>\n",
       "      <td>25971.330640</td>\n",
       "    </tr>\n",
       "    <tr>\n",
       "      <th>1</th>\n",
       "      <td>bathrooms</td>\n",
       "      <td>16351.327832</td>\n",
       "    </tr>\n",
       "    <tr>\n",
       "      <th>2</th>\n",
       "      <td>sqft_living</td>\n",
       "      <td>98.811006</td>\n",
       "    </tr>\n",
       "    <tr>\n",
       "      <th>8</th>\n",
       "      <td>sqft_above</td>\n",
       "      <td>96.505475</td>\n",
       "    </tr>\n",
       "    <tr>\n",
       "      <th>12</th>\n",
       "      <td>total_sqft</td>\n",
       "      <td>49.402657</td>\n",
       "    </tr>\n",
       "    <tr>\n",
       "      <th>11</th>\n",
       "      <td>yr_renovated</td>\n",
       "      <td>34.537373</td>\n",
       "    </tr>\n",
       "    <tr>\n",
       "      <th>9</th>\n",
       "      <td>sqft_basement</td>\n",
       "      <td>2.306068</td>\n",
       "    </tr>\n",
       "    <tr>\n",
       "      <th>13</th>\n",
       "      <td>price_is0</td>\n",
       "      <td>0.000000</td>\n",
       "    </tr>\n",
       "    <tr>\n",
       "      <th>3</th>\n",
       "      <td>sqft_lot</td>\n",
       "      <td>-49.363365</td>\n",
       "    </tr>\n",
       "    <tr>\n",
       "      <th>10</th>\n",
       "      <td>yr_built</td>\n",
       "      <td>-128.118554</td>\n",
       "    </tr>\n",
       "    <tr>\n",
       "      <th>0</th>\n",
       "      <td>bedrooms</td>\n",
       "      <td>-2488.445012</td>\n",
       "    </tr>\n",
       "    <tr>\n",
       "      <th>2757</th>\n",
       "      <td>bedrooms_squared</td>\n",
       "      <td>-2934.999847</td>\n",
       "    </tr>\n",
       "    <tr>\n",
       "      <th>4</th>\n",
       "      <td>floors</td>\n",
       "      <td>-30401.011872</td>\n",
       "    </tr>\n",
       "  </tbody>\n",
       "</table>\n",
       "</div>"
      ],
      "text/plain": [
       "              features           coef\n",
       "5           waterfront  533796.510797\n",
       "14      renov_date_is0   59524.707516\n",
       "6                 view   58641.431715\n",
       "7            condition   25971.330640\n",
       "1            bathrooms   16351.327832\n",
       "2          sqft_living      98.811006\n",
       "8           sqft_above      96.505475\n",
       "12          total_sqft      49.402657\n",
       "11        yr_renovated      34.537373\n",
       "9        sqft_basement       2.306068\n",
       "13           price_is0       0.000000\n",
       "3             sqft_lot     -49.363365\n",
       "10            yr_built    -128.118554\n",
       "0             bedrooms   -2488.445012\n",
       "2757  bedrooms_squared   -2934.999847\n",
       "4               floors  -30401.011872"
      ]
     },
     "execution_count": 7,
     "metadata": {},
     "output_type": "execute_result"
    }
   ],
   "source": [
    "w_address_coefs = pd.read_csv(\"w_address_coefs.csv\")\n",
    "w_address_coefs.columns = [\"features\", \"coef\"]\n",
    "w_address_coefs_top = w_address_coefs.iloc[[0,1,2,3,4,5,6,7,8,9,10,11,12,13,14, 2757], :]\n",
    "w_address_coefs_top.sort_values(by=[\"coef\"], ascending=False)"
   ]
  },
  {
   "cell_type": "markdown",
   "metadata": {},
   "source": [
    "The coefficient of a term represents the change in the mean response for one unit of change in that term. If the coefficient is positive, as the term increases, the mean value of the response increases. If the coefficient is negative, as the term increases, the mean value of the response decreases. So for example we see that the coefficient of `sqft_living` is 98.8. This means that for every 1 sqft increase on a house, the price would increase by \\\\$99.\n",
    "\n",
    "I was surprised to see `bedrooms` have a negative coeficient, since my assumption was that when the number of bedrooms increase, so does the price. However, we saw previously with a `bedrooms` and `price` scatterplot that price increases with number of bedrooms only for homes with up to 5 bedrooms. The price then starts to decrease for homes with 6 bedrooms or more.  \n",
    "Notice also `bedrooms_squared` has a positive coeficient. This feature is `bedrooms` with a parabolic transformation. Since this feature has adjusted for `bedrooms` shape, it makes sense that it is positive.\n",
    "\n",
    "Notice also that `floors` has a negative coefficient. \n",
    "\n",
    "Not only is the coefficient of `sqft_lot` negative, but it's also a small number, indicating that its affect on  price is miniscule."
   ]
  },
  {
   "cell_type": "markdown",
   "metadata": {},
   "source": [
    "Below I will be printing out the most significant positive and negative coefficients."
   ]
  },
  {
   "cell_type": "code",
   "execution_count": 8,
   "metadata": {},
   "outputs": [
    {
     "data": {
      "text/html": [
       "<div>\n",
       "<style scoped>\n",
       "    .dataframe tbody tr th:only-of-type {\n",
       "        vertical-align: middle;\n",
       "    }\n",
       "\n",
       "    .dataframe tbody tr th {\n",
       "        vertical-align: top;\n",
       "    }\n",
       "\n",
       "    .dataframe thead th {\n",
       "        text-align: right;\n",
       "    }\n",
       "</style>\n",
       "<table border=\"1\" class=\"dataframe\">\n",
       "  <thead>\n",
       "    <tr style=\"text-align: right;\">\n",
       "      <th></th>\n",
       "      <th>features</th>\n",
       "      <th>coef</th>\n",
       "    </tr>\n",
       "  </thead>\n",
       "  <tbody>\n",
       "    <tr>\n",
       "      <th>2210</th>\n",
       "      <td>street_name_se 22nd st</td>\n",
       "      <td>-7.320518e+05</td>\n",
       "    </tr>\n",
       "    <tr>\n",
       "      <th>406</th>\n",
       "      <td>street_name_175th pl ne</td>\n",
       "      <td>-5.197417e+05</td>\n",
       "    </tr>\n",
       "    <tr>\n",
       "      <th>1003</th>\n",
       "      <td>street_name_79th pl ne</td>\n",
       "      <td>-5.139810e+05</td>\n",
       "    </tr>\n",
       "    <tr>\n",
       "      <th>2476</th>\n",
       "      <td>street_name_shoreland dr s</td>\n",
       "      <td>-3.527485e+05</td>\n",
       "    </tr>\n",
       "    <tr>\n",
       "      <th>1719</th>\n",
       "      <td>street_name_ne 70th st</td>\n",
       "      <td>-3.048568e+05</td>\n",
       "    </tr>\n",
       "    <tr>\n",
       "      <th>...</th>\n",
       "      <td>...</td>\n",
       "      <td>...</td>\n",
       "    </tr>\n",
       "    <tr>\n",
       "      <th>985</th>\n",
       "      <td>street_name_6th st w</td>\n",
       "      <td>6.298176e+05</td>\n",
       "    </tr>\n",
       "    <tr>\n",
       "      <th>2685</th>\n",
       "      <td>street_name_warren ave n</td>\n",
       "      <td>6.581901e+05</td>\n",
       "    </tr>\n",
       "    <tr>\n",
       "      <th>1047</th>\n",
       "      <td>street_name_91st ave ne</td>\n",
       "      <td>7.860069e+05</td>\n",
       "    </tr>\n",
       "    <tr>\n",
       "      <th>1126</th>\n",
       "      <td>street_name_butterworth rd</td>\n",
       "      <td>8.000799e+05</td>\n",
       "    </tr>\n",
       "    <tr>\n",
       "      <th>1057</th>\n",
       "      <td>street_name_95th ave ne</td>\n",
       "      <td>1.796228e+06</td>\n",
       "    </tr>\n",
       "  </tbody>\n",
       "</table>\n",
       "<p>2758 rows × 2 columns</p>\n",
       "</div>"
      ],
      "text/plain": [
       "                        features          coef\n",
       "2210      street_name_se 22nd st -7.320518e+05\n",
       "406      street_name_175th pl ne -5.197417e+05\n",
       "1003      street_name_79th pl ne -5.139810e+05\n",
       "2476  street_name_shoreland dr s -3.527485e+05\n",
       "1719      street_name_ne 70th st -3.048568e+05\n",
       "...                          ...           ...\n",
       "985         street_name_6th st w  6.298176e+05\n",
       "2685    street_name_warren ave n  6.581901e+05\n",
       "1047     street_name_91st ave ne  7.860069e+05\n",
       "1126  street_name_butterworth rd  8.000799e+05\n",
       "1057     street_name_95th ave ne  1.796228e+06\n",
       "\n",
       "[2758 rows x 2 columns]"
      ]
     },
     "execution_count": 8,
     "metadata": {},
     "output_type": "execute_result"
    }
   ],
   "source": [
    "w_address_coefs.sort_values(by=[\"coef\"])"
   ]
  },
  {
   "cell_type": "markdown",
   "metadata": {},
   "source": [
    "By printing out the most significant positive and negative coefficients of the ridge regression, we see that they are all `street_address` features, which was alarming to me. So, I created a new dataframe with the exact same homes and features, except with `street_address` removed. I did this to have a better understanding of the coefficients of other features without the stree_address overshadowing them."
   ]
  },
  {
   "cell_type": "markdown",
   "metadata": {},
   "source": [
    "#### Accuracy Score Table -- models exclude home addresses"
   ]
  },
  {
   "cell_type": "code",
   "execution_count": 9,
   "metadata": {
    "scrolled": false
   },
   "outputs": [
    {
     "data": {
      "text/html": [
       "<div>\n",
       "<style scoped>\n",
       "    .dataframe tbody tr th:only-of-type {\n",
       "        vertical-align: middle;\n",
       "    }\n",
       "\n",
       "    .dataframe tbody tr th {\n",
       "        vertical-align: top;\n",
       "    }\n",
       "\n",
       "    .dataframe thead th {\n",
       "        text-align: right;\n",
       "    }\n",
       "</style>\n",
       "<table border=\"1\" class=\"dataframe\">\n",
       "  <thead>\n",
       "    <tr style=\"text-align: right;\">\n",
       "      <th></th>\n",
       "      <th>models</th>\n",
       "      <th>test_score</th>\n",
       "      <th>train_score</th>\n",
       "      <th>test_error</th>\n",
       "      <th>train_error</th>\n",
       "      <th>price outs removed</th>\n",
       "      <th>description</th>\n",
       "      <th>features</th>\n",
       "    </tr>\n",
       "  </thead>\n",
       "  <tbody>\n",
       "    <tr>\n",
       "      <th>14</th>\n",
       "      <td>RidgeRegression</td>\n",
       "      <td>0.770</td>\n",
       "      <td>0.766</td>\n",
       "      <td>3722.0</td>\n",
       "      <td>0.0</td>\n",
       "      <td>yes</td>\n",
       "      <td>df2 zero prices removed</td>\n",
       "      <td>all except price, date, year, street, city, state</td>\n",
       "    </tr>\n",
       "    <tr>\n",
       "      <th>10</th>\n",
       "      <td>RidgeRegression</td>\n",
       "      <td>0.770</td>\n",
       "      <td>0.766</td>\n",
       "      <td>3722.0</td>\n",
       "      <td>0.0</td>\n",
       "      <td>yes</td>\n",
       "      <td>zero prices removed</td>\n",
       "      <td>all except price, date, year, street, city, state</td>\n",
       "    </tr>\n",
       "    <tr>\n",
       "      <th>11</th>\n",
       "      <td>RidgeRegression</td>\n",
       "      <td>0.770</td>\n",
       "      <td>0.767</td>\n",
       "      <td>3794.0</td>\n",
       "      <td>0.0</td>\n",
       "      <td>yes</td>\n",
       "      <td>parabolic transformation</td>\n",
       "      <td>all except price, date, year, street, city, state</td>\n",
       "    </tr>\n",
       "    <tr>\n",
       "      <th>15</th>\n",
       "      <td>RidgeRegression</td>\n",
       "      <td>0.770</td>\n",
       "      <td>0.767</td>\n",
       "      <td>3794.0</td>\n",
       "      <td>0.0</td>\n",
       "      <td>yes</td>\n",
       "      <td>df2 parabolic transformation</td>\n",
       "      <td>all except price, date, year, street, city, state</td>\n",
       "    </tr>\n",
       "    <tr>\n",
       "      <th>2</th>\n",
       "      <td>LinearRegression</td>\n",
       "      <td>0.763</td>\n",
       "      <td>0.767</td>\n",
       "      <td>2885.0</td>\n",
       "      <td>0.0</td>\n",
       "      <td>yes</td>\n",
       "      <td>zero prices removed</td>\n",
       "      <td>all except price, date, year, street, city, state</td>\n",
       "    </tr>\n",
       "    <tr>\n",
       "      <th>6</th>\n",
       "      <td>LinearRegression</td>\n",
       "      <td>0.763</td>\n",
       "      <td>0.767</td>\n",
       "      <td>2885.0</td>\n",
       "      <td>0.0</td>\n",
       "      <td>yes</td>\n",
       "      <td>df2 zero prices removed</td>\n",
       "      <td>all except price, date, year, street, city, state</td>\n",
       "    </tr>\n",
       "    <tr>\n",
       "      <th>17</th>\n",
       "      <td>RandomForest</td>\n",
       "      <td>0.723</td>\n",
       "      <td>0.952</td>\n",
       "      <td>6239.0</td>\n",
       "      <td>263.0</td>\n",
       "      <td>yes</td>\n",
       "      <td>no transformations</td>\n",
       "      <td>all except price, date, year, street, city, state</td>\n",
       "    </tr>\n",
       "    <tr>\n",
       "      <th>21</th>\n",
       "      <td>RandomForest</td>\n",
       "      <td>0.719</td>\n",
       "      <td>0.952</td>\n",
       "      <td>5772.0</td>\n",
       "      <td>215.0</td>\n",
       "      <td>yes</td>\n",
       "      <td>df2 no transformations</td>\n",
       "      <td>all except price, date, year, street, city, state</td>\n",
       "    </tr>\n",
       "    <tr>\n",
       "      <th>19</th>\n",
       "      <td>RandomForest</td>\n",
       "      <td>0.713</td>\n",
       "      <td>0.954</td>\n",
       "      <td>6443.0</td>\n",
       "      <td>1241.0</td>\n",
       "      <td>yes</td>\n",
       "      <td>parabolic transformation</td>\n",
       "      <td>all except price, date, year, street, city, state</td>\n",
       "    </tr>\n",
       "    <tr>\n",
       "      <th>23</th>\n",
       "      <td>RandomForest</td>\n",
       "      <td>0.710</td>\n",
       "      <td>0.958</td>\n",
       "      <td>5995.0</td>\n",
       "      <td>779.0</td>\n",
       "      <td>yes</td>\n",
       "      <td>df2 parabolic transformation</td>\n",
       "      <td>all except price, date, year, street, city, state</td>\n",
       "    </tr>\n",
       "    <tr>\n",
       "      <th>9</th>\n",
       "      <td>RidgeRegression</td>\n",
       "      <td>0.709</td>\n",
       "      <td>0.767</td>\n",
       "      <td>6163.0</td>\n",
       "      <td>0.0</td>\n",
       "      <td>yes</td>\n",
       "      <td>no transformations</td>\n",
       "      <td>all except price, date, year, street, city, state</td>\n",
       "    </tr>\n",
       "    <tr>\n",
       "      <th>13</th>\n",
       "      <td>RidgeRegression</td>\n",
       "      <td>0.709</td>\n",
       "      <td>0.767</td>\n",
       "      <td>6163.0</td>\n",
       "      <td>0.0</td>\n",
       "      <td>yes</td>\n",
       "      <td>df2 no transformations</td>\n",
       "      <td>all except price, date, year, street, city, state</td>\n",
       "    </tr>\n",
       "    <tr>\n",
       "      <th>22</th>\n",
       "      <td>RandomForest</td>\n",
       "      <td>0.699</td>\n",
       "      <td>0.956</td>\n",
       "      <td>5389.0</td>\n",
       "      <td>773.0</td>\n",
       "      <td>yes</td>\n",
       "      <td>df2 zero prices removed</td>\n",
       "      <td>all except price, date, year, street, city, state</td>\n",
       "    </tr>\n",
       "    <tr>\n",
       "      <th>18</th>\n",
       "      <td>RandomForest</td>\n",
       "      <td>0.699</td>\n",
       "      <td>0.954</td>\n",
       "      <td>5892.0</td>\n",
       "      <td>1234.0</td>\n",
       "      <td>yes</td>\n",
       "      <td>zero prices removed</td>\n",
       "      <td>all except price, date, year, street, city, state</td>\n",
       "    </tr>\n",
       "    <tr>\n",
       "      <th>12</th>\n",
       "      <td>RidgeRegression</td>\n",
       "      <td>0.133</td>\n",
       "      <td>0.586</td>\n",
       "      <td>11531.0</td>\n",
       "      <td>0.0</td>\n",
       "      <td>no</td>\n",
       "      <td>df2 no transformations</td>\n",
       "      <td>all except price, date, year, street, city, state</td>\n",
       "    </tr>\n",
       "  </tbody>\n",
       "</table>\n",
       "</div>"
      ],
      "text/plain": [
       "              models  test_score  train_score  test_error  train_error  \\\n",
       "14   RidgeRegression       0.770        0.766      3722.0          0.0   \n",
       "10   RidgeRegression       0.770        0.766      3722.0          0.0   \n",
       "11   RidgeRegression       0.770        0.767      3794.0          0.0   \n",
       "15   RidgeRegression       0.770        0.767      3794.0          0.0   \n",
       "2   LinearRegression       0.763        0.767      2885.0          0.0   \n",
       "6   LinearRegression       0.763        0.767      2885.0          0.0   \n",
       "17      RandomForest       0.723        0.952      6239.0        263.0   \n",
       "21      RandomForest       0.719        0.952      5772.0        215.0   \n",
       "19      RandomForest       0.713        0.954      6443.0       1241.0   \n",
       "23      RandomForest       0.710        0.958      5995.0        779.0   \n",
       "9    RidgeRegression       0.709        0.767      6163.0          0.0   \n",
       "13   RidgeRegression       0.709        0.767      6163.0          0.0   \n",
       "22      RandomForest       0.699        0.956      5389.0        773.0   \n",
       "18      RandomForest       0.699        0.954      5892.0       1234.0   \n",
       "12   RidgeRegression       0.133        0.586     11531.0          0.0   \n",
       "\n",
       "   price outs removed                   description  \\\n",
       "14                yes       df2 zero prices removed   \n",
       "10                yes           zero prices removed   \n",
       "11                yes      parabolic transformation   \n",
       "15                yes  df2 parabolic transformation   \n",
       "2                 yes           zero prices removed   \n",
       "6                 yes       df2 zero prices removed   \n",
       "17                yes            no transformations   \n",
       "21                yes        df2 no transformations   \n",
       "19                yes      parabolic transformation   \n",
       "23                yes  df2 parabolic transformation   \n",
       "9                 yes            no transformations   \n",
       "13                yes        df2 no transformations   \n",
       "22                yes       df2 zero prices removed   \n",
       "18                yes           zero prices removed   \n",
       "12                 no        df2 no transformations   \n",
       "\n",
       "                                             features  \n",
       "14  all except price, date, year, street, city, state  \n",
       "10  all except price, date, year, street, city, state  \n",
       "11  all except price, date, year, street, city, state  \n",
       "15  all except price, date, year, street, city, state  \n",
       "2   all except price, date, year, street, city, state  \n",
       "6   all except price, date, year, street, city, state  \n",
       "17  all except price, date, year, street, city, state  \n",
       "21  all except price, date, year, street, city, state  \n",
       "19  all except price, date, year, street, city, state  \n",
       "23  all except price, date, year, street, city, state  \n",
       "9   all except price, date, year, street, city, state  \n",
       "13  all except price, date, year, street, city, state  \n",
       "22  all except price, date, year, street, city, state  \n",
       "18  all except price, date, year, street, city, state  \n",
       "12  all except price, date, year, street, city, state  "
      ]
     },
     "execution_count": 9,
     "metadata": {},
     "output_type": "execute_result"
    }
   ],
   "source": [
    "# without_address table\n",
    "wo_address = pd.read_csv(\"without_address.csv\")\n",
    "wo_address.sort_values(\"test_score\", ascending=False).head(15)"
   ]
  },
  {
   "cell_type": "markdown",
   "metadata": {},
   "source": [
    "When building the above models, the `street_address` feature was excluded. We can see that the Ridge Regression models performed best in both cases where addresses were included and excluded. We can also see that the models excluding street addresses performed better than those including them. Therefore, I used the best performing model in the above table to conduct my analyses. There are 4 ridge regression models with the same and best scores, 0.77. I will go with `df2` with a parabolic transformation on `bedrooms`.\n",
    "\n",
    "The hyperparameter of the ridge regression model `alpha` was chosen to be 1, same as before. The hyperparameters of the Random Forest model were chosen to be None and 100 for `max_depth` and `n_estimators` respectively."
   ]
  },
  {
   "cell_type": "markdown",
   "metadata": {},
   "source": [
    "**Analysing the coefficients**"
   ]
  },
  {
   "cell_type": "code",
   "execution_count": 10,
   "metadata": {
    "scrolled": true
   },
   "outputs": [
    {
     "data": {
      "text/html": [
       "<div>\n",
       "<style scoped>\n",
       "    .dataframe tbody tr th:only-of-type {\n",
       "        vertical-align: middle;\n",
       "    }\n",
       "\n",
       "    .dataframe tbody tr th {\n",
       "        vertical-align: top;\n",
       "    }\n",
       "\n",
       "    .dataframe thead th {\n",
       "        text-align: right;\n",
       "    }\n",
       "</style>\n",
       "<table border=\"1\" class=\"dataframe\">\n",
       "  <thead>\n",
       "    <tr style=\"text-align: right;\">\n",
       "      <th></th>\n",
       "      <th>features</th>\n",
       "      <th>coef</th>\n",
       "    </tr>\n",
       "  </thead>\n",
       "  <tbody>\n",
       "    <tr>\n",
       "      <th>5</th>\n",
       "      <td>waterfront</td>\n",
       "      <td>569225.065922</td>\n",
       "    </tr>\n",
       "    <tr>\n",
       "      <th>14</th>\n",
       "      <td>renov_date_is0</td>\n",
       "      <td>78167.889271</td>\n",
       "    </tr>\n",
       "    <tr>\n",
       "      <th>6</th>\n",
       "      <td>view</td>\n",
       "      <td>61242.096351</td>\n",
       "    </tr>\n",
       "    <tr>\n",
       "      <th>7</th>\n",
       "      <td>condition</td>\n",
       "      <td>30302.040770</td>\n",
       "    </tr>\n",
       "    <tr>\n",
       "      <th>1</th>\n",
       "      <td>bathrooms</td>\n",
       "      <td>23053.257624</td>\n",
       "    </tr>\n",
       "    <tr>\n",
       "      <th>2</th>\n",
       "      <td>sqft_living</td>\n",
       "      <td>102.006751</td>\n",
       "    </tr>\n",
       "    <tr>\n",
       "      <th>8</th>\n",
       "      <td>sqft_above</td>\n",
       "      <td>99.737997</td>\n",
       "    </tr>\n",
       "    <tr>\n",
       "      <th>12</th>\n",
       "      <td>total_sqft</td>\n",
       "      <td>51.015755</td>\n",
       "    </tr>\n",
       "    <tr>\n",
       "      <th>11</th>\n",
       "      <td>yr_renovated</td>\n",
       "      <td>45.457712</td>\n",
       "    </tr>\n",
       "    <tr>\n",
       "      <th>9</th>\n",
       "      <td>sqft_basement</td>\n",
       "      <td>2.268826</td>\n",
       "    </tr>\n",
       "    <tr>\n",
       "      <th>13</th>\n",
       "      <td>price_is0</td>\n",
       "      <td>0.000000</td>\n",
       "    </tr>\n",
       "    <tr>\n",
       "      <th>3</th>\n",
       "      <td>sqft_lot</td>\n",
       "      <td>-51.041271</td>\n",
       "    </tr>\n",
       "    <tr>\n",
       "      <th>10</th>\n",
       "      <td>yr_built</td>\n",
       "      <td>-151.321168</td>\n",
       "    </tr>\n",
       "    <tr>\n",
       "      <th>139</th>\n",
       "      <td>bedrooms_squared</td>\n",
       "      <td>-2449.735836</td>\n",
       "    </tr>\n",
       "    <tr>\n",
       "      <th>0</th>\n",
       "      <td>bedrooms</td>\n",
       "      <td>-9451.150206</td>\n",
       "    </tr>\n",
       "    <tr>\n",
       "      <th>4</th>\n",
       "      <td>floors</td>\n",
       "      <td>-38056.774288</td>\n",
       "    </tr>\n",
       "  </tbody>\n",
       "</table>\n",
       "</div>"
      ],
      "text/plain": [
       "             features           coef\n",
       "5          waterfront  569225.065922\n",
       "14     renov_date_is0   78167.889271\n",
       "6                view   61242.096351\n",
       "7           condition   30302.040770\n",
       "1           bathrooms   23053.257624\n",
       "2         sqft_living     102.006751\n",
       "8          sqft_above      99.737997\n",
       "12         total_sqft      51.015755\n",
       "11       yr_renovated      45.457712\n",
       "9       sqft_basement       2.268826\n",
       "13          price_is0       0.000000\n",
       "3            sqft_lot     -51.041271\n",
       "10           yr_built    -151.321168\n",
       "139  bedrooms_squared   -2449.735836\n",
       "0            bedrooms   -9451.150206\n",
       "4              floors  -38056.774288"
      ]
     },
     "execution_count": 10,
     "metadata": {},
     "output_type": "execute_result"
    }
   ],
   "source": [
    "# without_address coefs\n",
    "wo_address_coefs = pd.read_csv(\"wo_address_coefs.csv\")\n",
    "wo_address_coefs.columns = [\"features\", \"coef\"]\n",
    "wo_address_coefs = wo_address_coefs.iloc[[0,1,2,3,4,5,6,7,8,9,10,11,12,13,14, 139], :]\n",
    "wo_address_coefs.sort_values(by=[\"coef\"], ascending=False)"
   ]
  },
  {
   "cell_type": "markdown",
   "metadata": {},
   "source": [
    "**In-depth Analysis**\n",
    "\n",
    "The following analysis is based on my 95% confidence that the error in the home price predictions is between -\\\\$7,444 and \\\\$7,444:\n",
    "\n",
    "If I've predicted a house to be $\\$$200,000 and someone were to buy the house at that price, the worst loss would be \\\\$7,444 and the highest gain would be \\\\$7,444. That is, the least the house would actually be worth is \\\\$192,556 (200,000-7,444), and the most the house would be worth is \\\\$207,444 (200,000+7,444).\n",
    "\n",
    "Let's say my boss wants to buy a house at below my estimate in the hopes of flipping it, i.e., selling the house at around double the price at which he acquired it. With a house that I have estimated to be \\\\$200,000, if he purchases it at \\\\$100,000 for example, 3 things can happen:\n",
    "\n",
    "1. My estimation is correct and he would make a profit of \\\\$100,000 by selling it for \\\\$200,000.  \n",
    "2. The house is actually worth \\\\$192,556 and he ends up making a profit of \\\\$92,556.  \n",
    "3. The house is actually worth \\\\$207,444 and he ends up buying \\\\$107,000 below the house value, resulting in a 207\\%  profit if he were to sell it for \\\\$207,444.\n",
    "\n",
    "**What happens if my boss purchases 100 homes at my predicted price?**\n",
    "\n",
    "If my boss was to buy 100 homes at my predicted price and sell them at their true price, I can be 95\\% confident that the most she would lose is \\\\$33,040 and the most she would gain is \\\\$40,089.\n",
    "\n",
    "**What happens if my boss purchases 100 homes \\\\$1000 below my predicted prices?**\n",
    "\n",
    "If my boss was to buy 100 homes at \\\\$1000 less than my predicted price and sell them at their true price, I can be 95% confident that the most she would lose is \\\\$32,531 and the most she would gain is \\\\$41,209 95% of the time.\n",
    "\n",
    "So if she purchases 100 homes at $1000 below my predicted price, the most she would gain increases by \\\\$1,120, and the most she would lose decreases by \\\\$509.\n",
    "This is clearly a better option, and since finding homes that are selling \\\\$1000 below their true value is practical, I would recommend this plan to my boss."
   ]
  },
  {
   "cell_type": "markdown",
   "metadata": {},
   "source": [
    "Below are histograms of both the distribution of purchasing 100 homes at my predicted prices, and purchasing 100 homes at $1000 less than my predicted prices."
   ]
  },
  {
   "cell_type": "code",
   "execution_count": 11,
   "metadata": {
    "scrolled": false
   },
   "outputs": [
    {
     "data": {
      "image/png": "[encoded data removed]",
      "text/plain": [
       "<Figure size 432x288 with 1 Axes>"
      ]
     },
     "metadata": {
      "needs_background": "light"
     },
     "output_type": "display_data"
    }
   ],
   "source": [
    "# purchasing 100 homes at predicted price\n",
    "img=mpimg.imread(\"hist_100_homes.png\")\n",
    "imgplot = plt.imshow(img)\n",
    "plt.show()"
   ]
  },
  {
   "cell_type": "code",
   "execution_count": 12,
   "metadata": {},
   "outputs": [
    {
     "data": {
      "image/png": "[encoded data removed]",
      "text/plain": [
       "<Figure size 432x288 with 1 Axes>"
      ]
     },
     "metadata": {
      "needs_background": "light"
     },
     "output_type": "display_data"
    }
   ],
   "source": [
    "# purchasing 100 homes at $1000 less than predicted price\n",
    "img=mpimg.imread(\"hist_1000_homes.png\")\n",
    "imgplot = plt.imshow(img)\n",
    "plt.show()"
   ]
  },
  {
   "cell_type": "markdown",
   "metadata": {},
   "source": [
    "Both histograms show that their mode is shifted to the positive, which means we're in profit. I conducted this experiment a few more times to make sure the shape is real."
   ]
  },
  {
   "cell_type": "markdown",
   "metadata": {},
   "source": [
    "**Other experiments:**\n",
    "* experiments with other models\n",
    "* experiemnts with predicted prices reduced by \\\\$5,000, \\\\$10,000, \\\\$50,000\n",
    "\n",
    "When running experiments using my other models, the ridge regression model resulted in the most profit, which was expected since the model had the least error in its prediction.\n",
    "\n",
    "I ran experiments with \\\\$5,000, \\\\$10,000, \\\\$50,000 deducted from the predicted prices. \n",
    "This means that my boss would purchase 100 homes with \\\\$5,000, \\\\$10,000, and \\\\$50,000 below my predicted prices. \n",
    "The result was that these 3 experiments produced better profits than the scenario where my boss would purchase homes at \\\\$1000 less than my predicted prices. However, finding 100 houses at those reduced prices would be difficult. Therefore, I would reccomend focusing on finding homes with the \\\\$1000 reductions."
   ]
  },
  {
   "cell_type": "markdown",
   "metadata": {},
   "source": [
    "## Model Limitations"
   ]
  },
  {
   "cell_type": "markdown",
   "metadata": {},
   "source": [
    "Linear regression: assumes a straight line relationship between the features and target variable. Though many of my features have a linear relationship with price, there are some which do not. House prices do increase as square footage and number of bedrooms increase, but once the square footage reaches a certain point, and once the houses get up to 6 bedrooms, the house prices start to decrease. Also, there aren't many houses with over 6 bedrooms, so the decrease in average price for houses with over 6 bedrooms could be due to lack of sufficient data.\n",
    "\n",
    "Ridge regression: same as linear regression in that it assumes a linear relationship between the feature and target variables. \n",
    "\n",
    "Random forest regression:\n",
    "Random Forest can’t extrapolate. It can only make a prediction that is an average of previously observed labels. Therefore, the range of predictions a Random Forest can make is bound by the highest and lowest labels in the training data."
   ]
  },
  {
   "cell_type": "markdown",
   "metadata": {},
   "source": [
    "## Conclusion"
   ]
  },
  {
   "cell_type": "markdown",
   "metadata": {},
   "source": [
    "Out of all the models, ridge regression yielded the best prediction accuracy of around 77%, with linear regression following with 76.3%, and Random Forest coming in third with 72.3% accuracy score. One explanation of the ridge regression's performance and also linear regression's is the data having many features that are linearly correlated to the target variable `price`. Though random forest did not perform as well as ridge and linear regression, it still managed to perform well due to its bagging technique where it takes bootstrap aggregates of decision tree models, minimizing  bias and variance in the model and resulting in a more accurate and universal model than decision tree modeling for example.\n",
    "\n",
    "**Recommendations:**\n",
    "Based on the coefficients I would focus on improving the condition of the homes and if possible, adding a bathroom to see a better return on the investment when trying to sell homes. `watefront` and `view` have significant effect on price, however they are not something that could simply be added to an existing home. Improving on `condition` and `bathroom` however is doable. As we've seen above, with each increase in the condition of the home, the price goes up by \\\\$30,302 and with each increase in the number of bathrooms, the price increases by \\\\$23,053. "
   ]
  },
  {
   "cell_type": "markdown",
   "metadata": {},
   "source": [
    "## Next Steps"
   ]
  },
  {
   "cell_type": "markdown",
   "metadata": {},
   "source": [
    "To improve the prediction accuracy of my model I will do the following:\n",
    "* Scrape Washington state data such as city population, salary, and schools and include them as features to gain more insight\n",
    "* Transform more features when modeling"
   ]
  },
  {
   "cell_type": "markdown",
   "metadata": {},
   "source": [
    "## Code"
   ]
  },
  {
   "cell_type": "markdown",
   "metadata": {},
   "source": [
    "## Data Preparation"
   ]
  },
  {
   "cell_type": "code",
   "execution_count": 13,
   "metadata": {},
   "outputs": [],
   "source": [
    "# import necessary modules/libraries\n",
    "\n",
    "import numpy as  np\n",
    "import pandas as pd\n",
    "\n",
    "import matplotlib\n",
    "import matplotlib.pyplot as plt\n",
    "import seaborn as sns\n",
    "\n",
    "from scipy import stats\n",
    "from scipy.stats import pearsonr\n",
    "\n",
    "from matplotlib import rcParams\n",
    "sns.set_style(\"whitegrid\")\n",
    "sns.set_context(\"talk\", font_scale=0.7)\n",
    "sns.set_palette(\"Greens_r\")\n",
    "#set_palette(\"Set1\", 8, .75) # makes plot lines red\n",
    "\n",
    "# Ignore  the warnings\n",
    "import warnings\n",
    "warnings.filterwarnings(\"always\")\n",
    "warnings.filterwarnings(\"ignore\")\n",
    "\n",
    "from sklearn.preprocessing import Imputer # to impute missing data\n",
    "\n",
    "from sklearn.preprocessing import StandardScaler\n",
    "from sklearn.preprocessing import MinMaxScaler\n",
    "\n",
    "import sklearn\n",
    "from sklearn.linear_model import LinearRegression\n",
    "from sklearn.ensemble import RandomForestRegressor\n",
    "from sklearn.linear_model import Lasso\n",
    "from sklearn.linear_model import Ridge\n",
    "from sklearn.model_selection import train_test_split\n",
    "from sklearn.model_selection import cross_validate\n",
    "from sklearn.model_selection import cross_val_score\n",
    "from sklearn.model_selection import GridSearchCV\n",
    "from sklearn.metrics import mean_squared_error\n",
    "\n",
    "%matplotlib inline"
   ]
  },
  {
   "cell_type": "markdown",
   "metadata": {},
   "source": [
    "## Feature Engineering"
   ]
  },
  {
   "cell_type": "code",
   "execution_count": 14,
   "metadata": {},
   "outputs": [],
   "source": [
    "df = pd.read_csv(\"house_price_prediction.csv\") # read the data\n",
    "\n",
    "df[\"date\"] = pd.to_datetime(df['date']) # change date col to datetime\n",
    "df[\"month\"] = df['date'].dt.month # creating month feature\n",
    "df[\"year\"] = df['date'].dt.year  # all 2014 so can drop\n",
    "df[[\"waterfront\", \"condition\"]] = df[[\"waterfront\", \"condition\"]].astype(\"category\") # change data types to categorical\n",
    "df[\"state\"] = df['statezip'].apply(lambda x: x.split(' ')[0]) # split statezip into state & zipcode\n",
    "df[\"zipcode\"] = df['statezip'].apply(lambda x: int(x.split(' ')[1]))\n",
    "df[\"total_sqft\"] = df.sqft_living + df.sqft_lot # creating total_sqft feature: sqft_above + sqft_lot\n",
    "#df[\"street_name\"] = df['street'].str.strip().str.lstrip('-0123456789').str.strip().str.lower()\n",
    "df[\"price_is0\"] = df['price'] <= 0 # create column of boolean arrays with 1 for price == $0 & 0 for price != $0\n",
    "df[\"renov_date_is0\"] = df['yr_renovated'] <= 0 # create column of boolean arrays with 1 for yr_renov == 0 & 0 for others\n",
    "\n",
    "# replacing 0s with the mean bedroom & bathroom values\n",
    "df[\"bedrooms\"].replace({0: round(df[\"bedrooms\"].mean(), 0)}, inplace=True)\n",
    "df[\"bathrooms\"].replace({0: round(df[\"bathrooms\"].mean(), 0)}, inplace=True)"
   ]
  },
  {
   "cell_type": "code",
   "execution_count": 15,
   "metadata": {},
   "outputs": [],
   "source": [
    "# will apply get_dummies to month feature after conducting some statistical analysis such as ecdf plot\n",
    "df = pd.get_dummies(df, columns=[\"zipcode\", \"city\"])"
   ]
  },
  {
   "cell_type": "markdown",
   "metadata": {},
   "source": [
    "**Further feature engineering**"
   ]
  },
  {
   "cell_type": "code",
   "execution_count": 16,
   "metadata": {},
   "outputs": [],
   "source": [
    "df2 = df.copy()\n",
    "df2['yr_built_is0'] = df2['yr_built'] <= 0\n",
    "df2['renovation_age'] = df2['year'] - df2['yr_renovated']\n",
    "df2['house_age'] = df2['year'] - df2['yr_built']\n",
    "df2 = df2[df2['sqft_lot'] < 600000]"
   ]
  },
  {
   "cell_type": "code",
   "execution_count": 17,
   "metadata": {},
   "outputs": [],
   "source": [
    "for c in ['date', 'year', 'statezip', 'country', 'state', 'street']:\n",
    "    try:\n",
    "        del df[c], df2[c]\n",
    "    except KeyError:\n",
    "        pass"
   ]
  },
  {
   "cell_type": "code",
   "execution_count": 18,
   "metadata": {},
   "outputs": [],
   "source": [
    "df_no_outs = df[df.price < 10000000].copy() # df with price outliers removed\n",
    "df_no_zeros = df_no_outs[df_no_outs[\"price\"] != 0].copy() # df with $0 prices removed\n",
    "\n",
    "df2_no_outs = df[df.price < 10000000].copy() # df2 with price outliers removed\n",
    "df2_no_zeros = df_no_outs[df_no_outs[\"price\"] != 0].copy() # df2 with $0 prices removed"
   ]
  },
  {
   "cell_type": "markdown",
   "metadata": {},
   "source": [
    "## Statistical Data Analysis"
   ]
  },
  {
   "cell_type": "code",
   "execution_count": 19,
   "metadata": {},
   "outputs": [],
   "source": [
    "meanprice_bedrooms = df_no_zeros.groupby('bedrooms')['price'].mean()\n",
    "medianprice_bedrooms = df_no_zeros.groupby('bedrooms')['price'].median()\n",
    "\n",
    "meansqft_bedroom = df_no_zeros.groupby(\"bedrooms\")[\"sqft_living\"].mean()\n",
    "mediansqft_bedroom = df_no_zeros.groupby(\"bedrooms\")[\"sqft_living\"].median()\n",
    "\n",
    "may_price = df_no_zeros[df_no_zeros.month==5]['price']\n",
    "june_price = df_no_zeros[df_no_zeros.month==6]['price']\n",
    "july_price = df_no_zeros[df_no_zeros.month==7]['price']\n",
    "\n",
    "def ecdf(data):\n",
    "    \"\"\"Compute ECDF for a one-dimensional array of measurements.\"\"\"\n",
    "    n = len(data)\n",
    "\n",
    "    x = np.sort(data)\n",
    "\n",
    "    y = np.arange(1, n+1) / n\n",
    "\n",
    "    return x, y\n",
    "\n",
    "# Compute ECDFs\n",
    "x_5, y_5 = ecdf(may_price)\n",
    "x_6, y_6 = ecdf(june_price)\n",
    "x_7, y_7 = ecdf(july_price)"
   ]
  },
  {
   "cell_type": "code",
   "execution_count": 20,
   "metadata": {},
   "outputs": [],
   "source": [
    "# apply get_dummies to month feature in all the dataframes\n",
    "df = pd.get_dummies(df, columns=['month'])\n",
    "df_no_outs = pd.get_dummies(df_no_outs, columns=['month'])\n",
    "df_no_zeros = pd.get_dummies(df_no_zeros, columns=['month'])\n",
    "df2 = pd.get_dummies(df2, columns=['month'])\n",
    "df2_no_outs = pd.get_dummies(df2_no_outs, columns=['month'])\n",
    "df2_no_zeros = pd.get_dummies(df2_no_zeros, columns=['month'])"
   ]
  },
  {
   "cell_type": "markdown",
   "metadata": {},
   "source": [
    "### Feature Importance"
   ]
  },
  {
   "cell_type": "code",
   "execution_count": 21,
   "metadata": {},
   "outputs": [],
   "source": [
    "from sklearn.feature_selection import f_regression\n",
    "from sklearn.feature_selection import SelectKBest\n",
    "\n",
    "def feature_importance(X, y, model='reg'):\n",
    "    score_func = {'reg': f_regression}\n",
    "\n",
    "    # Score each of the features\n",
    "    bestfeatures = SelectKBest(score_func=score_func[model], k='all')\n",
    "    fit = bestfeatures.fit(X, y)\n",
    "\n",
    "    # Organize and return the scores\n",
    "    featureScores = pd.DataFrame([X.columns, fit.scores_]).T\n",
    "    featureScores.columns = ['Feature', 'Score']\n",
    "    return featureScores.sort_values('Score', ascending=False).set_index('Feature')"
   ]
  },
  {
   "cell_type": "markdown",
   "metadata": {},
   "source": [
    "talk about the important features.."
   ]
  },
  {
   "cell_type": "markdown",
   "metadata": {},
   "source": [
    "### Hypothesis Test I"
   ]
  },
  {
   "cell_type": "markdown",
   "metadata": {},
   "source": [
    "**Ho**: Prices of houses with many bedrooms and a few bedrooms are equal.  \n",
    "**Ha**: Prices of houses with many bedrooms and a few bedrooms are different.\n",
    "\n",
    "t-test:\n",
    "I'll compare 2 groups: one with `bedrooms` greater than or equal to 4, and another with less than 4."
   ]
  },
  {
   "cell_type": "code",
   "execution_count": 22,
   "metadata": {},
   "outputs": [
    {
     "data": {
      "text/plain": [
       "Ttest_indResult(statistic=20.612406446603853, pvalue=2.3169170411918228e-90)"
      ]
     },
     "execution_count": 22,
     "metadata": {},
     "output_type": "execute_result"
    }
   ],
   "source": [
    "many_bedrooms = df_no_outs[df_no_outs['bedrooms'] >= 4]['price']\n",
    "few_bedrooms = df_no_outs[df_no_outs['bedrooms'] < 4]['price']\n",
    "stats.ttest_ind(many_bedrooms, few_bedrooms)"
   ]
  },
  {
   "cell_type": "markdown",
   "metadata": {},
   "source": [
    "#### Result\n",
    "**t-stat**: 20.6  \n",
    "**p-val**: 2.3e-90 < 0.05  \n",
    "We reject the null hypothesis that houses with many bedrooms are priced around the same as houses with fewer bedrooms."
   ]
  },
  {
   "cell_type": "markdown",
   "metadata": {},
   "source": [
    "### Hypothesis Test II"
   ]
  },
  {
   "cell_type": "markdown",
   "metadata": {},
   "source": [
    "**Ho**: Houses with waterfronts are priced the same as houses without waterfronts.  \n",
    "**Ha**: Houses with waterfronts are priced differently than houses without waterfronts."
   ]
  },
  {
   "cell_type": "code",
   "execution_count": 23,
   "metadata": {},
   "outputs": [
    {
     "data": {
      "text/plain": [
       "Ttest_indResult(statistic=14.441521571804724, pvalue=2.8817562762538972e-46)"
      ]
     },
     "execution_count": 23,
     "metadata": {},
     "output_type": "execute_result"
    }
   ],
   "source": [
    "waterfront = df_no_outs[df_no_outs['waterfront'] == 1]['price']\n",
    "no_waterfront = df_no_outs[df_no_outs['waterfront'] == 0]['price']\n",
    "stats.ttest_ind(waterfront, no_waterfront)"
   ]
  },
  {
   "cell_type": "markdown",
   "metadata": {},
   "source": [
    "#### Result\n",
    "**t-stat**: 14.4  \n",
    "**p-val**: 2.9e-46 < 0.05  \n",
    "We reject the null hypothesis that houses with waterfronts are priced the same as houses without waterfronts."
   ]
  },
  {
   "cell_type": "code",
   "execution_count": null,
   "metadata": {},
   "outputs": [],
   "source": []
  },
  {
   "cell_type": "markdown",
   "metadata": {},
   "source": [
    "# Data Modeling"
   ]
  },
  {
   "cell_type": "markdown",
   "metadata": {},
   "source": [
    "## Data Preprocessing"
   ]
  },
  {
   "cell_type": "code",
   "execution_count": 24,
   "metadata": {},
   "outputs": [],
   "source": [
    "# dataframe with both zero prices and outliers.\n",
    "X = df.drop(['price'], axis='columns')\n",
    "y = df[\"price\"]\n",
    "# splitting data into training and test data\n",
    "X_train, X_test, y_train, y_test = train_test_split(X, y, test_size = 0.3, random_state=42)\n",
    "\n",
    "# dataframe without price outliers\n",
    "X_no_outs = df_no_outs.drop(['price'], axis='columns')\n",
    "y_no_outs = df_no_outs[\"price\"]\n",
    "X_train_no_outs, X_test_no_outs, y_train_no_outs, y_test_no_outs = train_test_split(X_no_outs, y_no_outs, test_size = 0.3, random_state=42)\n",
    "\n",
    "# dataframe without $0 price values\n",
    "X_no_zeros = df_no_zeros.drop(['price'], axis='columns')\n",
    "y_no_zeros = df_no_zeros[\"price\"]\n",
    "X_train_no_zeros, X_test_no_zeros, y_train_no_zeros, y_test_no_zeros = train_test_split(X_no_zeros, y_no_zeros, test_size = 0.3, random_state=42)\n",
    "\n",
    "# dataframe with a parabolic transformation on the `bedrooms` feature\n",
    "X_transformed = df_no_zeros.drop(['price'], axis='columns')\n",
    "X_transformed['bedrooms_squared'] = X['bedrooms']**2  # parabolic transformation of bedrooms\n",
    "y_transformed = df_no_zeros['price']\n",
    "X_train_transformed, X_test_transformed, y_train_transformed, y_test_transformed = train_test_split(X_transformed, y_transformed, test_size = 0.3, random_state=42)\n",
    "\n",
    "# dataframe with both zero prices and outliers.\n",
    "X2 = df2.drop(['price'], axis='columns')\n",
    "y2 = df2[\"price\"]\n",
    "X2_train, X2_test, y2_train, y2_test = train_test_split(X2, y2, test_size = 0.3, random_state=42)\n",
    "\n",
    "# dataframe without price outliers\n",
    "X2_no_outs = df2_no_outs.drop(['price'], axis='columns')\n",
    "y2_no_outs = df2_no_outs[\"price\"]\n",
    "X2_train_no_outs, X2_test_no_outs, y2_train_no_outs, y2_test_no_outs = train_test_split(X2_no_outs, y2_no_outs, test_size = 0.3, random_state=42)\n",
    "\n",
    "# dataframe without $0 price values\n",
    "X2_no_zeros = df2_no_zeros.drop(['price'], axis='columns')\n",
    "y2_no_zeros = df2_no_zeros[\"price\"]\n",
    "X2_train_no_zeros, X2_test_no_zeros, y2_train_no_zeros, y2_test_no_zeros = train_test_split(X2_no_zeros, y2_no_zeros, test_size = 0.3, random_state=42)\n",
    "\n",
    "# dataframe with a parabolic transformation on the `bedrooms` feature\n",
    "X2_transformed = df2_no_zeros.drop(['price'], axis='columns')\n",
    "X2_transformed['bedrooms_squared'] = X2_transformed['bedrooms']**2  # parabolic transformation of bedrooms\n",
    "y2_transformed = df2_no_zeros['price']\n",
    "X2_train_transformed, X2_test_transformed, y2_train_transformed, y2_test_transformed = train_test_split(X2_transformed, y2_transformed, test_size = 0.3, random_state=42)\n"
   ]
  },
  {
   "cell_type": "code",
   "execution_count": 25,
   "metadata": {},
   "outputs": [],
   "source": [
    "# 4 training sets and test sets\n",
    "# 3 algorithms\n",
    "\n",
    "train_test_sets = [\n",
    "    [X_train, X_test, y_train, y_test],\n",
    "    [X_train_no_outs, X_test_no_outs, y_train_no_outs, y_test_no_outs],\n",
    "    [X_train_no_zeros, X_test_no_zeros, y_train_no_zeros, y_test_no_zeros],\n",
    "    [X_train_transformed, X_test_transformed, y_train_transformed, y_test_transformed],\n",
    "    [X2_train, X2_test, y2_train, y2_test],\n",
    "    [X2_train_no_outs, X2_test_no_outs, y2_train_no_outs, y2_test_no_outs],\n",
    "    [X2_train_no_zeros, X2_test_no_zeros, y2_train_no_zeros, y2_test_no_zeros],\n",
    "    [X2_train_transformed, X2_test_transformed, y2_train_transformed, y2_test_transformed],\n",
    "]\n",
    "\n",
    "train_test_dicts = []\n",
    "for i, sets in enumerate(train_test_sets):\n",
    "    d = dict(zip('X_train X_test y_train_true y_test_true'.split(), sets))\n",
    "    train_test_dicts.append(d)\n",
    "\n",
    "algorithms = [LinearRegression, Ridge, RandomForestRegressor]\n",
    "names = ['linear regression', 'ridge regression ', 'random forest    ']"
   ]
  },
  {
   "cell_type": "code",
   "execution_count": 26,
   "metadata": {},
   "outputs": [],
   "source": [
    "def calc_rmse(y_true, y_pred):\n",
    "    rmse = np.sqrt(np.mean(y_true - y_pred)**2)\n",
    "    return rmse\n",
    "    \n",
    "def fit_and_score(X_train, y_train_true, X_test, y_test_true, model):\n",
    "    '''fits model and returns the RMSE for in-sample error and out-of-sample error, and their accuracy score'''\n",
    "    \n",
    "    model.fit(X_train, y_train_true)\n",
    "    y_train_pred = model.predict(X_train)\n",
    "    train_error = calc_rmse(y_true=y_train_true, y_pred=y_train_pred)\n",
    "    y_test_pred = model.predict(X_test)\n",
    "    test_error = calc_rmse(y_true=y_test_true, y_pred=y_test_pred)\n",
    "    #print(y_train_true.shape, y_train_pred.shape)\n",
    "    \n",
    "    train_score = model.score(X_train, y_train_true)\n",
    "    test_score = model.score(X_test, y_test_true)\n",
    "    \n",
    "    return train_error, test_error, train_score, test_score, y_train_pred, y_test_pred"
   ]
  },
  {
   "cell_type": "markdown",
   "metadata": {},
   "source": [
    "### Choosing alpha for Ridge Regression"
   ]
  },
  {
   "cell_type": "code",
   "execution_count": 27,
   "metadata": {},
   "outputs": [
    {
     "name": "stdout",
     "output_type": "stream",
     "text": [
      "\n",
      "alpha: 0.0001 | test_score: 0.09983422665322239 | test_error: 22200.886776303356 | test/train error: 92197122871153.1\n",
      "alpha: 0.001 | test_score: 0.09983492664182658 | test_error: 22200.63270283493 | test/train error: 286759855081499.4\n",
      "alpha: 0.01 | test_score: 0.09984200593350578 | test_error: 22198.096403357085 | test/train error: 207306569316460.8\n",
      "alpha: 0.1 | test_score: 0.09991265350147495 | test_error: 22174.527279184364 | test/train error: 134180336770119.7\n",
      "alpha: 1 | test_score: 0.10021567673714304 | test_error: 22106.88306805448 | test/train error: 124389423439354.8\n",
      "alpha: 10.0 | test_score: 0.09846731869192293 | test_error: 22852.351747572062 | test/train error: 107763475551575.7\n",
      "\n",
      "alpha: 0.0001 | test_score: 0.6972862735840444 | test_error: 6946.935521956818 | test/train error: 20650611526671.0\n",
      "alpha: 0.001 | test_score: 0.6973049698636189 | test_error: 6946.110477915631 | test/train error: 19216095914857.6\n",
      "alpha: 0.01 | test_score: 0.6974909284970491 | test_error: 6937.71995119763 | test/train error: 222864957589372.0\n",
      "alpha: 0.1 | test_score: 0.6992241206795387 | test_error: 6848.374227624639 | test/train error: 37279551974409.7\n",
      "alpha: 1 | test_score: 0.7086913880213312 | test_error: 6163.12407207526 | test/train error: 77951772823029.1\n",
      "alpha: 10.0 | test_score: 0.7227587453398702 | test_error: 3675.835199584554 | test/train error: 12394357392550.1\n",
      "\n",
      "alpha: 0.0001 | test_score: 0.7691514645149408 | test_error: 3670.176121677538 | test/train error: 296545370395969.4\n",
      "alpha: 0.001 | test_score: 0.7691524521233173 | test_error: 3670.554401871687 | test/train error: 118246117756657.5\n",
      "alpha: 0.01 | test_score: 0.7691626299311427 | test_error: 3674.0180245592155 | test/train error: 44492222835600.6\n",
      "alpha: 0.1 | test_score: 0.7692784215608605 | test_error: 3690.904361055661 | test/train error: 24467680425861.3\n",
      "alpha: 1 | test_score: 0.7699673825862483 | test_error: 3722.2888672278746 | test/train error: 14957160038202.1\n",
      "alpha: 10.0 | test_score: 0.7638932532256288 | test_error: 4367.084251515994 | test/train error: 37941960089336.0\n",
      "\n",
      "alpha: 0.0001 | test_score: 0.768676685597487 | test_error: 3748.6748829307485 | test/train error: 85904965739872.7\n",
      "alpha: 0.001 | test_score: 0.7686777964314156 | test_error: 3749.0368363355237 | test/train error: 22163077091423.9\n",
      "alpha: 0.01 | test_score: 0.7686891674441606 | test_error: 3752.343779128607 | test/train error: 13333496454729.2\n",
      "alpha: 0.1 | test_score: 0.76881441839191 | test_error: 3768.059107120372 | test/train error: 157761564424568.4\n",
      "alpha: 1 | test_score: 0.7695519281952928 | test_error: 3794.3959331793385 | test/train error: 13469798613382.0\n",
      "alpha: 10.0 | test_score: 0.7636504952362984 | test_error: 4427.1670461493495 | test/train error: 714363279811386.0\n",
      "\n",
      "alpha: 0.0001 | test_score: 0.13308675368407508 | test_error: 12023.814375850965 | test/train error: 146063371098368.5\n",
      "alpha: 0.001 | test_score: 0.13308694495892193 | test_error: 12021.971547447609 | test/train error: 52263310641966.2\n",
      "alpha: 0.01 | test_score: 0.13308878412574254 | test_error: 12004.621530901555 | test/train error: 6772176825600991.0\n",
      "alpha: 0.1 | test_score: 0.1331043975130769 | test_error: 11891.61230475719 | test/train error: 70252792721983.4\n",
      "alpha: 1 | test_score: 0.13304426519823898 | test_error: 11531.327559127129 | test/train error: 155111279155574.6\n",
      "alpha: 10.0 | test_score: 0.12979830819678895 | test_error: 10681.867122868005 | test/train error: 71459957748570.7\n",
      "\n",
      "alpha: 0.0001 | test_score: 0.6972862735840444 | test_error: 6946.935521956818 | test/train error: 20650611526671.0\n",
      "alpha: 0.001 | test_score: 0.6973049698636189 | test_error: 6946.110477915631 | test/train error: 19216095914857.6\n",
      "alpha: 0.01 | test_score: 0.6974909284970491 | test_error: 6937.71995119763 | test/train error: 222864957589372.0\n",
      "alpha: 0.1 | test_score: 0.6992241206795387 | test_error: 6848.374227624639 | test/train error: 37279551974409.7\n",
      "alpha: 1 | test_score: 0.7086913880213312 | test_error: 6163.12407207526 | test/train error: 77951772823029.1\n",
      "alpha: 10.0 | test_score: 0.7227587453398702 | test_error: 3675.835199584554 | test/train error: 12394357392550.1\n",
      "\n",
      "alpha: 0.0001 | test_score: 0.7691514645149408 | test_error: 3670.176121677538 | test/train error: 296545370395969.4\n",
      "alpha: 0.001 | test_score: 0.7691524521233173 | test_error: 3670.554401871687 | test/train error: 118246117756657.5\n",
      "alpha: 0.01 | test_score: 0.7691626299311427 | test_error: 3674.0180245592155 | test/train error: 44492222835600.6\n",
      "alpha: 0.1 | test_score: 0.7692784215608605 | test_error: 3690.904361055661 | test/train error: 24467680425861.3\n",
      "alpha: 1 | test_score: 0.7699673825862483 | test_error: 3722.2888672278746 | test/train error: 14957160038202.1\n",
      "alpha: 10.0 | test_score: 0.7638932532256288 | test_error: 4367.084251515994 | test/train error: 37941960089336.0\n",
      "\n",
      "alpha: 0.0001 | test_score: 0.768676685597487 | test_error: 3748.6748829307485 | test/train error: 85904965739872.7\n",
      "alpha: 0.001 | test_score: 0.7686777964314156 | test_error: 3749.0368363355237 | test/train error: 22163077091423.9\n",
      "alpha: 0.01 | test_score: 0.7686891674441606 | test_error: 3752.343779128607 | test/train error: 13333496454729.2\n",
      "alpha: 0.1 | test_score: 0.76881441839191 | test_error: 3768.059107120372 | test/train error: 157761564424568.4\n",
      "alpha: 1 | test_score: 0.7695519281952928 | test_error: 3794.3959331793385 | test/train error: 13469798613382.0\n",
      "alpha: 10.0 | test_score: 0.7636504952362984 | test_error: 4427.1670461493495 | test/train error: 714363279811386.0\n"
     ]
    }
   ],
   "source": [
    "alphas = [1e-4, 1e-3, 1e-2, 1e-1, 1, 1e1]\n",
    "\n",
    "for sets in train_test_dicts:\n",
    "    print('')\n",
    "    for alpha in alphas:\n",
    "        model = Ridge(alpha = alpha)\n",
    "        train_error, test_error, train_score, test_score, y_train_pred, y_test_pred = fit_and_score(model=model, **sets)\n",
    "        print('alpha: {} | test_score: {} | test_error: {} | test/train error: {}'.format(alpha, test_score, test_error, round(test_error/train_error, 1)))"
   ]
  },
  {
   "cell_type": "markdown",
   "metadata": {},
   "source": [
    "For all datasets, **alpha=1** produced the highest test score. Therefore I'll be using this value for my ridge regression models."
   ]
  },
  {
   "cell_type": "markdown",
   "metadata": {},
   "source": [
    "### Choosing parameters for Random Forest"
   ]
  },
  {
   "cell_type": "code",
   "execution_count": 28,
   "metadata": {},
   "outputs": [
    {
     "name": "stdout",
     "output_type": "stream",
     "text": [
      "\n",
      "max_depth: None | n_estimators: 1 | test_score: 0.022 | test_error: 4668.546 | test/train error: 18.4\n",
      "max_depth: None | n_estimators: 10 | test_score: 0.08 | test_error: 17982.099 | test/train error: 9.5\n",
      "max_depth: None | n_estimators: 100 | test_score: 0.091 | test_error: 23523.309 | test/train error: 42.6\n",
      "max_depth: None | n_estimators: 200 | test_score: 0.088 | test_error: 21242.062 | test/train error: 34.1\n",
      "max_depth: 10 | n_estimators: 1 | test_score: 0.015 | test_error: 18674.971 | test/train error: 6.1\n",
      "max_depth: 10 | n_estimators: 10 | test_score: 0.084 | test_error: 23048.029 | test/train error: 11.6\n",
      "max_depth: 10 | n_estimators: 100 | test_score: 0.086 | test_error: 22844.454 | test/train error: 40.0\n",
      "max_depth: 10 | n_estimators: 200 | test_score: 0.085 | test_error: 23213.604 | test/train error: 27.4\n",
      "max_depth: 100 | n_estimators: 1 | test_score: 0.041 | test_error: 25684.018 | test/train error: 10.2\n",
      "max_depth: 100 | n_estimators: 10 | test_score: 0.083 | test_error: 20334.002 | test/train error: 10.1\n",
      "max_depth: 100 | n_estimators: 100 | test_score: 0.089 | test_error: 22636.311 | test/train error: 191.2\n",
      "max_depth: 100 | n_estimators: 200 | test_score: 0.091 | test_error: 22479.855 | test/train error: 188.7\n",
      "\n",
      "max_depth: None | n_estimators: 1 | test_score: 0.27 | test_error: 17031.821 | test/train error: 9.7\n",
      "max_depth: None | n_estimators: 10 | test_score: 0.69 | test_error: 5657.107 | test/train error: 23.0\n",
      "max_depth: None | n_estimators: 100 | test_score: 0.721 | test_error: 5237.478 | test/train error: 13.0\n",
      "max_depth: None | n_estimators: 200 | test_score: 0.72 | test_error: 4429.188 | test/train error: 8.9\n",
      "max_depth: 10 | n_estimators: 1 | test_score: 0.461 | test_error: 4538.678 | test/train error: 691.8\n",
      "max_depth: 10 | n_estimators: 10 | test_score: 0.639 | test_error: 5709.886 | test/train error: 6.8\n",
      "max_depth: 10 | n_estimators: 100 | test_score: 0.686 | test_error: 3388.495 | test/train error: 3.7\n",
      "max_depth: 10 | n_estimators: 200 | test_score: 0.676 | test_error: 5246.853 | test/train error: 5.4\n",
      "max_depth: 100 | n_estimators: 1 | test_score: 0.39 | test_error: 1673.962 | test/train error: 0.9\n",
      "max_depth: 100 | n_estimators: 10 | test_score: 0.703 | test_error: 3606.059 | test/train error: 5.0\n",
      "max_depth: 100 | n_estimators: 100 | test_score: 0.724 | test_error: 4637.239 | test/train error: 8.2\n",
      "max_depth: 100 | n_estimators: 200 | test_score: 0.714 | test_error: 5300.847 | test/train error: 17.6\n",
      "\n",
      "max_depth: None | n_estimators: 1 | test_score: 0.496 | test_error: 5416.402 | test/train error: 4.4\n",
      "max_depth: None | n_estimators: 10 | test_score: 0.713 | test_error: 6290.107 | test/train error: 5.9\n",
      "max_depth: None | n_estimators: 100 | test_score: 0.704 | test_error: 4819.314 | test/train error: 8.5\n",
      "max_depth: None | n_estimators: 200 | test_score: 0.686 | test_error: 5981.446 | test/train error: 4.8\n",
      "max_depth: 10 | n_estimators: 1 | test_score: 0.301 | test_error: 13757.552 | test/train error: 4.8\n",
      "max_depth: 10 | n_estimators: 10 | test_score: 0.688 | test_error: 10147.521 | test/train error: 4.0\n",
      "max_depth: 10 | n_estimators: 100 | test_score: 0.682 | test_error: 7497.959 | test/train error: 5.0\n",
      "max_depth: 10 | n_estimators: 200 | test_score: 0.679 | test_error: 8423.361 | test/train error: 5.3\n",
      "max_depth: 100 | n_estimators: 1 | test_score: 0.3 | test_error: 7390.452 | test/train error: 6.7\n",
      "max_depth: 100 | n_estimators: 10 | test_score: 0.684 | test_error: 8872.073 | test/train error: 10.1\n",
      "max_depth: 100 | n_estimators: 100 | test_score: 0.71 | test_error: 5487.481 | test/train error: 6.1\n",
      "max_depth: 100 | n_estimators: 200 | test_score: 0.695 | test_error: 5178.354 | test/train error: 5.5\n",
      "\n",
      "max_depth: None | n_estimators: 1 | test_score: 0.451 | test_error: 192.982 | test/train error: 0.0\n",
      "max_depth: None | n_estimators: 10 | test_score: 0.683 | test_error: 6823.683 | test/train error: 3.7\n",
      "max_depth: None | n_estimators: 100 | test_score: 0.699 | test_error: 6459.586 | test/train error: 6.7\n",
      "max_depth: None | n_estimators: 200 | test_score: 0.709 | test_error: 6231.173 | test/train error: 4.4\n",
      "max_depth: 10 | n_estimators: 1 | test_score: 0.445 | test_error: 13223.617 | test/train error: 1349.3\n",
      "max_depth: 10 | n_estimators: 10 | test_score: 0.658 | test_error: 7983.171 | test/train error: 2.4\n",
      "max_depth: 10 | n_estimators: 100 | test_score: 0.675 | test_error: 7795.601 | test/train error: 5.7\n",
      "max_depth: 10 | n_estimators: 200 | test_score: 0.688 | test_error: 8245.345 | test/train error: 7.7\n",
      "max_depth: 100 | n_estimators: 1 | test_score: -0.119 | test_error: 8186.105 | test/train error: 10.4\n",
      "max_depth: 100 | n_estimators: 10 | test_score: 0.696 | test_error: 11333.759 | test/train error: 4.4\n",
      "max_depth: 100 | n_estimators: 100 | test_score: 0.703 | test_error: 5160.526 | test/train error: 7.9\n",
      "max_depth: 100 | n_estimators: 200 | test_score: 0.707 | test_error: 5615.292 | test/train error: 8.0\n",
      "\n",
      "max_depth: None | n_estimators: 1 | test_score: 0.053 | test_error: 12035.297 | test/train error: 2.5\n",
      "max_depth: None | n_estimators: 10 | test_score: 0.127 | test_error: 8458.032 | test/train error: 99.4\n",
      "max_depth: None | n_estimators: 100 | test_score: 0.118 | test_error: 8921.552 | test/train error: 85.6\n",
      "max_depth: None | n_estimators: 200 | test_score: 0.125 | test_error: 10987.566 | test/train error: 17.3\n",
      "max_depth: 10 | n_estimators: 1 | test_score: 0.094 | test_error: 14062.345 | test/train error: 2.1\n",
      "max_depth: 10 | n_estimators: 10 | test_score: 0.108 | test_error: 15502.572 | test/train error: 9.1\n",
      "max_depth: 10 | n_estimators: 100 | test_score: 0.112 | test_error: 11866.911 | test/train error: 22.6\n",
      "max_depth: 10 | n_estimators: 200 | test_score: 0.116 | test_error: 13274.106 | test/train error: 10.3\n",
      "max_depth: 100 | n_estimators: 1 | test_score: 0.058 | test_error: 14103.32 | test/train error: 3.6\n",
      "max_depth: 100 | n_estimators: 10 | test_score: 0.119 | test_error: 11693.228 | test/train error: 6.2\n",
      "max_depth: 100 | n_estimators: 100 | test_score: 0.119 | test_error: 8628.462 | test/train error: 33.9\n",
      "max_depth: 100 | n_estimators: 200 | test_score: 0.122 | test_error: 9761.073 | test/train error: 252.5\n",
      "\n",
      "max_depth: None | n_estimators: 1 | test_score: 0.328 | test_error: 12413.98 | test/train error: 4.1\n",
      "max_depth: None | n_estimators: 10 | test_score: 0.681 | test_error: 6263.814 | test/train error: 2.8\n",
      "max_depth: None | n_estimators: 100 | test_score: 0.713 | test_error: 6616.769 | test/train error: 30.0\n",
      "max_depth: None | n_estimators: 200 | test_score: 0.72 | test_error: 5963.863 | test/train error: 35.2\n",
      "max_depth: 10 | n_estimators: 1 | test_score: 0.371 | test_error: 17752.605 | test/train error: 3.4\n",
      "max_depth: 10 | n_estimators: 10 | test_score: 0.648 | test_error: 6557.793 | test/train error: 3.5\n",
      "max_depth: 10 | n_estimators: 100 | test_score: 0.684 | test_error: 4551.251 | test/train error: 5.7\n",
      "max_depth: 10 | n_estimators: 200 | test_score: 0.675 | test_error: 4490.095 | test/train error: 4.1\n",
      "max_depth: 100 | n_estimators: 1 | test_score: 0.338 | test_error: 6121.908 | test/train error: 1.0\n",
      "max_depth: 100 | n_estimators: 10 | test_score: 0.676 | test_error: 4471.036 | test/train error: 19.2\n",
      "max_depth: 100 | n_estimators: 100 | test_score: 0.71 | test_error: 5719.078 | test/train error: 40.5\n",
      "max_depth: 100 | n_estimators: 200 | test_score: 0.72 | test_error: 5868.937 | test/train error: 9.3\n",
      "\n",
      "max_depth: None | n_estimators: 1 | test_score: 0.353 | test_error: 10580.595 | test/train error: 5.3\n",
      "max_depth: None | n_estimators: 10 | test_score: 0.691 | test_error: 3116.784 | test/train error: 2.3\n",
      "max_depth: None | n_estimators: 100 | test_score: 0.698 | test_error: 4348.78 | test/train error: 7.8\n",
      "max_depth: None | n_estimators: 200 | test_score: 0.701 | test_error: 5234.974 | test/train error: 18.6\n",
      "max_depth: 10 | n_estimators: 1 | test_score: 0.532 | test_error: 17530.925 | test/train error: 2.2\n",
      "max_depth: 10 | n_estimators: 10 | test_score: 0.648 | test_error: 5095.515 | test/train error: 4.5\n",
      "max_depth: 10 | n_estimators: 100 | test_score: 0.68 | test_error: 7684.189 | test/train error: 6.8\n",
      "max_depth: 10 | n_estimators: 200 | test_score: 0.679 | test_error: 7445.438 | test/train error: 4.9\n",
      "max_depth: 100 | n_estimators: 1 | test_score: 0.236 | test_error: 2193.159 | test/train error: 0.5\n"
     ]
    },
    {
     "name": "stdout",
     "output_type": "stream",
     "text": [
      "max_depth: 100 | n_estimators: 10 | test_score: 0.679 | test_error: 5507.263 | test/train error: 13.8\n",
      "max_depth: 100 | n_estimators: 100 | test_score: 0.688 | test_error: 4904.126 | test/train error: 7.1\n",
      "max_depth: 100 | n_estimators: 200 | test_score: 0.708 | test_error: 6229.644 | test/train error: 11.2\n",
      "\n",
      "max_depth: None | n_estimators: 1 | test_score: 0.445 | test_error: 1739.028 | test/train error: 0.4\n",
      "max_depth: None | n_estimators: 10 | test_score: 0.698 | test_error: 4465.893 | test/train error: 2.7\n",
      "max_depth: None | n_estimators: 100 | test_score: 0.701 | test_error: 5202.776 | test/train error: 8.6\n",
      "max_depth: None | n_estimators: 200 | test_score: 0.698 | test_error: 6343.964 | test/train error: 5.7\n",
      "max_depth: 10 | n_estimators: 1 | test_score: 0.396 | test_error: 4903.267 | test/train error: 1.0\n",
      "max_depth: 10 | n_estimators: 10 | test_score: 0.56 | test_error: 1938.035 | test/train error: 4.0\n",
      "max_depth: 10 | n_estimators: 100 | test_score: 0.675 | test_error: 7832.233 | test/train error: 5.5\n",
      "max_depth: 10 | n_estimators: 200 | test_score: 0.676 | test_error: 7752.441 | test/train error: 7.6\n",
      "max_depth: 100 | n_estimators: 1 | test_score: 0.382 | test_error: 2353.207 | test/train error: 0.7\n",
      "max_depth: 100 | n_estimators: 10 | test_score: 0.672 | test_error: 8123.111 | test/train error: 61.6\n",
      "max_depth: 100 | n_estimators: 100 | test_score: 0.701 | test_error: 4426.314 | test/train error: 5.4\n",
      "max_depth: 100 | n_estimators: 200 | test_score: 0.713 | test_error: 6600.686 | test/train error: 5.2\n"
     ]
    }
   ],
   "source": [
    "max_depths = [None, 10, 100]\n",
    "n_estimators = [1, 10, 100, 200]\n",
    "\n",
    "for sets in train_test_dicts:\n",
    "    print('')\n",
    "    for max_depth in max_depths:\n",
    "        for n in n_estimators:\n",
    "            model = RandomForestRegressor(max_depth=max_depth , n_estimators=n)\n",
    "            train_error, test_error, train_score, test_score, y_train_pred, y_test_pred = fit_and_score(model=model, **sets)\n",
    "            train_error, test_error, train_score, test_score = round(train_error,3), round(test_error,3), round(train_score,3), round(test_score,3)\n",
    "            print('max_depth: {} | n_estimators: {} | test_score: {} | test_error: {} | test/train error: {}'.format(max_depth, n, test_score, test_error, round(test_error/train_error, 1)))\n",
    "            "
   ]
  },
  {
   "cell_type": "markdown",
   "metadata": {},
   "source": [
    "For all datasets, **max_depth=None** and **n_estimators=100** produced the highest test scores. Therefore I'll be using these two value for my random forest models."
   ]
  },
  {
   "cell_type": "code",
   "execution_count": 29,
   "metadata": {},
   "outputs": [],
   "source": [
    "lr_train_error = dict()\n",
    "lr_test_error = dict()\n",
    "lr_train_score = dict()\n",
    "lr_test_score = dict()\n",
    "lr_y_train_pred = dict()\n",
    "lr_y_test_pred = dict()\n",
    "\n",
    "ridge_train_error = dict()\n",
    "ridge_test_error = dict()\n",
    "ridge_train_score = dict()\n",
    "ridge_test_score = dict()\n",
    "ridge_y_train_pred = dict()\n",
    "ridge_y_test_pred = dict()\n",
    "\n",
    "rf_train_error = dict()\n",
    "rf_test_error = dict()\n",
    "rf_train_score = dict()\n",
    "rf_test_score = dict()\n",
    "rf_y_train_pred = dict()\n",
    "rf_y_test_pred = dict()\n",
    "\n",
    "for model_class, hyperparams in zip(\n",
    "            [LinearRegression, Ridge, RandomForestRegressor], \n",
    "            [{}, dict(alpha=1), dict(max_depth=None, n_estimators=100)]\n",
    "            ):\n",
    "    for i, sets in enumerate(train_test_dicts):\n",
    "        lr = LinearRegression()\n",
    "        \n",
    "        train_error, test_error, train_score, test_score, y_train_pred, y_test_pred = fit_and_score(model=lr, **sets)\n",
    "        train_error, test_error, train_score, test_score, y_train_pred, y_test_pred = np.round(train_error,0), np.round(test_error,0), np.round(train_score,3), np.round(test_score,3), np.round(y_train_pred,0), np.round(y_test_pred,0)\n",
    "\n",
    "        lr_train_error[i] = train_error\n",
    "        lr_test_error[i] = test_error\n",
    "        lr_train_score[i] = train_score\n",
    "        lr_test_score[i] = test_score\n",
    "        lr_y_train_pred[i] = y_train_pred\n",
    "        lr_y_test_pred[i] = y_test_pred\n",
    "        \n",
    "        \n",
    "    for i, sets in enumerate(train_test_dicts):\n",
    "        ridge = Ridge(alpha=1)\n",
    "        \n",
    "        train_error, test_error, train_score, test_score, y_train_pred, y_test_pred = fit_and_score(model=ridge, **sets)\n",
    "        train_error, test_error, train_score, test_score, y_train_pred, y_test_pred = np.round(train_error,0), np.round(test_error,0), np.round(train_score,3), np.round(test_score,3), np.round(y_train_pred,0), np.round(y_test_pred,0)\n",
    "\n",
    "        ridge_train_error[i] = train_error\n",
    "        ridge_test_error[i] = test_error\n",
    "        ridge_train_score[i] = train_score\n",
    "        ridge_test_score[i] = test_score\n",
    "        ridge_y_train_pred[i] = y_train_pred\n",
    "        ridge_y_test_pred[i] = y_test_pred\n",
    "        \n",
    "    for i, sets in enumerate(train_test_dicts):\n",
    "        rf = RandomForestRegressor(max_depth=None, n_estimators=200)\n",
    "        \n",
    "        train_error, test_error, train_score, test_score, y_train_pred, y_test_pred = fit_and_score(model=rf, **sets)\n",
    "        train_error, test_error, train_score, test_score, y_train_pred, y_test_pred = np.round(train_error,0), np.round(test_error,0), np.round(train_score,3), np.round(test_score,3), np.round(y_train_pred,0), np.round(y_test_pred,0)\n",
    "\n",
    "        rf_train_error[i] = train_error\n",
    "        rf_test_error[i] = test_error\n",
    "        rf_train_score[i] = train_score\n",
    "        rf_test_score[i] = test_score\n",
    "        rf_y_train_pred[i] = y_train_pred\n",
    "        rf_y_test_pred[i] = y_test_pred"
   ]
  },
  {
   "cell_type": "code",
   "execution_count": 30,
   "metadata": {},
   "outputs": [],
   "source": [
    "# constructing table contents \n",
    "#features\n",
    "features = []\n",
    "for i in range(24):\n",
    "    features.append('all except price, date, year, street, city, state')\n",
    "\n",
    "#models\n",
    "reg, rr, rfr = 'LinearRegression ', 'RidgeRegression ', 'RandomForest '\n",
    "\n",
    "models = ((reg)*8).split(' ') + ((rr)*8).split(' ') + ((rfr)*8).split(' ')\n",
    "models.remove('')\n",
    "models.remove('')\n",
    "models.remove('')\n",
    "\n",
    "#errors\n",
    "ridge_key_change = {0: 8, 1:9, 2:10, 3:11, 4:12, 5:13, 6:14, 7:15}\n",
    "rf_key_change = {0: 16, 1:17, 2:18, 3:19, 4:20, 5:21, 6:22, 7:23}\n",
    "\n",
    "ridge_train_error = {ridge_key_change[k]: v for k, v in ridge_train_error.items()}\n",
    "rf_train_error = {rf_key_change[k]: v for k, v in rf_train_error.items()}\n",
    "ridge_test_error = {ridge_key_change[k]: v for k, v in ridge_test_error.items()}\n",
    "rf_test_error = {rf_key_change[k]: v for k, v in rf_test_error.items()}\n",
    "\n",
    "train_errors = {**lr_train_error, **ridge_train_error, **rf_train_error}\n",
    "test_errors = {**lr_test_error, **ridge_test_error, **rf_test_error}\n",
    "\n",
    "#scores\n",
    "ridge_train_score = {ridge_key_change[k]: v for k, v in ridge_train_score.items()}\n",
    "rf_train_score = {rf_key_change[k]: v for k, v in rf_train_score.items()}\n",
    "ridge_test_score = {ridge_key_change[k]: v for k, v in ridge_test_score.items()}\n",
    "rf_test_score = {rf_key_change[k]: v for k, v in rf_test_score.items()}\n",
    "\n",
    "train_scores = {**lr_train_score, **ridge_train_score, **rf_train_score}\n",
    "test_scores = {**lr_test_score, **ridge_test_score, **rf_test_score}"
   ]
  },
  {
   "cell_type": "code",
   "execution_count": 31,
   "metadata": {},
   "outputs": [
    {
     "data": {
      "text/html": [
       "<div>\n",
       "<style scoped>\n",
       "    .dataframe tbody tr th:only-of-type {\n",
       "        vertical-align: middle;\n",
       "    }\n",
       "\n",
       "    .dataframe tbody tr th {\n",
       "        vertical-align: top;\n",
       "    }\n",
       "\n",
       "    .dataframe thead th {\n",
       "        text-align: right;\n",
       "    }\n",
       "</style>\n",
       "<table border=\"1\" class=\"dataframe\">\n",
       "  <thead>\n",
       "    <tr style=\"text-align: right;\">\n",
       "      <th></th>\n",
       "      <th>models</th>\n",
       "      <th>test_score</th>\n",
       "      <th>train_score</th>\n",
       "      <th>test_error</th>\n",
       "      <th>train_error</th>\n",
       "      <th>price outs removed</th>\n",
       "      <th>description</th>\n",
       "      <th>features</th>\n",
       "    </tr>\n",
       "  </thead>\n",
       "  <tbody>\n",
       "    <tr>\n",
       "      <th>15</th>\n",
       "      <td>RidgeRegression</td>\n",
       "      <td>0.770</td>\n",
       "      <td>0.766</td>\n",
       "      <td>3722.0</td>\n",
       "      <td>0.0</td>\n",
       "      <td>yes</td>\n",
       "      <td>df2 zero prices removed</td>\n",
       "      <td>all except price, date, year, street, city, state</td>\n",
       "    </tr>\n",
       "    <tr>\n",
       "      <th>11</th>\n",
       "      <td>RidgeRegression</td>\n",
       "      <td>0.770</td>\n",
       "      <td>0.766</td>\n",
       "      <td>3722.0</td>\n",
       "      <td>0.0</td>\n",
       "      <td>yes</td>\n",
       "      <td>zero prices removed</td>\n",
       "      <td>all except price, date, year, street, city, state</td>\n",
       "    </tr>\n",
       "    <tr>\n",
       "      <th>12</th>\n",
       "      <td>RidgeRegression</td>\n",
       "      <td>0.770</td>\n",
       "      <td>0.767</td>\n",
       "      <td>3794.0</td>\n",
       "      <td>0.0</td>\n",
       "      <td>yes</td>\n",
       "      <td>parabolic transformation</td>\n",
       "      <td>all except price, date, year, street, city, state</td>\n",
       "    </tr>\n",
       "    <tr>\n",
       "      <th>16</th>\n",
       "      <td>RidgeRegression</td>\n",
       "      <td>0.770</td>\n",
       "      <td>0.767</td>\n",
       "      <td>3794.0</td>\n",
       "      <td>0.0</td>\n",
       "      <td>yes</td>\n",
       "      <td>df2 parabolic transformation</td>\n",
       "      <td>all except price, date, year, street, city, state</td>\n",
       "    </tr>\n",
       "    <tr>\n",
       "      <th>3</th>\n",
       "      <td>LinearRegression</td>\n",
       "      <td>0.765</td>\n",
       "      <td>0.767</td>\n",
       "      <td>4921.0</td>\n",
       "      <td>1.0</td>\n",
       "      <td>yes</td>\n",
       "      <td>zero prices removed</td>\n",
       "      <td>all except price, date, year, street, city, state</td>\n",
       "    </tr>\n",
       "    <tr>\n",
       "      <th>7</th>\n",
       "      <td>LinearRegression</td>\n",
       "      <td>0.765</td>\n",
       "      <td>0.767</td>\n",
       "      <td>4921.0</td>\n",
       "      <td>1.0</td>\n",
       "      <td>yes</td>\n",
       "      <td>df2 zero prices removed</td>\n",
       "      <td>all except price, date, year, street, city, state</td>\n",
       "    </tr>\n",
       "    <tr>\n",
       "      <th>18</th>\n",
       "      <td>RandomForest</td>\n",
       "      <td>0.718</td>\n",
       "      <td>0.950</td>\n",
       "      <td>5506.0</td>\n",
       "      <td>394.0</td>\n",
       "      <td>yes</td>\n",
       "      <td>no transformations</td>\n",
       "      <td>all except price, date, year, street, city, state</td>\n",
       "    </tr>\n",
       "    <tr>\n",
       "      <th>22</th>\n",
       "      <td>RandomForest</td>\n",
       "      <td>0.716</td>\n",
       "      <td>0.952</td>\n",
       "      <td>6102.0</td>\n",
       "      <td>51.0</td>\n",
       "      <td>yes</td>\n",
       "      <td>df2 no transformations</td>\n",
       "      <td>all except price, date, year, street, city, state</td>\n",
       "    </tr>\n",
       "    <tr>\n",
       "      <th>10</th>\n",
       "      <td>RidgeRegression</td>\n",
       "      <td>0.709</td>\n",
       "      <td>0.767</td>\n",
       "      <td>6163.0</td>\n",
       "      <td>0.0</td>\n",
       "      <td>yes</td>\n",
       "      <td>no transformations</td>\n",
       "      <td>all except price, date, year, street, city, state</td>\n",
       "    </tr>\n",
       "    <tr>\n",
       "      <th>14</th>\n",
       "      <td>RidgeRegression</td>\n",
       "      <td>0.709</td>\n",
       "      <td>0.767</td>\n",
       "      <td>6163.0</td>\n",
       "      <td>0.0</td>\n",
       "      <td>yes</td>\n",
       "      <td>df2 no transformations</td>\n",
       "      <td>all except price, date, year, street, city, state</td>\n",
       "    </tr>\n",
       "    <tr>\n",
       "      <th>24</th>\n",
       "      <td>RandomForest</td>\n",
       "      <td>0.706</td>\n",
       "      <td>0.956</td>\n",
       "      <td>6161.0</td>\n",
       "      <td>1099.0</td>\n",
       "      <td>yes</td>\n",
       "      <td>df2 parabolic transformation</td>\n",
       "      <td>all except price, date, year, street, city, state</td>\n",
       "    </tr>\n",
       "    <tr>\n",
       "      <th>20</th>\n",
       "      <td>RandomForest</td>\n",
       "      <td>0.704</td>\n",
       "      <td>0.955</td>\n",
       "      <td>5113.0</td>\n",
       "      <td>672.0</td>\n",
       "      <td>yes</td>\n",
       "      <td>parabolic transformation</td>\n",
       "      <td>all except price, date, year, street, city, state</td>\n",
       "    </tr>\n",
       "    <tr>\n",
       "      <th>23</th>\n",
       "      <td>RandomForest</td>\n",
       "      <td>0.703</td>\n",
       "      <td>0.955</td>\n",
       "      <td>5075.0</td>\n",
       "      <td>1062.0</td>\n",
       "      <td>yes</td>\n",
       "      <td>df2 zero prices removed</td>\n",
       "      <td>all except price, date, year, street, city, state</td>\n",
       "    </tr>\n",
       "    <tr>\n",
       "      <th>19</th>\n",
       "      <td>RandomForest</td>\n",
       "      <td>0.700</td>\n",
       "      <td>0.956</td>\n",
       "      <td>5297.0</td>\n",
       "      <td>785.0</td>\n",
       "      <td>yes</td>\n",
       "      <td>zero prices removed</td>\n",
       "      <td>all except price, date, year, street, city, state</td>\n",
       "    </tr>\n",
       "    <tr>\n",
       "      <th>13</th>\n",
       "      <td>RidgeRegression</td>\n",
       "      <td>0.133</td>\n",
       "      <td>0.586</td>\n",
       "      <td>11531.0</td>\n",
       "      <td>0.0</td>\n",
       "      <td>no</td>\n",
       "      <td>df2 no transformations</td>\n",
       "      <td>all except price, date, year, street, city, state</td>\n",
       "    </tr>\n",
       "    <tr>\n",
       "      <th>21</th>\n",
       "      <td>RandomForest</td>\n",
       "      <td>0.122</td>\n",
       "      <td>0.932</td>\n",
       "      <td>9091.0</td>\n",
       "      <td>13.0</td>\n",
       "      <td>no</td>\n",
       "      <td>df2 no transformations</td>\n",
       "      <td>all except price, date, year, street, city, state</td>\n",
       "    </tr>\n",
       "    <tr>\n",
       "      <th>9</th>\n",
       "      <td>RidgeRegression</td>\n",
       "      <td>0.100</td>\n",
       "      <td>0.769</td>\n",
       "      <td>22107.0</td>\n",
       "      <td>0.0</td>\n",
       "      <td>no</td>\n",
       "      <td>no transformations</td>\n",
       "      <td>all except price, date, year, street, city, state</td>\n",
       "    </tr>\n",
       "    <tr>\n",
       "      <th>17</th>\n",
       "      <td>RandomForest</td>\n",
       "      <td>0.089</td>\n",
       "      <td>0.958</td>\n",
       "      <td>22918.0</td>\n",
       "      <td>120.0</td>\n",
       "      <td>no</td>\n",
       "      <td>no transformations</td>\n",
       "      <td>all except price, date, year, street, city, state</td>\n",
       "    </tr>\n",
       "    <tr>\n",
       "      <th>1</th>\n",
       "      <td>LinearRegression</td>\n",
       "      <td>-1.196</td>\n",
       "      <td>0.770</td>\n",
       "      <td>36346.0</td>\n",
       "      <td>15.0</td>\n",
       "      <td>no</td>\n",
       "      <td>no transformations</td>\n",
       "      <td>all except price, date, year, street, city, state</td>\n",
       "    </tr>\n",
       "    <tr>\n",
       "      <th>2</th>\n",
       "      <td>LinearRegression</td>\n",
       "      <td>-8.848</td>\n",
       "      <td>0.768</td>\n",
       "      <td>8254.0</td>\n",
       "      <td>3.0</td>\n",
       "      <td>yes</td>\n",
       "      <td>no transformations</td>\n",
       "      <td>all except price, date, year, street, city, state</td>\n",
       "    </tr>\n",
       "    <tr>\n",
       "      <th>6</th>\n",
       "      <td>LinearRegression</td>\n",
       "      <td>-8.848</td>\n",
       "      <td>0.768</td>\n",
       "      <td>8254.0</td>\n",
       "      <td>3.0</td>\n",
       "      <td>yes</td>\n",
       "      <td>df2 no transformations</td>\n",
       "      <td>all except price, date, year, street, city, state</td>\n",
       "    </tr>\n",
       "    <tr>\n",
       "      <th>5</th>\n",
       "      <td>LinearRegression</td>\n",
       "      <td>-160.163</td>\n",
       "      <td>0.586</td>\n",
       "      <td>359388.0</td>\n",
       "      <td>6.0</td>\n",
       "      <td>no</td>\n",
       "      <td>df2 no transformations</td>\n",
       "      <td>all except price, date, year, street, city, state</td>\n",
       "    </tr>\n",
       "    <tr>\n",
       "      <th>8</th>\n",
       "      <td>LinearRegression</td>\n",
       "      <td>-4692.729</td>\n",
       "      <td>0.767</td>\n",
       "      <td>1075874.0</td>\n",
       "      <td>11.0</td>\n",
       "      <td>yes</td>\n",
       "      <td>df2 parabolic transformation</td>\n",
       "      <td>all except price, date, year, street, city, state</td>\n",
       "    </tr>\n",
       "    <tr>\n",
       "      <th>4</th>\n",
       "      <td>LinearRegression</td>\n",
       "      <td>-4692.729</td>\n",
       "      <td>0.767</td>\n",
       "      <td>1075874.0</td>\n",
       "      <td>11.0</td>\n",
       "      <td>yes</td>\n",
       "      <td>parabolic transformation</td>\n",
       "      <td>all except price, date, year, street, city, state</td>\n",
       "    </tr>\n",
       "  </tbody>\n",
       "</table>\n",
       "</div>"
      ],
      "text/plain": [
       "              models  test_score  train_score  test_error  train_error  \\\n",
       "15   RidgeRegression       0.770        0.766      3722.0          0.0   \n",
       "11   RidgeRegression       0.770        0.766      3722.0          0.0   \n",
       "12   RidgeRegression       0.770        0.767      3794.0          0.0   \n",
       "16   RidgeRegression       0.770        0.767      3794.0          0.0   \n",
       "3   LinearRegression       0.765        0.767      4921.0          1.0   \n",
       "7   LinearRegression       0.765        0.767      4921.0          1.0   \n",
       "18      RandomForest       0.718        0.950      5506.0        394.0   \n",
       "22      RandomForest       0.716        0.952      6102.0         51.0   \n",
       "10   RidgeRegression       0.709        0.767      6163.0          0.0   \n",
       "14   RidgeRegression       0.709        0.767      6163.0          0.0   \n",
       "24      RandomForest       0.706        0.956      6161.0       1099.0   \n",
       "20      RandomForest       0.704        0.955      5113.0        672.0   \n",
       "23      RandomForest       0.703        0.955      5075.0       1062.0   \n",
       "19      RandomForest       0.700        0.956      5297.0        785.0   \n",
       "13   RidgeRegression       0.133        0.586     11531.0          0.0   \n",
       "21      RandomForest       0.122        0.932      9091.0         13.0   \n",
       "9    RidgeRegression       0.100        0.769     22107.0          0.0   \n",
       "17      RandomForest       0.089        0.958     22918.0        120.0   \n",
       "1   LinearRegression      -1.196        0.770     36346.0         15.0   \n",
       "2   LinearRegression      -8.848        0.768      8254.0          3.0   \n",
       "6   LinearRegression      -8.848        0.768      8254.0          3.0   \n",
       "5   LinearRegression    -160.163        0.586    359388.0          6.0   \n",
       "8   LinearRegression   -4692.729        0.767   1075874.0         11.0   \n",
       "4   LinearRegression   -4692.729        0.767   1075874.0         11.0   \n",
       "\n",
       "   price outs removed                   description  \\\n",
       "15                yes       df2 zero prices removed   \n",
       "11                yes           zero prices removed   \n",
       "12                yes      parabolic transformation   \n",
       "16                yes  df2 parabolic transformation   \n",
       "3                 yes           zero prices removed   \n",
       "7                 yes       df2 zero prices removed   \n",
       "18                yes            no transformations   \n",
       "22                yes        df2 no transformations   \n",
       "10                yes            no transformations   \n",
       "14                yes        df2 no transformations   \n",
       "24                yes  df2 parabolic transformation   \n",
       "20                yes      parabolic transformation   \n",
       "23                yes       df2 zero prices removed   \n",
       "19                yes           zero prices removed   \n",
       "13                 no        df2 no transformations   \n",
       "21                 no        df2 no transformations   \n",
       "9                  no            no transformations   \n",
       "17                 no            no transformations   \n",
       "1                  no            no transformations   \n",
       "2                 yes            no transformations   \n",
       "6                 yes        df2 no transformations   \n",
       "5                  no        df2 no transformations   \n",
       "8                 yes  df2 parabolic transformation   \n",
       "4                 yes      parabolic transformation   \n",
       "\n",
       "                                             features  \n",
       "15  all except price, date, year, street, city, state  \n",
       "11  all except price, date, year, street, city, state  \n",
       "12  all except price, date, year, street, city, state  \n",
       "16  all except price, date, year, street, city, state  \n",
       "3   all except price, date, year, street, city, state  \n",
       "7   all except price, date, year, street, city, state  \n",
       "18  all except price, date, year, street, city, state  \n",
       "22  all except price, date, year, street, city, state  \n",
       "10  all except price, date, year, street, city, state  \n",
       "14  all except price, date, year, street, city, state  \n",
       "24  all except price, date, year, street, city, state  \n",
       "20  all except price, date, year, street, city, state  \n",
       "23  all except price, date, year, street, city, state  \n",
       "19  all except price, date, year, street, city, state  \n",
       "13  all except price, date, year, street, city, state  \n",
       "21  all except price, date, year, street, city, state  \n",
       "9   all except price, date, year, street, city, state  \n",
       "17  all except price, date, year, street, city, state  \n",
       "1   all except price, date, year, street, city, state  \n",
       "2   all except price, date, year, street, city, state  \n",
       "6   all except price, date, year, street, city, state  \n",
       "5   all except price, date, year, street, city, state  \n",
       "8   all except price, date, year, street, city, state  \n",
       "4   all except price, date, year, street, city, state  "
      ]
     },
     "execution_count": 31,
     "metadata": {},
     "output_type": "execute_result"
    }
   ],
   "source": [
    "content = {'features': [features[i] for i in range(len(features))],\n",
    "           'models': [models[i] for i in range(len(models))], \n",
    "           'test_error': [test_errors[key] for key in test_errors],\n",
    "           'train_error': [train_errors[key] for key in train_errors],\n",
    "           'test_score': [test_scores[key] for key in test_scores],\n",
    "           'train_score': [train_scores[key] for key in train_scores],\n",
    "           'description': ['no transformations', 'no transformations', 'zero prices removed', 'parabolic transformation', 'df2 no transformations', 'df2 no transformations', 'df2 zero prices removed', 'df2 parabolic transformation', \n",
    "                           'no transformations', 'no transformations', 'zero prices removed', 'parabolic transformation', 'df2 no transformations', 'df2 no transformations', 'df2 zero prices removed', 'df2 parabolic transformation',\n",
    "                           'no transformations', 'no transformations', 'zero prices removed', 'parabolic transformation', 'df2 no transformations', 'df2 no transformations', 'df2 zero prices removed', 'df2 parabolic transformation' \n",
    "                            ],\n",
    "           'price outs removed': ['no', 'yes', 'yes', 'yes', 'no', 'yes', 'yes', 'yes', 'no', 'yes', 'yes', 'yes', 'no', 'yes', 'yes', 'yes', 'no', 'yes', 'yes', 'yes', 'no', 'yes', 'yes', 'yes']}\n",
    "\n",
    "w_address = pd.DataFrame(content, columns=['models', 'test_score', 'train_score', 'test_error', 'train_error', 'price outs removed', 'description', 'features'], index=[1,2,3,4,5,6,7,8,9,10,11,12,13,14,15,16,17,18,19,20,21,22,23,24])\n",
    "w_address.sort_values('test_score', ascending=False)"
   ]
  },
  {
   "cell_type": "markdown",
   "metadata": {},
   "source": [
    "In df2, 3 features were added, `yr_built_is0`, `renovation_age`, and `house_age`. Also, 2 outliers of `sqft_lot` have been removed. These changes led to an overall better performance than df. "
   ]
  },
  {
   "cell_type": "markdown",
   "metadata": {},
   "source": [
    "Model description:\n",
    "* Each model contains all features except for `price`, `date`, `year`, `street`, `city`, and `state`\n",
    "* Models described as having no transformations are those which did not have their `bedrooms` feature undergo parabolic transformation.\n",
    "* Models with zero prices removed are those with zero values in the `price` feature and price outliers removed.\n",
    "* Models with parabolic transformation are based on data with price outliers and zero prices removed, and have their `bedrooms` feature transformed.\n",
    "\n",
    "From the table above we can see that the best model is the Random Forest with 66% accuracy. That model only has the price outliers removed but not the zero prices. There were also no transformations on the features."
   ]
  },
  {
   "cell_type": "markdown",
   "metadata": {},
   "source": [
    "**Analysing the coefficients**"
   ]
  },
  {
   "cell_type": "markdown",
   "metadata": {},
   "source": [
    "Let's take a look at the coefficients of the best performing ridge regression model that has its `bedrooms` feature transformed."
   ]
  },
  {
   "cell_type": "code",
   "execution_count": 32,
   "metadata": {},
   "outputs": [
    {
     "data": {
      "text/plain": [
       "bedrooms             -9451.150206\n",
       "bathrooms            23053.257624\n",
       "sqft_living            102.006751\n",
       "sqft_lot               -51.041271\n",
       "floors              -38056.774288\n",
       "waterfront          569225.065922\n",
       "view                 61242.096351\n",
       "condition            30302.040770\n",
       "sqft_above              99.737997\n",
       "sqft_basement            2.268826\n",
       "yr_built              -151.321168\n",
       "yr_renovated            45.457712\n",
       "total_sqft              51.015755\n",
       "price_is0                0.000000\n",
       "renov_date_is0       78167.889271\n",
       "bedrooms_squared     -2449.735836\n",
       "Name: coef, dtype: float64"
      ]
     },
     "execution_count": 32,
     "metadata": {},
     "output_type": "execute_result"
    }
   ],
   "source": [
    "#Looking at the coefficients of the best ridge model:\n",
    "ridge = Ridge()\n",
    "ridge.fit(X2_transformed, y2_transformed)\n",
    "\n",
    "coefs = pd.DataFrame(ridge.coef_, index=list(X2_transformed), columns=['coef'])\n",
    "coefs.iloc[[0,1,2,3,4,5,6,7,8,9,10,11,12,13,14, 139], 0]\n",
    "#coefs.to_csv('wo_address_coefs.csv')"
   ]
  },
  {
   "cell_type": "code",
   "execution_count": 33,
   "metadata": {},
   "outputs": [
    {
     "data": {
      "image/png": "[encoded data removed]",
      "text/plain": [
       "<Figure size 432x288 with 1 Axes>"
      ]
     },
     "metadata": {
      "needs_background": "light"
     },
     "output_type": "display_data"
    }
   ],
   "source": [
    "fig = plt.figure()\n",
    "plt.scatter(y2_test_transformed, ridge_y_test_pred[7], s=20)\n",
    "plt.title('Scatter plot of actual and predicted prices')\n",
    "plt.xticks(ticks=[0,500000,1500000,2500000, 3500000])\n",
    "plt.xlabel('actual prices')\n",
    "plt.ylabel('predicted prices')\n",
    "#fig.savefig('scatter_true_pred.png')\n",
    "plt.show()"
   ]
  },
  {
   "cell_type": "markdown",
   "metadata": {},
   "source": [
    "We see in the above plot that the predicted prices are somewhat close to the actual prices, but not very close. The best case scenario would be for the scatter plots to follow a perfectly straight diagonal line, indicating that our model perfectly predicted the house prices."
   ]
  },
  {
   "cell_type": "markdown",
   "metadata": {},
   "source": [
    "Histogram of the residuals of the best performing ridge regression model"
   ]
  },
  {
   "cell_type": "code",
   "execution_count": 34,
   "metadata": {},
   "outputs": [
    {
     "data": {
      "image/png": "[encoded data removed]",
      "text/plain": [
       "<Figure size 432x288 with 1 Axes>"
      ]
     },
     "metadata": {
      "needs_background": "light"
     },
     "output_type": "display_data"
    }
   ],
   "source": [
    "fig = plt.figure()\n",
    "plt.hist(y2_test_transformed - ridge_y_test_pred[7], bins=20)\n",
    "plt.title('Histogram of residuals')\n",
    "#fig.savefig('hist_resid.png')\n",
    "plt.show()"
   ]
  },
  {
   "cell_type": "markdown",
   "metadata": {},
   "source": [
    "Ideally a residual histogram follows a normal distribution, and that tells us that we've chosen an appropriate model type. However, the above plot does not closely follow a normal distribution, which is an indication that either my models need improvemnt, or a regression model is not best fit for my data."
   ]
  },
  {
   "cell_type": "markdown",
   "metadata": {},
   "source": [
    "### Confidence Interval around my prediction accuracy"
   ]
  },
  {
   "cell_type": "code",
   "execution_count": 35,
   "metadata": {
    "scrolled": true
   },
   "outputs": [
    {
     "data": {
      "text/plain": [
       "{8: 22107.0,\n",
       " 9: 6163.0,\n",
       " 10: 3722.0,\n",
       " 11: 3794.0,\n",
       " 12: 11531.0,\n",
       " 13: 6163.0,\n",
       " 14: 3722.0,\n",
       " 15: 3794.0}"
      ]
     },
     "execution_count": 35,
     "metadata": {},
     "output_type": "execute_result"
    }
   ],
   "source": [
    "# RMSE == standard deviation of errors\n",
    "ridge_test_error"
   ]
  },
  {
   "cell_type": "code",
   "execution_count": 36,
   "metadata": {},
   "outputs": [],
   "source": [
    "# taking the model with the smallest error\n",
    "one_sd = min(ridge_test_error.values())\n",
    "two_sd = 2*one_sd\n",
    "three_sd = 3*one_sd"
   ]
  },
  {
   "cell_type": "markdown",
   "metadata": {},
   "source": [
    "#### 95% Confidence"
   ]
  },
  {
   "cell_type": "code",
   "execution_count": 37,
   "metadata": {},
   "outputs": [
    {
     "name": "stdout",
     "output_type": "stream",
     "text": [
      "I can be 95% confident that the error in the home price predictions will be between -7444.0 and 7444.0.\n"
     ]
    }
   ],
   "source": [
    "min_error = 0 - two_sd\n",
    "max_error = 0 + two_sd\n",
    "\n",
    "print('I can be 95% confident that the error in the home price predictions will be '\n",
    "      'between {} and {}.'.format(min_error, max_error))"
   ]
  },
  {
   "cell_type": "markdown",
   "metadata": {},
   "source": [
    "**What happens if my boss purchases 100 homes at my predicted price?**  \n",
    "**What happens if my boss purchases 100 homes \\\\$1000 below my predicted prices?**"
   ]
  },
  {
   "cell_type": "code",
   "execution_count": 44,
   "metadata": {},
   "outputs": [],
   "source": [
    "from math import sqrt\n",
    "\n",
    "np.random.seed(47)\n",
    "n = 100 # length of sample\n",
    "\n",
    "# function to sample the actual and predicted prices of 100 homes at a time.\n",
    "def draw_bs_reps(y_test, y_pred):\n",
    "    bs_error = np.random.choice(y_test - y_pred, n) # price sold - price bought == profit (gain or loss)\n",
    "    \n",
    "    error_mean = np.sum(bs_error) / len(bs_error) # avg gain or loss on n transactions\n",
    "    return error_mean\n",
    "\n",
    "# running the same experiment as before, with $1000 deducted from my predicted prices\n",
    "def draw_bs_reps_1000(y_test, y_pred):\n",
    "    bs_error = np.random.choice(y_test - (y_pred-1000), n) # deduct 1000 from each predicted price\n",
    "    \n",
    "    error_mean = np.sum(bs_error) / len(bs_error) # avg gain or loss on n transactions\n",
    "    return error_mean"
   ]
  },
  {
   "cell_type": "code",
   "execution_count": 46,
   "metadata": {},
   "outputs": [
    {
     "name": "stdout",
     "output_type": "stream",
     "text": [
      "mean of means: 3524\n",
      "std of means: 18282\n",
      "\n",
      "The above result means that if I calculate the error between the true/historical price and my predicted price of 100 homes, I can be 95% confident that the error of the mean of average error in the home price predictions will be between -7,444.0 and 7,444.0.\n",
      "\n",
      "In other words, if my boss was to buy 100 homes at my predicted price and sell them at their true price, I can be 95% confident that the most she would lose is $33,040 and the most she would gain is $40,089.\n"
     ]
    }
   ],
   "source": [
    "# purchasing 100 homes at predicted price\n",
    "\n",
    "error_means = np.array([draw_bs_reps(y2_test_transformed, ridge_y_test_pred[7]) for i in range(1000)]) # Ridge Reg model\n",
    "error_means = np.round(error_means, 2)\n",
    "error_means_mean = np.mean(error_means) # mean of means\n",
    "print('mean of means: {}'.format(int(error_means_mean)))\n",
    "\n",
    "error_means_std = sqrt(np.sum((error_means-error_means_mean)**2) / (1000-1)) # standard deviation of means\n",
    "print('std of means: {}'.format(int(error_means_std)))\n",
    "\n",
    "# confidence interval\n",
    "min_error_100 = int(error_means_mean - 2*error_means_std)\n",
    "max_error_100 = int(error_means_mean + 2*error_means_std)\n",
    "\n",
    "print('')\n",
    "print('The above result means that if I calculate the error between the true/historical price and my predicted price ' \n",
    "      'of 100 homes, I can be 95% confident that the error of the mean of average error in the home price ' \n",
    "      'predictions will be between {:,} and {:,}.'.format(min_error, max_error))\n",
    "print('')\n",
    "print('In other words, if my boss was to buy 100 homes at my predicted price and sell them at their true price, ' \n",
    "      'I can be 95% confident that the most she would lose is ${:,} ' \n",
    "      'and the most she would gain is ${:,}.'.format(-1*min_error_100, max_error_100))"
   ]
  },
  {
   "cell_type": "code",
   "execution_count": 48,
   "metadata": {
    "scrolled": true
   },
   "outputs": [
    {
     "name": "stdout",
     "output_type": "stream",
     "text": [
      "-33040 40089\n"
     ]
    },
    {
     "data": {
      "image/png": "[encoded data removed]",
      "text/plain": [
       "<Figure size 432x288 with 1 Axes>"
      ]
     },
     "metadata": {
      "needs_background": "light"
     },
     "output_type": "display_data"
    }
   ],
   "source": [
    "fig = plt.figure()\n",
    "hist_100 = plt.hist(error_means, bins=20)\n",
    "plt.title(\"Distribution of purchasing 100 homes at my predicted price\")\n",
    "plt.plot()\n",
    "#fig.savefig('hist_100_homes.png')\n",
    "\n",
    "print(min_error_100, max_error_100)"
   ]
  },
  {
   "cell_type": "code",
   "execution_count": 45,
   "metadata": {},
   "outputs": [
    {
     "name": "stdout",
     "output_type": "stream",
     "text": [
      "mean of means: 4339\n",
      "std of means: 18435\n",
      "\n",
      "If my boss was to buy 100 homes at $1000 less than my predicted price and sell them at their true price, I can be 95% confident that the most she would lose is $32,531 and the most she would gain is $41,209.\n"
     ]
    }
   ],
   "source": [
    "# purchasing 100 homes at 1000 less than predicted price\n",
    "\n",
    "error_means_1000 = np.array([draw_bs_reps_1000(y2_test_transformed, ridge_y_test_pred[7]) for i in range(1000)]) # Ridge reg model\n",
    "error_means_1000 = np.round(error_means, 2)\n",
    "error_means_mean = np.mean(error_means_1000) # mean of means\n",
    "print('mean of means: {}'.format(int(error_means_mean)))\n",
    "\n",
    "error_means_std = sqrt(np.sum((error_means-error_means_mean)**2) / (1000-1)) # standard deviation of means\n",
    "print('std of means: {}'.format(int(error_means_std)))\n",
    "\n",
    "# confidence interval\n",
    "min_error_1000 = int(error_means_mean - 2*error_means_std)\n",
    "max_error_1000 = int(error_means_mean + 2*error_means_std)\n",
    "\n",
    "print('')\n",
    "print('If my boss was to buy 100 homes at $1000 less than my predicted price and sell them at their true price, ' \n",
    "      'I can be 95% confident that the most she would lose is ${:,} ' \n",
    "      'and the most she would gain is ${:,}.'.format(-1*min_error_1000, max_error_1000))"
   ]
  },
  {
   "cell_type": "code",
   "execution_count": 43,
   "metadata": {},
   "outputs": [
    {
     "name": "stdout",
     "output_type": "stream",
     "text": [
      "-32531 41209\n"
     ]
    },
    {
     "data": {
      "image/png": "[encoded data removed]",
      "text/plain": [
       "<Figure size 432x288 with 1 Axes>"
      ]
     },
     "metadata": {
      "needs_background": "light"
     },
     "output_type": "display_data"
    }
   ],
   "source": [
    "fig = plt.figure()\n",
    "hist_100_1000 = plt.hist(error_means_1000, bins=20)\n",
    "plt.title(\"Distribution of purchasing 100 homes at $1000 less than predicted price\")\n",
    "plt.plot()\n",
    "#fig.savefig('hist_1000_homes.png')\n",
    "print(min_error_1000, max_error_1000)"
   ]
  }
 ],
 "metadata": {
  "kernelspec": {
   "display_name": "Python 3",
   "language": "python",
   "name": "python3"
  },
  "language_info": {
   "codemirror_mode": {
    "name": "ipython",
    "version": 3
   },
   "file_extension": ".py",
   "mimetype": "text/x-python",
   "name": "python",
   "nbconvert_exporter": "python",
   "pygments_lexer": "ipython3",
   "version": "3.7.3"
  }
 },
 "nbformat": 4,
 "nbformat_minor": 2
}
