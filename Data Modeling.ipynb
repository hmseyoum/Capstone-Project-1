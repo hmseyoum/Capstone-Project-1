{
 "cells": [
  {
   "cell_type": "markdown",
   "metadata": {},
   "source": [
    "## Data Preparation"
   ]
  },
  {
   "cell_type": "code",
   "execution_count": 1,
   "metadata": {},
   "outputs": [],
   "source": [
    "# import necessary modules/libraries\n",
    "\n",
    "import numpy as  np\n",
    "import pandas as pd\n",
    "\n",
    "import matplotlib\n",
    "import matplotlib.pyplot as plt\n",
    "import seaborn as sns\n",
    "\n",
    "from scipy import stats\n",
    "from scipy.stats import pearsonr\n",
    "\n",
    "from matplotlib import rcParams\n",
    "sns.set_style(\"whitegrid\")\n",
    "sns.set_context(\"talk\", font_scale=0.7)\n",
    "sns.set_palette(\"Greens_r\")\n",
    "#set_palette(\"Set1\", 8, .75) # makes plot lines red\n",
    "\n",
    "# Ignore  the warnings\n",
    "import warnings\n",
    "warnings.filterwarnings('always')\n",
    "warnings.filterwarnings('ignore')\n",
    "\n",
    "from sklearn.preprocessing import Imputer # to impute missing data\n",
    "\n",
    "from sklearn.preprocessing import StandardScaler\n",
    "from sklearn.preprocessing import MinMaxScaler\n",
    "\n",
    "import sklearn\n",
    "from sklearn.linear_model import LinearRegression\n",
    "from sklearn.ensemble import RandomForestRegressor\n",
    "from sklearn.linear_model import Lasso\n",
    "from sklearn.linear_model import Ridge\n",
    "from sklearn.model_selection import train_test_split\n",
    "from sklearn.model_selection import cross_validate\n",
    "from sklearn.model_selection import cross_val_score\n",
    "from sklearn.model_selection import GridSearchCV\n",
    "from sklearn.metrics import mean_squared_error\n",
    "\n",
    "%matplotlib inline"
   ]
  },
  {
   "cell_type": "markdown",
   "metadata": {},
   "source": [
    "## Feature Engineering"
   ]
  },
  {
   "cell_type": "code",
   "execution_count": 17,
   "metadata": {},
   "outputs": [],
   "source": [
    "df = pd.read_csv('house_price_prediction.csv') # read the data\n",
    "\n",
    "df['date'] = pd.to_datetime(df['date']) # change date col to datetime\n",
    "df['month'] = df['date'].dt.month # creating month feature\n",
    "df['year'] = df['date'].dt.year  # all 2014 so can drop\n",
    "df[['waterfront', 'condition']] = df[['waterfront', 'condition']].astype('category') # change data types to categorical\n",
    "df['state'] = df['statezip'].apply(lambda x: x.split(' ')[0]) # split statezip into state & zipcode\n",
    "df['zipcode'] = df['statezip'].apply(lambda x: int(x.split(' ')[1]))\n",
    "df['total_sqft'] = df.sqft_living + df.sqft_lot # creating total_sqft feature: sqft_above + sqft_lot\n",
    "df['street_name'] = df['street'].str.strip().str.lstrip('-0123456789').str.strip().str.lower()\n",
    "df['price_is0'] = df['price'] <= 0 # create column of boolean arrays with 1 for price == $0 & 0 for price != $0\n",
    "df['renov_date_is0'] = df['yr_renovated'] <= 0 # create column of boolean arrays with 1 for yr_renov == 0 & 0 for others\n",
    "\n",
    "# replacing 0s with the mean bedroom & bathroom values\n",
    "df[\"bedrooms\"].replace({0: round(df[\"bedrooms\"].mean(), 0)}, inplace=True)\n",
    "df[\"bathrooms\"].replace({0: round(df[\"bathrooms\"].mean(), 0)}, inplace=True)"
   ]
  },
  {
   "cell_type": "code",
   "execution_count": 18,
   "metadata": {
    "scrolled": false
   },
   "outputs": [],
   "source": [
    "for c in ['statezip', 'country', 'state', 'street']:\n",
    "    try:\n",
    "        del df[c]\n",
    "    except KeyError:\n",
    "        pass"
   ]
  },
  {
   "cell_type": "code",
   "execution_count": 19,
   "metadata": {
    "scrolled": true
   },
   "outputs": [],
   "source": [
    "# remove `month` from here and do get_dummies on it after plotting ecdf\n",
    "df = pd.get_dummies(df, columns=['month', 'zipcode', 'street_name', 'city'])"
   ]
  },
  {
   "cell_type": "code",
   "execution_count": 20,
   "metadata": {
    "scrolled": true
   },
   "outputs": [
    {
     "data": {
      "text/html": [
       "<div>\n",
       "<style scoped>\n",
       "    .dataframe tbody tr th:only-of-type {\n",
       "        vertical-align: middle;\n",
       "    }\n",
       "\n",
       "    .dataframe tbody tr th {\n",
       "        vertical-align: top;\n",
       "    }\n",
       "\n",
       "    .dataframe thead th {\n",
       "        text-align: right;\n",
       "    }\n",
       "</style>\n",
       "<table border=\"1\" class=\"dataframe\">\n",
       "  <thead>\n",
       "    <tr style=\"text-align: right;\">\n",
       "      <th></th>\n",
       "      <th>date</th>\n",
       "      <th>price</th>\n",
       "      <th>bedrooms</th>\n",
       "      <th>bathrooms</th>\n",
       "      <th>sqft_living</th>\n",
       "      <th>sqft_lot</th>\n",
       "      <th>floors</th>\n",
       "      <th>waterfront</th>\n",
       "      <th>view</th>\n",
       "      <th>condition</th>\n",
       "      <th>...</th>\n",
       "      <th>city_SeaTac</th>\n",
       "      <th>city_Seattle</th>\n",
       "      <th>city_Shoreline</th>\n",
       "      <th>city_Skykomish</th>\n",
       "      <th>city_Snoqualmie</th>\n",
       "      <th>city_Snoqualmie Pass</th>\n",
       "      <th>city_Tukwila</th>\n",
       "      <th>city_Vashon</th>\n",
       "      <th>city_Woodinville</th>\n",
       "      <th>city_Yarrow Point</th>\n",
       "    </tr>\n",
       "  </thead>\n",
       "  <tbody>\n",
       "    <tr>\n",
       "      <th>0</th>\n",
       "      <td>2014-05-02</td>\n",
       "      <td>313000.0</td>\n",
       "      <td>3.0</td>\n",
       "      <td>1.50</td>\n",
       "      <td>1340</td>\n",
       "      <td>7912</td>\n",
       "      <td>1.5</td>\n",
       "      <td>0</td>\n",
       "      <td>0</td>\n",
       "      <td>3</td>\n",
       "      <td>...</td>\n",
       "      <td>0</td>\n",
       "      <td>0</td>\n",
       "      <td>1</td>\n",
       "      <td>0</td>\n",
       "      <td>0</td>\n",
       "      <td>0</td>\n",
       "      <td>0</td>\n",
       "      <td>0</td>\n",
       "      <td>0</td>\n",
       "      <td>0</td>\n",
       "    </tr>\n",
       "    <tr>\n",
       "      <th>1</th>\n",
       "      <td>2014-05-02</td>\n",
       "      <td>2384000.0</td>\n",
       "      <td>5.0</td>\n",
       "      <td>2.50</td>\n",
       "      <td>3650</td>\n",
       "      <td>9050</td>\n",
       "      <td>2.0</td>\n",
       "      <td>0</td>\n",
       "      <td>4</td>\n",
       "      <td>5</td>\n",
       "      <td>...</td>\n",
       "      <td>0</td>\n",
       "      <td>1</td>\n",
       "      <td>0</td>\n",
       "      <td>0</td>\n",
       "      <td>0</td>\n",
       "      <td>0</td>\n",
       "      <td>0</td>\n",
       "      <td>0</td>\n",
       "      <td>0</td>\n",
       "      <td>0</td>\n",
       "    </tr>\n",
       "    <tr>\n",
       "      <th>2</th>\n",
       "      <td>2014-05-02</td>\n",
       "      <td>342000.0</td>\n",
       "      <td>3.0</td>\n",
       "      <td>2.00</td>\n",
       "      <td>1930</td>\n",
       "      <td>11947</td>\n",
       "      <td>1.0</td>\n",
       "      <td>0</td>\n",
       "      <td>0</td>\n",
       "      <td>4</td>\n",
       "      <td>...</td>\n",
       "      <td>0</td>\n",
       "      <td>0</td>\n",
       "      <td>0</td>\n",
       "      <td>0</td>\n",
       "      <td>0</td>\n",
       "      <td>0</td>\n",
       "      <td>0</td>\n",
       "      <td>0</td>\n",
       "      <td>0</td>\n",
       "      <td>0</td>\n",
       "    </tr>\n",
       "    <tr>\n",
       "      <th>3</th>\n",
       "      <td>2014-05-02</td>\n",
       "      <td>420000.0</td>\n",
       "      <td>3.0</td>\n",
       "      <td>2.25</td>\n",
       "      <td>2000</td>\n",
       "      <td>8030</td>\n",
       "      <td>1.0</td>\n",
       "      <td>0</td>\n",
       "      <td>0</td>\n",
       "      <td>4</td>\n",
       "      <td>...</td>\n",
       "      <td>0</td>\n",
       "      <td>0</td>\n",
       "      <td>0</td>\n",
       "      <td>0</td>\n",
       "      <td>0</td>\n",
       "      <td>0</td>\n",
       "      <td>0</td>\n",
       "      <td>0</td>\n",
       "      <td>0</td>\n",
       "      <td>0</td>\n",
       "    </tr>\n",
       "    <tr>\n",
       "      <th>4</th>\n",
       "      <td>2014-05-02</td>\n",
       "      <td>550000.0</td>\n",
       "      <td>4.0</td>\n",
       "      <td>2.50</td>\n",
       "      <td>1940</td>\n",
       "      <td>10500</td>\n",
       "      <td>1.0</td>\n",
       "      <td>0</td>\n",
       "      <td>0</td>\n",
       "      <td>4</td>\n",
       "      <td>...</td>\n",
       "      <td>0</td>\n",
       "      <td>0</td>\n",
       "      <td>0</td>\n",
       "      <td>0</td>\n",
       "      <td>0</td>\n",
       "      <td>0</td>\n",
       "      <td>0</td>\n",
       "      <td>0</td>\n",
       "      <td>0</td>\n",
       "      <td>0</td>\n",
       "    </tr>\n",
       "  </tbody>\n",
       "</table>\n",
       "<p>5 rows × 2760 columns</p>\n",
       "</div>"
      ],
      "text/plain": [
       "        date      price  bedrooms  bathrooms  sqft_living  sqft_lot  floors  \\\n",
       "0 2014-05-02   313000.0       3.0       1.50         1340      7912     1.5   \n",
       "1 2014-05-02  2384000.0       5.0       2.50         3650      9050     2.0   \n",
       "2 2014-05-02   342000.0       3.0       2.00         1930     11947     1.0   \n",
       "3 2014-05-02   420000.0       3.0       2.25         2000      8030     1.0   \n",
       "4 2014-05-02   550000.0       4.0       2.50         1940     10500     1.0   \n",
       "\n",
       "  waterfront  view condition  ...  city_SeaTac  city_Seattle  city_Shoreline  \\\n",
       "0          0     0         3  ...            0             0               1   \n",
       "1          0     4         5  ...            0             1               0   \n",
       "2          0     0         4  ...            0             0               0   \n",
       "3          0     0         4  ...            0             0               0   \n",
       "4          0     0         4  ...            0             0               0   \n",
       "\n",
       "   city_Skykomish  city_Snoqualmie  city_Snoqualmie Pass  city_Tukwila  \\\n",
       "0               0                0                     0             0   \n",
       "1               0                0                     0             0   \n",
       "2               0                0                     0             0   \n",
       "3               0                0                     0             0   \n",
       "4               0                0                     0             0   \n",
       "\n",
       "   city_Vashon  city_Woodinville  city_Yarrow Point  \n",
       "0            0                 0                  0  \n",
       "1            0                 0                  0  \n",
       "2            0                 0                  0  \n",
       "3            0                 0                  0  \n",
       "4            0                 0                  0  \n",
       "\n",
       "[5 rows x 2760 columns]"
      ]
     },
     "execution_count": 20,
     "metadata": {},
     "output_type": "execute_result"
    }
   ],
   "source": [
    "df.head()"
   ]
  },
  {
   "cell_type": "markdown",
   "metadata": {},
   "source": [
    "**Further feature engineering**"
   ]
  },
  {
   "cell_type": "code",
   "execution_count": 21,
   "metadata": {},
   "outputs": [],
   "source": [
    "df_no_outs = df[df.price < 10000000].copy() # df with price outliers removed\n",
    "df_no_zeros = df_no_outs[df_no_outs[\"price\"] != 0].copy() # df with $0 prices removed\n",
    "\n",
    "df2 = df.copy()\n",
    "df2['yr_built_is0'] = df2['yr_built'] <= 0\n",
    "df2['renovation_age'] = df2['year'] - df2['yr_renovated']\n",
    "df2['house_age'] = df2['year'] - df2['yr_built']\n",
    "df2['sqft_lot'] = df2[df2['sqft_lot'] < 600000]\n",
    "df2_no_outs = df[df.price < 10000000].copy() # df2 with price outliers removed\n",
    "df2_no_zeros = df_no_outs[df_no_outs[\"price\"] != 0].copy() # df2 with $0 prices removed"
   ]
  },
  {
   "cell_type": "markdown",
   "metadata": {},
   "source": [
    "## Statistical Data Analysis"
   ]
  },
  {
   "cell_type": "code",
   "execution_count": 22,
   "metadata": {},
   "outputs": [
    {
     "data": {
      "text/plain": [
       "'\\nmeanprice_bedrooms = df_no_zeros.groupby(\\'bedrooms\\')[\\'price\\'].mean()\\nmedianprice_bedrooms = df_no_zeros.groupby(\\'bedrooms\\')[\\'price\\'].median()\\n\\nmeansqft_bedroom = df_no_zeros.groupby(\"bedrooms\")[\"sqft_living\"].mean()\\nmediansqft_bedroom = df_no_zeros.groupby(\"bedrooms\")[\"sqft_living\"].median()\\n\\nmay_price = df_no_zeros[df_no_zeros.month==5][\\'price\\']\\njune_price = df_no_zeros[df_no_zeros.month==6][\\'price\\']\\njuly_price = df_no_zeros[df_no_zeros.month==7][\\'price\\']\\n\\ndef ecdf(data):\\n    \"\"\"Compute ECDF for a one-dimensional array of measurements.\"\"\"\\n    n = len(data)\\n\\n    x = np.sort(data)\\n\\n    y = np.arange(1, n+1) / n\\n\\n    return x, y\\n\\n# Compute ECDFs\\nx_5, y_5 = ecdf(may_price)\\nx_6, y_6 = ecdf(june_price)\\nx_7, y_7 = ecdf(july_price)\\n'"
      ]
     },
     "execution_count": 22,
     "metadata": {},
     "output_type": "execute_result"
    }
   ],
   "source": [
    "'''\n",
    "meanprice_bedrooms = df_no_zeros.groupby('bedrooms')['price'].mean()\n",
    "medianprice_bedrooms = df_no_zeros.groupby('bedrooms')['price'].median()\n",
    "\n",
    "meansqft_bedroom = df_no_zeros.groupby(\"bedrooms\")[\"sqft_living\"].mean()\n",
    "mediansqft_bedroom = df_no_zeros.groupby(\"bedrooms\")[\"sqft_living\"].median()\n",
    "\n",
    "may_price = df_no_zeros[df_no_zeros.month==5]['price']\n",
    "june_price = df_no_zeros[df_no_zeros.month==6]['price']\n",
    "july_price = df_no_zeros[df_no_zeros.month==7]['price']\n",
    "\n",
    "def ecdf(data):\n",
    "    \"\"\"Compute ECDF for a one-dimensional array of measurements.\"\"\"\n",
    "    n = len(data)\n",
    "\n",
    "    x = np.sort(data)\n",
    "\n",
    "    y = np.arange(1, n+1) / n\n",
    "\n",
    "    return x, y\n",
    "\n",
    "# Compute ECDFs\n",
    "x_5, y_5 = ecdf(may_price)\n",
    "x_6, y_6 = ecdf(june_price)\n",
    "x_7, y_7 = ecdf(july_price)\n",
    "'''"
   ]
  },
  {
   "cell_type": "markdown",
   "metadata": {},
   "source": [
    "### Feature Importance"
   ]
  },
  {
   "cell_type": "code",
   "execution_count": 23,
   "metadata": {},
   "outputs": [],
   "source": [
    "from sklearn.feature_selection import f_regression\n",
    "from sklearn.feature_selection import SelectKBest\n",
    "\n",
    "def feature_importance(X, y, model='reg'):\n",
    "    score_func = {'reg': f_regression}\n",
    "\n",
    "    # Score each of the features\n",
    "    bestfeatures = SelectKBest(score_func=score_func[model], k='all')\n",
    "    fit = bestfeatures.fit(X, y)\n",
    "\n",
    "    # Organize and return the scores\n",
    "    featureScores = pd.DataFrame([X.columns, fit.scores_]).T\n",
    "    featureScores.columns = ['Feature', 'Score']\n",
    "    return featureScores.sort_values('Score', ascending=False).set_index('Feature') "
   ]
  },
  {
   "cell_type": "markdown",
   "metadata": {},
   "source": [
    "### Hypothesis Test I"
   ]
  },
  {
   "cell_type": "markdown",
   "metadata": {},
   "source": [
    "**Ho**: Prices of houses with many bedrooms and a few bedrooms are equal.  \n",
    "**Ha**: Prices of houses with many bedrooms and a few bedrooms are different."
   ]
  },
  {
   "cell_type": "markdown",
   "metadata": {},
   "source": [
    "t-test:\n",
    "I'll compare 2 groups: one with `bedrooms` greater than or equal to 4, and another with less than 4."
   ]
  },
  {
   "cell_type": "code",
   "execution_count": 24,
   "metadata": {},
   "outputs": [
    {
     "data": {
      "text/plain": [
       "Ttest_indResult(statistic=20.612406446603853, pvalue=2.3169170411918228e-90)"
      ]
     },
     "execution_count": 24,
     "metadata": {},
     "output_type": "execute_result"
    }
   ],
   "source": [
    "many_bedrooms = df_no_outs[df_no_outs['bedrooms'] >= 4]['price']\n",
    "few_bedrooms = df_no_outs[df_no_outs['bedrooms'] < 4]['price']\n",
    "stats.ttest_ind(many_bedrooms, few_bedrooms)"
   ]
  },
  {
   "cell_type": "markdown",
   "metadata": {},
   "source": [
    "#### Result\n",
    "**t-stat**: 20.6  \n",
    "**p-val**: 2.3e-90 < 0.05  \n",
    "We reject the null hypothesis that houses with many bedrooms are priced around the same as houses with fewer bedrooms."
   ]
  },
  {
   "cell_type": "markdown",
   "metadata": {},
   "source": [
    "### Hypothesis Test II"
   ]
  },
  {
   "cell_type": "markdown",
   "metadata": {},
   "source": [
    "**Ho**: Houses with waterfronts are priced the same as houses without waterfronts.  \n",
    "**Ha**: Houses with waterfronts are priced differently than houses without waterfronts."
   ]
  },
  {
   "cell_type": "code",
   "execution_count": 25,
   "metadata": {
    "scrolled": true
   },
   "outputs": [
    {
     "data": {
      "text/plain": [
       "Ttest_indResult(statistic=14.441521571804724, pvalue=2.8817562762538972e-46)"
      ]
     },
     "execution_count": 25,
     "metadata": {},
     "output_type": "execute_result"
    }
   ],
   "source": [
    "waterfront = df_no_outs[df_no_outs['waterfront'] == 1]['price']\n",
    "no_waterfront = df_no_outs[df_no_outs['waterfront'] == 0]['price']\n",
    "stats.ttest_ind(waterfront, no_waterfront)"
   ]
  },
  {
   "cell_type": "markdown",
   "metadata": {},
   "source": [
    "#### Result\n",
    "**t-stat**: 14.4  \n",
    "**p-val**: 2.9e-46 < 0.05  \n",
    "We reject the null hypothesis that houses with waterfronts are priced the same as houses without waterfronts."
   ]
  },
  {
   "cell_type": "markdown",
   "metadata": {},
   "source": [
    "# Data Modeling"
   ]
  },
  {
   "cell_type": "markdown",
   "metadata": {},
   "source": [
    "## Data Preprocessing"
   ]
  },
  {
   "cell_type": "code",
   "execution_count": 33,
   "metadata": {},
   "outputs": [],
   "source": [
    "# dataframe with both zero prices and outliers.\n",
    "X = df.drop(['price', 'date', 'year'], axis='columns')\n",
    "y = df[\"price\"]\n",
    "# splitting data into training and test data\n",
    "X_train, X_test, y_train_true, y_test_true = train_test_split(X, y, test_size = 0.3, random_state=42)\n",
    "\n",
    "# dataframe without price outliers\n",
    "X_no_outs = df_no_outs.drop(['price', 'date', 'year'], axis='columns')\n",
    "y_no_outs = df_no_outs[\"price\"]\n",
    "X_train_no_outs, X_test_no_outs, y_train_no_outs, y_test_no_outs = train_test_split(X_no_outs, y_no_outs, test_size = 0.3, random_state=42)\n",
    "\n",
    "# dataframe without $0 price values\n",
    "X_no_zeros = df_no_zeros.drop(['price', 'date', 'year'], axis='columns')\n",
    "y_no_zeros = df_no_zeros[\"price\"]\n",
    "X_train_no_zeros, X_test_no_zeros, y_train_no_zeros, y_test_no_zeros = train_test_split(X_no_zeros, y_no_zeros, test_size = 0.3, random_state=42)\n",
    "\n",
    "# dataframe with a parabolic transformation on the `bedrooms` feature\n",
    "X_transformed = df_no_zeros.drop(['price', 'date', 'year'], axis='columns')\n",
    "X_transformed['bedrooms_squared'] = X['bedrooms']**2  # parabolic transformation of bedrooms\n",
    "y_transformed = df_no_zeros['price']\n",
    "X_train_transformed, X_test_transformed, y_train_transformed, y_test_transformed = train_test_split(X_transformed, y_transformed, test_size = 0.3, random_state=42)\n",
    "\n",
    "# dataframe with both zero prices and outliers.\n",
    "X2 = df2.drop(['price', 'date', 'year'], axis='columns')\n",
    "y2 = df2[\"price\"]\n",
    "X2_train, X2_test, y2_train, y2_test = train_test_split(X2, y2, test_size = 0.3, random_state=42)\n",
    "\n",
    "# dataframe without price outliers\n",
    "X2_no_outs = df2_no_outs.drop(['price', 'date', 'year'], axis='columns')\n",
    "y2_no_outs = df2_no_outs[\"price\"]\n",
    "X2_train_no_outs, X2_test_no_outs, y2_train_no_outs, y2_test_no_outs = train_test_split(X2_no_outs, y2_no_outs, test_size = 0.3, random_state=42)\n",
    "\n",
    "# dataframe without $0 price values\n",
    "X2_no_zeros = df2_no_zeros.drop(['price', 'date', 'year'], axis='columns')\n",
    "y2_no_zeros = df2_no_zeros[\"price\"]\n",
    "X2_train_no_zeros, X2_test_no_zeros, y2_train_no_zeros, y2_test_no_zeros = train_test_split(X2_no_zeros, y2_no_zeros, test_size = 0.3, random_state=42)\n",
    "\n",
    "# dataframe with a parabolic transformation on the `bedrooms` feature\n",
    "X2_transformed = df2_no_zeros.drop(['price', 'date', 'year'], axis='columns')\n",
    "X2_transformed['bedrooms_squared'] = X2_transformed['bedrooms']**2  # parabolic transformation of bedrooms\n",
    "y2_transformed = df2_no_zeros['price']\n",
    "X2_train_transformed, X2_test_transformed, y2_train_transformed, y2_test_transformed = train_test_split(X2_transformed, y2_transformed, test_size = 0.3, random_state=42)\n"
   ]
  },
  {
   "cell_type": "code",
   "execution_count": 27,
   "metadata": {},
   "outputs": [],
   "source": [
    "# 4 training sets and test sets\n",
    "# 3 algorithms\n",
    "\n",
    "train_test_sets = [\n",
    "    [X_train, X_test, y_train_true, y_test_true],\n",
    "    [X_train_no_outs, X_test_no_outs, y_train_no_outs, y_test_no_outs],\n",
    "    [X_train_no_zeros, X_test_no_zeros, y_train_no_zeros, y_test_no_zeros],\n",
    "    [X_train_transformed, X_test_transformed, y_train_transformed, y_test_transformed],\n",
    "    [X2_train, X2_test, y2_train, y2_test],\n",
    "    [X2_train_no_outs, X2_test_no_outs, y2_train_no_outs, y2_test_no_outs],\n",
    "    [X2_train_no_zeros, X2_test_no_zeros, y2_train_no_zeros, y2_test_no_zeros],\n",
    "    [X2_train_transformed, X2_test_transformed, y2_train_transformed, y2_test_transformed],\n",
    "]\n",
    "\n",
    "train_test_dicts = []\n",
    "for i, sets in enumerate(train_test_sets):\n",
    "    d = dict(zip('X_train X_test y_train_true y_test_true'.split(), sets))\n",
    "    train_test_dicts.append(d)\n",
    "\n",
    "algorithms = [LinearRegression, Ridge, RandomForestRegressor]\n",
    "names = ['linear regression', 'ridge regression ', 'random forest    ']"
   ]
  },
  {
   "cell_type": "code",
   "execution_count": 28,
   "metadata": {},
   "outputs": [],
   "source": [
    "'''\n",
    "def calc_train_error(X_train, y_train, model):\n",
    "    #returns in-sample error for already fit model.\n",
    "    y_pred = model.predict(X_train)\n",
    "    mse = mean_squared_error(y_train, y_pred)\n",
    "    rmse = np.sqrt(mse)\n",
    "    return rmse\n",
    "    \n",
    "def calc_test_error(X_test, y_test, model):\n",
    "    #returns out-of-sample error for already fit model.\n",
    "    y_pred = model.predict(X_test)\n",
    "    mse = mean_squared_error(y_test, y_pred)\n",
    "    rmse = np.sqrt(mse)\n",
    "    return rmse\n",
    "    '''\n",
    "\n",
    "def calc_rmse(y_true, y_pred):\n",
    "    rmse = np.sqrt(np.mean(y_true - y_pred)**2)\n",
    "    return rmse\n",
    "    \n",
    "def fit_and_score(X_train, y_train_true, X_test, y_test_true, model):\n",
    "    '''fits model and returns the RMSE for in-sample error and out-of-sample error, and their accuracy score'''\n",
    "    \n",
    "    model.fit(X_train, y_train_true)\n",
    "    y_train_pred = model.predict(X_train)\n",
    "    train_error = calc_rmse(y_true=y_train_true, y_pred=y_train_pred)\n",
    "    y_test_pred = model.predict(X_test)\n",
    "    test_error = calc_rmse(y_true=y_test_true, y_pred=y_test_pred)\n",
    "    \n",
    "    #print(y_train.shape, y_pred.shape)\n",
    "    \n",
    "    train_score = model.score(X_train, y_train_true)\n",
    "    test_score = model.score(X_test, y_test_true)\n",
    "    \n",
    "    return train_error, test_error, train_score, test_score, y_train_pred, y_test_pred"
   ]
  },
  {
   "cell_type": "markdown",
   "metadata": {},
   "source": [
    "### Choosing alpha for Ridge Regression"
   ]
  },
  {
   "cell_type": "code",
   "execution_count": 31,
   "metadata": {},
   "outputs": [
    {
     "name": "stdout",
     "output_type": "stream",
     "text": [
      "\n",
      "alpha: 0.0001 | test_score: 0.07617912088939582 | test_error: 28566.35517300306 | test/train error: 338459479266120.2\n",
      "alpha: 0.001 | test_score: 0.07853034951751338 | test_error: 27887.069950909234 | test/train error: 4479940201405.5\n",
      "alpha: 0.01 | test_score: 0.08293963903574408 | test_error: 26416.88262616 | test/train error: 12822886435380.7\n",
      "alpha: 0.1 | test_score: 0.0888537588858156 | test_error: 25387.83019539755 | test/train error: 99647645609803.0\n",
      "alpha: 1 | test_score: 0.0980933941861637 | test_error: 23232.288498621427 | test/train error: 525210919799374.6\n",
      "alpha: 10.0 | test_score: 0.09840871488828508 | test_error: 22945.309749708143 | test/train error: 28451699998521.4\n",
      "\n",
      "alpha: 0.0001 | test_score: 0.5702971105591239 | test_error: 4055.501032359898 | test/train error: 6158197117849.7\n",
      "alpha: 0.001 | test_score: 0.5777523919863424 | test_error: 4375.531388178785 | test/train error: 3400296045508.8\n",
      "alpha: 0.01 | test_score: 0.5974661795823368 | test_error: 4872.086406264395 | test/train error: 8433339030304.1\n",
      "alpha: 0.1 | test_score: 0.6423940104596548 | test_error: 4306.264125178734 | test/train error: 10492332872348.8\n",
      "alpha: 1 | test_score: 0.7051432329874714 | test_error: 4409.198757710269 | test/train error: 5432137883973.9\n",
      "alpha: 10.0 | test_score: 0.7261238735062293 | test_error: 3278.0499092683694 | test/train error: 212707037580621.0\n",
      "\n",
      "alpha: 0.0001 | test_score: 0.569423942162187 | test_error: 12440.661737446091 | test/train error: 25546698281331.6\n",
      "alpha: 0.001 | test_score: 0.6329329433650457 | test_error: 10356.53168390476 | test/train error: 1026285450619059.8\n",
      "alpha: 0.01 | test_score: 0.7043597430909456 | test_error: 6707.891387580094 | test/train error: 24414557041753.6\n",
      "alpha: 0.1 | test_score: 0.737346383690731 | test_error: 5966.532864340418 | test/train error: 50686992549624.8\n",
      "alpha: 1 | test_score: 0.7664180494081397 | test_error: 4759.165906486796 | test/train error: 6360442298872.3\n",
      "alpha: 10.0 | test_score: 0.7648228040257405 | test_error: 4572.243225270335 | test/train error: 16943629897191.1\n",
      "\n",
      "alpha: 0.0001 | test_score: 0.5666728410658873 | test_error: 12765.753298985039 | test/train error: 119940859830007.8\n",
      "alpha: 0.001 | test_score: 0.6306734173356551 | test_error: 10672.967528153076 | test/train error: 1177054096832619.0\n",
      "alpha: 0.01 | test_score: 0.7029525482404471 | test_error: 6983.933061945137 | test/train error: 63980246450944.8\n",
      "alpha: 0.1 | test_score: 0.736646245904603 | test_error: 6142.841617166739 | test/train error: 13572636338677.6\n",
      "alpha: 1 | test_score: 0.7660798571924108 | test_error: 4866.420389849989 | test/train error: 25208013140458.6\n",
      "alpha: 10.0 | test_score: 0.7645735071976965 | test_error: 4642.52731556809 | test/train error: 4882893210569.7\n",
      "\n"
     ]
    },
    {
     "ename": "TypeError",
     "evalue": "float() argument must be a string or a number, not 'Timestamp'",
     "output_type": "error",
     "traceback": [
      "\u001b[0;31m---------------------------------------------------------------------------\u001b[0m",
      "\u001b[0;31mTypeError\u001b[0m                                 Traceback (most recent call last)",
      "\u001b[0;32m<ipython-input-31-93b82b00e1e7>\u001b[0m in \u001b[0;36m<module>\u001b[0;34m\u001b[0m\n\u001b[1;32m      5\u001b[0m     \u001b[0;32mfor\u001b[0m \u001b[0malpha\u001b[0m \u001b[0;32min\u001b[0m \u001b[0malphas\u001b[0m\u001b[0;34m:\u001b[0m\u001b[0;34m\u001b[0m\u001b[0;34m\u001b[0m\u001b[0m\n\u001b[1;32m      6\u001b[0m         \u001b[0mmodel\u001b[0m \u001b[0;34m=\u001b[0m \u001b[0mRidge\u001b[0m\u001b[0;34m(\u001b[0m\u001b[0malpha\u001b[0m \u001b[0;34m=\u001b[0m \u001b[0malpha\u001b[0m\u001b[0;34m)\u001b[0m\u001b[0;34m\u001b[0m\u001b[0;34m\u001b[0m\u001b[0m\n\u001b[0;32m----> 7\u001b[0;31m         \u001b[0mtrain_error\u001b[0m\u001b[0;34m,\u001b[0m \u001b[0mtest_error\u001b[0m\u001b[0;34m,\u001b[0m \u001b[0mtrain_score\u001b[0m\u001b[0;34m,\u001b[0m \u001b[0mtest_score\u001b[0m\u001b[0;34m,\u001b[0m \u001b[0my_train_pred\u001b[0m\u001b[0;34m,\u001b[0m \u001b[0my_test_pred\u001b[0m \u001b[0;34m=\u001b[0m \u001b[0mfit_and_score\u001b[0m\u001b[0;34m(\u001b[0m\u001b[0mmodel\u001b[0m\u001b[0;34m=\u001b[0m\u001b[0mmodel\u001b[0m\u001b[0;34m,\u001b[0m \u001b[0;34m**\u001b[0m\u001b[0msets\u001b[0m\u001b[0;34m)\u001b[0m\u001b[0;34m\u001b[0m\u001b[0;34m\u001b[0m\u001b[0m\n\u001b[0m\u001b[1;32m      8\u001b[0m         \u001b[0;31m#train_error, test_error, train_score, test_score, y_pred = fit_and_score(sets[0], sets[2],  sets[1], sets[3], model)\u001b[0m\u001b[0;34m\u001b[0m\u001b[0;34m\u001b[0m\u001b[0;34m\u001b[0m\u001b[0m\n\u001b[1;32m      9\u001b[0m         \u001b[0mprint\u001b[0m\u001b[0;34m(\u001b[0m\u001b[0;34m'alpha: {} | test_score: {} | test_error: {} | test/train error: {}'\u001b[0m\u001b[0;34m.\u001b[0m\u001b[0mformat\u001b[0m\u001b[0;34m(\u001b[0m\u001b[0malpha\u001b[0m\u001b[0;34m,\u001b[0m \u001b[0mtest_score\u001b[0m\u001b[0;34m,\u001b[0m \u001b[0mtest_error\u001b[0m\u001b[0;34m,\u001b[0m \u001b[0mround\u001b[0m\u001b[0;34m(\u001b[0m\u001b[0mtest_error\u001b[0m\u001b[0;34m/\u001b[0m\u001b[0mtrain_error\u001b[0m\u001b[0;34m,\u001b[0m \u001b[0;36m1\u001b[0m\u001b[0;34m)\u001b[0m\u001b[0;34m)\u001b[0m\u001b[0;34m)\u001b[0m\u001b[0;34m\u001b[0m\u001b[0;34m\u001b[0m\u001b[0m\n",
      "\u001b[0;32m<ipython-input-28-45f518648cf8>\u001b[0m in \u001b[0;36mfit_and_score\u001b[0;34m(X_train, y_train_true, X_test, y_test_true, model)\u001b[0m\n\u001b[1;32m     22\u001b[0m     \u001b[0;34m'''fits model and returns the RMSE for in-sample error and out-of-sample error, and their accuracy score'''\u001b[0m\u001b[0;34m\u001b[0m\u001b[0;34m\u001b[0m\u001b[0m\n\u001b[1;32m     23\u001b[0m \u001b[0;34m\u001b[0m\u001b[0m\n\u001b[0;32m---> 24\u001b[0;31m     \u001b[0mmodel\u001b[0m\u001b[0;34m.\u001b[0m\u001b[0mfit\u001b[0m\u001b[0;34m(\u001b[0m\u001b[0mX_train\u001b[0m\u001b[0;34m,\u001b[0m \u001b[0my_train_true\u001b[0m\u001b[0;34m)\u001b[0m\u001b[0;34m\u001b[0m\u001b[0;34m\u001b[0m\u001b[0m\n\u001b[0m\u001b[1;32m     25\u001b[0m     \u001b[0my_train_pred\u001b[0m \u001b[0;34m=\u001b[0m \u001b[0mmodel\u001b[0m\u001b[0;34m.\u001b[0m\u001b[0mpredict\u001b[0m\u001b[0;34m(\u001b[0m\u001b[0mX_train\u001b[0m\u001b[0;34m)\u001b[0m\u001b[0;34m\u001b[0m\u001b[0;34m\u001b[0m\u001b[0m\n\u001b[1;32m     26\u001b[0m     \u001b[0mtrain_error\u001b[0m \u001b[0;34m=\u001b[0m \u001b[0mcalc_rmse\u001b[0m\u001b[0;34m(\u001b[0m\u001b[0my_true\u001b[0m\u001b[0;34m=\u001b[0m\u001b[0my_train_true\u001b[0m\u001b[0;34m,\u001b[0m \u001b[0my_pred\u001b[0m\u001b[0;34m=\u001b[0m\u001b[0my_train_pred\u001b[0m\u001b[0;34m)\u001b[0m\u001b[0;34m\u001b[0m\u001b[0;34m\u001b[0m\u001b[0m\n",
      "\u001b[0;32m//anaconda3/lib/python3.7/site-packages/sklearn/linear_model/ridge.py\u001b[0m in \u001b[0;36mfit\u001b[0;34m(self, X, y, sample_weight)\u001b[0m\n\u001b[1;32m    745\u001b[0m         \u001b[0mself\u001b[0m \u001b[0;34m:\u001b[0m \u001b[0mreturns\u001b[0m \u001b[0man\u001b[0m \u001b[0minstance\u001b[0m \u001b[0mof\u001b[0m \u001b[0mself\u001b[0m\u001b[0;34m.\u001b[0m\u001b[0;34m\u001b[0m\u001b[0;34m\u001b[0m\u001b[0m\n\u001b[1;32m    746\u001b[0m         \"\"\"\n\u001b[0;32m--> 747\u001b[0;31m         \u001b[0;32mreturn\u001b[0m \u001b[0msuper\u001b[0m\u001b[0;34m(\u001b[0m\u001b[0;34m)\u001b[0m\u001b[0;34m.\u001b[0m\u001b[0mfit\u001b[0m\u001b[0;34m(\u001b[0m\u001b[0mX\u001b[0m\u001b[0;34m,\u001b[0m \u001b[0my\u001b[0m\u001b[0;34m,\u001b[0m \u001b[0msample_weight\u001b[0m\u001b[0;34m=\u001b[0m\u001b[0msample_weight\u001b[0m\u001b[0;34m)\u001b[0m\u001b[0;34m\u001b[0m\u001b[0;34m\u001b[0m\u001b[0m\n\u001b[0m\u001b[1;32m    748\u001b[0m \u001b[0;34m\u001b[0m\u001b[0m\n\u001b[1;32m    749\u001b[0m \u001b[0;34m\u001b[0m\u001b[0m\n",
      "\u001b[0;32m//anaconda3/lib/python3.7/site-packages/sklearn/linear_model/ridge.py\u001b[0m in \u001b[0;36mfit\u001b[0;34m(self, X, y, sample_weight)\u001b[0m\n\u001b[1;32m    545\u001b[0m                          \u001b[0maccept_sparse\u001b[0m\u001b[0;34m=\u001b[0m\u001b[0m_accept_sparse\u001b[0m\u001b[0;34m,\u001b[0m\u001b[0;34m\u001b[0m\u001b[0;34m\u001b[0m\u001b[0m\n\u001b[1;32m    546\u001b[0m                          \u001b[0mdtype\u001b[0m\u001b[0;34m=\u001b[0m\u001b[0m_dtype\u001b[0m\u001b[0;34m,\u001b[0m\u001b[0;34m\u001b[0m\u001b[0;34m\u001b[0m\u001b[0m\n\u001b[0;32m--> 547\u001b[0;31m                          multi_output=True, y_numeric=True)\n\u001b[0m\u001b[1;32m    548\u001b[0m \u001b[0;34m\u001b[0m\u001b[0m\n\u001b[1;32m    549\u001b[0m         if ((sample_weight is not None) and\n",
      "\u001b[0;32m//anaconda3/lib/python3.7/site-packages/sklearn/utils/validation.py\u001b[0m in \u001b[0;36mcheck_X_y\u001b[0;34m(X, y, accept_sparse, accept_large_sparse, dtype, order, copy, force_all_finite, ensure_2d, allow_nd, multi_output, ensure_min_samples, ensure_min_features, y_numeric, warn_on_dtype, estimator)\u001b[0m\n\u001b[1;32m    717\u001b[0m                     \u001b[0mensure_min_features\u001b[0m\u001b[0;34m=\u001b[0m\u001b[0mensure_min_features\u001b[0m\u001b[0;34m,\u001b[0m\u001b[0;34m\u001b[0m\u001b[0;34m\u001b[0m\u001b[0m\n\u001b[1;32m    718\u001b[0m                     \u001b[0mwarn_on_dtype\u001b[0m\u001b[0;34m=\u001b[0m\u001b[0mwarn_on_dtype\u001b[0m\u001b[0;34m,\u001b[0m\u001b[0;34m\u001b[0m\u001b[0;34m\u001b[0m\u001b[0m\n\u001b[0;32m--> 719\u001b[0;31m                     estimator=estimator)\n\u001b[0m\u001b[1;32m    720\u001b[0m     \u001b[0;32mif\u001b[0m \u001b[0mmulti_output\u001b[0m\u001b[0;34m:\u001b[0m\u001b[0;34m\u001b[0m\u001b[0;34m\u001b[0m\u001b[0m\n\u001b[1;32m    721\u001b[0m         y = check_array(y, 'csr', force_all_finite=True, ensure_2d=False,\n",
      "\u001b[0;32m//anaconda3/lib/python3.7/site-packages/sklearn/utils/validation.py\u001b[0m in \u001b[0;36mcheck_array\u001b[0;34m(array, accept_sparse, accept_large_sparse, dtype, order, copy, force_all_finite, ensure_2d, allow_nd, ensure_min_samples, ensure_min_features, warn_on_dtype, estimator)\u001b[0m\n\u001b[1;32m    494\u001b[0m             \u001b[0;32mtry\u001b[0m\u001b[0;34m:\u001b[0m\u001b[0;34m\u001b[0m\u001b[0;34m\u001b[0m\u001b[0m\n\u001b[1;32m    495\u001b[0m                 \u001b[0mwarnings\u001b[0m\u001b[0;34m.\u001b[0m\u001b[0msimplefilter\u001b[0m\u001b[0;34m(\u001b[0m\u001b[0;34m'error'\u001b[0m\u001b[0;34m,\u001b[0m \u001b[0mComplexWarning\u001b[0m\u001b[0;34m)\u001b[0m\u001b[0;34m\u001b[0m\u001b[0;34m\u001b[0m\u001b[0m\n\u001b[0;32m--> 496\u001b[0;31m                 \u001b[0marray\u001b[0m \u001b[0;34m=\u001b[0m \u001b[0mnp\u001b[0m\u001b[0;34m.\u001b[0m\u001b[0masarray\u001b[0m\u001b[0;34m(\u001b[0m\u001b[0marray\u001b[0m\u001b[0;34m,\u001b[0m \u001b[0mdtype\u001b[0m\u001b[0;34m=\u001b[0m\u001b[0mdtype\u001b[0m\u001b[0;34m,\u001b[0m \u001b[0morder\u001b[0m\u001b[0;34m=\u001b[0m\u001b[0morder\u001b[0m\u001b[0;34m)\u001b[0m\u001b[0;34m\u001b[0m\u001b[0;34m\u001b[0m\u001b[0m\n\u001b[0m\u001b[1;32m    497\u001b[0m             \u001b[0;32mexcept\u001b[0m \u001b[0mComplexWarning\u001b[0m\u001b[0;34m:\u001b[0m\u001b[0;34m\u001b[0m\u001b[0;34m\u001b[0m\u001b[0m\n\u001b[1;32m    498\u001b[0m                 raise ValueError(\"Complex data not supported\\n\"\n",
      "\u001b[0;32m//anaconda3/lib/python3.7/site-packages/numpy/core/numeric.py\u001b[0m in \u001b[0;36masarray\u001b[0;34m(a, dtype, order)\u001b[0m\n\u001b[1;32m    536\u001b[0m \u001b[0;34m\u001b[0m\u001b[0m\n\u001b[1;32m    537\u001b[0m     \"\"\"\n\u001b[0;32m--> 538\u001b[0;31m     \u001b[0;32mreturn\u001b[0m \u001b[0marray\u001b[0m\u001b[0;34m(\u001b[0m\u001b[0ma\u001b[0m\u001b[0;34m,\u001b[0m \u001b[0mdtype\u001b[0m\u001b[0;34m,\u001b[0m \u001b[0mcopy\u001b[0m\u001b[0;34m=\u001b[0m\u001b[0;32mFalse\u001b[0m\u001b[0;34m,\u001b[0m \u001b[0morder\u001b[0m\u001b[0;34m=\u001b[0m\u001b[0morder\u001b[0m\u001b[0;34m)\u001b[0m\u001b[0;34m\u001b[0m\u001b[0;34m\u001b[0m\u001b[0m\n\u001b[0m\u001b[1;32m    539\u001b[0m \u001b[0;34m\u001b[0m\u001b[0m\n\u001b[1;32m    540\u001b[0m \u001b[0;34m\u001b[0m\u001b[0m\n",
      "\u001b[0;31mTypeError\u001b[0m: float() argument must be a string or a number, not 'Timestamp'"
     ]
    }
   ],
   "source": [
    "alphas = [1e-4, 1e-3, 1e-2, 1e-1, 1, 1e1]\n",
    "\n",
    "for sets in train_test_dicts:\n",
    "    print('')\n",
    "    for alpha in alphas:\n",
    "        model = Ridge(alpha = alpha)\n",
    "        train_error, test_error, train_score, test_score, y_train_pred, y_test_pred = fit_and_score(model=model, **sets)\n",
    "        #train_error, test_error, train_score, test_score, y_pred = fit_and_score(sets[0], sets[2],  sets[1], sets[3], model)\n",
    "        print('alpha: {} | test_score: {} | test_error: {} | test/train error: {}'.format(alpha, test_score, test_error, round(test_error/train_error, 1)))\n"
   ]
  },
  {
   "cell_type": "markdown",
   "metadata": {},
   "source": [
    "For the 1st & 2nd datasets (df3 & df_no_outs), the best alpha seems to be alpha=1.  \n",
    "For the 3rd and 4th datasets (df_no_zeros & df_transformed), alpha=0.0001 seems best."
   ]
  },
  {
   "cell_type": "markdown",
   "metadata": {},
   "source": [
    "### Choosing parameters for Random Forest"
   ]
  },
  {
   "cell_type": "code",
   "execution_count": 32,
   "metadata": {
    "scrolled": true
   },
   "outputs": [
    {
     "name": "stdout",
     "output_type": "stream",
     "text": [
      "\n",
      "max_depth: None | n_estimators: 1 | test_score: 0.055 | test_error: 29805.514 | test/train error: 35.2\n",
      "max_depth: None | n_estimators: 10 | test_score: 0.082 | test_error: 28020.332 | test/train error: 29.4\n",
      "max_depth: None | n_estimators: 100 | test_score: 0.092 | test_error: 28133.152 | test/train error: 14.3\n",
      "max_depth: None | n_estimators: 200 | test_score: 0.09 | test_error: 28757.147 | test/train error: 12.1\n",
      "max_depth: 10 | n_estimators: 1 | test_score: 0.076 | test_error: 28616.931 | test/train error: 6.6\n",
      "max_depth: 10 | n_estimators: 10 | test_score: 0.075 | test_error: 26546.059 | test/train error: 26.9\n",
      "max_depth: 10 | n_estimators: 100 | test_score: 0.086 | test_error: 27562.634 | test/train error: 10.9\n",
      "max_depth: 10 | n_estimators: 200 | test_score: 0.085 | test_error: 28042.651 | test/train error: 11.1\n",
      "max_depth: 100 | n_estimators: 1 | test_score: 0.065 | test_error: 29462.002 | test/train error: 4.9\n",
      "max_depth: 100 | n_estimators: 10 | test_score: 0.088 | test_error: 31099.22 | test/train error: 9.5\n",
      "max_depth: 100 | n_estimators: 100 | test_score: 0.091 | test_error: 28323.502 | test/train error: 15.9\n",
      "max_depth: 100 | n_estimators: 200 | test_score: 0.09 | test_error: 28381.201 | test/train error: 18.1\n",
      "\n",
      "max_depth: None | n_estimators: 1 | test_score: 0.462 | test_error: 2614.725 | test/train error: 5.1\n",
      "max_depth: None | n_estimators: 10 | test_score: 0.699 | test_error: 2595.859 | test/train error: 1.0\n",
      "max_depth: None | n_estimators: 100 | test_score: 0.735 | test_error: 4881.602 | test/train error: 1.5\n",
      "max_depth: None | n_estimators: 200 | test_score: 0.739 | test_error: 3012.908 | test/train error: 1.2\n",
      "max_depth: 10 | n_estimators: 1 | test_score: 0.223 | test_error: 18324.382 | test/train error: 1.6\n",
      "max_depth: 10 | n_estimators: 10 | test_score: 0.665 | test_error: 446.763 | test/train error: 0.5\n",
      "max_depth: 10 | n_estimators: 100 | test_score: 0.688 | test_error: 2488.724 | test/train error: 0.9\n",
      "max_depth: 10 | n_estimators: 200 | test_score: 0.69 | test_error: 1501.152 | test/train error: 0.5\n",
      "max_depth: 100 | n_estimators: 1 | test_score: 0.403 | test_error: 3675.878 | test/train error: 2.6\n",
      "max_depth: 100 | n_estimators: 10 | test_score: 0.716 | test_error: 4609.204 | test/train error: 3.6\n",
      "max_depth: 100 | n_estimators: 100 | test_score: 0.736 | test_error: 3015.897 | test/train error: 1.5\n",
      "max_depth: 100 | n_estimators: 200 | test_score: 0.734 | test_error: 1824.699 | test/train error: 0.9\n",
      "\n",
      "max_depth: None | n_estimators: 1 | test_score: 0.424 | test_error: 13012.045 | test/train error: 3.9\n",
      "max_depth: None | n_estimators: 10 | test_score: 0.721 | test_error: 12194.801 | test/train error: 4.3\n",
      "max_depth: None | n_estimators: 100 | test_score: 0.705 | test_error: 13632.378 | test/train error: 4.4\n",
      "max_depth: None | n_estimators: 200 | test_score: 0.715 | test_error: 12608.881 | test/train error: 4.0\n",
      "max_depth: 10 | n_estimators: 1 | test_score: 0.399 | test_error: 157.044 | test/train error: 0.0\n",
      "max_depth: 10 | n_estimators: 10 | test_score: 0.681 | test_error: 12415.976 | test/train error: 2.8\n",
      "max_depth: 10 | n_estimators: 100 | test_score: 0.673 | test_error: 12958.072 | test/train error: 4.1\n",
      "max_depth: 10 | n_estimators: 200 | test_score: 0.685 | test_error: 13361.075 | test/train error: 4.2\n",
      "max_depth: 100 | n_estimators: 1 | test_score: 0.514 | test_error: 5503.111 | test/train error: 1.8\n",
      "max_depth: 100 | n_estimators: 10 | test_score: 0.673 | test_error: 14476.392 | test/train error: 4.1\n",
      "max_depth: 100 | n_estimators: 100 | test_score: 0.709 | test_error: 12453.965 | test/train error: 3.8\n",
      "max_depth: 100 | n_estimators: 200 | test_score: 0.718 | test_error: 12875.729 | test/train error: 4.0\n",
      "\n",
      "max_depth: None | n_estimators: 1 | test_score: 0.509 | test_error: 23952.746 | test/train error: 7.3\n",
      "max_depth: None | n_estimators: 10 | test_score: 0.689 | test_error: 11653.567 | test/train error: 2.9\n",
      "max_depth: None | n_estimators: 100 | test_score: 0.713 | test_error: 13397.105 | test/train error: 5.3\n",
      "max_depth: None | n_estimators: 200 | test_score: 0.706 | test_error: 11463.183 | test/train error: 4.3\n",
      "max_depth: 10 | n_estimators: 1 | test_score: 0.529 | test_error: 22514.153 | test/train error: 2.1\n",
      "max_depth: 10 | n_estimators: 10 | test_score: 0.635 | test_error: 13838.408 | test/train error: 3.6\n",
      "max_depth: 10 | n_estimators: 100 | test_score: 0.684 | test_error: 13035.021 | test/train error: 4.2\n",
      "max_depth: 10 | n_estimators: 200 | test_score: 0.678 | test_error: 13410.436 | test/train error: 4.3\n",
      "max_depth: 100 | n_estimators: 1 | test_score: 0.273 | test_error: 15904.812 | test/train error: 2.0\n",
      "max_depth: 100 | n_estimators: 10 | test_score: 0.691 | test_error: 17777.513 | test/train error: 3.4\n",
      "max_depth: 100 | n_estimators: 100 | test_score: 0.72 | test_error: 13232.32 | test/train error: 4.2\n",
      "max_depth: 100 | n_estimators: 200 | test_score: 0.716 | test_error: 12436.174 | test/train error: 4.1\n",
      "\n"
     ]
    },
    {
     "ename": "TypeError",
     "evalue": "float() argument must be a string or a number, not 'Timestamp'",
     "output_type": "error",
     "traceback": [
      "\u001b[0;31m---------------------------------------------------------------------------\u001b[0m",
      "\u001b[0;31mTypeError\u001b[0m                                 Traceback (most recent call last)",
      "\u001b[0;32m<ipython-input-32-52ade4448d8f>\u001b[0m in \u001b[0;36m<module>\u001b[0;34m\u001b[0m\n\u001b[1;32m      7\u001b[0m         \u001b[0;32mfor\u001b[0m \u001b[0mn\u001b[0m \u001b[0;32min\u001b[0m \u001b[0mn_estimators\u001b[0m\u001b[0;34m:\u001b[0m\u001b[0;34m\u001b[0m\u001b[0;34m\u001b[0m\u001b[0m\n\u001b[1;32m      8\u001b[0m             \u001b[0mmodel\u001b[0m \u001b[0;34m=\u001b[0m \u001b[0mRandomForestRegressor\u001b[0m\u001b[0;34m(\u001b[0m\u001b[0mmax_depth\u001b[0m\u001b[0;34m=\u001b[0m\u001b[0mmax_depth\u001b[0m \u001b[0;34m,\u001b[0m \u001b[0mn_estimators\u001b[0m\u001b[0;34m=\u001b[0m\u001b[0mn\u001b[0m\u001b[0;34m)\u001b[0m\u001b[0;34m\u001b[0m\u001b[0;34m\u001b[0m\u001b[0m\n\u001b[0;32m----> 9\u001b[0;31m             \u001b[0mtrain_error\u001b[0m\u001b[0;34m,\u001b[0m \u001b[0mtest_error\u001b[0m\u001b[0;34m,\u001b[0m \u001b[0mtrain_score\u001b[0m\u001b[0;34m,\u001b[0m \u001b[0mtest_score\u001b[0m\u001b[0;34m,\u001b[0m \u001b[0my_train_pred\u001b[0m\u001b[0;34m,\u001b[0m \u001b[0my_test_pred\u001b[0m \u001b[0;34m=\u001b[0m \u001b[0mfit_and_score\u001b[0m\u001b[0;34m(\u001b[0m\u001b[0mmodel\u001b[0m\u001b[0;34m=\u001b[0m\u001b[0mmodel\u001b[0m\u001b[0;34m,\u001b[0m \u001b[0;34m**\u001b[0m\u001b[0msets\u001b[0m\u001b[0;34m)\u001b[0m\u001b[0;34m\u001b[0m\u001b[0;34m\u001b[0m\u001b[0m\n\u001b[0m\u001b[1;32m     10\u001b[0m             \u001b[0mtrain_error\u001b[0m\u001b[0;34m,\u001b[0m \u001b[0mtest_error\u001b[0m\u001b[0;34m,\u001b[0m \u001b[0mtrain_score\u001b[0m\u001b[0;34m,\u001b[0m \u001b[0mtest_score\u001b[0m \u001b[0;34m=\u001b[0m \u001b[0mround\u001b[0m\u001b[0;34m(\u001b[0m\u001b[0mtrain_error\u001b[0m\u001b[0;34m,\u001b[0m\u001b[0;36m3\u001b[0m\u001b[0;34m)\u001b[0m\u001b[0;34m,\u001b[0m \u001b[0mround\u001b[0m\u001b[0;34m(\u001b[0m\u001b[0mtest_error\u001b[0m\u001b[0;34m,\u001b[0m\u001b[0;36m3\u001b[0m\u001b[0;34m)\u001b[0m\u001b[0;34m,\u001b[0m \u001b[0mround\u001b[0m\u001b[0;34m(\u001b[0m\u001b[0mtrain_score\u001b[0m\u001b[0;34m,\u001b[0m\u001b[0;36m3\u001b[0m\u001b[0;34m)\u001b[0m\u001b[0;34m,\u001b[0m \u001b[0mround\u001b[0m\u001b[0;34m(\u001b[0m\u001b[0mtest_score\u001b[0m\u001b[0;34m,\u001b[0m\u001b[0;36m3\u001b[0m\u001b[0;34m)\u001b[0m\u001b[0;34m\u001b[0m\u001b[0;34m\u001b[0m\u001b[0m\n\u001b[1;32m     11\u001b[0m             \u001b[0mprint\u001b[0m\u001b[0;34m(\u001b[0m\u001b[0;34m'max_depth: {} | n_estimators: {} | test_score: {} | test_error: {} | test/train error: {}'\u001b[0m\u001b[0;34m.\u001b[0m\u001b[0mformat\u001b[0m\u001b[0;34m(\u001b[0m\u001b[0mmax_depth\u001b[0m\u001b[0;34m,\u001b[0m \u001b[0mn\u001b[0m\u001b[0;34m,\u001b[0m \u001b[0mtest_score\u001b[0m\u001b[0;34m,\u001b[0m \u001b[0mtest_error\u001b[0m\u001b[0;34m,\u001b[0m \u001b[0mround\u001b[0m\u001b[0;34m(\u001b[0m\u001b[0mtest_error\u001b[0m\u001b[0;34m/\u001b[0m\u001b[0mtrain_error\u001b[0m\u001b[0;34m,\u001b[0m \u001b[0;36m1\u001b[0m\u001b[0;34m)\u001b[0m\u001b[0;34m)\u001b[0m\u001b[0;34m)\u001b[0m\u001b[0;34m\u001b[0m\u001b[0;34m\u001b[0m\u001b[0m\n",
      "\u001b[0;32m<ipython-input-28-45f518648cf8>\u001b[0m in \u001b[0;36mfit_and_score\u001b[0;34m(X_train, y_train_true, X_test, y_test_true, model)\u001b[0m\n\u001b[1;32m     22\u001b[0m     \u001b[0;34m'''fits model and returns the RMSE for in-sample error and out-of-sample error, and their accuracy score'''\u001b[0m\u001b[0;34m\u001b[0m\u001b[0;34m\u001b[0m\u001b[0m\n\u001b[1;32m     23\u001b[0m \u001b[0;34m\u001b[0m\u001b[0m\n\u001b[0;32m---> 24\u001b[0;31m     \u001b[0mmodel\u001b[0m\u001b[0;34m.\u001b[0m\u001b[0mfit\u001b[0m\u001b[0;34m(\u001b[0m\u001b[0mX_train\u001b[0m\u001b[0;34m,\u001b[0m \u001b[0my_train_true\u001b[0m\u001b[0;34m)\u001b[0m\u001b[0;34m\u001b[0m\u001b[0;34m\u001b[0m\u001b[0m\n\u001b[0m\u001b[1;32m     25\u001b[0m     \u001b[0my_train_pred\u001b[0m \u001b[0;34m=\u001b[0m \u001b[0mmodel\u001b[0m\u001b[0;34m.\u001b[0m\u001b[0mpredict\u001b[0m\u001b[0;34m(\u001b[0m\u001b[0mX_train\u001b[0m\u001b[0;34m)\u001b[0m\u001b[0;34m\u001b[0m\u001b[0;34m\u001b[0m\u001b[0m\n\u001b[1;32m     26\u001b[0m     \u001b[0mtrain_error\u001b[0m \u001b[0;34m=\u001b[0m \u001b[0mcalc_rmse\u001b[0m\u001b[0;34m(\u001b[0m\u001b[0my_true\u001b[0m\u001b[0;34m=\u001b[0m\u001b[0my_train_true\u001b[0m\u001b[0;34m,\u001b[0m \u001b[0my_pred\u001b[0m\u001b[0;34m=\u001b[0m\u001b[0my_train_pred\u001b[0m\u001b[0;34m)\u001b[0m\u001b[0;34m\u001b[0m\u001b[0;34m\u001b[0m\u001b[0m\n",
      "\u001b[0;32m//anaconda3/lib/python3.7/site-packages/sklearn/ensemble/forest.py\u001b[0m in \u001b[0;36mfit\u001b[0;34m(self, X, y, sample_weight)\u001b[0m\n\u001b[1;32m    247\u001b[0m \u001b[0;34m\u001b[0m\u001b[0m\n\u001b[1;32m    248\u001b[0m         \u001b[0;31m# Validate or convert input data\u001b[0m\u001b[0;34m\u001b[0m\u001b[0;34m\u001b[0m\u001b[0;34m\u001b[0m\u001b[0m\n\u001b[0;32m--> 249\u001b[0;31m         \u001b[0mX\u001b[0m \u001b[0;34m=\u001b[0m \u001b[0mcheck_array\u001b[0m\u001b[0;34m(\u001b[0m\u001b[0mX\u001b[0m\u001b[0;34m,\u001b[0m \u001b[0maccept_sparse\u001b[0m\u001b[0;34m=\u001b[0m\u001b[0;34m\"csc\"\u001b[0m\u001b[0;34m,\u001b[0m \u001b[0mdtype\u001b[0m\u001b[0;34m=\u001b[0m\u001b[0mDTYPE\u001b[0m\u001b[0;34m)\u001b[0m\u001b[0;34m\u001b[0m\u001b[0;34m\u001b[0m\u001b[0m\n\u001b[0m\u001b[1;32m    250\u001b[0m         \u001b[0my\u001b[0m \u001b[0;34m=\u001b[0m \u001b[0mcheck_array\u001b[0m\u001b[0;34m(\u001b[0m\u001b[0my\u001b[0m\u001b[0;34m,\u001b[0m \u001b[0maccept_sparse\u001b[0m\u001b[0;34m=\u001b[0m\u001b[0;34m'csc'\u001b[0m\u001b[0;34m,\u001b[0m \u001b[0mensure_2d\u001b[0m\u001b[0;34m=\u001b[0m\u001b[0;32mFalse\u001b[0m\u001b[0;34m,\u001b[0m \u001b[0mdtype\u001b[0m\u001b[0;34m=\u001b[0m\u001b[0;32mNone\u001b[0m\u001b[0;34m)\u001b[0m\u001b[0;34m\u001b[0m\u001b[0;34m\u001b[0m\u001b[0m\n\u001b[1;32m    251\u001b[0m         \u001b[0;32mif\u001b[0m \u001b[0msample_weight\u001b[0m \u001b[0;32mis\u001b[0m \u001b[0;32mnot\u001b[0m \u001b[0;32mNone\u001b[0m\u001b[0;34m:\u001b[0m\u001b[0;34m\u001b[0m\u001b[0;34m\u001b[0m\u001b[0m\n",
      "\u001b[0;32m//anaconda3/lib/python3.7/site-packages/sklearn/utils/validation.py\u001b[0m in \u001b[0;36mcheck_array\u001b[0;34m(array, accept_sparse, accept_large_sparse, dtype, order, copy, force_all_finite, ensure_2d, allow_nd, ensure_min_samples, ensure_min_features, warn_on_dtype, estimator)\u001b[0m\n\u001b[1;32m    494\u001b[0m             \u001b[0;32mtry\u001b[0m\u001b[0;34m:\u001b[0m\u001b[0;34m\u001b[0m\u001b[0;34m\u001b[0m\u001b[0m\n\u001b[1;32m    495\u001b[0m                 \u001b[0mwarnings\u001b[0m\u001b[0;34m.\u001b[0m\u001b[0msimplefilter\u001b[0m\u001b[0;34m(\u001b[0m\u001b[0;34m'error'\u001b[0m\u001b[0;34m,\u001b[0m \u001b[0mComplexWarning\u001b[0m\u001b[0;34m)\u001b[0m\u001b[0;34m\u001b[0m\u001b[0;34m\u001b[0m\u001b[0m\n\u001b[0;32m--> 496\u001b[0;31m                 \u001b[0marray\u001b[0m \u001b[0;34m=\u001b[0m \u001b[0mnp\u001b[0m\u001b[0;34m.\u001b[0m\u001b[0masarray\u001b[0m\u001b[0;34m(\u001b[0m\u001b[0marray\u001b[0m\u001b[0;34m,\u001b[0m \u001b[0mdtype\u001b[0m\u001b[0;34m=\u001b[0m\u001b[0mdtype\u001b[0m\u001b[0;34m,\u001b[0m \u001b[0morder\u001b[0m\u001b[0;34m=\u001b[0m\u001b[0morder\u001b[0m\u001b[0;34m)\u001b[0m\u001b[0;34m\u001b[0m\u001b[0;34m\u001b[0m\u001b[0m\n\u001b[0m\u001b[1;32m    497\u001b[0m             \u001b[0;32mexcept\u001b[0m \u001b[0mComplexWarning\u001b[0m\u001b[0;34m:\u001b[0m\u001b[0;34m\u001b[0m\u001b[0;34m\u001b[0m\u001b[0m\n\u001b[1;32m    498\u001b[0m                 raise ValueError(\"Complex data not supported\\n\"\n",
      "\u001b[0;32m//anaconda3/lib/python3.7/site-packages/numpy/core/numeric.py\u001b[0m in \u001b[0;36masarray\u001b[0;34m(a, dtype, order)\u001b[0m\n\u001b[1;32m    536\u001b[0m \u001b[0;34m\u001b[0m\u001b[0m\n\u001b[1;32m    537\u001b[0m     \"\"\"\n\u001b[0;32m--> 538\u001b[0;31m     \u001b[0;32mreturn\u001b[0m \u001b[0marray\u001b[0m\u001b[0;34m(\u001b[0m\u001b[0ma\u001b[0m\u001b[0;34m,\u001b[0m \u001b[0mdtype\u001b[0m\u001b[0;34m,\u001b[0m \u001b[0mcopy\u001b[0m\u001b[0;34m=\u001b[0m\u001b[0;32mFalse\u001b[0m\u001b[0;34m,\u001b[0m \u001b[0morder\u001b[0m\u001b[0;34m=\u001b[0m\u001b[0morder\u001b[0m\u001b[0;34m)\u001b[0m\u001b[0;34m\u001b[0m\u001b[0;34m\u001b[0m\u001b[0m\n\u001b[0m\u001b[1;32m    539\u001b[0m \u001b[0;34m\u001b[0m\u001b[0m\n\u001b[1;32m    540\u001b[0m \u001b[0;34m\u001b[0m\u001b[0m\n",
      "\u001b[0;31mTypeError\u001b[0m: float() argument must be a string or a number, not 'Timestamp'"
     ]
    }
   ],
   "source": [
    "max_depths = [None, 10, 100]\n",
    "n_estimators = [1, 10, 100, 200]\n",
    "\n",
    "for sets in train_test_dicts:\n",
    "    print('')\n",
    "    for max_depth in max_depths:\n",
    "        for n in n_estimators:\n",
    "            model = RandomForestRegressor(max_depth=max_depth , n_estimators=n)\n",
    "            train_error, test_error, train_score, test_score, y_train_pred, y_test_pred = fit_and_score(model=model, **sets)\n",
    "            train_error, test_error, train_score, test_score = round(train_error,3), round(test_error,3), round(train_score,3), round(test_score,3)\n",
    "            print('max_depth: {} | n_estimators: {} | test_score: {} | test_error: {} | test/train error: {}'.format(max_depth, n, test_score, test_error, round(test_error/train_error, 1)))\n"
   ]
  },
  {
   "cell_type": "markdown",
   "metadata": {},
   "source": [
    "Looks like the best values for parameters `max_depth` & `n_estimators` are None & 200 respectively."
   ]
  },
  {
   "cell_type": "code",
   "execution_count": 36,
   "metadata": {
    "scrolled": false
   },
   "outputs": [
    {
     "ename": "TypeError",
     "evalue": "type numpy.ndarray doesn't define __round__ method",
     "output_type": "error",
     "traceback": [
      "\u001b[0;31m---------------------------------------------------------------------------\u001b[0m",
      "\u001b[0;31mTypeError\u001b[0m                                 Traceback (most recent call last)",
      "\u001b[0;32m<ipython-input-36-4ffcdf543440>\u001b[0m in \u001b[0;36m<module>\u001b[0;34m\u001b[0m\n\u001b[1;32m     31\u001b[0m \u001b[0;34m\u001b[0m\u001b[0m\n\u001b[1;32m     32\u001b[0m         \u001b[0mtrain_error\u001b[0m\u001b[0;34m,\u001b[0m \u001b[0mtest_error\u001b[0m\u001b[0;34m,\u001b[0m \u001b[0mtrain_score\u001b[0m\u001b[0;34m,\u001b[0m \u001b[0mtest_score\u001b[0m\u001b[0;34m,\u001b[0m \u001b[0my_train_pred\u001b[0m\u001b[0;34m,\u001b[0m \u001b[0my_test_pred\u001b[0m \u001b[0;34m=\u001b[0m \u001b[0mfit_and_score\u001b[0m\u001b[0;34m(\u001b[0m\u001b[0mmodel\u001b[0m\u001b[0;34m=\u001b[0m\u001b[0mmodel\u001b[0m\u001b[0;34m,\u001b[0m \u001b[0;34m**\u001b[0m\u001b[0msets\u001b[0m\u001b[0;34m)\u001b[0m\u001b[0;34m\u001b[0m\u001b[0;34m\u001b[0m\u001b[0m\n\u001b[0;32m---> 33\u001b[0;31m         \u001b[0mtrain_error\u001b[0m\u001b[0;34m,\u001b[0m \u001b[0mtest_error\u001b[0m\u001b[0;34m,\u001b[0m \u001b[0mtrain_score\u001b[0m\u001b[0;34m,\u001b[0m \u001b[0mtest_score\u001b[0m\u001b[0;34m,\u001b[0m \u001b[0my_train_pred\u001b[0m\u001b[0;34m,\u001b[0m \u001b[0my_test_pred\u001b[0m \u001b[0;34m=\u001b[0m \u001b[0mround\u001b[0m\u001b[0;34m(\u001b[0m\u001b[0mtrain_error\u001b[0m\u001b[0;34m,\u001b[0m\u001b[0;36m1\u001b[0m\u001b[0;34m)\u001b[0m\u001b[0;34m,\u001b[0m \u001b[0mround\u001b[0m\u001b[0;34m(\u001b[0m\u001b[0mtest_error\u001b[0m\u001b[0;34m,\u001b[0m\u001b[0;36m1\u001b[0m\u001b[0;34m)\u001b[0m\u001b[0;34m,\u001b[0m \u001b[0mround\u001b[0m\u001b[0;34m(\u001b[0m\u001b[0mtrain_score\u001b[0m\u001b[0;34m,\u001b[0m\u001b[0;36m0\u001b[0m\u001b[0;34m)\u001b[0m\u001b[0;34m,\u001b[0m \u001b[0mround\u001b[0m\u001b[0;34m(\u001b[0m\u001b[0mtest_score\u001b[0m\u001b[0;34m,\u001b[0m\u001b[0;36m0\u001b[0m\u001b[0;34m)\u001b[0m\u001b[0;34m,\u001b[0m \u001b[0mround\u001b[0m\u001b[0;34m(\u001b[0m\u001b[0my_train_pred\u001b[0m\u001b[0;34m,\u001b[0m\u001b[0;36m0\u001b[0m\u001b[0;34m)\u001b[0m\u001b[0;34m,\u001b[0m \u001b[0mround\u001b[0m\u001b[0;34m(\u001b[0m\u001b[0my_test_pred\u001b[0m\u001b[0;34m,\u001b[0m\u001b[0;36m0\u001b[0m\u001b[0;34m)\u001b[0m\u001b[0;34m\u001b[0m\u001b[0;34m\u001b[0m\u001b[0m\n\u001b[0m\u001b[1;32m     34\u001b[0m \u001b[0;34m\u001b[0m\u001b[0m\n\u001b[1;32m     35\u001b[0m         \u001b[0mtrain_error\u001b[0m\u001b[0;34m.\u001b[0m\u001b[0mappend\u001b[0m\u001b[0;34m(\u001b[0m\u001b[0mtrain_error\u001b[0m\u001b[0;34m)\u001b[0m\u001b[0;34m\u001b[0m\u001b[0;34m\u001b[0m\u001b[0m\n",
      "\u001b[0;31mTypeError\u001b[0m: type numpy.ndarray doesn't define __round__ method"
     ]
    }
   ],
   "source": [
    "'''lr_train_score = []\n",
    "lr_test_score = []\n",
    "lr_train_error = []\n",
    "lr_test_error = []\n",
    "\n",
    "ridge_train_score = []\n",
    "ridge_test_score = []\n",
    "ridge_train_error = []\n",
    "ridge_test_error = []\n",
    "\n",
    "rf_train_score = []\n",
    "rf_test_score = []\n",
    "rf_train_error = []\n",
    "rf_test_error = []'''\n",
    "\n",
    "train_score = []\n",
    "test_score = []\n",
    "train_error = []\n",
    "test_error = []\n",
    "y_train_pred = []\n",
    "y_test_pred = []\n",
    "\n",
    "predictions_dict = dict()\n",
    "\n",
    "for sets in train_test_dicts:\n",
    "    for model_class, hyperparams in zip(\n",
    "            [LinearRegression, Ridge, RandomForestRegressor], \n",
    "            [{}, dict(alpha=0.0001), dict(max_depth=None, n_estimators=200)]\n",
    "            ):\n",
    "        model = model_class(**hyperparams)\n",
    "        \n",
    "        train_error, test_error, train_score, test_score, y_train_pred, y_test_pred = fit_and_score(model=model, **sets)\n",
    "        train_error, test_error, train_score, test_score, y_train_pred, y_test_pred = round(train_error,1), round(test_error,1), round(train_score,0), round(test_score,0), round(y_train_pred,0), round(y_test_pred,0)\n",
    "\n",
    "        train_error.append(train_error)\n",
    "        test_error.append(test_error)\n",
    "        train_score.append(train_score)\n",
    "        test_score.append(test_score)\n",
    "        y_train_pred.append(y_train_pred)\n",
    "        y_test_pred.append(y_test_pred)\n",
    "\n",
    "        '''for i in range(24):\n",
    "            if i < 9:\n",
    "                predictions_dict['lr_pred{}'.format(i)] = y_test_pred\n",
    "            elif i>=9 and i < 16:\n",
    "                predictions_dict['ridge_pred{}'.format(i)] = y_test_pred\n",
    "            else:\n",
    "                predictions_dict['rf_pred{}'.format(i)] = y_test_pred'''\n",
    "\n",
    "        "
   ]
  },
  {
   "cell_type": "code",
   "execution_count": 195,
   "metadata": {},
   "outputs": [
    {
     "data": {
      "text/plain": [
       "\"\\n# constructing table contents \\n\\nfeatures = []\\nfor i in range(24):\\n    features.append('all except date, price, street, city, state')\\n\\nfeatures_dict = {key: value for key, value in enumerate(features) }\\n\\n\\nlr = 'linear regression'\\nridge = 'ridge regression'\\nrf = 'random forest'\\n\\nmodels = [(lr,)*8, (ridge,)*8, (rf,)*8]\\n\\n\\ntest_error_list = []\\nfor i in range(8):\\n    test_error_list.append(lr_test_error[i])\\nfor i in range(8):\\n    test_error_list.append(ridge_test_error[i])\\nfor i in range(8):\\n    test_error_list.append(rf_test_error[i])\\n\""
      ]
     },
     "execution_count": 195,
     "metadata": {},
     "output_type": "execute_result"
    }
   ],
   "source": [
    "'''\n",
    "# constructing table contents \n",
    "\n",
    "features = []\n",
    "for i in range(24):\n",
    "    features.append('all except date, price, street, city, state')\n",
    "\n",
    "features_dict = {key: value for key, value in enumerate(features) }\n",
    "\n",
    "\n",
    "lr = 'linear regression'\n",
    "ridge = 'ridge regression'\n",
    "rf = 'random forest'\n",
    "\n",
    "models = [(lr,)*8, (ridge,)*8, (rf,)*8]\n",
    "\n",
    "\n",
    "test_error_list = []\n",
    "for i in range(8):\n",
    "    test_error_list.append(lr_test_error[i])\n",
    "for i in range(8):\n",
    "    test_error_list.append(ridge_test_error[i])\n",
    "for i in range(8):\n",
    "    test_error_list.append(rf_test_error[i])\n",
    "'''"
   ]
  },
  {
   "cell_type": "code",
   "execution_count": 184,
   "metadata": {
    "scrolled": false
   },
   "outputs": [
    {
     "ename": "IndexError",
     "evalue": "list index out of range",
     "output_type": "error",
     "traceback": [
      "\u001b[0;31m---------------------------------------------------------------------------\u001b[0m",
      "\u001b[0;31mIndexError\u001b[0m                                Traceback (most recent call last)",
      "\u001b[0;32m<ipython-input-184-f975f2757bbc>\u001b[0m in \u001b[0;36m<module>\u001b[0;34m\u001b[0m\n\u001b[1;32m     21\u001b[0m                      \u001b[0;34m'ridge regression'\u001b[0m\u001b[0;34m,\u001b[0m \u001b[0;34m'ridge regression'\u001b[0m\u001b[0;34m,\u001b[0m \u001b[0;34m'ridge regression'\u001b[0m\u001b[0;34m,\u001b[0m \u001b[0;34m'ridge regression'\u001b[0m\u001b[0;34m,\u001b[0m\u001b[0;34m\u001b[0m\u001b[0;34m\u001b[0m\u001b[0m\n\u001b[1;32m     22\u001b[0m                      'random forest', 'random forest', 'random forest', 'random forest'], \n\u001b[0;32m---> 23\u001b[0;31m            'test_error': [lr_test_error[0], lr_test_error[1], lr_test_error[2], lr_test_error[3], \n\u001b[0m\u001b[1;32m     24\u001b[0m                     \u001b[0mridge_test_error\u001b[0m\u001b[0;34m[\u001b[0m\u001b[0;36m0\u001b[0m\u001b[0;34m]\u001b[0m\u001b[0;34m,\u001b[0m \u001b[0mridge_test_error\u001b[0m\u001b[0;34m[\u001b[0m\u001b[0;36m1\u001b[0m\u001b[0;34m]\u001b[0m\u001b[0;34m,\u001b[0m \u001b[0mridge_test_error\u001b[0m\u001b[0;34m[\u001b[0m\u001b[0;36m2\u001b[0m\u001b[0;34m]\u001b[0m\u001b[0;34m,\u001b[0m \u001b[0mridge_test_error\u001b[0m\u001b[0;34m[\u001b[0m\u001b[0;36m3\u001b[0m\u001b[0;34m]\u001b[0m\u001b[0;34m,\u001b[0m\u001b[0;34m\u001b[0m\u001b[0;34m\u001b[0m\u001b[0m\n\u001b[1;32m     25\u001b[0m                     rf_test_error[0], rf_test_error[1], rf_test_error[2], rf_test_error[3]],\n",
      "\u001b[0;31mIndexError\u001b[0m: list index out of range"
     ]
    }
   ],
   "source": [
    "'''\n",
    "features1 = 'all except date, price, street, city, state'\n",
    "features2 = 'all except date, price, street, city, state'\n",
    "features3 = 'all except date, price, street, city, state'\n",
    "features4 = 'all except date, price, street, city, state'\n",
    "features5 = 'all except date, price, street, city, state'\n",
    "features6 = 'all except date, price, street, city, state'\n",
    "features7 = 'all except date, price, street, city, state'\n",
    "features8 = 'all except date, price, street, city, state'\n",
    "features9 = 'all except date, price, street, city, state'\n",
    "features10 = 'all except date, price, street, city, state'\n",
    "features11 = 'all except date, price, street, city, state'\n",
    "features12 = 'all except date, price, street, city, state'\n",
    "'''\n",
    "\n",
    "\n",
    "content = {''''features': [features1, features2, features3, features4, features5, features6, features7, features8, \n",
    "                        features9, features10, features11, features12],''' \n",
    "           'features': [features_dict.values()],\n",
    "           'model': ['linear regression', 'linear regression', 'linear regression', 'linear regression',\n",
    "                     'ridge regression', 'ridge regression', 'ridge regression', 'ridge regression', \n",
    "                     'random forest', 'random forest', 'random forest', 'random forest'], \n",
    "           'test_error': [lr_test_error[0], lr_test_error[1], lr_test_error[2], lr_test_error[3], \n",
    "                    ridge_test_error[0], ridge_test_error[1], ridge_test_error[2], ridge_test_error[3], \n",
    "                    rf_test_error[0], rf_test_error[1], rf_test_error[2], rf_test_error[3]],\n",
    "           'train_error': [lr_train_error[0], lr_train_error[1], lr_train_error[2], lr_train_error[3], \n",
    "                    ridge_train_error[0], ridge_train_error[1], ridge_train_error[2], ridge_train_error[3], \n",
    "                    rf_train_error[0], rf_train_error[1], rf_train_error[2], rf_train_error[3]],\n",
    "           'test_score': [lr_test_score[0], lr_test_score[1], lr_test_score[2], lr_test_score[3], \n",
    "                     ridge_test_score[0], ridge_test_score[1], ridge_test_score[2], ridge_test_score[3],  \n",
    "                     rf_test_score[0], rf_test_score[1], rf_test_score[2], rf_test_score[3]],\n",
    "           'train_score': [lr_train_score[0], lr_train_score[1], lr_train_score[2], lr_train_score[3],\n",
    "                             ridge_train_score[0], ridge_train_score[1], ridge_train_score[2], ridge_train_score[3],\n",
    "                             rf_train_score[0], rf_train_score[1], rf_train_score[2], rf_train_score[3]],\n",
    "           'description': ['no transformations', 'no transformations', 'zero prices removed', 'parabolic transformation', \n",
    "                           'no transformations', 'no transformations', 'zero prices removed', 'parabolic transformation', \n",
    "                           'no transformations', 'no transformations', 'zero prices removed', 'parabolic transformation', \n",
    "                            ],\n",
    "           'price outs removed': ['no', 'yes', 'yes', 'yes', 'no', 'yes', 'yes', 'yes', 'no', 'yes', 'yes', 'yes']}\n",
    "\n",
    "table = pd.DataFrame(content, columns=['model', 'test_score', 'train_score', 'test_error', 'train_error', 'price outs removed', 'description', 'features'], index=[1,2,3,4,5,6,7,8,9,10,11,12])\n",
    "table.sort_values('test_score', ascending=False)"
   ]
  },
  {
   "cell_type": "markdown",
   "metadata": {},
   "source": [
    "Model description:\n",
    "* Models described as having no transformations are those which did not have their `bedrooms` feature undergo parabolic transformation.\n",
    "* Models with zero prices removed are those with zero values in the `price` feature and price outliers removed.\n",
    "* Models with parabolic transformation are based on data with price outliers and zero prices removed, and have their `bedrooms` feature transformed.\n",
    "\n",
    "From the table above we can see that the best model is the Random Forest with 66% accuracy. That model only has the price outliers removed but not the zero prices. There were also no transformations on the features."
   ]
  },
  {
   "cell_type": "markdown",
   "metadata": {},
   "source": [
    "**Analysing the coefficients**"
   ]
  },
  {
   "cell_type": "markdown",
   "metadata": {},
   "source": [
    "Let's take a look at the coefficients of the best performing ridge regression model that has its `bedrooms` feature transformed."
   ]
  },
  {
   "cell_type": "code",
   "execution_count": 77,
   "metadata": {
    "scrolled": false
   },
   "outputs": [
    {
     "data": {
      "text/html": [
       "<div>\n",
       "<style scoped>\n",
       "    .dataframe tbody tr th:only-of-type {\n",
       "        vertical-align: middle;\n",
       "    }\n",
       "\n",
       "    .dataframe tbody tr th {\n",
       "        vertical-align: top;\n",
       "    }\n",
       "\n",
       "    .dataframe thead th {\n",
       "        text-align: right;\n",
       "    }\n",
       "</style>\n",
       "<table border=\"1\" class=\"dataframe\">\n",
       "  <thead>\n",
       "    <tr style=\"text-align: right;\">\n",
       "      <th></th>\n",
       "      <th>Coef</th>\n",
       "    </tr>\n",
       "  </thead>\n",
       "  <tbody>\n",
       "    <tr>\n",
       "      <th>bedrooms</th>\n",
       "      <td>29343.232043</td>\n",
       "    </tr>\n",
       "    <tr>\n",
       "      <th>bathrooms</th>\n",
       "      <td>-4241.088926</td>\n",
       "    </tr>\n",
       "    <tr>\n",
       "      <th>sqft_living</th>\n",
       "      <td>121.478954</td>\n",
       "    </tr>\n",
       "    <tr>\n",
       "      <th>sqft_lot</th>\n",
       "      <td>-2.771947</td>\n",
       "    </tr>\n",
       "    <tr>\n",
       "      <th>floors</th>\n",
       "      <td>-15807.991737</td>\n",
       "    </tr>\n",
       "    <tr>\n",
       "      <th>waterfront</th>\n",
       "      <td>418127.945192</td>\n",
       "    </tr>\n",
       "    <tr>\n",
       "      <th>view</th>\n",
       "      <td>70032.879065</td>\n",
       "    </tr>\n",
       "    <tr>\n",
       "      <th>condition</th>\n",
       "      <td>25114.687333</td>\n",
       "    </tr>\n",
       "    <tr>\n",
       "      <th>sqft_above</th>\n",
       "      <td>113.204213</td>\n",
       "    </tr>\n",
       "    <tr>\n",
       "      <th>sqft_basement</th>\n",
       "      <td>10.453874</td>\n",
       "    </tr>\n",
       "    <tr>\n",
       "      <th>yr_built</th>\n",
       "      <td>26.889099</td>\n",
       "    </tr>\n",
       "    <tr>\n",
       "      <th>yr_renovated</th>\n",
       "      <td>111.636015</td>\n",
       "    </tr>\n",
       "    <tr>\n",
       "      <th>total_sqft</th>\n",
       "      <td>2.886998</td>\n",
       "    </tr>\n",
       "    <tr>\n",
       "      <th>price_is0</th>\n",
       "      <td>0.000000</td>\n",
       "    </tr>\n",
       "    <tr>\n",
       "      <th>renov_date_is0</th>\n",
       "      <td>438015.715999</td>\n",
       "    </tr>\n",
       "    <tr>\n",
       "      <th>renovation_age</th>\n",
       "      <td>-113.595616</td>\n",
       "    </tr>\n",
       "    <tr>\n",
       "      <th>yr_built_is0</th>\n",
       "      <td>0.000000</td>\n",
       "    </tr>\n",
       "    <tr>\n",
       "      <th>house_age</th>\n",
       "      <td>-26.921863</td>\n",
       "    </tr>\n",
       "  </tbody>\n",
       "</table>\n",
       "</div>"
      ],
      "text/plain": [
       "                         Coef\n",
       "bedrooms         29343.232043\n",
       "bathrooms        -4241.088926\n",
       "sqft_living        121.478954\n",
       "sqft_lot            -2.771947\n",
       "floors          -15807.991737\n",
       "waterfront      418127.945192\n",
       "view             70032.879065\n",
       "condition        25114.687333\n",
       "sqft_above         113.204213\n",
       "sqft_basement       10.453874\n",
       "yr_built            26.889099\n",
       "yr_renovated       111.636015\n",
       "total_sqft           2.886998\n",
       "price_is0            0.000000\n",
       "renov_date_is0  438015.715999\n",
       "renovation_age    -113.595616\n",
       "yr_built_is0         0.000000\n",
       "house_age          -26.921863"
      ]
     },
     "execution_count": 77,
     "metadata": {},
     "output_type": "execute_result"
    }
   ],
   "source": [
    "coefs = pd.DataFrame(ridge.coef_, index=list(X_transformed), columns=['Coef'])\n",
    "coefs[:18]"
   ]
  },
  {
   "cell_type": "markdown",
   "metadata": {},
   "source": [
    "The coefficient of a term represents the change in the mean response for one unit of change in that term. If the coefficient is positive, as the term increases, the mean value of the response increases. If the coefficient is negative, as the term increases, the mean value of the response decreases. So for example we see than the coefficient of `sqft_living` is 180. This means that for every 1 sqft increase on a house, the price would increase by \\\\$180.\n",
    "\n",
    "I was surprised to see `bedrooms` have a negative coeficient, since my assumption was that when the number of bedrooms increase, so does the price. However, we saw previously with a `bedrooms` and `price` scatterplot that price increases with number of bedrooms only for homes with up to 5 bedrooms. The price then starts to decrease for homes with 6 bedrooms or more.  \n",
    "Notice also `bedrooms_squared` has a positive coeficient. This feature is `bedrooms` with a parabolic transformation. Since this feature has adjusted for `bedrooms` shape, it makes sense that it is positive.\n",
    "\n",
    "Not only is the coefficient of `sqft_lot` negative, but it's also a small number, indicating that its affect on  price is miniscule."
   ]
  },
  {
   "cell_type": "code",
   "execution_count": 14,
   "metadata": {},
   "outputs": [],
   "source": [
    "# coefs of fitted model & predicted model\n",
    "#coefs = pd.DataFrame({'coef_actual': ridge.coef_, 'coef_pred': predictions_dict['ridge_pred3']}, index=list(X_transformed))"
   ]
  },
  {
   "cell_type": "code",
   "execution_count": 15,
   "metadata": {
    "scrolled": false
   },
   "outputs": [
    {
     "data": {
      "image/png": "[encoded data removed]",
      "text/plain": [
       "<Figure size 576x288 with 1 Axes>"
      ]
     },
     "metadata": {
      "needs_background": "light"
     },
     "output_type": "display_data"
    }
   ],
   "source": [
    "fig, ax = plt.subplots(figsize=(8,4))\n",
    "ax.plot(y_test_transformed, 'bo', alpha=0.3, label='actual prices')\n",
    "ax.plot(predictions_dict['lr_pred3'], 'go', alpha=0.2, label='predicted prices')\n",
    "#ax.set_xlabel('')\n",
    "ax.set_ylabel('price')\n",
    "ax.legend()\n",
    "plt.show()"
   ]
  },
  {
   "cell_type": "code",
   "execution_count": 16,
   "metadata": {
    "scrolled": true
   },
   "outputs": [
    {
     "data": {
      "text/plain": [
       "Text(0, 0.5, 'predicted prices')"
      ]
     },
     "execution_count": 16,
     "metadata": {},
     "output_type": "execute_result"
    },
    {
     "data": {
      "image/png": "[encoded data removed]",
      "text/plain": [
       "<Figure size 432x288 with 1 Axes>"
      ]
     },
     "metadata": {
      "needs_background": "light"
     },
     "output_type": "display_data"
    }
   ],
   "source": [
    "plt.scatter(y_test_transformed, predictions_dict['lr_pred3'], s=20)\n",
    "plt.title('Scatter plot of actual and predicted prices')\n",
    "plt.xlabel('actual prices')\n",
    "plt.ylabel('predicted prices')"
   ]
  },
  {
   "cell_type": "markdown",
   "metadata": {},
   "source": [
    "We see in the above plot that the predicted prices are somewhat close to the actual prices, but not very close. The best case scenario would be for the scatter plots to follow a perfectly straight diagonal line, indicating that our model perfectly predicted the house prices."
   ]
  },
  {
   "cell_type": "markdown",
   "metadata": {},
   "source": [
    "Histogram of the residuals of the best performing linear regression model."
   ]
  },
  {
   "cell_type": "code",
   "execution_count": 17,
   "metadata": {
    "scrolled": false
   },
   "outputs": [
    {
     "data": {
      "image/png": "[encoded data removed]",
      "text/plain": [
       "<Figure size 576x288 with 1 Axes>"
      ]
     },
     "metadata": {
      "needs_background": "light"
     },
     "output_type": "display_data"
    }
   ],
   "source": [
    "plt.subplots(figsize=(8,4))\n",
    "plt.hist(y_test_transformed - predictions_dict['lr_pred3'], bins=20)\n",
    "plt.title('Histogram of residuals')\n",
    "plt.show()"
   ]
  },
  {
   "cell_type": "markdown",
   "metadata": {},
   "source": [
    "Ideally a residual histogram would follow a normal distribution, and that would tell us that we've chosen an appropriate model type. However, the above plot does not closely follow a normal distribution, which is another indication that a linear regression model is not best for my dataset."
   ]
  },
  {
   "cell_type": "markdown",
   "metadata": {},
   "source": [
    "### CI around my prediction accuracy"
   ]
  },
  {
   "cell_type": "markdown",
   "metadata": {},
   "source": [
    "calculate standard error RMSE\n",
    ".."
   ]
  },
  {
   "cell_type": "code",
   "execution_count": 18,
   "metadata": {},
   "outputs": [
    {
     "data": {
      "text/plain": [
       "[815993.804, 218792.665, 221804.67, 221812.353]"
      ]
     },
     "execution_count": 18,
     "metadata": {},
     "output_type": "execute_result"
    }
   ],
   "source": [
    "# RMSE == standard deviation of errors\n",
    "rf_test_error"
   ]
  },
  {
   "cell_type": "code",
   "execution_count": 19,
   "metadata": {},
   "outputs": [],
   "source": [
    "one_sd = min(rf_test_error)\n",
    "two_sd = 2*one_sd\n",
    "three_sd = 3*one_sd"
   ]
  },
  {
   "cell_type": "markdown",
   "metadata": {},
   "source": [
    "#### 68% Confidence"
   ]
  },
  {
   "cell_type": "code",
   "execution_count": 20,
   "metadata": {},
   "outputs": [
    {
     "name": "stdout",
     "output_type": "stream",
     "text": [
      "I can be 68% confident that the error in the home price predictions will be between -218792.665 and 218792.665.\n"
     ]
    }
   ],
   "source": [
    "min_error = 0 - one_sd\n",
    "max_error = 0 + one_sd\n",
    "\n",
    "print('I can be 68% confident that the error in the home price predictions will be between {} and {}.'.format(min_error, max_error))"
   ]
  },
  {
   "cell_type": "markdown",
   "metadata": {},
   "source": [
    "#### 95% Confidence"
   ]
  },
  {
   "cell_type": "code",
   "execution_count": 21,
   "metadata": {
    "scrolled": true
   },
   "outputs": [
    {
     "name": "stdout",
     "output_type": "stream",
     "text": [
      "I can be 95% confident that the error in the home price predictions will be between -437585.33 and 437585.33.\n"
     ]
    }
   ],
   "source": [
    "min_error = 0 - two_sd\n",
    "max_error = 0 + two_sd\n",
    "\n",
    "print('I can be 95% confident that the error in the home price predictions will be between {} and {}.'.format(min_error, max_error))"
   ]
  },
  {
   "cell_type": "markdown",
   "metadata": {},
   "source": [
    "### Result Analysis"
   ]
  },
  {
   "cell_type": "markdown",
   "metadata": {},
   "source": [
    "The following analysis is based on my 95% confidence that the error in the home price predictions is between -429250 and -429250:\n",
    "\n",
    "If I've predicted a house to be $\\$$500,000 and someone were to buy the house at that price, the worst loss would be \\\\$429250 and the highest gain would be \\\\$429250. That is, the least the house would be worth is \\\\$70,750 (500,000-429250), and the most the house would be worth is \\\\$929,250 (500,000+429250).\n",
    "\n",
    "Let's say my boss wants to buy a house at below my estimate in the hopes of flipping it, i.e., selling the house at around double the price at which he acquired it. With a house that I have estimated to be \\\\$500,000, if he purchases it at \\\\$300,000 for example, 3 things can happen:\n",
    "\n",
    "1. My estimation is correct and he would make a profit of \\\\$200,000 by selling it for \\\\$500,000.  \n",
    "2. The house is actually worth \\\\$70,750 and he ends up buying at a higher price than what the house is worth, losing \\\\$229,250 on the purchase, and resulting in a 24\\% loss.\n",
    "3. The house is actually worth \\\\$929,250 and he ends up buying \\\\$629,250 below the house value, resulting in a 309\\%  profit if he were to sell it at \\\\$929,250."
   ]
  },
  {
   "cell_type": "markdown",
   "metadata": {},
   "source": [
    "**What happens if my boss purchases 100 homes?**"
   ]
  },
  {
   "cell_type": "code",
   "execution_count": 22,
   "metadata": {
    "scrolled": true
   },
   "outputs": [],
   "source": [
    "from math import sqrt\n",
    "\n",
    "np.random.seed(47)\n",
    "n = 100 # length of sample\n",
    "\n",
    "# function to sample the actual and predicted prices of 100 homes at a time.\n",
    "def draw_bs_reps(y_test, y_pred):\n",
    "    bs_error = np.random.choice(y_test - y_pred, n) # price sold - price bought == profit (gain or loss)\n",
    "    \n",
    "    error_mean = np.sum(bs_error) / len(bs_error) # avg gain or loss on n transactions\n",
    "    return error_mean"
   ]
  },
  {
   "cell_type": "code",
   "execution_count": 28,
   "metadata": {
    "scrolled": false
   },
   "outputs": [
    {
     "name": "stdout",
     "output_type": "stream",
     "text": [
      "mean of means: 1817\n",
      "std of means: 22636\n",
      "\n",
      "The above result means that if I calculate the error between the true/historical price and my predicted price of 100 homes, I can be 95% confident that the error of the mean of average error in the home price predictions will be between -43,758,533.0 and 43,758,533.0.\n",
      "\n",
      "In other words, if my boss was to buy 100 homes at my predicted price and sell them at their true price, I can be 95% confident that the most she would lose is $4,345,500 and the most she would gain is $4,709,000.\n"
     ]
    }
   ],
   "source": [
    "# conducting 1000 experiments of purchasing 100 homes\n",
    "error_means = np.array([draw_bs_reps(y_test_transformed, predictions_dict['rf_pred3']) for i in range(1000)]) # Random Forest model\n",
    "error_means = np.round(error_means, 2)\n",
    "error_means_mean = np.mean(error_means) # mean of means\n",
    "print('mean of means: {}'.format(int(error_means_mean)))\n",
    "\n",
    "error_means_std = sqrt(np.sum((error_means-error_means_mean)**2) / (1000-1)) # standard deviation of means\n",
    "print('std of means: {}'.format(int(error_means_std)))\n",
    "\n",
    "# confidence interval\n",
    "min_error_100 = int(error_means_mean - 2*error_means_std)\n",
    "max_error_100 = int(error_means_mean + 2*error_means_std)\n",
    "\n",
    "print('')\n",
    "print('The above result means that if I calculate the error between the true/historical price and my predicted price ' \n",
    "      'of 100 homes, I can be 95% confident that the error of the mean of average error in the home price ' \n",
    "      'predictions will be between {:,} and {:,}.'.format(min_error*100, max_error*100))\n",
    "print('')\n",
    "print('In other words, if my boss was to buy 100 homes at my predicted price and sell them at their true price, ' \n",
    "      'I can be 95% confident that the most she would lose is ${:,} ' \n",
    "      'and the most she would gain is ${:,}.'.format(-1*min_error_100*100, max_error_100*100))"
   ]
  },
  {
   "cell_type": "markdown",
   "metadata": {},
   "source": [
    "Below is a histogram of the distribution of purchasing 100 homes at my predicted prices."
   ]
  },
  {
   "cell_type": "code",
   "execution_count": 24,
   "metadata": {},
   "outputs": [
    {
     "name": "stdout",
     "output_type": "stream",
     "text": [
      "-45260 48250\n"
     ]
    },
    {
     "data": {
      "image/png": "[encoded data removed]",
      "text/plain": [
       "<Figure size 432x288 with 1 Axes>"
      ]
     },
     "metadata": {
      "needs_background": "light"
     },
     "output_type": "display_data"
    }
   ],
   "source": [
    "plt.hist(error_means, bins=20)\n",
    "plt.plot()\n",
    "print(min_error_100, max_error_100)"
   ]
  },
  {
   "cell_type": "markdown",
   "metadata": {},
   "source": [
    "It shows that the mode is shifted to the positive, which is good because it means we're profiting. I conducted this experiment a few more times to make sure the shape is real."
   ]
  },
  {
   "cell_type": "markdown",
   "metadata": {},
   "source": [
    "What happens if my boss purchases homes $1000 below my predicted prices?"
   ]
  },
  {
   "cell_type": "code",
   "execution_count": 25,
   "metadata": {},
   "outputs": [],
   "source": [
    "# running the same experiment as before, with $1000 deducted from my predicted prices\n",
    "\n",
    "np.random.seed(47)\n",
    "n = 100 # length of sample\n",
    "N_rep = 1000 # number of times to bootstrap/resample\n",
    "\n",
    "def draw_bs_reps(y_test, y_pred):\n",
    "    bs_error = np.random.choice(y_test - (y_pred-1000), n) # deduct 1000 from each predicted price\n",
    "    \n",
    "    error_mean = np.sum(bs_error) / len(bs_error) # avg gain or loss on n transactions\n",
    "    return error_mean"
   ]
  },
  {
   "cell_type": "code",
   "execution_count": 26,
   "metadata": {},
   "outputs": [
    {
     "name": "stdout",
     "output_type": "stream",
     "text": [
      "mean of means: 2494\n",
      "std of means: 23377\n",
      "\n",
      "If my boss was to buy 100 homes at $1000 less than my predicted price and sell them at their true price, I can be 95% confident that the most she would lose is $4,426,000 and the most she would gain is $4,925,000.\n"
     ]
    }
   ],
   "source": [
    "error_means = np.array([draw_bs_reps(y_test_transformed, predictions_dict['rf_pred3']) for i in range(1000)]) # Random Forest model\n",
    "error_means = np.round(error_means, 2)\n",
    "error_means_mean = np.mean(error_means) # mean of means\n",
    "print('mean of means: {}'.format(int(error_means_mean)))\n",
    "\n",
    "error_means_std = sqrt(np.sum((error_means-error_means_mean)**2) / (1000-1)) # standard deviation of means\n",
    "print('std of means: {}'.format(int(error_means_std)))\n",
    "\n",
    "# confidence interval\n",
    "min_error_1000 = int(error_means_mean - 2*error_means_std)\n",
    "max_error_1000 = int(error_means_mean + 2*error_means_std)\n",
    "\n",
    "print('')\n",
    "print('If my boss was to buy 100 homes at $1000 less than my predicted price and sell them at their true price, ' \n",
    "      'I can be 95% confident that the most she would lose is ${:,} ' \n",
    "      'and the most she would gain is ${:,}.'.format(-1*min_error_1000*100, max_error_1000*100))"
   ]
  },
  {
   "cell_type": "markdown",
   "metadata": {},
   "source": [
    "When purchasing 100 homes at \\\\$1000 below my predicted price, the most my boss would lose decreases by \\\\$ and the most she would gain increases by \\\\$.  \n",
    "This is clearly a better option, and since finding homes that are selling \\\\$1000 below their true value is practical, I would recommend this plan to my boss."
   ]
  },
  {
   "cell_type": "markdown",
   "metadata": {},
   "source": [
    "### Result"
   ]
  },
  {
   "cell_type": "markdown",
   "metadata": {},
   "source": [
    "Other experiments:\n",
    "* experiments with other models\n",
    "* experiemnts with predicted prices reduced by \\\\$5,000, \\\\$10,000, \\\\$50,000\n",
    "\n",
    "When running experiments using my other models, the Random Forest model resulted in the most profit, which was expected since the model had the least error in its prediction.\n",
    "\n",
    "I ran experiments with \\\\$5,000, \\\\$10,000, \\\\$50,000 deducted from the predicted prices. \n",
    "This means that my boss would purchase 100 homes with \\\\$5,000, \\\\$10,000, and \\\\$50,000 below my predicted prices. \n",
    "The result was that these 3 experiments produced better profits and less losses than the scenario where my boss would purchase homes at \\\\$1000 less than my predicted prices. However, finding 100 houses at those reduced prices would be difficult. Therefore, I would reccomend focusing on finding homes with the \\\\$1000 reductions."
   ]
  },
  {
   "cell_type": "code",
   "execution_count": null,
   "metadata": {},
   "outputs": [],
   "source": []
  },
  {
   "cell_type": "code",
   "execution_count": null,
   "metadata": {},
   "outputs": [],
   "source": []
  },
  {
   "cell_type": "code",
   "execution_count": null,
   "metadata": {},
   "outputs": [],
   "source": []
  },
  {
   "cell_type": "markdown",
   "metadata": {},
   "source": [
    "We did 1000 experiments (it's like we ran this business for 1000 years), each year we bought 100 homes and we sold 100 homes. And we're assuming we could buy them at the predicted price and we'd have to sell them at the true price. \n",
    "\n",
    "So we have 1000 examples of us buying 100 homes and selling them at a different price. So think of it as calulating profit (not error). \n",
    "\n",
    "So, we're assuming we bought the houses at the predicted price, and we assume we have to sell them at the true price. What we're looking to calculate is at the end of each year, what is the balance sheet going to look like. What's the average loss or gain he's going to make on those homes. \n",
    "\n",
    "error_mean == avg. profit on each year"
   ]
  },
  {
   "cell_type": "code",
   "execution_count": 27,
   "metadata": {},
   "outputs": [
    {
     "data": {
      "text/plain": [
       "array([-3.159030e+03, -3.000408e+04,  3.338090e+03,  3.279679e+04,\n",
       "        1.839517e+04, -4.320360e+03, -2.043384e+04, -2.907087e+04,\n",
       "        1.315386e+04,  1.654251e+04,  4.977253e+04, -2.129585e+04,\n",
       "        5.051042e+04, -3.932756e+04, -3.369250e+03,  1.220235e+04,\n",
       "        2.168663e+04,  2.555980e+03, -3.135920e+04, -3.702330e+03,\n",
       "       -7.527500e+02,  1.426942e+04,  2.313869e+04, -4.803250e+03,\n",
       "        4.850200e+02,  2.518883e+04,  2.697345e+04, -2.040900e+03,\n",
       "        5.425700e+02, -1.171573e+04,  3.713540e+03, -2.150307e+04,\n",
       "        3.238090e+03, -1.824436e+04, -7.990000e+03,  1.839268e+04,\n",
       "       -3.055213e+04,  1.425500e+04, -9.875510e+03,  1.788735e+04,\n",
       "       -1.461594e+04,  2.507141e+04, -4.785960e+04,  1.485137e+04,\n",
       "        2.313344e+04, -8.517680e+03, -2.767036e+04,  1.844880e+03,\n",
       "        1.808320e+03,  3.094733e+04,  1.706836e+04,  1.806517e+04,\n",
       "       -7.420210e+03, -1.594627e+04,  1.620039e+04,  2.952430e+03,\n",
       "       -1.435357e+04,  5.926031e+04, -8.579660e+03,  4.179301e+04,\n",
       "       -1.343613e+04,  1.210562e+04, -3.484265e+04, -1.713963e+04,\n",
       "       -2.090607e+04, -1.459432e+04, -2.845320e+03, -5.586120e+03,\n",
       "       -3.262803e+04, -3.522430e+03, -1.232726e+04,  4.427980e+03,\n",
       "        2.018708e+04,  4.252820e+04,  3.110159e+04,  9.058980e+03,\n",
       "        3.169351e+04,  4.344796e+04, -8.083650e+03,  3.361765e+04,\n",
       "       -2.024020e+04, -3.097739e+04, -4.811400e+02,  8.255420e+03,\n",
       "       -1.020239e+04,  2.504868e+04, -2.916672e+04, -3.487985e+04,\n",
       "       -9.645210e+03,  2.216213e+04, -1.990530e+03,  2.974906e+04,\n",
       "       -2.042767e+04, -2.573569e+04, -1.817004e+04,  5.173407e+04,\n",
       "        4.802183e+04, -2.584727e+04, -1.941082e+04, -2.088031e+04,\n",
       "        1.806134e+04,  4.837466e+04, -7.829010e+03, -1.682677e+04,\n",
       "        7.385310e+03, -3.981263e+04, -4.077356e+04, -1.537572e+04,\n",
       "        2.087250e+04,  5.371413e+04, -4.940233e+04, -9.515040e+03,\n",
       "        4.108729e+04, -3.903287e+04, -3.772170e+03,  1.118904e+04,\n",
       "        5.248130e+03, -2.431675e+04,  1.667303e+04, -2.056999e+04,\n",
       "       -3.735750e+03,  6.110430e+03,  5.587711e+04, -5.052400e+03,\n",
       "       -9.712540e+03,  3.283285e+04,  9.439540e+03, -1.832702e+04,\n",
       "        2.001495e+04, -8.715680e+03,  2.386592e+04, -3.792500e+04,\n",
       "        4.463239e+04, -1.746765e+04, -4.113460e+03,  7.949148e+04,\n",
       "        3.357461e+04, -9.042970e+03,  2.970558e+04,  1.211405e+04,\n",
       "       -5.270470e+03, -2.501996e+04,  2.217282e+04, -7.766880e+03,\n",
       "        1.460765e+04, -8.649410e+03,  1.515015e+04, -1.278775e+04,\n",
       "        3.030606e+04,  2.126447e+04,  1.370272e+04, -5.210865e+04,\n",
       "       -9.229970e+03, -2.686405e+04,  4.684986e+04,  3.586725e+04,\n",
       "       -2.758215e+04,  4.057645e+04,  3.061433e+04,  2.883567e+04,\n",
       "       -4.000630e+03, -1.230061e+04, -2.435858e+04,  2.244796e+04,\n",
       "        1.202641e+04,  2.486410e+04,  1.428800e+03,  1.147419e+04,\n",
       "        4.628788e+04,  6.487730e+03,  5.669950e+03,  6.116300e+02,\n",
       "       -1.701914e+04, -3.130355e+04, -2.502564e+04,  7.398490e+03,\n",
       "       -8.314200e+02,  1.459398e+04, -1.013180e+04, -7.763530e+03,\n",
       "       -3.905932e+04,  2.158525e+04,  4.609175e+04, -6.406670e+03,\n",
       "        5.526190e+03,  2.948622e+04, -5.707960e+03,  3.134711e+04,\n",
       "        2.266693e+04, -2.045520e+03,  2.381725e+04,  7.524670e+03,\n",
       "       -2.545649e+04, -1.850870e+04, -1.001536e+04,  1.220839e+04,\n",
       "       -5.989970e+03,  8.080470e+03,  1.999805e+04, -2.589250e+03,\n",
       "       -4.470750e+03,  1.482115e+04, -2.745034e+04,  3.463452e+04,\n",
       "       -4.923130e+04, -4.951050e+03,  1.099830e+04,  1.897951e+04,\n",
       "        2.825889e+04, -8.419550e+03,  1.444880e+04,  6.537620e+03,\n",
       "       -1.160979e+04,  3.938921e+04,  4.887591e+04,  1.957166e+04,\n",
       "        2.503008e+04, -1.546262e+04,  1.482520e+03, -3.333100e+03,\n",
       "        3.056716e+04,  4.700980e+03, -9.022280e+03,  8.218470e+03,\n",
       "        1.170499e+04,  1.586700e+04, -1.600704e+04, -2.326061e+04,\n",
       "        2.468930e+03, -2.912238e+04, -9.453520e+03, -3.395633e+04,\n",
       "       -2.326891e+04, -1.621246e+04,  1.560495e+04,  1.012520e+04,\n",
       "        1.852210e+03,  1.747184e+04, -4.493020e+04, -1.174481e+04,\n",
       "        9.975920e+03,  4.343539e+04,  1.052329e+04, -6.476000e+01,\n",
       "        3.083570e+03, -1.534752e+04,  6.470220e+03, -4.267550e+03,\n",
       "        1.845332e+04,  5.891250e+03,  4.830852e+04, -1.347807e+04,\n",
       "        2.459503e+04,  3.166275e+04,  1.499173e+04, -3.344300e+02,\n",
       "        1.276786e+04,  4.568405e+04, -1.841659e+04, -3.569236e+04,\n",
       "        1.107400e+03, -5.302287e+04,  2.220788e+04, -2.628547e+04,\n",
       "       -1.464764e+04, -2.030170e+04, -1.727587e+04, -2.819206e+04,\n",
       "        9.669510e+03, -2.180715e+04, -3.031416e+04, -2.955567e+04,\n",
       "       -2.896756e+04,  2.939289e+04,  7.628960e+03, -3.237530e+03,\n",
       "       -1.156080e+03, -3.741511e+04,  2.439400e+02, -4.241426e+04,\n",
       "       -1.430132e+04, -2.343503e+04,  2.293560e+04,  1.964303e+04,\n",
       "       -3.967606e+04, -2.749130e+04, -6.843060e+03,  4.451210e+03,\n",
       "       -1.216450e+03, -3.603349e+04,  3.353766e+04, -2.342003e+04,\n",
       "        2.029934e+04,  3.261520e+03, -1.158921e+04, -6.327340e+03,\n",
       "        1.233756e+04, -1.480913e+04, -6.231522e+04, -1.350229e+04,\n",
       "       -2.134966e+04,  1.397212e+04, -8.703350e+03, -3.733692e+04,\n",
       "       -5.988770e+03,  1.502523e+04,  1.011031e+04, -2.093926e+04,\n",
       "       -2.763460e+03,  8.948630e+03,  9.614990e+03, -4.715360e+03,\n",
       "       -1.049439e+04, -2.467190e+04, -1.286628e+04,  1.954900e+04,\n",
       "       -2.420664e+04, -9.018900e+02,  2.905462e+04, -2.269751e+04,\n",
       "       -3.453330e+03, -1.642723e+04,  3.199681e+04, -2.116632e+04,\n",
       "       -1.627360e+03,  1.238577e+04, -4.646084e+04,  1.557520e+04,\n",
       "        3.569297e+04,  8.140570e+03, -3.175000e+03,  4.937270e+03,\n",
       "        2.338806e+04, -2.912674e+04,  2.287046e+04, -6.055920e+03,\n",
       "       -2.000030e+03,  2.169685e+04, -1.883499e+04,  1.211827e+04,\n",
       "        3.695620e+04, -9.369800e+03,  1.565187e+04, -1.195600e+03,\n",
       "       -3.168050e+03,  2.425883e+04,  7.013210e+03,  2.014574e+04,\n",
       "        1.682681e+04, -5.056014e+04, -4.494121e+04, -3.904780e+03,\n",
       "       -2.733450e+03, -2.347205e+04,  5.898679e+04, -1.862696e+04,\n",
       "        3.278074e+04,  5.615870e+03,  2.612140e+03,  1.633869e+04,\n",
       "        8.674630e+03, -2.443815e+04, -1.080351e+04,  7.379200e+03,\n",
       "        4.276766e+04,  2.482616e+04, -3.948580e+03, -5.948604e+04,\n",
       "        2.938927e+04, -5.587600e+02, -8.960000e+01,  1.400289e+04,\n",
       "       -9.827650e+03,  2.060152e+04, -2.516882e+04, -1.083058e+04,\n",
       "        5.563532e+04,  2.516065e+04, -1.798926e+04, -3.233326e+04,\n",
       "       -4.036454e+04,  2.778363e+04, -1.352860e+03,  1.843471e+04,\n",
       "        2.814259e+04, -3.000788e+04,  2.534142e+04, -1.616870e+03,\n",
       "       -2.694698e+04, -2.753697e+04, -9.593580e+03, -4.125300e+04,\n",
       "       -1.320563e+04, -1.364269e+04, -1.172437e+04,  2.411609e+04,\n",
       "        1.578510e+04, -3.465680e+03,  1.107421e+04, -3.490450e+03,\n",
       "        3.919413e+04,  1.407660e+03,  1.339800e+03, -8.093990e+03,\n",
       "        2.646462e+04,  5.282749e+04,  8.061540e+03, -3.860280e+03,\n",
       "        1.360013e+04,  2.762702e+04, -2.749235e+04, -3.727056e+04,\n",
       "        1.111128e+04,  2.324608e+04,  2.847536e+04,  6.353570e+03,\n",
       "        5.466620e+04,  1.011730e+03,  1.902010e+03, -5.688397e+04,\n",
       "        6.218780e+03,  1.349758e+04,  1.136305e+04, -9.144490e+03,\n",
       "       -2.254526e+04, -2.308941e+04,  4.843250e+03,  1.729422e+04,\n",
       "        9.538100e+02,  3.128349e+04,  9.677000e+02,  3.510728e+04,\n",
       "       -2.034370e+03,  3.179166e+04, -8.811200e+02,  3.473664e+04,\n",
       "        3.304092e+04,  1.846520e+04, -6.652600e+02, -2.109157e+04,\n",
       "        9.093250e+03,  7.119560e+03,  8.583710e+03,  2.414457e+04,\n",
       "       -2.076420e+04,  1.217651e+04,  2.782253e+04, -3.576894e+04,\n",
       "       -2.443349e+04,  1.001800e+03, -2.019550e+04,  3.785240e+03,\n",
       "        3.810190e+03,  6.470140e+04,  2.736112e+04,  1.972451e+04,\n",
       "       -1.678801e+04, -5.035380e+04, -2.243236e+04, -1.609873e+04,\n",
       "       -7.918830e+03,  3.890020e+03, -3.726608e+04, -1.907118e+04,\n",
       "        1.496033e+04,  3.935815e+04, -3.349850e+03, -3.747530e+03,\n",
       "       -1.780213e+04,  1.907991e+04,  8.204800e+03,  3.437590e+03,\n",
       "        2.073081e+04,  1.389865e+04,  1.866596e+04, -8.137030e+03,\n",
       "        1.136610e+04,  4.849451e+04,  2.275114e+04, -9.096810e+03,\n",
       "        3.255496e+04, -1.420500e+02,  2.409030e+03,  1.353580e+03,\n",
       "        1.872943e+04, -1.229181e+04,  1.065404e+04,  1.925930e+04,\n",
       "       -1.848069e+04,  1.575786e+04,  5.666230e+03,  1.980558e+04,\n",
       "       -1.137654e+04,  6.794290e+03, -1.699916e+04, -1.406120e+04,\n",
       "        1.570334e+04,  2.195271e+04,  2.153248e+04,  7.293760e+03,\n",
       "       -1.611761e+04,  7.466430e+03, -7.021110e+03,  1.737780e+04,\n",
       "        1.485294e+04, -3.193750e+03,  1.460904e+04,  4.590030e+03,\n",
       "        1.742900e+03, -3.172140e+03, -1.746500e+02,  3.978740e+03,\n",
       "       -1.268935e+04, -2.972272e+04, -2.999480e+04, -4.746390e+03,\n",
       "        5.031817e+04, -2.682074e+04, -1.933491e+04, -4.443024e+04,\n",
       "        3.921750e+03,  7.379700e+03,  2.012289e+04,  3.019213e+04,\n",
       "        1.287046e+04, -5.358450e+03, -1.823462e+04, -2.093213e+04,\n",
       "       -2.220817e+04, -8.995070e+03,  1.289891e+04,  1.937880e+03,\n",
       "        3.788994e+04, -7.427340e+03, -2.616908e+04, -6.378070e+03,\n",
       "        4.636734e+04, -3.350435e+04, -2.122012e+04,  4.522682e+04,\n",
       "        1.653130e+04, -5.424050e+03, -9.777740e+03,  3.450619e+04,\n",
       "        2.950673e+04, -2.678646e+04, -1.116624e+04, -1.687040e+04,\n",
       "       -5.898060e+03,  2.474999e+04,  6.161830e+03,  3.200584e+04,\n",
       "        1.000120e+04,  3.450323e+04,  9.758050e+03,  6.371219e+04,\n",
       "        4.834840e+03, -3.248070e+03,  1.142690e+04,  1.942066e+04,\n",
       "        1.256671e+04, -2.111199e+04, -6.426969e+04, -1.500440e+03,\n",
       "        4.383430e+03, -1.225130e+03, -2.644016e+04,  1.051008e+04,\n",
       "        7.570440e+03, -3.303284e+04, -2.251819e+04,  2.665661e+04,\n",
       "        2.627720e+03, -1.790602e+04,  7.485900e+03,  2.545435e+04,\n",
       "        4.064690e+03,  5.640077e+04,  4.830600e+02,  1.037883e+04,\n",
       "       -1.585311e+04, -7.741640e+03,  1.563216e+04,  3.080531e+04,\n",
       "        3.170240e+03, -2.257969e+04, -1.048420e+03,  1.122387e+04,\n",
       "        6.741769e+04, -1.894608e+04,  3.338418e+04,  3.811477e+04,\n",
       "        3.836730e+03,  2.006940e+04,  5.814210e+03, -4.593805e+04,\n",
       "       -1.290156e+04, -1.967587e+04, -2.880490e+03,  1.711184e+04,\n",
       "       -9.009100e+03, -1.070710e+03, -2.835380e+03, -2.258949e+04,\n",
       "        3.902000e+01,  3.043273e+04, -2.182873e+04,  5.513111e+04,\n",
       "        1.726897e+04, -1.200487e+04,  5.474573e+04,  4.857715e+04,\n",
       "        2.939175e+04,  3.115885e+04,  2.317509e+04,  2.277480e+04,\n",
       "        1.933557e+04,  2.237420e+03,  3.970170e+03, -1.299592e+04,\n",
       "       -4.857765e+04,  4.914025e+04, -8.160810e+03,  7.988440e+03,\n",
       "        2.537648e+04, -1.192510e+03,  8.398080e+03,  2.267138e+04,\n",
       "        6.047050e+03,  2.839765e+04,  2.075507e+04,  1.473517e+04,\n",
       "       -1.009835e+04, -8.376510e+03, -1.270621e+04,  3.973247e+04,\n",
       "        8.771480e+03, -3.030000e+04,  1.860000e+01, -3.611872e+04,\n",
       "        1.514129e+04,  3.279539e+04, -1.403666e+04,  1.672676e+04,\n",
       "       -1.671117e+04,  6.254591e+04, -1.515546e+04,  6.549050e+03,\n",
       "        4.174651e+04, -1.081024e+04,  1.045669e+04, -5.724820e+03,\n",
       "        2.709876e+04, -2.562880e+04,  5.451111e+04,  7.744930e+03,\n",
       "        7.350000e+02, -1.717489e+04,  8.576940e+03,  1.991442e+04,\n",
       "       -2.174762e+04, -1.059243e+04,  2.336794e+04,  2.494190e+03,\n",
       "        4.337948e+04, -1.074149e+04, -1.765840e+04,  1.325210e+04,\n",
       "        1.895650e+03,  6.205310e+03,  9.752370e+03,  1.291284e+04,\n",
       "        2.019625e+04, -8.361010e+03, -1.432108e+04,  1.583785e+04,\n",
       "       -1.597520e+03,  2.804675e+04, -1.402230e+04,  1.479525e+04,\n",
       "        5.267990e+03,  4.185937e+04,  7.190620e+03,  1.216101e+04,\n",
       "        6.818380e+03, -3.961800e+02, -1.210521e+04, -2.993500e+02,\n",
       "        2.605093e+04,  1.085770e+04,  7.273780e+03,  2.479800e+04,\n",
       "       -2.273724e+04,  1.783542e+04, -1.469758e+04, -1.992014e+04,\n",
       "        2.067900e+03,  2.298986e+04,  7.208190e+03,  3.461310e+03,\n",
       "       -2.549184e+04, -4.410442e+04,  5.213970e+03,  1.798354e+04,\n",
       "        3.548331e+04,  4.172788e+04, -3.414726e+04,  5.885750e+03,\n",
       "        8.157950e+03,  1.562805e+04, -2.395788e+04,  5.618610e+03,\n",
       "       -4.204065e+04, -1.306453e+04, -2.281277e+04,  3.570560e+03,\n",
       "        3.565243e+04,  2.346384e+04, -2.823799e+04,  5.249300e+03,\n",
       "       -2.776980e+03, -1.214574e+04, -5.046950e+03, -1.014267e+04,\n",
       "       -8.204180e+03, -2.100769e+04, -1.886218e+04, -5.380000e+03,\n",
       "       -3.004032e+04, -1.628404e+04,  1.163920e+04,  1.426609e+04,\n",
       "       -2.334417e+04,  2.468230e+04,  6.419520e+03, -5.058807e+04,\n",
       "        1.713040e+04, -4.735320e+03,  3.506355e+04,  4.183049e+04,\n",
       "       -3.849540e+03, -1.130837e+04,  2.057239e+04, -1.581241e+04,\n",
       "        6.152770e+03, -1.618312e+04, -4.018750e+03,  1.445713e+04,\n",
       "        1.770283e+04,  3.653663e+04,  1.705097e+04,  2.590650e+03,\n",
       "        5.959900e+04,  3.711353e+04, -4.226217e+04,  2.010525e+04,\n",
       "        4.677620e+03, -1.705159e+04, -2.040756e+04, -1.196790e+03,\n",
       "       -1.955605e+04,  4.270150e+03, -1.857304e+04,  5.638150e+03,\n",
       "       -7.195400e+03,  7.929680e+03,  4.303130e+03,  1.012918e+04,\n",
       "       -2.030004e+04,  1.922949e+04,  3.965051e+04, -1.218485e+04,\n",
       "        7.270380e+03, -7.005720e+03, -2.709330e+03,  1.490427e+04,\n",
       "        3.352040e+03,  2.617479e+04,  1.210898e+04,  3.969341e+04,\n",
       "       -1.661399e+04, -6.680640e+03,  1.471666e+04, -1.121660e+04,\n",
       "        2.741826e+04,  7.457915e+04,  7.772410e+03,  2.671666e+04,\n",
       "        2.435255e+04,  1.560383e+04,  6.495900e+03,  3.626387e+04,\n",
       "        1.619806e+04,  3.399610e+03,  1.308283e+04,  2.119451e+04,\n",
       "       -2.208651e+04,  9.608710e+03,  1.568983e+04,  5.859870e+03,\n",
       "        5.725710e+03, -1.093860e+03,  5.258800e+02,  1.182952e+04,\n",
       "        4.605292e+04,  8.970450e+03, -1.998267e+04,  2.230852e+04,\n",
       "       -1.179644e+04,  1.784863e+04,  8.175560e+03, -2.060470e+04,\n",
       "        2.549733e+04, -1.316295e+04, -1.269671e+04,  6.695390e+03,\n",
       "       -1.607121e+04, -2.281434e+04, -2.058096e+04, -5.956380e+03,\n",
       "        2.546816e+04, -2.235390e+03,  1.512435e+04, -2.470686e+04,\n",
       "       -2.176975e+04,  6.344320e+03, -3.571370e+03, -3.670675e+04,\n",
       "       -4.297150e+03,  3.342991e+04,  6.705250e+04,  5.863620e+03,\n",
       "        2.367483e+04,  1.186761e+04,  2.767627e+04, -1.825376e+04,\n",
       "       -3.265326e+04, -5.119220e+03,  5.824290e+03,  5.947627e+04,\n",
       "       -2.644648e+04, -2.575159e+04,  2.155917e+04,  7.188580e+03,\n",
       "        2.092840e+04, -5.247741e+04, -9.683140e+03,  3.657790e+03,\n",
       "        4.071470e+04, -6.885400e+02,  1.121660e+04, -9.966900e+02,\n",
       "        3.030601e+04, -6.044590e+03, -2.563932e+04,  2.404956e+04,\n",
       "        5.043410e+03,  1.159331e+04, -3.578179e+04,  1.188602e+04,\n",
       "       -9.977620e+03, -1.060388e+04, -1.935350e+03,  1.163053e+04,\n",
       "        1.167413e+04,  3.090836e+04, -2.510580e+03,  1.635095e+04,\n",
       "        8.819500e+02,  8.779060e+03,  1.736390e+03,  6.245598e+04,\n",
       "       -3.647724e+04,  8.596880e+03, -1.150575e+04, -8.267600e+02,\n",
       "       -6.319078e+04,  1.637396e+04,  1.206974e+04,  5.062804e+04,\n",
       "        1.561581e+04, -5.517550e+03, -1.575465e+04,  9.322360e+03,\n",
       "        1.411450e+04,  3.168462e+04, -3.467700e+02,  4.928393e+04,\n",
       "       -1.402248e+04,  4.670620e+03,  3.149727e+04,  1.640421e+04,\n",
       "       -2.567830e+04, -2.863537e+04,  2.271300e+04,  3.109740e+03,\n",
       "       -1.460668e+04, -6.332960e+03,  1.907615e+04, -1.411780e+03,\n",
       "        8.260050e+03,  9.996090e+03,  2.192825e+04, -2.845600e+04,\n",
       "       -5.263060e+03, -1.793126e+04, -1.503575e+04,  1.919218e+04,\n",
       "       -8.699850e+03, -3.752800e+03, -7.191120e+03,  2.637335e+04,\n",
       "       -1.921096e+04,  2.342890e+03, -8.739220e+03, -1.499029e+04,\n",
       "       -4.962663e+04, -3.217800e+03, -1.034156e+04, -1.866295e+04,\n",
       "        2.229047e+04, -5.010434e+04, -2.031732e+04, -3.463654e+04,\n",
       "        1.456290e+03, -2.616496e+04, -6.951480e+03,  1.696033e+04,\n",
       "        4.437690e+03,  4.358322e+04, -8.279850e+03,  4.113900e+04,\n",
       "        4.775190e+03, -9.082800e+03, -7.038437e+04, -1.678506e+04,\n",
       "        2.382440e+04,  2.162580e+04, -3.167270e+03, -9.916810e+03,\n",
       "        2.431631e+04,  6.287300e+02,  1.531475e+04, -1.277319e+04,\n",
       "       -7.359838e+04,  2.834970e+03, -3.202702e+04, -5.899610e+03,\n",
       "        5.870100e+03, -3.025560e+04, -3.199143e+04, -5.141629e+04,\n",
       "       -6.764790e+03,  2.363410e+03, -1.183299e+04, -3.020161e+04,\n",
       "       -3.041540e+03, -3.521730e+03,  4.650377e+04,  4.206846e+04,\n",
       "        3.564038e+04,  7.544210e+03, -1.963404e+04,  5.817310e+03,\n",
       "       -1.240083e+04,  3.788430e+03,  1.065045e+04, -2.506135e+04,\n",
       "        2.389545e+04,  2.691410e+03, -1.765893e+04,  3.948892e+04,\n",
       "        1.566397e+04,  9.450380e+03,  1.282030e+04, -2.229180e+04,\n",
       "       -6.343860e+03, -3.206073e+04,  4.288517e+04, -3.543404e+04,\n",
       "        1.030284e+04,  1.733270e+04,  1.623434e+04,  1.176453e+04,\n",
       "       -3.737112e+04,  1.396306e+04,  2.997079e+04, -2.914569e+04,\n",
       "        1.816157e+04,  1.763138e+04,  1.665405e+04,  1.417422e+04,\n",
       "        2.833726e+04, -1.818739e+04, -1.238935e+04,  2.067970e+03,\n",
       "        1.448150e+04,  2.231906e+04, -4.353290e+03, -1.784667e+04])"
      ]
     },
     "execution_count": 27,
     "metadata": {},
     "output_type": "execute_result"
    }
   ],
   "source": [
    "error_means\n",
    "# each value in error_means is a new year where we bought 100 homes and sold 100 homes \n",
    "# and we got this avg price for each one..\n",
    "# So, if we want to know home much we made at the end of each year, we multipy by 100.\n",
    "# Some years we'll lose money, some years we'll gain.\n",
    "\n",
    "# on the 1st year we lost 6282 * 100 = 628,200\n",
    "# on the 3rd year we gained 6836 * 100 = 683,600\n",
    "\n",
    "# my boss doesn't care if I lose 300K one year or 30,000, or 3 million. He wants to know what's likely to happen. \n",
    "# because he knows my prediction is not going to be 100% correct. \n",
    "\n",
    "# do this same simulation with $1000 less than the predicted price and see what happens.\n"
   ]
  },
  {
   "cell_type": "markdown",
   "metadata": {},
   "source": []
  },
  {
   "cell_type": "markdown",
   "metadata": {},
   "source": []
  },
  {
   "cell_type": "code",
   "execution_count": null,
   "metadata": {},
   "outputs": [],
   "source": []
  },
  {
   "cell_type": "code",
   "execution_count": null,
   "metadata": {},
   "outputs": [],
   "source": []
  },
  {
   "cell_type": "code",
   "execution_count": null,
   "metadata": {},
   "outputs": [],
   "source": []
  }
 ],
 "metadata": {
  "kernelspec": {
   "display_name": "Python 3",
   "language": "python",
   "name": "python3"
  },
  "language_info": {
   "codemirror_mode": {
    "name": "ipython",
    "version": 3
   },
   "file_extension": ".py",
   "mimetype": "text/x-python",
   "name": "python",
   "nbconvert_exporter": "python",
   "pygments_lexer": "ipython3",
   "version": "3.7.3"
  }
 },
 "nbformat": 4,
 "nbformat_minor": 2
}
