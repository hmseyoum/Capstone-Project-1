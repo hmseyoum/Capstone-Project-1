{
 "cells": [
  {
   "cell_type": "markdown",
   "metadata": {},
   "source": [
    "## Data Preparation"
   ]
  },
  {
   "cell_type": "code",
   "execution_count": 1,
   "metadata": {},
   "outputs": [],
   "source": [
    "# import necessary modules/libraries\n",
    "\n",
    "import numpy as  np\n",
    "import pandas as pd\n",
    "\n",
    "import matplotlib\n",
    "import matplotlib.pyplot as plt\n",
    "import seaborn as sns\n",
    "\n",
    "from scipy import stats\n",
    "from scipy.stats import pearsonr\n",
    "\n",
    "from matplotlib import rcParams\n",
    "sns.set_style(\"whitegrid\")\n",
    "sns.set_context(\"talk\", font_scale=0.7)\n",
    "sns.set_palette(\"Greens_r\")\n",
    "#set_palette(\"Set1\", 8, .75) # makes plot lines red\n",
    "\n",
    "# Ignore  the warnings\n",
    "import warnings\n",
    "warnings.filterwarnings('always')\n",
    "warnings.filterwarnings('ignore')\n",
    "\n",
    "from sklearn.preprocessing import Imputer # to impute missing data\n",
    "\n",
    "from sklearn.preprocessing import StandardScaler\n",
    "from sklearn.preprocessing import MinMaxScaler\n",
    "\n",
    "import sklearn\n",
    "from sklearn.linear_model import LinearRegression\n",
    "from sklearn.ensemble import RandomForestRegressor\n",
    "from sklearn.linear_model import Lasso\n",
    "from sklearn.linear_model import Ridge\n",
    "from sklearn.model_selection import train_test_split\n",
    "from sklearn.model_selection import cross_validate\n",
    "from sklearn.model_selection import cross_val_score\n",
    "from sklearn.model_selection import GridSearchCV\n",
    "from sklearn.metrics import mean_squared_error\n",
    "\n",
    "%matplotlib inline\n",
    "\n",
    "# read the data\n",
    "df1 = pd.read_csv('house_price_prediction.csv')\n",
    "df2 = df1.copy()\n",
    "\n",
    "# change date col to datetime\n",
    "df2['date'] = pd.to_datetime(df2['date'])\n",
    "\n",
    "# change data types of 'waterfront' & 'condition' to categorical\n",
    "df2[['waterfront', 'condition']] = df1[['waterfront', 'condition']].astype('category')"
   ]
  },
  {
   "cell_type": "markdown",
   "metadata": {},
   "source": [
    "## Feature Engineering"
   ]
  },
  {
   "cell_type": "code",
   "execution_count": 2,
   "metadata": {},
   "outputs": [],
   "source": [
    "# splittig statezip into state & zipcode features & removing statezip\n",
    "df2['state'] = df2['statezip'].apply(lambda x: x.split(' ')[0])\n",
    "df2['zipcode'] = df2['statezip'].apply(lambda x: int(x.split(' ')[1]))\n",
    "df2 = df2.drop('statezip', axis='columns')\n",
    "\n",
    "# creating total_sqft feature: sqft_above + sqft_lot\n",
    "df2['total_sqft'] = df2.sqft_living + df2.sqft_lot\n",
    "\n",
    "# creating month feature\n",
    "df2['month'] = pd.DatetimeIndex(df2['date']).month\n",
    "\n",
    "df3 = df2.copy()\n",
    "\n",
    "# creating a column of boolean arrays with 1s for when price is $0 & 0s for when price is not $0\n",
    "df3['price_is_zero'] = (df3['price'] == 0).astype(int)\n",
    "\n",
    "# creating a column of boolean arrays with 1s for when yr_renov is 0 & 0s for others\n",
    "df3['renov_date_is_zero'] = (df3['yr_renovated'] == 0).astype(int)\n",
    "\n",
    "# replacing 0s with the mean bedroom & bathroom values\n",
    "df3[\"bedrooms\"].replace({0: round(df3[\"bedrooms\"].mean(), 0)}, inplace=True)\n",
    "df3[\"bathrooms\"].replace({0: round(df3[\"bathrooms\"].mean(), 0)}, inplace=True)\n",
    "\n",
    "# removing price outliers\n",
    "df_no_outs = df3[df3.price < 10000000].copy()\n",
    "\n",
    "# creating a new dataframe with $0 prices removed to compare later\n",
    "df_no_zeros = df_no_outs[df_no_outs[\"price\"] != 0].copy()"
   ]
  },
  {
   "cell_type": "markdown",
   "metadata": {},
   "source": [
    "## Statistical Data Analysis"
   ]
  },
  {
   "cell_type": "code",
   "execution_count": 3,
   "metadata": {},
   "outputs": [],
   "source": [
    "meanprice_bedrooms = df_no_zeros.groupby('bedrooms')['price'].mean()\n",
    "medianprice_bedrooms = df_no_zeros.groupby('bedrooms')['price'].median()\n",
    "\n",
    "meansqft_bedroom = df_no_zeros.groupby(\"bedrooms\")[\"sqft_living\"].mean()\n",
    "mediansqft_bedroom = df_no_zeros.groupby(\"bedrooms\")[\"sqft_living\"].median()\n",
    "\n",
    "may_price = df_no_zeros[df_no_zeros.month==5]['price']\n",
    "june_price = df_no_zeros[df_no_zeros.month==6]['price']\n",
    "july_price = df_no_zeros[df_no_zeros.month==7]['price']\n",
    "\n",
    "def ecdf(data):\n",
    "    \"\"\"Compute ECDF for a one-dimensional array of measurements.\"\"\"\n",
    "    n = len(data)\n",
    "\n",
    "    x = np.sort(data)\n",
    "\n",
    "    y = np.arange(1, n+1) / n\n",
    "\n",
    "    return x, y\n",
    "\n",
    "# Compute ECDFs\n",
    "x_5, y_5 = ecdf(may_price)\n",
    "x_6, y_6 = ecdf(june_price)\n",
    "x_7, y_7 = ecdf(july_price)"
   ]
  },
  {
   "cell_type": "markdown",
   "metadata": {},
   "source": [
    "### Feature Importance"
   ]
  },
  {
   "cell_type": "code",
   "execution_count": 4,
   "metadata": {},
   "outputs": [],
   "source": [
    "from sklearn.feature_selection import f_regression\n",
    "from sklearn.feature_selection import SelectKBest\n",
    "\n",
    "def feature_importance(X, y, model='reg'):\n",
    "    score_func = {'reg': f_regression}\n",
    "\n",
    "    # Score each of the features\n",
    "    bestfeatures = SelectKBest(score_func=score_func[model], k='all')\n",
    "    fit = bestfeatures.fit(X, y)\n",
    "\n",
    "    # Organize and return the scores\n",
    "    featureScores = pd.DataFrame([X.columns, fit.scores_]).T\n",
    "    featureScores.columns = ['Feature', 'Score']\n",
    "    return featureScores.sort_values('Score', ascending=False).set_index('Feature') "
   ]
  },
  {
   "cell_type": "markdown",
   "metadata": {},
   "source": [
    "### Hypothesis Test I"
   ]
  },
  {
   "cell_type": "markdown",
   "metadata": {},
   "source": [
    "**Ho**: Prices of houses with many bedrooms and a few bedrooms are equal.  \n",
    "**Ha**: Prices of houses with many bedrooms and a few bedrooms are different."
   ]
  },
  {
   "cell_type": "markdown",
   "metadata": {},
   "source": [
    "t-test:\n",
    "I'll compare 2 groups: one with `bedrooms` greater than or equal to 4, and another with less than 4."
   ]
  },
  {
   "cell_type": "code",
   "execution_count": 5,
   "metadata": {},
   "outputs": [
    {
     "data": {
      "text/plain": [
       "Ttest_indResult(statistic=20.612406446603853, pvalue=2.3169170411918228e-90)"
      ]
     },
     "execution_count": 5,
     "metadata": {},
     "output_type": "execute_result"
    }
   ],
   "source": [
    "many_bedrooms = df_no_outs[df_no_outs['bedrooms'] >= 4]['price']\n",
    "few_bedrooms = df_no_outs[df_no_outs['bedrooms'] < 4]['price']\n",
    "stats.ttest_ind(many_bedrooms, few_bedrooms)"
   ]
  },
  {
   "cell_type": "markdown",
   "metadata": {},
   "source": [
    "#### Result\n",
    "**t-stat**: 20.6  \n",
    "**p-val**: 2.3e-90 < 0.05  \n",
    "We reject the null hypothesis that houses with many bedrooms are priced around the same as houses with fewer bedrooms."
   ]
  },
  {
   "cell_type": "markdown",
   "metadata": {},
   "source": [
    "### Hypothesis Test II"
   ]
  },
  {
   "cell_type": "markdown",
   "metadata": {},
   "source": [
    "**Ho**: Houses with waterfronts are priced the same as houses without waterfronts.  \n",
    "**Ha**: Houses with waterfronts are priced differently than houses without waterfronts."
   ]
  },
  {
   "cell_type": "code",
   "execution_count": 6,
   "metadata": {
    "scrolled": true
   },
   "outputs": [
    {
     "data": {
      "text/plain": [
       "Ttest_indResult(statistic=14.441521571804724, pvalue=2.8817562762538972e-46)"
      ]
     },
     "execution_count": 6,
     "metadata": {},
     "output_type": "execute_result"
    }
   ],
   "source": [
    "waterfront = df_no_outs[df_no_outs['waterfront'] == 1]['price']\n",
    "no_waterfront = df_no_outs[df_no_outs['waterfront'] == 0]['price']\n",
    "stats.ttest_ind(waterfront, no_waterfront)"
   ]
  },
  {
   "cell_type": "markdown",
   "metadata": {},
   "source": [
    "#### Result\n",
    "**t-stat**: 14.4  \n",
    "**p-val**: 2.9e-46 < 0.05  \n",
    "We reject the null hypothesis that houses with waterfronts are priced the same as houses without waterfronts."
   ]
  },
  {
   "cell_type": "markdown",
   "metadata": {},
   "source": [
    "# Data Modeling"
   ]
  },
  {
   "cell_type": "markdown",
   "metadata": {},
   "source": [
    "## Data Preprocessing"
   ]
  },
  {
   "cell_type": "code",
   "execution_count": 7,
   "metadata": {},
   "outputs": [
    {
     "data": {
      "text/plain": [
       "\"X_transformed2 = df_no_zeros.drop(['price', 'date', 'street', 'city', 'state', 'country'], axis='columns')\\nX_transformed2['bedrooms_squared'] = X['bedrooms']**2  # parabolic transformation of bedrooms\\nX_transformed2 = X_transformed2.drop(['bedrooms'], axis='columns')\\ny_transformed2 = df_no_zeros['price']\\nX_train_transformed2, X_test_transformed2, y_train_transformed2, y_test_transformed2 = train_test_split(X_transformed2, y_transformed2, test_size = 0.3, random_state=42)\""
      ]
     },
     "execution_count": 7,
     "metadata": {},
     "output_type": "execute_result"
    }
   ],
   "source": [
    "df_no_outs = df3[df3.price < 10000000]\n",
    "df_no_zeros = df_no_outs[df_no_outs[\"price\"] != 0]\n",
    "\n",
    "# dataframe with both zero prices and outliers.\n",
    "X = df3.drop(['price', 'date', 'street', 'city', 'state', 'country'], axis='columns')\n",
    "y = df3[\"price\"]\n",
    "# splitting data into training and test data\n",
    "X_train, X_test, y_train, y_test = train_test_split(X, y, test_size = 0.3, random_state=42)\n",
    "\n",
    "# dataframe without price outliers\n",
    "X_no_outs = df_no_outs.drop(['price', 'date', 'street', 'city', 'state', 'country'], axis='columns')\n",
    "y_no_outs = df_no_outs[\"price\"]\n",
    "X_train_no_outs, X_test_no_outs, y_train_no_outs, y_test_no_outs = train_test_split(X_no_outs, y_no_outs, test_size = 0.3, random_state=42)\n",
    "\n",
    "# dataframe without $0 price values\n",
    "X_no_zeros = df_no_zeros.drop(['price', 'date', 'street', 'city', 'state', 'country'], axis='columns')\n",
    "y_no_zeros = df_no_zeros[\"price\"]\n",
    "X_train_no_zeros, X_test_no_zeros, y_train_no_zeros, y_test_no_zeros = train_test_split(X_no_zeros, y_no_zeros, test_size = 0.3, random_state=42)\n",
    "\n",
    "# dataframe with a parabolic transformation on the `bedrooms` feature\n",
    "X_transformed = df_no_zeros.drop(['price', 'date', 'street', 'city', 'state', 'country'], axis='columns')\n",
    "X_transformed['bedrooms_squared'] = X['bedrooms']**2  # parabolic transformation of bedrooms\n",
    "y_transformed = df_no_zeros['price']\n",
    "X_train_transformed, X_test_transformed, y_train_transformed, y_test_transformed = train_test_split(X_transformed, y_transformed, test_size = 0.3, random_state=42)\n",
    "\n",
    "# dataframe with a parabolic transformation on the `bedrooms` feature & `bedrooms` removed\n",
    "'''X_transformed2 = df_no_zeros.drop(['price', 'date', 'street', 'city', 'state', 'country'], axis='columns')\n",
    "X_transformed2['bedrooms_squared'] = X['bedrooms']**2  # parabolic transformation of bedrooms\n",
    "X_transformed2 = X_transformed2.drop(['bedrooms'], axis='columns')\n",
    "y_transformed2 = df_no_zeros['price']\n",
    "X_train_transformed2, X_test_transformed2, y_train_transformed2, y_test_transformed2 = train_test_split(X_transformed2, y_transformed2, test_size = 0.3, random_state=42)'''"
   ]
  },
  {
   "cell_type": "code",
   "execution_count": 8,
   "metadata": {},
   "outputs": [],
   "source": [
    "# 4 training sets and test sets\n",
    "# 3 algorithms\n",
    "\n",
    "train_test_sets = [\n",
    "    [X_train, X_test, y_train, y_test],\n",
    "    [X_train_no_outs, X_test_no_outs, y_train_no_outs, y_test_no_outs],\n",
    "    [X_train_no_zeros, X_test_no_zeros, y_train_no_zeros, y_test_no_zeros],\n",
    "    [X_train_transformed, X_test_transformed, y_train_transformed, y_test_transformed],\n",
    "]\n",
    "\n",
    "train_test_dicts = []\n",
    "for i, sets in enumerate(train_test_sets):\n",
    "    d = dict(zip('X_train X_test y_train y_test'.split(), sets))\n",
    "    train_test_dicts.append(d)\n",
    "\n",
    "algorithms = [LinearRegression, Ridge, RandomForestRegressor]\n",
    "names = ['linear regression', 'ridge regression ', 'random forest    ']"
   ]
  },
  {
   "cell_type": "code",
   "execution_count": 9,
   "metadata": {},
   "outputs": [],
   "source": [
    "def calc_train_error(X_train, y_train, model):\n",
    "    '''returns in-sample error for already fit model.'''\n",
    "    y_pred = model.predict(X_train)\n",
    "    mse = mean_squared_error(y_train, y_pred)\n",
    "    rmse = np.sqrt(mse)\n",
    "    return rmse\n",
    "    \n",
    "def calc_test_error(X_test, y_test, model):\n",
    "    '''returns out-of-sample error for already fit model.'''\n",
    "    y_pred = model.predict(X_test)\n",
    "    mse = mean_squared_error(y_test, y_pred)\n",
    "    rmse = np.sqrt(mse)\n",
    "    return rmse\n",
    "    \n",
    "def calc_metrics(X_train, y_train, X_test, y_test, model):\n",
    "    '''fits model and returns the RMSE for in-sample error and out-of-sample error, and their accuracy score'''\n",
    "    \n",
    "    model.fit(X_train, y_train)\n",
    "    \n",
    "    train_error = calc_train_error(X_train, y_train, model)\n",
    "    test_error = calc_test_error(X_test, y_test, model)\n",
    "    \n",
    "    train_score = model.score(X_train, y_train)\n",
    "    test_score = model.score(X_test, y_test)\n",
    "    \n",
    "    y_pred = model.predict(X_test)\n",
    "    return train_error, test_error, train_score, test_score, y_pred"
   ]
  },
  {
   "cell_type": "markdown",
   "metadata": {},
   "source": [
    "### Choosing alpha for Ridge Regression"
   ]
  },
  {
   "cell_type": "code",
   "execution_count": 10,
   "metadata": {},
   "outputs": [
    {
     "name": "stdout",
     "output_type": "stream",
     "text": [
      "\n",
      "alpha: 0.0001 | test_score: 0.06777947773383897 | test_error: 820661.0540042502 | test/train error: 3.4\n",
      "alpha: 0.001 | test_score: 0.0677794248900705 | test_error: 820661.0772642092 | test/train error: 3.4\n",
      "alpha: 0.01 | test_score: 0.06777897974205749 | test_error: 820661.273202603 | test/train error: 3.4\n",
      "alpha: 0.1 | test_score: 0.06777928636739461 | test_error: 820661.1382369914 | test/train error: 3.4\n",
      "alpha: 1 | test_score: 0.06782834917275116 | test_error: 820639.5422421335 | test/train error: 3.4\n",
      "alpha: 10.0 | test_score: 0.0676668767071551 | test_error: 820710.6155000443 | test/train error: 3.4\n",
      "\n",
      "alpha: 0.0001 | test_score: 0.5653871733995002 | test_error: 242953.0513279551 | test/train error: 1.0\n",
      "alpha: 0.001 | test_score: 0.5653873191173242 | test_error: 242953.01059906863 | test/train error: 1.0\n",
      "alpha: 0.01 | test_score: 0.5653888828896426 | test_error: 242952.57351617725 | test/train error: 1.0\n",
      "alpha: 0.1 | test_score: 0.5654117033213278 | test_error: 242946.1949915955 | test/train error: 1.0\n",
      "alpha: 1 | test_score: 0.5656890507214902 | test_error: 242868.6604033432 | test/train error: 1.0\n",
      "alpha: 10.0 | test_score: 0.5643549143000446 | test_error: 243241.40195248876 | test/train error: 1.0\n",
      "\n",
      "alpha: 0.0001 | test_score: 0.5953517271705626 | test_error: 236687.2803880412 | test/train error: 1.0\n",
      "alpha: 0.001 | test_score: 0.5953516994874801 | test_error: 236687.28848424947 | test/train error: 1.0\n",
      "alpha: 0.01 | test_score: 0.5953514286883995 | test_error: 236687.36768227073 | test/train error: 1.0\n",
      "alpha: 0.1 | test_score: 0.5953489589398709 | test_error: 236688.08998481612 | test/train error: 1.0\n",
      "alpha: 1 | test_score: 0.5953049326209416 | test_error: 236700.96555024775 | test/train error: 1.0\n",
      "alpha: 10.0 | test_score: 0.5938836077082867 | test_error: 237116.25860886744 | test/train error: 1.0\n",
      "\n",
      "alpha: 0.0001 | test_score: 0.595484903834457 | test_error: 236648.32826779856 | test/train error: 1.0\n",
      "alpha: 0.001 | test_score: 0.5954848388116147 | test_error: 236648.3472875415 | test/train error: 1.0\n",
      "alpha: 0.01 | test_score: 0.5954842160668711 | test_error: 236648.52944568018 | test/train error: 1.0\n",
      "alpha: 0.1 | test_score: 0.5954794964288515 | test_error: 236649.90997541894 | test/train error: 1.0\n",
      "alpha: 1 | test_score: 0.5954292749675731 | test_error: 236664.5996330863 | test/train error: 1.0\n",
      "alpha: 10.0 | test_score: 0.5939778191898639 | test_error: 237088.75372336322 | test/train error: 1.0\n"
     ]
    }
   ],
   "source": [
    "alphas = [1e-4, 1e-3, 1e-2, 1e-1, 1, 1e1]\n",
    "\n",
    "for sets in train_test_sets:\n",
    "    print('')\n",
    "    for alpha in alphas:\n",
    "        model = Ridge(alpha = alpha)\n",
    "        train_error, test_error, train_score, test_score, y_pred = calc_metrics(sets[0], sets[2],  sets[1], sets[3], model)\n",
    "        print('alpha: {} | test_score: {} | test_error: {} | test/train error: {}'.format(alpha, test_score, test_error, round(test_error/train_error, 1)))\n"
   ]
  },
  {
   "cell_type": "markdown",
   "metadata": {},
   "source": [
    "For the 1st & 2nd datasets (df3 & df_no_outs), the best alpha seems to be alpha=1.  \n",
    "For the 3rd and 4th datasets (df_no_zeros & df_transformed), alpha=0.0001 seems best."
   ]
  },
  {
   "cell_type": "markdown",
   "metadata": {},
   "source": [
    "### Choosing parameters for Random Forest"
   ]
  },
  {
   "cell_type": "code",
   "execution_count": 11,
   "metadata": {
    "scrolled": true
   },
   "outputs": [
    {
     "name": "stdout",
     "output_type": "stream",
     "text": [
      "\n",
      "max_depth: None | n_estimators: 1 | test_score: -0.012 | test_error: 854920.983 | test/train error: 4.4\n",
      "max_depth: None | n_estimators: 10 | test_score: 0.068 | test_error: 820512.856 | test/train error: 8.2\n",
      "max_depth: None | n_estimators: 100 | test_score: 0.076 | test_error: 817107.52 | test/train error: 9.5\n",
      "max_depth: None | n_estimators: 200 | test_score: 0.077 | test_error: 816695.178 | test/train error: 9.6\n",
      "max_depth: 10 | n_estimators: 1 | test_score: 0.018 | test_error: 842357.146 | test/train error: 4.5\n",
      "max_depth: 10 | n_estimators: 10 | test_score: 0.068 | test_error: 820601.548 | test/train error: 5.8\n",
      "max_depth: 10 | n_estimators: 100 | test_score: 0.076 | test_error: 816824.839 | test/train error: 5.9\n",
      "max_depth: 10 | n_estimators: 200 | test_score: 0.077 | test_error: 816689.704 | test/train error: 6.0\n",
      "max_depth: 100 | n_estimators: 1 | test_score: -0.032 | test_error: 863394.092 | test/train error: 4.0\n",
      "max_depth: 100 | n_estimators: 10 | test_score: 0.064 | test_error: 822381.531 | test/train error: 8.0\n",
      "max_depth: 100 | n_estimators: 100 | test_score: 0.075 | test_error: 817507.827 | test/train error: 9.4\n",
      "max_depth: 100 | n_estimators: 200 | test_score: 0.076 | test_error: 816896.741 | test/train error: 9.4\n",
      "\n",
      "max_depth: None | n_estimators: 1 | test_score: 0.16 | test_error: 337836.757 | test/train error: 1.4\n",
      "max_depth: None | n_estimators: 10 | test_score: 0.602 | test_error: 232406.614 | test/train error: 2.2\n",
      "max_depth: None | n_estimators: 100 | test_score: 0.664 | test_error: 213492.712 | test/train error: 2.3\n",
      "max_depth: None | n_estimators: 200 | test_score: 0.656 | test_error: 216121.109 | test/train error: 2.4\n",
      "max_depth: 10 | n_estimators: 1 | test_score: 0.202 | test_error: 329309.349 | test/train error: 1.4\n",
      "max_depth: 10 | n_estimators: 10 | test_score: 0.63 | test_error: 224249.812 | test/train error: 1.6\n",
      "max_depth: 10 | n_estimators: 100 | test_score: 0.622 | test_error: 226529.393 | test/train error: 1.7\n",
      "max_depth: 10 | n_estimators: 200 | test_score: 0.643 | test_error: 220287.359 | test/train error: 1.6\n",
      "max_depth: 100 | n_estimators: 1 | test_score: 0.152 | test_error: 339272.216 | test/train error: 1.5\n",
      "max_depth: 100 | n_estimators: 10 | test_score: 0.649 | test_error: 218481.155 | test/train error: 2.0\n",
      "max_depth: 100 | n_estimators: 100 | test_score: 0.646 | test_error: 219126.758 | test/train error: 2.4\n",
      "max_depth: 100 | n_estimators: 200 | test_score: 0.666 | test_error: 213103.367 | test/train error: 2.3\n",
      "\n",
      "max_depth: None | n_estimators: 1 | test_score: 0.222 | test_error: 328229.206 | test/train error: 1.8\n",
      "max_depth: None | n_estimators: 10 | test_score: 0.603 | test_error: 234454.503 | test/train error: 2.5\n",
      "max_depth: None | n_estimators: 100 | test_score: 0.635 | test_error: 224833.679 | test/train error: 2.7\n",
      "max_depth: None | n_estimators: 200 | test_score: 0.642 | test_error: 222651.808 | test/train error: 2.7\n",
      "max_depth: 10 | n_estimators: 1 | test_score: 0.401 | test_error: 287962.411 | test/train error: 1.4\n",
      "max_depth: 10 | n_estimators: 10 | test_score: 0.6 | test_error: 235422.983 | test/train error: 1.7\n",
      "max_depth: 10 | n_estimators: 100 | test_score: 0.611 | test_error: 231939.093 | test/train error: 1.8\n",
      "max_depth: 10 | n_estimators: 200 | test_score: 0.632 | test_error: 225762.574 | test/train error: 1.7\n",
      "max_depth: 100 | n_estimators: 1 | test_score: 0.172 | test_error: 338563.838 | test/train error: 1.8\n",
      "max_depth: 100 | n_estimators: 10 | test_score: 0.637 | test_error: 224053.044 | test/train error: 2.1\n",
      "max_depth: 100 | n_estimators: 100 | test_score: 0.642 | test_error: 222566.355 | test/train error: 2.6\n",
      "max_depth: 100 | n_estimators: 200 | test_score: 0.635 | test_error: 224722.756 | test/train error: 2.8\n",
      "\n",
      "max_depth: None | n_estimators: 1 | test_score: 0.066 | test_error: 359537.323 | test/train error: 1.5\n",
      "max_depth: None | n_estimators: 10 | test_score: 0.605 | test_error: 233722.458 | test/train error: 2.3\n",
      "max_depth: None | n_estimators: 100 | test_score: 0.629 | test_error: 226741.635 | test/train error: 2.7\n",
      "max_depth: None | n_estimators: 200 | test_score: 0.645 | test_error: 221770.905 | test/train error: 2.7\n",
      "max_depth: 10 | n_estimators: 1 | test_score: -0.012 | test_error: 374338.567 | test/train error: 1.6\n",
      "max_depth: 10 | n_estimators: 10 | test_score: 0.582 | test_error: 240478.776 | test/train error: 1.8\n",
      "max_depth: 10 | n_estimators: 100 | test_score: 0.631 | test_error: 225903.401 | test/train error: 1.7\n",
      "max_depth: 10 | n_estimators: 200 | test_score: 0.631 | test_error: 226003.397 | test/train error: 1.7\n",
      "max_depth: 100 | n_estimators: 1 | test_score: 0.402 | test_error: 287663.603 | test/train error: 1.5\n",
      "max_depth: 100 | n_estimators: 10 | test_score: 0.636 | test_error: 224611.25 | test/train error: 2.3\n",
      "max_depth: 100 | n_estimators: 100 | test_score: 0.645 | test_error: 221815.255 | test/train error: 2.6\n",
      "max_depth: 100 | n_estimators: 200 | test_score: 0.649 | test_error: 220532.437 | test/train error: 2.7\n"
     ]
    }
   ],
   "source": [
    "max_depths = [None, 10, 100]\n",
    "n_estimators = [1, 10, 100, 200]\n",
    "\n",
    "for sets in train_test_sets:\n",
    "    print('')\n",
    "    for max_depth in max_depths:\n",
    "        for n in n_estimators:\n",
    "            model = RandomForestRegressor(max_depth=max_depth , n_estimators=n)\n",
    "            train_error, test_error, train_score, test_score, y_pred = calc_metrics(sets[0], sets[2],  sets[1], sets[3], model)\n",
    "            train_error, test_error, train_score, test_score = round(train_error,3), round(test_error,3), round(train_score,3), round(test_score,3)\n",
    "            print('max_depth: {} | n_estimators: {} | test_score: {} | test_error: {} | test/train error: {}'.format(max_depth, n, test_score, test_error, round(test_error/train_error, 1)))\n"
   ]
  },
  {
   "cell_type": "markdown",
   "metadata": {},
   "source": [
    "Looks like the best values for parameters `max_depth` & `n_estimators` are None & 200 respectively."
   ]
  },
  {
   "cell_type": "code",
   "execution_count": 12,
   "metadata": {
    "scrolled": true
   },
   "outputs": [],
   "source": [
    "lr_train_score = []\n",
    "lr_test_score = []\n",
    "lr_train_error = []\n",
    "lr_test_error = []\n",
    "\n",
    "ridge_train_score = []\n",
    "ridge_test_score = []\n",
    "ridge_train_error = []\n",
    "ridge_test_error = []\n",
    "\n",
    "rf_train_score = []\n",
    "rf_test_score = []\n",
    "rf_train_error = []\n",
    "rf_test_error = []\n",
    "\n",
    "predictions_dict = dict()\n",
    "\n",
    "for sets in train_test_dicts:\n",
    "    \n",
    "    # linear regression\n",
    "    \n",
    "    #model = algorithms[0]()\n",
    "    lr = LinearRegression()\n",
    "    train_error, test_error, train_score, test_score, y_pred = calc_metrics(model=lr, **sets)\n",
    "    train_error, test_error, train_score, test_score = round(train_error, 3), round(test_error, 3), round(train_score, 3), round(test_score, 3)\n",
    "    #print('train error: {} | test error: {}'.format(train_score, test_score))\n",
    "    \n",
    "    lr_train_error.append(train_error)\n",
    "    lr_test_error.append(test_error)\n",
    "    lr_train_score.append(train_score)\n",
    "    lr_test_score.append(test_score)\n",
    "    \n",
    "    for i in range(4):\n",
    "        predictions_dict['lr_pred{}'.format(i)] = y_pred\n",
    "    \n",
    "    # ridge regression\n",
    "    \n",
    "    #model = algorithms[1](alpha=0.0001)\n",
    "    ridge = Ridge(alpha=0.0001)\n",
    "    train_error, test_error, train_score, test_score, y_pred = calc_metrics(model=ridge, **sets)\n",
    "    train_error, test_error, train_score, test_score = round(train_error, 3), round(test_error, 3), round(train_score, 3), round(test_score, 3)\n",
    "    #print('train error: {} | test error: {}'.format(train_score, test_score))\n",
    "    \n",
    "    ridge_train_error.append(train_error)\n",
    "    ridge_test_error.append(test_error)\n",
    "    ridge_train_score.append(train_score)\n",
    "    ridge_test_score.append(test_score)\n",
    "    \n",
    "    for i in range(4):\n",
    "        predictions_dict['ridge_pred{}'.format(i)] = y_pred\n",
    "    \n",
    "    # random forest\n",
    "    \n",
    "    #model = algorithms[2](max_depth=None, n_estimators=200)\n",
    "    rf = RandomForestRegressor(max_depth=None, n_estimators=200)\n",
    "    train_error, test_error, train_score, test_score, y_pred = calc_metrics(model=rf, **sets)\n",
    "    train_error, test_error, train_score, test_score = round(train_error, 3), round(test_error, 3), round(train_score, 3), round(test_score, 3)\n",
    "    #print('train error: {} | test error: {}'.format(train_score, test_score))\n",
    "    \n",
    "    rf_train_error.append(train_error)\n",
    "    rf_test_error.append(test_error)\n",
    "    rf_train_score.append(train_score)\n",
    "    rf_test_score.append(test_score)\n",
    "    \n",
    "    for i in range(4):\n",
    "        predictions_dict['rf_pred{}'.format(i)] = y_pred\n",
    "    \n",
    "    '''\n",
    "    print('train error: {} | test error: {}'.format(train_error, test_error))\n",
    "    print('test/train: {}'.format(round(test_error/train_error, 1)))\n",
    "    print(names[0], \"R^2: {}, RMSE: {}\".format(test_score, rmse))\n",
    "    '''"
   ]
  },
  {
   "cell_type": "code",
   "execution_count": 14,
   "metadata": {
    "scrolled": false
   },
   "outputs": [
    {
     "data": {
      "text/html": [
       "<div>\n",
       "<style scoped>\n",
       "    .dataframe tbody tr th:only-of-type {\n",
       "        vertical-align: middle;\n",
       "    }\n",
       "\n",
       "    .dataframe tbody tr th {\n",
       "        vertical-align: top;\n",
       "    }\n",
       "\n",
       "    .dataframe thead th {\n",
       "        text-align: right;\n",
       "    }\n",
       "</style>\n",
       "<table border=\"1\" class=\"dataframe\">\n",
       "  <thead>\n",
       "    <tr style=\"text-align: right;\">\n",
       "      <th></th>\n",
       "      <th>model</th>\n",
       "      <th>test_score</th>\n",
       "      <th>train_score</th>\n",
       "      <th>test_error</th>\n",
       "      <th>train_error</th>\n",
       "      <th>price outs removed</th>\n",
       "      <th>description</th>\n",
       "      <th>features</th>\n",
       "    </tr>\n",
       "  </thead>\n",
       "  <tbody>\n",
       "    <tr>\n",
       "      <th>10</th>\n",
       "      <td>random forest</td>\n",
       "      <td>0.663</td>\n",
       "      <td>0.941</td>\n",
       "      <td>214092.571</td>\n",
       "      <td>90077.931</td>\n",
       "      <td>yes</td>\n",
       "      <td>no transformations</td>\n",
       "      <td>all except bedrooms, date, price, street, city...</td>\n",
       "    </tr>\n",
       "    <tr>\n",
       "      <th>12</th>\n",
       "      <td>random forest</td>\n",
       "      <td>0.637</td>\n",
       "      <td>0.949</td>\n",
       "      <td>224093.996</td>\n",
       "      <td>83104.160</td>\n",
       "      <td>yes</td>\n",
       "      <td>parabolic transformation</td>\n",
       "      <td>all except date, price, street, city, state</td>\n",
       "    </tr>\n",
       "    <tr>\n",
       "      <th>11</th>\n",
       "      <td>random forest</td>\n",
       "      <td>0.635</td>\n",
       "      <td>0.951</td>\n",
       "      <td>224871.944</td>\n",
       "      <td>81190.056</td>\n",
       "      <td>yes</td>\n",
       "      <td>zero prices removed</td>\n",
       "      <td>all except date, price, street, city, state</td>\n",
       "    </tr>\n",
       "    <tr>\n",
       "      <th>3</th>\n",
       "      <td>linear regression</td>\n",
       "      <td>0.595</td>\n",
       "      <td>0.572</td>\n",
       "      <td>236687.279</td>\n",
       "      <td>239639.587</td>\n",
       "      <td>yes</td>\n",
       "      <td>zero prices removed</td>\n",
       "      <td>all except date, price, street, city, state</td>\n",
       "    </tr>\n",
       "    <tr>\n",
       "      <th>4</th>\n",
       "      <td>linear regression</td>\n",
       "      <td>0.595</td>\n",
       "      <td>0.572</td>\n",
       "      <td>236648.326</td>\n",
       "      <td>239620.430</td>\n",
       "      <td>yes</td>\n",
       "      <td>parabolic transformation</td>\n",
       "      <td>all except date, price, street, city, state</td>\n",
       "    </tr>\n",
       "    <tr>\n",
       "      <th>7</th>\n",
       "      <td>ridge regression</td>\n",
       "      <td>0.595</td>\n",
       "      <td>0.572</td>\n",
       "      <td>236687.280</td>\n",
       "      <td>239639.587</td>\n",
       "      <td>yes</td>\n",
       "      <td>zero prices removed</td>\n",
       "      <td>all except date, price, street, city, state</td>\n",
       "    </tr>\n",
       "    <tr>\n",
       "      <th>8</th>\n",
       "      <td>ridge regression</td>\n",
       "      <td>0.595</td>\n",
       "      <td>0.572</td>\n",
       "      <td>236648.328</td>\n",
       "      <td>239620.430</td>\n",
       "      <td>yes</td>\n",
       "      <td>parabolic transformation</td>\n",
       "      <td>all except date, price, street, city, state</td>\n",
       "    </tr>\n",
       "    <tr>\n",
       "      <th>2</th>\n",
       "      <td>linear regression</td>\n",
       "      <td>0.565</td>\n",
       "      <td>0.577</td>\n",
       "      <td>242953.056</td>\n",
       "      <td>241694.255</td>\n",
       "      <td>yes</td>\n",
       "      <td>no transformations</td>\n",
       "      <td>all except date, price, street, city, state</td>\n",
       "    </tr>\n",
       "    <tr>\n",
       "      <th>6</th>\n",
       "      <td>ridge regression</td>\n",
       "      <td>0.565</td>\n",
       "      <td>0.577</td>\n",
       "      <td>242953.051</td>\n",
       "      <td>241694.255</td>\n",
       "      <td>yes</td>\n",
       "      <td>no transformations</td>\n",
       "      <td>all except date, price, street, city, state</td>\n",
       "    </tr>\n",
       "    <tr>\n",
       "      <th>9</th>\n",
       "      <td>random forest</td>\n",
       "      <td>0.076</td>\n",
       "      <td>0.949</td>\n",
       "      <td>816836.425</td>\n",
       "      <td>85520.836</td>\n",
       "      <td>no</td>\n",
       "      <td>no transformations</td>\n",
       "      <td>all except date, price, street, city, state</td>\n",
       "    </tr>\n",
       "    <tr>\n",
       "      <th>1</th>\n",
       "      <td>linear regression</td>\n",
       "      <td>0.068</td>\n",
       "      <td>0.594</td>\n",
       "      <td>820661.051</td>\n",
       "      <td>241949.171</td>\n",
       "      <td>no</td>\n",
       "      <td>no transformations</td>\n",
       "      <td>all except date, price, street, city, state</td>\n",
       "    </tr>\n",
       "    <tr>\n",
       "      <th>5</th>\n",
       "      <td>ridge regression</td>\n",
       "      <td>0.068</td>\n",
       "      <td>0.594</td>\n",
       "      <td>820661.054</td>\n",
       "      <td>241949.171</td>\n",
       "      <td>no</td>\n",
       "      <td>no transformations</td>\n",
       "      <td>all except bedrooms, date, price, street, city...</td>\n",
       "    </tr>\n",
       "  </tbody>\n",
       "</table>\n",
       "</div>"
      ],
      "text/plain": [
       "                model  test_score  train_score  test_error  train_error  \\\n",
       "10      random forest       0.663        0.941  214092.571    90077.931   \n",
       "12      random forest       0.637        0.949  224093.996    83104.160   \n",
       "11      random forest       0.635        0.951  224871.944    81190.056   \n",
       "3   linear regression       0.595        0.572  236687.279   239639.587   \n",
       "4   linear regression       0.595        0.572  236648.326   239620.430   \n",
       "7    ridge regression       0.595        0.572  236687.280   239639.587   \n",
       "8    ridge regression       0.595        0.572  236648.328   239620.430   \n",
       "2   linear regression       0.565        0.577  242953.056   241694.255   \n",
       "6    ridge regression       0.565        0.577  242953.051   241694.255   \n",
       "9       random forest       0.076        0.949  816836.425    85520.836   \n",
       "1   linear regression       0.068        0.594  820661.051   241949.171   \n",
       "5    ridge regression       0.068        0.594  820661.054   241949.171   \n",
       "\n",
       "   price outs removed               description  \\\n",
       "10                yes        no transformations   \n",
       "12                yes  parabolic transformation   \n",
       "11                yes       zero prices removed   \n",
       "3                 yes       zero prices removed   \n",
       "4                 yes  parabolic transformation   \n",
       "7                 yes       zero prices removed   \n",
       "8                 yes  parabolic transformation   \n",
       "2                 yes        no transformations   \n",
       "6                 yes        no transformations   \n",
       "9                  no        no transformations   \n",
       "1                  no        no transformations   \n",
       "5                  no        no transformations   \n",
       "\n",
       "                                             features  \n",
       "10  all except bedrooms, date, price, street, city...  \n",
       "12        all except date, price, street, city, state  \n",
       "11        all except date, price, street, city, state  \n",
       "3         all except date, price, street, city, state  \n",
       "4         all except date, price, street, city, state  \n",
       "7         all except date, price, street, city, state  \n",
       "8         all except date, price, street, city, state  \n",
       "2         all except date, price, street, city, state  \n",
       "6         all except date, price, street, city, state  \n",
       "9         all except date, price, street, city, state  \n",
       "1         all except date, price, street, city, state  \n",
       "5   all except bedrooms, date, price, street, city...  "
      ]
     },
     "execution_count": 14,
     "metadata": {},
     "output_type": "execute_result"
    }
   ],
   "source": [
    "features1 = 'all except date, price, street, city, state'\n",
    "features2 = 'all except date, price, street, city, state'\n",
    "features3 = 'all except date, price, street, city, state'\n",
    "features4 = 'all except date, price, street, city, state'\n",
    "features5 = 'all except bedrooms, date, price, street, city, state'\n",
    "features6 = 'all except date, price, street, city, state'\n",
    "features7 = 'all except date, price, street, city, state'\n",
    "features8 = 'all except date, price, street, city, state'\n",
    "features9 = 'all except date, price, street, city, state'\n",
    "features10 = 'all except bedrooms, date, price, street, city, state'\n",
    "features11 = 'all except date, price, street, city, state'\n",
    "features12 = 'all except date, price, street, city, state'\n",
    "\n",
    "\n",
    "content = {'features': [features1, features2, features3, features4, features5, features6, features7, features8, \n",
    "                        features9, features10, features11, features12], \n",
    "           'model': ['linear regression', 'linear regression', 'linear regression', 'linear regression',\n",
    "                     'ridge regression', 'ridge regression', 'ridge regression', 'ridge regression', \n",
    "                     'random forest', 'random forest', 'random forest', 'random forest'], \n",
    "           'test_error': [lr_test_error[0], lr_test_error[1], lr_test_error[2], lr_test_error[3], \n",
    "                    ridge_test_error[0], ridge_test_error[1], ridge_test_error[2], ridge_test_error[3], \n",
    "                    rf_test_error[0], rf_test_error[1], rf_test_error[2], rf_test_error[3]],\n",
    "           'train_error': [lr_train_error[0], lr_train_error[1], lr_train_error[2], lr_train_error[3], \n",
    "                    ridge_train_error[0], ridge_train_error[1], ridge_train_error[2], ridge_train_error[3], \n",
    "                    rf_train_error[0], rf_train_error[1], rf_train_error[2], rf_train_error[3]],\n",
    "           'test_score': [lr_test_score[0], lr_test_score[1], lr_test_score[2], lr_test_score[3], \n",
    "                     ridge_test_score[0], ridge_test_score[1], ridge_test_score[2], ridge_test_score[3],  \n",
    "                     rf_test_score[0], rf_test_score[1], rf_test_score[2], rf_test_score[3]],\n",
    "           'train_score': [lr_train_score[0], lr_train_score[1], lr_train_score[2], lr_train_score[3],\n",
    "                             ridge_train_score[0], ridge_train_score[1], ridge_train_score[2], ridge_train_score[3],\n",
    "                             rf_train_score[0], rf_train_score[1], rf_train_score[2], rf_train_score[3]],\n",
    "           'description': ['no transformations', 'no transformations', 'zero prices removed', 'parabolic transformation', \n",
    "                           'no transformations', 'no transformations', 'zero prices removed', 'parabolic transformation', \n",
    "                           'no transformations', 'no transformations', 'zero prices removed', 'parabolic transformation', \n",
    "                            ],\n",
    "           'price outs removed': ['no', 'yes', 'yes', 'yes', 'no', 'yes', 'yes', 'yes', 'no', 'yes', 'yes', 'yes']}\n",
    "\n",
    "table = pd.DataFrame(content, columns=['model', 'test_score', 'train_score', 'test_error', 'train_error', 'price outs removed', 'description', 'features'], index=[1,2,3,4,5,6,7,8,9,10,11,12])\n",
    "table.sort_values('test_score', ascending=False)"
   ]
  },
  {
   "cell_type": "markdown",
   "metadata": {},
   "source": [
    "We can see that the best regressor is the Random Forest, with 62% accuracy. It makes sense that the data frame with price outliers and zeros removed had the best performing model."
   ]
  },
  {
   "cell_type": "markdown",
   "metadata": {},
   "source": [
    "Model description:\n",
    "* \n",
    "* \n",
    "* \n",
    "* "
   ]
  },
  {
   "cell_type": "markdown",
   "metadata": {},
   "source": [
    "The coefficient of the term represents the change in the mean response for one unit of change in that term. If the coefficient is negative, as the term increases, the mean value of the response decreases. If the coefficient is positive, as the term increases, the mean value of the response increases."
   ]
  },
  {
   "cell_type": "code",
   "execution_count": 15,
   "metadata": {
    "scrolled": true
   },
   "outputs": [
    {
     "data": {
      "text/html": [
       "<div>\n",
       "<style scoped>\n",
       "    .dataframe tbody tr th:only-of-type {\n",
       "        vertical-align: middle;\n",
       "    }\n",
       "\n",
       "    .dataframe tbody tr th {\n",
       "        vertical-align: top;\n",
       "    }\n",
       "\n",
       "    .dataframe thead th {\n",
       "        text-align: right;\n",
       "    }\n",
       "</style>\n",
       "<table border=\"1\" class=\"dataframe\">\n",
       "  <thead>\n",
       "    <tr style=\"text-align: right;\">\n",
       "      <th></th>\n",
       "      <th>Coef</th>\n",
       "    </tr>\n",
       "  </thead>\n",
       "  <tbody>\n",
       "    <tr>\n",
       "      <th>bedrooms</th>\n",
       "      <td>-73983.937888</td>\n",
       "    </tr>\n",
       "    <tr>\n",
       "      <th>bathrooms</th>\n",
       "      <td>41692.401968</td>\n",
       "    </tr>\n",
       "    <tr>\n",
       "      <th>sqft_living</th>\n",
       "      <td>180.235738</td>\n",
       "    </tr>\n",
       "    <tr>\n",
       "      <th>sqft_lot</th>\n",
       "      <td>-4.171500</td>\n",
       "    </tr>\n",
       "    <tr>\n",
       "      <th>floors</th>\n",
       "      <td>62571.711411</td>\n",
       "    </tr>\n",
       "    <tr>\n",
       "      <th>waterfront</th>\n",
       "      <td>468650.386551</td>\n",
       "    </tr>\n",
       "    <tr>\n",
       "      <th>view</th>\n",
       "      <td>54503.817213</td>\n",
       "    </tr>\n",
       "    <tr>\n",
       "      <th>condition</th>\n",
       "      <td>29156.616047</td>\n",
       "    </tr>\n",
       "    <tr>\n",
       "      <th>sqft_above</th>\n",
       "      <td>102.644951</td>\n",
       "    </tr>\n",
       "    <tr>\n",
       "      <th>sqft_basement</th>\n",
       "      <td>77.368144</td>\n",
       "    </tr>\n",
       "    <tr>\n",
       "      <th>yr_built</th>\n",
       "      <td>-2684.743900</td>\n",
       "    </tr>\n",
       "    <tr>\n",
       "      <th>yr_renovated</th>\n",
       "      <td>12.473432</td>\n",
       "    </tr>\n",
       "    <tr>\n",
       "      <th>zipcode</th>\n",
       "      <td>-140.794058</td>\n",
       "    </tr>\n",
       "    <tr>\n",
       "      <th>total_sqft</th>\n",
       "      <td>3.477844</td>\n",
       "    </tr>\n",
       "    <tr>\n",
       "      <th>month</th>\n",
       "      <td>-2095.817430</td>\n",
       "    </tr>\n",
       "    <tr>\n",
       "      <th>price_is_zero</th>\n",
       "      <td>0.000000</td>\n",
       "    </tr>\n",
       "    <tr>\n",
       "      <th>renov_date_is_zero</th>\n",
       "      <td>12714.779384</td>\n",
       "    </tr>\n",
       "    <tr>\n",
       "      <th>bedrooms_squared</th>\n",
       "      <td>2154.343263</td>\n",
       "    </tr>\n",
       "  </tbody>\n",
       "</table>\n",
       "</div>"
      ],
      "text/plain": [
       "                             Coef\n",
       "bedrooms            -73983.937888\n",
       "bathrooms            41692.401968\n",
       "sqft_living            180.235738\n",
       "sqft_lot                -4.171500\n",
       "floors               62571.711411\n",
       "waterfront          468650.386551\n",
       "view                 54503.817213\n",
       "condition            29156.616047\n",
       "sqft_above             102.644951\n",
       "sqft_basement           77.368144\n",
       "yr_built             -2684.743900\n",
       "yr_renovated            12.473432\n",
       "zipcode               -140.794058\n",
       "total_sqft               3.477844\n",
       "month                -2095.817430\n",
       "price_is_zero            0.000000\n",
       "renov_date_is_zero   12714.779384\n",
       "bedrooms_squared      2154.343263"
      ]
     },
     "execution_count": 15,
     "metadata": {},
     "output_type": "execute_result"
    }
   ],
   "source": [
    "coefs = pd.DataFrame(ridge.coef_, index=list(X_transformed), columns=['Coef'])\n",
    "coefs"
   ]
  },
  {
   "cell_type": "code",
   "execution_count": 16,
   "metadata": {},
   "outputs": [],
   "source": [
    "# coefs of fitted model & predicted model\n",
    "#coefs = pd.DataFrame({'coef_actual': ridge.coef_, 'coef_pred': predictions_dict['ridge_pred3']}, index=list(X_transformed))"
   ]
  },
  {
   "cell_type": "code",
   "execution_count": 19,
   "metadata": {
    "scrolled": false
   },
   "outputs": [
    {
     "data": {
      "image/png": "[encoded data removed]",
      "text/plain": [
       "<Figure size 576x288 with 1 Axes>"
      ]
     },
     "metadata": {
      "needs_background": "light"
     },
     "output_type": "display_data"
    }
   ],
   "source": [
    "fig, ax = plt.subplots(figsize=(8,4))\n",
    "ax.plot(y_test_transformed, 'bo', alpha=0.3, label='actual prices')\n",
    "ax.plot(predictions_dict['lr_pred3'], 'go', alpha=0.2, label='predicted prices')\n",
    "#ax.set_xlabel('')\n",
    "ax.set_ylabel('price')\n",
    "ax.legend()\n",
    "plt.show()"
   ]
  },
  {
   "cell_type": "code",
   "execution_count": 20,
   "metadata": {
    "scrolled": true
   },
   "outputs": [
    {
     "data": {
      "text/plain": [
       "Text(0, 0.5, 'predicted prices')"
      ]
     },
     "execution_count": 20,
     "metadata": {},
     "output_type": "execute_result"
    },
    {
     "data": {
      "image/png": "[encoded data removed]",
      "text/plain": [
       "<Figure size 432x288 with 1 Axes>"
      ]
     },
     "metadata": {
      "needs_background": "light"
     },
     "output_type": "display_data"
    }
   ],
   "source": [
    "plt.scatter(y_test_transformed, predictions_dict['lr_pred3'], s=20)\n",
    "plt.title('Scatter plot of actual and predicted prices')\n",
    "plt.xlabel('actual prices')\n",
    "plt.ylabel('predicted prices')"
   ]
  },
  {
   "cell_type": "markdown",
   "metadata": {},
   "source": [
    "We see in the above plot that the predicted prices are somewhat close to the actual prices, but not very close. The best case scenario would be for the scatter plots to follow a perfectly straight diagonal line, indicating that our model perfectly predicted the house prices."
   ]
  },
  {
   "cell_type": "code",
   "execution_count": 21,
   "metadata": {
    "scrolled": false
   },
   "outputs": [
    {
     "data": {
      "image/png": "[encoded data removed]",
      "text/plain": [
       "<Figure size 864x360 with 1 Axes>"
      ]
     },
     "metadata": {
      "needs_background": "light"
     },
     "output_type": "display_data"
    }
   ],
   "source": [
    "plt.subplots(figsize=(12,5))\n",
    "plt.hist(y_test_transformed - predictions_dict['lr_pred3'], bins=20)\n",
    "plt.title('Histogram of residuals')\n",
    "plt.show()"
   ]
  },
  {
   "cell_type": "markdown",
   "metadata": {},
   "source": [
    "The residual histogram somewhat follows a normal distribution, which is what we want because it tells us that we've chosen an appropriate model type, but there is a lot of room for improvement."
   ]
  },
  {
   "cell_type": "markdown",
   "metadata": {},
   "source": [
    "### CI around my prediction accuracy"
   ]
  },
  {
   "cell_type": "markdown",
   "metadata": {},
   "source": [
    "calculate standard error RMSE\n",
    ".."
   ]
  },
  {
   "cell_type": "code",
   "execution_count": 22,
   "metadata": {},
   "outputs": [
    {
     "data": {
      "text/plain": [
       "[816836.425, 214092.571, 224871.944, 224093.996]"
      ]
     },
     "execution_count": 22,
     "metadata": {},
     "output_type": "execute_result"
    }
   ],
   "source": [
    "# RMSE == standard deviation of errors\n",
    "rf_test_error"
   ]
  },
  {
   "cell_type": "code",
   "execution_count": 23,
   "metadata": {},
   "outputs": [],
   "source": [
    "one_sd = min(rf_test_error)\n",
    "two_sd = 2*one_sd\n",
    "three_sd = 3*one_sd"
   ]
  },
  {
   "cell_type": "markdown",
   "metadata": {},
   "source": [
    "#### 68% Confidence"
   ]
  },
  {
   "cell_type": "code",
   "execution_count": 24,
   "metadata": {},
   "outputs": [
    {
     "name": "stdout",
     "output_type": "stream",
     "text": [
      "I can be 68% confident that the error in the home price predictions will be between -214092.571 and 214092.571.\n"
     ]
    }
   ],
   "source": [
    "min_error = 0 - one_sd\n",
    "max_error = 0 + one_sd\n",
    "\n",
    "print('I can be 68% confident that the error in the home price predictions will be between {} and {}.'.format(min_error, max_error))"
   ]
  },
  {
   "cell_type": "markdown",
   "metadata": {},
   "source": [
    "#### 95% Confidence"
   ]
  },
  {
   "cell_type": "code",
   "execution_count": 25,
   "metadata": {},
   "outputs": [
    {
     "name": "stdout",
     "output_type": "stream",
     "text": [
      "I can be 95% confident that the error in the home price predictions will be between -428185.142 and 428185.142.\n"
     ]
    }
   ],
   "source": [
    "min_error = 0 - two_sd\n",
    "max_error = 0 + two_sd\n",
    "\n",
    "print('I can be 95% confident that the error in the home price predictions will be between {} and {}.'.format(min_error, max_error))"
   ]
  },
  {
   "cell_type": "markdown",
   "metadata": {},
   "source": [
    "### Result Analysis"
   ]
  },
  {
   "cell_type": "markdown",
   "metadata": {},
   "source": [
    "The following analysis is based on my 68% confidence that the error in the home price predictions is between -218832.738 and 218832.738:\n",
    "\n",
    "If I've predicted a house to be $\\$$400,000 and someone were to buy the house at that price, the worst loss would be \\\\$181,168 (400,000-218,832), and the highest gain would be \\\\$618,832 (400,000+218,832).\n",
    "\n",
    "Let's say my boss wants to buy a house at below my estimate in the hopes of flipping it, i.e., selling the house at around double the price at which he acquired it. With a house that I have estimated to be \\\\$400,000, if he purchases it at \\\\$300,000 for example, 3 things can happen:\n",
    "\n",
    "1. My estimation is correct and he will make a profit of \\\\$100,000 by just acquiring it, and could make another \\\\$300,000 by flipping it, making that a total profit of \\\\$400,000. \n",
    "2. The house is actually worth \\\\$181,168 and he ends up buying at a higher price than what the house is worth, losing \\\\$118,832 on the purchase.\n",
    "3. The house is actually worth \\\\$618,832 and he ends up buying \\\\$318,832 below the house value, resulting in a 106%  profit just from acquiring it. Meaning, after investing \\\\$300,000, and expecting to make a profit of \\\\$200,000-\\\\$300,000 by flipping it, he ends up making a profit of \\\\$318,832 instead by just acquiring it, and another \\\\$300,000 by flipping it, making that a total of \\\\$618,832 of profit.\n",
    "\n",
    "Now my boss purchased 100 homes at \\$1000 less than my estimated price of \\\\$400,000:\n",
    "\n",
    "His **average gain** would be \\\\$100,000.\n",
    "\n",
    "His **worst loss** -- with actual price: \\\\$181,168 (i.e., 400,000-218,832), purchase price: \\\\$399,000  \n",
    "\\\\$21,783,200\n",
    "\n",
    "    difference between purchase price & actual price: 399,000 - 181,168 = 217,832\n",
    "    for 100 homes: 217,832*100 = $21,783,200\n",
    "\n",
    "His **highest gain** -- with actual price: \\\\$618,832 (i.e., 400,000+218,832), purchase price: \\\\$399,000  \n",
    "\\\\$21,983,200\n",
    "\n",
    "    difference between actual price & purchase price: 618,832 - 399,000 = 219,832\n",
    "    for 100 homes 100: 219,832*100 = $21,983,200\n",
    "    "
   ]
  },
  {
   "cell_type": "markdown",
   "metadata": {},
   "source": []
  },
  {
   "cell_type": "code",
   "execution_count": 29,
   "metadata": {},
   "outputs": [
    {
     "name": "stdout",
     "output_type": "stream",
     "text": [
      "mean of means: 3400.5794119125135\n",
      "std of means: 23600.228574830653\n",
      "The above result means that if I calculate the error between the true/historical price and my predicted price of 100 homes 1000 times, I can be 95% confident that the error of the mean of average error in the home price predictions will be between -20199.64916291814 and 27000.807986743166.\n"
     ]
    }
   ],
   "source": [
    "# manual approach\n",
    "\n",
    "from math import sqrt\n",
    "\n",
    "np.random.seed(47)\n",
    "n = 100 # length of sample\n",
    "N_rep = 1000 # number of times to bootstrap/resample\n",
    "\n",
    "def draw_bs_reps(y_test, y_pred):\n",
    "    bs_residual = np.random.choice(y_test - y_pred, n) # price bought (true price)\n",
    "    \n",
    "    error_mean = np.sum(bs_residual) / len(bs_residual)\n",
    "    return error_mean\n",
    "\n",
    "error_means = np.array([draw_bs_reps(y_test_transformed, predictions_dict['rf_pred3']) for i in range(1000)]) # Random Forest model\n",
    "error_means_mean = np.mean(error_means) # mean of means\n",
    "print('mean of means: {}'.format(error_means_mean))\n",
    "\n",
    "error_means_std = sqrt(np.sum((error_means-error_means_mean)**2) / (1000-1)) # standard deviation of means\n",
    "print('std of means: {}'.format(error_means_std))\n",
    "\n",
    "# confidence interval\n",
    "min_error = error_means_mean - error_means_std\n",
    "max_error = error_means_mean + error_means_std\n",
    "\n",
    "print('The above result means that if I calculate the error between the true/historical price and my predicted price ' \n",
    "      'of 100 homes 1000 times, I can be 95% confident that the error of the mean of average error in the home price ' \n",
    "      'predictions will be between {} and {}.'.format(min_error, max_error))\n",
    "\n"
   ]
  },
  {
   "cell_type": "markdown",
   "metadata": {},
   "source": [
    "### Notes"
   ]
  },
  {
   "cell_type": "markdown",
   "metadata": {},
   "source": [
    "**SE Coef**  \n",
    "The standard error of the coefficient estimates the variability between coefficient estimates that you would obtain if you took samples from the same population again and again. The calculation assumes that the sample size and the coefficients to estimate would remain the same if you sampled again and again.\n",
    "\n",
    "**Interpretation**  \n",
    "Use the standard error of the coefficient to measure the precision of the estimate of the coefficient. The smaller the standard error, the more precise the estimate. Dividing the coefficient by its standard error calculates a t-value. If the p-value associated with this t-statistic is less than your significance level, you conclude that the coefficient is statistically significant."
   ]
  },
  {
   "cell_type": "markdown",
   "metadata": {},
   "source": [
    "Regression Analysis: Insolation versus South, North, Time of Day\n",
    "\n",
    "\n",
    "Coefficients\n",
    "\n",
    "Term          Coef  SE Coef  T-Value  P-Value   VIF\n",
    "Constant       809      377     2.14    0.042\n",
    "South        20.81     8.65     2.41    0.024  2.24\n",
    "North        -23.7     17.4    -1.36    0.186  2.17\n",
    "Time of Day  -30.2     10.8    -2.79    0.010  3.86\n",
    "\n",
    "In this model, North and South measure the position of a focal point in inches. The coefficients for North and South are similar in magnitude. The standard error of the coefficient for South is smaller than the standard error of the coefficient for North. Therefore, the model is able to estimate the coefficient for South with greater precision.\n",
    "\n",
    "The standard error of the North coefficient is nearly as large as the value of the coefficient itself. The resulting p-value is greater than common levels of the significance level, so you cannot conclude that the coefficient for North differs from 0.\n",
    "\n",
    "While the coefficient for South is closer to 0 than the coefficient for North, the standard error of the coefficient for South is also smaller. The resulting p-value is smaller than common significance levels. Because the estimate of the coefficient for South is more precise, you can conclude that the coefficient for South differs from 0.\n",
    "\n",
    "Statistical significance is one criterion you can use to reduce a model in multiple regression."
   ]
  },
  {
   "cell_type": "markdown",
   "metadata": {},
   "source": [
    "**Confidence Interval for coefficient (95% CI)**\n",
    "\n",
    "These confidence intervals (CI) are ranges of values that are likely to contain the true value of the coefficient for each term in the model.\n",
    "\n",
    "Because samples are random, two samples from a population are unlikely to yield identical confidence intervals. However, if you take many random samples, a certain percentage of the resulting confidence intervals contain the unknown population parameter. The percentage of these confidence intervals that contain the parameter is the confidence level of the interval.\n",
    "\n",
    "The confidence interval is composed of the following two parts:\n",
    "\n",
    "**Point estimate**\n",
    "This single value estimates a population parameter by using your sample data. The confidence interval is centered around the point estimate.\n",
    "\n",
    "**Margin of error**\n",
    "The margin of error defines the width of the confidence interval and is determined by the observed variability in the sample, the sample size, and the confidence level. To calculate the upper limit of the confidence interval, the margin of error is added to the point estimate. To calculate the lower limit of the confidence interval, the margin of error is subtracted from the point estimate.\n",
    "\n",
    "**Interpretation**\n",
    "Use the confidence interval to assess the estimate of the population coefficient for each term in the model.\n",
    "\n",
    "For example, with a 95% confidence level, you can be 95% confident that the confidence interval contains the value of the coefficient for the population. The confidence interval helps you assess the practical significance of your results. Use your specialized knowledge to determine whether the confidence interval includes values that have practical significance for your situation. If the interval is too wide to be useful, consider increasing your sample size."
   ]
  },
  {
   "cell_type": "markdown",
   "metadata": {},
   "source": [
    "**P-Value – Coefficient**\n",
    "\n",
    "The p-value is a probability that measures the evidence against the null hypothesis. Lower probabilities provide stronger evidence against the null hypothesis.\n",
    "\n",
    "**Interpretation**\n",
    "To determine whether the association between the response and each term in the model is statistically significant, compare the p-value for the term to your significance level to assess the null hypothesis. The null hypothesis is that the term's coefficient is equal to zero, which implies that there is no association between the term and the response. Usually, a significance level (denoted as α or alpha) of 0.05 works well. A significance level of 0.05 indicates a 5% risk of concluding that an association exists when there is no actual association.\n",
    "\n",
    "**P-value ≤ α: The association is statistically significant**  \n",
    "If the p-value is less than or equal to the significance level, you can conclude that there is a statistically significant association between the response variable and the term.\n",
    "\n",
    "**P-value > α: The association is not statistically significant**  \n",
    "If the p-value is greater than the significance level, you cannot conclude that there is a statistically significant association between the response variable and the term. You may want to refit the model without the term.\n",
    "\n",
    "If there are multiple predictors without a statistically significant association with the response, you can reduce the model by removing terms one at a time. For more information on removing terms from the model, go to Model reduction.\n",
    "\n",
    "If a model term is statistically significant, the interpretation depends on the type of term. The interpretations are as follows:  \n",
    "If a coefficient for a continuous variable is significant, changes in the value of the variable are associated with changes in the mean response value."
   ]
  },
  {
   "cell_type": "code",
   "execution_count": null,
   "metadata": {},
   "outputs": [],
   "source": []
  }
 ],
 "metadata": {
  "kernelspec": {
   "display_name": "Python 3",
   "language": "python",
   "name": "python3"
  },
  "language_info": {
   "codemirror_mode": {
    "name": "ipython",
    "version": 3
   },
   "file_extension": ".py",
   "mimetype": "text/x-python",
   "name": "python",
   "nbconvert_exporter": "python",
   "pygments_lexer": "ipython3",
   "version": "3.7.3"
  }
 },
 "nbformat": 4,
 "nbformat_minor": 2
}
