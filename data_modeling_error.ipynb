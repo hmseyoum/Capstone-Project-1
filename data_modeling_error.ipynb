{
 "cells": [
  {
   "cell_type": "markdown",
   "metadata": {},
   "source": [
    "## Data Preparation"
   ]
  },
  {
   "cell_type": "code",
   "execution_count": 2,
   "metadata": {},
   "outputs": [],
   "source": [
    "# import necessary modules/libraries\n",
    "\n",
    "import numpy as  np\n",
    "import pandas as pd\n",
    "\n",
    "import matplotlib\n",
    "import matplotlib.pyplot as plt\n",
    "import seaborn as sns\n",
    "\n",
    "from scipy import stats\n",
    "from scipy.stats import pearsonr\n",
    "\n",
    "from matplotlib import rcParams\n",
    "sns.set_style(\"whitegrid\")\n",
    "sns.set_context(\"talk\", font_scale=0.7)\n",
    "sns.set_palette(\"Greens_r\")\n",
    "#set_palette(\"Set1\", 8, .75) # makes plot lines red\n",
    "\n",
    "# Ignore  the warnings\n",
    "import warnings\n",
    "warnings.filterwarnings('always')\n",
    "warnings.filterwarnings('ignore')\n",
    "\n",
    "from sklearn.preprocessing import Imputer # to impute missing data\n",
    "\n",
    "from sklearn.preprocessing import StandardScaler\n",
    "from sklearn.preprocessing import MinMaxScaler\n",
    "\n",
    "import sklearn\n",
    "from sklearn.linear_model import LinearRegression\n",
    "from sklearn.ensemble import RandomForestRegressor\n",
    "from sklearn.linear_model import Lasso\n",
    "from sklearn.linear_model import Ridge\n",
    "from sklearn.model_selection import train_test_split\n",
    "from sklearn.model_selection import cross_validate\n",
    "from sklearn.model_selection import cross_val_score\n",
    "from sklearn.model_selection import GridSearchCV\n",
    "from sklearn.metrics import mean_squared_error\n",
    "\n",
    "%matplotlib inline"
   ]
  },
  {
   "cell_type": "markdown",
   "metadata": {},
   "source": [
    "## Feature Engineering"
   ]
  },
  {
   "cell_type": "code",
   "execution_count": 3,
   "metadata": {},
   "outputs": [],
   "source": [
    "df = pd.read_csv('house_price_prediction.csv') # read the data\n",
    "\n",
    "df['date'] = pd.to_datetime(df['date']) # change date col to datetime\n",
    "df['month'] = df['date'].dt.month # creating month feature\n",
    "df['year'] = df['date'].dt.year  # all 2014 so can drop\n",
    "df[['waterfront', 'condition']] = df[['waterfront', 'condition']].astype('category') # change data types to categorical\n",
    "df['state'] = df['statezip'].apply(lambda x: x.split(' ')[0]) # split statezip into state & zipcode\n",
    "df['zipcode'] = df['statezip'].apply(lambda x: int(x.split(' ')[1]))\n",
    "df['total_sqft'] = df.sqft_living + df.sqft_lot # creating total_sqft feature: sqft_above + sqft_lot\n",
    "df['street_name'] = df['street'].str.strip().str.lstrip('-0123456789').str.strip().str.lower()\n",
    "df['price_is0'] = df['price'] <= 0 # create column of boolean arrays with 1 for price == $0 & 0 for price != $0\n",
    "df['renov_date_is0'] = df['yr_renovated'] <= 0 # create column of boolean arrays with 1 for yr_renov == 0 & 0 for others\n",
    "\n",
    "# replacing 0s with the mean bedroom & bathroom values\n",
    "df[\"bedrooms\"].replace({0: round(df[\"bedrooms\"].mean(), 0)}, inplace=True)\n",
    "df[\"bathrooms\"].replace({0: round(df[\"bathrooms\"].mean(), 0)}, inplace=True)"
   ]
  },
  {
   "cell_type": "code",
   "execution_count": 4,
   "metadata": {
    "scrolled": false
   },
   "outputs": [],
   "source": [
    "for c in ['statezip', 'country', 'state', 'street']:\n",
    "    try:\n",
    "        del df[c]\n",
    "    except KeyError:\n",
    "        pass"
   ]
  },
  {
   "cell_type": "code",
   "execution_count": 5,
   "metadata": {
    "scrolled": true
   },
   "outputs": [],
   "source": [
    "#df['month'] = df['month'].astype(int)\n",
    "# remove `month` from here and do get_dummies on it after plotting ecdf\n",
    "df = pd.get_dummies(df, columns=['month', 'zipcode', 'street_name', 'city'])"
   ]
  },
  {
   "cell_type": "code",
   "execution_count": 6,
   "metadata": {
    "scrolled": true
   },
   "outputs": [
    {
     "data": {
      "text/html": [
       "<div>\n",
       "<style scoped>\n",
       "    .dataframe tbody tr th:only-of-type {\n",
       "        vertical-align: middle;\n",
       "    }\n",
       "\n",
       "    .dataframe tbody tr th {\n",
       "        vertical-align: top;\n",
       "    }\n",
       "\n",
       "    .dataframe thead th {\n",
       "        text-align: right;\n",
       "    }\n",
       "</style>\n",
       "<table border=\"1\" class=\"dataframe\">\n",
       "  <thead>\n",
       "    <tr style=\"text-align: right;\">\n",
       "      <th></th>\n",
       "      <th>date</th>\n",
       "      <th>price</th>\n",
       "      <th>bedrooms</th>\n",
       "      <th>bathrooms</th>\n",
       "      <th>sqft_living</th>\n",
       "      <th>sqft_lot</th>\n",
       "      <th>floors</th>\n",
       "      <th>waterfront</th>\n",
       "      <th>view</th>\n",
       "      <th>condition</th>\n",
       "      <th>...</th>\n",
       "      <th>city_SeaTac</th>\n",
       "      <th>city_Seattle</th>\n",
       "      <th>city_Shoreline</th>\n",
       "      <th>city_Skykomish</th>\n",
       "      <th>city_Snoqualmie</th>\n",
       "      <th>city_Snoqualmie Pass</th>\n",
       "      <th>city_Tukwila</th>\n",
       "      <th>city_Vashon</th>\n",
       "      <th>city_Woodinville</th>\n",
       "      <th>city_Yarrow Point</th>\n",
       "    </tr>\n",
       "  </thead>\n",
       "  <tbody>\n",
       "    <tr>\n",
       "      <th>0</th>\n",
       "      <td>2014-05-02</td>\n",
       "      <td>313000.0</td>\n",
       "      <td>3.0</td>\n",
       "      <td>1.50</td>\n",
       "      <td>1340</td>\n",
       "      <td>7912</td>\n",
       "      <td>1.5</td>\n",
       "      <td>0</td>\n",
       "      <td>0</td>\n",
       "      <td>3</td>\n",
       "      <td>...</td>\n",
       "      <td>0</td>\n",
       "      <td>0</td>\n",
       "      <td>1</td>\n",
       "      <td>0</td>\n",
       "      <td>0</td>\n",
       "      <td>0</td>\n",
       "      <td>0</td>\n",
       "      <td>0</td>\n",
       "      <td>0</td>\n",
       "      <td>0</td>\n",
       "    </tr>\n",
       "    <tr>\n",
       "      <th>1</th>\n",
       "      <td>2014-05-02</td>\n",
       "      <td>2384000.0</td>\n",
       "      <td>5.0</td>\n",
       "      <td>2.50</td>\n",
       "      <td>3650</td>\n",
       "      <td>9050</td>\n",
       "      <td>2.0</td>\n",
       "      <td>0</td>\n",
       "      <td>4</td>\n",
       "      <td>5</td>\n",
       "      <td>...</td>\n",
       "      <td>0</td>\n",
       "      <td>1</td>\n",
       "      <td>0</td>\n",
       "      <td>0</td>\n",
       "      <td>0</td>\n",
       "      <td>0</td>\n",
       "      <td>0</td>\n",
       "      <td>0</td>\n",
       "      <td>0</td>\n",
       "      <td>0</td>\n",
       "    </tr>\n",
       "    <tr>\n",
       "      <th>2</th>\n",
       "      <td>2014-05-02</td>\n",
       "      <td>342000.0</td>\n",
       "      <td>3.0</td>\n",
       "      <td>2.00</td>\n",
       "      <td>1930</td>\n",
       "      <td>11947</td>\n",
       "      <td>1.0</td>\n",
       "      <td>0</td>\n",
       "      <td>0</td>\n",
       "      <td>4</td>\n",
       "      <td>...</td>\n",
       "      <td>0</td>\n",
       "      <td>0</td>\n",
       "      <td>0</td>\n",
       "      <td>0</td>\n",
       "      <td>0</td>\n",
       "      <td>0</td>\n",
       "      <td>0</td>\n",
       "      <td>0</td>\n",
       "      <td>0</td>\n",
       "      <td>0</td>\n",
       "    </tr>\n",
       "    <tr>\n",
       "      <th>3</th>\n",
       "      <td>2014-05-02</td>\n",
       "      <td>420000.0</td>\n",
       "      <td>3.0</td>\n",
       "      <td>2.25</td>\n",
       "      <td>2000</td>\n",
       "      <td>8030</td>\n",
       "      <td>1.0</td>\n",
       "      <td>0</td>\n",
       "      <td>0</td>\n",
       "      <td>4</td>\n",
       "      <td>...</td>\n",
       "      <td>0</td>\n",
       "      <td>0</td>\n",
       "      <td>0</td>\n",
       "      <td>0</td>\n",
       "      <td>0</td>\n",
       "      <td>0</td>\n",
       "      <td>0</td>\n",
       "      <td>0</td>\n",
       "      <td>0</td>\n",
       "      <td>0</td>\n",
       "    </tr>\n",
       "    <tr>\n",
       "      <th>4</th>\n",
       "      <td>2014-05-02</td>\n",
       "      <td>550000.0</td>\n",
       "      <td>4.0</td>\n",
       "      <td>2.50</td>\n",
       "      <td>1940</td>\n",
       "      <td>10500</td>\n",
       "      <td>1.0</td>\n",
       "      <td>0</td>\n",
       "      <td>0</td>\n",
       "      <td>4</td>\n",
       "      <td>...</td>\n",
       "      <td>0</td>\n",
       "      <td>0</td>\n",
       "      <td>0</td>\n",
       "      <td>0</td>\n",
       "      <td>0</td>\n",
       "      <td>0</td>\n",
       "      <td>0</td>\n",
       "      <td>0</td>\n",
       "      <td>0</td>\n",
       "      <td>0</td>\n",
       "    </tr>\n",
       "  </tbody>\n",
       "</table>\n",
       "<p>5 rows × 2760 columns</p>\n",
       "</div>"
      ],
      "text/plain": [
       "        date      price  bedrooms  bathrooms  sqft_living  sqft_lot  floors  \\\n",
       "0 2014-05-02   313000.0       3.0       1.50         1340      7912     1.5   \n",
       "1 2014-05-02  2384000.0       5.0       2.50         3650      9050     2.0   \n",
       "2 2014-05-02   342000.0       3.0       2.00         1930     11947     1.0   \n",
       "3 2014-05-02   420000.0       3.0       2.25         2000      8030     1.0   \n",
       "4 2014-05-02   550000.0       4.0       2.50         1940     10500     1.0   \n",
       "\n",
       "  waterfront  view condition  ...  city_SeaTac  city_Seattle  city_Shoreline  \\\n",
       "0          0     0         3  ...            0             0               1   \n",
       "1          0     4         5  ...            0             1               0   \n",
       "2          0     0         4  ...            0             0               0   \n",
       "3          0     0         4  ...            0             0               0   \n",
       "4          0     0         4  ...            0             0               0   \n",
       "\n",
       "   city_Skykomish  city_Snoqualmie  city_Snoqualmie Pass  city_Tukwila  \\\n",
       "0               0                0                     0             0   \n",
       "1               0                0                     0             0   \n",
       "2               0                0                     0             0   \n",
       "3               0                0                     0             0   \n",
       "4               0                0                     0             0   \n",
       "\n",
       "   city_Vashon  city_Woodinville  city_Yarrow Point  \n",
       "0            0                 0                  0  \n",
       "1            0                 0                  0  \n",
       "2            0                 0                  0  \n",
       "3            0                 0                  0  \n",
       "4            0                 0                  0  \n",
       "\n",
       "[5 rows x 2760 columns]"
      ]
     },
     "execution_count": 6,
     "metadata": {},
     "output_type": "execute_result"
    }
   ],
   "source": [
    "df.head()"
   ]
  },
  {
   "cell_type": "markdown",
   "metadata": {},
   "source": [
    "**Further feature engineering**"
   ]
  },
  {
   "cell_type": "code",
   "execution_count": 7,
   "metadata": {},
   "outputs": [],
   "source": [
    "df_no_outs = df[df.price < 10000000].copy() # df with price outliers removed\n",
    "df_no_zeros = df_no_outs[df_no_outs[\"price\"] != 0].copy() # df with $0 prices removed\n",
    "\n",
    "df2 = df.copy()\n",
    "df2['yr_built_is0'] = df2['yr_built'] <= 0\n",
    "df2['renovation_age'] = df2['year'] - df2['yr_renovated']\n",
    "df2['house_age'] = df2['year'] - df2['yr_built']\n",
    "df2['sqft_lot'] = df2[df2['sqft_lot'] < 600000]\n",
    "df2_no_outs = df[df.price < 10000000].copy() # df2 with price outliers removed\n",
    "df2_no_zeros = df_no_outs[df_no_outs[\"price\"] != 0].copy() # df2 with $0 prices removed"
   ]
  },
  {
   "cell_type": "markdown",
   "metadata": {},
   "source": [
    "## Statistical Data Analysis"
   ]
  },
  {
   "cell_type": "code",
   "execution_count": 8,
   "metadata": {},
   "outputs": [
    {
     "data": {
      "text/plain": [
       "'\\nmeanprice_bedrooms = df_no_zeros.groupby(\\'bedrooms\\')[\\'price\\'].mean()\\nmedianprice_bedrooms = df_no_zeros.groupby(\\'bedrooms\\')[\\'price\\'].median()\\n\\nmeansqft_bedroom = df_no_zeros.groupby(\"bedrooms\")[\"sqft_living\"].mean()\\nmediansqft_bedroom = df_no_zeros.groupby(\"bedrooms\")[\"sqft_living\"].median()\\n\\nmay_price = df_no_zeros[df_no_zeros.month==5][\\'price\\']\\njune_price = df_no_zeros[df_no_zeros.month==6][\\'price\\']\\njuly_price = df_no_zeros[df_no_zeros.month==7][\\'price\\']\\n\\ndef ecdf(data):\\n    \"\"\"Compute ECDF for a one-dimensional array of measurements.\"\"\"\\n    n = len(data)\\n\\n    x = np.sort(data)\\n\\n    y = np.arange(1, n+1) / n\\n\\n    return x, y\\n\\n# Compute ECDFs\\nx_5, y_5 = ecdf(may_price)\\nx_6, y_6 = ecdf(june_price)\\nx_7, y_7 = ecdf(july_price)\\n'"
      ]
     },
     "execution_count": 8,
     "metadata": {},
     "output_type": "execute_result"
    }
   ],
   "source": [
    "'''\n",
    "meanprice_bedrooms = df_no_zeros.groupby('bedrooms')['price'].mean()\n",
    "medianprice_bedrooms = df_no_zeros.groupby('bedrooms')['price'].median()\n",
    "\n",
    "meansqft_bedroom = df_no_zeros.groupby(\"bedrooms\")[\"sqft_living\"].mean()\n",
    "mediansqft_bedroom = df_no_zeros.groupby(\"bedrooms\")[\"sqft_living\"].median()\n",
    "\n",
    "may_price = df_no_zeros[df_no_zeros.month==5]['price']\n",
    "june_price = df_no_zeros[df_no_zeros.month==6]['price']\n",
    "july_price = df_no_zeros[df_no_zeros.month==7]['price']\n",
    "\n",
    "def ecdf(data):\n",
    "    \"\"\"Compute ECDF for a one-dimensional array of measurements.\"\"\"\n",
    "    n = len(data)\n",
    "\n",
    "    x = np.sort(data)\n",
    "\n",
    "    y = np.arange(1, n+1) / n\n",
    "\n",
    "    return x, y\n",
    "\n",
    "# Compute ECDFs\n",
    "x_5, y_5 = ecdf(may_price)\n",
    "x_6, y_6 = ecdf(june_price)\n",
    "x_7, y_7 = ecdf(july_price)\n",
    "'''"
   ]
  },
  {
   "cell_type": "markdown",
   "metadata": {},
   "source": [
    "### Feature Importance"
   ]
  },
  {
   "cell_type": "code",
   "execution_count": 9,
   "metadata": {},
   "outputs": [],
   "source": [
    "from sklearn.feature_selection import f_regression\n",
    "from sklearn.feature_selection import SelectKBest\n",
    "\n",
    "def feature_importance(X, y, model='reg'):\n",
    "    score_func = {'reg': f_regression}\n",
    "\n",
    "    # Score each of the features\n",
    "    bestfeatures = SelectKBest(score_func=score_func[model], k='all')\n",
    "    fit = bestfeatures.fit(X, y)\n",
    "\n",
    "    # Organize and return the scores\n",
    "    featureScores = pd.DataFrame([X.columns, fit.scores_]).T\n",
    "    featureScores.columns = ['Feature', 'Score']\n",
    "    return featureScores.sort_values('Score', ascending=False).set_index('Feature') "
   ]
  },
  {
   "cell_type": "markdown",
   "metadata": {},
   "source": [
    "### Hypothesis Test I"
   ]
  },
  {
   "cell_type": "markdown",
   "metadata": {},
   "source": [
    "**Ho**: Prices of houses with many bedrooms and a few bedrooms are equal.  \n",
    "**Ha**: Prices of houses with many bedrooms and a few bedrooms are different."
   ]
  },
  {
   "cell_type": "markdown",
   "metadata": {},
   "source": [
    "t-test:\n",
    "I'll compare 2 groups: one with `bedrooms` greater than or equal to 4, and another with less than 4."
   ]
  },
  {
   "cell_type": "code",
   "execution_count": 10,
   "metadata": {},
   "outputs": [
    {
     "data": {
      "text/plain": [
       "Ttest_indResult(statistic=20.612406446603853, pvalue=2.3169170411918228e-90)"
      ]
     },
     "execution_count": 10,
     "metadata": {},
     "output_type": "execute_result"
    }
   ],
   "source": [
    "many_bedrooms = df_no_outs[df_no_outs['bedrooms'] >= 4]['price']\n",
    "few_bedrooms = df_no_outs[df_no_outs['bedrooms'] < 4]['price']\n",
    "stats.ttest_ind(many_bedrooms, few_bedrooms)"
   ]
  },
  {
   "cell_type": "markdown",
   "metadata": {},
   "source": [
    "#### Result\n",
    "**t-stat**: 20.6  \n",
    "**p-val**: 2.3e-90 < 0.05  \n",
    "We reject the null hypothesis that houses with many bedrooms are priced around the same as houses with fewer bedrooms."
   ]
  },
  {
   "cell_type": "markdown",
   "metadata": {},
   "source": [
    "### Hypothesis Test II"
   ]
  },
  {
   "cell_type": "markdown",
   "metadata": {},
   "source": [
    "**Ho**: Houses with waterfronts are priced the same as houses without waterfronts.  \n",
    "**Ha**: Houses with waterfronts are priced differently than houses without waterfronts."
   ]
  },
  {
   "cell_type": "code",
   "execution_count": 11,
   "metadata": {
    "scrolled": true
   },
   "outputs": [
    {
     "data": {
      "text/plain": [
       "Ttest_indResult(statistic=14.441521571804724, pvalue=2.8817562762538972e-46)"
      ]
     },
     "execution_count": 11,
     "metadata": {},
     "output_type": "execute_result"
    }
   ],
   "source": [
    "waterfront = df_no_outs[df_no_outs['waterfront'] == 1]['price']\n",
    "no_waterfront = df_no_outs[df_no_outs['waterfront'] == 0]['price']\n",
    "stats.ttest_ind(waterfront, no_waterfront)"
   ]
  },
  {
   "cell_type": "markdown",
   "metadata": {},
   "source": [
    "#### Result\n",
    "**t-stat**: 14.4  \n",
    "**p-val**: 2.9e-46 < 0.05  \n",
    "We reject the null hypothesis that houses with waterfronts are priced the same as houses without waterfronts."
   ]
  },
  {
   "cell_type": "markdown",
   "metadata": {},
   "source": [
    "# Data Modeling"
   ]
  },
  {
   "cell_type": "markdown",
   "metadata": {},
   "source": [
    "## Data Preprocessing"
   ]
  },
  {
   "cell_type": "code",
   "execution_count": 12,
   "metadata": {},
   "outputs": [],
   "source": [
    "# dataframe with both zero prices and outliers.\n",
    "X = df.drop(['price', 'date', 'year'], axis='columns')\n",
    "y = df[\"price\"]\n",
    "# splitting data into training and test data\n",
    "X_train, X_test, y_train, y_test = train_test_split(X, y, test_size = 0.3, random_state=42)\n",
    "\n",
    "# dataframe without price outliers\n",
    "X_no_outs = df_no_outs.drop(['price', 'date', 'year'], axis='columns')\n",
    "y_no_outs = df_no_outs[\"price\"]\n",
    "X_train_no_outs, X_test_no_outs, y_train_no_outs, y_test_no_outs = train_test_split(X_no_outs, y_no_outs, test_size = 0.3, random_state=42)\n",
    "\n",
    "# dataframe without $0 price values\n",
    "X_no_zeros = df_no_zeros.drop(['price', 'date', 'year'], axis='columns')\n",
    "y_no_zeros = df_no_zeros[\"price\"]\n",
    "X_train_no_zeros, X_test_no_zeros, y_train_no_zeros, y_test_no_zeros = train_test_split(X_no_zeros, y_no_zeros, test_size = 0.3, random_state=42)\n",
    "\n",
    "# dataframe with a parabolic transformation on the `bedrooms` feature\n",
    "X_transformed = df_no_zeros.drop(['price', 'date', 'year'], axis='columns')\n",
    "X_transformed['bedrooms_squared'] = X['bedrooms']**2  # parabolic transformation of bedrooms\n",
    "y_transformed = df_no_zeros['price']\n",
    "X_train_transformed, X_test_transformed, y_train_transformed, y_test_transformed = train_test_split(X_transformed, y_transformed, test_size = 0.3, random_state=42)\n",
    "\n",
    "# dataframe with both zero prices and outliers.\n",
    "X2 = df2.drop(['price', 'date', 'year'], axis='columns')\n",
    "y2 = df2[\"price\"]\n",
    "X2_train, X2_test, y2_train, y2_test = train_test_split(X2, y2, test_size = 0.3, random_state=42)\n",
    "\n",
    "# dataframe without price outliers\n",
    "X2_no_outs = df2_no_outs.drop(['price', 'date', 'year'], axis='columns')\n",
    "y2_no_outs = df2_no_outs[\"price\"]\n",
    "X2_train_no_outs, X2_test_no_outs, y2_train_no_outs, y2_test_no_outs = train_test_split(X2_no_outs, y2_no_outs, test_size = 0.3, random_state=42)\n",
    "\n",
    "# dataframe without $0 price values\n",
    "X2_no_zeros = df2_no_zeros.drop(['price', 'date', 'year'], axis='columns')\n",
    "y2_no_zeros = df2_no_zeros[\"price\"]\n",
    "X2_train_no_zeros, X2_test_no_zeros, y2_train_no_zeros, y2_test_no_zeros = train_test_split(X2_no_zeros, y2_no_zeros, test_size = 0.3, random_state=42)\n",
    "\n",
    "# dataframe with a parabolic transformation on the `bedrooms` feature\n",
    "X2_transformed = df2_no_zeros.drop(['price', 'date', 'year'], axis='columns')\n",
    "X2_transformed['bedrooms_squared'] = X2_transformed['bedrooms']**2  # parabolic transformation of bedrooms\n",
    "y2_transformed = df2_no_zeros['price']\n",
    "X2_train_transformed, X2_test_transformed, y2_train_transformed, y2_test_transformed = train_test_split(X2_transformed, y2_transformed, test_size = 0.3, random_state=42)\n"
   ]
  },
  {
   "cell_type": "code",
   "execution_count": 13,
   "metadata": {},
   "outputs": [],
   "source": [
    "# 4 training sets and test sets\n",
    "# 3 algorithms\n",
    "\n",
    "train_test_sets = [\n",
    "    [X_train, X_test, y_train, y_test],\n",
    "    [X_train_no_outs, X_test_no_outs, y_train_no_outs, y_test_no_outs],\n",
    "    [X_train_no_zeros, X_test_no_zeros, y_train_no_zeros, y_test_no_zeros],\n",
    "    [X_train_transformed, X_test_transformed, y_train_transformed, y_test_transformed],\n",
    "    [X2_train, X2_test, y2_train, y2_test],\n",
    "    [X2_train_no_outs, X2_test_no_outs, y2_train_no_outs, y2_test_no_outs],\n",
    "    [X2_train_no_zeros, X2_test_no_zeros, y2_train_no_zeros, y2_test_no_zeros],\n",
    "    [X2_train_transformed, X2_test_transformed, y2_train_transformed, y2_test_transformed],\n",
    "]\n",
    "\n",
    "train_test_dicts = []\n",
    "for i, sets in enumerate(train_test_sets):\n",
    "    d = dict(zip('X_train X_test y_train_true y_test_true'.split(), sets))\n",
    "    train_test_dicts.append(d)\n",
    "\n",
    "algorithms = [LinearRegression, Ridge, RandomForestRegressor]\n",
    "names = ['linear regression', 'ridge regression ', 'random forest    ']"
   ]
  },
  {
   "cell_type": "code",
   "execution_count": 14,
   "metadata": {},
   "outputs": [],
   "source": [
    "'''\n",
    "def calc_train_error(X_train, y_train, model):\n",
    "    #returns in-sample error for already fit model.\n",
    "    y_pred = model.predict(X_train)\n",
    "    mse = mean_squared_error(y_train, y_pred)\n",
    "    rmse = np.sqrt(mse)\n",
    "    return rmse\n",
    "    \n",
    "def calc_test_error(X_test, y_test, model):\n",
    "    #returns out-of-sample error for already fit model.\n",
    "    y_pred = model.predict(X_test)\n",
    "    mse = mean_squared_error(y_test, y_pred)\n",
    "    rmse = np.sqrt(mse)\n",
    "    return rmse\n",
    "    '''\n",
    "\n",
    "def calc_rmse(y_true, y_pred):\n",
    "    rmse = np.sqrt(np.mean(y_true - y_pred)**2)\n",
    "    return rmse\n",
    "    \n",
    "def fit_and_score(X_train, y_train_true, X_test, y_test_true, model):\n",
    "    '''fits model and returns the RMSE for in-sample error and out-of-sample error, and their accuracy score'''\n",
    "    \n",
    "    model.fit(X_train, y_train_true)\n",
    "    y_train_pred = model.predict(X_train)\n",
    "    train_error = calc_rmse(y_true=y_train_true, y_pred=y_train_pred)\n",
    "    y_test_pred = model.predict(X_test)\n",
    "    test_error = calc_rmse(y_true=y_test_true, y_pred=y_test_pred)\n",
    "    #print(y_train_true.shape, y_train_pred.shape)\n",
    "    \n",
    "    train_score = model.score(X_train, y_train_true)\n",
    "    test_score = model.score(X_test, y_test_true)\n",
    "    \n",
    "    return train_error, test_error, train_score, test_score, y_train_pred, y_test_pred"
   ]
  },
  {
   "cell_type": "markdown",
   "metadata": {},
   "source": [
    "### Choosing alpha for Ridge Regression"
   ]
  },
  {
   "cell_type": "code",
   "execution_count": null,
   "metadata": {},
   "outputs": [],
   "source": [
    "alphas = [1e-4, 1e-3, 1e-2, 1e-1, 1, 1e1]\n",
    "\n",
    "for sets in train_test_dicts:\n",
    "    print('')\n",
    "    for alpha in alphas:\n",
    "        model = Ridge(alpha = alpha)\n",
    "        train_error, test_error, train_score, test_score, y_train_pred, y_test_pred = fit_and_score(model=model, **sets)\n",
    "        #train_error, test_error, train_score, test_score, y_pred = fit_and_score(sets[0], sets[2],  sets[1], sets[3], model)\n",
    "        print('alpha: {} | test_score: {} | test_error: {} | test/train error: {}'.format(alpha, test_score, test_error, round(test_error/train_error, 1)))\n"
   ]
  },
  {
   "cell_type": "markdown",
   "metadata": {},
   "source": [
    "For the 1st & 2nd datasets (df3 & df_no_outs), the best alpha seems to be alpha=1.  \n",
    "For the 3rd and 4th datasets (df_no_zeros & df_transformed), alpha=0.0001 seems best."
   ]
  },
  {
   "cell_type": "markdown",
   "metadata": {},
   "source": [
    "### Choosing parameters for Random Forest"
   ]
  },
  {
   "cell_type": "code",
   "execution_count": null,
   "metadata": {
    "scrolled": true
   },
   "outputs": [],
   "source": [
    "max_depths = [None, 10, 100]\n",
    "n_estimators = [1, 10, 100, 200]\n",
    "\n",
    "for sets in train_test_dicts:\n",
    "    print('')\n",
    "    for max_depth in max_depths:\n",
    "        for n in n_estimators:\n",
    "            model = RandomForestRegressor(max_depth=max_depth , n_estimators=n)\n",
    "            train_error, test_error, train_score, test_score, y_train_pred, y_test_pred = fit_and_score(model=model, **sets)\n",
    "            train_error, test_error, train_score, test_score = round(train_error,3), round(test_error,3), round(train_score,3), round(test_score,3)\n",
    "            print('max_depth: {} | n_estimators: {} | test_score: {} | test_error: {} | test/train error: {}'.format(max_depth, n, test_score, test_error, round(test_error/train_error, 1)))\n"
   ]
  },
  {
   "cell_type": "markdown",
   "metadata": {},
   "source": [
    "Looks like the best values for parameters `max_depth` & `n_estimators` are None & 200 respectively."
   ]
  },
  {
   "cell_type": "code",
   "execution_count": 17,
   "metadata": {
    "scrolled": false
   },
   "outputs": [
    {
     "ename": "TypeError",
     "evalue": "float() argument must be a string or a number, not 'Timestamp'",
     "output_type": "error",
     "traceback": [
      "\u001b[0;31m---------------------------------------------------------------------------\u001b[0m",
      "\u001b[0;31mTypeError\u001b[0m                                 Traceback (most recent call last)",
      "\u001b[0;32m<ipython-input-17-248e3f49bfbe>\u001b[0m in \u001b[0;36m<module>\u001b[0;34m\u001b[0m\n\u001b[1;32m     30\u001b[0m         \u001b[0mmodel\u001b[0m \u001b[0;34m=\u001b[0m \u001b[0mmodel_class\u001b[0m\u001b[0;34m(\u001b[0m\u001b[0;34m**\u001b[0m\u001b[0mhyperparams\u001b[0m\u001b[0;34m)\u001b[0m\u001b[0;34m\u001b[0m\u001b[0;34m\u001b[0m\u001b[0m\n\u001b[1;32m     31\u001b[0m \u001b[0;34m\u001b[0m\u001b[0m\n\u001b[0;32m---> 32\u001b[0;31m         \u001b[0mtrain_error\u001b[0m\u001b[0;34m,\u001b[0m \u001b[0mtest_error\u001b[0m\u001b[0;34m,\u001b[0m \u001b[0mtrain_score\u001b[0m\u001b[0;34m,\u001b[0m \u001b[0mtest_score\u001b[0m\u001b[0;34m,\u001b[0m \u001b[0my_train_pred\u001b[0m\u001b[0;34m,\u001b[0m \u001b[0my_test_pred\u001b[0m \u001b[0;34m=\u001b[0m \u001b[0mfit_and_score\u001b[0m\u001b[0;34m(\u001b[0m\u001b[0mmodel\u001b[0m\u001b[0;34m=\u001b[0m\u001b[0mmodel\u001b[0m\u001b[0;34m,\u001b[0m \u001b[0;34m**\u001b[0m\u001b[0msets\u001b[0m\u001b[0;34m)\u001b[0m\u001b[0;34m\u001b[0m\u001b[0;34m\u001b[0m\u001b[0m\n\u001b[0m\u001b[1;32m     33\u001b[0m         \u001b[0;31m#train_error, test_error, train_score, test_score, y_train_pred, y_test_pred = round(train_error,1), round(test_error,1), round(train_score,0), round(test_score,0), round(y_train_pred,0), round(y_test_pred,0)\u001b[0m\u001b[0;34m\u001b[0m\u001b[0;34m\u001b[0m\u001b[0;34m\u001b[0m\u001b[0m\n\u001b[1;32m     34\u001b[0m \u001b[0;34m\u001b[0m\u001b[0m\n",
      "\u001b[0;32m<ipython-input-14-9e1f5200a256>\u001b[0m in \u001b[0;36mfit_and_score\u001b[0;34m(X_train, y_train_true, X_test, y_test_true, model)\u001b[0m\n\u001b[1;32m     22\u001b[0m     \u001b[0;34m'''fits model and returns the RMSE for in-sample error and out-of-sample error, and their accuracy score'''\u001b[0m\u001b[0;34m\u001b[0m\u001b[0;34m\u001b[0m\u001b[0m\n\u001b[1;32m     23\u001b[0m \u001b[0;34m\u001b[0m\u001b[0m\n\u001b[0;32m---> 24\u001b[0;31m     \u001b[0mmodel\u001b[0m\u001b[0;34m.\u001b[0m\u001b[0mfit\u001b[0m\u001b[0;34m(\u001b[0m\u001b[0mX_train\u001b[0m\u001b[0;34m,\u001b[0m \u001b[0my_train_true\u001b[0m\u001b[0;34m)\u001b[0m\u001b[0;34m\u001b[0m\u001b[0;34m\u001b[0m\u001b[0m\n\u001b[0m\u001b[1;32m     25\u001b[0m     \u001b[0my_train_pred\u001b[0m \u001b[0;34m=\u001b[0m \u001b[0mmodel\u001b[0m\u001b[0;34m.\u001b[0m\u001b[0mpredict\u001b[0m\u001b[0;34m(\u001b[0m\u001b[0mX_train\u001b[0m\u001b[0;34m)\u001b[0m\u001b[0;34m\u001b[0m\u001b[0;34m\u001b[0m\u001b[0m\n\u001b[1;32m     26\u001b[0m     \u001b[0mtrain_error\u001b[0m \u001b[0;34m=\u001b[0m \u001b[0mcalc_rmse\u001b[0m\u001b[0;34m(\u001b[0m\u001b[0my_true\u001b[0m\u001b[0;34m=\u001b[0m\u001b[0my_train_true\u001b[0m\u001b[0;34m,\u001b[0m \u001b[0my_pred\u001b[0m\u001b[0;34m=\u001b[0m\u001b[0my_train_pred\u001b[0m\u001b[0;34m)\u001b[0m\u001b[0;34m\u001b[0m\u001b[0;34m\u001b[0m\u001b[0m\n",
      "\u001b[0;32m//anaconda3/lib/python3.7/site-packages/sklearn/linear_model/base.py\u001b[0m in \u001b[0;36mfit\u001b[0;34m(self, X, y, sample_weight)\u001b[0m\n\u001b[1;32m    461\u001b[0m         \u001b[0mn_jobs_\u001b[0m \u001b[0;34m=\u001b[0m \u001b[0mself\u001b[0m\u001b[0;34m.\u001b[0m\u001b[0mn_jobs\u001b[0m\u001b[0;34m\u001b[0m\u001b[0;34m\u001b[0m\u001b[0m\n\u001b[1;32m    462\u001b[0m         X, y = check_X_y(X, y, accept_sparse=['csr', 'csc', 'coo'],\n\u001b[0;32m--> 463\u001b[0;31m                          y_numeric=True, multi_output=True)\n\u001b[0m\u001b[1;32m    464\u001b[0m \u001b[0;34m\u001b[0m\u001b[0m\n\u001b[1;32m    465\u001b[0m         \u001b[0;32mif\u001b[0m \u001b[0msample_weight\u001b[0m \u001b[0;32mis\u001b[0m \u001b[0;32mnot\u001b[0m \u001b[0;32mNone\u001b[0m \u001b[0;32mand\u001b[0m \u001b[0mnp\u001b[0m\u001b[0;34m.\u001b[0m\u001b[0matleast_1d\u001b[0m\u001b[0;34m(\u001b[0m\u001b[0msample_weight\u001b[0m\u001b[0;34m)\u001b[0m\u001b[0;34m.\u001b[0m\u001b[0mndim\u001b[0m \u001b[0;34m>\u001b[0m \u001b[0;36m1\u001b[0m\u001b[0;34m:\u001b[0m\u001b[0;34m\u001b[0m\u001b[0;34m\u001b[0m\u001b[0m\n",
      "\u001b[0;32m//anaconda3/lib/python3.7/site-packages/sklearn/utils/validation.py\u001b[0m in \u001b[0;36mcheck_X_y\u001b[0;34m(X, y, accept_sparse, accept_large_sparse, dtype, order, copy, force_all_finite, ensure_2d, allow_nd, multi_output, ensure_min_samples, ensure_min_features, y_numeric, warn_on_dtype, estimator)\u001b[0m\n\u001b[1;32m    717\u001b[0m                     \u001b[0mensure_min_features\u001b[0m\u001b[0;34m=\u001b[0m\u001b[0mensure_min_features\u001b[0m\u001b[0;34m,\u001b[0m\u001b[0;34m\u001b[0m\u001b[0;34m\u001b[0m\u001b[0m\n\u001b[1;32m    718\u001b[0m                     \u001b[0mwarn_on_dtype\u001b[0m\u001b[0;34m=\u001b[0m\u001b[0mwarn_on_dtype\u001b[0m\u001b[0;34m,\u001b[0m\u001b[0;34m\u001b[0m\u001b[0;34m\u001b[0m\u001b[0m\n\u001b[0;32m--> 719\u001b[0;31m                     estimator=estimator)\n\u001b[0m\u001b[1;32m    720\u001b[0m     \u001b[0;32mif\u001b[0m \u001b[0mmulti_output\u001b[0m\u001b[0;34m:\u001b[0m\u001b[0;34m\u001b[0m\u001b[0;34m\u001b[0m\u001b[0m\n\u001b[1;32m    721\u001b[0m         y = check_array(y, 'csr', force_all_finite=True, ensure_2d=False,\n",
      "\u001b[0;32m//anaconda3/lib/python3.7/site-packages/sklearn/utils/validation.py\u001b[0m in \u001b[0;36mcheck_array\u001b[0;34m(array, accept_sparse, accept_large_sparse, dtype, order, copy, force_all_finite, ensure_2d, allow_nd, ensure_min_samples, ensure_min_features, warn_on_dtype, estimator)\u001b[0m\n\u001b[1;32m    534\u001b[0m         \u001b[0;31m# make sure we actually converted to numeric:\u001b[0m\u001b[0;34m\u001b[0m\u001b[0;34m\u001b[0m\u001b[0;34m\u001b[0m\u001b[0m\n\u001b[1;32m    535\u001b[0m         \u001b[0;32mif\u001b[0m \u001b[0mdtype_numeric\u001b[0m \u001b[0;32mand\u001b[0m \u001b[0marray\u001b[0m\u001b[0;34m.\u001b[0m\u001b[0mdtype\u001b[0m\u001b[0;34m.\u001b[0m\u001b[0mkind\u001b[0m \u001b[0;34m==\u001b[0m \u001b[0;34m\"O\"\u001b[0m\u001b[0;34m:\u001b[0m\u001b[0;34m\u001b[0m\u001b[0;34m\u001b[0m\u001b[0m\n\u001b[0;32m--> 536\u001b[0;31m             \u001b[0marray\u001b[0m \u001b[0;34m=\u001b[0m \u001b[0marray\u001b[0m\u001b[0;34m.\u001b[0m\u001b[0mastype\u001b[0m\u001b[0;34m(\u001b[0m\u001b[0mnp\u001b[0m\u001b[0;34m.\u001b[0m\u001b[0mfloat64\u001b[0m\u001b[0;34m)\u001b[0m\u001b[0;34m\u001b[0m\u001b[0;34m\u001b[0m\u001b[0m\n\u001b[0m\u001b[1;32m    537\u001b[0m         \u001b[0;32mif\u001b[0m \u001b[0;32mnot\u001b[0m \u001b[0mallow_nd\u001b[0m \u001b[0;32mand\u001b[0m \u001b[0marray\u001b[0m\u001b[0;34m.\u001b[0m\u001b[0mndim\u001b[0m \u001b[0;34m>=\u001b[0m \u001b[0;36m3\u001b[0m\u001b[0;34m:\u001b[0m\u001b[0;34m\u001b[0m\u001b[0;34m\u001b[0m\u001b[0m\n\u001b[1;32m    538\u001b[0m             raise ValueError(\"Found array with dim %d. %s expected <= 2.\"\n",
      "\u001b[0;31mTypeError\u001b[0m: float() argument must be a string or a number, not 'Timestamp'"
     ]
    }
   ],
   "source": [
    "'''lr_train_score = []\n",
    "lr_test_score = []\n",
    "lr_train_error = []\n",
    "lr_test_error = []\n",
    "\n",
    "ridge_train_score = []\n",
    "ridge_test_score = []\n",
    "ridge_train_error = []\n",
    "ridge_test_error = []\n",
    "\n",
    "rf_train_score = []\n",
    "rf_test_score = []\n",
    "rf_train_error = []\n",
    "rf_test_error = []'''\n",
    "\n",
    "train_scores = []\n",
    "test_scores = []\n",
    "train_errors = []\n",
    "test_errors = []\n",
    "y_train_preds = []\n",
    "y_test_preds = []\n",
    "\n",
    "predictions_dict = dict()\n",
    "\n",
    "for sets in train_test_dicts:\n",
    "    for model_class, hyperparams in zip(\n",
    "            [LinearRegression, Ridge, RandomForestRegressor], \n",
    "            [{}, dict(alpha=0.0001), dict(max_depth=None, n_estimators=200)]\n",
    "            ):\n",
    "        model = model_class(**hyperparams)\n",
    "        \n",
    "        train_error, test_error, train_score, test_score, y_train_pred, y_test_pred = fit_and_score(model=model, **sets)\n",
    "        #train_error, test_error, train_score, test_score, y_train_pred, y_test_pred = round(train_error,1), round(test_error,1), round(train_score,0), round(test_score,0), round(y_train_pred,0), round(y_test_pred,0)\n",
    "\n",
    "        train_errors.append(train_error)\n",
    "        test_errors.append(test_error)\n",
    "        train_scores.append(train_score)\n",
    "        test_scores.append(test_score)\n",
    "        y_train_preds.append(y_train_pred)\n",
    "        y_test_preds.append(y_test_pred)\n",
    "\n",
    "        '''for i in range(24):\n",
    "            if i < 9:\n",
    "                predictions_dict['lr_pred{}'.format(i)] = y_test_pred\n",
    "            elif i>=9 and i < 16:\n",
    "                predictions_dict['ridge_pred{}'.format(i)] = y_test_pred\n",
    "            else:\n",
    "                predictions_dict['rf_pred{}'.format(i)] = y_test_pred'''\n",
    "\n",
    "        "
   ]
  },
  {
   "cell_type": "code",
   "execution_count": 18,
   "metadata": {},
   "outputs": [
    {
     "name": "stdout",
     "output_type": "stream",
     "text": [
      "Data type of each column :\n",
      "{'date': dtype('<M8[ns]'), 'price': dtype('float64'), 'bedrooms': dtype('float64'), 'bathrooms': dtype('float64'), 'sqft_living': dtype('int64'), 'sqft_lot': dtype('int64'), 'floors': dtype('float64'), 'waterfront': CategoricalDtype(categories=[0, 1], ordered=False), 'view': dtype('int64'), 'condition': CategoricalDtype(categories=[1, 2, 3, 4, 5], ordered=False), 'sqft_above': dtype('int64'), 'sqft_basement': dtype('int64'), 'yr_built': dtype('int64'), 'yr_renovated': dtype('int64'), 'year': dtype('int64'), 'total_sqft': dtype('int64'), 'price_is0': dtype('bool'), 'renov_date_is0': dtype('bool'), 'month_5': dtype('uint8'), 'month_6': dtype('uint8'), 'month_7': dtype('uint8'), 'zipcode_98001': dtype('uint8'), 'zipcode_98002': dtype('uint8'), 'zipcode_98003': dtype('uint8'), 'zipcode_98004': dtype('uint8'), 'zipcode_98005': dtype('uint8'), 'zipcode_98006': dtype('uint8'), 'zipcode_98007': dtype('uint8'), 'zipcode_98008': dtype('uint8'), 'zipcode_98010': dtype('uint8'), 'zipcode_98011': dtype('uint8'), 'zipcode_98014': dtype('uint8'), 'zipcode_98019': dtype('uint8'), 'zipcode_98022': dtype('uint8'), 'zipcode_98023': dtype('uint8'), 'zipcode_98024': dtype('uint8'), 'zipcode_98027': dtype('uint8'), 'zipcode_98028': dtype('uint8'), 'zipcode_98029': dtype('uint8'), 'zipcode_98030': dtype('uint8'), 'zipcode_98031': dtype('uint8'), 'zipcode_98032': dtype('uint8'), 'zipcode_98033': dtype('uint8'), 'zipcode_98034': dtype('uint8'), 'zipcode_98038': dtype('uint8'), 'zipcode_98039': dtype('uint8'), 'zipcode_98040': dtype('uint8'), 'zipcode_98042': dtype('uint8'), 'zipcode_98045': dtype('uint8'), 'zipcode_98047': dtype('uint8'), 'zipcode_98050': dtype('uint8'), 'zipcode_98051': dtype('uint8'), 'zipcode_98052': dtype('uint8'), 'zipcode_98053': dtype('uint8'), 'zipcode_98055': dtype('uint8'), 'zipcode_98056': dtype('uint8'), 'zipcode_98057': dtype('uint8'), 'zipcode_98058': dtype('uint8'), 'zipcode_98059': dtype('uint8'), 'zipcode_98065': dtype('uint8'), 'zipcode_98068': dtype('uint8'), 'zipcode_98070': dtype('uint8'), 'zipcode_98072': dtype('uint8'), 'zipcode_98074': dtype('uint8'), 'zipcode_98075': dtype('uint8'), 'zipcode_98077': dtype('uint8'), 'zipcode_98092': dtype('uint8'), 'zipcode_98102': dtype('uint8'), 'zipcode_98103': dtype('uint8'), 'zipcode_98105': dtype('uint8'), 'zipcode_98106': dtype('uint8'), 'zipcode_98107': dtype('uint8'), 'zipcode_98108': dtype('uint8'), 'zipcode_98109': dtype('uint8'), 'zipcode_98112': dtype('uint8'), 'zipcode_98115': dtype('uint8'), 'zipcode_98116': dtype('uint8'), 'zipcode_98117': dtype('uint8'), 'zipcode_98118': dtype('uint8'), 'zipcode_98119': dtype('uint8'), 'zipcode_98122': dtype('uint8'), 'zipcode_98125': dtype('uint8'), 'zipcode_98126': dtype('uint8'), 'zipcode_98133': dtype('uint8'), 'zipcode_98136': dtype('uint8'), 'zipcode_98144': dtype('uint8'), 'zipcode_98146': dtype('uint8'), 'zipcode_98148': dtype('uint8'), 'zipcode_98155': dtype('uint8'), 'zipcode_98166': dtype('uint8'), 'zipcode_98168': dtype('uint8'), 'zipcode_98177': dtype('uint8'), 'zipcode_98178': dtype('uint8'), 'zipcode_98188': dtype('uint8'), 'zipcode_98198': dtype('uint8'), 'zipcode_98199': dtype('uint8'), 'zipcode_98288': dtype('uint8'), 'zipcode_98354': dtype('uint8'), 'street_name_/2 5th ave sw': dtype('uint8'), 'street_name_/2 sw harbor ln': dtype('uint8'), 'street_name_100th ave ne': dtype('uint8'), 'street_name_100th ave se': dtype('uint8'), 'street_name_100th pl se': dtype('uint8'), 'street_name_101st ln sw': dtype('uint8'), 'street_name_101st pl ne': dtype('uint8'), 'street_name_102nd ave ne': dtype('uint8'), 'street_name_102nd ave se': dtype('uint8'), 'street_name_102nd pl se': dtype('uint8'), 'street_name_103rd ave se': dtype('uint8'), 'street_name_103rd ave sw': dtype('uint8'), 'street_name_103rd pl se': dtype('uint8'), 'street_name_104th ave ne': dtype('uint8'), 'street_name_104th ave se': dtype('uint8'), 'street_name_104th pl ne': dtype('uint8'), 'street_name_104th pl se': dtype('uint8'), 'street_name_105th ave ne': dtype('uint8'), 'street_name_105th ave se': dtype('uint8'), 'street_name_105th ct ne': dtype('uint8'), 'street_name_106th ave ne': dtype('uint8'), 'street_name_106th ave se': dtype('uint8'), 'street_name_107th ave se': dtype('uint8'), 'street_name_107th pl ne': dtype('uint8'), 'street_name_108th ave ne': dtype('uint8'), 'street_name_108th ave se': dtype('uint8'), 'street_name_108th pl ne': dtype('uint8'), 'street_name_109 ln se': dtype('uint8'), 'street_name_109th ave ne': dtype('uint8'), 'street_name_109th ave se': dtype('uint8'), 'street_name_109th pl ne': dtype('uint8'), 'street_name_10th ave e': dtype('uint8'), 'street_name_10th ave ne': dtype('uint8'), 'street_name_10th ave nw': dtype('uint8'), 'street_name_10th ave s': dtype('uint8'), 'street_name_10th ave sw': dtype('uint8'), 'street_name_10th ave w': dtype('uint8'), 'street_name_10th ct nw': dtype('uint8'), 'street_name_10th pl ne': dtype('uint8'), 'street_name_10th pl s': dtype('uint8'), 'street_name_10th pl sw': dtype('uint8'), 'street_name_10th pl w': dtype('uint8'), 'street_name_10th st se': dtype('uint8'), 'street_name_110th ave ne': dtype('uint8'), 'street_name_110th ave se': dtype('uint8'), 'street_name_110th pl ne': dtype('uint8'), 'street_name_110th terrace se': dtype('uint8'), 'street_name_111th ave se': dtype('uint8'), 'street_name_111th pl se': dtype('uint8'), 'street_name_112th ave ne': dtype('uint8'), 'street_name_112th ave se': dtype('uint8'), 'street_name_112th pl se': dtype('uint8'), 'street_name_113th ave ne': dtype('uint8'), 'street_name_113th ave se': dtype('uint8'), 'street_name_113th pl ne': dtype('uint8'), 'street_name_113th pl se': dtype('uint8'), 'street_name_114th ave se': dtype('uint8'), 'street_name_114th ct se': dtype('uint8'), 'street_name_114th pl se': dtype('uint8'), 'street_name_114th way se': dtype('uint8'), 'street_name_115th ave ne': dtype('uint8'), 'street_name_115th ave sw': dtype('uint8'), 'street_name_115th pl ne': dtype('uint8'), 'street_name_115th pl se': dtype('uint8'), 'street_name_116th ave ne': dtype('uint8'), 'street_name_116th ave se': dtype('uint8'), 'street_name_116th pl se': dtype('uint8'), 'street_name_117th ave ne': dtype('uint8'), 'street_name_117th ave se': dtype('uint8'), 'street_name_117th pl ne': dtype('uint8'), 'street_name_117th pl se': dtype('uint8'), 'street_name_118th ave ne': dtype('uint8'), 'street_name_118th pl se': dtype('uint8'), 'street_name_119th ave ne': dtype('uint8'), 'street_name_119th ave se': dtype('uint8'), 'street_name_119th ave sw': dtype('uint8'), 'street_name_119th dr se': dtype('uint8'), 'street_name_119th pl ne': dtype('uint8'), 'street_name_119th pl se': dtype('uint8'), 'street_name_11th ave': dtype('uint8'), 'street_name_11th ave ne': dtype('uint8'), 'street_name_11th ave nw': dtype('uint8'), 'street_name_11th ave s': dtype('uint8'), 'street_name_11th ave sw': dtype('uint8'), 'street_name_11th ave w': dtype('uint8'), 'street_name_11th ct sw': dtype('uint8'), 'street_name_11th pl ne': dtype('uint8'), 'street_name_11th pl sw': dtype('uint8'), 'street_name_11th st se': dtype('uint8'), 'street_name_120th ave ne': dtype('uint8'), 'street_name_120th ave se': dtype('uint8'), 'street_name_120th pl se': dtype('uint8'), 'street_name_121st ave ne': dtype('uint8'), 'street_name_121st ave se': dtype('uint8'), 'street_name_121st pl se': dtype('uint8'), 'street_name_121st way se': dtype('uint8'), 'street_name_122nd ave se': dtype('uint8'), 'street_name_122nd ct se': dtype('uint8'), 'street_name_122nd pl ne': dtype('uint8'), 'street_name_123rd ave ne': dtype('uint8'), 'street_name_123rd ave se': dtype('uint8'), 'street_name_123rd pl se': dtype('uint8'), 'street_name_124th ave ne': dtype('uint8'), 'street_name_124th ave se': dtype('uint8'), 'street_name_125th ave ne': dtype('uint8'), 'street_name_125th ave se': dtype('uint8'), 'street_name_125th pl se': dtype('uint8'), 'street_name_126 ct ne': dtype('uint8'), 'street_name_126th ave ne': dtype('uint8'), 'street_name_126th ave se': dtype('uint8'), 'street_name_126th pl ne': dtype('uint8'), 'street_name_126th pl se': dtype('uint8'), 'street_name_127th ave se': dtype('uint8'), 'street_name_127th ct se': dtype('uint8'), 'street_name_127th pl ne': dtype('uint8'), 'street_name_127th pl se': dtype('uint8'), 'street_name_128th ave ne': dtype('uint8'), 'street_name_128th ave se': dtype('uint8'), 'street_name_128th pl ne': dtype('uint8'), 'street_name_128th pl se': dtype('uint8'), 'street_name_129th ave se': dtype('uint8'), 'street_name_129th ct ne': dtype('uint8'), 'street_name_129th pl ne': dtype('uint8'), 'street_name_129th pl se': dtype('uint8'), 'street_name_129th pl sw': dtype('uint8'), 'street_name_12th ave e': dtype('uint8'), 'street_name_12th ave ne': dtype('uint8'), 'street_name_12th ave nw': dtype('uint8'), 'street_name_12th ave s': dtype('uint8'), 'street_name_12th ave sw': dtype('uint8'), 'street_name_12th pl s': dtype('uint8'), 'street_name_12th pl sw': dtype('uint8'), 'street_name_12th st ne': dtype('uint8'), 'street_name_130th ave ne': dtype('uint8'), 'street_name_130th ave se': dtype('uint8'), 'street_name_130th ct ne': dtype('uint8'), 'street_name_130th pl se': dtype('uint8'), 'street_name_130th way se': dtype('uint8'), 'street_name_131st ave ne': dtype('uint8'), 'street_name_131st ave se': dtype('uint8'), 'street_name_131st pl ne': dtype('uint8'), 'street_name_131st pl se': dtype('uint8'), 'street_name_132nd ave ne': dtype('uint8'), 'street_name_132nd ave se': dtype('uint8'), 'street_name_132nd ct se': dtype('uint8'), 'street_name_132nd pl se': dtype('uint8'), 'street_name_133rd ave se': dtype('uint8'), 'street_name_133rd pl se': dtype('uint8'), 'street_name_134th ave ne': dtype('uint8'), 'street_name_134th ave se': dtype('uint8'), 'street_name_134th pl ne': dtype('uint8'), 'street_name_134th pl se': dtype('uint8'), 'street_name_135th ave ne': dtype('uint8'), 'street_name_135th ave se': dtype('uint8'), 'street_name_135th pl se': dtype('uint8'), 'street_name_136th ave se': dtype('uint8'), 'street_name_136th pl se': dtype('uint8'), 'street_name_137th ave ne': dtype('uint8'), 'street_name_137th ave se': dtype('uint8'), 'street_name_138th ave ne': dtype('uint8'), 'street_name_138th ave se': dtype('uint8'), 'street_name_138th pl ne': dtype('uint8'), 'street_name_139th pl se': dtype('uint8'), 'street_name_13th ave nw': dtype('uint8'), 'street_name_13th ave s': dtype('uint8'), 'street_name_13th ave sw': dtype('uint8'), 'street_name_13th ave w': dtype('uint8'), 'street_name_13th pl s': dtype('uint8'), 'street_name_140th ave se': dtype('uint8'), 'street_name_140th ct se': dtype('uint8'), 'street_name_140th ln se': dtype('uint8'), 'street_name_140th pl se': dtype('uint8'), 'street_name_141st ave se': dtype('uint8'), 'street_name_141st ct se': dtype('uint8'), 'street_name_141st pl ne': dtype('uint8'), 'street_name_141st pl se': dtype('uint8'), 'street_name_142nd ave ne': dtype('uint8'), 'street_name_142nd ave se': dtype('uint8'), 'street_name_142nd ct ne': dtype('uint8'), 'street_name_142nd pl ne': dtype('uint8'), 'street_name_142nd pl se': dtype('uint8'), 'street_name_143rd ave se': dtype('uint8'), 'street_name_143rd ct ne': dtype('uint8'), 'street_name_143rd ct se': dtype('uint8'), 'street_name_144th ave se': dtype('uint8'), 'street_name_145th ave se': dtype('uint8'), 'street_name_145th pl ne': dtype('uint8'), 'street_name_145th pl se': dtype('uint8'), 'street_name_146th ave se': dtype('uint8'), 'street_name_146th pl se': dtype('uint8'), 'street_name_147th ave ne': dtype('uint8'), 'street_name_147th ave se': dtype('uint8'), 'street_name_147th ct ne': dtype('uint8'), 'street_name_147th pl ne': dtype('uint8'), 'street_name_148th ave se': dtype('uint8'), 'street_name_148th ct ne': dtype('uint8'), 'street_name_149th ave ne': dtype('uint8'), 'street_name_149th ave se': dtype('uint8'), 'street_name_14th ave': dtype('uint8'), 'street_name_14th ave e': dtype('uint8'), 'street_name_14th ave nw': dtype('uint8'), 'street_name_14th ave s': dtype('uint8'), 'street_name_14th ave sw': dtype('uint8'), 'street_name_14th ave w': dtype('uint8'), 'street_name_14th avenue northeast': dtype('uint8'), 'street_name_14th pl ne': dtype('uint8'), 'street_name_150th ave ne': dtype('uint8'), 'street_name_150th ave se': dtype('uint8'), 'street_name_150th ct ne': dtype('uint8'), 'street_name_150th pl se': dtype('uint8'), 'street_name_151st ave ne': dtype('uint8'), 'street_name_151st ave se': dtype('uint8'), 'street_name_151st pl ne': dtype('uint8'), 'street_name_151st pl se': dtype('uint8'), 'street_name_152nd pl se': dtype('uint8'), 'street_name_153rd ave se': dtype('uint8'), 'street_name_154th ave ne': dtype('uint8'), 'street_name_154th ave se': dtype('uint8'), 'street_name_154th ct ne': dtype('uint8'), 'street_name_154th pl se': dtype('uint8'), 'street_name_155th ave ne': dtype('uint8'), 'street_name_155th ave se': dtype('uint8'), 'street_name_155th pl ne': dtype('uint8'), 'street_name_155th pl se': dtype('uint8'), 'street_name_156th ave ne': dtype('uint8'), 'street_name_156th ave se': dtype('uint8'), 'street_name_156th ct ne': dtype('uint8'), 'street_name_156th dr ne': dtype('uint8'), 'street_name_156th pl se': dtype('uint8'), 'street_name_157th ave ne': dtype('uint8'), 'street_name_157th ave se': dtype('uint8'), 'street_name_158th ave se': dtype('uint8'), 'street_name_158th pl se': dtype('uint8'), 'street_name_159th ave ne': dtype('uint8'), 'street_name_159th ave se': dtype('uint8'), 'street_name_159th ct ne': dtype('uint8'), 'street_name_159th pl ne': dtype('uint8'), 'street_name_159th pl se': dtype('uint8'), 'street_name_15th ave': dtype('uint8'), 'street_name_15th ave e': dtype('uint8'), 'street_name_15th ave ne': dtype('uint8'), 'street_name_15th ave nw': dtype('uint8'), 'street_name_15th ave s': dtype('uint8'), 'street_name_15th ave sw': dtype('uint8'), 'street_name_15th pl ne': dtype('uint8'), 'street_name_160th ave ne': dtype('uint8'), 'street_name_160th ave se': dtype('uint8'), 'street_name_160th ct se': dtype('uint8'), 'street_name_160th pl se': dtype('uint8'), 'street_name_161st ave se': dtype('uint8'), 'street_name_161st avenue northeast': dtype('uint8'), 'street_name_161st ln se': dtype('uint8'), 'street_name_161st pl ne': dtype('uint8'), 'street_name_161st pl se': dtype('uint8'), 'street_name_162nd ave ne': dtype('uint8'), 'street_name_162nd ct se': dtype('uint8'), 'street_name_162nd ln se': dtype('uint8'), 'street_name_162nd pl ne': dtype('uint8'), 'street_name_162nd pl se': dtype('uint8'), 'street_name_163rd ave se': dtype('uint8'), 'street_name_163rd pl se': dtype('uint8'), 'street_name_164th ave ne': dtype('uint8'), 'street_name_164th ave se': dtype('uint8'), 'street_name_164th pl se': dtype('uint8'), 'street_name_165th ave ne': dtype('uint8'), 'street_name_165th ave se': dtype('uint8'), 'street_name_165th pl ne': dtype('uint8'), 'street_name_165th pl se': dtype('uint8'), 'street_name_166th ave ne': dtype('uint8'), 'street_name_166th ave se': dtype('uint8'), 'street_name_166th pl ne': dtype('uint8'), 'street_name_166th pl se': dtype('uint8'), 'street_name_167th ave ne': dtype('uint8'), 'street_name_167th ave se': dtype('uint8'), 'street_name_167th ln se': dtype('uint8'), 'street_name_167th pl ne': dtype('uint8'), 'street_name_167th pl se': dtype('uint8'), 'street_name_168th ave ne': dtype('uint8'), 'street_name_168th ave se': dtype('uint8'), 'street_name_168th ct ne': dtype('uint8'), 'street_name_168th pl ne': dtype('uint8'), 'street_name_168th pl se': dtype('uint8'), 'street_name_169th ct ne': dtype('uint8'), 'street_name_169th pl ne': dtype('uint8'), 'street_name_169th pl se': dtype('uint8'), 'street_name_16th ave': dtype('uint8'), 'street_name_16th ave e': dtype('uint8'), 'street_name_16th ave ne': dtype('uint8'), 'street_name_16th ave nw': dtype('uint8'), 'street_name_16th ave s': dtype('uint8'), 'street_name_16th ave sw': dtype('uint8'), 'street_name_170th ave ne': dtype('uint8'), 'street_name_170th ave se': dtype('uint8'), 'street_name_170th ct ne': dtype('uint8'), 'street_name_170th pl ne': dtype('uint8'), 'street_name_170th pl se': dtype('uint8'), 'street_name_171 ave se': dtype('uint8'), 'street_name_171st ave ne': dtype('uint8'), 'street_name_171st ave se': dtype('uint8'), 'street_name_171st pl ne': dtype('uint8'), 'street_name_172nd ave ne': dtype('uint8'), 'street_name_172nd ct se': dtype('uint8'), 'street_name_172nd pl ne': dtype('uint8'), 'street_name_173rd ave ne': dtype('uint8'), 'street_name_173rd pl ne': dtype('uint8'), 'street_name_173rd way se': dtype('uint8'), 'street_name_174th ave ne': dtype('uint8'), 'street_name_174th ave se': dtype('uint8'), 'street_name_174th pl ne': dtype('uint8'), 'street_name_175th ave ne': dtype('uint8'), 'street_name_175th ave se': dtype('uint8'), 'street_name_175th pl ne': dtype('uint8'), 'street_name_175th pl se': dtype('uint8'), 'street_name_176th ave ne': dtype('uint8'), 'street_name_176th ave se': dtype('uint8'), 'street_name_177th ave ne': dtype('uint8'), 'street_name_177th ct ne': dtype('uint8'), 'street_name_178th ave ne': dtype('uint8'), 'street_name_178th ave se': dtype('uint8'), 'street_name_179th ave ne': dtype('uint8'), 'street_name_179th ct ne': dtype('uint8'), 'street_name_179th pl ne': dtype('uint8'), 'street_name_17th ave': dtype('uint8'), 'street_name_17th ave e': dtype('uint8'), 'street_name_17th ave ne': dtype('uint8'), 'street_name_17th ave nw': dtype('uint8'), 'street_name_17th ave s': dtype('uint8'), 'street_name_17th ave sw': dtype('uint8'), 'street_name_17th pl nw': dtype('uint8'), 'street_name_180 ave ne': dtype('uint8'), 'street_name_180th ave se': dtype('uint8'), 'street_name_181st pl ne': dtype('uint8'), 'street_name_181st pl se': dtype('uint8'), 'street_name_182nd ave ne': dtype('uint8'), 'street_name_183rd ave se': dtype('uint8'), 'street_name_184th ave ne': dtype('uint8'), 'street_name_185th ave se': dtype('uint8'), 'street_name_185th pl ne': dtype('uint8'), 'street_name_185th pl se': dtype('uint8'), 'street_name_186th ave se': dtype('uint8'), 'street_name_186th pl ne': dtype('uint8'), 'street_name_186th pl se': dtype('uint8'), 'street_name_187th ave ne': dtype('uint8'), 'street_name_187th pl se': dtype('uint8'), 'street_name_188 ave se': dtype('uint8'), 'street_name_188th pl ne': dtype('uint8'), 'street_name_189th ave ne': dtype('uint8'), 'street_name_189th ave se': dtype('uint8'), 'street_name_189th ct se': dtype('uint8'), 'street_name_189th pl ne': dtype('uint8'), 'street_name_18th ave': dtype('uint8'), 'street_name_18th ave ne': dtype('uint8'), 'street_name_18th ave nw': dtype('uint8'), 'street_name_18th ave s': dtype('uint8'), 'street_name_18th ave sw': dtype('uint8'), 'street_name_18th pl s': dtype('uint8'), 'street_name_190th ave se': dtype('uint8'), 'street_name_191st ave ne': dtype('uint8'), 'street_name_191st pl ne': dtype('uint8'), 'street_name_191st pl se': dtype('uint8'), 'street_name_192nd ave se': dtype('uint8'), 'street_name_193rd ave se': dtype('uint8'), 'street_name_193rd pl ne': dtype('uint8'), 'street_name_193rd pl se': dtype('uint8'), 'street_name_194th ave ne': dtype('uint8'), 'street_name_194th ave se': dtype('uint8'), 'street_name_194th pl ne': dtype('uint8'), 'street_name_195th ave se': dtype('uint8'), 'street_name_195th pl ne': dtype('uint8'), 'street_name_195th pl se': dtype('uint8'), 'street_name_196th ave ne': dtype('uint8'), 'street_name_196th ave se': dtype('uint8'), 'street_name_196th pl ne': dtype('uint8'), 'street_name_197th ave ne': dtype('uint8'), 'street_name_197th ave se': dtype('uint8'), 'street_name_197th pl ne': dtype('uint8'), 'street_name_198th ave ne': dtype('uint8'), 'street_name_198th dr ne': dtype('uint8'), 'street_name_198th pl ne': dtype('uint8'), 'street_name_199th ave ne': dtype('uint8'), 'street_name_199th ave se': dtype('uint8'), 'street_name_199th pl ne': dtype('uint8'), 'street_name_199th pl se': dtype('uint8'), 'street_name_19th ave': dtype('uint8'), 'street_name_19th ave e': dtype('uint8'), 'street_name_19th ave ne': dtype('uint8'), 'street_name_19th ave nw': dtype('uint8'), 'street_name_19th ave s': dtype('uint8'), 'street_name_19th ave sw': dtype('uint8'), 'street_name_19th pl s': dtype('uint8'), 'street_name_19th way s': dtype('uint8'), 'street_name_1st ave n': dtype('uint8'), 'street_name_1st ave ne': dtype('uint8'), 'street_name_1st ave nw': dtype('uint8'), 'street_name_1st ave w': dtype('uint8'), 'street_name_1st avenue south': dtype('uint8'), 'street_name_1st pl s': dtype('uint8'), 'street_name_1st st': dtype('uint8'), 'street_name_200th ave se': dtype('uint8'), 'street_name_201st ave ne': dtype('uint8'), 'street_name_201st ave se': dtype('uint8'), 'street_name_201st pl ne': dtype('uint8'), 'street_name_202nd ave se': dtype('uint8'), 'street_name_202nd pl se': dtype('uint8'), 'street_name_203rd ave se': dtype('uint8'), 'street_name_204th ave ne': dtype('uint8'), 'street_name_204th ave se': dtype('uint8'), 'street_name_204th pl ne': dtype('uint8'), 'street_name_205th pl ne': dtype('uint8'), 'street_name_205th pl se': dtype('uint8'), 'street_name_206th ave ne': dtype('uint8'), 'street_name_206th ct se': dtype('uint8'), 'street_name_208th ave ne': dtype('uint8'), 'street_name_208th ave se': dtype('uint8'), 'street_name_209th ave ne': dtype('uint8'), 'street_name_209th pl se': dtype('uint8'), 'street_name_20th ave': dtype('uint8'), 'street_name_20th ave e': dtype('uint8'), 'street_name_20th ave ne': dtype('uint8'), 'street_name_20th ave nw': dtype('uint8'), 'street_name_20th ave s': dtype('uint8'), 'street_name_20th ave sw': dtype('uint8'), 'street_name_20th st se': dtype('uint8'), 'street_name_210th ave ne': dtype('uint8'), 'street_name_210th pl ne': dtype('uint8'), 'street_name_211th ave ne': dtype('uint8'), 'street_name_211th ct se': dtype('uint8'), 'street_name_211th pl ne': dtype('uint8'), 'street_name_211th pl se': dtype('uint8'), 'street_name_212th ave se': dtype('uint8'), 'street_name_212th dr ne': dtype('uint8'), 'street_name_212th pl se': dtype('uint8'), 'street_name_214th ave se': dtype('uint8'), 'street_name_214th pl se': dtype('uint8'), 'street_name_214th way ne': dtype('uint8'), 'street_name_215th ave ne': dtype('uint8'), 'street_name_215th terrace se': dtype('uint8'), 'street_name_215th way ne': dtype('uint8'), 'street_name_216th ave ne': dtype('uint8'), 'street_name_216th ave se': dtype('uint8'), 'street_name_216th ct ne': dtype('uint8'), 'street_name_216th pl ne': dtype('uint8'), 'street_name_217th pl ne': dtype('uint8'), 'street_name_217th pl se': dtype('uint8'), 'street_name_218th ave ne': dtype('uint8'), 'street_name_218th ave se': dtype('uint8'), 'street_name_218th pl se': dtype('uint8'), 'street_name_219th pl se': dtype('uint8'), 'street_name_21st ave': dtype('uint8'), 'street_name_21st ave ne': dtype('uint8'), 'street_name_21st ave nw': dtype('uint8'), 'street_name_21st ave s': dtype('uint8'), 'street_name_21st ave sw': dtype('uint8'), 'street_name_21st ave w': dtype('uint8'), 'street_name_21st st ne': dtype('uint8'), 'street_name_21st st se': dtype('uint8'), 'street_name_220th pl ne': dtype('uint8'), 'street_name_221st ave ne': dtype('uint8'), 'street_name_221st ave se': dtype('uint8'), 'street_name_221st pi ne': dtype('uint8'), 'street_name_222nd pl ne': dtype('uint8'), 'street_name_222nd pl se': dtype('uint8'), 'street_name_223rd pl ne': dtype('uint8'), 'street_name_224th ave ne': dtype('uint8'), 'street_name_224th pl ne': dtype('uint8'), 'street_name_225th ave se': dtype('uint8'), 'street_name_225th pl ne': dtype('uint8'), 'street_name_226th ave se': dtype('uint8'), 'street_name_226th pl ne': dtype('uint8'), 'street_name_227 ave ne': dtype('uint8'), 'street_name_227th ave se': dtype('uint8'), 'street_name_227th pl ne': dtype('uint8'), 'street_name_227th pl se': dtype('uint8'), 'street_name_227th way ne': dtype('uint8'), 'street_name_228th pl ne': dtype('uint8'), 'street_name_228th pl se': dtype('uint8'), 'street_name_228th terrace ne': dtype('uint8'), 'street_name_228th way ne': dtype('uint8'), 'street_name_229th ave se': dtype('uint8'), 'street_name_229th pl ne': dtype('uint8'), 'street_name_229th pl se': dtype('uint8'), 'street_name_22nd ave': dtype('uint8'), 'street_name_22nd ave e': dtype('uint8'), 'street_name_22nd ave ne': dtype('uint8'), 'street_name_22nd ave nw': dtype('uint8'), 'street_name_22nd ave s': dtype('uint8'), 'street_name_22nd ave sw': dtype('uint8'), 'street_name_22nd ave w': dtype('uint8'), 'street_name_22nd ct ne': dtype('uint8'), 'street_name_22nd pl ne': dtype('uint8'), 'street_name_22nd pl s': dtype('uint8'), 'street_name_22nd st se': dtype('uint8'), 'street_name_230th ave ne': dtype('uint8'), 'street_name_230th ave se': dtype('uint8'), 'street_name_230th pl ne': dtype('uint8'), 'street_name_231st ave ne': dtype('uint8'), 'street_name_231st ave se': dtype('uint8'), 'street_name_231st pl se': dtype('uint8'), 'street_name_232nd ave ne': dtype('uint8'), 'street_name_232nd ave se': dtype('uint8'), 'street_name_232nd pl ne': dtype('uint8'), 'street_name_232nd pl se': dtype('uint8'), 'street_name_233rd ave ne': dtype('uint8'), 'street_name_233rd ave se': dtype('uint8'), 'street_name_234th ave se': dtype('uint8'), 'street_name_234th ct ne': dtype('uint8'), 'street_name_234th ct se': dtype('uint8'), 'street_name_234th pl se': dtype('uint8'), 'street_name_235th ave se': dtype('uint8'), 'street_name_235th ct ne': dtype('uint8'), 'street_name_235th pl ne': dtype('uint8'), 'street_name_235th pl se': dtype('uint8'), 'street_name_235th way se': dtype('uint8'), 'street_name_236th ave ne': dtype('uint8'), 'street_name_236th ct se': dtype('uint8'), 'street_name_236th pl ne': dtype('uint8'), 'street_name_236th pl se': dtype('uint8'), 'street_name_237th ave se': dtype('uint8'), 'street_name_237th ct ne': dtype('uint8'), 'street_name_237th pl ne': dtype('uint8'), 'street_name_237th pl se': dtype('uint8'), 'street_name_238th ave se': dtype('uint8'), 'street_name_238th pl se': dtype('uint8'), 'street_name_239th pl ne': dtype('uint8'), 'street_name_23rd ave': dtype('uint8'), 'street_name_23rd ave ne': dtype('uint8'), 'street_name_23rd ave nw': dtype('uint8'), 'street_name_23rd ave s': dtype('uint8'), 'street_name_23rd ave sw': dtype('uint8'), 'street_name_23rd avenue south': dtype('uint8'), 'street_name_240th ave ne': dtype('uint8'), 'street_name_240th ave se': dtype('uint8'), 'street_name_240th pl ne': dtype('uint8'), 'street_name_241st pl se': dtype('uint8'), 'street_name_242nd ave se': dtype('uint8'), 'street_name_242nd pl ne': dtype('uint8'), 'street_name_242nd pl se': dtype('uint8'), 'street_name_242nd way ne': dtype('uint8'), 'street_name_243rd ave ne': dtype('uint8'), 'street_name_243rd ave se': dtype('uint8'), 'street_name_243rd pl se': dtype('uint8'), 'street_name_243rd terrace ne': dtype('uint8'), 'street_name_244th ave ne': dtype('uint8'), 'street_name_244th ave se': dtype('uint8'), 'street_name_244th pl ne': dtype('uint8'), 'street_name_244th pl se': dtype('uint8'), 'street_name_245th ave se': dtype('uint8'), 'street_name_245th way ne': dtype('uint8'), 'street_name_246th ave ne': dtype('uint8'), 'street_name_246th ave se': dtype('uint8'), 'street_name_246th ct ne': dtype('uint8'), 'street_name_246th pl ne': dtype('uint8'), 'street_name_246th way se': dtype('uint8'), 'street_name_247th ave se': dtype('uint8'), 'street_name_248th terrace ne': dtype('uint8'), 'street_name_249th ct se': dtype('uint8'), 'street_name_24th ave': dtype('uint8'), 'street_name_24th ave e': dtype('uint8'), 'street_name_24th ave ne': dtype('uint8'), 'street_name_24th ave nw': dtype('uint8'), 'street_name_24th ave s': dtype('uint8'), 'street_name_24th ave sw': dtype('uint8'), 'street_name_24th ave w': dtype('uint8'), 'street_name_24th pl sw': dtype('uint8'), 'street_name_250th pl se': dtype('uint8'), 'street_name_251st ct ne': dtype('uint8'), 'street_name_251st pl se': dtype('uint8'), 'street_name_252nd ave se': dtype('uint8'), 'street_name_253rd ave se': dtype('uint8'), 'street_name_253rd ct se': dtype('uint8'), 'street_name_254th ave se': dtype('uint8'), 'street_name_254th pl se': dtype('uint8'), 'street_name_254th way se': dtype('uint8'), 'street_name_255th ave se': dtype('uint8'), 'street_name_255th pl se': dtype('uint8'), 'street_name_256th ct se': dtype('uint8'), 'street_name_258th ave ne': dtype('uint8'), 'street_name_258th ave se': dtype('uint8'), 'street_name_258th pl se': dtype('uint8'), 'street_name_258th way se': dtype('uint8'), 'street_name_25th ave': dtype('uint8'), 'street_name_25th ave e': dtype('uint8'), 'street_name_25th ave ne': dtype('uint8'), 'street_name_25th ave s': dtype('uint8'), 'street_name_25th ave sw': dtype('uint8'), 'street_name_25th ave w': dtype('uint8'), 'street_name_260th ave se': dtype('uint8'), 'street_name_261st pl se': dtype('uint8'), 'street_name_262nd ave se': dtype('uint8'), 'street_name_263rd ct ne': dtype('uint8'), 'street_name_264th ave ne': dtype('uint8'), 'street_name_265th ave ne': dtype('uint8'), 'street_name_267th ct se': dtype('uint8'), 'street_name_268th dr ne': dtype('uint8'), 'street_name_268th pl se': dtype('uint8'), 'street_name_269th ave se': dtype('uint8'), 'street_name_26th ave': dtype('uint8'), 'street_name_26th ave e': dtype('uint8'), 'street_name_26th ave ne': dtype('uint8'), 'street_name_26th ave nw': dtype('uint8'), 'street_name_26th ave s': dtype('uint8'), 'street_name_26th ave sw': dtype('uint8'), 'street_name_26th ct s': dtype('uint8'), 'street_name_26th dr s': dtype('uint8'), 'street_name_26th st se': dtype('uint8'), 'street_name_270th pl se': dtype('uint8'), 'street_name_271st ave se': dtype('uint8'), 'street_name_271st ct ne': dtype('uint8'), 'street_name_271st pl ne': dtype('uint8'), 'street_name_272nd pl ne': dtype('uint8'), 'street_name_272nd pl se': dtype('uint8'), 'street_name_273rd ave ne': dtype('uint8'), 'street_name_273rd pl se': dtype('uint8'), 'street_name_274th ct ne': dtype('uint8'), 'street_name_274th pl ne': dtype('uint8'), 'street_name_274th way se': dtype('uint8'), 'street_name_275th ave ne': dtype('uint8'), 'street_name_276th ct ne': dtype('uint8'), 'street_name_277th terrace se': dtype('uint8'), 'street_name_278th ave se': dtype('uint8'), 'street_name_279th ave ne': dtype('uint8'), 'street_name_279th ln ne': dtype('uint8'), 'street_name_279th pl ne': dtype('uint8'), 'street_name_27th ave': dtype('uint8'), 'street_name_27th ave e': dtype('uint8'), 'street_name_27th ave ne': dtype('uint8'), 'street_name_27th ave nw': dtype('uint8'), 'street_name_27th ave s': dtype('uint8'), 'street_name_27th ave sw': dtype('uint8'), 'street_name_27th pl s': dtype('uint8'), 'street_name_27th pl sw': dtype('uint8'), 'street_name_280th pl ne': dtype('uint8'), 'street_name_281st ave ne': dtype('uint8'), 'street_name_282nd ave se': dtype('uint8'), 'street_name_284th pl ne': dtype('uint8'), 'street_name_284th way ne': dtype('uint8'), 'street_name_287th ave ne': dtype('uint8'), 'street_name_288th ave ne': dtype('uint8'), 'street_name_289th ave ne': dtype('uint8'), 'street_name_289th ave se': dtype('uint8'), 'street_name_28th ave ne': dtype('uint8'), 'street_name_28th ave nw': dtype('uint8'), 'street_name_28th ave s': dtype('uint8'), 'street_name_28th ave sw': dtype('uint8'), 'street_name_28th ave w': dtype('uint8'), 'street_name_28th pl s': dtype('uint8'), 'street_name_28th pl sw': dtype('uint8'), 'street_name_292nd ave se': dtype('uint8'), 'street_name_295th ave se': dtype('uint8'), 'street_name_298th ave se': dtype('uint8'), 'street_name_29th ave': dtype('uint8'), 'street_name_29th ave ne': dtype('uint8'), 'street_name_29th ave nw': dtype('uint8'), 'street_name_29th ave s': dtype('uint8'), 'street_name_29th ave sw': dtype('uint8'), 'street_name_29th ave w': dtype('uint8'), 'street_name_29th ct sw': dtype('uint8'), 'street_name_29th pl ne': dtype('uint8'), 'street_name_2nd ave n': dtype('uint8'), 'street_name_2nd ave ne': dtype('uint8'), 'street_name_2nd ave nw': dtype('uint8'), 'street_name_2nd ave s': dtype('uint8'), 'street_name_2nd ave sw': dtype('uint8'), 'street_name_2nd pl sw': dtype('uint8'), 'street_name_30th ave': dtype('uint8'), 'street_name_30th ave e': dtype('uint8'), 'street_name_30th ave ne': dtype('uint8'), 'street_name_30th ave nw': dtype('uint8'), 'street_name_30th ave s': dtype('uint8'), 'street_name_30th ave sw': dtype('uint8'), 'street_name_30th ave w': dtype('uint8'), 'street_name_318th pl ne': dtype('uint8'), 'street_name_31st ave': dtype('uint8'), 'street_name_31st ave e': dtype('uint8'), 'street_name_31st ave ne': dtype('uint8'), 'street_name_31st ave nw': dtype('uint8'), 'street_name_31st ave s': dtype('uint8'), 'street_name_31st ave sw': dtype('uint8'), 'street_name_31st ave w': dtype('uint8'), 'street_name_31st pl s': dtype('uint8'), 'street_name_324th ave ne': dtype('uint8'), 'street_name_326th ave ne': dtype('uint8'), 'street_name_327th pl se': dtype('uint8'), 'street_name_32nd ave': dtype('uint8'), 'street_name_32nd ave ne': dtype('uint8'), 'street_name_32nd ave nw': dtype('uint8'), 'street_name_32nd ave s': dtype('uint8'), 'street_name_32nd ave sw': dtype('uint8'), 'street_name_32nd pl ne': dtype('uint8'), 'street_name_32nd pl s': dtype('uint8'), 'street_name_32nd pl sw': dtype('uint8'), 'street_name_330th ave ne': dtype('uint8'), 'street_name_331st ave ne': dtype('uint8'), 'street_name_332nd ave se': dtype('uint8'), 'street_name_336th ave se': dtype('uint8'), 'street_name_33rd ave': dtype('uint8'), 'street_name_33rd ave ne': dtype('uint8'), 'street_name_33rd ave nw': dtype('uint8'), 'street_name_33rd ave s': dtype('uint8'), 'street_name_33rd ave sw': dtype('uint8'), 'street_name_33rd ave w': dtype('uint8'), 'street_name_33rd pl ne': dtype('uint8'), 'street_name_33rd st se': dtype('uint8'), 'street_name_34th ave e': dtype('uint8'), 'street_name_34th ave ne': dtype('uint8'), 'street_name_34th ave nw': dtype('uint8'), 'street_name_34th ave s': dtype('uint8'), 'street_name_34th ave sw': dtype('uint8'), 'street_name_34th ave w': dtype('uint8'), 'street_name_34th pl s': dtype('uint8'), 'street_name_35th ave': dtype('uint8'), 'street_name_35th ave ne': dtype('uint8'), 'street_name_35th ave nw': dtype('uint8'), 'street_name_35th ave s': dtype('uint8'), 'street_name_35th ave sw': dtype('uint8'), 'street_name_35th ave w': dtype('uint8'), 'street_name_35th pl s': dtype('uint8'), 'street_name_361st ave ne': dtype('uint8'), 'street_name_36th ave e': dtype('uint8'), 'street_name_36th ave ne': dtype('uint8'), 'street_name_36th ave nw': dtype('uint8'), 'street_name_36th ave s': dtype('uint8'), 'street_name_36th ave sw': dtype('uint8'), 'street_name_36th ave w': dtype('uint8'), 'street_name_36th ct sw': dtype('uint8'), 'street_name_374th pl se': dtype('uint8'), 'street_name_376th ave se': dtype('uint8'), 'street_name_37th ave e': dtype('uint8'), 'street_name_37th ave ne': dtype('uint8'), 'street_name_37th ave nw': dtype('uint8'), 'street_name_37th ave s': dtype('uint8'), 'street_name_37th ave sw': dtype('uint8'), 'street_name_37th ave w': dtype('uint8'), 'street_name_37th pl s': dtype('uint8'), 'street_name_38th ave e': dtype('uint8'), 'street_name_38th ave ne': dtype('uint8'), 'street_name_38th ave s': dtype('uint8'), 'street_name_38th ave sw': dtype('uint8'), 'street_name_38th ct sw': dtype('uint8'), 'street_name_38th pl s': dtype('uint8'), 'street_name_39th ave e': dtype('uint8'), 'street_name_39th ave ne': dtype('uint8'), 'street_name_39th ave s': dtype('uint8'), 'street_name_39th ave sw': dtype('uint8'), 'street_name_39th ave w': dtype('uint8'), 'street_name_39th pl sw': dtype('uint8'), 'street_name_3rd ave n': dtype('uint8'), 'street_name_3rd ave ne': dtype('uint8'), 'street_name_3rd ave nw': dtype('uint8'), 'street_name_3rd ave s': dtype('uint8'), 'street_name_3rd ave w': dtype('uint8'), 'street_name_3rd ct sw': dtype('uint8'), 'street_name_3rd pl sw': dtype('uint8'), 'street_name_40th ave ne': dtype('uint8'), 'street_name_40th ave s': dtype('uint8'), 'street_name_40th ave sw': dtype('uint8'), 'street_name_40th ave w': dtype('uint8'), 'street_name_40th pl ne': dtype('uint8'), 'street_name_415th ave se': dtype('uint8'), 'street_name_41st ave e': dtype('uint8'), 'street_name_41st ave ne': dtype('uint8'), 'street_name_41st ave s': dtype('uint8'), 'street_name_41st ave sw': dtype('uint8'), 'street_name_41st ave w': dtype('uint8'), 'street_name_41st pl s': dtype('uint8'), 'street_name_41st pl sw': dtype('uint8'), 'street_name_423rd ave se': dtype('uint8'), 'street_name_424th ave se': dtype('uint8'), 'street_name_426th ave se': dtype('uint8'), 'street_name_426th pl se': dtype('uint8'), 'street_name_42nd ave e': dtype('uint8'), 'street_name_42nd ave ne': dtype('uint8'), 'street_name_42nd ave s': dtype('uint8'), 'street_name_42nd ave sw': dtype('uint8'), 'street_name_42nd ave w': dtype('uint8'), 'street_name_42nd ln s': dtype('uint8'), 'street_name_42nd pl s': dtype('uint8'), 'street_name_43rd ave ne': dtype('uint8'), 'street_name_43rd ave s': dtype('uint8'), 'street_name_43rd ave w': dtype('uint8'), 'street_name_43rd ct ne': dtype('uint8'), 'street_name_43rd pl s': dtype('uint8'), 'street_name_43rd st ne': dtype('uint8'), 'street_name_440th pl se': dtype('uint8'), 'street_name_44th ave ne': dtype('uint8'), 'street_name_44th ave s': dtype('uint8'), 'street_name_44th ave sw': dtype('uint8'), 'street_name_44th pl ne': dtype('uint8'), 'street_name_44th pl s': dtype('uint8'), 'street_name_453rd ave se': dtype('uint8'), 'street_name_458th ave se': dtype('uint8'), 'street_name_45th ave s': dtype('uint8'), 'street_name_45th ave sw': dtype('uint8'), 'street_name_45th ave w': dtype('uint8'), 'street_name_45th pl sw': dtype('uint8'), 'street_name_468th ave se': dtype('uint8'), 'street_name_46th ave ne': dtype('uint8'), 'street_name_46th ave s': dtype('uint8'), 'street_name_46th ave sw': dtype('uint8'), 'street_name_470th ave se': dtype('uint8'), 'street_name_47th ave ne': dtype('uint8'), 'street_name_47th ave s': dtype('uint8'), 'street_name_47th ave sw': dtype('uint8'), 'street_name_47th pl s': dtype('uint8'), 'street_name_47th st se': dtype('uint8'), 'street_name_48th ave ne': dtype('uint8'), 'street_name_48th ave s': dtype('uint8'), 'street_name_48th ave sw': dtype('uint8'), 'street_name_48th ct': dtype('uint8'), 'street_name_48th ct se': dtype('uint8'), 'street_name_48th pl s': dtype('uint8'), 'street_name_49th ave ne': dtype('uint8'), 'street_name_49th ave s': dtype('uint8'), 'street_name_49th ave sw': dtype('uint8'), 'street_name_49th pl ne': dtype('uint8'), 'street_name_49th pl sw': dtype('uint8'), 'street_name_4th ave n': dtype('uint8'), 'street_name_4th ave ne': dtype('uint8'), 'street_name_4th ave nw': dtype('uint8'), 'street_name_4th ave s': dtype('uint8'), 'street_name_4th ave sw': dtype('uint8'), 'street_name_4th ave w': dtype('uint8'), 'street_name_4th pl s': dtype('uint8'), 'street_name_4th pl sw': dtype('uint8'), 'street_name_4th st': dtype('uint8'), 'street_name_50th ave ne': dtype('uint8'), 'street_name_50th ave sw': dtype('uint8'), 'street_name_50th pl s': dtype('uint8'), 'street_name_51st ave ne': dtype('uint8'), 'street_name_51st ave s': dtype('uint8'), 'street_name_51st ave sw': dtype('uint8'), 'street_name_51st st ne': dtype('uint8'), 'street_name_52nd ave ne': dtype('uint8'), 'street_name_52nd ave s': dtype('uint8'), 'street_name_52nd terrace s': dtype('uint8'), 'street_name_53rd ave ne': dtype('uint8'), 'street_name_53rd ave sw': dtype('uint8'), 'street_name_54th ave s': dtype('uint8'), 'street_name_55th ave ne': dtype('uint8'), 'street_name_55th ave s': dtype('uint8'), 'street_name_55th ct se': dtype('uint8'), 'street_name_55th pl s': dtype('uint8'), 'street_name_55th st se': dtype('uint8'), 'street_name_56th ave ne': dtype('uint8'), 'street_name_56th ave s': dtype('uint8'), 'street_name_56th ct se': dtype('uint8'), 'street_name_57th ave ne': dtype('uint8'), 'street_name_57th ave s': dtype('uint8'), 'street_name_57th ave sw': dtype('uint8'), 'street_name_57th st se': dtype('uint8'), 'street_name_58th ave ne': dtype('uint8'), 'street_name_58th ave s': dtype('uint8'), 'street_name_58th pl s': dtype('uint8'), 'street_name_59th ave sw': dtype('uint8'), 'street_name_59th pl ne': dtype('uint8'), 'street_name_5th ave': dtype('uint8'), 'street_name_5th ave n': dtype('uint8'), 'street_name_5th ave ne': dtype('uint8'), 'street_name_5th ave nw': dtype('uint8'), 'street_name_5th ave sw': dtype('uint8'), 'street_name_5th ave w': dtype('uint8'), 'street_name_5th ln': dtype('uint8'), 'street_name_5th st': dtype('uint8'), 'street_name_5th st se': dtype('uint8'), 'street_name_60th ave s': dtype('uint8'), 'street_name_60th ave sw': dtype('uint8'), 'street_name_61st ave ne': dtype('uint8'), 'street_name_61st ave s': dtype('uint8'), 'street_name_61st pl ne': dtype('uint8'), 'street_name_62nd ave ne': dtype('uint8'), 'street_name_62nd ave s': dtype('uint8'), 'street_name_63rd ave ne': dtype('uint8'), 'street_name_63rd ave se': dtype('uint8'), 'street_name_63rd ave sw': dtype('uint8'), 'street_name_64th ave s': dtype('uint8'), 'street_name_65th ave ne': dtype('uint8'), 'street_name_65th ave s': dtype('uint8'), 'street_name_65th pl ne': dtype('uint8'), 'street_name_66th ave ne': dtype('uint8'), 'street_name_68th ave se': dtype('uint8'), 'street_name_69th ave ne': dtype('uint8'), 'street_name_69th pl s': dtype('uint8'), 'street_name_6th ave n': dtype('uint8'), 'street_name_6th ave ne': dtype('uint8'), 'street_name_6th ave nw': dtype('uint8'), 'street_name_6th ave s': dtype('uint8'), 'street_name_6th ave sw': dtype('uint8'), 'street_name_6th pl s': dtype('uint8'), 'street_name_6th pl sw': dtype('uint8'), 'street_name_6th st s': dtype('uint8'), 'street_name_6th st w': dtype('uint8'), 'street_name_70th ave se': dtype('uint8'), 'street_name_70th pl s': dtype('uint8'), 'street_name_71st ave ne': dtype('uint8'), 'street_name_72nd ave ne': dtype('uint8'), 'street_name_72nd ave se': dtype('uint8'), 'street_name_72nd ct ne': dtype('uint8'), 'street_name_73rd ave ne': dtype('uint8'), 'street_name_75th ave ne': dtype('uint8'), 'street_name_75th ave s': dtype('uint8'), 'street_name_76th ct ne': dtype('uint8'), 'street_name_76th pl ne': dtype('uint8'), 'street_name_77th ave ne': dtype('uint8'), 'street_name_77th ave se': dtype('uint8'), 'street_name_78th ave ne': dtype('uint8'), 'street_name_78th pl ne': dtype('uint8'), 'street_name_79th ave ne': dtype('uint8'), 'street_name_79th ave se': dtype('uint8'), 'street_name_79th pl ne': dtype('uint8'), 'street_name_79th way ne': dtype('uint8'), 'street_name_7th ave nw': dtype('uint8'), 'street_name_7th ave s': dtype('uint8'), 'street_name_7th ave sw': dtype('uint8'), 'street_name_7th ave w': dtype('uint8'), 'street_name_7th pl s': dtype('uint8'), 'street_name_7th pl sw': dtype('uint8'), 'street_name_7th st s': dtype('uint8'), 'street_name_7th st se': dtype('uint8'), 'street_name_80th ave ne': dtype('uint8'), 'street_name_81st ave ne': dtype('uint8'), 'street_name_81st ave se': dtype('uint8'), 'street_name_81st pl ne': dtype('uint8'), 'street_name_82nd ave ne': dtype('uint8'), 'street_name_82nd ave s': dtype('uint8'), 'street_name_83rd ave ne': dtype('uint8'), 'street_name_83rd ct ne': dtype('uint8'), 'street_name_83rd pl se': dtype('uint8'), 'street_name_84th ave ne': dtype('uint8'), 'street_name_84th ave s': dtype('uint8'), 'street_name_84th ave se': dtype('uint8'), 'street_name_84th pl se': dtype('uint8'), 'street_name_85th ave ne': dtype('uint8'), 'street_name_85th ave se': dtype('uint8'), 'street_name_85th pl ne': dtype('uint8'), 'street_name_86th ave ne': dtype('uint8'), 'street_name_86th ave se': dtype('uint8'), 'street_name_86th pl ne': dtype('uint8'), 'street_name_87th ave se': dtype('uint8'), 'street_name_88th ave ne': dtype('uint8'), 'street_name_88th ave s': dtype('uint8'), 'street_name_88th ave se': dtype('uint8'), 'street_name_89th ave ne': dtype('uint8'), 'street_name_89th ave se': dtype('uint8'), 'street_name_89th pl ne': dtype('uint8'), 'street_name_8th ave': dtype('uint8'), 'street_name_8th ave n': dtype('uint8'), 'street_name_8th ave ne': dtype('uint8'), 'street_name_8th ave nw': dtype('uint8'), 'street_name_8th ave s': dtype('uint8'), 'street_name_8th ave sw': dtype('uint8'), 'street_name_8th pl s': dtype('uint8'), 'street_name_90th ave se': dtype('uint8'), 'street_name_91st ave ne': dtype('uint8'), 'street_name_91st ave se': dtype('uint8'), 'street_name_91st pl ne': dtype('uint8'), 'street_name_92nd ave ne': dtype('uint8'), 'street_name_92nd pl se': dtype('uint8'), 'street_name_93rd ave ne': dtype('uint8'), 'street_name_93rd ave se': dtype('uint8'), 'street_name_93rd pl ne': dtype('uint8'), 'street_name_94th ave ne': dtype('uint8'), 'street_name_94th ave sw': dtype('uint8'), 'street_name_95th ave ne': dtype('uint8'), 'street_name_96th ave ne': dtype('uint8'), 'street_name_96th ave s': dtype('uint8'), 'street_name_97th ave ne': dtype('uint8'), 'street_name_97th ave se': dtype('uint8'), 'street_name_98th ave ne': dtype('uint8'), 'street_name_9th ave': dtype('uint8'), 'street_name_9th ave n': dtype('uint8'), 'street_name_9th ave ne': dtype('uint8'), 'street_name_9th ave nw': dtype('uint8'), 'street_name_9th ave s': dtype('uint8'), 'street_name_9th ave sw': dtype('uint8'), 'street_name_9th ave w': dtype('uint8'), 'street_name_9th st w': dtype('uint8'), 'street_name_a 10th pl ne': dtype('uint8'), 'street_name_a 23rd ave s': dtype('uint8'), 'street_name_a interlake ave n': dtype('uint8'), 'street_name_a st': dtype('uint8'), 'street_name_aberdeen ave ne': dtype('uint8'), 'street_name_aberdeen pl se': dtype('uint8'), 'street_name_access rd': dtype('uint8'), 'street_name_adair creek trail': dtype('uint8'), 'street_name_adair creek way ne': dtype('uint8'), 'street_name_alki ave sw': dtype('uint8'), 'street_name_almak ct nw': dtype('uint8'), 'street_name_alonzo ave nw': dtype('uint8'), 'street_name_alpine ridge pl nw': dtype('uint8'), 'street_name_alpine st se': dtype('uint8'), 'street_name_ambaum blvd s': dtype('uint8'), 'street_name_aqua way s': dtype('uint8'), 'street_name_arapahoe pl w': dtype('uint8'), 'street_name_arrowsmith ave s': dtype('uint8'), 'street_name_ash ave se': dtype('uint8'), 'street_name_ashworth ave n': dtype('uint8'), 'street_name_auburn ave s': dtype('uint8'), 'street_name_auburn enumclaw rd se': dtype('uint8'), 'street_name_aurora ave n': dtype('uint8'), 'street_name_autumn ave se': dtype('uint8'), 'street_name_avalon dr': dtype('uint8'), 'street_name_b 36th ave w': dtype('uint8'), 'street_name_b ne 130th st': dtype('uint8'), 'street_name_b nw 64th st': dtype('uint8'), 'street_name_bagley ave n': dtype('uint8'), 'street_name_bagley pl n': dtype('uint8'), 'street_name_bartlett ave ne': dtype('uint8'), 'street_name_beach dr sw': dtype('uint8'), 'street_name_beacon ave s': dtype('uint8'), 'street_name_beall rd sw': dtype('uint8'), 'street_name_bear creek rd ne': dtype('uint8'), 'street_name_belvidere ave sw': dtype('uint8'), 'street_name_bennett ave se': dtype('uint8'), 'street_name_better way loop se': dtype('uint8'), 'street_name_beveridge pl sw': dtype('uint8'), 'street_name_big leaf way ne': dtype('uint8'), 'street_name_big tree dr nw': dtype('uint8'), 'street_name_blaine ave ne': dtype('uint8'), 'street_name_blaine st': dtype('uint8'), 'street_name_boulevard pl': dtype('uint8'), 'street_name_boyer ave e': dtype('uint8'), 'street_name_boylston ave e': dtype('uint8'), 'street_name_brittany dr sw': dtype('uint8'), 'street_name_broadmoor dr e': dtype('uint8'), 'street_name_broadway ave ne': dtype('uint8'), 'street_name_bronson pl ne': dtype('uint8'), 'street_name_bronson way ne': dtype('uint8'), 'street_name_brooklyn ave ne': dtype('uint8'), 'street_name_brooktrails trail 14': dtype('uint8'), 'street_name_burke ave n': dtype('uint8'), 'street_name_burke-gilman trail': dtype('uint8'), 'street_name_butterworth rd': dtype('uint8'), 'street_name_c sw brandon st': dtype('uint8'), 'street_name_california ave sw': dtype('uint8'), 'street_name_camas ave ne': dtype('uint8'), 'street_name_carleton ave s': dtype('uint8'), 'street_name_carlyle hall rd n': dtype('uint8'), 'street_name_carnaby way': dtype('uint8'), 'street_name_cascade ave se': dtype('uint8'), 'street_name_cascade key': dtype('uint8'), 'street_name_cascadia ave s': dtype('uint8'), 'street_name_cedar ave s': dtype('uint8'), 'street_name_cedar dr se': dtype('uint8'), 'street_name_cedar to green river trail': dtype('uint8'), 'street_name_champagne point rd ne': dtype('uint8'), 'street_name_chanticleer ave se': dtype('uint8'), 'street_name_charlotte ave se': dtype('uint8'), 'street_name_chelan pl ne': dtype('uint8'), 'street_name_chicago blvd s': dtype('uint8'), 'street_name_columbia dr s': dtype('uint8'), 'street_name_columbia key': dtype('uint8'), 'street_name_condon way w': dtype('uint8'), 'street_name_conkling pl w': dtype('uint8'), 'street_name_corliss ave n': dtype('uint8'), 'street_name_corliss pl n': dtype('uint8'), 'street_name_cottonwood dr se': dtype('uint8'), 'street_name_crane dr w': dtype('uint8'), 'street_name_crescent key': dtype('uint8'), 'street_name_crestwood dr s': dtype('uint8'), 'street_name_crockett st': dtype('uint8'), 'street_name_curtis dr se': dtype('uint8'), 'street_name_cyprus ct nw': dtype('uint8'), 'street_name_cyrus ave nw': dtype('uint8'), 'street_name_d st se': dtype('uint8'), 'street_name_daeila dr': dtype('uint8'), 'street_name_dallas ave s': dtype('uint8'), 'street_name_davis ave s': dtype('uint8'), 'street_name_davis pl s': dtype('uint8'), 'street_name_dayton ave n': dtype('uint8'), 'street_name_dayton ave ne': dtype('uint8'), 'street_name_delmar dr e': dtype('uint8'), 'street_name_delridge way sw': dtype('uint8'), 'street_name_denny peak dr se': dtype('uint8'), 'street_name_densmore ave n': dtype('uint8'), 'street_name_dereks pl': dtype('uint8'), 'street_name_detwiller ln': dtype('uint8'), 'street_name_dexter ave n': dtype('uint8'), 'street_name_dibble ave nw': dtype('uint8'), 'street_name_dogwood ln se': dtype('uint8'), 'street_name_dogwood st se': dtype('uint8'), 'street_name_douglas ave se': dtype('uint8'), 'street_name_douglas ct': dtype('uint8'), 'street_name_duvall pl ne': dtype('uint8'), 'street_name_e 3rd st': dtype('uint8'), 'street_name_e alder st': dtype('uint8'), 'street_name_e aloha st': dtype('uint8'), 'street_name_e ames lake dr ne': dtype('uint8'), 'street_name_e beaver lake dr se': dtype('uint8'), 'street_name_e calhoun st': dtype('uint8'), 'street_name_e cherry st': dtype('uint8'), 'street_name_e columbia st': dtype('uint8'), 'street_name_e crest view loop se': dtype('uint8'), 'street_name_e denny way': dtype('uint8'), 'street_name_e guiberson st': dtype('uint8'), 'street_name_e harrison st': dtype('uint8'), 'street_name_e helen st': dtype('uint8'), 'street_name_e howe st': dtype('uint8'), 'street_name_e howell st': dtype('uint8'), 'street_name_e jefferson st': dtype('uint8'), 'street_name_e lake holm dr se': dtype('uint8'), 'street_name_e lake joy dr ne': dtype('uint8'), 'street_name_e lake morton dr se': dtype('uint8'), 'street_name_e lake sammamish pkwy ne': dtype('uint8'), 'street_name_e lake sammamish pkwy se': dtype('uint8'), 'street_name_e lake sammamish shore ln se': dtype('uint8'), 'street_name_e lynn st': dtype('uint8'), 'street_name_e maple st': dtype('uint8'), 'street_name_e marion st': dtype('uint8'), 'street_name_e mcgraw st': dtype('uint8'), 'street_name_e mercer st': dtype('uint8'), 'street_name_e mercer way': dtype('uint8'), 'street_name_e miller st': dtype('uint8'), 'street_name_e montlake pl e': dtype('uint8'), 'street_name_e morley way': dtype('uint8'), 'street_name_e roy st': dtype('uint8'), 'street_name_e rutherford st': dtype('uint8'), 'street_name_e spring lake dr se': dtype('uint8'), 'street_name_e terrace st': dtype('uint8'), 'street_name_e valley st': dtype('uint8'), 'street_name_e yesler way': dtype('uint8'), 'street_name_earl ave nw': dtype('uint8'), 'street_name_east lake sammamish trail': dtype('uint8'), 'street_name_eastlake ave e': dtype('uint8'), 'street_name_eastridge drive promenade': dtype('uint8'), 'street_name_edmonds ave ne': dtype('uint8'), 'street_name_edmonds pl ne': dtype('uint8'), 'street_name_edmonds way se': dtype('uint8'), 'street_name_elaine ave se': dtype('uint8'), 'street_name_elizabeth loop se': dtype('uint8'), 'street_name_elm ave se': dtype('uint8'), 'street_name_elma pl ne': dtype('uint8'), 'street_name_euclid ave': dtype('uint8'), 'street_name_evanston ave n': dtype('uint8'), 'street_name_evergreen point rd': dtype('uint8'), 'street_name_evergreen way se': dtype('uint8'), 'street_name_exeter ave ne': dtype('uint8'), 'street_name_f st se': dtype('uint8'), 'street_name_fairmount ave sw': dtype('uint8'), 'street_name_fairview ave e': dtype('uint8'), 'street_name_fairway ave se': dtype('uint8'), 'street_name_fairway dr ne': dtype('uint8'), 'street_name_fairway pl se': dtype('uint8'), 'street_name_farrelly st': dtype('uint8'), 'street_name_fauntlee crest sw': dtype('uint8'), 'street_name_fauntleroy way sw': dtype('uint8'), 'street_name_federal ave e': dtype('uint8'), 'street_name_ferncroft rd': dtype('uint8'), 'street_name_ferndale ave ne': dtype('uint8'), 'street_name_field pl ne': dtype('uint8'), 'street_name_fischer pl ne': dtype('uint8'), 'street_name_forest ave s': dtype('uint8'), 'street_name_forest ave se': dtype('uint8'), 'street_name_foster ave se': dtype('uint8'), 'street_name_francis ave n': dtype('uint8'), 'street_name_francis ct se': dtype('uint8'), 'street_name_franklin ave e': dtype('uint8'), 'street_name_franklin st': dtype('uint8'), 'street_name_fremont ave n': dtype('uint8'), 'street_name_fulton st': dtype('uint8'), 'street_name_g st se': dtype('uint8'), 'street_name_gallagher hill rd': dtype('uint8'), 'street_name_garden ave n': dtype('uint8'), 'street_name_garden pl s': dtype('uint8'), 'street_name_gatewood rd sw': dtype('uint8'), 'street_name_gilman ave w': dtype('uint8'), 'street_name_gilman dr w': dtype('uint8'), 'street_name_ginko st se': dtype('uint8'), 'street_name_glenwood ave se': dtype('uint8'), 'street_name_greenbrier ln': dtype('uint8'), 'street_name_greenlake pl': dtype('uint8'), 'street_name_greenwood ave n': dtype('uint8'), 'street_name_greenwood blvd sw': dtype('uint8'), 'street_name_griffin ave': dtype('uint8'), 'street_name_halladay st': dtype('uint8'), 'street_name_halleck ave sw': dtype('uint8'), 'street_name_hampton way': dtype('uint8'), 'street_name_hardie ave nw': dtype('uint8'), 'street_name_harding st': dtype('uint8'), 'street_name_harmony ln': dtype('uint8'), 'street_name_harrington cir ne': dtype('uint8'), 'street_name_harrington pl ne': dtype('uint8'), 'street_name_hazel ave n': dtype('uint8'), 'street_name_heather ave se': dtype('uint8'), 'street_name_highland dr': dtype('uint8'), 'street_name_highland dr se': dtype('uint8'), 'street_name_hillcrest ave sw': dtype('uint8'), 'street_name_hillside dr se': dtype('uint8'), 'street_name_holman rd nw': dtype('uint8'), 'street_name_hoquiam ave ne': dtype('uint8'), 'street_name_i pl ne': dtype('uint8'), 'street_name_idylwood dr sw': dtype('uint8'), 'street_name_ilwaco ave ne': dtype('uint8'), 'street_name_ilwaco pl ne': dtype('uint8'), 'street_name_index ave ne': dtype('uint8'), 'street_name_indian trail': dtype('uint8'), 'street_name_indigo pl nw': dtype('uint8'), 'street_name_inglewood pl ne': dtype('uint8'), 'street_name_interlake ave n': dtype('uint8'), 'street_name_interurban ave s': dtype('uint8'), 'street_name_island crest way': dtype('uint8'), 'street_name_island dr s': dtype('uint8'), 'street_name_j st se': dtype('uint8'), 'street_name_janet ave ne': dtype('uint8'), 'street_name_jasmine ave se': dtype('uint8'), 'street_name_jefferson ave ne': dtype('uint8'), 'street_name_jericho pl ne': dtype('uint8'), 'street_name_jill pl s': dtype('uint8'), 'street_name_jones ave nw': dtype('uint8'), 'street_name_juanita dr ne': dtype('uint8'), 'street_name_juanita woodinville way ne': dtype('uint8'), 'street_name_kanasket dr': dtype('uint8'), 'street_name_kelly rd ne': dtype('uint8'), 'street_name_kenlake pl ne': dtype('uint8'), 'street_name_kennedy ave se': dtype('uint8'), 'street_name_kennedy pl ne': dtype('uint8'), 'street_name_kennewick pl ne': dtype('uint8'), 'street_name_keystone pl n': dtype('uint8'), 'street_name_kirkwood pl n': dtype('uint8'), 'street_name_kitsap ave ne': dtype('uint8'), 'street_name_l st se': dtype('uint8'), 'street_name_lake city way ne': dtype('uint8'), 'street_name_lake washington blvd': dtype('uint8'), 'street_name_lake washington blvd e': dtype('uint8'), 'street_name_lake washington blvd ne': dtype('uint8'), 'street_name_lake washington blvd s': dtype('uint8'), 'street_name_lake washington blvd se': dtype('uint8'), 'street_name_lake wilderness country club dr se': dtype('uint8'), 'street_name_lakemont dr ne': dtype('uint8'), 'street_name_lanham pl sw': dtype('uint8'), 'street_name_larchmount dr ne': dtype('uint8'), 'street_name_latona ave ne': dtype('uint8'), 'street_name_letitia ave s': dtype('uint8'), 'street_name_lewis ln se': dtype('uint8'), 'street_name_lincoln ave ne': dtype('uint8'), 'street_name_lind ave nw': dtype('uint8'), 'street_name_linden ave n': dtype('uint8'), 'street_name_lingering pine dr nw': dtype('uint8'), 'street_name_loraine st': dtype('uint8'), 'street_name_lorentz pl n': dtype('uint8'), 'street_name_loyal way nw': dtype('uint8'), 'street_name_lynnwood ave ne': dtype('uint8'), 'street_name_m st ne': dtype('uint8'), 'street_name_magnolia blvd w': dtype('uint8'), 'street_name_main st': dtype('uint8'), 'street_name_manchester way': dtype('uint8'), 'street_name_mango st': dtype('uint8'), 'street_name_maple ridge way se': dtype('uint8'), 'street_name_marine view dr s': dtype('uint8'), 'street_name_marine view dr sw': dtype('uint8'), 'street_name_market st': dtype('uint8'), 'street_name_mars ave s': dtype('uint8'), 'street_name_marshall ave sw': dtype('uint8'), 'street_name_martin luther king jr way': dtype('uint8'), 'street_name_martin luther king jr way s': dtype('uint8'), 'street_name_mary ave nw': dtype('uint8'), 'street_name_mayfair ave n': dtype('uint8'), 'street_name_mcgilvra blvd e': dtype('uint8'), 'street_name_mcintosh ct se': dtype('uint8'), 'street_name_mclean rd sw': dtype('uint8'), 'street_name_meadow ave n': dtype('uint8'), 'street_name_meadow dr se': dtype('uint8'), 'street_name_medina cir': dtype('uint8'), 'street_name_mercerwood dr': dtype('uint8'), 'street_name_meridian ave n': dtype('uint8'), 'street_name_midvale ave n': dtype('uint8'), 'street_name_military rd s': dtype('uint8'), 'street_name_mill ave s': dtype('uint8'), 'street_name_mill pond loop': dtype('uint8'), 'street_name_milwaukee blvd s': dtype('uint8'), 'street_name_mink rd ne': dtype('uint8'), 'street_name_mitten ave se': dtype('uint8'), 'street_name_monroe ave ne': dtype('uint8'), 'street_name_monterey ave ne': dtype('uint8'), 'street_name_monterey ct ne': dtype('uint8'), 'street_name_montgomery ave': dtype('uint8'), 'street_name_morris ave s': dtype('uint8'), 'street_name_mountain view ave n': dtype('uint8'), 'street_name_mountain view blvd se': dtype('uint8'), 'street_name_mountain view ln nw': dtype('uint8'), 'street_name_mountain view pl sw': dtype('uint8'), 'street_name_mountain view rd ne': dtype('uint8'), 'street_name_mt baker pl ne': dtype('uint8'), 'street_name_mt defiance cir sw': dtype('uint8'), 'street_name_mt pilchuck ave nw': dtype('uint8'), 'street_name_mt quay dr nw': dtype('uint8'), 'street_name_mt si pl nw': dtype('uint8'), 'street_name_mt vista pl sw': dtype('uint8'), 'street_name_mulberry walk ne': dtype('uint8'), 'street_name_n 101st st': dtype('uint8'), 'street_name_n 104th st': dtype('uint8'), 'street_name_n 105th st': dtype('uint8'), 'street_name_n 115th st': dtype('uint8'), 'street_name_n 128th st': dtype('uint8'), 'street_name_n 130th st': dtype('uint8'), 'street_name_n 138th st': dtype('uint8'), 'street_name_n 143rd st': dtype('uint8'), 'street_name_n 147th st': dtype('uint8'), 'street_name_n 161st pl': dtype('uint8'), 'street_name_n 161st st': dtype('uint8'), 'street_name_n 167th st': dtype('uint8'), 'street_name_n 169th st': dtype('uint8'), 'street_name_n 175th st': dtype('uint8'), 'street_name_n 178th st': dtype('uint8'), 'street_name_n 183rd st': dtype('uint8'), 'street_name_n 185th st': dtype('uint8'), 'street_name_n 187th st': dtype('uint8'), 'street_name_n 192nd st': dtype('uint8'), 'street_name_n 193rd pl': dtype('uint8'), 'street_name_n 195th st': dtype('uint8'), 'street_name_n 1st st': dtype('uint8'), 'street_name_n 202nd st': dtype('uint8'), 'street_name_n 204th pl': dtype('uint8'), 'street_name_n 27th pl': dtype('uint8'), 'street_name_n 28th pl': dtype('uint8'), 'street_name_n 29th st': dtype('uint8'), 'street_name_n 33rd st': dtype('uint8'), 'street_name_n 36th st': dtype('uint8'), 'street_name_n 38th st': dtype('uint8'), 'street_name_n 41st pl': dtype('uint8'), 'street_name_n 42nd pl': dtype('uint8'), 'street_name_n 42nd st': dtype('uint8'), 'street_name_n 43rd st': dtype('uint8'), 'street_name_n 44th st': dtype('uint8'), 'street_name_n 45th st': dtype('uint8'), 'street_name_n 46th st': dtype('uint8'), 'street_name_n 47th st': dtype('uint8'), 'street_name_n 48th st': dtype('uint8'), 'street_name_n 50th st': dtype('uint8'), 'street_name_n 52nd st': dtype('uint8'), 'street_name_n 55th st': dtype('uint8'), 'street_name_n 59th st': dtype('uint8'), 'street_name_n 5th st': dtype('uint8'), 'street_name_n 60th st': dtype('uint8'), 'street_name_n 62nd st': dtype('uint8'), 'street_name_n 63rd st': dtype('uint8'), 'street_name_n 65th st': dtype('uint8'), 'street_name_n 66th st': dtype('uint8'), 'street_name_n 70th st': dtype('uint8'), 'street_name_n 71st st': dtype('uint8'), 'street_name_n 72nd st': dtype('uint8'), 'street_name_n 74th st': dtype('uint8'), 'street_name_n 75th st': dtype('uint8'), 'street_name_n 77th st': dtype('uint8'), 'street_name_n 79th st': dtype('uint8'), 'street_name_n 80th st': dtype('uint8'), 'street_name_n 83rd st': dtype('uint8'), 'street_name_n 84th st': dtype('uint8'), 'street_name_n 88th st': dtype('uint8'), 'street_name_n 90th st': dtype('uint8'), 'street_name_n 91st st': dtype('uint8'), 'street_name_n 93rd st': dtype('uint8'), 'street_name_n 94th st': dtype('uint8'), 'street_name_n 95th st': dtype('uint8'), 'street_name_n 97th st': dtype('uint8'), 'street_name_n bowdoin pl': dtype('uint8'), 'street_name_n fork rd se': dtype('uint8'), 'street_name_n lucas pl': dtype('uint8'), 'street_name_n mercer way': dtype('uint8'), 'street_name_n park ave n': dtype('uint8'), 'street_name_n park pl n': dtype('uint8'), 'street_name_n st ne': dtype('uint8'), 'street_name_nd way': dtype('uint8'), 'street_name_ne 100th pl': dtype('uint8'), 'street_name_ne 100th st': dtype('uint8'), 'street_name_ne 101st pl': dtype('uint8'), 'street_name_ne 102nd ct': dtype('uint8'), 'street_name_ne 102nd pl': dtype('uint8'), 'street_name_ne 102nd st': dtype('uint8'), 'street_name_ne 103rd pl': dtype('uint8'), 'street_name_ne 103rd st': dtype('uint8'), 'street_name_ne 104th st': dtype('uint8'), 'street_name_ne 105th ct': dtype('uint8'), 'street_name_ne 105th st': dtype('uint8'), 'street_name_ne 106th pl': dtype('uint8'), 'street_name_ne 106th st': dtype('uint8'), 'street_name_ne 107th pl': dtype('uint8'), 'street_name_ne 108th ln': dtype('uint8'), 'street_name_ne 108th st': dtype('uint8'), 'street_name_ne 109th way': dtype('uint8'), 'street_name_ne 10th pl': dtype('uint8'), 'street_name_ne 10th st': dtype('uint8'), 'street_name_ne 110th st': dtype('uint8'), 'street_name_ne 111th st': dtype('uint8'), 'street_name_ne 112th st': dtype('uint8'), 'street_name_ne 113th ct': dtype('uint8'), 'street_name_ne 113th st': dtype('uint8'), 'street_name_ne 115th st': dtype('uint8'), 'street_name_ne 115th way': dtype('uint8'), 'street_name_ne 116th pl': dtype('uint8'), 'street_name_ne 116th st': dtype('uint8'), 'street_name_ne 117th st': dtype('uint8'), 'street_name_ne 119th pl': dtype('uint8'), 'street_name_ne 11th ct': dtype('uint8'), 'street_name_ne 11th pl': dtype('uint8'), 'street_name_ne 11th st': dtype('uint8'), 'street_name_ne 120th st': dtype('uint8'), 'street_name_ne 121st ln': dtype('uint8'), 'street_name_ne 123rd st': dtype('uint8'), 'street_name_ne 124th st': dtype('uint8'), 'street_name_ne 125th ct': dtype('uint8'), 'street_name_ne 125th pl': dtype('uint8'), 'street_name_ne 125th st': dtype('uint8'), 'street_name_ne 126th pl': dtype('uint8'), 'street_name_ne 126th st': dtype('uint8'), 'street_name_ne 127th pl': dtype('uint8'), 'street_name_ne 127th way': dtype('uint8'), 'street_name_ne 128th st': dtype('uint8'), 'street_name_ne 129th pl': dtype('uint8'), 'street_name_ne 12th pl': dtype('uint8'), 'street_name_ne 12th st': dtype('uint8'), 'street_name_ne 130th st': dtype('uint8'), 'street_name_ne 131st st': dtype('uint8'), 'street_name_ne 131st terrace': dtype('uint8'), 'street_name_ne 132nd pl': dtype('uint8'), 'street_name_ne 133rd pl': dtype('uint8'), 'street_name_ne 133rd st': dtype('uint8'), 'street_name_ne 134th pl': dtype('uint8'), 'street_name_ne 134th st': dtype('uint8'), 'street_name_ne 135th st': dtype('uint8'), 'street_name_ne 136th pl': dtype('uint8'), 'street_name_ne 136th st': dtype('uint8'), 'street_name_ne 137th ct': dtype('uint8'), 'street_name_ne 137th st': dtype('uint8'), 'street_name_ne 138th ct': dtype('uint8'), 'street_name_ne 138th pl': dtype('uint8'), 'street_name_ne 138th st': dtype('uint8'), 'street_name_ne 138th way': dtype('uint8'), 'street_name_ne 139th pl': dtype('uint8'), 'street_name_ne 139th st': dtype('uint8'), 'street_name_ne 13th st': dtype('uint8'), 'street_name_ne 140th st': dtype('uint8'), 'street_name_ne 141st ct': dtype('uint8'), 'street_name_ne 141st pl': dtype('uint8'), 'street_name_ne 141st st': dtype('uint8'), 'street_name_ne 142nd pl': dtype('uint8'), 'street_name_ne 142nd st': dtype('uint8'), 'street_name_ne 142nd way': dtype('uint8'), 'street_name_ne 143rd ct': dtype('uint8'), 'street_name_ne 143rd pl': dtype('uint8'), 'street_name_ne 143rd st': dtype('uint8'), 'street_name_ne 144th pl': dtype('uint8'), 'street_name_ne 144th st': dtype('uint8'), 'street_name_ne 144th way': dtype('uint8'), 'street_name_ne 145th st': dtype('uint8'), 'street_name_ne 146th st': dtype('uint8'), 'street_name_ne 146th way': dtype('uint8'), 'street_name_ne 147th cir': dtype('uint8'), 'street_name_ne 147th ln': dtype('uint8'), 'street_name_ne 147th pl': dtype('uint8'), 'street_name_ne 147th st': dtype('uint8'), 'street_name_ne 148th ct': dtype('uint8'), 'street_name_ne 148th ln': dtype('uint8'), 'street_name_ne 148th pl': dtype('uint8'), 'street_name_ne 148th st': dtype('uint8'), 'street_name_ne 149th pl': dtype('uint8'), 'street_name_ne 14th ct': dtype('uint8'), 'street_name_ne 14th dr': dtype('uint8'), 'street_name_ne 14th st': dtype('uint8'), 'street_name_ne 150th ct': dtype('uint8'), 'street_name_ne 150th st': dtype('uint8'), 'street_name_ne 151st pl': dtype('uint8'), 'street_name_ne 152nd pl': dtype('uint8'), 'street_name_ne 153rd ct': dtype('uint8'), 'street_name_ne 153rd pl': dtype('uint8'), 'street_name_ne 153rd st': dtype('uint8'), 'street_name_ne 154th st': dtype('uint8'), 'street_name_ne 155th st': dtype('uint8'), 'street_name_ne 156th pl': dtype('uint8'), 'street_name_ne 156th st': dtype('uint8'), 'street_name_ne 157th pl': dtype('uint8'), 'street_name_ne 158th st': dtype('uint8'), 'street_name_ne 159th st': dtype('uint8'), 'street_name_ne 15th st': dtype('uint8'), 'street_name_ne 160th pl': dtype('uint8'), 'street_name_ne 160th st': dtype('uint8'), 'street_name_ne 162nd st': dtype('uint8'), 'street_name_ne 163rd st': dtype('uint8'), 'street_name_ne 165th pl': dtype('uint8'), 'street_name_ne 165th st': dtype('uint8'), 'street_name_ne 166th st': dtype('uint8'), 'street_name_ne 168th st': dtype('uint8'), 'street_name_ne 169th ct': dtype('uint8'), 'street_name_ne 169th pl': dtype('uint8'), 'street_name_ne 169th st': dtype('uint8'), 'street_name_ne 16th pl': dtype('uint8'), 'street_name_ne 16th st': dtype('uint8'), 'street_name_ne 171st ln': dtype('uint8'), 'street_name_ne 171st pl': dtype('uint8'), 'street_name_ne 171st st': dtype('uint8'), 'street_name_ne 172nd st': dtype('uint8'), 'street_name_ne 173rd st': dtype('uint8'), 'street_name_ne 174th st': dtype('uint8'), 'street_name_ne 175th st': dtype('uint8'), 'street_name_ne 176th pl': dtype('uint8'), 'street_name_ne 176th st': dtype('uint8'), 'street_name_ne 178th st': dtype('uint8'), 'street_name_ne 17th pl': dtype('uint8'), 'street_name_ne 180th st': dtype('uint8'), 'street_name_ne 181st st': dtype('uint8'), 'street_name_ne 182nd ct': dtype('uint8'), 'street_name_ne 182nd pl': dtype('uint8'), 'street_name_ne 183rd st': dtype('uint8'), 'street_name_ne 184th pl': dtype('uint8'), 'street_name_ne 184th st': dtype('uint8'), 'street_name_ne 185th st': dtype('uint8'), 'street_name_ne 186th st': dtype('uint8'), 'street_name_ne 187th st': dtype('uint8'), 'street_name_ne 189th st': dtype('uint8'), 'street_name_ne 18th pl': dtype('uint8'), 'street_name_ne 18th st': dtype('uint8'), 'street_name_ne 190th st': dtype('uint8'), 'street_name_ne 191st st': dtype('uint8'), 'street_name_ne 193rd pl': dtype('uint8'), 'street_name_ne 193rd st': dtype('uint8'), 'street_name_ne 194th st': dtype('uint8'), 'street_name_ne 195th st': dtype('uint8'), 'street_name_ne 196th st': dtype('uint8'), 'street_name_ne 197th st': dtype('uint8'), 'street_name_ne 198th st': dtype('uint8'), 'street_name_ne 199th st': dtype('uint8'), 'street_name_ne 19th dr': dtype('uint8'), 'street_name_ne 19th pl': dtype('uint8'), 'street_name_ne 19th st': dtype('uint8'), 'street_name_ne 1st st': dtype('uint8'), 'street_name_ne 200th pl': dtype('uint8'), 'street_name_ne 201st pl': dtype('uint8'), 'street_name_ne 201st st': dtype('uint8'), 'street_name_ne 202nd pl': dtype('uint8'), 'street_name_ne 202nd st': dtype('uint8'), 'street_name_ne 203rd pl': dtype('uint8'), 'street_name_ne 203rd st': dtype('uint8'), 'street_name_ne 204th pl': dtype('uint8'), 'street_name_ne 204th st': dtype('uint8'), 'street_name_ne 205th st': dtype('uint8'), 'street_name_ne 20th pl': dtype('uint8'), 'street_name_ne 20th st': dtype('uint8'), 'street_name_ne 21st pl': dtype('uint8'), 'street_name_ne 21st st': dtype('uint8'), 'street_name_ne 22nd ct': dtype('uint8'), 'street_name_ne 22nd pl': dtype('uint8'), 'street_name_ne 22nd st': dtype('uint8'), 'street_name_ne 23rd pl': dtype('uint8'), 'street_name_ne 23rd st': dtype('uint8'), 'street_name_ne 24th pl': dtype('uint8'), 'street_name_ne 24th st': dtype('uint8'), 'street_name_ne 25th ct': dtype('uint8'), 'street_name_ne 25th st': dtype('uint8'), 'street_name_ne 25th way': dtype('uint8'), 'street_name_ne 26th ct': dtype('uint8'), 'street_name_ne 26th pl': dtype('uint8'), 'street_name_ne 26th st': dtype('uint8'), 'street_name_ne 26th way': dtype('uint8'), 'street_name_ne 27th pl': dtype('uint8'), 'street_name_ne 27th st': dtype('uint8'), 'street_name_ne 28th st': dtype('uint8'), 'street_name_ne 29th ct': dtype('uint8'), 'street_name_ne 29th pl': dtype('uint8'), 'street_name_ne 29th st': dtype('uint8'), 'street_name_ne 2nd ct': dtype('uint8'), 'street_name_ne 2nd st': dtype('uint8'), 'street_name_ne 30th ct': dtype('uint8'), 'street_name_ne 30th pl': dtype('uint8'), 'street_name_ne 30th st': dtype('uint8'), 'street_name_ne 31st ct': dtype('uint8'), 'street_name_ne 31st st': dtype('uint8'), 'street_name_ne 32nd st': dtype('uint8'), 'street_name_ne 33rd st': dtype('uint8'), 'street_name_ne 34th ct': dtype('uint8'), 'street_name_ne 36th pl': dtype('uint8'), 'street_name_ne 38th pl': dtype('uint8'), 'street_name_ne 39th st': dtype('uint8'), 'street_name_ne 3rd pl': dtype('uint8'), 'street_name_ne 3rd way': dtype('uint8'), 'street_name_ne 40th ct': dtype('uint8'), 'street_name_ne 40th pl': dtype('uint8'), 'street_name_ne 40th st': dtype('uint8'), 'street_name_ne 41st st': dtype('uint8'), 'street_name_ne 42nd ct': dtype('uint8'), 'street_name_ne 42nd pl': dtype('uint8'), 'street_name_ne 42nd st': dtype('uint8'), 'street_name_ne 43rd ct': dtype('uint8'), 'street_name_ne 43rd st': dtype('uint8'), 'street_name_ne 44th st': dtype('uint8'), 'street_name_ne 45th st': dtype('uint8'), 'street_name_ne 46th st': dtype('uint8'), 'street_name_ne 48th pl': dtype('uint8'), 'street_name_ne 48th st': dtype('uint8'), 'street_name_ne 4th ct': dtype('uint8'), 'street_name_ne 4th pl': dtype('uint8'), 'street_name_ne 4th st': dtype('uint8'), 'street_name_ne 50th st': dtype('uint8'), 'street_name_ne 51st st': dtype('uint8'), 'street_name_ne 53rd st': dtype('uint8'), 'street_name_ne 54th st': dtype('uint8'), 'street_name_ne 54th way': dtype('uint8'), 'street_name_ne 55th st': dtype('uint8'), 'street_name_ne 56th st': dtype('uint8'), 'street_name_ne 57th ct': dtype('uint8'), 'street_name_ne 57th st': dtype('uint8'), 'street_name_ne 58th st': dtype('uint8'), 'street_name_ne 59th st': dtype('uint8'), 'street_name_ne 5th cir': dtype('uint8'), 'street_name_ne 5th pl': dtype('uint8'), 'street_name_ne 5th st': dtype('uint8'), 'street_name_ne 60th pl': dtype('uint8'), 'street_name_ne 60th st': dtype('uint8'), 'street_name_ne 61st st': dtype('uint8'), 'street_name_ne 62nd ct': dtype('uint8'), 'street_name_ne 62nd st': dtype('uint8'), 'street_name_ne 63rd st': dtype('uint8'), 'street_name_ne 64th pl': dtype('uint8'), 'street_name_ne 64th st': dtype('uint8'), 'street_name_ne 64th way': dtype('uint8'), 'street_name_ne 65th st': dtype('uint8'), 'street_name_ne 66th ct': dtype('uint8'), 'street_name_ne 67th ct': dtype('uint8'), 'street_name_ne 67th st': dtype('uint8'), 'street_name_ne 68th st': dtype('uint8'), 'street_name_ne 69th ct': dtype('uint8'), 'street_name_ne 6th cir': dtype('uint8'), 'street_name_ne 6th ct': dtype('uint8'), 'street_name_ne 6th pl': dtype('uint8'), 'street_name_ne 6th st': dtype('uint8'), 'street_name_ne 70th dr': dtype('uint8'), 'street_name_ne 70th st': dtype('uint8'), 'street_name_ne 71st ct': dtype('uint8'), 'street_name_ne 71st pl': dtype('uint8'), 'street_name_ne 72nd pl': dtype('uint8'), 'street_name_ne 72nd st': dtype('uint8'), 'street_name_ne 73rd st': dtype('uint8'), 'street_name_ne 73rd way': dtype('uint8'), 'street_name_ne 74th st': dtype('uint8'), 'street_name_ne 75th st': dtype('uint8'), 'street_name_ne 76th st': dtype('uint8'), 'street_name_ne 77th pl': dtype('uint8'), 'street_name_ne 78th st': dtype('uint8'), 'street_name_ne 78th way': dtype('uint8'), 'street_name_ne 79th st': dtype('uint8'), 'street_name_ne 7th pl': dtype('uint8'), 'street_name_ne 7th st': dtype('uint8'), 'street_name_ne 80th pl': dtype('uint8'), 'street_name_ne 80th st': dtype('uint8'), 'street_name_ne 81st st': dtype('uint8'), 'street_name_ne 83rd st': dtype('uint8'), 'street_name_ne 84th st': dtype('uint8'), 'street_name_ne 85th ct': dtype('uint8'), 'street_name_ne 85th st': dtype('uint8'), 'street_name_ne 86th ct': dtype('uint8'), 'street_name_ne 86th st': dtype('uint8'), 'street_name_ne 87th st': dtype('uint8'), 'street_name_ne 88th st': dtype('uint8'), 'street_name_ne 8th pl': dtype('uint8'), 'street_name_ne 8th st': dtype('uint8'), 'street_name_ne 90th st': dtype('uint8'), 'street_name_ne 91st st': dtype('uint8'), 'street_name_ne 92nd st': dtype('uint8'), 'street_name_ne 92nd way': dtype('uint8'), 'street_name_ne 93rd st': dtype('uint8'), 'street_name_ne 94th st': dtype('uint8'), 'street_name_ne 95th st': dtype('uint8'), 'street_name_ne 96th st': dtype('uint8'), 'street_name_ne 97th st': dtype('uint8'), 'street_name_ne 98th st': dtype('uint8'), 'street_name_ne 99th way': dtype('uint8'), 'street_name_ne 9th ct': dtype('uint8'), 'street_name_ne 9th dr': dtype('uint8'), 'street_name_ne adair rd': dtype('uint8'), 'street_name_ne anderson st': dtype('uint8'), 'street_name_ne belvoir pl': dtype('uint8'), 'street_name_ne birch st': dtype('uint8'), 'street_name_ne brockman pl': dtype('uint8'), 'street_name_ne cherry st': dtype('uint8'), 'street_name_ne cherry valley rd': dtype('uint8'), 'street_name_ne daphne st': dtype('uint8'), 'street_name_ne davis loop': dtype('uint8'), 'street_name_ne eagle way': dtype('uint8'), 'street_name_ne hickory ln': dtype('uint8'), 'street_name_ne high st': dtype('uint8'), 'street_name_ne juanita dr': dtype('uint8'), 'street_name_ne kennedy dr': dtype('uint8'), 'street_name_ne lake joy rd': dtype('uint8'), 'street_name_ne larkspur ln': dtype('uint8'), 'street_name_ne laurel crest ln': dtype('uint8'), 'street_name_ne marion ln': dtype('uint8'), 'street_name_ne marquette way': dtype('uint8'), 'street_name_ne miller st': dtype('uint8'), 'street_name_ne money creek rd': dtype('uint8'), 'street_name_ne morgan ln': dtype('uint8'), 'street_name_ne mulberry st': dtype('uint8'), 'street_name_ne natalie way': dtype('uint8'), 'street_name_ne nelson ln': dtype('uint8'), 'street_name_ne noble st': dtype('uint8'), 'street_name_ne park dr': dtype('uint8'), 'street_name_ne patterson way': dtype('uint8'), 'street_name_ne quail creek dr': dtype('uint8'), 'street_name_ne ravenna blvd': dtype('uint8'), 'street_name_ne redmond rd': dtype('uint8'), 'street_name_ne ring st': dtype('uint8'), 'street_name_ne salal pl': dtype('uint8'), 'street_name_ne stewart st': dtype('uint8'), 'street_name_ne sunset blvd': dtype('uint8'), 'street_name_ne tolt hill rd': dtype('uint8'), 'street_name_ne twinberry way': dtype('uint8'), 'street_name_ne union hill rd': dtype('uint8'), 'street_name_ne woodinville duvall rd': dtype('uint8'), 'street_name_nesbit ave n': dtype('uint8'), 'street_name_newport way nw': dtype('uint8'), 'street_name_nile ave ne': dtype('uint8'), 'street_name_nile pl ne': dtype('uint8'), 'street_name_normandy terrace sw': dtype('uint8'), 'street_name_nuthatch trail': dtype('uint8'), 'street_name_nw 103rd st': dtype('uint8'), 'street_name_nw 105th st': dtype('uint8'), 'street_name_nw 116th st': dtype('uint8'), 'street_name_nw 132nd st': dtype('uint8'), 'street_name_nw 166th st': dtype('uint8'), 'street_name_nw 175th ct': dtype('uint8'), 'street_name_nw 175th st': dtype('uint8'), 'street_name_nw 176th pl': dtype('uint8'), 'street_name_nw 178th st': dtype('uint8'), 'street_name_nw 181st st': dtype('uint8'), 'street_name_nw 183rd st': dtype('uint8'), 'street_name_nw 185th st': dtype('uint8'), 'street_name_nw 197th st': dtype('uint8'), 'street_name_nw 199th pl': dtype('uint8'), 'street_name_nw 200th ln': dtype('uint8'), 'street_name_nw 201st pl': dtype('uint8'), 'street_name_nw 41st st': dtype('uint8'), 'street_name_nw 44th st': dtype('uint8'), 'street_name_nw 48th st': dtype('uint8'), 'street_name_nw 49th st': dtype('uint8'), 'street_name_nw 50th st': dtype('uint8'), 'street_name_nw 52nd st': dtype('uint8'), 'street_name_nw 53rd st': dtype('uint8'), 'street_name_nw 54th st': dtype('uint8'), 'street_name_nw 56th st': dtype('uint8'), 'street_name_nw 58th st': dtype('uint8'), 'street_name_nw 59th st': dtype('uint8'), 'street_name_nw 5th st': dtype('uint8'), 'street_name_nw 60th st': dtype('uint8'), 'street_name_nw 62nd st': dtype('uint8'), 'street_name_nw 64th st': dtype('uint8'), 'street_name_nw 65th st': dtype('uint8'), 'street_name_nw 67th st': dtype('uint8'), 'street_name_nw 68th st': dtype('uint8'), 'street_name_nw 70th st': dtype('uint8'), 'street_name_nw 72nd st': dtype('uint8'), 'street_name_nw 73rd st': dtype('uint8'), 'street_name_nw 74th st': dtype('uint8'), 'street_name_nw 75th st': dtype('uint8'), 'street_name_nw 78th st': dtype('uint8'), 'street_name_nw 82nd st': dtype('uint8'), 'street_name_nw 84th st': dtype('uint8'), 'street_name_nw 85th st': dtype('uint8'), 'street_name_nw 86th st': dtype('uint8'), 'street_name_nw 87th st': dtype('uint8'), 'street_name_nw 88th st': dtype('uint8'), 'street_name_nw 89th st': dtype('uint8'), 'street_name_nw 90th pl': dtype('uint8'), 'street_name_nw 90th st': dtype('uint8'), 'street_name_nw 92nd st': dtype('uint8'), 'street_name_nw 95th st': dtype('uint8'), 'street_name_nw 96th st': dtype('uint8'), 'street_name_nw alpine crest way': dtype('uint8'), 'street_name_nw blue ridge dr': dtype('uint8'), 'street_name_nw boulder pl': dtype('uint8'), 'street_name_nw boulder way dr': dtype('uint8'), 'street_name_nw elford dr': dtype('uint8'), 'street_name_nw esplanade': dtype('uint8'), 'street_name_nw goode pl': dtype('uint8'), 'street_name_nw harmony way': dtype('uint8'), 'street_name_nw hidden ln': dtype('uint8'), 'street_name_nw inneswood dr': dtype('uint8'), 'street_name_nw market st': dtype('uint8'), 'street_name_nw neptune pl': dtype('uint8'), 'street_name_nw north beach dr': dtype('uint8'), 'street_name_nw pine cone dr': dtype('uint8'), 'street_name_nw sammamish rd': dtype('uint8'), 'street_name_nw stoney creek dr': dtype('uint8'), 'street_name_nye ave se': dtype('uint8'), 'street_name_o st ne': dtype('uint8'), 'street_name_o st se': dtype('uint8'), 'street_name_oak hill pl nw': dtype('uint8'), 'street_name_oakesdale ave sw': dtype('uint8'), 'street_name_oakhurst dr': dtype('uint8'), 'street_name_oakmont ave se': dtype('uint8'), 'street_name_ober strasse': dtype('uint8'), 'street_name_occidental ave s': dtype('uint8'), 'street_name_olympia ave se': dtype('uint8'), 'street_name_orcas ave ne': dtype('uint8'), 'street_name_orchard ave ne': dtype('uint8'), 'street_name_orchard ave se': dtype('uint8'), 'street_name_overlake dr w': dtype('uint8'), 'street_name_palatine ave n': dtype('uint8'), 'street_name_park ave n': dtype('uint8'), 'street_name_parkside dr e': dtype('uint8'), 'street_name_pasco pl ne': dtype('uint8'), 'street_name_petersen dr e': dtype('uint8'), 'street_name_phinney ave n': dtype('uint8'), 'street_name_piedmont pl w': dtype('uint8'), 'street_name_pike pl ne': dtype('uint8'), 'street_name_pike st ne': dtype('uint8'), 'street_name_pike st se': dtype('uint8'), 'street_name_pinehurst ave se': dtype('uint8'), 'street_name_powell pl s': dtype('uint8'), 'street_name_preston-fall city rd se': dtype('uint8'), 'street_name_princeton ave ne': dtype('uint8'), 'street_name_private rd': dtype('uint8'), 'street_name_prospect st': dtype('uint8'), 'street_name_puget blvd sw': dtype('uint8'), 'street_name_pullman ave': dtype('uint8'), 'street_name_quail creek way ne': dtype('uint8'), 'street_name_queen anne ave n': dtype('uint8'), 'street_name_quincy ave se': dtype('uint8'), 'street_name_r pl ne': dtype('uint8'), 'street_name_railroad ave': dtype('uint8'), 'street_name_rainier ave s': dtype('uint8'), 'street_name_randolph ave': dtype('uint8'), 'street_name_ravenna ave ne': dtype('uint8'), 'street_name_raye st': dtype('uint8'), 'street_name_raymond pl nw': dtype('uint8'), 'street_name_rd ave se': dtype('uint8'), 'street_name_redmond ave ne': dtype('uint8'), 'street_name_redmond-fall city rd ne': dtype('uint8'), 'street_name_redondo beach dr s': dtype('uint8'), 'street_name_regal st': dtype('uint8'), 'street_name_renton ave s': dtype('uint8'), 'street_name_renton issaquah rd se': dtype('uint8'), 'street_name_rhododendron dr se': dtype('uint8'), 'street_name_richmond beach dr nw': dtype('uint8'), 'street_name_ridge rd sw': dtype('uint8'), 'street_name_riverside dr se': dtype('uint8'), 'street_name_riviera pl sw': dtype('uint8'), 'street_name_roosevelt way ne': dtype('uint8'), 'street_name_rosemont blvd': dtype('uint8'), 'street_name_rosemont pl w': dtype('uint8'), 'street_name_roslyn pl n': dtype('uint8'), 'street_name_s 100th st': dtype('uint8'), 'street_name_s 101st st': dtype('uint8'), 'street_name_s 116th way': dtype('uint8'), 'street_name_s 117th st': dtype('uint8'), 'street_name_s 118th pl': dtype('uint8'), 'street_name_s 118th st': dtype('uint8'), 'street_name_s 119th st': dtype('uint8'), 'street_name_s 120th pl': dtype('uint8'), 'street_name_s 121st st': dtype('uint8'), 'street_name_s 123rd pl': dtype('uint8'), 'street_name_s 124th st': dtype('uint8'), 'street_name_s 125th st': dtype('uint8'), 'street_name_s 128th st': dtype('uint8'), 'street_name_s 129th st': dtype('uint8'), 'street_name_s 130th pl': dtype('uint8'), 'street_name_s 130th st': dtype('uint8'), 'street_name_s 131st pl': dtype('uint8'), 'street_name_s 132nd st': dtype('uint8'), 'street_name_s 134th st': dtype('uint8'), 'street_name_s 137th st': dtype('uint8'), 'street_name_s 138th st': dtype('uint8'), 'street_name_s 140th st': dtype('uint8'), 'street_name_s 142nd st': dtype('uint8'), 'street_name_s 144th st': dtype('uint8'), 'street_name_s 146th st': dtype('uint8'), 'street_name_s 148th st': dtype('uint8'), 'street_name_s 149th st': dtype('uint8'), 'street_name_s 150th st': dtype('uint8'), 'street_name_s 151st st': dtype('uint8'), 'street_name_s 15th st': dtype('uint8'), 'street_name_s 160th st': dtype('uint8'), 'street_name_s 163rd pl': dtype('uint8'), 'street_name_s 168th st': dtype('uint8'), 'street_name_s 170th st': dtype('uint8'), 'street_name_s 172nd st': dtype('uint8'), 'street_name_s 173rd st': dtype('uint8'), 'street_name_s 175th st': dtype('uint8'), 'street_name_s 179th st': dtype('uint8'), 'street_name_s 186th st': dtype('uint8'), 'street_name_s 187th ln': dtype('uint8'), 'street_name_s 188th st': dtype('uint8'), 'street_name_s 189th pl': dtype('uint8'), 'street_name_s 190th st': dtype('uint8'), 'street_name_s 192nd pl': dtype('uint8'), 'street_name_s 192nd st': dtype('uint8'), 'street_name_s 194th st': dtype('uint8'), 'street_name_s 198th st': dtype('uint8'), 'street_name_s 204th pl': dtype('uint8'), 'street_name_s 208th st': dtype('uint8'), 'street_name_s 210th pl': dtype('uint8'), 'street_name_s 211th st': dtype('uint8'), 'street_name_s 221st pl': dtype('uint8'), 'street_name_s 223rd st': dtype('uint8'), 'street_name_s 226th st': dtype('uint8'), 'street_name_s 227th pl': dtype('uint8'), 'street_name_s 229th pl': dtype('uint8'), 'street_name_s 22nd ct': dtype('uint8'), 'street_name_s 231st pl': dtype('uint8'), 'street_name_s 238th st': dtype('uint8'), 'street_name_s 239th pl': dtype('uint8'), 'street_name_s 239th st': dtype('uint8'), 'street_name_s 23rd st': dtype('uint8'), 'street_name_s 244th st': dtype('uint8'), 'street_name_s 245th pl': dtype('uint8'), 'street_name_s 247th pl': dtype('uint8'), 'street_name_s 253rd pl': dtype('uint8'), 'street_name_s 256th ct': dtype('uint8'), 'street_name_s 256th st': dtype('uint8'), 'street_name_s 257th st': dtype('uint8'), 'street_name_s 259th st': dtype('uint8'), 'street_name_s 261st pl': dtype('uint8'), 'street_name_s 262nd ct': dtype('uint8'), 'street_name_s 262nd st': dtype('uint8'), 'street_name_s 277th pl': dtype('uint8'), 'street_name_s 282nd pl': dtype('uint8'), 'street_name_s 284th pl': dtype('uint8'), 'street_name_s 286th pl': dtype('uint8'), 'street_name_s 288th pl': dtype('uint8'), 'street_name_s 289th pl': dtype('uint8'), 'street_name_s 289th st': dtype('uint8'), 'street_name_s 292nd st': dtype('uint8'), 'street_name_s 294th st': dtype('uint8'), 'street_name_s 295th pl': dtype('uint8'), 'street_name_s 299th pl': dtype('uint8'), 'street_name_s 299th st': dtype('uint8'), 'street_name_s 300th st': dtype('uint8'), 'street_name_s 303rd pl': dtype('uint8'), 'street_name_s 305th st': dtype('uint8'), 'street_name_s 309th st': dtype('uint8'), 'street_name_s 310th pl': dtype('uint8'), 'street_name_s 312th ln': dtype('uint8'), 'street_name_s 314th st': dtype('uint8'), 'street_name_s 316th st': dtype('uint8'), 'street_name_s 317th pl': dtype('uint8'), 'street_name_s 317th st': dtype('uint8'), 'street_name_s 328th ln': dtype('uint8'), 'street_name_s 328th st': dtype('uint8'), 'street_name_s 330th pl': dtype('uint8'), 'street_name_s 354th ln': dtype('uint8'), 'street_name_s 357th st': dtype('uint8'), 'street_name_s 359th st': dtype('uint8'), 'street_name_s 365th pl': dtype('uint8'), 'street_name_s 366th st': dtype('uint8'), 'street_name_s 368th pl': dtype('uint8'), 'street_name_s 373rd ct': dtype('uint8'), 'street_name_s 375th st': dtype('uint8'), 'street_name_s 378th st': dtype('uint8'), 'street_name_s 52nd st': dtype('uint8'), 'street_name_s angeline st': dtype('uint8'), 'street_name_s avon st': dtype('uint8'), 'street_name_s bennett st': dtype('uint8'), 'street_name_s bozeman st': dtype('uint8'), 'street_name_s brandon st': dtype('uint8'), 'street_name_s byron st': dtype('uint8'), 'street_name_s camano pl': dtype('uint8'), 'street_name_s charles st': dtype('uint8'), 'street_name_s chicago st': dtype('uint8'), 'street_name_s cloverdale st': dtype('uint8'), 'street_name_s creston st': dtype('uint8'), 'street_name_s dawson st': dtype('uint8'), 'street_name_s donovan st': dtype('uint8'), 'street_name_s eastwood dr': dtype('uint8'), 'street_name_s edmunds st': dtype('uint8'), 'street_name_s ferdinand st': dtype('uint8'), 'street_name_s findlay st': dtype('uint8'), 'street_name_s fletcher st': dtype('uint8'), 'street_name_s frontenac st': dtype('uint8'), 'street_name_s genesee st': dtype('uint8'), 'street_name_s graham st': dtype('uint8'), 'street_name_s hanford st': dtype('uint8'), 'street_name_s holden st': dtype('uint8'), 'street_name_s holly st': dtype('uint8'), 'street_name_s hudson st': dtype('uint8'), 'street_name_s irving st': dtype('uint8'), 'street_name_s juneau st': dtype('uint8'), 'street_name_s king st': dtype('uint8'), 'street_name_s lakeridge dr': dtype('uint8'), 'street_name_s laurel st': dtype('uint8'), 'street_name_s lilac st': dtype('uint8'), 'street_name_s lucile st': dtype('uint8'), 'street_name_s morgan st': dtype('uint8'), 'street_name_s norfolk st': dtype('uint8'), 'street_name_s norman st': dtype('uint8'), 'street_name_s orcas st': dtype('uint8'), 'street_name_s othello st': dtype('uint8'), 'street_name_s pearl st': dtype('uint8'), 'street_name_s plum st': dtype('uint8'), 'street_name_s raymond st': dtype('uint8'), 'street_name_s rose st': dtype('uint8'), 'street_name_s roxbury st': dtype('uint8'), 'street_name_s ryan st': dtype('uint8'), 'street_name_s star lake rd': dtype('uint8'), 'street_name_s sullivan st': dtype('uint8'), 'street_name_s washington st': dtype('uint8'), 'street_name_s webster st': dtype('uint8'), 'street_name_sahalee dr e': dtype('uint8'), 'street_name_sand point way ne': dtype('uint8'), 'street_name_saybrook dr ne': dtype('uint8'), 'street_name_scenic way': dtype('uint8'), 'street_name_schmitz park to alki trail': dtype('uint8'), 'street_name_se 100th st': dtype('uint8'), 'street_name_se 105th pl': dtype('uint8'), 'street_name_se 105th st': dtype('uint8'), 'street_name_se 10th cir': dtype('uint8'), 'street_name_se 10th pl': dtype('uint8'), 'street_name_se 10th st': dtype('uint8'), 'street_name_se 114th pl': dtype('uint8'), 'street_name_se 11th st': dtype('uint8'), 'street_name_se 121st pl': dtype('uint8'), 'street_name_se 123rd st': dtype('uint8'), 'street_name_se 128th st': dtype('uint8'), 'street_name_se 129th st': dtype('uint8'), 'street_name_se 12th st': dtype('uint8'), 'street_name_se 133rd st': dtype('uint8'), 'street_name_se 134th st': dtype('uint8'), 'street_name_se 135th pl': dtype('uint8'), 'street_name_se 135th st': dtype('uint8'), 'street_name_se 137th st': dtype('uint8'), 'street_name_se 137th terrace': dtype('uint8'), 'street_name_se 139th ct': dtype('uint8'), 'street_name_se 13th pl': dtype('uint8'), 'street_name_se 13th st': dtype('uint8'), 'street_name_se 141st st': dtype('uint8'), 'street_name_se 142nd pl': dtype('uint8'), 'street_name_se 142nd st': dtype('uint8'), 'street_name_se 143rd pl': dtype('uint8'), 'street_name_se 143rd st': dtype('uint8'), 'street_name_se 144th st': dtype('uint8'), 'street_name_se 149th st': dtype('uint8'), 'street_name_se 14th ln': dtype('uint8'), 'street_name_se 14th pl': dtype('uint8'), 'street_name_se 150th st': dtype('uint8'), 'street_name_se 151st st': dtype('uint8'), 'street_name_se 152nd st': dtype('uint8'), 'street_name_se 153rd st': dtype('uint8'), 'street_name_se 154th pl': dtype('uint8'), 'street_name_se 154th st': dtype('uint8'), 'street_name_se 155th pl': dtype('uint8'), 'street_name_se 158th pl': dtype('uint8'), 'street_name_se 158th st': dtype('uint8'), 'street_name_se 159th pl': dtype('uint8'), 'street_name_se 159th st': dtype('uint8'), 'street_name_se 15th pl': dtype('uint8'), 'street_name_se 15th st': dtype('uint8'), 'street_name_se 160th st': dtype('uint8'), 'street_name_se 161st pl': dtype('uint8'), 'street_name_se 161st st': dtype('uint8'), 'street_name_se 162nd st': dtype('uint8'), 'street_name_se 163rd st': dtype('uint8'), 'street_name_se 165th pl': dtype('uint8'), 'street_name_se 165th st': dtype('uint8'), 'street_name_se 167th st': dtype('uint8'), 'street_name_se 168th st': dtype('uint8'), 'street_name_se 170th pl': dtype('uint8'), 'street_name_se 170th st': dtype('uint8'), 'street_name_se 171st pl': dtype('uint8'), 'street_name_se 171st st': dtype('uint8'), 'street_name_se 172nd ct': dtype('uint8'), 'street_name_se 172nd pl': dtype('uint8'), 'street_name_se 173rd st': dtype('uint8'), 'street_name_se 174th st': dtype('uint8'), 'street_name_se 175th pl': dtype('uint8'), 'street_name_se 176th ct': dtype('uint8'), 'street_name_se 176th pl': dtype('uint8'), 'street_name_se 179th pl': dtype('uint8'), 'street_name_se 17th ct': dtype('uint8'), 'street_name_se 17th st': dtype('uint8'), 'street_name_se 180th st': dtype('uint8'), 'street_name_se 182nd st': dtype('uint8'), 'street_name_se 183rd pl': dtype('uint8'), 'street_name_se 184th pl': dtype('uint8'), 'street_name_se 186th pl': dtype('uint8'), 'street_name_se 187th pl': dtype('uint8'), 'street_name_se 189th pl': dtype('uint8'), 'street_name_se 18th pl': dtype('uint8'), 'street_name_se 18th st': dtype('uint8'), 'street_name_se 190th pl': dtype('uint8'), 'street_name_se 191st pl': dtype('uint8'), 'street_name_se 192nd dr': dtype('uint8'), 'street_name_se 193rd st': dtype('uint8'), 'street_name_se 195th pl': dtype('uint8'), 'street_name_se 196th st': dtype('uint8'), 'street_name_se 198th st': dtype('uint8'), 'street_name_se 199th pl': dtype('uint8'), 'street_name_se 19th st': dtype('uint8'), 'street_name_se 1st pl': dtype('uint8'), 'street_name_se 1st st': dtype('uint8'), 'street_name_se 200th st': dtype('uint8'), 'street_name_se 201st st': dtype('uint8'), 'street_name_se 202nd st': dtype('uint8'), 'street_name_se 203rd st': dtype('uint8'), 'street_name_se 205th st': dtype('uint8'), 'street_name_se 208th st': dtype('uint8'), 'street_name_se 20th st': dtype('uint8'), 'street_name_se 212th st': dtype('uint8'), 'street_name_se 214th st': dtype('uint8'), 'street_name_se 215th st': dtype('uint8'), 'street_name_se 216th st': dtype('uint8'), 'street_name_se 217th st': dtype('uint8'), 'street_name_se 218th pl': dtype('uint8'), 'street_name_se 218th st': dtype('uint8'), 'street_name_se 219th ct': dtype('uint8'), 'street_name_se 219th pl': dtype('uint8'), 'street_name_se 21st ct': dtype('uint8'), 'street_name_se 21st st': dtype('uint8'), 'street_name_se 220th pl': dtype('uint8'), 'street_name_se 221st pl': dtype('uint8'), 'street_name_se 222nd pl': dtype('uint8'), 'street_name_se 222nd st': dtype('uint8'), 'street_name_se 223rd ct': dtype('uint8'), 'street_name_se 223rd dr': dtype('uint8'), 'street_name_se 225th st': dtype('uint8'), 'street_name_se 227th st': dtype('uint8'), 'street_name_se 228th ct': dtype('uint8'), 'street_name_se 228th pl': dtype('uint8'), 'street_name_se 228th st': dtype('uint8'), 'street_name_se 229th st': dtype('uint8'), 'street_name_se 22nd pl': dtype('uint8'), 'street_name_se 22nd st': dtype('uint8'), 'street_name_se 22nd way': dtype('uint8'), 'street_name_se 230th pl': dtype('uint8'), 'street_name_se 232nd pl': dtype('uint8'), 'street_name_se 232nd st': dtype('uint8'), 'street_name_se 234th pl': dtype('uint8'), 'street_name_se 235th st': dtype('uint8'), 'street_name_se 236th pl': dtype('uint8'), 'street_name_se 238th ln': dtype('uint8'), 'street_name_se 239th st': dtype('uint8'), 'street_name_se 23rd pl': dtype('uint8'), 'street_name_se 23rd st': dtype('uint8'), 'street_name_se 241st st': dtype('uint8'), 'street_name_se 242nd pl': dtype('uint8'), 'street_name_se 242nd st': dtype('uint8'), 'street_name_se 243rd pl': dtype('uint8'), 'street_name_se 243rd st': dtype('uint8'), 'street_name_se 244th ct': dtype('uint8'), 'street_name_se 244th pl': dtype('uint8'), 'street_name_se 247th pl': dtype('uint8'), 'street_name_se 248th pl': dtype('uint8'), 'street_name_se 248th st': dtype('uint8'), 'street_name_se 249th pl': dtype('uint8'), 'street_name_se 24th pl': dtype('uint8'), 'street_name_se 24th st': dtype('uint8'), 'street_name_se 24th way': dtype('uint8'), 'street_name_se 251 pl': dtype('uint8'), 'street_name_se 251 st': dtype('uint8'), 'street_name_se 252 pl': dtype('uint8'), 'street_name_se 252nd pl': dtype('uint8'), 'street_name_se 253rd pl': dtype('uint8'), 'street_name_se 255th pl': dtype('uint8'), 'street_name_se 255th st': dtype('uint8'), 'street_name_se 256th pl': dtype('uint8'), 'street_name_se 257th st': dtype('uint8'), 'street_name_se 258th st': dtype('uint8'), 'street_name_se 259th pl': dtype('uint8'), 'street_name_se 25th st': dtype('uint8'), 'street_name_se 260th pl': dtype('uint8'), 'street_name_se 260th st': dtype('uint8'), 'street_name_se 261st ct': dtype('uint8'), 'street_name_se 261st pl': dtype('uint8'), 'street_name_se 262nd pl': dtype('uint8'), 'street_name_se 262nd st': dtype('uint8'), 'street_name_se 263rd ct': dtype('uint8'), 'street_name_se 263rd pl': dtype('uint8'), 'street_name_se 263rd st': dtype('uint8'), 'street_name_se 264th st': dtype('uint8'), 'street_name_se 265th st': dtype('uint8'), 'street_name_se 265th way': dtype('uint8'), 'street_name_se 266th st': dtype('uint8'), 'street_name_se 267th ct': dtype('uint8'), 'street_name_se 268th pl': dtype('uint8'), 'street_name_se 268th st': dtype('uint8'), 'street_name_se 269th st': dtype('uint8'), 'street_name_se 26th st': dtype('uint8'), 'street_name_se 270th pl': dtype('uint8'), 'street_name_se 271st pl': dtype('uint8'), 'street_name_se 271st st': dtype('uint8'), 'street_name_se 272nd pl': dtype('uint8'), 'street_name_se 272nd st': dtype('uint8'), 'street_name_se 275th ct': dtype('uint8'), 'street_name_se 275th pl': dtype('uint8'), 'street_name_se 276th ct': dtype('uint8'), 'street_name_se 276th pl': dtype('uint8'), 'street_name_se 277th pl': dtype('uint8'), 'street_name_se 277th st': dtype('uint8'), 'street_name_se 278th pl': dtype('uint8'), 'street_name_se 278th st': dtype('uint8'), 'street_name_se 278th way': dtype('uint8'), 'street_name_se 279th st': dtype('uint8'), 'street_name_se 27th pl': dtype('uint8'), 'street_name_se 27th st': dtype('uint8'), 'street_name_se 280th pl': dtype('uint8'), 'street_name_se 281st ct': dtype('uint8'), 'street_name_se 281st st': dtype('uint8'), 'street_name_se 282nd pl': dtype('uint8'), 'street_name_se 282nd st': dtype('uint8'), 'street_name_se 283rd st': dtype('uint8'), 'street_name_se 286 st': dtype('uint8'), 'street_name_se 288th st': dtype('uint8'), 'street_name_se 28th ct': dtype('uint8'), 'street_name_se 28th ln': dtype('uint8'), 'street_name_se 28th st': dtype('uint8'), 'street_name_se 290th ct': dtype('uint8'), 'street_name_se 290th pl': dtype('uint8'), 'street_name_se 291st st': dtype('uint8'), 'street_name_se 294th pl': dtype('uint8'), 'street_name_se 295th st': dtype('uint8'), 'street_name_se 298th pl': dtype('uint8'), 'street_name_se 299th way': dtype('uint8'), 'street_name_se 29th ct': dtype('uint8'), 'street_name_se 29th st': dtype('uint8'), 'street_name_se 2nd pl': dtype('uint8'), 'street_name_se 2nd st': dtype('uint8'), 'street_name_se 300th st': dtype('uint8'), 'street_name_se 300th way': dtype('uint8'), 'street_name_se 301st st': dtype('uint8'), 'street_name_se 302nd ct': dtype('uint8'), 'street_name_se 302nd st': dtype('uint8'), 'street_name_se 306th ct': dtype('uint8'), 'street_name_se 306th pl': dtype('uint8'), 'street_name_se 307th ln': dtype('uint8'), 'street_name_se 307th pl': dtype('uint8'), 'street_name_se 308 ct': dtype('uint8'), 'street_name_se 308th pl': dtype('uint8'), 'street_name_se 30th st': dtype('uint8'), 'street_name_se 310th st': dtype('uint8'), 'street_name_se 315th pl': dtype('uint8'), 'street_name_se 318th pl': dtype('uint8'), 'street_name_se 319th ct': dtype('uint8'), 'street_name_se 319th pl': dtype('uint8'), 'street_name_se 31st pl': dtype('uint8'), 'street_name_se 320th pl': dtype('uint8'), 'street_name_se 322nd pl': dtype('uint8'), 'street_name_se 323rd pl': dtype('uint8'), 'street_name_se 324th st': dtype('uint8'), 'street_name_se 325th pl': dtype('uint8'), 'street_name_se 329th st': dtype('uint8'), 'street_name_se 32nd way': dtype('uint8'), 'street_name_se 330th st': dtype('uint8'), 'street_name_se 333rd pl': dtype('uint8'), 'street_name_se 334th st': dtype('uint8'), 'street_name_se 33rd st': dtype('uint8'), 'street_name_se 342nd st': dtype('uint8'), 'street_name_se 35th st': dtype('uint8'), 'street_name_se 36th pl': dtype('uint8'), 'street_name_se 36th st': dtype('uint8'), 'street_name_se 37th st': dtype('uint8'), 'street_name_se 37th way': dtype('uint8'), 'street_name_se 383rd st': dtype('uint8'), 'street_name_se 384th st': dtype('uint8'), 'street_name_se 38th pl': dtype('uint8'), 'street_name_se 39th ct': dtype('uint8'), 'street_name_se 39th pl': dtype('uint8'), 'street_name_se 39th st': dtype('uint8'), 'street_name_se 401st st': dtype('uint8'), 'street_name_se 40th pl': dtype('uint8'), 'street_name_se 40th st': dtype('uint8'), 'street_name_se 416th st': dtype('uint8'), 'street_name_se 41st dr': dtype('uint8'), 'street_name_se 41st st': dtype('uint8'), 'street_name_se 42nd ct': dtype('uint8'), 'street_name_se 42nd pl': dtype('uint8'), 'street_name_se 42nd st': dtype('uint8'), 'street_name_se 43rd ct': dtype('uint8'), 'street_name_se 43rd pl': dtype('uint8'), 'street_name_se 43rd st': dtype('uint8'), 'street_name_se 44th ct': dtype('uint8'), 'street_name_se 44th pl': dtype('uint8'), 'street_name_se 44th st': dtype('uint8'), 'street_name_se 44th way': dtype('uint8'), 'street_name_se 45th ct': dtype('uint8'), 'street_name_se 45th pl': dtype('uint8'), 'street_name_se 45th st': dtype('uint8'), 'street_name_se 45th way': dtype('uint8'), 'street_name_se 46th ln': dtype('uint8'), 'street_name_se 46th st': dtype('uint8'), 'street_name_se 47th ln': dtype('uint8'), 'street_name_se 47th st': dtype('uint8'), 'street_name_se 47th way': dtype('uint8'), 'street_name_se 48th dr': dtype('uint8'), 'street_name_se 496th pl': dtype('uint8'), 'street_name_se 4th pl': dtype('uint8'), 'street_name_se 4th st': dtype('uint8'), 'street_name_se 50th pl': dtype('uint8'), 'street_name_se 50th st': dtype('uint8'), 'street_name_se 52nd pl': dtype('uint8'), 'street_name_se 52nd st': dtype('uint8'), 'street_name_se 54th pl': dtype('uint8'), 'street_name_se 55th pl': dtype('uint8'), 'street_name_se 56th st': dtype('uint8'), 'street_name_se 57th pl': dtype('uint8'), 'street_name_se 58th pl': dtype('uint8'), 'street_name_se 58th st': dtype('uint8'), 'street_name_se 5th pl': dtype('uint8'), 'street_name_se 5th st': dtype('uint8'), 'street_name_se 60th st': dtype('uint8'), 'street_name_se 61st pl': dtype('uint8'), 'street_name_se 61st st': dtype('uint8'), 'street_name_se 62nd st': dtype('uint8'), 'street_name_se 63rd pl': dtype('uint8'), 'street_name_se 63rd st': dtype('uint8'), 'street_name_se 64th pl': dtype('uint8'), 'street_name_se 65th pl': dtype('uint8'), 'street_name_se 65th st': dtype('uint8'), 'street_name_se 66th st': dtype('uint8'), 'street_name_se 67th pl': dtype('uint8'), 'street_name_se 67th st': dtype('uint8'), 'street_name_se 68th st': dtype('uint8'), 'street_name_se 69th way': dtype('uint8'), 'street_name_se 6th st': dtype('uint8'), 'street_name_se 70th pl': dtype('uint8'), 'street_name_se 70th st': dtype('uint8'), 'street_name_se 71st pl': dtype('uint8'), 'street_name_se 71st st': dtype('uint8'), 'street_name_se 72nd pl': dtype('uint8'), 'street_name_se 72nd st': dtype('uint8'), 'street_name_se 73rd pl': dtype('uint8'), 'street_name_se 76th st': dtype('uint8'), 'street_name_se 77th ct': dtype('uint8'), 'street_name_se 77th st': dtype('uint8'), 'street_name_se 78th st': dtype('uint8'), 'street_name_se 79th ct': dtype('uint8'), 'street_name_se 79th pl': dtype('uint8'), 'street_name_se 80th st': dtype('uint8'), 'street_name_se 80th way': dtype('uint8'), 'street_name_se 82nd ct': dtype('uint8'), 'street_name_se 82nd pl': dtype('uint8'), 'street_name_se 82nd st': dtype('uint8'), 'street_name_se 83rd st': dtype('uint8'), 'street_name_se 84th st': dtype('uint8'), 'street_name_se 85th pl': dtype('uint8'), 'street_name_se 8th st': dtype('uint8'), 'street_name_se 92nd st': dtype('uint8'), 'street_name_se 94th st': dtype('uint8'), 'street_name_se 98th pl': dtype('uint8'), 'street_name_se 9th st': dtype('uint8'), 'street_name_se andrews st': dtype('uint8'), 'street_name_se ash st': dtype('uint8'), 'street_name_se auburn-black diamond rd': dtype('uint8'), 'street_name_se bush st': dtype('uint8'), 'street_name_se carmichael st': dtype('uint8'), 'street_name_se cougar mountain way': dtype('uint8'), 'street_name_se covington sawyer rd': dtype('uint8'), 'street_name_se curtis dr': dtype('uint8'), 'street_name_se edgewick rd': dtype('uint8'), 'street_name_se english st': dtype('uint8'), 'street_name_se fairwood blvd': dtype('uint8'), 'street_name_se garden ct': dtype('uint8'), 'street_name_se high point way': dtype('uint8'), 'street_name_se isley st': dtype('uint8'), 'street_name_se issaquah-fall city rd': dtype('uint8'), 'street_name_se jay ct': dtype('uint8'), 'street_name_se jones rd': dtype('uint8'), 'street_name_se kendall peak st': dtype('uint8'), 'street_name_se lake retreat s dr': dtype('uint8'), 'street_name_se leitz st': dtype('uint8'), 'street_name_se maple valley hwy': dtype('uint8'), 'street_name_se mirrormont blvd': dtype('uint8'), 'street_name_se mirrormont dr': dtype('uint8'), 'street_name_se mirrormont pl': dtype('uint8'), 'street_name_se moffat st': dtype('uint8'), 'street_name_se mt si rd': dtype('uint8'), 'street_name_se mud mountain rd': dtype('uint8'), 'street_name_se newport way': dtype('uint8'), 'street_name_se odell st': dtype('uint8'), 'street_name_se ridge st': dtype('uint8'), 'street_name_se salal st': dtype('uint8'), 'street_name_se shoreland dr': dtype('uint8'), 'street_name_se sorenson st': dtype('uint8'), 'street_name_se tanner rd': dtype('uint8'), 'street_name_se terrace st': dtype('uint8'), 'street_name_se wax rd': dtype('uint8'), 'street_name_seattle blvd s': dtype('uint8'), 'street_name_seaview ave nw': dtype('uint8'), 'street_name_sedgewick ln': dtype('uint8'), 'street_name_semanski st': dtype('uint8'), 'street_name_seward park ave s': dtype('uint8'), 'street_name_shaffer ave s': dtype('uint8'), 'street_name_shangri-la way nw': dtype('uint8'), 'street_name_shattuck ave s': dtype('uint8'), 'street_name_shelton ave ne': dtype('uint8'), 'street_name_shelton ct ne': dtype('uint8'), 'street_name_shenandoah dr e': dtype('uint8'), 'street_name_shorecrest dr sw': dtype('uint8'), 'street_name_shoreland dr s': dtype('uint8'), 'street_name_silent creek ave se': dtype('uint8'), 'street_name_simonds rd ne': dtype('uint8'), 'street_name_slater ave ne': dtype('uint8'), 'street_name_snowberry ave se': dtype('uint8'), 'street_name_somerset ave se': dtype('uint8'), 'street_name_somerset dr se': dtype('uint8'), 'street_name_somerset ln se': dtype('uint8'), 'street_name_southeast 281st court': dtype('uint8'), 'street_name_standring ct sw': dtype('uint8'), 'street_name_stanford ct': dtype('uint8'), 'street_name_stephens ave': dtype('uint8'), 'street_name_stone ave n': dtype('uint8'), 'street_name_stroud ave n': dtype('uint8'), 'street_name_summerhill ridge dr nw': dtype('uint8'), 'street_name_sunnyside ave n': dtype('uint8'), 'street_name_sunrise dr': dtype('uint8'), 'street_name_sunrise loop trail': dtype('uint8'), 'street_name_sunset ct nw': dtype('uint8'), 'street_name_sw 101st st': dtype('uint8'), 'street_name_sw 102nd st': dtype('uint8'), 'street_name_sw 106th st': dtype('uint8'), 'street_name_sw 107th st': dtype('uint8'), 'street_name_sw 108th st': dtype('uint8'), 'street_name_sw 10th st': dtype('uint8'), 'street_name_sw 110th pl': dtype('uint8'), 'street_name_sw 111th pl': dtype('uint8'), 'street_name_sw 118th st': dtype('uint8'), 'street_name_sw 129th st': dtype('uint8'), 'street_name_sw 12th st': dtype('uint8'), 'street_name_sw 130th st': dtype('uint8'), 'street_name_sw 132nd st': dtype('uint8'), 'street_name_sw 134th st': dtype('uint8'), 'street_name_sw 136th st': dtype('uint8'), 'street_name_sw 137th st': dtype('uint8'), 'street_name_sw 138th st': dtype('uint8'), 'street_name_sw 142nd st': dtype('uint8'), 'street_name_sw 146th st': dtype('uint8'), 'street_name_sw 148th st': dtype('uint8'), 'street_name_sw 149th st': dtype('uint8'), 'street_name_sw 150th st': dtype('uint8'), 'street_name_sw 152nd st': dtype('uint8'), 'street_name_sw 154th st': dtype('uint8'), 'street_name_sw 156th st': dtype('uint8'), 'street_name_sw 164th pl': dtype('uint8'), 'street_name_sw 164th st': dtype('uint8'), 'street_name_sw 170th st': dtype('uint8'), 'street_name_sw 171st st': dtype('uint8'), 'street_name_sw 172nd st': dtype('uint8'), 'street_name_sw 174th st': dtype('uint8'), 'street_name_sw 175th st': dtype('uint8'), 'street_name_sw 181st st': dtype('uint8'), 'street_name_sw 183rd st': dtype('uint8'), 'street_name_sw 185th st': dtype('uint8'), 'street_name_sw 191st st': dtype('uint8'), 'street_name_sw 197th st': dtype('uint8'), 'street_name_sw 216th st': dtype('uint8'), 'street_name_sw 257th st': dtype('uint8'), 'street_name_sw 258th ct': dtype('uint8'), 'street_name_sw 259th st': dtype('uint8'), 'street_name_sw 292nd st': dtype('uint8'), 'street_name_sw 305th st': dtype('uint8'), 'street_name_sw 307th st': dtype('uint8'), 'street_name_sw 313th st': dtype('uint8'), 'street_name_sw 314th pl': dtype('uint8'), 'street_name_sw 316th pl': dtype('uint8'), 'street_name_sw 316th st': dtype('uint8'), 'street_name_sw 322nd pl': dtype('uint8'), 'street_name_sw 322nd st': dtype('uint8'), 'street_name_sw 323rd st': dtype('uint8'), 'street_name_sw 325th pl': dtype('uint8'), 'street_name_sw 327th pl': dtype('uint8'), 'street_name_sw 327th st': dtype('uint8'), 'street_name_sw 328th st': dtype('uint8'), 'street_name_sw 330th ct': dtype('uint8'), 'street_name_sw 333rd ct': dtype('uint8'), 'street_name_sw 335th st': dtype('uint8'), 'street_name_sw 337th pl': dtype('uint8'), 'street_name_sw 337th st': dtype('uint8'), 'street_name_sw 338th st': dtype('uint8'), 'street_name_sw 340th st': dtype('uint8'), 'street_name_sw 342nd pl': dtype('uint8'), 'street_name_sw 344th pl': dtype('uint8'), 'street_name_sw 345th st': dtype('uint8'), 'street_name_sw 346th pl': dtype('uint8'), 'street_name_sw 346th st': dtype('uint8'), 'street_name_sw 347th pl': dtype('uint8'), 'street_name_sw 349th pl': dtype('uint8'), 'street_name_sw 349th st': dtype('uint8'), 'street_name_sw 351st st': dtype('uint8'), 'street_name_sw 354th pl': dtype('uint8'), 'street_name_sw 361st st': dtype('uint8'), 'street_name_sw admiral way': dtype('uint8'), 'street_name_sw arroyo dr': dtype('uint8'), 'street_name_sw austin st': dtype('uint8'), 'street_name_sw avalon way': dtype('uint8'), 'street_name_sw bachelor rd': dtype('uint8'), 'street_name_sw barton st': dtype('uint8'), 'street_name_sw bataan st': dtype('uint8'), 'street_name_sw brandon st': dtype('uint8'), 'street_name_sw cloverdale st': dtype('uint8'), 'street_name_sw concord st': dtype('uint8'), 'street_name_sw cycle ct': dtype('uint8'), 'street_name_sw dawson st': dtype('uint8'), 'street_name_sw dock st': dtype('uint8'), 'street_name_sw elmgrove st': dtype('uint8'), 'street_name_sw fernwood st': dtype('uint8'), 'street_name_sw findlay st': dtype('uint8'), 'street_name_sw forest dr': dtype('uint8'), 'street_name_sw forney st': dtype('uint8'), 'street_name_sw gibson ln': dtype('uint8'), 'street_name_sw henderson st': dtype('uint8'), 'street_name_sw hill st': dtype('uint8'), 'street_name_sw hinds st': dtype('uint8'), 'street_name_sw holden st': dtype('uint8'), 'street_name_sw ida st': dtype('uint8'), 'street_name_sw kenyon st': dtype('uint8'), 'street_name_sw manning st': dtype('uint8'), 'street_name_sw maple way': dtype('uint8'), 'street_name_sw marguerite ct': dtype('uint8'), 'street_name_sw maury park rd': dtype('uint8'), 'street_name_sw morgan st': dtype('uint8'), 'street_name_sw myrtle st': dtype('uint8'), 'street_name_sw orchard st': dtype('uint8'), 'street_name_sw orleans st': dtype('uint8'), 'street_name_sw othello st': dtype('uint8'), 'street_name_sw portland ct': dtype('uint8'), 'street_name_sw portland st': dtype('uint8'), 'street_name_sw pritchard st': dtype('uint8'), 'street_name_sw quartermaster dr': dtype('uint8'), 'street_name_sw seola ln': dtype('uint8'), 'street_name_sw sullivan st': dtype('uint8'), 'street_name_sw trenton st': dtype('uint8'), 'street_name_sw waite st': dtype('uint8'), 'street_name_sw walker st': dtype('uint8'), 'street_name_sw webster st': dtype('uint8'), 'street_name_sw willow st': dtype('uint8'), 'street_name_sword fern ave se': dtype('uint8'), 'street_name_sycamore ave nw': dtype('uint8'), 'street_name_sylvester rd sw': dtype('uint8'), 'street_name_t st nw': dtype('uint8'), 'street_name_tacoma ave ne': dtype('uint8'), 'street_name_talbot rd s': dtype('uint8'), 'street_name_taylor ave s': dtype('uint8'), 'street_name_templeton ave se': dtype('uint8'), 'street_name_th ave ne': dtype('uint8'), 'street_name_th ave se': dtype('uint8'), 'street_name_th ave sw': dtype('uint8'), 'street_name_th ln ne': dtype('uint8'), 'street_name_thackeray pl ne': dtype('uint8'), 'street_name_thelma st': dtype('uint8'), 'street_name_thompson ave se': dtype('uint8'), 'street_name_tiger mountain rd se': dtype('uint8'), 'street_name_timberlane dr se': dtype('uint8'), 'street_name_todd pl': dtype('uint8'), 'street_name_tolt pipeline trail': dtype('uint8'), 'street_name_tramp harbor rd sw': dtype('uint8'), 'street_name_trossachs blvd se': dtype('uint8'), 'street_name_tye river rd ne': dtype('uint8'), 'street_name_u st nw': dtype('uint8'), 'street_name_union ave ne': dtype('uint8'), 'street_name_union ave se': dtype('uint8'), 'street_name_university view pl ne': dtype('uint8'), 'street_name_upper preston rd se': dtype('uint8'), 'street_name_v ct se': dtype('uint8'), 'street_name_valley view trail': dtype('uint8'), 'street_name_valmay ave nw': dtype('uint8'), 'street_name_vashon ave': dtype('uint8'), 'street_name_vashon hwy sw': dtype('uint8'), 'street_name_venn ave se': dtype('uint8'), 'street_name_victor st': dtype('uint8'), 'street_name_victory ln ne': dtype('uint8'), 'street_name_view ln ne': dtype('uint8'), 'street_name_vineyard crest': dtype('uint8'), 'street_name_w 2nd st': dtype('uint8'), 'street_name_w ames lake dr ne': dtype('uint8'), 'street_name_w armour st': dtype('uint8'), 'street_name_w barrett st': dtype('uint8'), 'street_name_w bertona st': dtype('uint8'), 'street_name_w blaine st': dtype('uint8'), 'street_name_w boston st': dtype('uint8'), 'street_name_w briarcliff ln': dtype('uint8'), 'street_name_w crockett st': dtype('uint8'), 'street_name_w elmore pl': dtype('uint8'), 'street_name_w elmore st': dtype('uint8'), 'street_name_w emerson st': dtype('uint8'), 'street_name_w etruria st': dtype('uint8'), 'street_name_w fulton st': dtype('uint8'), 'street_name_w garfield st': dtype('uint8'), 'street_name_w halladay st': dtype('uint8'), 'street_name_w highland dr': dtype('uint8'), 'street_name_w howe st': dtype('uint8'), 'street_name_w jameson st': dtype('uint8'), 'street_name_w lake desire dr se': dtype('uint8'), 'street_name_w lake kathleen dr se': dtype('uint8'), 'street_name_w lake sammamish pkwy se': dtype('uint8'), 'street_name_w lake walker dr se': dtype('uint8'), 'street_name_w lawton st': dtype('uint8'), 'street_name_w lee st': dtype('uint8'), 'street_name_w mcgraw st': dtype('uint8'), 'street_name_w mercer way': dtype('uint8'), 'street_name_w park st': dtype('uint8'), 'street_name_w prospect st': dtype('uint8'), 'street_name_w raye st': dtype('uint8'), 'street_name_w st nw': dtype('uint8'), 'street_name_wa-900': dtype('uint8'), 'street_name_wabash ave s': dtype('uint8'), 'street_name_wallingford ave n': dtype('uint8'), 'street_name_walnut ave sw': dtype('uint8'), 'street_name_warren ave n': dtype('uint8'), 'street_name_washington ave': dtype('uint8'), 'street_name_washington pl e': dtype('uint8'), 'street_name_waynita way ne': dtype('uint8'), 'street_name_wells ave n': dtype('uint8'), 'street_name_wells ave s': dtype('uint8'), 'street_name_west lake sammamish pkwy ne': dtype('uint8'), 'street_name_westmont way w': dtype('uint8'), 'street_name_westside hwy sw': dtype('uint8'), 'street_name_westview dr w': dtype('uint8'), 'street_name_wetherbee ln': dtype('uint8'), 'street_name_weyerhaeuser way s': dtype('uint8'), 'street_name_whalley pl w': dtype('uint8'), 'street_name_wheeler st': dtype('uint8'), 'street_name_whitaker ln se': dtype('uint8'), 'street_name_whitman ave n': dtype('uint8'), 'street_name_whitman ct ne': dtype('uint8'), 'street_name_wilderness peak dr nw': dtype('uint8'), 'street_name_willard ave w': dtype('uint8'), 'street_name_wilson ave s': dtype('uint8'), 'street_name_winona ave n': dtype('uint8'), 'street_name_wolcott ave s': dtype('uint8'), 'street_name_woodland park ave n': dtype('uint8'), 'street_name_woodland way s': dtype('uint8'), 'street_name_woodlawn ave n': dtype('uint8'), 'street_name_woodmont dr s': dtype('uint8'), 'street_name_woodside dr se': dtype('uint8'), 'street_name_yale ave e': dtype('uint8'), 'city_Algona': dtype('uint8'), 'city_Auburn': dtype('uint8'), 'city_Beaux Arts Village': dtype('uint8'), 'city_Bellevue': dtype('uint8'), 'city_Black Diamond': dtype('uint8'), 'city_Bothell': dtype('uint8'), 'city_Burien': dtype('uint8'), 'city_Carnation': dtype('uint8'), 'city_Clyde Hill': dtype('uint8'), 'city_Covington': dtype('uint8'), 'city_Des Moines': dtype('uint8'), 'city_Duvall': dtype('uint8'), 'city_Enumclaw': dtype('uint8'), 'city_Fall City': dtype('uint8'), 'city_Federal Way': dtype('uint8'), 'city_Inglewood-Finn Hill': dtype('uint8'), 'city_Issaquah': dtype('uint8'), 'city_Kenmore': dtype('uint8'), 'city_Kent': dtype('uint8'), 'city_Kirkland': dtype('uint8'), 'city_Lake Forest Park': dtype('uint8'), 'city_Maple Valley': dtype('uint8'), 'city_Medina': dtype('uint8'), 'city_Mercer Island': dtype('uint8'), 'city_Milton': dtype('uint8'), 'city_Newcastle': dtype('uint8'), 'city_Normandy Park': dtype('uint8'), 'city_North Bend': dtype('uint8'), 'city_Pacific': dtype('uint8'), 'city_Preston': dtype('uint8'), 'city_Ravensdale': dtype('uint8'), 'city_Redmond': dtype('uint8'), 'city_Renton': dtype('uint8'), 'city_Sammamish': dtype('uint8'), 'city_SeaTac': dtype('uint8'), 'city_Seattle': dtype('uint8'), 'city_Shoreline': dtype('uint8'), 'city_Skykomish': dtype('uint8'), 'city_Snoqualmie': dtype('uint8'), 'city_Snoqualmie Pass': dtype('uint8'), 'city_Tukwila': dtype('uint8'), 'city_Vashon': dtype('uint8'), 'city_Woodinville': dtype('uint8'), 'city_Yarrow Point': dtype('uint8')}\n"
     ]
    }
   ],
   "source": [
    "dataTypeDict = dict(df.dtypes)\n",
    "print('Data type of each column :')\n",
    "print(dataTypeDict)"
   ]
  },
  {
   "cell_type": "code",
   "execution_count": null,
   "metadata": {},
   "outputs": [],
   "source": [
    "'''\n",
    "# constructing table contents \n",
    "\n",
    "features = []\n",
    "for i in range(24):\n",
    "    features.append('all except date, price, street, city, state')\n",
    "\n",
    "features_dict = {key: value for key, value in enumerate(features) }\n",
    "\n",
    "\n",
    "lr = 'linear regression'\n",
    "ridge = 'ridge regression'\n",
    "rf = 'random forest'\n",
    "\n",
    "models = [(lr,)*8, (ridge,)*8, (rf,)*8]\n",
    "\n",
    "\n",
    "test_error_list = []\n",
    "for i in range(8):\n",
    "    test_error_list.append(lr_test_error[i])\n",
    "for i in range(8):\n",
    "    test_error_list.append(ridge_test_error[i])\n",
    "for i in range(8):\n",
    "    test_error_list.append(rf_test_error[i])\n",
    "'''"
   ]
  },
  {
   "cell_type": "code",
   "execution_count": null,
   "metadata": {
    "scrolled": false
   },
   "outputs": [],
   "source": [
    "'''\n",
    "features1 = 'all except date, price, street, city, state'\n",
    "features2 = 'all except date, price, street, city, state'\n",
    "features3 = 'all except date, price, street, city, state'\n",
    "features4 = 'all except date, price, street, city, state'\n",
    "features5 = 'all except date, price, street, city, state'\n",
    "features6 = 'all except date, price, street, city, state'\n",
    "features7 = 'all except date, price, street, city, state'\n",
    "features8 = 'all except date, price, street, city, state'\n",
    "features9 = 'all except date, price, street, city, state'\n",
    "features10 = 'all except date, price, street, city, state'\n",
    "features11 = 'all except date, price, street, city, state'\n",
    "features12 = 'all except date, price, street, city, state'\n",
    "'''\n",
    "\n",
    "\n",
    "content = {''''features': [features1, features2, features3, features4, features5, features6, features7, features8, \n",
    "                        features9, features10, features11, features12],''' \n",
    "           'features': [features_dict.values()],\n",
    "           'model': ['linear regression', 'linear regression', 'linear regression', 'linear regression',\n",
    "                     'ridge regression', 'ridge regression', 'ridge regression', 'ridge regression', \n",
    "                     'random forest', 'random forest', 'random forest', 'random forest'], \n",
    "           'test_error': [lr_test_error[0], lr_test_error[1], lr_test_error[2], lr_test_error[3], \n",
    "                    ridge_test_error[0], ridge_test_error[1], ridge_test_error[2], ridge_test_error[3], \n",
    "                    rf_test_error[0], rf_test_error[1], rf_test_error[2], rf_test_error[3]],\n",
    "           'train_error': [lr_train_error[0], lr_train_error[1], lr_train_error[2], lr_train_error[3], \n",
    "                    ridge_train_error[0], ridge_train_error[1], ridge_train_error[2], ridge_train_error[3], \n",
    "                    rf_train_error[0], rf_train_error[1], rf_train_error[2], rf_train_error[3]],\n",
    "           'test_score': [lr_test_score[0], lr_test_score[1], lr_test_score[2], lr_test_score[3], \n",
    "                     ridge_test_score[0], ridge_test_score[1], ridge_test_score[2], ridge_test_score[3],  \n",
    "                     rf_test_score[0], rf_test_score[1], rf_test_score[2], rf_test_score[3]],\n",
    "           'train_score': [lr_train_score[0], lr_train_score[1], lr_train_score[2], lr_train_score[3],\n",
    "                             ridge_train_score[0], ridge_train_score[1], ridge_train_score[2], ridge_train_score[3],\n",
    "                             rf_train_score[0], rf_train_score[1], rf_train_score[2], rf_train_score[3]],\n",
    "           'description': ['no transformations', 'no transformations', 'zero prices removed', 'parabolic transformation', \n",
    "                           'no transformations', 'no transformations', 'zero prices removed', 'parabolic transformation', \n",
    "                           'no transformations', 'no transformations', 'zero prices removed', 'parabolic transformation', \n",
    "                            ],\n",
    "           'price outs removed': ['no', 'yes', 'yes', 'yes', 'no', 'yes', 'yes', 'yes', 'no', 'yes', 'yes', 'yes']}\n",
    "\n",
    "table = pd.DataFrame(content, columns=['model', 'test_score', 'train_score', 'test_error', 'train_error', 'price outs removed', 'description', 'features'], index=[1,2,3,4,5,6,7,8,9,10,11,12])\n",
    "table.sort_values('test_score', ascending=False)"
   ]
  },
  {
   "cell_type": "markdown",
   "metadata": {},
   "source": [
    "Model description:\n",
    "* Models described as having no transformations are those which did not have their `bedrooms` feature undergo parabolic transformation.\n",
    "* Models with zero prices removed are those with zero values in the `price` feature and price outliers removed.\n",
    "* Models with parabolic transformation are based on data with price outliers and zero prices removed, and have their `bedrooms` feature transformed.\n",
    "\n",
    "From the table above we can see that the best model is the Random Forest with 66% accuracy. That model only has the price outliers removed but not the zero prices. There were also no transformations on the features."
   ]
  },
  {
   "cell_type": "markdown",
   "metadata": {},
   "source": [
    "**Analysing the coefficients**"
   ]
  },
  {
   "cell_type": "markdown",
   "metadata": {},
   "source": [
    "Let's take a look at the coefficients of the best performing ridge regression model that has its `bedrooms` feature transformed."
   ]
  },
  {
   "cell_type": "code",
   "execution_count": null,
   "metadata": {
    "scrolled": false
   },
   "outputs": [],
   "source": [
    "coefs = pd.DataFrame(ridge.coef_, index=list(X_transformed), columns=['Coef'])\n",
    "coefs[:18]"
   ]
  },
  {
   "cell_type": "markdown",
   "metadata": {},
   "source": [
    "The coefficient of a term represents the change in the mean response for one unit of change in that term. If the coefficient is positive, as the term increases, the mean value of the response increases. If the coefficient is negative, as the term increases, the mean value of the response decreases. So for example we see than the coefficient of `sqft_living` is 180. This means that for every 1 sqft increase on a house, the price would increase by \\\\$180.\n",
    "\n",
    "I was surprised to see `bedrooms` have a negative coeficient, since my assumption was that when the number of bedrooms increase, so does the price. However, we saw previously with a `bedrooms` and `price` scatterplot that price increases with number of bedrooms only for homes with up to 5 bedrooms. The price then starts to decrease for homes with 6 bedrooms or more.  \n",
    "Notice also `bedrooms_squared` has a positive coeficient. This feature is `bedrooms` with a parabolic transformation. Since this feature has adjusted for `bedrooms` shape, it makes sense that it is positive.\n",
    "\n",
    "Not only is the coefficient of `sqft_lot` negative, but it's also a small number, indicating that its affect on  price is miniscule."
   ]
  },
  {
   "cell_type": "code",
   "execution_count": null,
   "metadata": {},
   "outputs": [],
   "source": [
    "# coefs of fitted model & predicted model\n",
    "#coefs = pd.DataFrame({'coef_actual': ridge.coef_, 'coef_pred': predictions_dict['ridge_pred3']}, index=list(X_transformed))"
   ]
  },
  {
   "cell_type": "code",
   "execution_count": null,
   "metadata": {
    "scrolled": false
   },
   "outputs": [],
   "source": [
    "fig, ax = plt.subplots(figsize=(8,4))\n",
    "ax.plot(y_test_transformed, 'bo', alpha=0.3, label='actual prices')\n",
    "ax.plot(predictions_dict['lr_pred3'], 'go', alpha=0.2, label='predicted prices')\n",
    "#ax.set_xlabel('')\n",
    "ax.set_ylabel('price')\n",
    "ax.legend()\n",
    "plt.show()"
   ]
  },
  {
   "cell_type": "code",
   "execution_count": null,
   "metadata": {
    "scrolled": true
   },
   "outputs": [],
   "source": [
    "plt.scatter(y_test_transformed, predictions_dict['lr_pred3'], s=20)\n",
    "plt.title('Scatter plot of actual and predicted prices')\n",
    "plt.xlabel('actual prices')\n",
    "plt.ylabel('predicted prices')"
   ]
  },
  {
   "cell_type": "markdown",
   "metadata": {},
   "source": [
    "We see in the above plot that the predicted prices are somewhat close to the actual prices, but not very close. The best case scenario would be for the scatter plots to follow a perfectly straight diagonal line, indicating that our model perfectly predicted the house prices."
   ]
  },
  {
   "cell_type": "markdown",
   "metadata": {},
   "source": [
    "Histogram of the residuals of the best performing linear regression model."
   ]
  },
  {
   "cell_type": "code",
   "execution_count": null,
   "metadata": {
    "scrolled": false
   },
   "outputs": [],
   "source": [
    "plt.subplots(figsize=(8,4))\n",
    "plt.hist(y_test_transformed - predictions_dict['lr_pred3'], bins=20)\n",
    "plt.title('Histogram of residuals')\n",
    "plt.show()"
   ]
  },
  {
   "cell_type": "markdown",
   "metadata": {},
   "source": [
    "Ideally a residual histogram would follow a normal distribution, and that would tell us that we've chosen an appropriate model type. However, the above plot does not closely follow a normal distribution, which is another indication that a linear regression model is not best for my dataset."
   ]
  },
  {
   "cell_type": "markdown",
   "metadata": {},
   "source": [
    "### CI around my prediction accuracy"
   ]
  },
  {
   "cell_type": "markdown",
   "metadata": {},
   "source": [
    "calculate standard error RMSE\n",
    ".."
   ]
  },
  {
   "cell_type": "code",
   "execution_count": null,
   "metadata": {},
   "outputs": [],
   "source": [
    "# RMSE == standard deviation of errors\n",
    "rf_test_error"
   ]
  },
  {
   "cell_type": "code",
   "execution_count": null,
   "metadata": {},
   "outputs": [],
   "source": [
    "one_sd = min(rf_test_error)\n",
    "two_sd = 2*one_sd\n",
    "three_sd = 3*one_sd"
   ]
  },
  {
   "cell_type": "markdown",
   "metadata": {},
   "source": [
    "#### 68% Confidence"
   ]
  },
  {
   "cell_type": "code",
   "execution_count": null,
   "metadata": {},
   "outputs": [],
   "source": [
    "min_error = 0 - one_sd\n",
    "max_error = 0 + one_sd\n",
    "\n",
    "print('I can be 68% confident that the error in the home price predictions will be between {} and {}.'.format(min_error, max_error))"
   ]
  },
  {
   "cell_type": "markdown",
   "metadata": {},
   "source": [
    "#### 95% Confidence"
   ]
  },
  {
   "cell_type": "code",
   "execution_count": null,
   "metadata": {
    "scrolled": true
   },
   "outputs": [],
   "source": [
    "min_error = 0 - two_sd\n",
    "max_error = 0 + two_sd\n",
    "\n",
    "print('I can be 95% confident that the error in the home price predictions will be between {} and {}.'.format(min_error, max_error))"
   ]
  },
  {
   "cell_type": "markdown",
   "metadata": {},
   "source": [
    "### Result Analysis"
   ]
  },
  {
   "cell_type": "markdown",
   "metadata": {},
   "source": [
    "The following analysis is based on my 95% confidence that the error in the home price predictions is between -429250 and -429250:\n",
    "\n",
    "If I've predicted a house to be $\\$$500,000 and someone were to buy the house at that price, the worst loss would be \\\\$429250 and the highest gain would be \\\\$429250. That is, the least the house would be worth is \\\\$70,750 (500,000-429250), and the most the house would be worth is \\\\$929,250 (500,000+429250).\n",
    "\n",
    "Let's say my boss wants to buy a house at below my estimate in the hopes of flipping it, i.e., selling the house at around double the price at which he acquired it. With a house that I have estimated to be \\\\$500,000, if he purchases it at \\\\$300,000 for example, 3 things can happen:\n",
    "\n",
    "1. My estimation is correct and he would make a profit of \\\\$200,000 by selling it for \\\\$500,000.  \n",
    "2. The house is actually worth \\\\$70,750 and he ends up buying at a higher price than what the house is worth, losing \\\\$229,250 on the purchase, and resulting in a 24\\% loss.\n",
    "3. The house is actually worth \\\\$929,250 and he ends up buying \\\\$629,250 below the house value, resulting in a 309\\%  profit if he were to sell it at \\\\$929,250."
   ]
  },
  {
   "cell_type": "markdown",
   "metadata": {},
   "source": [
    "**What happens if my boss purchases 100 homes?**"
   ]
  },
  {
   "cell_type": "code",
   "execution_count": null,
   "metadata": {
    "scrolled": true
   },
   "outputs": [],
   "source": [
    "from math import sqrt\n",
    "\n",
    "np.random.seed(47)\n",
    "n = 100 # length of sample\n",
    "\n",
    "# function to sample the actual and predicted prices of 100 homes at a time.\n",
    "def draw_bs_reps(y_test, y_pred):\n",
    "    bs_error = np.random.choice(y_test - y_pred, n) # price sold - price bought == profit (gain or loss)\n",
    "    \n",
    "    error_mean = np.sum(bs_error) / len(bs_error) # avg gain or loss on n transactions\n",
    "    return error_mean"
   ]
  },
  {
   "cell_type": "code",
   "execution_count": null,
   "metadata": {
    "scrolled": false
   },
   "outputs": [],
   "source": [
    "# conducting 1000 experiments of purchasing 100 homes\n",
    "error_means = np.array([draw_bs_reps(y_test_transformed, predictions_dict['rf_pred3']) for i in range(1000)]) # Random Forest model\n",
    "error_means = np.round(error_means, 2)\n",
    "error_means_mean = np.mean(error_means) # mean of means\n",
    "print('mean of means: {}'.format(int(error_means_mean)))\n",
    "\n",
    "error_means_std = sqrt(np.sum((error_means-error_means_mean)**2) / (1000-1)) # standard deviation of means\n",
    "print('std of means: {}'.format(int(error_means_std)))\n",
    "\n",
    "# confidence interval\n",
    "min_error_100 = int(error_means_mean - 2*error_means_std)\n",
    "max_error_100 = int(error_means_mean + 2*error_means_std)\n",
    "\n",
    "print('')\n",
    "print('The above result means that if I calculate the error between the true/historical price and my predicted price ' \n",
    "      'of 100 homes, I can be 95% confident that the error of the mean of average error in the home price ' \n",
    "      'predictions will be between {:,} and {:,}.'.format(min_error*100, max_error*100))\n",
    "print('')\n",
    "print('In other words, if my boss was to buy 100 homes at my predicted price and sell them at their true price, ' \n",
    "      'I can be 95% confident that the most she would lose is ${:,} ' \n",
    "      'and the most she would gain is ${:,}.'.format(-1*min_error_100*100, max_error_100*100))"
   ]
  },
  {
   "cell_type": "markdown",
   "metadata": {},
   "source": [
    "Below is a histogram of the distribution of purchasing 100 homes at my predicted prices."
   ]
  },
  {
   "cell_type": "code",
   "execution_count": null,
   "metadata": {},
   "outputs": [],
   "source": [
    "plt.hist(error_means, bins=20)\n",
    "plt.plot()\n",
    "print(min_error_100, max_error_100)"
   ]
  },
  {
   "cell_type": "markdown",
   "metadata": {},
   "source": [
    "It shows that the mode is shifted to the positive, which is good because it means we're profiting. I conducted this experiment a few more times to make sure the shape is real."
   ]
  },
  {
   "cell_type": "markdown",
   "metadata": {},
   "source": [
    "What happens if my boss purchases homes $1000 below my predicted prices?"
   ]
  },
  {
   "cell_type": "code",
   "execution_count": null,
   "metadata": {},
   "outputs": [],
   "source": [
    "# running the same experiment as before, with $1000 deducted from my predicted prices\n",
    "\n",
    "np.random.seed(47)\n",
    "n = 100 # length of sample\n",
    "N_rep = 1000 # number of times to bootstrap/resample\n",
    "\n",
    "def draw_bs_reps(y_test, y_pred):\n",
    "    bs_error = np.random.choice(y_test - (y_pred-1000), n) # deduct 1000 from each predicted price\n",
    "    \n",
    "    error_mean = np.sum(bs_error) / len(bs_error) # avg gain or loss on n transactions\n",
    "    return error_mean"
   ]
  },
  {
   "cell_type": "code",
   "execution_count": null,
   "metadata": {},
   "outputs": [],
   "source": [
    "error_means = np.array([draw_bs_reps(y_test_transformed, predictions_dict['rf_pred3']) for i in range(1000)]) # Random Forest model\n",
    "error_means = np.round(error_means, 2)\n",
    "error_means_mean = np.mean(error_means) # mean of means\n",
    "print('mean of means: {}'.format(int(error_means_mean)))\n",
    "\n",
    "error_means_std = sqrt(np.sum((error_means-error_means_mean)**2) / (1000-1)) # standard deviation of means\n",
    "print('std of means: {}'.format(int(error_means_std)))\n",
    "\n",
    "# confidence interval\n",
    "min_error_1000 = int(error_means_mean - 2*error_means_std)\n",
    "max_error_1000 = int(error_means_mean + 2*error_means_std)\n",
    "\n",
    "print('')\n",
    "print('If my boss was to buy 100 homes at $1000 less than my predicted price and sell them at their true price, ' \n",
    "      'I can be 95% confident that the most she would lose is ${:,} ' \n",
    "      'and the most she would gain is ${:,}.'.format(-1*min_error_1000*100, max_error_1000*100))"
   ]
  },
  {
   "cell_type": "markdown",
   "metadata": {},
   "source": [
    "When purchasing 100 homes at \\\\$1000 below my predicted price, the most my boss would lose decreases by \\\\$ and the most she would gain increases by \\\\$.  \n",
    "This is clearly a better option, and since finding homes that are selling \\\\$1000 below their true value is practical, I would recommend this plan to my boss."
   ]
  },
  {
   "cell_type": "markdown",
   "metadata": {},
   "source": [
    "### Result"
   ]
  },
  {
   "cell_type": "markdown",
   "metadata": {},
   "source": [
    "Other experiments:\n",
    "* experiments with other models\n",
    "* experiemnts with predicted prices reduced by \\\\$5,000, \\\\$10,000, \\\\$50,000\n",
    "\n",
    "When running experiments using my other models, the Random Forest model resulted in the most profit, which was expected since the model had the least error in its prediction.\n",
    "\n",
    "I ran experiments with \\\\$5,000, \\\\$10,000, \\\\$50,000 deducted from the predicted prices. \n",
    "This means that my boss would purchase 100 homes with \\\\$5,000, \\\\$10,000, and \\\\$50,000 below my predicted prices. \n",
    "The result was that these 3 experiments produced better profits and less losses than the scenario where my boss would purchase homes at \\\\$1000 less than my predicted prices. However, finding 100 houses at those reduced prices would be difficult. Therefore, I would reccomend focusing on finding homes with the \\\\$1000 reductions."
   ]
  },
  {
   "cell_type": "code",
   "execution_count": null,
   "metadata": {},
   "outputs": [],
   "source": []
  },
  {
   "cell_type": "code",
   "execution_count": null,
   "metadata": {},
   "outputs": [],
   "source": []
  },
  {
   "cell_type": "code",
   "execution_count": null,
   "metadata": {},
   "outputs": [],
   "source": []
  },
  {
   "cell_type": "code",
   "execution_count": null,
   "metadata": {},
   "outputs": [],
   "source": []
  },
  {
   "cell_type": "code",
   "execution_count": null,
   "metadata": {},
   "outputs": [],
   "source": []
  },
  {
   "cell_type": "code",
   "execution_count": null,
   "metadata": {},
   "outputs": [],
   "source": []
  }
 ],
 "metadata": {
  "kernelspec": {
   "display_name": "Python 3",
   "language": "python",
   "name": "python3"
  },
  "language_info": {
   "codemirror_mode": {
    "name": "ipython",
    "version": 3
   },
   "file_extension": ".py",
   "mimetype": "text/x-python",
   "name": "python",
   "nbconvert_exporter": "python",
   "pygments_lexer": "ipython3",
   "version": "3.7.3"
  }
 },
 "nbformat": 4,
 "nbformat_minor": 2
}
