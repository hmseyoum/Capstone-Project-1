{
 "cells": [
  {
   "cell_type": "code",
   "execution_count": 1,
   "metadata": {},
   "outputs": [],
   "source": [
    "# import necessary modules/libraries\n",
    "\n",
    "import numpy as  np\n",
    "import pandas as pd\n",
    "\n",
    "import matplotlib\n",
    "import matplotlib.pyplot as plt\n",
    "import seaborn as sns\n",
    "\n",
    "from scipy import stats\n",
    "from scipy.stats import pearsonr\n",
    "\n",
    "from matplotlib import rcParams\n",
    "sns.set_style(\"whitegrid\")\n",
    "sns.set_context(\"talk\", font_scale=0.7)\n",
    "sns.set_palette(\"Greens_r\")\n",
    "#set_palette(\"Set1\", 8, .75) # makes plot lines red\n",
    "\n",
    "from ipywidgets import interact, widgets\n",
    "\n",
    "from sklearn.preprocessing import Imputer # to impute missing data\n",
    "\n",
    "from sklearn.preprocessing import StandardScaler\n",
    "from sklearn.preprocessing import MinMaxScaler\n",
    "\n",
    "import sklearn\n",
    "from sklearn.linear_model import LinearRegression\n",
    "from sklearn.ensemble import RandomForestRegressor\n",
    "from sklearn.linear_model import Lasso\n",
    "from sklearn.linear_model import Ridge\n",
    "from sklearn.model_selection import train_test_split\n",
    "from sklearn.model_selection import cross_val_score\n",
    "from sklearn.model_selection import GridSearchCV\n",
    "from sklearn.metrics import mean_squared_error\n",
    "\n",
    "%matplotlib inline"
   ]
  },
  {
   "cell_type": "code",
   "execution_count": 2,
   "metadata": {
    "scrolled": false
   },
   "outputs": [
    {
     "name": "stdout",
     "output_type": "stream",
     "text": [
      "The Washington housing dataset has 4600 data points with 18 variables each.\n"
     ]
    },
    {
     "data": {
      "text/html": [
       "<div>\n",
       "<style scoped>\n",
       "    .dataframe tbody tr th:only-of-type {\n",
       "        vertical-align: middle;\n",
       "    }\n",
       "\n",
       "    .dataframe tbody tr th {\n",
       "        vertical-align: top;\n",
       "    }\n",
       "\n",
       "    .dataframe thead th {\n",
       "        text-align: right;\n",
       "    }\n",
       "</style>\n",
       "<table border=\"1\" class=\"dataframe\">\n",
       "  <thead>\n",
       "    <tr style=\"text-align: right;\">\n",
       "      <th></th>\n",
       "      <th>date</th>\n",
       "      <th>price</th>\n",
       "      <th>bedrooms</th>\n",
       "      <th>bathrooms</th>\n",
       "      <th>sqft_living</th>\n",
       "      <th>sqft_lot</th>\n",
       "      <th>floors</th>\n",
       "      <th>waterfront</th>\n",
       "      <th>view</th>\n",
       "      <th>condition</th>\n",
       "      <th>sqft_above</th>\n",
       "      <th>sqft_basement</th>\n",
       "      <th>yr_built</th>\n",
       "      <th>yr_renovated</th>\n",
       "      <th>street</th>\n",
       "      <th>city</th>\n",
       "      <th>statezip</th>\n",
       "      <th>country</th>\n",
       "    </tr>\n",
       "  </thead>\n",
       "  <tbody>\n",
       "    <tr>\n",
       "      <th>0</th>\n",
       "      <td>2014-05-02 00:00:00</td>\n",
       "      <td>313000.0</td>\n",
       "      <td>3.0</td>\n",
       "      <td>1.5</td>\n",
       "      <td>1340</td>\n",
       "      <td>7912</td>\n",
       "      <td>1.5</td>\n",
       "      <td>0</td>\n",
       "      <td>0</td>\n",
       "      <td>3</td>\n",
       "      <td>1340</td>\n",
       "      <td>0</td>\n",
       "      <td>1955</td>\n",
       "      <td>2005</td>\n",
       "      <td>18810 Densmore Ave N</td>\n",
       "      <td>Shoreline</td>\n",
       "      <td>WA 98133</td>\n",
       "      <td>USA</td>\n",
       "    </tr>\n",
       "    <tr>\n",
       "      <th>1</th>\n",
       "      <td>2014-05-02 00:00:00</td>\n",
       "      <td>2384000.0</td>\n",
       "      <td>5.0</td>\n",
       "      <td>2.5</td>\n",
       "      <td>3650</td>\n",
       "      <td>9050</td>\n",
       "      <td>2.0</td>\n",
       "      <td>0</td>\n",
       "      <td>4</td>\n",
       "      <td>5</td>\n",
       "      <td>3370</td>\n",
       "      <td>280</td>\n",
       "      <td>1921</td>\n",
       "      <td>0</td>\n",
       "      <td>709 W Blaine St</td>\n",
       "      <td>Seattle</td>\n",
       "      <td>WA 98119</td>\n",
       "      <td>USA</td>\n",
       "    </tr>\n",
       "  </tbody>\n",
       "</table>\n",
       "</div>"
      ],
      "text/plain": [
       "                  date      price  bedrooms  bathrooms  sqft_living  sqft_lot  \\\n",
       "0  2014-05-02 00:00:00   313000.0       3.0        1.5         1340      7912   \n",
       "1  2014-05-02 00:00:00  2384000.0       5.0        2.5         3650      9050   \n",
       "\n",
       "   floors  waterfront  view  condition  sqft_above  sqft_basement  yr_built  \\\n",
       "0     1.5           0     0          3        1340              0      1955   \n",
       "1     2.0           0     4          5        3370            280      1921   \n",
       "\n",
       "   yr_renovated                street       city  statezip country  \n",
       "0          2005  18810 Densmore Ave N  Shoreline  WA 98133     USA  \n",
       "1             0       709 W Blaine St    Seattle  WA 98119     USA  "
      ]
     },
     "execution_count": 2,
     "metadata": {},
     "output_type": "execute_result"
    }
   ],
   "source": [
    "# Load the Washington housing dataset\n",
    "df1 = pd.read_csv('house_price_prediction.csv')\n",
    "print(\"The Washington housing dataset has {} data points with {} variables each.\".format(*df1.shape))\n",
    "df1.head(2)"
   ]
  },
  {
   "cell_type": "code",
   "execution_count": 3,
   "metadata": {
    "scrolled": true
   },
   "outputs": [],
   "source": [
    "dfs1 = pd.read_html('http://www.city-data.com/city/Washington.html')"
   ]
  },
  {
   "cell_type": "code",
   "execution_count": 4,
   "metadata": {},
   "outputs": [
    {
     "data": {
      "text/plain": [
       "'for i, df in enumerate(dfs1):\\n    print(i)\\n    print(df.head())\\n    print()'"
      ]
     },
     "execution_count": 4,
     "metadata": {},
     "output_type": "execute_result"
    }
   ],
   "source": [
    "'''for i, df in enumerate(dfs1):\n",
    "    print(i)\n",
    "    print(df.head())\n",
    "    print()'''"
   ]
  },
  {
   "cell_type": "code",
   "execution_count": 5,
   "metadata": {},
   "outputs": [],
   "source": [
    "df_pop = dfs1[7]"
   ]
  },
  {
   "cell_type": "code",
   "execution_count": 6,
   "metadata": {
    "scrolled": true
   },
   "outputs": [
    {
     "data": {
      "text/html": [
       "<div>\n",
       "<style scoped>\n",
       "    .dataframe tbody tr th:only-of-type {\n",
       "        vertical-align: middle;\n",
       "    }\n",
       "\n",
       "    .dataframe tbody tr th {\n",
       "        vertical-align: top;\n",
       "    }\n",
       "\n",
       "    .dataframe thead th {\n",
       "        text-align: right;\n",
       "    }\n",
       "</style>\n",
       "<table border=\"1\" class=\"dataframe\">\n",
       "  <thead>\n",
       "    <tr style=\"text-align: right;\">\n",
       "      <th></th>\n",
       "      <th>Map</th>\n",
       "      <th>Name</th>\n",
       "      <th>Population</th>\n",
       "    </tr>\n",
       "  </thead>\n",
       "  <tbody>\n",
       "    <tr>\n",
       "      <th>0</th>\n",
       "      <td>NaN</td>\n",
       "      <td>Aberdeen Gardens</td>\n",
       "      <td>279</td>\n",
       "    </tr>\n",
       "    <tr>\n",
       "      <th>1</th>\n",
       "      <td>NaN</td>\n",
       "      <td>Aberdeen, WA</td>\n",
       "      <td>16255</td>\n",
       "    </tr>\n",
       "    <tr>\n",
       "      <th>2</th>\n",
       "      <td>NaN</td>\n",
       "      <td>Acme</td>\n",
       "      <td>246</td>\n",
       "    </tr>\n",
       "    <tr>\n",
       "      <th>3</th>\n",
       "      <td>NaN</td>\n",
       "      <td>Addy</td>\n",
       "      <td>268</td>\n",
       "    </tr>\n",
       "    <tr>\n",
       "      <th>4</th>\n",
       "      <td>NaN</td>\n",
       "      <td>Agnew-Carlsborg</td>\n",
       "      <td>9934</td>\n",
       "    </tr>\n",
       "  </tbody>\n",
       "</table>\n",
       "</div>"
      ],
      "text/plain": [
       "   Map              Name  Population\n",
       "0  NaN  Aberdeen Gardens         279\n",
       "1  NaN      Aberdeen, WA       16255\n",
       "2  NaN              Acme         246\n",
       "3  NaN              Addy         268\n",
       "4  NaN   Agnew-Carlsborg        9934"
      ]
     },
     "execution_count": 6,
     "metadata": {},
     "output_type": "execute_result"
    }
   ],
   "source": [
    "df_pop.head()"
   ]
  },
  {
   "cell_type": "code",
   "execution_count": 7,
   "metadata": {},
   "outputs": [],
   "source": [
    "df_pop = df_pop.rename(columns={'Name': 'city_state', 'Population': 'population'})"
   ]
  },
  {
   "cell_type": "code",
   "execution_count": 8,
   "metadata": {
    "scrolled": true
   },
   "outputs": [],
   "source": [
    "#df_pop['city_state'].unique()"
   ]
  },
  {
   "cell_type": "code",
   "execution_count": 9,
   "metadata": {},
   "outputs": [
    {
     "data": {
      "text/html": [
       "<div>\n",
       "<style scoped>\n",
       "    .dataframe tbody tr th:only-of-type {\n",
       "        vertical-align: middle;\n",
       "    }\n",
       "\n",
       "    .dataframe tbody tr th {\n",
       "        vertical-align: top;\n",
       "    }\n",
       "\n",
       "    .dataframe thead th {\n",
       "        text-align: right;\n",
       "    }\n",
       "</style>\n",
       "<table border=\"1\" class=\"dataframe\">\n",
       "  <thead>\n",
       "    <tr style=\"text-align: right;\">\n",
       "      <th></th>\n",
       "      <th>Map</th>\n",
       "      <th>city_state</th>\n",
       "      <th>population</th>\n",
       "    </tr>\n",
       "  </thead>\n",
       "  <tbody>\n",
       "    <tr>\n",
       "      <th>0</th>\n",
       "      <td>NaN</td>\n",
       "      <td>Aberdeen Gardens</td>\n",
       "      <td>279</td>\n",
       "    </tr>\n",
       "    <tr>\n",
       "      <th>1</th>\n",
       "      <td>NaN</td>\n",
       "      <td>Aberdeen, WA</td>\n",
       "      <td>16255</td>\n",
       "    </tr>\n",
       "    <tr>\n",
       "      <th>2</th>\n",
       "      <td>NaN</td>\n",
       "      <td>Acme</td>\n",
       "      <td>246</td>\n",
       "    </tr>\n",
       "    <tr>\n",
       "      <th>3</th>\n",
       "      <td>NaN</td>\n",
       "      <td>Addy</td>\n",
       "      <td>268</td>\n",
       "    </tr>\n",
       "    <tr>\n",
       "      <th>4</th>\n",
       "      <td>NaN</td>\n",
       "      <td>Agnew-Carlsborg</td>\n",
       "      <td>9934</td>\n",
       "    </tr>\n",
       "  </tbody>\n",
       "</table>\n",
       "</div>"
      ],
      "text/plain": [
       "   Map        city_state  population\n",
       "0  NaN  Aberdeen Gardens         279\n",
       "1  NaN      Aberdeen, WA       16255\n",
       "2  NaN              Acme         246\n",
       "3  NaN              Addy         268\n",
       "4  NaN   Agnew-Carlsborg        9934"
      ]
     },
     "execution_count": 9,
     "metadata": {},
     "output_type": "execute_result"
    }
   ],
   "source": [
    "df_pop.head()"
   ]
  },
  {
   "cell_type": "code",
   "execution_count": 10,
   "metadata": {},
   "outputs": [],
   "source": [
    "df_pop['city'] = df_pop['city_state'].apply(lambda x: x.split(',')[0])"
   ]
  },
  {
   "cell_type": "code",
   "execution_count": 11,
   "metadata": {
    "scrolled": true
   },
   "outputs": [
    {
     "data": {
      "text/html": [
       "<div>\n",
       "<style scoped>\n",
       "    .dataframe tbody tr th:only-of-type {\n",
       "        vertical-align: middle;\n",
       "    }\n",
       "\n",
       "    .dataframe tbody tr th {\n",
       "        vertical-align: top;\n",
       "    }\n",
       "\n",
       "    .dataframe thead th {\n",
       "        text-align: right;\n",
       "    }\n",
       "</style>\n",
       "<table border=\"1\" class=\"dataframe\">\n",
       "  <thead>\n",
       "    <tr style=\"text-align: right;\">\n",
       "      <th></th>\n",
       "      <th>Map</th>\n",
       "      <th>city_state</th>\n",
       "      <th>population</th>\n",
       "      <th>city</th>\n",
       "    </tr>\n",
       "  </thead>\n",
       "  <tbody>\n",
       "    <tr>\n",
       "      <th>0</th>\n",
       "      <td>NaN</td>\n",
       "      <td>Aberdeen Gardens</td>\n",
       "      <td>279</td>\n",
       "      <td>Aberdeen Gardens</td>\n",
       "    </tr>\n",
       "    <tr>\n",
       "      <th>1</th>\n",
       "      <td>NaN</td>\n",
       "      <td>Aberdeen, WA</td>\n",
       "      <td>16255</td>\n",
       "      <td>Aberdeen</td>\n",
       "    </tr>\n",
       "    <tr>\n",
       "      <th>2</th>\n",
       "      <td>NaN</td>\n",
       "      <td>Acme</td>\n",
       "      <td>246</td>\n",
       "      <td>Acme</td>\n",
       "    </tr>\n",
       "    <tr>\n",
       "      <th>3</th>\n",
       "      <td>NaN</td>\n",
       "      <td>Addy</td>\n",
       "      <td>268</td>\n",
       "      <td>Addy</td>\n",
       "    </tr>\n",
       "    <tr>\n",
       "      <th>4</th>\n",
       "      <td>NaN</td>\n",
       "      <td>Agnew-Carlsborg</td>\n",
       "      <td>9934</td>\n",
       "      <td>Agnew-Carlsborg</td>\n",
       "    </tr>\n",
       "  </tbody>\n",
       "</table>\n",
       "</div>"
      ],
      "text/plain": [
       "   Map        city_state  population              city\n",
       "0  NaN  Aberdeen Gardens         279  Aberdeen Gardens\n",
       "1  NaN      Aberdeen, WA       16255          Aberdeen\n",
       "2  NaN              Acme         246              Acme\n",
       "3  NaN              Addy         268              Addy\n",
       "4  NaN   Agnew-Carlsborg        9934   Agnew-Carlsborg"
      ]
     },
     "execution_count": 11,
     "metadata": {},
     "output_type": "execute_result"
    }
   ],
   "source": [
    "df_pop.head()"
   ]
  },
  {
   "cell_type": "code",
   "execution_count": 12,
   "metadata": {
    "scrolled": true
   },
   "outputs": [
    {
     "data": {
      "text/html": [
       "<div>\n",
       "<style scoped>\n",
       "    .dataframe tbody tr th:only-of-type {\n",
       "        vertical-align: middle;\n",
       "    }\n",
       "\n",
       "    .dataframe tbody tr th {\n",
       "        vertical-align: top;\n",
       "    }\n",
       "\n",
       "    .dataframe thead th {\n",
       "        text-align: right;\n",
       "    }\n",
       "</style>\n",
       "<table border=\"1\" class=\"dataframe\">\n",
       "  <thead>\n",
       "    <tr style=\"text-align: right;\">\n",
       "      <th></th>\n",
       "      <th>population</th>\n",
       "      <th>city</th>\n",
       "    </tr>\n",
       "  </thead>\n",
       "  <tbody>\n",
       "    <tr>\n",
       "      <th>0</th>\n",
       "      <td>279</td>\n",
       "      <td>Aberdeen Gardens</td>\n",
       "    </tr>\n",
       "    <tr>\n",
       "      <th>1</th>\n",
       "      <td>16255</td>\n",
       "      <td>Aberdeen</td>\n",
       "    </tr>\n",
       "    <tr>\n",
       "      <th>2</th>\n",
       "      <td>246</td>\n",
       "      <td>Acme</td>\n",
       "    </tr>\n",
       "    <tr>\n",
       "      <th>3</th>\n",
       "      <td>268</td>\n",
       "      <td>Addy</td>\n",
       "    </tr>\n",
       "    <tr>\n",
       "      <th>4</th>\n",
       "      <td>9934</td>\n",
       "      <td>Agnew-Carlsborg</td>\n",
       "    </tr>\n",
       "  </tbody>\n",
       "</table>\n",
       "</div>"
      ],
      "text/plain": [
       "   population              city\n",
       "0         279  Aberdeen Gardens\n",
       "1       16255          Aberdeen\n",
       "2         246              Acme\n",
       "3         268              Addy\n",
       "4        9934   Agnew-Carlsborg"
      ]
     },
     "execution_count": 12,
     "metadata": {},
     "output_type": "execute_result"
    }
   ],
   "source": [
    "df_pop = df_pop.drop(['Map', 'city_state'], axis='columns')\n",
    "df_pop.head()"
   ]
  },
  {
   "cell_type": "code",
   "execution_count": 13,
   "metadata": {},
   "outputs": [],
   "source": [
    "dfs_2 = pd.read_html('http://www.city-data.com/schools-dirs/schools-WA.html')"
   ]
  },
  {
   "cell_type": "code",
   "execution_count": 14,
   "metadata": {
    "scrolled": true
   },
   "outputs": [
    {
     "data": {
      "text/plain": [
       "'for i, df in enumerate(dfs_2):\\n    print(i)\\n    print(df.head(2))\\n    print()'"
      ]
     },
     "execution_count": 14,
     "metadata": {},
     "output_type": "execute_result"
    }
   ],
   "source": [
    "'''for i, df in enumerate(dfs_2):\n",
    "    print(i)\n",
    "    print(df.head(2))\n",
    "    print()'''"
   ]
  },
  {
   "cell_type": "code",
   "execution_count": 15,
   "metadata": {},
   "outputs": [],
   "source": [
    "df_schools = dfs_2[7]"
   ]
  },
  {
   "cell_type": "code",
   "execution_count": 16,
   "metadata": {},
   "outputs": [
    {
     "data": {
      "text/html": [
       "<div>\n",
       "<style scoped>\n",
       "    .dataframe tbody tr th:only-of-type {\n",
       "        vertical-align: middle;\n",
       "    }\n",
       "\n",
       "    .dataframe tbody tr th {\n",
       "        vertical-align: top;\n",
       "    }\n",
       "\n",
       "    .dataframe thead th {\n",
       "        text-align: right;\n",
       "    }\n",
       "</style>\n",
       "<table border=\"1\" class=\"dataframe\">\n",
       "  <thead>\n",
       "    <tr style=\"text-align: right;\">\n",
       "      <th></th>\n",
       "      <th>Name</th>\n",
       "      <th>Address</th>\n",
       "      <th>Rating</th>\n",
       "      <th>Grade span</th>\n",
       "    </tr>\n",
       "  </thead>\n",
       "  <tbody>\n",
       "    <tr>\n",
       "      <th>0</th>\n",
       "      <td>10th Street School</td>\n",
       "      <td>7204 27th Ave NE, Stimson Crossing</td>\n",
       "      <td>69</td>\n",
       "      <td>6-8</td>\n",
       "    </tr>\n",
       "    <tr>\n",
       "      <th>1</th>\n",
       "      <td>49th Street Academy</td>\n",
       "      <td>14619B NE 49th Street, Mill Plain</td>\n",
       "      <td>-</td>\n",
       "      <td>0-12</td>\n",
       "    </tr>\n",
       "    <tr>\n",
       "      <th>2</th>\n",
       "      <td>A G West Black Hills High School</td>\n",
       "      <td>7741 Littlerock Road SW, Olympia</td>\n",
       "      <td>73</td>\n",
       "      <td>9-12</td>\n",
       "    </tr>\n",
       "    <tr>\n",
       "      <th>3</th>\n",
       "      <td>A J West Elementary</td>\n",
       "      <td>1801 Bay Ave., Aberdeen</td>\n",
       "      <td>20</td>\n",
       "      <td>PK-6</td>\n",
       "    </tr>\n",
       "    <tr>\n",
       "      <th>4</th>\n",
       "      <td>A-3 Multiagency Adolescent Prog</td>\n",
       "      <td>610 E Northfoothills Drive, Spokane</td>\n",
       "      <td>-</td>\n",
       "      <td>9-12</td>\n",
       "    </tr>\n",
       "  </tbody>\n",
       "</table>\n",
       "</div>"
      ],
      "text/plain": [
       "                               Name                              Address  \\\n",
       "0                10th Street School   7204 27th Ave NE, Stimson Crossing   \n",
       "1               49th Street Academy    14619B NE 49th Street, Mill Plain   \n",
       "2  A G West Black Hills High School     7741 Littlerock Road SW, Olympia   \n",
       "3               A J West Elementary              1801 Bay Ave., Aberdeen   \n",
       "4   A-3 Multiagency Adolescent Prog  610 E Northfoothills Drive, Spokane   \n",
       "\n",
       "  Rating Grade span  \n",
       "0     69        6-8  \n",
       "1      -       0-12  \n",
       "2     73       9-12  \n",
       "3     20       PK-6  \n",
       "4      -       9-12  "
      ]
     },
     "execution_count": 16,
     "metadata": {},
     "output_type": "execute_result"
    }
   ],
   "source": [
    "df_schools.head()"
   ]
  },
  {
   "cell_type": "code",
   "execution_count": 17,
   "metadata": {},
   "outputs": [],
   "source": [
    "df_schools['street'] = df_schools['Address'].apply(lambda x: x.split(',')[0])\n",
    "df_schools['city'] = df_schools['Address'].apply(lambda x: x.split(',')[1])"
   ]
  },
  {
   "cell_type": "code",
   "execution_count": 18,
   "metadata": {},
   "outputs": [],
   "source": [
    "df_schools = df_schools.rename(columns={'Name': 'school_name', 'Rating': 'school_rating'})\n",
    "df_schools = df_schools.drop(['Address', 'Grade span', 'street'], axis='columns')"
   ]
  },
  {
   "cell_type": "code",
   "execution_count": 19,
   "metadata": {},
   "outputs": [],
   "source": [
    "df_schools['school_rating'] = df_schools['school_rating'].replace('-', np.NaN)"
   ]
  },
  {
   "cell_type": "markdown",
   "metadata": {},
   "source": [
    "## EDA and Summary Statistics"
   ]
  },
  {
   "cell_type": "code",
   "execution_count": 3,
   "metadata": {
    "scrolled": true
   },
   "outputs": [
    {
     "name": "stdout",
     "output_type": "stream",
     "text": [
      "<class 'pandas.core.frame.DataFrame'>\n",
      "RangeIndex: 4600 entries, 0 to 4599\n",
      "Data columns (total 18 columns):\n",
      "date             4600 non-null object\n",
      "price            4600 non-null float64\n",
      "bedrooms         4600 non-null float64\n",
      "bathrooms        4600 non-null float64\n",
      "sqft_living      4600 non-null int64\n",
      "sqft_lot         4600 non-null int64\n",
      "floors           4600 non-null float64\n",
      "waterfront       4600 non-null int64\n",
      "view             4600 non-null int64\n",
      "condition        4600 non-null int64\n",
      "sqft_above       4600 non-null int64\n",
      "sqft_basement    4600 non-null int64\n",
      "yr_built         4600 non-null int64\n",
      "yr_renovated     4600 non-null int64\n",
      "street           4600 non-null object\n",
      "city             4600 non-null object\n",
      "statezip         4600 non-null object\n",
      "country          4600 non-null object\n",
      "dtypes: float64(4), int64(9), object(5)\n",
      "memory usage: 647.0+ KB\n"
     ]
    }
   ],
   "source": [
    "# inspecting structure of dataframe & number of null values (if any)\n",
    "df1.info()"
   ]
  },
  {
   "cell_type": "code",
   "execution_count": 4,
   "metadata": {
    "scrolled": false
   },
   "outputs": [
    {
     "data": {
      "text/html": [
       "<div>\n",
       "<style scoped>\n",
       "    .dataframe tbody tr th:only-of-type {\n",
       "        vertical-align: middle;\n",
       "    }\n",
       "\n",
       "    .dataframe tbody tr th {\n",
       "        vertical-align: top;\n",
       "    }\n",
       "\n",
       "    .dataframe thead th {\n",
       "        text-align: right;\n",
       "    }\n",
       "</style>\n",
       "<table border=\"1\" class=\"dataframe\">\n",
       "  <thead>\n",
       "    <tr style=\"text-align: right;\">\n",
       "      <th></th>\n",
       "      <th>price</th>\n",
       "      <th>bedrooms</th>\n",
       "      <th>bathrooms</th>\n",
       "      <th>sqft_living</th>\n",
       "      <th>sqft_lot</th>\n",
       "      <th>floors</th>\n",
       "      <th>waterfront</th>\n",
       "      <th>view</th>\n",
       "      <th>condition</th>\n",
       "      <th>sqft_above</th>\n",
       "      <th>sqft_basement</th>\n",
       "      <th>yr_built</th>\n",
       "      <th>yr_renovated</th>\n",
       "    </tr>\n",
       "  </thead>\n",
       "  <tbody>\n",
       "    <tr>\n",
       "      <th>count</th>\n",
       "      <td>4.600000e+03</td>\n",
       "      <td>4600.000000</td>\n",
       "      <td>4600.000000</td>\n",
       "      <td>4600.000000</td>\n",
       "      <td>4.600000e+03</td>\n",
       "      <td>4600.000000</td>\n",
       "      <td>4600.000000</td>\n",
       "      <td>4600.000000</td>\n",
       "      <td>4600.000000</td>\n",
       "      <td>4600.000000</td>\n",
       "      <td>4600.000000</td>\n",
       "      <td>4600.000000</td>\n",
       "      <td>4600.000000</td>\n",
       "    </tr>\n",
       "    <tr>\n",
       "      <th>mean</th>\n",
       "      <td>5.519630e+05</td>\n",
       "      <td>3.400870</td>\n",
       "      <td>2.160815</td>\n",
       "      <td>2139.346957</td>\n",
       "      <td>1.485252e+04</td>\n",
       "      <td>1.512065</td>\n",
       "      <td>0.007174</td>\n",
       "      <td>0.240652</td>\n",
       "      <td>3.451739</td>\n",
       "      <td>1827.265435</td>\n",
       "      <td>312.081522</td>\n",
       "      <td>1970.786304</td>\n",
       "      <td>808.608261</td>\n",
       "    </tr>\n",
       "    <tr>\n",
       "      <th>std</th>\n",
       "      <td>5.638347e+05</td>\n",
       "      <td>0.908848</td>\n",
       "      <td>0.783781</td>\n",
       "      <td>963.206916</td>\n",
       "      <td>3.588444e+04</td>\n",
       "      <td>0.538288</td>\n",
       "      <td>0.084404</td>\n",
       "      <td>0.778405</td>\n",
       "      <td>0.677230</td>\n",
       "      <td>862.168977</td>\n",
       "      <td>464.137228</td>\n",
       "      <td>29.731848</td>\n",
       "      <td>979.414536</td>\n",
       "    </tr>\n",
       "    <tr>\n",
       "      <th>min</th>\n",
       "      <td>0.000000e+00</td>\n",
       "      <td>0.000000</td>\n",
       "      <td>0.000000</td>\n",
       "      <td>370.000000</td>\n",
       "      <td>6.380000e+02</td>\n",
       "      <td>1.000000</td>\n",
       "      <td>0.000000</td>\n",
       "      <td>0.000000</td>\n",
       "      <td>1.000000</td>\n",
       "      <td>370.000000</td>\n",
       "      <td>0.000000</td>\n",
       "      <td>1900.000000</td>\n",
       "      <td>0.000000</td>\n",
       "    </tr>\n",
       "    <tr>\n",
       "      <th>25%</th>\n",
       "      <td>3.228750e+05</td>\n",
       "      <td>3.000000</td>\n",
       "      <td>1.750000</td>\n",
       "      <td>1460.000000</td>\n",
       "      <td>5.000750e+03</td>\n",
       "      <td>1.000000</td>\n",
       "      <td>0.000000</td>\n",
       "      <td>0.000000</td>\n",
       "      <td>3.000000</td>\n",
       "      <td>1190.000000</td>\n",
       "      <td>0.000000</td>\n",
       "      <td>1951.000000</td>\n",
       "      <td>0.000000</td>\n",
       "    </tr>\n",
       "    <tr>\n",
       "      <th>50%</th>\n",
       "      <td>4.609435e+05</td>\n",
       "      <td>3.000000</td>\n",
       "      <td>2.250000</td>\n",
       "      <td>1980.000000</td>\n",
       "      <td>7.683000e+03</td>\n",
       "      <td>1.500000</td>\n",
       "      <td>0.000000</td>\n",
       "      <td>0.000000</td>\n",
       "      <td>3.000000</td>\n",
       "      <td>1590.000000</td>\n",
       "      <td>0.000000</td>\n",
       "      <td>1976.000000</td>\n",
       "      <td>0.000000</td>\n",
       "    </tr>\n",
       "    <tr>\n",
       "      <th>75%</th>\n",
       "      <td>6.549625e+05</td>\n",
       "      <td>4.000000</td>\n",
       "      <td>2.500000</td>\n",
       "      <td>2620.000000</td>\n",
       "      <td>1.100125e+04</td>\n",
       "      <td>2.000000</td>\n",
       "      <td>0.000000</td>\n",
       "      <td>0.000000</td>\n",
       "      <td>4.000000</td>\n",
       "      <td>2300.000000</td>\n",
       "      <td>610.000000</td>\n",
       "      <td>1997.000000</td>\n",
       "      <td>1999.000000</td>\n",
       "    </tr>\n",
       "    <tr>\n",
       "      <th>max</th>\n",
       "      <td>2.659000e+07</td>\n",
       "      <td>9.000000</td>\n",
       "      <td>8.000000</td>\n",
       "      <td>13540.000000</td>\n",
       "      <td>1.074218e+06</td>\n",
       "      <td>3.500000</td>\n",
       "      <td>1.000000</td>\n",
       "      <td>4.000000</td>\n",
       "      <td>5.000000</td>\n",
       "      <td>9410.000000</td>\n",
       "      <td>4820.000000</td>\n",
       "      <td>2014.000000</td>\n",
       "      <td>2014.000000</td>\n",
       "    </tr>\n",
       "  </tbody>\n",
       "</table>\n",
       "</div>"
      ],
      "text/plain": [
       "              price     bedrooms    bathrooms   sqft_living      sqft_lot  \\\n",
       "count  4.600000e+03  4600.000000  4600.000000   4600.000000  4.600000e+03   \n",
       "mean   5.519630e+05     3.400870     2.160815   2139.346957  1.485252e+04   \n",
       "std    5.638347e+05     0.908848     0.783781    963.206916  3.588444e+04   \n",
       "min    0.000000e+00     0.000000     0.000000    370.000000  6.380000e+02   \n",
       "25%    3.228750e+05     3.000000     1.750000   1460.000000  5.000750e+03   \n",
       "50%    4.609435e+05     3.000000     2.250000   1980.000000  7.683000e+03   \n",
       "75%    6.549625e+05     4.000000     2.500000   2620.000000  1.100125e+04   \n",
       "max    2.659000e+07     9.000000     8.000000  13540.000000  1.074218e+06   \n",
       "\n",
       "            floors   waterfront         view    condition   sqft_above  \\\n",
       "count  4600.000000  4600.000000  4600.000000  4600.000000  4600.000000   \n",
       "mean      1.512065     0.007174     0.240652     3.451739  1827.265435   \n",
       "std       0.538288     0.084404     0.778405     0.677230   862.168977   \n",
       "min       1.000000     0.000000     0.000000     1.000000   370.000000   \n",
       "25%       1.000000     0.000000     0.000000     3.000000  1190.000000   \n",
       "50%       1.500000     0.000000     0.000000     3.000000  1590.000000   \n",
       "75%       2.000000     0.000000     0.000000     4.000000  2300.000000   \n",
       "max       3.500000     1.000000     4.000000     5.000000  9410.000000   \n",
       "\n",
       "       sqft_basement     yr_built  yr_renovated  \n",
       "count    4600.000000  4600.000000   4600.000000  \n",
       "mean      312.081522  1970.786304    808.608261  \n",
       "std       464.137228    29.731848    979.414536  \n",
       "min         0.000000  1900.000000      0.000000  \n",
       "25%         0.000000  1951.000000      0.000000  \n",
       "50%         0.000000  1976.000000      0.000000  \n",
       "75%       610.000000  1997.000000   1999.000000  \n",
       "max      4820.000000  2014.000000   2014.000000  "
      ]
     },
     "execution_count": 4,
     "metadata": {},
     "output_type": "execute_result"
    }
   ],
   "source": [
    "df1.describe()\n",
    "\n",
    "#notice: price, bedrooms, & bathrooms have min of 0. Needs furthern investigation"
   ]
  },
  {
   "cell_type": "markdown",
   "metadata": {},
   "source": [
    "Notice `price`, `bedrooms`, & `bathroom` have a minimum value of 0. Needs further investigation."
   ]
  },
  {
   "cell_type": "markdown",
   "metadata": {},
   "source": [
    "## Some statistics"
   ]
  },
  {
   "cell_type": "code",
   "execution_count": 22,
   "metadata": {},
   "outputs": [
    {
     "name": "stdout",
     "output_type": "stream",
     "text": [
      "Statistics for Washington housing dataset:\n",
      "\n",
      "Minimum price: $0.0\n",
      "Maximum price: $26590000.0\n",
      "Mean price: $551962.99\n",
      "Median price $460943.46\n",
      "Standard deviation of prices: $563773.41\n"
     ]
    }
   ],
   "source": [
    "# Minimum price of the data\n",
    "minimum_price = round(np.amin(df1[\"price\"]), 2)\n",
    "\n",
    "# Maximum price of the data\n",
    "maximum_price = round(np.amax(df1[\"price\"]), 2)\n",
    "\n",
    "# Mean price of the data\n",
    "mean_price = round(np.mean(df1[\"price\"]), 2)\n",
    "\n",
    "# Median price of the data\n",
    "median_price = round(np.median(df1[\"price\"]), 2)\n",
    "\n",
    "# Standard deviation of prices of the data\n",
    "std_price = round(np.std(df1[\"price\"]), 2)\n",
    "\n",
    "# Show the calculated statistics\n",
    "print(\"Statistics for Washington housing dataset:\\n\")\n",
    "print(\"Minimum price: ${}\".format(minimum_price)) \n",
    "print(\"Maximum price: ${}\".format(maximum_price))\n",
    "print(\"Mean price: ${}\".format(mean_price))\n",
    "print(\"Median price ${}\".format(median_price))\n",
    "print(\"Standard deviation of prices: ${}\".format(std_price))"
   ]
  },
  {
   "cell_type": "markdown",
   "metadata": {},
   "source": [
    "## Feature Observation"
   ]
  },
  {
   "cell_type": "markdown",
   "metadata": {},
   "source": [
    "Confirm sqft_living is sqft_above + sqft_basement?"
   ]
  },
  {
   "cell_type": "code",
   "execution_count": 23,
   "metadata": {},
   "outputs": [
    {
     "data": {
      "text/plain": [
       "True"
      ]
     },
     "execution_count": 23,
     "metadata": {},
     "output_type": "execute_result"
    }
   ],
   "source": [
    "# Notice sqft_above & sqft_basement add up to sqft_living.\n",
    "(df1.sqft_living == df1.sqft_above + df1.sqft_basement).all()"
   ]
  },
  {
   "cell_type": "markdown",
   "metadata": {},
   "source": [
    "## Feature Engineering"
   ]
  },
  {
   "cell_type": "code",
   "execution_count": 24,
   "metadata": {
    "scrolled": true
   },
   "outputs": [
    {
     "data": {
      "text/plain": [
       "\"#Number of properties in the zip\\nzip_count = df2['zipcode'].value_counts().to_dict()\\ndf2['N-zip_count'] = df2['zipcode'].map(zip_count)\\n\\n#Number of properties in the city\\ncity_count = df2['city'].value_counts().to_dict()\\ndf2['N-city_count'] = df2['city'].map(city_count)\\n\\n#Number of properties in the state\\nstate_count = df2['state'].value_counts().to_dict()\\ndf2['N-state_count'] = df2['state'].map(state_count)\""
      ]
     },
     "execution_count": 24,
     "metadata": {},
     "output_type": "execute_result"
    }
   ],
   "source": [
    "df2 = df1.copy()\n",
    "\n",
    "# change date col to datetime\n",
    "df2['date'] = pd.to_datetime(df2['date'])\n",
    "\n",
    "# change data types of 'waterfront' & 'condition' to categorical\n",
    "df2[['waterfront', 'condition']] = df1[['waterfront', 'condition']].astype('category')\n",
    "\n",
    "# splittig statezip into state & zipcode features & removing statezip\n",
    "df2['state'] = df2['statezip'].apply(lambda x: x.split(' ')[0])\n",
    "df2['zipcode'] = df2['statezip'].apply(lambda x: int(x.split(' ')[1]))\n",
    "df2 = df2.drop('statezip', axis='columns')\n",
    "\n",
    "# creating total_sqft feature: sqft_above + sqft_lot\n",
    "df2['total_sqft'] = df2.sqft_living + df2.sqft_lot\n",
    "\n",
    "# creating month feature\n",
    "df2['month'] = pd.DatetimeIndex(df2['date']).month\n",
    "\n",
    "\n",
    "'''#Number of properties in the zip\n",
    "zip_count = df2['zipcode'].value_counts().to_dict()\n",
    "df2['N-zip_count'] = df2['zipcode'].map(zip_count)\n",
    "\n",
    "#Number of properties in the city\n",
    "city_count = df2['city'].value_counts().to_dict()\n",
    "df2['N-city_count'] = df2['city'].map(city_count)\n",
    "\n",
    "#Number of properties in the state\n",
    "state_count = df2['state'].value_counts().to_dict()\n",
    "df2['N-state_count'] = df2['state'].map(state_count)'''"
   ]
  },
  {
   "cell_type": "code",
   "execution_count": 25,
   "metadata": {
    "scrolled": true
   },
   "outputs": [
    {
     "data": {
      "text/plain": [
       "\"# one hot encoding zipcode\\nfrom numpy import asarray\\nfrom sklearn.preprocessing import OneHotEncoder\\nencoder = OneHotEncoder(sparse=False)\\nzipcode = df2['zipcode'].values.reshape(-1,1)\\n# transform data\\nzipcode_onehot = encoder.fit_transform(zipcode)\\nzipcode_onehot\""
      ]
     },
     "execution_count": 25,
     "metadata": {},
     "output_type": "execute_result"
    }
   ],
   "source": [
    "'''# one hot encoding zipcode\n",
    "from numpy import asarray\n",
    "from sklearn.preprocessing import OneHotEncoder\n",
    "encoder = OneHotEncoder(sparse=False)\n",
    "zipcode = df2['zipcode'].values.reshape(-1,1)\n",
    "# transform data\n",
    "zipcode_onehot = encoder.fit_transform(zipcode)\n",
    "zipcode_onehot'''"
   ]
  },
  {
   "cell_type": "code",
   "execution_count": 26,
   "metadata": {},
   "outputs": [
    {
     "data": {
      "text/plain": [
       "\"\\n'Carnation', 'Snoqualmie', 'Duvall', 'Burien', 'Covington',\\n       'Inglewood-Finn Hill', 'Kenmore', 'Newcastle', 'Mercer Island',\\n       'Black Diamond', 'Ravensdale', 'Clyde Hill', 'Algona', 'Skykomish',\\n       'Tukwila', 'Vashon', 'Yarrow Point', 'SeaTac', 'Medina',\\n       'Enumclaw', 'Snoqualmie Pass', 'Pacific', 'Beaux Arts Village',\\n       'Preston', 'Milton'\\n\\n\\ndf2['population'] = {'Seattle': 668342, 'Renton': 98404, 'Bellevue': 136426, 'Redmond': 59285, \\n                     'Shoreline': 55174, 'Kent': 125560, 'Maple Valley': 25125, 'North Bend': 6578, \\n                     'Lake Forest Park': 13184, 'Sammamish': 51229, 'Auburn': 76347, 'Des Moines': 31011, \\n                     'Bothell': 61192, 'Federal Way': 93425, 'Kirkland': 85763, 'Issaquah': 34056, \\n                     'Woodinville': 11372, 'Normandy Park': 6615, 'Fall City': NaN, 'Carnation': , \\n                     'Snoqualmie', 'Duvall', 'Burien', 'Covington',\\n       'Inglewood-Finn Hill', 'Kenmore', 'Newcastle', 'Mercer Island',\\n       'Black Diamond', 'Ravensdale', 'Clyde Hill', 'Algona', 'Skykomish',\\n       'Tukwila', 'Vashon', 'Yarrow Point', 'SeaTac', 'Medina',\\n       'Enumclaw', 'Snoqualmie Pass', 'Pacific', 'Beaux Arts Village',\\n       'Preston', 'Milton'}\\n\\ndf2['avg_salary'] = {}\""
      ]
     },
     "execution_count": 26,
     "metadata": {},
     "output_type": "execute_result"
    }
   ],
   "source": [
    "'''\n",
    "'Carnation', 'Snoqualmie', 'Duvall', 'Burien', 'Covington',\n",
    "       'Inglewood-Finn Hill', 'Kenmore', 'Newcastle', 'Mercer Island',\n",
    "       'Black Diamond', 'Ravensdale', 'Clyde Hill', 'Algona', 'Skykomish',\n",
    "       'Tukwila', 'Vashon', 'Yarrow Point', 'SeaTac', 'Medina',\n",
    "       'Enumclaw', 'Snoqualmie Pass', 'Pacific', 'Beaux Arts Village',\n",
    "       'Preston', 'Milton'\n",
    "\n",
    "\n",
    "df2['population'] = {'Seattle': 668342, 'Renton': 98404, 'Bellevue': 136426, 'Redmond': 59285, \n",
    "                     'Shoreline': 55174, 'Kent': 125560, 'Maple Valley': 25125, 'North Bend': 6578, \n",
    "                     'Lake Forest Park': 13184, 'Sammamish': 51229, 'Auburn': 76347, 'Des Moines': 31011, \n",
    "                     'Bothell': 61192, 'Federal Way': 93425, 'Kirkland': 85763, 'Issaquah': 34056, \n",
    "                     'Woodinville': 11372, 'Normandy Park': 6615, 'Fall City': NaN, 'Carnation': , \n",
    "                     'Snoqualmie', 'Duvall', 'Burien', 'Covington',\n",
    "       'Inglewood-Finn Hill', 'Kenmore', 'Newcastle', 'Mercer Island',\n",
    "       'Black Diamond', 'Ravensdale', 'Clyde Hill', 'Algona', 'Skykomish',\n",
    "       'Tukwila', 'Vashon', 'Yarrow Point', 'SeaTac', 'Medina',\n",
    "       'Enumclaw', 'Snoqualmie Pass', 'Pacific', 'Beaux Arts Village',\n",
    "       'Preston', 'Milton'}\n",
    "\n",
    "df2['avg_salary'] = {}'''"
   ]
  },
  {
   "cell_type": "markdown",
   "metadata": {},
   "source": [
    "## Missing/zero values & outliers"
   ]
  },
  {
   "cell_type": "markdown",
   "metadata": {},
   "source": [
    "### Zero Values"
   ]
  },
  {
   "cell_type": "code",
   "execution_count": 27,
   "metadata": {
    "scrolled": true
   },
   "outputs": [
    {
     "data": {
      "text/plain": [
       "date                0\n",
       "price              49\n",
       "bedrooms            2\n",
       "bathrooms           2\n",
       "sqft_living         0\n",
       "sqft_lot            0\n",
       "floors              0\n",
       "waterfront       4567\n",
       "view             4140\n",
       "condition           0\n",
       "sqft_above          0\n",
       "sqft_basement    2745\n",
       "yr_built            0\n",
       "yr_renovated     2735\n",
       "street              0\n",
       "city                0\n",
       "country             0\n",
       "state               0\n",
       "zipcode             0\n",
       "total_sqft          0\n",
       "month               0\n",
       "dtype: int64"
      ]
     },
     "execution_count": 27,
     "metadata": {},
     "output_type": "execute_result"
    }
   ],
   "source": [
    "df3 = df2.copy()\n",
    "\n",
    "# counting the number of zero values in each column\n",
    "df3.isin([0]).sum()"
   ]
  },
  {
   "cell_type": "markdown",
   "metadata": {},
   "source": [
    "Notice: `waterfront` & `view` have categorical values of 0 & 1.  \n",
    "Nearly half of `yr_renovated` are 0.  \n",
    "Inspect the 0s in `bedrooms` & `bathrooms`"
   ]
  },
  {
   "cell_type": "code",
   "execution_count": 28,
   "metadata": {
    "scrolled": true
   },
   "outputs": [
    {
     "name": "stdout",
     "output_type": "stream",
     "text": [
      "There are 49 houses worth $0, which are 1.1% of entire data. Therefore created a column of boolean arrays with 1s for when price is $0 & 0s for when price is not $0.\n",
      "\n"
     ]
    }
   ],
   "source": [
    "# 0 Price\n",
    "\n",
    "price_zero_len = round((len(df3[df3.price == 0])/len(df3)) * 100, 1)\n",
    "print('There are {} houses worth $0, which are {}% of entire data. Therefore created a column of boolean arrays with 1s for when price is $0 & 0s for when price is not $0.'.format(len(df3[df3.price == 0]), price_zero_len))\n",
    "print('')\n",
    "\n",
    "df3['price_is_zero'] = (df3['price'] == 0).astype(int)"
   ]
  },
  {
   "cell_type": "code",
   "execution_count": 29,
   "metadata": {},
   "outputs": [
    {
     "name": "stdout",
     "output_type": "stream",
     "text": [
      "59.5% of yr_renovated column has 0 values, therefore added a column of boolean arrays with 1s for when yr_renov is 0 & 0s for others.\n"
     ]
    }
   ],
   "source": [
    "# 0 yr_renovated\n",
    "\n",
    "# percentage of 'yr_renovated' col with 0 entries\n",
    "yr_renov_0 = round((len(df3[df3['yr_renovated'] == 0]) / len(df3)) * 100, 1)\n",
    "print(\"{}% of yr_renovated column has 0 values, therefore added a column of boolean arrays with 1s for when yr_renov is 0 & 0s for others.\".format(yr_renov_0))\n",
    "\n",
    "df3['renov_date_is_zero'] = (df3['yr_renovated'] == 0).astype(int)"
   ]
  },
  {
   "cell_type": "code",
   "execution_count": 30,
   "metadata": {
    "scrolled": false
   },
   "outputs": [
    {
     "data": {
      "text/html": [
       "<div>\n",
       "<style scoped>\n",
       "    .dataframe tbody tr th:only-of-type {\n",
       "        vertical-align: middle;\n",
       "    }\n",
       "\n",
       "    .dataframe tbody tr th {\n",
       "        vertical-align: top;\n",
       "    }\n",
       "\n",
       "    .dataframe thead th {\n",
       "        text-align: right;\n",
       "    }\n",
       "</style>\n",
       "<table border=\"1\" class=\"dataframe\">\n",
       "  <thead>\n",
       "    <tr style=\"text-align: right;\">\n",
       "      <th></th>\n",
       "      <th>date</th>\n",
       "      <th>price</th>\n",
       "      <th>bedrooms</th>\n",
       "      <th>bathrooms</th>\n",
       "      <th>sqft_living</th>\n",
       "      <th>sqft_lot</th>\n",
       "      <th>floors</th>\n",
       "      <th>waterfront</th>\n",
       "      <th>view</th>\n",
       "      <th>condition</th>\n",
       "      <th>...</th>\n",
       "      <th>yr_renovated</th>\n",
       "      <th>street</th>\n",
       "      <th>city</th>\n",
       "      <th>country</th>\n",
       "      <th>state</th>\n",
       "      <th>zipcode</th>\n",
       "      <th>total_sqft</th>\n",
       "      <th>month</th>\n",
       "      <th>price_is_zero</th>\n",
       "      <th>renov_date_is_zero</th>\n",
       "    </tr>\n",
       "  </thead>\n",
       "  <tbody>\n",
       "    <tr>\n",
       "      <th>2365</th>\n",
       "      <td>2014-06-12</td>\n",
       "      <td>1095000.0</td>\n",
       "      <td>0.0</td>\n",
       "      <td>0.0</td>\n",
       "      <td>3064</td>\n",
       "      <td>4764</td>\n",
       "      <td>3.5</td>\n",
       "      <td>0</td>\n",
       "      <td>2</td>\n",
       "      <td>3</td>\n",
       "      <td>...</td>\n",
       "      <td>2009</td>\n",
       "      <td>814 E Howe St</td>\n",
       "      <td>Seattle</td>\n",
       "      <td>USA</td>\n",
       "      <td>WA</td>\n",
       "      <td>98102</td>\n",
       "      <td>7828</td>\n",
       "      <td>6</td>\n",
       "      <td>0</td>\n",
       "      <td>0</td>\n",
       "    </tr>\n",
       "    <tr>\n",
       "      <th>3209</th>\n",
       "      <td>2014-06-24</td>\n",
       "      <td>1295648.0</td>\n",
       "      <td>0.0</td>\n",
       "      <td>0.0</td>\n",
       "      <td>4810</td>\n",
       "      <td>28008</td>\n",
       "      <td>2.0</td>\n",
       "      <td>0</td>\n",
       "      <td>0</td>\n",
       "      <td>3</td>\n",
       "      <td>...</td>\n",
       "      <td>2009</td>\n",
       "      <td>20418 NE 64th Pl</td>\n",
       "      <td>Redmond</td>\n",
       "      <td>USA</td>\n",
       "      <td>WA</td>\n",
       "      <td>98053</td>\n",
       "      <td>32818</td>\n",
       "      <td>6</td>\n",
       "      <td>0</td>\n",
       "      <td>0</td>\n",
       "    </tr>\n",
       "  </tbody>\n",
       "</table>\n",
       "<p>2 rows × 23 columns</p>\n",
       "</div>"
      ],
      "text/plain": [
       "           date      price  bedrooms  bathrooms  sqft_living  sqft_lot  \\\n",
       "2365 2014-06-12  1095000.0       0.0        0.0         3064      4764   \n",
       "3209 2014-06-24  1295648.0       0.0        0.0         4810     28008   \n",
       "\n",
       "      floors waterfront  view condition  ...  yr_renovated            street  \\\n",
       "2365     3.5          0     2         3  ...          2009     814 E Howe St   \n",
       "3209     2.0          0     0         3  ...          2009  20418 NE 64th Pl   \n",
       "\n",
       "         city  country state zipcode total_sqft month  price_is_zero  \\\n",
       "2365  Seattle      USA    WA   98102       7828     6              0   \n",
       "3209  Redmond      USA    WA   98053      32818     6              0   \n",
       "\n",
       "      renov_date_is_zero  \n",
       "2365                   0  \n",
       "3209                   0  \n",
       "\n",
       "[2 rows x 23 columns]"
      ]
     },
     "execution_count": 30,
     "metadata": {},
     "output_type": "execute_result"
    }
   ],
   "source": [
    "# 0 bedrooms & bathrooms\n",
    "\n",
    "df3[df3.bedrooms == 0]"
   ]
  },
  {
   "cell_type": "markdown",
   "metadata": {},
   "source": [
    "There are 2 houses with 0s as their bedrooms & bathrooms shown above.  \n",
    "We can see that the houses are both worth over 1 mil, therefore the 0s must be errors.  \n",
    "Will replace 0s with the mean bedroom & bathroom values of 3 & 2 respectively."
   ]
  },
  {
   "cell_type": "code",
   "execution_count": 31,
   "metadata": {},
   "outputs": [],
   "source": [
    "df3[\"bedrooms\"].replace({0: round(df3[\"bedrooms\"].mean(), 0)}, inplace=True)\n",
    "df3[\"bathrooms\"].replace({0: round(df3[\"bathrooms\"].mean(), 0)}, inplace=True)"
   ]
  },
  {
   "cell_type": "code",
   "execution_count": 32,
   "metadata": {},
   "outputs": [],
   "source": [
    "# removing price outliers\n",
    "df_no_outs = df3[df3.price < 10000000].copy()\n",
    "\n",
    "# removing zero price\n",
    "df_no_zeros = df_no_outs[df_no_outs[\"price\"] != 0]"
   ]
  },
  {
   "cell_type": "markdown",
   "metadata": {},
   "source": [
    "### Outliers"
   ]
  },
  {
   "cell_type": "code",
   "execution_count": 33,
   "metadata": {
    "scrolled": false
   },
   "outputs": [
    {
     "data": {
      "text/plain": [
       "Text(0.5, 1.0, 'Relationship between Bedrooms and Price')"
      ]
     },
     "execution_count": 33,
     "metadata": {},
     "output_type": "execute_result"
    },
    {
     "data": {
      "image/png": "[encoded data removed]",
      "text/plain": [
       "<Figure size 432x288 with 1 Axes>"
      ]
     },
     "metadata": {
      "needs_background": "light"
     },
     "output_type": "display_data"
    }
   ],
   "source": [
    "# Price\n",
    "\n",
    "plt.scatter(df3[\"bedrooms\"], df3[\"price\"].div(1000000), alpha = 0.3 ,s=60 , edgecolors='g')\n",
    "plt.xlabel(\"Number of bedrooms\")\n",
    "plt.ylabel(\"House Price ($M)\")\n",
    "plt.title(\"Relationship between Bedrooms and Price\")\n",
    "#plt.grid('on')\n",
    "#ax.set_facecolor('grey')"
   ]
  },
  {
   "cell_type": "markdown",
   "metadata": {},
   "source": [
    "Notice 2 outliers priced around \\\\$13 M & \\\\$26 M, both with 3 bedrooms."
   ]
  },
  {
   "cell_type": "code",
   "execution_count": 34,
   "metadata": {},
   "outputs": [
    {
     "data": {
      "text/plain": [
       "'\\n# normalized / scaled scatter plot of bedrooms vs price\\nX = df3[\"price\"].values.reshape(-1,1)\\nX = MinMaxScaler().fit_transform(X)\\nplt.scatter(df3[\"bedrooms\"], X, s=60, alpha=0.3, edgecolors=\\'g\\')\\nplt.xlabel(\"Number of bedrooms\")\\nplt.ylabel(\"Scaled House Price\")\\nplt.title(\"Relationship between Bedrooms and Price\")\\n#plt.grid(\\'on\\')\\n'"
      ]
     },
     "execution_count": 34,
     "metadata": {},
     "output_type": "execute_result"
    }
   ],
   "source": [
    "'''\n",
    "# normalized / scaled scatter plot of bedrooms vs price\n",
    "X = df3[\"price\"].values.reshape(-1,1)\n",
    "X = MinMaxScaler().fit_transform(X)\n",
    "plt.scatter(df3[\"bedrooms\"], X, s=60, alpha=0.3, edgecolors='g')\n",
    "plt.xlabel(\"Number of bedrooms\")\n",
    "plt.ylabel(\"Scaled House Price\")\n",
    "plt.title(\"Relationship between Bedrooms and Price\")\n",
    "#plt.grid('on')\n",
    "'''"
   ]
  },
  {
   "cell_type": "code",
   "execution_count": 35,
   "metadata": {
    "scrolled": true
   },
   "outputs": [
    {
     "data": {
      "text/plain": [
       "Text(0.5, 1.0, 'Relationship between Bedrooms and Price (Without Outliers)')"
      ]
     },
     "execution_count": 35,
     "metadata": {},
     "output_type": "execute_result"
    },
    {
     "data": {
      "image/png": "[encoded data removed]",
      "text/plain": [
       "<Figure size 432x288 with 1 Axes>"
      ]
     },
     "metadata": {
      "needs_background": "light"
     },
     "output_type": "display_data"
    }
   ],
   "source": [
    "# plot with removed price outliers\n",
    "plt.scatter(df_no_outs[\"bedrooms\"], np.divide(df_no_outs[\"price\"], 1000000), alpha = 0.3 ,s=60 , edgecolors='g')\n",
    "plt.xlabel(\"Number of bedrooms\")\n",
    "plt.ylabel(\"House Price ($M)\")\n",
    "plt.title(\"Relationship between Bedrooms and Price (Without Outliers)\")"
   ]
  },
  {
   "cell_type": "markdown",
   "metadata": {},
   "source": [
    "A polynomial (quadratic) regression might fit the data better.  \n",
    "(squared 'bedrooms' when modelling)"
   ]
  },
  {
   "cell_type": "code",
   "execution_count": 36,
   "metadata": {
    "scrolled": false
   },
   "outputs": [
    {
     "data": {
      "text/html": [
       "<div>\n",
       "<style scoped>\n",
       "    .dataframe tbody tr th:only-of-type {\n",
       "        vertical-align: middle;\n",
       "    }\n",
       "\n",
       "    .dataframe tbody tr th {\n",
       "        vertical-align: top;\n",
       "    }\n",
       "\n",
       "    .dataframe thead th {\n",
       "        text-align: right;\n",
       "    }\n",
       "</style>\n",
       "<table border=\"1\" class=\"dataframe\">\n",
       "  <thead>\n",
       "    <tr style=\"text-align: right;\">\n",
       "      <th></th>\n",
       "      <th>date</th>\n",
       "      <th>price</th>\n",
       "      <th>bedrooms</th>\n",
       "      <th>bathrooms</th>\n",
       "      <th>sqft_living</th>\n",
       "      <th>sqft_lot</th>\n",
       "      <th>floors</th>\n",
       "      <th>waterfront</th>\n",
       "      <th>view</th>\n",
       "      <th>condition</th>\n",
       "      <th>...</th>\n",
       "      <th>yr_renovated</th>\n",
       "      <th>street</th>\n",
       "      <th>city</th>\n",
       "      <th>country</th>\n",
       "      <th>state</th>\n",
       "      <th>zipcode</th>\n",
       "      <th>total_sqft</th>\n",
       "      <th>month</th>\n",
       "      <th>price_is_zero</th>\n",
       "      <th>renov_date_is_zero</th>\n",
       "    </tr>\n",
       "  </thead>\n",
       "  <tbody>\n",
       "    <tr>\n",
       "      <th>4346</th>\n",
       "      <td>2014-06-23</td>\n",
       "      <td>12899000.0</td>\n",
       "      <td>3.0</td>\n",
       "      <td>2.5</td>\n",
       "      <td>2190</td>\n",
       "      <td>11394</td>\n",
       "      <td>1.0</td>\n",
       "      <td>0</td>\n",
       "      <td>0</td>\n",
       "      <td>3</td>\n",
       "      <td>...</td>\n",
       "      <td>2001</td>\n",
       "      <td>5426 40th Ave W</td>\n",
       "      <td>Seattle</td>\n",
       "      <td>USA</td>\n",
       "      <td>WA</td>\n",
       "      <td>98199</td>\n",
       "      <td>13584</td>\n",
       "      <td>6</td>\n",
       "      <td>0</td>\n",
       "      <td>0</td>\n",
       "    </tr>\n",
       "    <tr>\n",
       "      <th>4350</th>\n",
       "      <td>2014-07-03</td>\n",
       "      <td>26590000.0</td>\n",
       "      <td>3.0</td>\n",
       "      <td>2.0</td>\n",
       "      <td>1180</td>\n",
       "      <td>7793</td>\n",
       "      <td>1.0</td>\n",
       "      <td>0</td>\n",
       "      <td>0</td>\n",
       "      <td>4</td>\n",
       "      <td>...</td>\n",
       "      <td>0</td>\n",
       "      <td>12005 SE 219th Ct</td>\n",
       "      <td>Kent</td>\n",
       "      <td>USA</td>\n",
       "      <td>WA</td>\n",
       "      <td>98031</td>\n",
       "      <td>8973</td>\n",
       "      <td>7</td>\n",
       "      <td>0</td>\n",
       "      <td>1</td>\n",
       "    </tr>\n",
       "  </tbody>\n",
       "</table>\n",
       "<p>2 rows × 23 columns</p>\n",
       "</div>"
      ],
      "text/plain": [
       "           date       price  bedrooms  bathrooms  sqft_living  sqft_lot  \\\n",
       "4346 2014-06-23  12899000.0       3.0        2.5         2190     11394   \n",
       "4350 2014-07-03  26590000.0       3.0        2.0         1180      7793   \n",
       "\n",
       "      floors waterfront  view condition  ...  yr_renovated             street  \\\n",
       "4346     1.0          0     0         3  ...          2001    5426 40th Ave W   \n",
       "4350     1.0          0     0         4  ...             0  12005 SE 219th Ct   \n",
       "\n",
       "         city  country state zipcode total_sqft month  price_is_zero  \\\n",
       "4346  Seattle      USA    WA   98199      13584     6              0   \n",
       "4350     Kent      USA    WA   98031       8973     7              0   \n",
       "\n",
       "      renov_date_is_zero  \n",
       "4346                   0  \n",
       "4350                   1  \n",
       "\n",
       "[2 rows x 23 columns]"
      ]
     },
     "execution_count": 36,
     "metadata": {},
     "output_type": "execute_result"
    }
   ],
   "source": [
    "df3[df3.price > 10000000]"
   ]
  },
  {
   "cell_type": "markdown",
   "metadata": {},
   "source": [
    "House price of greater than $10 milion might be too high for a 3 bedroom house. Do they have higher square footage than the other houses?"
   ]
  },
  {
   "cell_type": "code",
   "execution_count": 37,
   "metadata": {
    "scrolled": true
   },
   "outputs": [
    {
     "data": {
      "text/plain": [
       "Text(0.5, 1.0, 'House Size vs Price')"
      ]
     },
     "execution_count": 37,
     "metadata": {},
     "output_type": "execute_result"
    },
    {
     "data": {
      "image/png": "[encoded data removed]",
      "text/plain": [
       "<Figure size 432x288 with 1 Axes>"
      ]
     },
     "metadata": {
      "needs_background": "light"
     },
     "output_type": "display_data"
    }
   ],
   "source": [
    "sns.regplot(data=df3, x='sqft_living', y='price', fit_reg=True, scatter_kws={'s':20})\n",
    "plt.title(\"House Size vs Price\")"
   ]
  },
  {
   "cell_type": "markdown",
   "metadata": {},
   "source": [
    "We see in the above plot that the size of the houses priced over $10 mil does not explain why they're priced very high. Might be an error."
   ]
  },
  {
   "cell_type": "code",
   "execution_count": null,
   "metadata": {},
   "outputs": [],
   "source": []
  },
  {
   "cell_type": "markdown",
   "metadata": {},
   "source": [
    "# Data Visualization"
   ]
  },
  {
   "cell_type": "code",
   "execution_count": 38,
   "metadata": {
    "scrolled": true
   },
   "outputs": [
    {
     "data": {
      "text/plain": [
       "<matplotlib.axes._subplots.AxesSubplot at 0x1a19b4e198>"
      ]
     },
     "execution_count": 38,
     "metadata": {},
     "output_type": "execute_result"
    },
    {
     "data": {
      "image/png": "[encoded data removed]",
      "text/plain": [
       "<Figure size 432x288 with 2 Axes>"
      ]
     },
     "metadata": {
      "needs_background": "light"
     },
     "output_type": "display_data"
    }
   ],
   "source": [
    "sns.heatmap(df3.corr(), square=True, cmap='RdYlGn')"
   ]
  },
  {
   "cell_type": "code",
   "execution_count": 39,
   "metadata": {
    "scrolled": false
   },
   "outputs": [
    {
     "data": {
      "text/plain": [
       "Text(0.5, 1.0, 'Barplot of Waterfront vs Price')"
      ]
     },
     "execution_count": 39,
     "metadata": {},
     "output_type": "execute_result"
    },
    {
     "data": {
      "image/png": "[encoded data removed]",
      "text/plain": [
       "<Figure size 432x288 with 1 Axes>"
      ]
     },
     "metadata": {
      "needs_background": "light"
     },
     "output_type": "display_data"
    }
   ],
   "source": [
    "sns.barplot(x=df3.waterfront, y=df3.price)\n",
    "plt.title(\"Barplot of Waterfront vs Price\")"
   ]
  },
  {
   "cell_type": "markdown",
   "metadata": {},
   "source": [
    "The above plot confirms that houses with waterfronts are priced higher than houses without."
   ]
  },
  {
   "cell_type": "code",
   "execution_count": 40,
   "metadata": {
    "scrolled": true
   },
   "outputs": [
    {
     "data": {
      "text/plain": [
       "Text(0.5, 1.0, 'House Condition vs Price')"
      ]
     },
     "execution_count": 40,
     "metadata": {},
     "output_type": "execute_result"
    },
    {
     "data": {
      "image/png": "[encoded data removed]",
      "text/plain": [
       "<Figure size 432x288 with 1 Axes>"
      ]
     },
     "metadata": {
      "needs_background": "light"
     },
     "output_type": "display_data"
    }
   ],
   "source": [
    "plt.scatter(df_no_outs[\"condition\"], df_no_outs[\"price\"].div(1000000), alpha = 0.3 ,s=60 , edgecolors='g')\n",
    "plt.xlabel(\"House Condition\")\n",
    "plt.ylabel(\"House Price ($M)\")\n",
    "#plt.ylim((0, 5))\n",
    "plt.title(\"House Condition vs Price\")"
   ]
  },
  {
   "cell_type": "markdown",
   "metadata": {},
   "source": [
    "As expected, the above plot shows that houses in poor condition are priced much lower than houses in better condition. It also shows that majority of the houses are in moderate condition (level 3). Follows a slightly parabolic shape."
   ]
  },
  {
   "cell_type": "code",
   "execution_count": 41,
   "metadata": {},
   "outputs": [
    {
     "data": {
      "text/plain": [
       "Text(0.5, 1.0, 'House size vs Price')"
      ]
     },
     "execution_count": 41,
     "metadata": {},
     "output_type": "execute_result"
    },
    {
     "data": {
      "image/png": "[encoded data removed]",
      "text/plain": [
       "<Figure size 432x288 with 1 Axes>"
      ]
     },
     "metadata": {
      "needs_background": "light"
     },
     "output_type": "display_data"
    }
   ],
   "source": [
    "plt.scatter(df3[\"sqft_living\"], df3[\"price\"].div(1000000), alpha = 0.3 ,s=60 , edgecolors='g')\n",
    "plt.xlabel(\"sqft_living\")\n",
    "plt.ylabel(\"House Price ($M)\")\n",
    "plt.ylim((0, 5))\n",
    "plt.title(\"House size vs Price\")"
   ]
  },
  {
   "cell_type": "markdown",
   "metadata": {},
   "source": [
    "We can see clearly that houses with higher square footages are worth more."
   ]
  },
  {
   "cell_type": "code",
   "execution_count": 42,
   "metadata": {
    "scrolled": true
   },
   "outputs": [
    {
     "data": {
      "text/plain": [
       "Text(0.5, 1.0, 'Lineplot of Year Built vs Price')"
      ]
     },
     "execution_count": 42,
     "metadata": {},
     "output_type": "execute_result"
    },
    {
     "data": {
      "image/png": "[encoded data removed]",
      "text/plain": [
       "<Figure size 432x288 with 1 Axes>"
      ]
     },
     "metadata": {
      "needs_background": "light"
     },
     "output_type": "display_data"
    }
   ],
   "source": [
    "sns.lineplot(df3.yr_built, df3.price)\n",
    "plt.ylim(300000,1000000)\n",
    "plt.title(\"Lineplot of Year Built vs Price\")"
   ]
  },
  {
   "cell_type": "markdown",
   "metadata": {},
   "source": [
    "In the above plot we can see that house prices are higher with houses that are very old and also new. Old houses could be priced higher due to their historical value."
   ]
  },
  {
   "cell_type": "markdown",
   "metadata": {},
   "source": [
    "### Scatterplot matrix & heatmap to visualize the pairwise relationships & correlations between features"
   ]
  },
  {
   "cell_type": "code",
   "execution_count": 43,
   "metadata": {
    "scrolled": true
   },
   "outputs": [
    {
     "data": {
      "text/plain": [
       "'sns.pairplot(df4, height=2.5)\\nplt.tight_layout()\\n'"
      ]
     },
     "execution_count": 43,
     "metadata": {},
     "output_type": "execute_result"
    },
    {
     "data": {
      "image/png": "[encoded data removed]",
      "text/plain": [
       "<Figure size 720x720 with 20 Axes>"
      ]
     },
     "metadata": {
      "needs_background": "light"
     },
     "output_type": "display_data"
    }
   ],
   "source": [
    "features = df_no_outs[['price', 'bedrooms', 'bathrooms', 'sqft_living']]\n",
    "\n",
    "sns.pairplot(features, height=2.5)\n",
    "plt.tight_layout()\n",
    "'''sns.pairplot(df4, height=2.5)\n",
    "plt.tight_layout()\n",
    "'''"
   ]
  },
  {
   "cell_type": "code",
   "execution_count": 44,
   "metadata": {
    "scrolled": true
   },
   "outputs": [
    {
     "data": {
      "text/plain": [
       "<matplotlib.axes._subplots.AxesSubplot at 0x1a1b258e48>"
      ]
     },
     "execution_count": 44,
     "metadata": {},
     "output_type": "execute_result"
    },
    {
     "data": {
      "image/png": "[encoded data removed]",
      "text/plain": [
       "<Figure size 432x288 with 2 Axes>"
      ]
     },
     "metadata": {
      "needs_background": "light"
     },
     "output_type": "display_data"
    }
   ],
   "source": [
    "sns.heatmap(features.corr(), square=True, cmap='Greens')"
   ]
  },
  {
   "cell_type": "code",
   "execution_count": null,
   "metadata": {},
   "outputs": [],
   "source": []
  },
  {
   "cell_type": "markdown",
   "metadata": {},
   "source": [
    "## Statistical Data Analysis"
   ]
  },
  {
   "cell_type": "code",
   "execution_count": 45,
   "metadata": {
    "scrolled": true
   },
   "outputs": [
    {
     "data": {
      "text/plain": [
       "<matplotlib.legend.Legend at 0x1a1b4b2e80>"
      ]
     },
     "execution_count": 45,
     "metadata": {},
     "output_type": "execute_result"
    },
    {
     "data": {
      "image/png": "[encoded data removed]",
      "text/plain": [
       "<Figure size 432x288 with 1 Axes>"
      ]
     },
     "metadata": {
      "needs_background": "light"
     },
     "output_type": "display_data"
    }
   ],
   "source": [
    "meanprice_bedrooms = df_no_outs.groupby('bedrooms')['price'].mean()\n",
    "medianprice_bedrooms = df_no_outs.groupby('bedrooms')['price'].median()\n",
    "\n",
    "plt.plot(meanprice_bedrooms, marker='.', linestyle='none', markersize='15', c='b', label='mean')\n",
    "plt.plot(medianprice_bedrooms, marker='.', linestyle='none', markersize='15', c='g', label='median')\n",
    "plt.title(\"Mean/Median price per bedroom\")\n",
    "plt.xlabel(\"Bedrooms\")\n",
    "plt.ylabel(\"Price ($)\")\n",
    "plt.legend()"
   ]
  },
  {
   "cell_type": "markdown",
   "metadata": {},
   "source": [
    "Notice the price drop at 9 bedrooms. This could be due to limited 9 bedroom data. Beides that, `bedrooms` & `price` have a linear relationship.\n",
    "\n",
    "Notice also that mean price is slightly larger than median price. This could be due to outliers affecting the mean."
   ]
  },
  {
   "cell_type": "code",
   "execution_count": 46,
   "metadata": {
    "scrolled": true
   },
   "outputs": [
    {
     "data": {
      "text/plain": [
       "0.318309808508883"
      ]
     },
     "execution_count": 46,
     "metadata": {},
     "output_type": "execute_result"
    }
   ],
   "source": [
    "corr, _  = pearsonr(df_no_outs['bedrooms'], df_no_outs['price'])\n",
    "corr"
   ]
  },
  {
   "cell_type": "markdown",
   "metadata": {},
   "source": [
    "The correlation between `bedrooms` and `price` seems quite low, but correlation between `bedrooms` & mean `price` would probably be higher."
   ]
  },
  {
   "cell_type": "code",
   "execution_count": 47,
   "metadata": {},
   "outputs": [
    {
     "data": {
      "text/plain": [
       "<matplotlib.legend.Legend at 0x1a1b519da0>"
      ]
     },
     "execution_count": 47,
     "metadata": {},
     "output_type": "execute_result"
    },
    {
     "data": {
      "image/png": "[encoded data removed]",
      "text/plain": [
       "<Figure size 432x288 with 1 Axes>"
      ]
     },
     "metadata": {
      "needs_background": "light"
     },
     "output_type": "display_data"
    }
   ],
   "source": [
    "meansqft_bedroom = df_no_outs.groupby(\"bedrooms\")[\"sqft_living\"].mean()\n",
    "mediansqft_bedroom = df_no_outs.groupby(\"bedrooms\")[\"sqft_living\"].median()\n",
    "\n",
    "plt.plot(meansqft_bedroom, marker='.', linestyle='none', markersize='15', label='mean', c='b')\n",
    "plt.plot(mediansqft_bedroom, marker='.', linestyle='none', markersize='15', label='median', c='g')\n",
    "plt.title(\"Mean sqft_living per bedroom\")\n",
    "plt.xlabel(\"Bedrooms\")\n",
    "plt.ylabel(\"House size (sq)\")\n",
    "plt.legend()"
   ]
  },
  {
   "cell_type": "markdown",
   "metadata": {},
   "source": [
    "Here, `bedrooms` and mean `sqft_living` have a strong positive linear relationship. The mean and median prices are very similar."
   ]
  },
  {
   "cell_type": "code",
   "execution_count": 48,
   "metadata": {},
   "outputs": [
    {
     "data": {
      "text/plain": [
       "0.5993653746492815"
      ]
     },
     "execution_count": 48,
     "metadata": {},
     "output_type": "execute_result"
    }
   ],
   "source": [
    "corr, _  = pearsonr(df_no_outs['bedrooms'], df_no_outs['sqft_living'])\n",
    "corr"
   ]
  },
  {
   "cell_type": "code",
   "execution_count": 49,
   "metadata": {
    "scrolled": true
   },
   "outputs": [
    {
     "data": {
      "text/plain": [
       "0.4651085818981163"
      ]
     },
     "execution_count": 49,
     "metadata": {},
     "output_type": "execute_result"
    }
   ],
   "source": [
    "corr, _  = pearsonr(df_no_outs['bathrooms'], df_no_outs['yr_built'])\n",
    "corr"
   ]
  },
  {
   "cell_type": "markdown",
   "metadata": {},
   "source": [
    "`bathrooms` & `yr_built` have a moderate positive correlation. This means newer houses are built with more bathrooms."
   ]
  },
  {
   "cell_type": "markdown",
   "metadata": {},
   "source": [
    "### ecdf plots of house price by month (to see if there's any shift)"
   ]
  },
  {
   "cell_type": "code",
   "execution_count": 50,
   "metadata": {},
   "outputs": [
    {
     "data": {
      "text/plain": [
       "array([5, 6, 7])"
      ]
     },
     "execution_count": 50,
     "metadata": {},
     "output_type": "execute_result"
    }
   ],
   "source": [
    "df_no_outs.month.unique()"
   ]
  },
  {
   "cell_type": "code",
   "execution_count": 51,
   "metadata": {},
   "outputs": [],
   "source": [
    "may_price = df_no_outs[df_no_outs.month==5]['price']\n",
    "june_price = df_no_outs[df_no_outs.month==6]['price']\n",
    "july_price = df_no_outs[df_no_outs.month==7]['price']"
   ]
  },
  {
   "cell_type": "code",
   "execution_count": 52,
   "metadata": {},
   "outputs": [],
   "source": [
    "def ecdf(data):\n",
    "    \"\"\"Compute ECDF for a one-dimensional array of measurements.\"\"\"\n",
    "    n = len(data)\n",
    "\n",
    "    x = np.sort(data)\n",
    "\n",
    "    y = np.arange(1, n+1) / n\n",
    "\n",
    "    return x, y"
   ]
  },
  {
   "cell_type": "code",
   "execution_count": 53,
   "metadata": {},
   "outputs": [
    {
     "data": {
      "image/png": "[encoded data removed]",
      "text/plain": [
       "<Figure size 432x288 with 1 Axes>"
      ]
     },
     "metadata": {
      "needs_background": "light"
     },
     "output_type": "display_data"
    }
   ],
   "source": [
    "# Compute ECDFs\n",
    "x_5, y_5 = ecdf(may_price)\n",
    "x_6, y_6 = ecdf(june_price)\n",
    "x_7, y_7 = ecdf(july_price)\n",
    "\n",
    "# Plot the ECDFs\n",
    "_ = plt.plot(x_5, y_5, marker='.', linestyle='none', markersize=5, c='b')\n",
    "_ = plt.plot(x_6, y_6, marker='.', linestyle='none', markersize=5, c='g')\n",
    "_ = plt.plot(x_7, y_7, marker='.', linestyle='none', markersize=5, c='y')\n",
    "\n",
    "# Set margins\n",
    "plt.margins(0.02)\n",
    "\n",
    "# Add axis labels and legend\n",
    "_ = plt.xlabel('price ($)')\n",
    "_ = plt.ylabel('ECDF')\n",
    "_ = plt.legend(('May', 'June', 'July'), loc='lower right')\n",
    "\n",
    "# Show the plot\n",
    "plt.show()"
   ]
  },
  {
   "cell_type": "code",
   "execution_count": 54,
   "metadata": {},
   "outputs": [
    {
     "data": {
      "text/plain": [
       "6    2178\n",
       "5    1768\n",
       "7     652\n",
       "Name: month, dtype: int64"
      ]
     },
     "execution_count": 54,
     "metadata": {},
     "output_type": "execute_result"
    }
   ],
   "source": [
    "df_no_outs.month.value_counts()"
   ]
  },
  {
   "cell_type": "markdown",
   "metadata": {},
   "source": [
    "There were significantly more houses sold in june than in July, but the house prices on average remained about the same."
   ]
  },
  {
   "cell_type": "code",
   "execution_count": 55,
   "metadata": {
    "scrolled": true
   },
   "outputs": [
    {
     "data": {
      "text/plain": [
       "0.0321886086732292"
      ]
     },
     "execution_count": 55,
     "metadata": {},
     "output_type": "execute_result"
    }
   ],
   "source": [
    "corr, _  = pearsonr(df_no_outs['month'], df_no_outs['price'])\n",
    "corr"
   ]
  },
  {
   "cell_type": "markdown",
   "metadata": {},
   "source": [
    "### Hypothesis Testing"
   ]
  },
  {
   "cell_type": "markdown",
   "metadata": {},
   "source": [
    "Ho: Prices of houses with different number of bedrooms are equal.  \n",
    "Ha: Prices of houses with different number of bedrooms were not equal."
   ]
  },
  {
   "cell_type": "markdown",
   "metadata": {},
   "source": [
    "t-test:\n",
    "I'll compare 2 groups: one including `bedrooms` and another excluding it."
   ]
  },
  {
   "cell_type": "code",
   "execution_count": 56,
   "metadata": {},
   "outputs": [],
   "source": [
    "w_bedrooms = df_no_zeros.drop(['bedrooms'], axis='columns')\n",
    "wo_bedrooms = df_no_zeros.copy()"
   ]
  },
  {
   "cell_type": "markdown",
   "metadata": {},
   "source": [
    "The heatmap gives us a visual representation of the features correlation with each other and with the target variable `price`. The following function calculates the importance of each feature in regards to its predictability of the target variable, i.e., the relationship of each feature with the target variable. "
   ]
  },
  {
   "cell_type": "code",
   "execution_count": 57,
   "metadata": {},
   "outputs": [],
   "source": [
    "from sklearn.feature_selection import f_regression\n",
    "from sklearn.feature_selection import SelectKBest\n",
    "\n",
    "def feature_importance(X, y, model='reg'):\n",
    "    score_func = {'reg': f_regression}\n",
    "\n",
    "    # Score each of the features\n",
    "    bestfeatures = SelectKBest(score_func=score_func[model], k='all')\n",
    "    fit = bestfeatures.fit(X, y)\n",
    "\n",
    "    # Organize and return the scores\n",
    "    featureScores = pd.DataFrame([X.columns, fit.scores_]).T\n",
    "    featureScores.columns = ['Feature', 'Score']\n",
    "    return featureScores.sort_values('Score', ascending=False).set_index('Feature') "
   ]
  },
  {
   "cell_type": "code",
   "execution_count": 58,
   "metadata": {},
   "outputs": [],
   "source": [
    "X = df_no_zeros.drop(['price', 'date', 'street', 'city', 'state', 'country'], axis='columns')\n",
    "y = pd.DataFrame(df_no_zeros['price'].values.reshape(-1,1))"
   ]
  },
  {
   "cell_type": "code",
   "execution_count": 59,
   "metadata": {},
   "outputs": [
    {
     "name": "stderr",
     "output_type": "stream",
     "text": [
      "//anaconda3/lib/python3.7/site-packages/sklearn/utils/validation.py:724: DataConversionWarning: A column-vector y was passed when a 1d array was expected. Please change the shape of y to (n_samples, ), for example using ravel().\n",
      "  y = column_or_1d(y, warn=True)\n",
      "//anaconda3/lib/python3.7/site-packages/sklearn/feature_selection/univariate_selection.py:299: RuntimeWarning: invalid value encountered in true_divide\n",
      "  corr /= X_norms\n",
      "//anaconda3/lib/python3.7/site-packages/scipy/stats/_distn_infrastructure.py:901: RuntimeWarning: invalid value encountered in greater\n",
      "  return (a < x) & (x < b)\n",
      "//anaconda3/lib/python3.7/site-packages/scipy/stats/_distn_infrastructure.py:901: RuntimeWarning: invalid value encountered in less\n",
      "  return (a < x) & (x < b)\n",
      "//anaconda3/lib/python3.7/site-packages/scipy/stats/_distn_infrastructure.py:1892: RuntimeWarning: invalid value encountered in less_equal\n",
      "  cond2 = cond0 & (x <= _a)\n"
     ]
    },
    {
     "data": {
      "text/html": [
       "<div>\n",
       "<style scoped>\n",
       "    .dataframe tbody tr th:only-of-type {\n",
       "        vertical-align: middle;\n",
       "    }\n",
       "\n",
       "    .dataframe tbody tr th {\n",
       "        vertical-align: top;\n",
       "    }\n",
       "\n",
       "    .dataframe thead th {\n",
       "        text-align: right;\n",
       "    }\n",
       "</style>\n",
       "<table border=\"1\" class=\"dataframe\">\n",
       "  <thead>\n",
       "    <tr style=\"text-align: right;\">\n",
       "      <th></th>\n",
       "      <th>Score</th>\n",
       "    </tr>\n",
       "    <tr>\n",
       "      <th>Feature</th>\n",
       "      <th></th>\n",
       "    </tr>\n",
       "  </thead>\n",
       "  <tbody>\n",
       "    <tr>\n",
       "      <th>sqft_living</th>\n",
       "      <td>4308.62</td>\n",
       "    </tr>\n",
       "    <tr>\n",
       "      <th>sqft_above</th>\n",
       "      <td>2520.3</td>\n",
       "    </tr>\n",
       "    <tr>\n",
       "      <th>bathrooms</th>\n",
       "      <td>1732.41</td>\n",
       "    </tr>\n",
       "    <tr>\n",
       "      <th>view</th>\n",
       "      <td>760.948</td>\n",
       "    </tr>\n",
       "    <tr>\n",
       "      <th>sqft_basement</th>\n",
       "      <td>589.633</td>\n",
       "    </tr>\n",
       "    <tr>\n",
       "      <th>bedrooms</th>\n",
       "      <td>577.201</td>\n",
       "    </tr>\n",
       "    <tr>\n",
       "      <th>floors</th>\n",
       "      <td>318.472</td>\n",
       "    </tr>\n",
       "    <tr>\n",
       "      <th>waterfront</th>\n",
       "      <td>258.101</td>\n",
       "    </tr>\n",
       "    <tr>\n",
       "      <th>total_sqft</th>\n",
       "      <td>46.2453</td>\n",
       "    </tr>\n",
       "    <tr>\n",
       "      <th>sqft_lot</th>\n",
       "      <td>31.0868</td>\n",
       "    </tr>\n",
       "    <tr>\n",
       "      <th>zipcode</th>\n",
       "      <td>25.3068</td>\n",
       "    </tr>\n",
       "    <tr>\n",
       "      <th>condition</th>\n",
       "      <td>12.2375</td>\n",
       "    </tr>\n",
       "    <tr>\n",
       "      <th>yr_renovated</th>\n",
       "      <td>7.51689</td>\n",
       "    </tr>\n",
       "    <tr>\n",
       "      <th>renov_date_is_zero</th>\n",
       "      <td>7.38838</td>\n",
       "    </tr>\n",
       "    <tr>\n",
       "      <th>month</th>\n",
       "      <td>4.44065</td>\n",
       "    </tr>\n",
       "    <tr>\n",
       "      <th>yr_built</th>\n",
       "      <td>3.05644</td>\n",
       "    </tr>\n",
       "    <tr>\n",
       "      <th>price_is_zero</th>\n",
       "      <td>NaN</td>\n",
       "    </tr>\n",
       "  </tbody>\n",
       "</table>\n",
       "</div>"
      ],
      "text/plain": [
       "                      Score\n",
       "Feature                    \n",
       "sqft_living         4308.62\n",
       "sqft_above           2520.3\n",
       "bathrooms           1732.41\n",
       "view                760.948\n",
       "sqft_basement       589.633\n",
       "bedrooms            577.201\n",
       "floors              318.472\n",
       "waterfront          258.101\n",
       "total_sqft          46.2453\n",
       "sqft_lot            31.0868\n",
       "zipcode             25.3068\n",
       "condition           12.2375\n",
       "yr_renovated        7.51689\n",
       "renov_date_is_zero  7.38838\n",
       "month               4.44065\n",
       "yr_built            3.05644\n",
       "price_is_zero           NaN"
      ]
     },
     "execution_count": 59,
     "metadata": {},
     "output_type": "execute_result"
    }
   ],
   "source": [
    "feature_importance(X, y)"
   ]
  },
  {
   "cell_type": "markdown",
   "metadata": {},
   "source": [
    "### Hypothesis Test"
   ]
  },
  {
   "cell_type": "markdown",
   "metadata": {},
   "source": [
    "**Ho**:   \n",
    "**Ha**: "
   ]
  },
  {
   "cell_type": "markdown",
   "metadata": {},
   "source": [
    "t-test:\n",
    "I'll compare 2 groups: one including `bedrooms` and another excluding it."
   ]
  },
  {
   "cell_type": "code",
   "execution_count": 84,
   "metadata": {},
   "outputs": [],
   "source": [
    "w_bedrooms = df_no_zeros.drop(['bedrooms'], axis='columns')\n",
    "wo_bedrooms = df_no_zeros.copy()"
   ]
  },
  {
   "cell_type": "code",
   "execution_count": null,
   "metadata": {},
   "outputs": [],
   "source": []
  },
  {
   "cell_type": "markdown",
   "metadata": {},
   "source": [
    "### Hypothesis Test I"
   ]
  },
  {
   "cell_type": "markdown",
   "metadata": {},
   "source": [
    "**Ho**: Prices of houses with many bedrooms and a few bedrooms are equal.  \n",
    "**Ha**: Prices of houses with many bedrooms and a few bedrooms are different."
   ]
  },
  {
   "cell_type": "markdown",
   "metadata": {},
   "source": [
    "t-test:\n",
    "I'll compare 2 groups: one with `bedrooms` greater than or equal to 4, and another with less than 4."
   ]
  },
  {
   "cell_type": "code",
   "execution_count": 60,
   "metadata": {},
   "outputs": [
    {
     "data": {
      "text/plain": [
       "Ttest_indResult(statistic=20.612406446603853, pvalue=2.3169170411918228e-90)"
      ]
     },
     "execution_count": 60,
     "metadata": {},
     "output_type": "execute_result"
    }
   ],
   "source": [
    "many_bedrooms = df_no_outs[df_no_outs['bedrooms'] >= 4]['price']\n",
    "few_bedrooms = df_no_outs[df_no_outs['bedrooms'] < 4]['price']\n",
    "stats.ttest_ind(many_bedrooms, few_bedrooms)"
   ]
  },
  {
   "cell_type": "markdown",
   "metadata": {},
   "source": [
    "#### Result\n",
    "**t-stat**: 20.6  \n",
    "**p-val**: 2.3e-90 < 0.05  \n",
    "We reject the null hypothesis that houses with many bedrooms are priced around the same as houses with fewer bedrooms."
   ]
  },
  {
   "cell_type": "markdown",
   "metadata": {},
   "source": [
    "### Hypothesis Test II"
   ]
  },
  {
   "cell_type": "markdown",
   "metadata": {},
   "source": [
    "**Ho**: Houses with waterfronts are priced the same as houses without waterfronts.  \n",
    "**Ha**: Houses with waterfronts are priced differently than houses without waterfronts."
   ]
  },
  {
   "cell_type": "code",
   "execution_count": 61,
   "metadata": {},
   "outputs": [
    {
     "data": {
      "text/plain": [
       "Ttest_indResult(statistic=14.441521571804724, pvalue=2.8817562762538972e-46)"
      ]
     },
     "execution_count": 61,
     "metadata": {},
     "output_type": "execute_result"
    }
   ],
   "source": [
    "waterfront = df_no_outs[df_no_outs['waterfront'] == 1]['price']\n",
    "no_waterfront = df_no_outs[df_no_outs['waterfront'] == 0]['price']\n",
    "stats.ttest_ind(waterfront, no_waterfront)"
   ]
  },
  {
   "cell_type": "markdown",
   "metadata": {},
   "source": [
    "#### Result\n",
    "**t-stat**: 14.4  \n",
    "**p-val**: 2.9e-46 < 0.05  \n",
    "We reject the null hypothesis that houses with waterfronts are priced the same as houses without waterfronts."
   ]
  },
  {
   "cell_type": "code",
   "execution_count": 62,
   "metadata": {},
   "outputs": [],
   "source": [
    "merged = pd.merge(df3, df_pop)"
   ]
  },
  {
   "cell_type": "code",
   "execution_count": 63,
   "metadata": {
    "scrolled": true
   },
   "outputs": [
    {
     "data": {
      "text/html": [
       "<div>\n",
       "<style scoped>\n",
       "    .dataframe tbody tr th:only-of-type {\n",
       "        vertical-align: middle;\n",
       "    }\n",
       "\n",
       "    .dataframe tbody tr th {\n",
       "        vertical-align: top;\n",
       "    }\n",
       "\n",
       "    .dataframe thead th {\n",
       "        text-align: right;\n",
       "    }\n",
       "</style>\n",
       "<table border=\"1\" class=\"dataframe\">\n",
       "  <thead>\n",
       "    <tr style=\"text-align: right;\">\n",
       "      <th></th>\n",
       "      <th>date</th>\n",
       "      <th>price</th>\n",
       "      <th>bedrooms</th>\n",
       "      <th>bathrooms</th>\n",
       "      <th>sqft_living</th>\n",
       "      <th>sqft_lot</th>\n",
       "      <th>floors</th>\n",
       "      <th>waterfront</th>\n",
       "      <th>view</th>\n",
       "      <th>condition</th>\n",
       "      <th>...</th>\n",
       "      <th>street</th>\n",
       "      <th>city</th>\n",
       "      <th>country</th>\n",
       "      <th>state</th>\n",
       "      <th>zipcode</th>\n",
       "      <th>total_sqft</th>\n",
       "      <th>month</th>\n",
       "      <th>price_is_zero</th>\n",
       "      <th>renov_date_is_zero</th>\n",
       "      <th>population</th>\n",
       "    </tr>\n",
       "  </thead>\n",
       "  <tbody>\n",
       "    <tr>\n",
       "      <th>0</th>\n",
       "      <td>2014-05-02</td>\n",
       "      <td>313000.0</td>\n",
       "      <td>3.0</td>\n",
       "      <td>1.50</td>\n",
       "      <td>1340</td>\n",
       "      <td>7912</td>\n",
       "      <td>1.5</td>\n",
       "      <td>0</td>\n",
       "      <td>0</td>\n",
       "      <td>3</td>\n",
       "      <td>...</td>\n",
       "      <td>18810 Densmore Ave N</td>\n",
       "      <td>Shoreline</td>\n",
       "      <td>USA</td>\n",
       "      <td>WA</td>\n",
       "      <td>98133</td>\n",
       "      <td>9252</td>\n",
       "      <td>5</td>\n",
       "      <td>0</td>\n",
       "      <td>0</td>\n",
       "      <td>55174</td>\n",
       "    </tr>\n",
       "    <tr>\n",
       "      <th>1</th>\n",
       "      <td>2014-05-02</td>\n",
       "      <td>625000.0</td>\n",
       "      <td>4.0</td>\n",
       "      <td>2.50</td>\n",
       "      <td>2820</td>\n",
       "      <td>8408</td>\n",
       "      <td>2.0</td>\n",
       "      <td>0</td>\n",
       "      <td>0</td>\n",
       "      <td>3</td>\n",
       "      <td>...</td>\n",
       "      <td>17052 4th Ave NE</td>\n",
       "      <td>Shoreline</td>\n",
       "      <td>USA</td>\n",
       "      <td>WA</td>\n",
       "      <td>98155</td>\n",
       "      <td>11228</td>\n",
       "      <td>5</td>\n",
       "      <td>0</td>\n",
       "      <td>1</td>\n",
       "      <td>55174</td>\n",
       "    </tr>\n",
       "    <tr>\n",
       "      <th>2</th>\n",
       "      <td>2014-05-02</td>\n",
       "      <td>308500.0</td>\n",
       "      <td>2.0</td>\n",
       "      <td>1.00</td>\n",
       "      <td>850</td>\n",
       "      <td>6174</td>\n",
       "      <td>1.0</td>\n",
       "      <td>0</td>\n",
       "      <td>0</td>\n",
       "      <td>4</td>\n",
       "      <td>...</td>\n",
       "      <td>121 NE 147th St</td>\n",
       "      <td>Shoreline</td>\n",
       "      <td>USA</td>\n",
       "      <td>WA</td>\n",
       "      <td>98155</td>\n",
       "      <td>7024</td>\n",
       "      <td>5</td>\n",
       "      <td>0</td>\n",
       "      <td>0</td>\n",
       "      <td>55174</td>\n",
       "    </tr>\n",
       "    <tr>\n",
       "      <th>3</th>\n",
       "      <td>2014-05-05</td>\n",
       "      <td>400000.0</td>\n",
       "      <td>2.0</td>\n",
       "      <td>1.75</td>\n",
       "      <td>2110</td>\n",
       "      <td>9519</td>\n",
       "      <td>1.0</td>\n",
       "      <td>0</td>\n",
       "      <td>0</td>\n",
       "      <td>2</td>\n",
       "      <td>...</td>\n",
       "      <td>2120 NE 168th St</td>\n",
       "      <td>Shoreline</td>\n",
       "      <td>USA</td>\n",
       "      <td>WA</td>\n",
       "      <td>98155</td>\n",
       "      <td>11629</td>\n",
       "      <td>5</td>\n",
       "      <td>0</td>\n",
       "      <td>1</td>\n",
       "      <td>55174</td>\n",
       "    </tr>\n",
       "    <tr>\n",
       "      <th>4</th>\n",
       "      <td>2014-05-05</td>\n",
       "      <td>379950.0</td>\n",
       "      <td>4.0</td>\n",
       "      <td>1.75</td>\n",
       "      <td>1970</td>\n",
       "      <td>9389</td>\n",
       "      <td>1.0</td>\n",
       "      <td>0</td>\n",
       "      <td>0</td>\n",
       "      <td>5</td>\n",
       "      <td>...</td>\n",
       "      <td>1701 N 204th Pl</td>\n",
       "      <td>Shoreline</td>\n",
       "      <td>USA</td>\n",
       "      <td>WA</td>\n",
       "      <td>98133</td>\n",
       "      <td>11359</td>\n",
       "      <td>5</td>\n",
       "      <td>0</td>\n",
       "      <td>1</td>\n",
       "      <td>55174</td>\n",
       "    </tr>\n",
       "  </tbody>\n",
       "</table>\n",
       "<p>5 rows × 24 columns</p>\n",
       "</div>"
      ],
      "text/plain": [
       "        date     price  bedrooms  bathrooms  sqft_living  sqft_lot  floors  \\\n",
       "0 2014-05-02  313000.0       3.0       1.50         1340      7912     1.5   \n",
       "1 2014-05-02  625000.0       4.0       2.50         2820      8408     2.0   \n",
       "2 2014-05-02  308500.0       2.0       1.00          850      6174     1.0   \n",
       "3 2014-05-05  400000.0       2.0       1.75         2110      9519     1.0   \n",
       "4 2014-05-05  379950.0       4.0       1.75         1970      9389     1.0   \n",
       "\n",
       "  waterfront  view condition  ...                street       city  country  \\\n",
       "0          0     0         3  ...  18810 Densmore Ave N  Shoreline      USA   \n",
       "1          0     0         3  ...      17052 4th Ave NE  Shoreline      USA   \n",
       "2          0     0         4  ...       121 NE 147th St  Shoreline      USA   \n",
       "3          0     0         2  ...      2120 NE 168th St  Shoreline      USA   \n",
       "4          0     0         5  ...       1701 N 204th Pl  Shoreline      USA   \n",
       "\n",
       "   state zipcode total_sqft month price_is_zero  renov_date_is_zero  \\\n",
       "0     WA   98133       9252     5             0                   0   \n",
       "1     WA   98155      11228     5             0                   1   \n",
       "2     WA   98155       7024     5             0                   0   \n",
       "3     WA   98155      11629     5             0                   1   \n",
       "4     WA   98133      11359     5             0                   1   \n",
       "\n",
       "   population  \n",
       "0       55174  \n",
       "1       55174  \n",
       "2       55174  \n",
       "3       55174  \n",
       "4       55174  \n",
       "\n",
       "[5 rows x 24 columns]"
      ]
     },
     "execution_count": 63,
     "metadata": {},
     "output_type": "execute_result"
    }
   ],
   "source": [
    "merged.head()"
   ]
  },
  {
   "cell_type": "code",
   "execution_count": 64,
   "metadata": {},
   "outputs": [
    {
     "data": {
      "text/html": [
       "<div>\n",
       "<style scoped>\n",
       "    .dataframe tbody tr th:only-of-type {\n",
       "        vertical-align: middle;\n",
       "    }\n",
       "\n",
       "    .dataframe tbody tr th {\n",
       "        vertical-align: top;\n",
       "    }\n",
       "\n",
       "    .dataframe thead th {\n",
       "        text-align: right;\n",
       "    }\n",
       "</style>\n",
       "<table border=\"1\" class=\"dataframe\">\n",
       "  <thead>\n",
       "    <tr style=\"text-align: right;\">\n",
       "      <th></th>\n",
       "      <th>school_name</th>\n",
       "      <th>school_rating</th>\n",
       "      <th>city</th>\n",
       "    </tr>\n",
       "  </thead>\n",
       "  <tbody>\n",
       "    <tr>\n",
       "      <th>0</th>\n",
       "      <td>10th Street School</td>\n",
       "      <td>69</td>\n",
       "      <td>Stimson Crossing</td>\n",
       "    </tr>\n",
       "    <tr>\n",
       "      <th>1</th>\n",
       "      <td>49th Street Academy</td>\n",
       "      <td>NaN</td>\n",
       "      <td>Mill Plain</td>\n",
       "    </tr>\n",
       "    <tr>\n",
       "      <th>2</th>\n",
       "      <td>A G West Black Hills High School</td>\n",
       "      <td>73</td>\n",
       "      <td>Olympia</td>\n",
       "    </tr>\n",
       "    <tr>\n",
       "      <th>3</th>\n",
       "      <td>A J West Elementary</td>\n",
       "      <td>20</td>\n",
       "      <td>Aberdeen</td>\n",
       "    </tr>\n",
       "    <tr>\n",
       "      <th>4</th>\n",
       "      <td>A-3 Multiagency Adolescent Prog</td>\n",
       "      <td>NaN</td>\n",
       "      <td>Spokane</td>\n",
       "    </tr>\n",
       "  </tbody>\n",
       "</table>\n",
       "</div>"
      ],
      "text/plain": [
       "                        school_name school_rating               city\n",
       "0                10th Street School            69   Stimson Crossing\n",
       "1               49th Street Academy           NaN         Mill Plain\n",
       "2  A G West Black Hills High School            73            Olympia\n",
       "3               A J West Elementary            20           Aberdeen\n",
       "4   A-3 Multiagency Adolescent Prog           NaN            Spokane"
      ]
     },
     "execution_count": 64,
     "metadata": {},
     "output_type": "execute_result"
    }
   ],
   "source": [
    "df_schools.head()"
   ]
  },
  {
   "cell_type": "code",
   "execution_count": 65,
   "metadata": {},
   "outputs": [],
   "source": [
    "merged2 = pd.merge(merged, df_schools, how='outer')"
   ]
  },
  {
   "cell_type": "code",
   "execution_count": 66,
   "metadata": {
    "scrolled": true
   },
   "outputs": [
    {
     "data": {
      "text/html": [
       "<div>\n",
       "<style scoped>\n",
       "    .dataframe tbody tr th:only-of-type {\n",
       "        vertical-align: middle;\n",
       "    }\n",
       "\n",
       "    .dataframe tbody tr th {\n",
       "        vertical-align: top;\n",
       "    }\n",
       "\n",
       "    .dataframe thead th {\n",
       "        text-align: right;\n",
       "    }\n",
       "</style>\n",
       "<table border=\"1\" class=\"dataframe\">\n",
       "  <thead>\n",
       "    <tr style=\"text-align: right;\">\n",
       "      <th></th>\n",
       "      <th>date</th>\n",
       "      <th>price</th>\n",
       "      <th>bedrooms</th>\n",
       "      <th>bathrooms</th>\n",
       "      <th>sqft_living</th>\n",
       "      <th>sqft_lot</th>\n",
       "      <th>floors</th>\n",
       "      <th>waterfront</th>\n",
       "      <th>view</th>\n",
       "      <th>condition</th>\n",
       "      <th>...</th>\n",
       "      <th>country</th>\n",
       "      <th>state</th>\n",
       "      <th>zipcode</th>\n",
       "      <th>total_sqft</th>\n",
       "      <th>month</th>\n",
       "      <th>price_is_zero</th>\n",
       "      <th>renov_date_is_zero</th>\n",
       "      <th>population</th>\n",
       "      <th>school_name</th>\n",
       "      <th>school_rating</th>\n",
       "    </tr>\n",
       "  </thead>\n",
       "  <tbody>\n",
       "    <tr>\n",
       "      <th>0</th>\n",
       "      <td>2014-05-02</td>\n",
       "      <td>313000.0</td>\n",
       "      <td>3.0</td>\n",
       "      <td>1.50</td>\n",
       "      <td>1340.0</td>\n",
       "      <td>7912.0</td>\n",
       "      <td>1.5</td>\n",
       "      <td>0</td>\n",
       "      <td>0.0</td>\n",
       "      <td>3</td>\n",
       "      <td>...</td>\n",
       "      <td>USA</td>\n",
       "      <td>WA</td>\n",
       "      <td>98133.0</td>\n",
       "      <td>9252.0</td>\n",
       "      <td>5.0</td>\n",
       "      <td>0.0</td>\n",
       "      <td>0.0</td>\n",
       "      <td>55174.0</td>\n",
       "      <td>NaN</td>\n",
       "      <td>NaN</td>\n",
       "    </tr>\n",
       "    <tr>\n",
       "      <th>1</th>\n",
       "      <td>2014-05-02</td>\n",
       "      <td>625000.0</td>\n",
       "      <td>4.0</td>\n",
       "      <td>2.50</td>\n",
       "      <td>2820.0</td>\n",
       "      <td>8408.0</td>\n",
       "      <td>2.0</td>\n",
       "      <td>0</td>\n",
       "      <td>0.0</td>\n",
       "      <td>3</td>\n",
       "      <td>...</td>\n",
       "      <td>USA</td>\n",
       "      <td>WA</td>\n",
       "      <td>98155.0</td>\n",
       "      <td>11228.0</td>\n",
       "      <td>5.0</td>\n",
       "      <td>0.0</td>\n",
       "      <td>1.0</td>\n",
       "      <td>55174.0</td>\n",
       "      <td>NaN</td>\n",
       "      <td>NaN</td>\n",
       "    </tr>\n",
       "    <tr>\n",
       "      <th>2</th>\n",
       "      <td>2014-05-02</td>\n",
       "      <td>308500.0</td>\n",
       "      <td>2.0</td>\n",
       "      <td>1.00</td>\n",
       "      <td>850.0</td>\n",
       "      <td>6174.0</td>\n",
       "      <td>1.0</td>\n",
       "      <td>0</td>\n",
       "      <td>0.0</td>\n",
       "      <td>4</td>\n",
       "      <td>...</td>\n",
       "      <td>USA</td>\n",
       "      <td>WA</td>\n",
       "      <td>98155.0</td>\n",
       "      <td>7024.0</td>\n",
       "      <td>5.0</td>\n",
       "      <td>0.0</td>\n",
       "      <td>0.0</td>\n",
       "      <td>55174.0</td>\n",
       "      <td>NaN</td>\n",
       "      <td>NaN</td>\n",
       "    </tr>\n",
       "    <tr>\n",
       "      <th>3</th>\n",
       "      <td>2014-05-05</td>\n",
       "      <td>400000.0</td>\n",
       "      <td>2.0</td>\n",
       "      <td>1.75</td>\n",
       "      <td>2110.0</td>\n",
       "      <td>9519.0</td>\n",
       "      <td>1.0</td>\n",
       "      <td>0</td>\n",
       "      <td>0.0</td>\n",
       "      <td>2</td>\n",
       "      <td>...</td>\n",
       "      <td>USA</td>\n",
       "      <td>WA</td>\n",
       "      <td>98155.0</td>\n",
       "      <td>11629.0</td>\n",
       "      <td>5.0</td>\n",
       "      <td>0.0</td>\n",
       "      <td>1.0</td>\n",
       "      <td>55174.0</td>\n",
       "      <td>NaN</td>\n",
       "      <td>NaN</td>\n",
       "    </tr>\n",
       "    <tr>\n",
       "      <th>4</th>\n",
       "      <td>2014-05-05</td>\n",
       "      <td>379950.0</td>\n",
       "      <td>4.0</td>\n",
       "      <td>1.75</td>\n",
       "      <td>1970.0</td>\n",
       "      <td>9389.0</td>\n",
       "      <td>1.0</td>\n",
       "      <td>0</td>\n",
       "      <td>0.0</td>\n",
       "      <td>5</td>\n",
       "      <td>...</td>\n",
       "      <td>USA</td>\n",
       "      <td>WA</td>\n",
       "      <td>98133.0</td>\n",
       "      <td>11359.0</td>\n",
       "      <td>5.0</td>\n",
       "      <td>0.0</td>\n",
       "      <td>1.0</td>\n",
       "      <td>55174.0</td>\n",
       "      <td>NaN</td>\n",
       "      <td>NaN</td>\n",
       "    </tr>\n",
       "  </tbody>\n",
       "</table>\n",
       "<p>5 rows × 26 columns</p>\n",
       "</div>"
      ],
      "text/plain": [
       "        date     price  bedrooms  bathrooms  sqft_living  sqft_lot  floors  \\\n",
       "0 2014-05-02  313000.0       3.0       1.50       1340.0    7912.0     1.5   \n",
       "1 2014-05-02  625000.0       4.0       2.50       2820.0    8408.0     2.0   \n",
       "2 2014-05-02  308500.0       2.0       1.00        850.0    6174.0     1.0   \n",
       "3 2014-05-05  400000.0       2.0       1.75       2110.0    9519.0     1.0   \n",
       "4 2014-05-05  379950.0       4.0       1.75       1970.0    9389.0     1.0   \n",
       "\n",
       "  waterfront  view condition  ...  country  state  zipcode  total_sqft month  \\\n",
       "0          0   0.0         3  ...      USA     WA  98133.0      9252.0   5.0   \n",
       "1          0   0.0         3  ...      USA     WA  98155.0     11228.0   5.0   \n",
       "2          0   0.0         4  ...      USA     WA  98155.0      7024.0   5.0   \n",
       "3          0   0.0         2  ...      USA     WA  98155.0     11629.0   5.0   \n",
       "4          0   0.0         5  ...      USA     WA  98133.0     11359.0   5.0   \n",
       "\n",
       "  price_is_zero renov_date_is_zero population  school_name  school_rating  \n",
       "0           0.0                0.0    55174.0          NaN            NaN  \n",
       "1           0.0                1.0    55174.0          NaN            NaN  \n",
       "2           0.0                0.0    55174.0          NaN            NaN  \n",
       "3           0.0                1.0    55174.0          NaN            NaN  \n",
       "4           0.0                1.0    55174.0          NaN            NaN  \n",
       "\n",
       "[5 rows x 26 columns]"
      ]
     },
     "execution_count": 66,
     "metadata": {},
     "output_type": "execute_result"
    }
   ],
   "source": [
    "merged2.head()"
   ]
  },
  {
   "cell_type": "code",
   "execution_count": 71,
   "metadata": {},
   "outputs": [],
   "source": [
    "merged2['schools_per_city'] = merged2.groupby('city')['school_rating'].count()"
   ]
  },
  {
   "cell_type": "code",
   "execution_count": 76,
   "metadata": {},
   "outputs": [],
   "source": [
    "schools_present = merged2[merged2['schools_per_city'] >= 1]"
   ]
  },
  {
   "cell_type": "code",
   "execution_count": 83,
   "metadata": {},
   "outputs": [
    {
     "data": {
      "text/plain": [
       "97"
      ]
     },
     "execution_count": 83,
     "metadata": {},
     "output_type": "execute_result"
    }
   ],
   "source": [
    "len(merged2['school_name'].unique())"
   ]
  },
  {
   "cell_type": "code",
   "execution_count": null,
   "metadata": {},
   "outputs": [],
   "source": []
  },
  {
   "cell_type": "code",
   "execution_count": 67,
   "metadata": {},
   "outputs": [
    {
     "data": {
      "text/plain": [
       "\"X_merged = df_merged.drop(['price', 'date', 'street', 'city', 'state', 'country'], axis='columns')\\nX_merged['bedrooms_squared'] = X['bedrooms']**2  # parabolic transformation of bedrooms\\ny_merged = df_no_zeros['price']\\nX_train_merged, X_test_merged, y_train_merged, y_test_merged = train_test_split(X_merged, y_merged, test_size = 0.3, random_state=42)\""
      ]
     },
     "execution_count": 67,
     "metadata": {},
     "output_type": "execute_result"
    }
   ],
   "source": [
    "'''X_merged = df_merged.drop(['price', 'date', 'street', 'city', 'state', 'country'], axis='columns')\n",
    "X_merged['bedrooms_squared'] = X['bedrooms']**2  # parabolic transformation of bedrooms\n",
    "y_merged = df_no_zeros['price']\n",
    "X_train_merged, X_test_merged, y_train_merged, y_test_merged = train_test_split(X_merged, y_merged, test_size = 0.3, random_state=42)'''"
   ]
  },
  {
   "cell_type": "code",
   "execution_count": null,
   "metadata": {},
   "outputs": [],
   "source": []
  }
 ],
 "metadata": {
  "kernelspec": {
   "display_name": "Python 3",
   "language": "python",
   "name": "python3"
  },
  "language_info": {
   "codemirror_mode": {
    "name": "ipython",
    "version": 3
   },
   "file_extension": ".py",
   "mimetype": "text/x-python",
   "name": "python",
   "nbconvert_exporter": "python",
   "pygments_lexer": "ipython3",
   "version": "3.7.3"
  }
 },
 "nbformat": 4,
 "nbformat_minor": 2
}
