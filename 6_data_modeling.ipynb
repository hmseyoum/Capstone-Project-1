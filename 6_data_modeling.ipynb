{
 "cells": [
  {
   "cell_type": "markdown",
   "metadata": {},
   "source": [
    "## Data Preparation"
   ]
  },
  {
   "cell_type": "code",
   "execution_count": 1,
   "metadata": {},
   "outputs": [],
   "source": [
    "# import necessary modules/libraries\n",
    "\n",
    "import numpy as  np\n",
    "import pandas as pd\n",
    "\n",
    "import matplotlib\n",
    "import matplotlib.pyplot as plt\n",
    "import seaborn as sns\n",
    "\n",
    "from scipy import stats\n",
    "from scipy.stats import pearsonr\n",
    "\n",
    "from matplotlib import rcParams\n",
    "sns.set_style(\"whitegrid\")\n",
    "sns.set_context(\"talk\", font_scale=0.7)\n",
    "sns.set_palette(\"Greens_r\")\n",
    "#set_palette(\"Set1\", 8, .75) # makes plot lines red\n",
    "\n",
    "# Ignore  the warnings\n",
    "import warnings\n",
    "warnings.filterwarnings('always')\n",
    "warnings.filterwarnings('ignore')\n",
    "\n",
    "from sklearn.preprocessing import Imputer # to impute missing data\n",
    "\n",
    "from sklearn.preprocessing import StandardScaler\n",
    "from sklearn.preprocessing import MinMaxScaler\n",
    "\n",
    "import sklearn\n",
    "from sklearn.linear_model import LinearRegression\n",
    "from sklearn.ensemble import RandomForestRegressor\n",
    "from sklearn.linear_model import Lasso\n",
    "from sklearn.linear_model import Ridge\n",
    "from sklearn.model_selection import train_test_split\n",
    "from sklearn.model_selection import cross_validate\n",
    "from sklearn.model_selection import cross_val_score\n",
    "from sklearn.model_selection import GridSearchCV\n",
    "from sklearn.metrics import mean_squared_error\n",
    "\n",
    "%matplotlib inline"
   ]
  },
  {
   "cell_type": "markdown",
   "metadata": {},
   "source": [
    "## Feature Engineering"
   ]
  },
  {
   "cell_type": "code",
   "execution_count": 4,
   "metadata": {},
   "outputs": [],
   "source": [
    "df = pd.read_csv('house_price_prediction.csv') # read the data\n",
    "\n",
    "df['date'] = pd.to_datetime(df['date']) # change date col to datetime\n",
    "df['month'] = df['date'].dt.month # creating month feature\n",
    "df['year'] = df['date'].dt.year  # all 2014 so can drop\n",
    "df[['waterfront', 'condition']] = df[['waterfront', 'condition']].astype('category') # change data types to categorical\n",
    "df['state'] = df['statezip'].apply(lambda x: x.split(' ')[0]) # split statezip into state & zipcode\n",
    "df['zipcode'] = df['statezip'].apply(lambda x: int(x.split(' ')[1]))\n",
    "df['total_sqft'] = df.sqft_living + df.sqft_lot # creating total_sqft feature: sqft_above + sqft_lot\n",
    "#df['street_name'] = df['street'].str.strip().str.lstrip('-0123456789').str.strip().str.lower()\n",
    "df['price_is0'] = df['price'] <= 0 # create column of boolean arrays with 1 for price == $0 & 0 for price != $0\n",
    "df['renov_date_is0'] = df['yr_renovated'] <= 0 # create column of boolean arrays with 1 for yr_renov == 0 & 0 for others\n",
    "\n",
    "# replacing 0s with the mean bedroom & bathroom values\n",
    "df[\"bedrooms\"].replace({0: round(df[\"bedrooms\"].mean(), 0)}, inplace=True)\n",
    "df[\"bathrooms\"].replace({0: round(df[\"bathrooms\"].mean(), 0)}, inplace=True)"
   ]
  },
  {
   "cell_type": "code",
   "execution_count": 5,
   "metadata": {
    "scrolled": true
   },
   "outputs": [],
   "source": [
    "df = pd.get_dummies(df, columns=['month', 'zipcode', 'city'])"
   ]
  },
  {
   "cell_type": "markdown",
   "metadata": {},
   "source": [
    "**Further feature engineering**"
   ]
  },
  {
   "cell_type": "code",
   "execution_count": 6,
   "metadata": {},
   "outputs": [],
   "source": [
    "df2 = df.copy()\n",
    "df2['yr_built_is0'] = df2['yr_built'] <= 0\n",
    "df2['renovation_age'] = df2['year'] - df2['yr_renovated']\n",
    "df2['house_age'] = df2['year'] - df2['yr_built']\n",
    "df2 = df2[df2['sqft_lot'] < 600000]"
   ]
  },
  {
   "cell_type": "code",
   "execution_count": 7,
   "metadata": {},
   "outputs": [],
   "source": [
    "for c in ['date', 'year', 'statezip', 'country', 'state', 'street']:\n",
    "    try:\n",
    "        del df[c], df2[c]\n",
    "    except KeyError:\n",
    "        pass"
   ]
  },
  {
   "cell_type": "code",
   "execution_count": 8,
   "metadata": {},
   "outputs": [],
   "source": [
    "df_no_outs = df[df.price < 10000000].copy() # df with price outliers removed\n",
    "df_no_zeros = df_no_outs[df_no_outs[\"price\"] != 0].copy() # df with $0 prices removed\n",
    "\n",
    "df2_no_outs = df[df.price < 10000000].copy() # df2 with price outliers removed\n",
    "df2_no_zeros = df_no_outs[df_no_outs[\"price\"] != 0].copy() # df2 with $0 prices removed"
   ]
  },
  {
   "cell_type": "markdown",
   "metadata": {},
   "source": [
    "# Data Modeling"
   ]
  },
  {
   "cell_type": "markdown",
   "metadata": {},
   "source": [
    "## Data Preprocessing"
   ]
  },
  {
   "cell_type": "code",
   "execution_count": 9,
   "metadata": {},
   "outputs": [],
   "source": [
    "# dataframe with both zero prices and outliers.\n",
    "X = df.drop(['price'], axis='columns')\n",
    "y = df[\"price\"]\n",
    "# splitting data into training and test data\n",
    "X_train, X_test, y_train, y_test = train_test_split(X, y, test_size = 0.3, random_state=42)\n",
    "\n",
    "# dataframe without price outliers\n",
    "X_no_outs = df_no_outs.drop(['price'], axis='columns')\n",
    "y_no_outs = df_no_outs[\"price\"]\n",
    "X_train_no_outs, X_test_no_outs, y_train_no_outs, y_test_no_outs = train_test_split(X_no_outs, y_no_outs, test_size = 0.3, random_state=42)\n",
    "\n",
    "# dataframe without $0 price values\n",
    "X_no_zeros = df_no_zeros.drop(['price'], axis='columns')\n",
    "y_no_zeros = df_no_zeros[\"price\"]\n",
    "X_train_no_zeros, X_test_no_zeros, y_train_no_zeros, y_test_no_zeros = train_test_split(X_no_zeros, y_no_zeros, test_size = 0.3, random_state=42)\n",
    "\n",
    "# dataframe with a parabolic transformation on the `bedrooms` feature\n",
    "X_transformed = df_no_zeros.drop(['price'], axis='columns')\n",
    "X_transformed['bedrooms_squared'] = X['bedrooms']**2  # parabolic transformation of bedrooms\n",
    "y_transformed = df_no_zeros['price']\n",
    "X_train_transformed, X_test_transformed, y_train_transformed, y_test_transformed = train_test_split(X_transformed, y_transformed, test_size = 0.3, random_state=42)\n",
    "\n",
    "# dataframe with both zero prices and outliers.\n",
    "X2 = df2.drop(['price'], axis='columns')\n",
    "y2 = df2[\"price\"]\n",
    "X2_train, X2_test, y2_train, y2_test = train_test_split(X2, y2, test_size = 0.3, random_state=42)\n",
    "\n",
    "# dataframe without price outliers\n",
    "X2_no_outs = df2_no_outs.drop(['price'], axis='columns')\n",
    "y2_no_outs = df2_no_outs[\"price\"]\n",
    "X2_train_no_outs, X2_test_no_outs, y2_train_no_outs, y2_test_no_outs = train_test_split(X2_no_outs, y2_no_outs, test_size = 0.3, random_state=42)\n",
    "\n",
    "# dataframe without $0 price values\n",
    "X2_no_zeros = df2_no_zeros.drop(['price'], axis='columns')\n",
    "y2_no_zeros = df2_no_zeros[\"price\"]\n",
    "X2_train_no_zeros, X2_test_no_zeros, y2_train_no_zeros, y2_test_no_zeros = train_test_split(X2_no_zeros, y2_no_zeros, test_size = 0.3, random_state=42)\n",
    "\n",
    "# dataframe with a parabolic transformation on the `bedrooms` feature\n",
    "X2_transformed = df2_no_zeros.drop(['price'], axis='columns')\n",
    "X2_transformed['bedrooms_squared'] = X2_transformed['bedrooms']**2  # parabolic transformation of bedrooms\n",
    "y2_transformed = df2_no_zeros['price']\n",
    "X2_train_transformed, X2_test_transformed, y2_train_transformed, y2_test_transformed = train_test_split(X2_transformed, y2_transformed, test_size = 0.3, random_state=42)\n"
   ]
  },
  {
   "cell_type": "code",
   "execution_count": 10,
   "metadata": {},
   "outputs": [],
   "source": [
    "# 4 training sets and test sets\n",
    "# 3 algorithms\n",
    "\n",
    "train_test_sets = [\n",
    "    [X_train, X_test, y_train, y_test],\n",
    "    [X_train_no_outs, X_test_no_outs, y_train_no_outs, y_test_no_outs],\n",
    "    [X_train_no_zeros, X_test_no_zeros, y_train_no_zeros, y_test_no_zeros],\n",
    "    [X_train_transformed, X_test_transformed, y_train_transformed, y_test_transformed],\n",
    "    [X2_train, X2_test, y2_train, y2_test],\n",
    "    [X2_train_no_outs, X2_test_no_outs, y2_train_no_outs, y2_test_no_outs],\n",
    "    [X2_train_no_zeros, X2_test_no_zeros, y2_train_no_zeros, y2_test_no_zeros],\n",
    "    [X2_train_transformed, X2_test_transformed, y2_train_transformed, y2_test_transformed],\n",
    "]\n",
    "\n",
    "train_test_dicts = []\n",
    "for i, sets in enumerate(train_test_sets):\n",
    "    d = dict(zip('X_train X_test y_train_true y_test_true'.split(), sets))\n",
    "    train_test_dicts.append(d)\n",
    "\n",
    "algorithms = [LinearRegression, Ridge, RandomForestRegressor]\n",
    "names = ['linear regression', 'ridge regression ', 'random forest    ']"
   ]
  },
  {
   "cell_type": "code",
   "execution_count": 11,
   "metadata": {},
   "outputs": [],
   "source": [
    "def calc_rmse(y_true, y_pred):\n",
    "    rmse = np.sqrt(np.mean(y_true - y_pred)**2)\n",
    "    return rmse\n",
    "    \n",
    "def fit_and_score(X_train, y_train_true, X_test, y_test_true, model):\n",
    "    '''fits model and returns the RMSE for in-sample error and out-of-sample error, and their accuracy score'''\n",
    "    \n",
    "    model.fit(X_train, y_train_true)\n",
    "    y_train_pred = model.predict(X_train)\n",
    "    train_error = calc_rmse(y_true=y_train_true, y_pred=y_train_pred)\n",
    "    y_test_pred = model.predict(X_test)\n",
    "    test_error = calc_rmse(y_true=y_test_true, y_pred=y_test_pred)\n",
    "    #print(y_train_true.shape, y_train_pred.shape)\n",
    "    \n",
    "    train_score = model.score(X_train, y_train_true)\n",
    "    test_score = model.score(X_test, y_test_true)\n",
    "    \n",
    "    return train_error, test_error, train_score, test_score, y_train_pred, y_test_pred"
   ]
  },
  {
   "cell_type": "markdown",
   "metadata": {},
   "source": [
    "### Choosing alpha for Ridge Regression"
   ]
  },
  {
   "cell_type": "code",
   "execution_count": 12,
   "metadata": {},
   "outputs": [
    {
     "name": "stdout",
     "output_type": "stream",
     "text": [
      "\n",
      "alpha: 0.0001 | test_score: 0.09983422665322594 | test_error: 22200.886776304873 | test/train error: 452268394213219.1\n",
      "alpha: 0.001 | test_score: 0.09983492664182692 | test_error: 22200.63270283286 | test/train error: 66557596431290.7\n",
      "alpha: 0.01 | test_score: 0.0998420059335059 | test_error: 22198.0964033564 | test/train error: 93400301452444.8\n",
      "alpha: 0.1 | test_score: 0.09991265350147495 | test_error: 22174.52727918489 | test/train error: 80501157550365.1\n",
      "alpha: 1 | test_score: 0.10021567673714304 | test_error: 22106.88306805456 | test/train error: 97027500519202.0\n",
      "alpha: 10.0 | test_score: 0.09846731869192293 | test_error: 22852.351747572204 | test/train error: 62440646631213.2\n",
      "\n",
      "alpha: 0.0001 | test_score: 0.6972862710177377 | test_error: 6946.93585382205 | test/train error: 10744141764676.8\n",
      "alpha: 0.001 | test_score: 0.6973049698636228 | test_error: 6946.110477913251 | test/train error: 8405149290018.9\n",
      "alpha: 0.01 | test_score: 0.6974909284970495 | test_error: 6937.719951198398 | test/train error: 19905059526252.1\n",
      "alpha: 0.1 | test_score: 0.6992241206795385 | test_error: 6848.374227624521 | test/train error: 354837047658948.6\n",
      "alpha: 1 | test_score: 0.7086913880213314 | test_error: 6163.124072075515 | test/train error: 17128855771640.6\n",
      "alpha: 10.0 | test_score: 0.7227587453398701 | test_error: 3675.8351995843577 | test/train error: 31380155004360.7\n",
      "\n",
      "alpha: 0.0001 | test_score: 0.7691514645149503 | test_error: 3670.1761216607197 | test/train error: 23980078327418.9\n",
      "alpha: 0.001 | test_score: 0.7691524521233141 | test_error: 3670.554401867171 | test/train error: 18532574113952.1\n",
      "alpha: 0.01 | test_score: 0.7691626299311437 | test_error: 3674.018024559977 | test/train error: 31119753878669.8\n",
      "alpha: 0.1 | test_score: 0.7692784215608606 | test_error: 3690.9043610554168 | test/train error: 27281273567188.9\n",
      "alpha: 1 | test_score: 0.7699673825862483 | test_error: 3722.288867227639 | test/train error: 495405887104702.5\n",
      "alpha: 10.0 | test_score: 0.7638932532256288 | test_error: 4367.084251515613 | test/train error: 15921259712239.3\n",
      "\n",
      "alpha: 0.0001 | test_score: 0.768676685597486 | test_error: 3748.6748829026224 | test/train error: 51340799504140.6\n",
      "alpha: 0.001 | test_score: 0.7686777964314113 | test_error: 3749.036836329608 | test/train error: 80833643014040.8\n",
      "alpha: 0.01 | test_score: 0.7686891674441614 | test_error: 3752.3437791287433 | test/train error: 29942501010081.4\n",
      "alpha: 0.1 | test_score: 0.7688144183919102 | test_error: 3768.059107120217 | test/train error: 18528900028828.7\n",
      "alpha: 1 | test_score: 0.769551928195293 | test_error: 3794.395933179991 | test/train error: 9910525083972.6\n",
      "alpha: 10.0 | test_score: 0.7636504952362984 | test_error: 4427.16704614909 | test/train error: 16544999102004.9\n",
      "\n",
      "alpha: 0.0001 | test_score: 0.13308675364563605 | test_error: 12023.814536876676 | test/train error: 474471385275483.4\n",
      "alpha: 0.001 | test_score: 0.1330869449589216 | test_error: 12021.971547449653 | test/train error: 195021279763496.9\n",
      "alpha: 0.01 | test_score: 0.13308878412574254 | test_error: 12004.621530901488 | test/train error: 37857129023381.1\n",
      "alpha: 0.1 | test_score: 0.1331043975130769 | test_error: 11891.612304757378 | test/train error: 181208829738790.3\n",
      "alpha: 1 | test_score: 0.13304426519823898 | test_error: 11531.327559127132 | test/train error: 204067655995330.4\n",
      "alpha: 10.0 | test_score: 0.12979830819678884 | test_error: 10681.867122867545 | test/train error: 36138858750025.3\n",
      "\n",
      "alpha: 0.0001 | test_score: 0.6972862710177377 | test_error: 6946.93585382205 | test/train error: 10744141764676.8\n",
      "alpha: 0.001 | test_score: 0.6973049698636228 | test_error: 6946.110477913251 | test/train error: 8405149290018.9\n",
      "alpha: 0.01 | test_score: 0.6974909284970495 | test_error: 6937.719951198398 | test/train error: 19905059526252.1\n",
      "alpha: 0.1 | test_score: 0.6992241206795385 | test_error: 6848.374227624521 | test/train error: 354837047658948.6\n",
      "alpha: 1 | test_score: 0.7086913880213314 | test_error: 6163.124072075515 | test/train error: 17128855771640.6\n",
      "alpha: 10.0 | test_score: 0.7227587453398701 | test_error: 3675.8351995843577 | test/train error: 31380155004360.7\n",
      "\n",
      "alpha: 0.0001 | test_score: 0.7691514645149503 | test_error: 3670.1761216607197 | test/train error: 23980078327418.9\n",
      "alpha: 0.001 | test_score: 0.7691524521233141 | test_error: 3670.554401867171 | test/train error: 18532574113952.1\n",
      "alpha: 0.01 | test_score: 0.7691626299311437 | test_error: 3674.018024559977 | test/train error: 31119753878669.8\n",
      "alpha: 0.1 | test_score: 0.7692784215608606 | test_error: 3690.9043610554168 | test/train error: 27281273567188.9\n",
      "alpha: 1 | test_score: 0.7699673825862483 | test_error: 3722.288867227639 | test/train error: 495405887104702.5\n",
      "alpha: 10.0 | test_score: 0.7638932532256288 | test_error: 4367.084251515613 | test/train error: 15921259712239.3\n",
      "\n",
      "alpha: 0.0001 | test_score: 0.768676685597486 | test_error: 3748.6748829026224 | test/train error: 51340799504140.6\n",
      "alpha: 0.001 | test_score: 0.7686777964314113 | test_error: 3749.036836329608 | test/train error: 80833643014040.8\n",
      "alpha: 0.01 | test_score: 0.7686891674441614 | test_error: 3752.3437791287433 | test/train error: 29942501010081.4\n",
      "alpha: 0.1 | test_score: 0.7688144183919102 | test_error: 3768.059107120217 | test/train error: 18528900028828.7\n",
      "alpha: 1 | test_score: 0.769551928195293 | test_error: 3794.395933179991 | test/train error: 9910525083972.6\n",
      "alpha: 10.0 | test_score: 0.7636504952362984 | test_error: 4427.16704614909 | test/train error: 16544999102004.9\n"
     ]
    }
   ],
   "source": [
    "alphas = [1e-4, 1e-3, 1e-2, 1e-1, 1, 1e1]\n",
    "\n",
    "for sets in train_test_dicts:\n",
    "    print('')\n",
    "    for alpha in alphas:\n",
    "        model = Ridge(alpha = alpha)\n",
    "        train_error, test_error, train_score, test_score, y_train_pred, y_test_pred = fit_and_score(model=model, **sets)\n",
    "        #train_error, test_error, train_score, test_score, y_pred = fit_and_score(sets[0], sets[2],  sets[1], sets[3], model)\n",
    "        print('alpha: {} | test_score: {} | test_error: {} | test/train error: {}'.format(alpha, test_score, test_error, round(test_error/train_error, 1)))\n"
   ]
  },
  {
   "cell_type": "markdown",
   "metadata": {},
   "source": [
    "For all datasets, **alpha=1** produced the highest test score. Therefore I'll be using this value for my ridge regression models."
   ]
  },
  {
   "cell_type": "markdown",
   "metadata": {},
   "source": [
    "### Choosing parameters for Random Forest"
   ]
  },
  {
   "cell_type": "code",
   "execution_count": 13,
   "metadata": {
    "scrolled": true
   },
   "outputs": [
    {
     "name": "stdout",
     "output_type": "stream",
     "text": [
      "\n",
      "max_depth: None | n_estimators: 1 | test_score: 0.012 | test_error: 20385.091 | test/train error: 6.0\n",
      "max_depth: None | n_estimators: 10 | test_score: 0.077 | test_error: 21946.383 | test/train error: 64.3\n",
      "max_depth: None | n_estimators: 100 | test_score: 0.09 | test_error: 22346.324 | test/train error: 27.1\n",
      "max_depth: None | n_estimators: 200 | test_score: 0.089 | test_error: 22650.521 | test/train error: 104.0\n",
      "max_depth: 10 | n_estimators: 1 | test_score: 0.053 | test_error: 22502.4 | test/train error: 256.7\n",
      "max_depth: 10 | n_estimators: 10 | test_score: 0.078 | test_error: 21428.346 | test/train error: 196.5\n",
      "max_depth: 10 | n_estimators: 100 | test_score: 0.086 | test_error: 23468.57 | test/train error: 30.9\n",
      "max_depth: 10 | n_estimators: 200 | test_score: 0.085 | test_error: 21947.689 | test/train error: 36.0\n",
      "max_depth: 100 | n_estimators: 1 | test_score: 0.017 | test_error: 15666.644 | test/train error: 5.4\n",
      "max_depth: 100 | n_estimators: 10 | test_score: 0.093 | test_error: 22437.584 | test/train error: 25.9\n",
      "max_depth: 100 | n_estimators: 100 | test_score: 0.088 | test_error: 22074.776 | test/train error: 41.9\n",
      "max_depth: 100 | n_estimators: 200 | test_score: 0.089 | test_error: 22547.934 | test/train error: 35.3\n",
      "\n",
      "max_depth: None | n_estimators: 1 | test_score: 0.286 | test_error: 6058.534 | test/train error: 0.7\n",
      "max_depth: None | n_estimators: 10 | test_score: 0.713 | test_error: 2589.857 | test/train error: 8.6\n",
      "max_depth: None | n_estimators: 100 | test_score: 0.72 | test_error: 6285.608 | test/train error: 8.8\n",
      "max_depth: None | n_estimators: 200 | test_score: 0.716 | test_error: 4514.421 | test/train error: 32.8\n",
      "max_depth: 10 | n_estimators: 1 | test_score: 0.254 | test_error: 4028.211 | test/train error: 0.8\n",
      "max_depth: 10 | n_estimators: 10 | test_score: 0.644 | test_error: 7352.28 | test/train error: 5.2\n",
      "max_depth: 10 | n_estimators: 100 | test_score: 0.672 | test_error: 2921.94 | test/train error: 1.6\n",
      "max_depth: 10 | n_estimators: 200 | test_score: 0.684 | test_error: 3302.456 | test/train error: 2.8\n",
      "max_depth: 100 | n_estimators: 1 | test_score: 0.4 | test_error: 10868.443 | test/train error: 82.8\n",
      "max_depth: 100 | n_estimators: 10 | test_score: 0.724 | test_error: 2653.907 | test/train error: 1.5\n",
      "max_depth: 100 | n_estimators: 100 | test_score: 0.721 | test_error: 4591.125 | test/train error: 9.1\n",
      "max_depth: 100 | n_estimators: 200 | test_score: 0.723 | test_error: 5754.705 | test/train error: 11.0\n",
      "\n",
      "max_depth: None | n_estimators: 1 | test_score: 0.501 | test_error: 17682.447 | test/train error: 8.1\n",
      "max_depth: None | n_estimators: 10 | test_score: 0.687 | test_error: 7878.872 | test/train error: 6.1\n",
      "max_depth: None | n_estimators: 100 | test_score: 0.697 | test_error: 5212.906 | test/train error: 4.6\n",
      "max_depth: None | n_estimators: 200 | test_score: 0.698 | test_error: 4595.713 | test/train error: 6.1\n",
      "max_depth: 10 | n_estimators: 1 | test_score: 0.518 | test_error: 7154.316 | test/train error: 4.5\n",
      "max_depth: 10 | n_estimators: 10 | test_score: 0.661 | test_error: 10457.695 | test/train error: 8.1\n",
      "max_depth: 10 | n_estimators: 100 | test_score: 0.673 | test_error: 7715.6 | test/train error: 4.7\n",
      "max_depth: 10 | n_estimators: 200 | test_score: 0.68 | test_error: 8284.541 | test/train error: 4.3\n",
      "max_depth: 100 | n_estimators: 1 | test_score: 0.325 | test_error: 4114.39 | test/train error: 0.8\n",
      "max_depth: 100 | n_estimators: 10 | test_score: 0.628 | test_error: 48.899 | test/train error: 0.2\n",
      "max_depth: 100 | n_estimators: 100 | test_score: 0.701 | test_error: 6087.661 | test/train error: 10.0\n",
      "max_depth: 100 | n_estimators: 200 | test_score: 0.703 | test_error: 5625.985 | test/train error: 9.0\n",
      "\n",
      "max_depth: None | n_estimators: 1 | test_score: 0.391 | test_error: 5957.926 | test/train error: 0.9\n",
      "max_depth: None | n_estimators: 10 | test_score: 0.629 | test_error: 3923.924 | test/train error: 4.8\n",
      "max_depth: None | n_estimators: 100 | test_score: 0.707 | test_error: 6252.584 | test/train error: 4.6\n",
      "max_depth: None | n_estimators: 200 | test_score: 0.693 | test_error: 4324.195 | test/train error: 6.2\n",
      "max_depth: 10 | n_estimators: 1 | test_score: 0.232 | test_error: 9335.03 | test/train error: 1.4\n",
      "max_depth: 10 | n_estimators: 10 | test_score: 0.633 | test_error: 6989.072 | test/train error: 4.5\n",
      "max_depth: 10 | n_estimators: 100 | test_score: 0.67 | test_error: 8238.677 | test/train error: 5.1\n",
      "max_depth: 10 | n_estimators: 200 | test_score: 0.687 | test_error: 8367.79 | test/train error: 5.3\n",
      "max_depth: 100 | n_estimators: 1 | test_score: 0.362 | test_error: 1513.265 | test/train error: 1.0\n",
      "max_depth: 100 | n_estimators: 10 | test_score: 0.697 | test_error: 5682.2 | test/train error: 6.2\n",
      "max_depth: 100 | n_estimators: 100 | test_score: 0.701 | test_error: 6337.767 | test/train error: 18.2\n",
      "max_depth: 100 | n_estimators: 200 | test_score: 0.708 | test_error: 4778.915 | test/train error: 22.9\n",
      "\n",
      "max_depth: None | n_estimators: 1 | test_score: 0.072 | test_error: 8016.068 | test/train error: 8.7\n",
      "max_depth: None | n_estimators: 10 | test_score: 0.114 | test_error: 14915.985 | test/train error: 8.6\n",
      "max_depth: None | n_estimators: 100 | test_score: 0.12 | test_error: 7281.249 | test/train error: 15.5\n",
      "max_depth: None | n_estimators: 200 | test_score: 0.123 | test_error: 9346.691 | test/train error: 48.2\n",
      "max_depth: 10 | n_estimators: 1 | test_score: 0.055 | test_error: 13631.817 | test/train error: 5.0\n",
      "max_depth: 10 | n_estimators: 10 | test_score: 0.106 | test_error: 13418.895 | test/train error: 11.7\n",
      "max_depth: 10 | n_estimators: 100 | test_score: 0.114 | test_error: 13083.978 | test/train error: 18.3\n",
      "max_depth: 10 | n_estimators: 200 | test_score: 0.113 | test_error: 13483.909 | test/train error: 9.6\n",
      "max_depth: 100 | n_estimators: 1 | test_score: 0.076 | test_error: 11311.639 | test/train error: 1.4\n",
      "max_depth: 100 | n_estimators: 10 | test_score: 0.111 | test_error: 10053.991 | test/train error: 9.3\n",
      "max_depth: 100 | n_estimators: 100 | test_score: 0.122 | test_error: 9339.157 | test/train error: 164.1\n",
      "max_depth: 100 | n_estimators: 200 | test_score: 0.119 | test_error: 9226.745 | test/train error: 39.9\n",
      "\n",
      "max_depth: None | n_estimators: 1 | test_score: 0.333 | test_error: 2687.399 | test/train error: 1.1\n",
      "max_depth: None | n_estimators: 10 | test_score: 0.659 | test_error: 3524.909 | test/train error: 9.5\n",
      "max_depth: None | n_estimators: 100 | test_score: 0.71 | test_error: 5447.728 | test/train error: 6.9\n",
      "max_depth: None | n_estimators: 200 | test_score: 0.713 | test_error: 5004.553 | test/train error: 21.6\n",
      "max_depth: 10 | n_estimators: 1 | test_score: 0.406 | test_error: 324.129 | test/train error: 0.0\n",
      "max_depth: 10 | n_estimators: 10 | test_score: 0.681 | test_error: 1163.89 | test/train error: 21.4\n",
      "max_depth: 10 | n_estimators: 100 | test_score: 0.667 | test_error: 4241.394 | test/train error: 3.6\n",
      "max_depth: 10 | n_estimators: 200 | test_score: 0.684 | test_error: 4135.639 | test/train error: 4.2\n",
      "max_depth: 100 | n_estimators: 1 | test_score: 0.362 | test_error: 5087.101 | test/train error: 5.8\n",
      "max_depth: 100 | n_estimators: 10 | test_score: 0.719 | test_error: 5452.416 | test/train error: 12.0\n",
      "max_depth: 100 | n_estimators: 100 | test_score: 0.708 | test_error: 4686.754 | test/train error: 23.3\n",
      "max_depth: 100 | n_estimators: 200 | test_score: 0.713 | test_error: 5400.991 | test/train error: 6.7\n",
      "\n",
      "max_depth: None | n_estimators: 1 | test_score: 0.37 | test_error: 3305.426 | test/train error: 8.7\n",
      "max_depth: None | n_estimators: 10 | test_score: 0.655 | test_error: 6478.175 | test/train error: 3.4\n",
      "max_depth: None | n_estimators: 100 | test_score: 0.702 | test_error: 6838.589 | test/train error: 5.8\n",
      "max_depth: None | n_estimators: 200 | test_score: 0.71 | test_error: 6278.559 | test/train error: 7.2\n",
      "max_depth: 10 | n_estimators: 1 | test_score: 0.531 | test_error: 3227.014 | test/train error: 14.7\n",
      "max_depth: 10 | n_estimators: 10 | test_score: 0.665 | test_error: 8866.871 | test/train error: 5.0\n",
      "max_depth: 10 | n_estimators: 100 | test_score: 0.68 | test_error: 8259.315 | test/train error: 5.0\n",
      "max_depth: 10 | n_estimators: 200 | test_score: 0.676 | test_error: 7182.295 | test/train error: 6.3\n",
      "max_depth: 100 | n_estimators: 1 | test_score: 0.148 | test_error: 6254.213 | test/train error: 7.0\n"
     ]
    },
    {
     "name": "stdout",
     "output_type": "stream",
     "text": [
      "max_depth: 100 | n_estimators: 10 | test_score: 0.67 | test_error: 2558.193 | test/train error: 5.3\n",
      "max_depth: 100 | n_estimators: 100 | test_score: 0.699 | test_error: 5126.797 | test/train error: 6.6\n",
      "max_depth: 100 | n_estimators: 200 | test_score: 0.694 | test_error: 5146.91 | test/train error: 5.8\n",
      "\n",
      "max_depth: None | n_estimators: 1 | test_score: 0.472 | test_error: 15494.961 | test/train error: 22.2\n",
      "max_depth: None | n_estimators: 10 | test_score: 0.705 | test_error: 1530.322 | test/train error: 2.0\n",
      "max_depth: None | n_estimators: 100 | test_score: 0.706 | test_error: 5181.892 | test/train error: 5.0\n",
      "max_depth: None | n_estimators: 200 | test_score: 0.707 | test_error: 5696.884 | test/train error: 7.3\n",
      "max_depth: 10 | n_estimators: 1 | test_score: 0.507 | test_error: 21363.581 | test/train error: 2.5\n",
      "max_depth: 10 | n_estimators: 10 | test_score: 0.649 | test_error: 4615.679 | test/train error: 2.9\n",
      "max_depth: 10 | n_estimators: 100 | test_score: 0.684 | test_error: 7569.727 | test/train error: 5.2\n",
      "max_depth: 10 | n_estimators: 200 | test_score: 0.684 | test_error: 8403.788 | test/train error: 6.5\n",
      "max_depth: 100 | n_estimators: 1 | test_score: 0.4 | test_error: 12471.673 | test/train error: 5.9\n",
      "max_depth: 100 | n_estimators: 10 | test_score: 0.634 | test_error: 3323.979 | test/train error: 16.7\n",
      "max_depth: 100 | n_estimators: 100 | test_score: 0.702 | test_error: 6443.834 | test/train error: 7.5\n",
      "max_depth: 100 | n_estimators: 200 | test_score: 0.706 | test_error: 5003.661 | test/train error: 4.1\n"
     ]
    }
   ],
   "source": [
    "max_depths = [None, 10, 100]\n",
    "n_estimators = [1, 10, 100, 200]\n",
    "\n",
    "for sets in train_test_dicts:\n",
    "    print('')\n",
    "    for max_depth in max_depths:\n",
    "        for n in n_estimators:\n",
    "            model = RandomForestRegressor(max_depth=max_depth , n_estimators=n)\n",
    "            train_error, test_error, train_score, test_score, y_train_pred, y_test_pred = fit_and_score(model=model, **sets)\n",
    "            train_error, test_error, train_score, test_score = round(train_error,3), round(test_error,3), round(train_score,3), round(test_score,3)\n",
    "            print('max_depth: {} | n_estimators: {} | test_score: {} | test_error: {} | test/train error: {}'.format(max_depth, n, test_score, test_error, round(test_error/train_error, 1)))\n"
   ]
  },
  {
   "cell_type": "markdown",
   "metadata": {},
   "source": [
    "For all datasets, **max_depth=None** and **n_estimators=200** produced the highest test scores. Therefore I'll be using these two value for my random forest models."
   ]
  },
  {
   "cell_type": "code",
   "execution_count": 14,
   "metadata": {
    "scrolled": true
   },
   "outputs": [],
   "source": [
    "# save this and compare to w/ address\n",
    "lr_train_error = dict()\n",
    "lr_test_error = dict()\n",
    "lr_train_score = dict()\n",
    "lr_test_score = dict()\n",
    "lr_y_train_pred = dict()\n",
    "lr_y_test_pred = dict()\n",
    "\n",
    "ridge_train_error = dict()\n",
    "ridge_test_error = dict()\n",
    "ridge_train_score = dict()\n",
    "ridge_test_score = dict()\n",
    "ridge_y_train_pred = dict()\n",
    "ridge_y_test_pred = dict()\n",
    "\n",
    "rf_train_error = dict()\n",
    "rf_test_error = dict()\n",
    "rf_train_score = dict()\n",
    "rf_test_score = dict()\n",
    "rf_y_train_pred = dict()\n",
    "rf_y_test_pred = dict()\n",
    "\n",
    "for model_class, hyperparams in zip(\n",
    "            [LinearRegression, Ridge, RandomForestRegressor], \n",
    "            [{}, dict(alpha=1), dict(max_depth=None, n_estimators=100)]\n",
    "            ):\n",
    "    for i, sets in enumerate(train_test_dicts):\n",
    "        lr = LinearRegression()\n",
    "        \n",
    "        train_error, test_error, train_score, test_score, y_train_pred, y_test_pred = fit_and_score(model=lr, **sets)\n",
    "        train_error, test_error, train_score, test_score, y_train_pred, y_test_pred = np.round(train_error,0), np.round(test_error,0), np.round(train_score,3), np.round(test_score,3), np.round(y_train_pred,0), np.round(y_test_pred,0)\n",
    "\n",
    "        lr_train_error[i] = train_error\n",
    "        lr_test_error[i] = test_error\n",
    "        lr_train_score[i] = train_score\n",
    "        lr_test_score[i] = test_score\n",
    "        lr_y_train_pred[i] = y_train_pred\n",
    "        lr_y_test_pred[i] = y_test_pred\n",
    "        \n",
    "        \n",
    "    for i, sets in enumerate(train_test_dicts):\n",
    "        ridge = Ridge(alpha=1)\n",
    "        \n",
    "        train_error, test_error, train_score, test_score, y_train_pred, y_test_pred = fit_and_score(model=ridge, **sets)\n",
    "        train_error, test_error, train_score, test_score, y_train_pred, y_test_pred = np.round(train_error,0), np.round(test_error,0), np.round(train_score,3), np.round(test_score,3), np.round(y_train_pred,0), np.round(y_test_pred,0)\n",
    "\n",
    "        ridge_train_error[i] = train_error\n",
    "        ridge_test_error[i] = test_error\n",
    "        ridge_train_score[i] = train_score\n",
    "        ridge_test_score[i] = test_score\n",
    "        ridge_y_train_pred[i] = y_train_pred\n",
    "        ridge_y_test_pred[i] = y_test_pred\n",
    "        \n",
    "    for i, sets in enumerate(train_test_dicts):\n",
    "        rf = RandomForestRegressor(max_depth=None, n_estimators=200)\n",
    "        \n",
    "        train_error, test_error, train_score, test_score, y_train_pred, y_test_pred = fit_and_score(model=rf, **sets)\n",
    "        train_error, test_error, train_score, test_score, y_train_pred, y_test_pred = np.round(train_error,0), np.round(test_error,0), np.round(train_score,3), np.round(test_score,3), np.round(y_train_pred,0), np.round(y_test_pred,0)\n",
    "\n",
    "        rf_train_error[i] = train_error\n",
    "        rf_test_error[i] = test_error\n",
    "        rf_train_score[i] = train_score\n",
    "        rf_test_score[i] = test_score\n",
    "        rf_y_train_pred[i] = y_train_pred\n",
    "        rf_y_test_pred[i] = y_test_pred"
   ]
  },
  {
   "cell_type": "code",
   "execution_count": 15,
   "metadata": {
    "scrolled": true
   },
   "outputs": [],
   "source": [
    "# constructing table contents \n",
    "#features\n",
    "features = []\n",
    "for i in range(24):\n",
    "    features.append('all except price, date, year, street, city, state')\n",
    "\n",
    "#models\n",
    "reg, rr, rfr = 'LinearRegression ', 'RidgeRegression ', 'RandomForest '\n",
    "\n",
    "models = ((reg)*8).split(' ') + ((rr)*8).split(' ') + ((rfr)*8).split(' ')\n",
    "models.remove('')\n",
    "models.remove('')\n",
    "models.remove('')\n",
    "\n",
    "#errors\n",
    "ridge_key_change = {0: 8, 1:9, 2:10, 3:11, 4:12, 5:13, 6:14, 7:15}\n",
    "rf_key_change = {0: 16, 1:17, 2:18, 3:19, 4:20, 5:21, 6:22, 7:23}\n",
    "\n",
    "ridge_train_error = {ridge_key_change[k]: v for k, v in ridge_train_error.items()}\n",
    "rf_train_error = {rf_key_change[k]: v for k, v in rf_train_error.items()}\n",
    "ridge_test_error = {ridge_key_change[k]: v for k, v in ridge_test_error.items()}\n",
    "rf_test_error = {rf_key_change[k]: v for k, v in rf_test_error.items()}\n",
    "\n",
    "train_errors = {**lr_train_error, **ridge_train_error, **rf_train_error}\n",
    "test_errors = {**lr_test_error, **ridge_test_error, **rf_test_error}\n",
    "\n",
    "#scores\n",
    "ridge_train_score = {ridge_key_change[k]: v for k, v in ridge_train_score.items()}\n",
    "rf_train_score = {rf_key_change[k]: v for k, v in rf_train_score.items()}\n",
    "ridge_test_score = {ridge_key_change[k]: v for k, v in ridge_test_score.items()}\n",
    "rf_test_score = {rf_key_change[k]: v for k, v in rf_test_score.items()}\n",
    "\n",
    "train_scores = {**lr_train_score, **ridge_train_score, **rf_train_score}\n",
    "test_scores = {**lr_test_score, **ridge_test_score, **rf_test_score}"
   ]
  },
  {
   "cell_type": "code",
   "execution_count": 16,
   "metadata": {
    "scrolled": false
   },
   "outputs": [
    {
     "data": {
      "text/html": [
       "<div>\n",
       "<style scoped>\n",
       "    .dataframe tbody tr th:only-of-type {\n",
       "        vertical-align: middle;\n",
       "    }\n",
       "\n",
       "    .dataframe tbody tr th {\n",
       "        vertical-align: top;\n",
       "    }\n",
       "\n",
       "    .dataframe thead th {\n",
       "        text-align: right;\n",
       "    }\n",
       "</style>\n",
       "<table border=\"1\" class=\"dataframe\">\n",
       "  <thead>\n",
       "    <tr style=\"text-align: right;\">\n",
       "      <th></th>\n",
       "      <th>models</th>\n",
       "      <th>test_score</th>\n",
       "      <th>train_score</th>\n",
       "      <th>test_error</th>\n",
       "      <th>train_error</th>\n",
       "      <th>price outs removed</th>\n",
       "      <th>description</th>\n",
       "      <th>features</th>\n",
       "    </tr>\n",
       "  </thead>\n",
       "  <tbody>\n",
       "    <tr>\n",
       "      <th>15</th>\n",
       "      <td>RidgeRegression</td>\n",
       "      <td>0.770</td>\n",
       "      <td>0.766</td>\n",
       "      <td>3722.0</td>\n",
       "      <td>0.0</td>\n",
       "      <td>yes</td>\n",
       "      <td>df2 zero prices removed</td>\n",
       "      <td>all except price, date, year, street, city, state</td>\n",
       "    </tr>\n",
       "    <tr>\n",
       "      <th>11</th>\n",
       "      <td>RidgeRegression</td>\n",
       "      <td>0.770</td>\n",
       "      <td>0.766</td>\n",
       "      <td>3722.0</td>\n",
       "      <td>0.0</td>\n",
       "      <td>yes</td>\n",
       "      <td>zero prices removed</td>\n",
       "      <td>all except price, date, year, street, city, state</td>\n",
       "    </tr>\n",
       "    <tr>\n",
       "      <th>12</th>\n",
       "      <td>RidgeRegression</td>\n",
       "      <td>0.770</td>\n",
       "      <td>0.767</td>\n",
       "      <td>3794.0</td>\n",
       "      <td>0.0</td>\n",
       "      <td>yes</td>\n",
       "      <td>parabolic transformation</td>\n",
       "      <td>all except price, date, year, street, city, state</td>\n",
       "    </tr>\n",
       "    <tr>\n",
       "      <th>16</th>\n",
       "      <td>RidgeRegression</td>\n",
       "      <td>0.770</td>\n",
       "      <td>0.767</td>\n",
       "      <td>3794.0</td>\n",
       "      <td>0.0</td>\n",
       "      <td>yes</td>\n",
       "      <td>df2 parabolic transformation</td>\n",
       "      <td>all except price, date, year, street, city, state</td>\n",
       "    </tr>\n",
       "    <tr>\n",
       "      <th>3</th>\n",
       "      <td>LinearRegression</td>\n",
       "      <td>0.763</td>\n",
       "      <td>0.767</td>\n",
       "      <td>2885.0</td>\n",
       "      <td>0.0</td>\n",
       "      <td>yes</td>\n",
       "      <td>zero prices removed</td>\n",
       "      <td>all except price, date, year, street, city, state</td>\n",
       "    </tr>\n",
       "    <tr>\n",
       "      <th>7</th>\n",
       "      <td>LinearRegression</td>\n",
       "      <td>0.763</td>\n",
       "      <td>0.767</td>\n",
       "      <td>2885.0</td>\n",
       "      <td>0.0</td>\n",
       "      <td>yes</td>\n",
       "      <td>df2 zero prices removed</td>\n",
       "      <td>all except price, date, year, street, city, state</td>\n",
       "    </tr>\n",
       "    <tr>\n",
       "      <th>22</th>\n",
       "      <td>RandomForest</td>\n",
       "      <td>0.719</td>\n",
       "      <td>0.953</td>\n",
       "      <td>4995.0</td>\n",
       "      <td>61.0</td>\n",
       "      <td>yes</td>\n",
       "      <td>df2 no transformations</td>\n",
       "      <td>all except price, date, year, street, city, state</td>\n",
       "    </tr>\n",
       "    <tr>\n",
       "      <th>18</th>\n",
       "      <td>RandomForest</td>\n",
       "      <td>0.712</td>\n",
       "      <td>0.954</td>\n",
       "      <td>5192.0</td>\n",
       "      <td>67.0</td>\n",
       "      <td>yes</td>\n",
       "      <td>no transformations</td>\n",
       "      <td>all except price, date, year, street, city, state</td>\n",
       "    </tr>\n",
       "    <tr>\n",
       "      <th>24</th>\n",
       "      <td>RandomForest</td>\n",
       "      <td>0.710</td>\n",
       "      <td>0.957</td>\n",
       "      <td>5575.0</td>\n",
       "      <td>804.0</td>\n",
       "      <td>yes</td>\n",
       "      <td>df2 parabolic transformation</td>\n",
       "      <td>all except price, date, year, street, city, state</td>\n",
       "    </tr>\n",
       "    <tr>\n",
       "      <th>20</th>\n",
       "      <td>RandomForest</td>\n",
       "      <td>0.710</td>\n",
       "      <td>0.956</td>\n",
       "      <td>4533.0</td>\n",
       "      <td>558.0</td>\n",
       "      <td>yes</td>\n",
       "      <td>parabolic transformation</td>\n",
       "      <td>all except price, date, year, street, city, state</td>\n",
       "    </tr>\n",
       "    <tr>\n",
       "      <th>10</th>\n",
       "      <td>RidgeRegression</td>\n",
       "      <td>0.709</td>\n",
       "      <td>0.767</td>\n",
       "      <td>6163.0</td>\n",
       "      <td>0.0</td>\n",
       "      <td>yes</td>\n",
       "      <td>no transformations</td>\n",
       "      <td>all except price, date, year, street, city, state</td>\n",
       "    </tr>\n",
       "    <tr>\n",
       "      <th>14</th>\n",
       "      <td>RidgeRegression</td>\n",
       "      <td>0.709</td>\n",
       "      <td>0.767</td>\n",
       "      <td>6163.0</td>\n",
       "      <td>0.0</td>\n",
       "      <td>yes</td>\n",
       "      <td>df2 no transformations</td>\n",
       "      <td>all except price, date, year, street, city, state</td>\n",
       "    </tr>\n",
       "    <tr>\n",
       "      <th>23</th>\n",
       "      <td>RandomForest</td>\n",
       "      <td>0.707</td>\n",
       "      <td>0.960</td>\n",
       "      <td>5559.0</td>\n",
       "      <td>473.0</td>\n",
       "      <td>yes</td>\n",
       "      <td>df2 zero prices removed</td>\n",
       "      <td>all except price, date, year, street, city, state</td>\n",
       "    </tr>\n",
       "    <tr>\n",
       "      <th>19</th>\n",
       "      <td>RandomForest</td>\n",
       "      <td>0.705</td>\n",
       "      <td>0.956</td>\n",
       "      <td>4852.0</td>\n",
       "      <td>516.0</td>\n",
       "      <td>yes</td>\n",
       "      <td>zero prices removed</td>\n",
       "      <td>all except price, date, year, street, city, state</td>\n",
       "    </tr>\n",
       "    <tr>\n",
       "      <th>13</th>\n",
       "      <td>RidgeRegression</td>\n",
       "      <td>0.133</td>\n",
       "      <td>0.586</td>\n",
       "      <td>11531.0</td>\n",
       "      <td>0.0</td>\n",
       "      <td>no</td>\n",
       "      <td>df2 no transformations</td>\n",
       "      <td>all except price, date, year, street, city, state</td>\n",
       "    </tr>\n",
       "    <tr>\n",
       "      <th>21</th>\n",
       "      <td>RandomForest</td>\n",
       "      <td>0.122</td>\n",
       "      <td>0.930</td>\n",
       "      <td>8776.0</td>\n",
       "      <td>193.0</td>\n",
       "      <td>no</td>\n",
       "      <td>df2 no transformations</td>\n",
       "      <td>all except price, date, year, street, city, state</td>\n",
       "    </tr>\n",
       "    <tr>\n",
       "      <th>9</th>\n",
       "      <td>RidgeRegression</td>\n",
       "      <td>0.100</td>\n",
       "      <td>0.769</td>\n",
       "      <td>22107.0</td>\n",
       "      <td>0.0</td>\n",
       "      <td>no</td>\n",
       "      <td>no transformations</td>\n",
       "      <td>all except price, date, year, street, city, state</td>\n",
       "    </tr>\n",
       "    <tr>\n",
       "      <th>17</th>\n",
       "      <td>RandomForest</td>\n",
       "      <td>0.089</td>\n",
       "      <td>0.960</td>\n",
       "      <td>21545.0</td>\n",
       "      <td>400.0</td>\n",
       "      <td>no</td>\n",
       "      <td>no transformations</td>\n",
       "      <td>all except price, date, year, street, city, state</td>\n",
       "    </tr>\n",
       "    <tr>\n",
       "      <th>1</th>\n",
       "      <td>LinearRegression</td>\n",
       "      <td>-0.262</td>\n",
       "      <td>0.770</td>\n",
       "      <td>5045.0</td>\n",
       "      <td>11.0</td>\n",
       "      <td>no</td>\n",
       "      <td>no transformations</td>\n",
       "      <td>all except price, date, year, street, city, state</td>\n",
       "    </tr>\n",
       "    <tr>\n",
       "      <th>2</th>\n",
       "      <td>LinearRegression</td>\n",
       "      <td>-8.797</td>\n",
       "      <td>0.768</td>\n",
       "      <td>51507.0</td>\n",
       "      <td>5.0</td>\n",
       "      <td>yes</td>\n",
       "      <td>no transformations</td>\n",
       "      <td>all except price, date, year, street, city, state</td>\n",
       "    </tr>\n",
       "    <tr>\n",
       "      <th>6</th>\n",
       "      <td>LinearRegression</td>\n",
       "      <td>-8.797</td>\n",
       "      <td>0.768</td>\n",
       "      <td>51507.0</td>\n",
       "      <td>5.0</td>\n",
       "      <td>yes</td>\n",
       "      <td>df2 no transformations</td>\n",
       "      <td>all except price, date, year, street, city, state</td>\n",
       "    </tr>\n",
       "    <tr>\n",
       "      <th>5</th>\n",
       "      <td>LinearRegression</td>\n",
       "      <td>-130.902</td>\n",
       "      <td>0.586</td>\n",
       "      <td>267898.0</td>\n",
       "      <td>14.0</td>\n",
       "      <td>no</td>\n",
       "      <td>df2 no transformations</td>\n",
       "      <td>all except price, date, year, street, city, state</td>\n",
       "    </tr>\n",
       "    <tr>\n",
       "      <th>8</th>\n",
       "      <td>LinearRegression</td>\n",
       "      <td>-574.250</td>\n",
       "      <td>0.767</td>\n",
       "      <td>164967.0</td>\n",
       "      <td>2.0</td>\n",
       "      <td>yes</td>\n",
       "      <td>df2 parabolic transformation</td>\n",
       "      <td>all except price, date, year, street, city, state</td>\n",
       "    </tr>\n",
       "    <tr>\n",
       "      <th>4</th>\n",
       "      <td>LinearRegression</td>\n",
       "      <td>-574.250</td>\n",
       "      <td>0.767</td>\n",
       "      <td>164967.0</td>\n",
       "      <td>2.0</td>\n",
       "      <td>yes</td>\n",
       "      <td>parabolic transformation</td>\n",
       "      <td>all except price, date, year, street, city, state</td>\n",
       "    </tr>\n",
       "  </tbody>\n",
       "</table>\n",
       "</div>"
      ],
      "text/plain": [
       "              models  test_score  train_score  test_error  train_error  \\\n",
       "15   RidgeRegression       0.770        0.766      3722.0          0.0   \n",
       "11   RidgeRegression       0.770        0.766      3722.0          0.0   \n",
       "12   RidgeRegression       0.770        0.767      3794.0          0.0   \n",
       "16   RidgeRegression       0.770        0.767      3794.0          0.0   \n",
       "3   LinearRegression       0.763        0.767      2885.0          0.0   \n",
       "7   LinearRegression       0.763        0.767      2885.0          0.0   \n",
       "22      RandomForest       0.719        0.953      4995.0         61.0   \n",
       "18      RandomForest       0.712        0.954      5192.0         67.0   \n",
       "24      RandomForest       0.710        0.957      5575.0        804.0   \n",
       "20      RandomForest       0.710        0.956      4533.0        558.0   \n",
       "10   RidgeRegression       0.709        0.767      6163.0          0.0   \n",
       "14   RidgeRegression       0.709        0.767      6163.0          0.0   \n",
       "23      RandomForest       0.707        0.960      5559.0        473.0   \n",
       "19      RandomForest       0.705        0.956      4852.0        516.0   \n",
       "13   RidgeRegression       0.133        0.586     11531.0          0.0   \n",
       "21      RandomForest       0.122        0.930      8776.0        193.0   \n",
       "9    RidgeRegression       0.100        0.769     22107.0          0.0   \n",
       "17      RandomForest       0.089        0.960     21545.0        400.0   \n",
       "1   LinearRegression      -0.262        0.770      5045.0         11.0   \n",
       "2   LinearRegression      -8.797        0.768     51507.0          5.0   \n",
       "6   LinearRegression      -8.797        0.768     51507.0          5.0   \n",
       "5   LinearRegression    -130.902        0.586    267898.0         14.0   \n",
       "8   LinearRegression    -574.250        0.767    164967.0          2.0   \n",
       "4   LinearRegression    -574.250        0.767    164967.0          2.0   \n",
       "\n",
       "   price outs removed                   description  \\\n",
       "15                yes       df2 zero prices removed   \n",
       "11                yes           zero prices removed   \n",
       "12                yes      parabolic transformation   \n",
       "16                yes  df2 parabolic transformation   \n",
       "3                 yes           zero prices removed   \n",
       "7                 yes       df2 zero prices removed   \n",
       "22                yes        df2 no transformations   \n",
       "18                yes            no transformations   \n",
       "24                yes  df2 parabolic transformation   \n",
       "20                yes      parabolic transformation   \n",
       "10                yes            no transformations   \n",
       "14                yes        df2 no transformations   \n",
       "23                yes       df2 zero prices removed   \n",
       "19                yes           zero prices removed   \n",
       "13                 no        df2 no transformations   \n",
       "21                 no        df2 no transformations   \n",
       "9                  no            no transformations   \n",
       "17                 no            no transformations   \n",
       "1                  no            no transformations   \n",
       "2                 yes            no transformations   \n",
       "6                 yes        df2 no transformations   \n",
       "5                  no        df2 no transformations   \n",
       "8                 yes  df2 parabolic transformation   \n",
       "4                 yes      parabolic transformation   \n",
       "\n",
       "                                             features  \n",
       "15  all except price, date, year, street, city, state  \n",
       "11  all except price, date, year, street, city, state  \n",
       "12  all except price, date, year, street, city, state  \n",
       "16  all except price, date, year, street, city, state  \n",
       "3   all except price, date, year, street, city, state  \n",
       "7   all except price, date, year, street, city, state  \n",
       "22  all except price, date, year, street, city, state  \n",
       "18  all except price, date, year, street, city, state  \n",
       "24  all except price, date, year, street, city, state  \n",
       "20  all except price, date, year, street, city, state  \n",
       "10  all except price, date, year, street, city, state  \n",
       "14  all except price, date, year, street, city, state  \n",
       "23  all except price, date, year, street, city, state  \n",
       "19  all except price, date, year, street, city, state  \n",
       "13  all except price, date, year, street, city, state  \n",
       "21  all except price, date, year, street, city, state  \n",
       "9   all except price, date, year, street, city, state  \n",
       "17  all except price, date, year, street, city, state  \n",
       "1   all except price, date, year, street, city, state  \n",
       "2   all except price, date, year, street, city, state  \n",
       "6   all except price, date, year, street, city, state  \n",
       "5   all except price, date, year, street, city, state  \n",
       "8   all except price, date, year, street, city, state  \n",
       "4   all except price, date, year, street, city, state  "
      ]
     },
     "execution_count": 16,
     "metadata": {},
     "output_type": "execute_result"
    }
   ],
   "source": [
    "content = {'features': [features[i] for i in range(len(features))],\n",
    "           'models': [models[i] for i in range(len(models))], \n",
    "           'test_error': [test_errors[key] for key in test_errors],\n",
    "           'train_error': [train_errors[key] for key in train_errors],\n",
    "           'test_score': [test_scores[key] for key in test_scores],\n",
    "           'train_score': [train_scores[key] for key in train_scores],\n",
    "           'description': ['no transformations', 'no transformations', 'zero prices removed', 'parabolic transformation', 'df2 no transformations', 'df2 no transformations', 'df2 zero prices removed', 'df2 parabolic transformation', \n",
    "                           'no transformations', 'no transformations', 'zero prices removed', 'parabolic transformation', 'df2 no transformations', 'df2 no transformations', 'df2 zero prices removed', 'df2 parabolic transformation',\n",
    "                           'no transformations', 'no transformations', 'zero prices removed', 'parabolic transformation', 'df2 no transformations', 'df2 no transformations', 'df2 zero prices removed', 'df2 parabolic transformation' \n",
    "                            ],\n",
    "           'price outs removed': ['no', 'yes', 'yes', 'yes', 'no', 'yes', 'yes', 'yes', 'no', 'yes', 'yes', 'yes', 'no', 'yes', 'yes', 'yes', 'no', 'yes', 'yes', 'yes', 'no', 'yes', 'yes', 'yes']}\n",
    "\n",
    "table = pd.DataFrame(content, columns=['models', 'test_score', 'train_score', 'test_error', 'train_error', 'price outs removed', 'description', 'features'], index=[1,2,3,4,5,6,7,8,9,10,11,12,13,14,15,16,17,18,19,20,21,22,23,24])\n",
    "table.sort_values('test_score', ascending=False)"
   ]
  },
  {
   "cell_type": "markdown",
   "metadata": {},
   "source": [
    "In df2, 3 features were added, `yr_built_is0`, `renovation_age`, and `house_age`. Also, 2 outliers of `sqft_lot` have been removed. These changes led to an overall better performance than df. "
   ]
  },
  {
   "cell_type": "markdown",
   "metadata": {},
   "source": [
    "Model description:\n",
    "* Each model contains all features except for `price`, `date`, `year`, `street`, `city`, and `state`\n",
    "* Models described as having no transformations are those which did not have their `bedrooms` feature undergo parabolic transformation.\n",
    "* Models with zero prices removed are those with zero values in the `price` feature and price outliers removed.\n",
    "* Models with parabolic transformation are based on data with price outliers and zero prices removed, and have their `bedrooms` feature transformed.\n",
    "\n",
    "From the table above we can see that the best model is the Random Forest with 66% accuracy. That model only has the price outliers removed but not the zero prices. There were also no transformations on the features."
   ]
  },
  {
   "cell_type": "markdown",
   "metadata": {},
   "source": [
    "**Analysing the coefficients**"
   ]
  },
  {
   "cell_type": "markdown",
   "metadata": {},
   "source": [
    "Let's take a look at the coefficients of the best performing ridge regression model that has its `bedrooms` feature transformed."
   ]
  },
  {
   "cell_type": "code",
   "execution_count": 17,
   "metadata": {
    "scrolled": true
   },
   "outputs": [
    {
     "data": {
      "text/plain": [
       "139"
      ]
     },
     "execution_count": 17,
     "metadata": {},
     "output_type": "execute_result"
    }
   ],
   "source": [
    "X2_transformed.columns.get_loc(\"bedrooms_squared\")"
   ]
  },
  {
   "cell_type": "code",
   "execution_count": 18,
   "metadata": {
    "scrolled": false
   },
   "outputs": [
    {
     "data": {
      "text/plain": [
       "Ridge(alpha=1.0, copy_X=True, fit_intercept=True, max_iter=None,\n",
       "      normalize=False, random_state=None, solver='auto', tol=0.001)"
      ]
     },
     "execution_count": 18,
     "metadata": {},
     "output_type": "execute_result"
    }
   ],
   "source": [
    "#Looking at the coefficients of the best ridge model:\n",
    "ridge = Ridge()\n",
    "ridge.fit(X2_transformed, y2_transformed)"
   ]
  },
  {
   "cell_type": "code",
   "execution_count": 19,
   "metadata": {
    "scrolled": false
   },
   "outputs": [
    {
     "data": {
      "text/plain": [
       "bedrooms             -9451.150206\n",
       "bathrooms            23053.257624\n",
       "sqft_living            102.006751\n",
       "sqft_lot               -51.041270\n",
       "floors              -38056.774288\n",
       "waterfront          569225.065922\n",
       "view                 61242.096351\n",
       "condition            30302.040770\n",
       "sqft_above              99.737997\n",
       "sqft_basement            2.268827\n",
       "yr_built              -151.321168\n",
       "yr_renovated            45.457712\n",
       "total_sqft              51.015754\n",
       "price_is0                0.000000\n",
       "renov_date_is0       78167.889271\n",
       "bedrooms_squared     -2449.735836\n",
       "Name: coef, dtype: float64"
      ]
     },
     "execution_count": 19,
     "metadata": {},
     "output_type": "execute_result"
    }
   ],
   "source": [
    "coefs = pd.DataFrame(ridge.coef_, index=list(X2_transformed), columns=['coef'])\n",
    "coefs.iloc[[0,1,2,3,4,5,6,7,8,9,10,11,12,13,14, 139], 0]"
   ]
  },
  {
   "cell_type": "code",
   "execution_count": 20,
   "metadata": {
    "scrolled": true
   },
   "outputs": [
    {
     "data": {
      "text/plain": [
       "zipcode_98198      -242766.260859\n",
       "zipcode_98178      -238757.766085\n",
       "zipcode_98188      -222721.851833\n",
       "city_Federal Way   -155238.983507\n",
       "zipcode_98166      -150007.094069\n",
       "                        ...      \n",
       "zipcode_98112       360282.643888\n",
       "zipcode_98004       479058.680846\n",
       "city_Medina         501779.036180\n",
       "zipcode_98039       501779.036180\n",
       "waterfront          569225.065922\n",
       "Name: coef, Length: 140, dtype: float64"
      ]
     },
     "execution_count": 20,
     "metadata": {},
     "output_type": "execute_result"
    }
   ],
   "source": [
    "coefs['coef'].sort_values()"
   ]
  },
  {
   "cell_type": "markdown",
   "metadata": {},
   "source": [
    "The coefficient of a term represents the change in the mean response for one unit of change in that term. If the coefficient is positive, as the term increases, the mean value of the response increases. If the coefficient is negative, as the term increases, the mean value of the response decreases. So for example we see than the coefficient of `sqft_living` is 180. This means that for every 1 sqft increase on a house, the price would increase by \\\\$180.\n",
    "\n",
    "I was surprised to see `bedrooms` have a negative coeficient, since my assumption was that when the number of bedrooms increase, so does the price. However, we saw previously with a `bedrooms` and `price` scatterplot that price increases with number of bedrooms only for homes with up to 5 bedrooms. The price then starts to decrease for homes with 6 bedrooms or more.  \n",
    "Notice also `bedrooms_squared` has a positive coeficient. This feature is `bedrooms` with a parabolic transformation. Since this feature has adjusted for `bedrooms` shape, it makes sense that it is positive.\n",
    "\n",
    "Not only is the coefficient of `sqft_lot` negative, but it's also a small number, indicating that its affect on  price is miniscule."
   ]
  },
  {
   "cell_type": "code",
   "execution_count": 21,
   "metadata": {},
   "outputs": [
    {
     "data": {
      "text/plain": [
       "Text(0, 0.5, 'predicted prices')"
      ]
     },
     "execution_count": 21,
     "metadata": {},
     "output_type": "execute_result"
    },
    {
     "data": {
      "image/png": "[encoded data removed]",
      "text/plain": [
       "<Figure size 432x288 with 1 Axes>"
      ]
     },
     "metadata": {
      "needs_background": "light"
     },
     "output_type": "display_data"
    }
   ],
   "source": [
    "plt.scatter(y2_test_transformed, ridge_y_test_pred[7], s=20)\n",
    "plt.title('Scatter plot of actual and predicted prices')\n",
    "plt.xlabel('actual prices')\n",
    "plt.ylabel('predicted prices')"
   ]
  },
  {
   "cell_type": "markdown",
   "metadata": {},
   "source": [
    "We see in the above plot that the predicted prices are somewhat close to the actual prices, but not very close. The best case scenario would be for the scatter plots to follow a perfectly straight diagonal line, indicating that our model perfectly predicted the house prices."
   ]
  },
  {
   "cell_type": "markdown",
   "metadata": {},
   "source": [
    "Histogram of the residuals of the best performing ridge regression model"
   ]
  },
  {
   "cell_type": "code",
   "execution_count": 22,
   "metadata": {
    "scrolled": false
   },
   "outputs": [
    {
     "data": {
      "image/png": "[encoded data removed]",
      "text/plain": [
       "<Figure size 576x288 with 1 Axes>"
      ]
     },
     "metadata": {
      "needs_background": "light"
     },
     "output_type": "display_data"
    }
   ],
   "source": [
    "plt.subplots(figsize=(8,4))\n",
    "plt.hist(y2_test_transformed - ridge_y_test_pred[7], bins=20)\n",
    "plt.title('Histogram of residuals')\n",
    "plt.show()"
   ]
  },
  {
   "cell_type": "markdown",
   "metadata": {},
   "source": [
    "Ideally a residual histogram would follow a normal distribution, and that would tell us that we've chosen an appropriate model type. However, the above plot does not closely follow a normal distribution, which is another indication that a linear regression model is not best for my dataset."
   ]
  },
  {
   "cell_type": "markdown",
   "metadata": {},
   "source": [
    "### CI around my prediction accuracy"
   ]
  },
  {
   "cell_type": "markdown",
   "metadata": {},
   "source": [
    "calculate standard error RMSE\n",
    ".."
   ]
  },
  {
   "cell_type": "code",
   "execution_count": 23,
   "metadata": {},
   "outputs": [
    {
     "data": {
      "text/plain": [
       "{8: 22107.0,\n",
       " 9: 6163.0,\n",
       " 10: 3722.0,\n",
       " 11: 3794.0,\n",
       " 12: 11531.0,\n",
       " 13: 6163.0,\n",
       " 14: 3722.0,\n",
       " 15: 3794.0}"
      ]
     },
     "execution_count": 23,
     "metadata": {},
     "output_type": "execute_result"
    }
   ],
   "source": [
    "# RMSE == standard deviation of errors\n",
    "ridge_test_error"
   ]
  },
  {
   "cell_type": "code",
   "execution_count": 24,
   "metadata": {},
   "outputs": [],
   "source": [
    "one_sd = min(ridge_test_error.values())\n",
    "two_sd = 2*one_sd\n",
    "three_sd = 3*one_sd"
   ]
  },
  {
   "cell_type": "markdown",
   "metadata": {},
   "source": [
    "#### 68% Confidence"
   ]
  },
  {
   "cell_type": "code",
   "execution_count": 25,
   "metadata": {},
   "outputs": [
    {
     "name": "stdout",
     "output_type": "stream",
     "text": [
      "I can be 68% confident that the error in the home price predictions will be between -3722.0 and 3722.0.\n"
     ]
    }
   ],
   "source": [
    "min_error = 0 - one_sd\n",
    "max_error = 0 + one_sd\n",
    "\n",
    "print('I can be 68% confident that the error in the home price predictions will be between {} and {}.'.format(min_error, max_error))"
   ]
  },
  {
   "cell_type": "markdown",
   "metadata": {},
   "source": [
    "#### 95% Confidence"
   ]
  },
  {
   "cell_type": "code",
   "execution_count": 26,
   "metadata": {
    "scrolled": true
   },
   "outputs": [
    {
     "name": "stdout",
     "output_type": "stream",
     "text": [
      "I can be 95% confident that the error in the home price predictions will be between -7444.0 and 7444.0.\n"
     ]
    }
   ],
   "source": [
    "min_error = 0 - two_sd\n",
    "max_error = 0 + two_sd\n",
    "\n",
    "print('I can be 95% confident that the error in the home price predictions will be between {} and {}.'.format(min_error, max_error))"
   ]
  },
  {
   "cell_type": "markdown",
   "metadata": {},
   "source": [
    "### Result Analysis"
   ]
  },
  {
   "cell_type": "markdown",
   "metadata": {},
   "source": [
    "The following analysis is based on my 95% confidence that the error in the home price predictions is between -\\\\$7,444 and \\\\$7,444:\n",
    "\n",
    "If I've predicted a house to be $\\$$200,000 and someone were to buy the house at that price, the worst loss would be \\\\$7,444 and the highest gain would be \\\\$7,444. That is, the least the house would actually be worth is \\\\$192,556 (200,000-7,444), and the most the house would be worth is \\\\$207,444 (200,000+7,444).\n",
    "\n",
    "Let's say my boss wants to buy a house at below my estimate in the hopes of flipping it, i.e., selling the house at around double the price at which he acquired it. With a house that I have estimated to be \\\\$200,000, if he purchases it at \\\\$100,000 for example, 3 things can happen:\n",
    "\n",
    "1. My estimation is correct and he would make a profit of \\\\$100,000 by selling it for \\\\$200,000.  \n",
    "2. The house is actually worth \\\\$192,556 and he ends up making a profit of \\\\$92,556.  \n",
    "3. The house is actually worth \\\\$207,444 and he ends up buying \\\\$107,000 below the house value, resulting in a 207\\%  profit if he were to sell it for \\\\$207,444."
   ]
  },
  {
   "cell_type": "markdown",
   "metadata": {},
   "source": [
    "**What happens if my boss purchases 100 homes?**"
   ]
  },
  {
   "cell_type": "code",
   "execution_count": 34,
   "metadata": {
    "scrolled": true
   },
   "outputs": [],
   "source": [
    "from math import sqrt\n",
    "\n",
    "np.random.seed(47)\n",
    "n = 100 # length of sample\n",
    "\n",
    "# function to sample the actual and predicted prices of 100 homes at a time.\n",
    "def draw_bs_reps(y_test, y_pred):\n",
    "    bs_error = np.random.choice(y_test - y_pred, n) # price sold - price bought == profit (gain or loss)\n",
    "    \n",
    "    error_mean = np.sum(bs_error) / len(bs_error) # avg gain or loss on n transactions\n",
    "    return error_mean\n",
    "\n",
    "# running the same experiment as before, with $1000 deducted from my predicted prices\n",
    "def draw_bs_reps_1000(y_test, y_pred):\n",
    "    bs_error = np.random.choice(y_test - (y_pred-1000), n) # deduct 1000 from each predicted price\n",
    "    \n",
    "    error_mean = np.sum(bs_error) / len(bs_error) # avg gain or loss on n transactions\n",
    "    return error_mean"
   ]
  },
  {
   "cell_type": "code",
   "execution_count": 35,
   "metadata": {
    "scrolled": false
   },
   "outputs": [
    {
     "name": "stdout",
     "output_type": "stream",
     "text": [
      "mean of means: 4339\n",
      "std of means: 18435\n",
      "\n",
      "The above result means that if I calculate the error between the true/historical price and my predicted price of 100 homes, I can be 95% confident that the error of the mean of average error in the home price predictions will be between -7,444.0 and 7,444.0.\n",
      "\n",
      "In other words, if my boss was to buy 100 homes at my predicted price and sell them at their true price, I can be 95% confident that the most she would lose is $32,531 and the most she would gain is $41,209.\n"
     ]
    }
   ],
   "source": [
    "# purchasing 100 homes at predicted price\n",
    "\n",
    "error_means = np.array([draw_bs_reps(y2_test_transformed, ridge_y_test_pred[7]) for i in range(1000)]) # Ridge Reg model\n",
    "error_means = np.round(error_means, 2)\n",
    "error_means_mean = np.mean(error_means) # mean of means\n",
    "print('mean of means: {}'.format(int(error_means_mean)))\n",
    "\n",
    "error_means_std = sqrt(np.sum((error_means-error_means_mean)**2) / (1000-1)) # standard deviation of means\n",
    "print('std of means: {}'.format(int(error_means_std)))\n",
    "\n",
    "# confidence interval\n",
    "min_error_100 = int(error_means_mean - 2*error_means_std)\n",
    "max_error_100 = int(error_means_mean + 2*error_means_std)\n",
    "\n",
    "print('')\n",
    "print('The above result means that if I calculate the error between the true/historical price and my predicted price ' \n",
    "      'of 100 homes, I can be 95% confident that the error of the mean of average error in the home price ' \n",
    "      'predictions will be between {:,} and {:,}.'.format(min_error, max_error))\n",
    "print('')\n",
    "print('In other words, if my boss was to buy 100 homes at my predicted price and sell them at their true price, ' \n",
    "      'I can be 95% confident that the most she would lose is ${:,} ' \n",
    "      'and the most she would gain is ${:,}.'.format(-1*min_error_100, max_error_100))"
   ]
  },
  {
   "cell_type": "markdown",
   "metadata": {},
   "source": [
    "Below is a histogram of the distribution of purchasing 100 homes at my predicted prices."
   ]
  },
  {
   "cell_type": "code",
   "execution_count": 36,
   "metadata": {},
   "outputs": [
    {
     "name": "stdout",
     "output_type": "stream",
     "text": [
      "-32531 41209\n"
     ]
    },
    {
     "data": {
      "image/png": "[encoded data removed]",
      "text/plain": [
       "<Figure size 432x288 with 1 Axes>"
      ]
     },
     "metadata": {
      "needs_background": "light"
     },
     "output_type": "display_data"
    }
   ],
   "source": [
    "plt.hist(error_means, bins=20)\n",
    "plt.plot()\n",
    "print(min_error_100, max_error_100)"
   ]
  },
  {
   "cell_type": "markdown",
   "metadata": {},
   "source": [
    "It shows that the mode is shifted to the positive, which is good because it means we're profiting. I conducted this experiment a few more times to make sure the shape is real."
   ]
  },
  {
   "cell_type": "markdown",
   "metadata": {},
   "source": [
    "What happens if my boss purchases homes $1000 below my predicted prices?"
   ]
  },
  {
   "cell_type": "code",
   "execution_count": 37,
   "metadata": {
    "scrolled": true
   },
   "outputs": [
    {
     "name": "stdout",
     "output_type": "stream",
     "text": [
      "mean of means: 4339\n",
      "std of means: 18435\n",
      "\n",
      "If my boss was to buy 100 homes at $1000 less than my predicted price and sell them at their true price, I can be 95% confident that the most she would lose is $32,531 and the most she would gain is $41,209.\n"
     ]
    }
   ],
   "source": [
    "# purchasing 100 homes at 1000 less than predicted price\n",
    "\n",
    "error_means_1000 = np.array([draw_bs_reps_1000(y2_test_transformed, ridge_y_test_pred[7]) for i in range(1000)]) # Ridge reg model\n",
    "error_means_1000 = np.round(error_means, 2)\n",
    "error_means_mean = np.mean(error_means_1000) # mean of means\n",
    "print('mean of means: {}'.format(int(error_means_mean)))\n",
    "\n",
    "error_means_std = sqrt(np.sum((error_means-error_means_mean)**2) / (1000-1)) # standard deviation of means\n",
    "print('std of means: {}'.format(int(error_means_std)))\n",
    "\n",
    "# confidence interval\n",
    "min_error_1000 = int(error_means_mean - 2*error_means_std)\n",
    "max_error_1000 = int(error_means_mean + 2*error_means_std)\n",
    "\n",
    "print('')\n",
    "print('If my boss was to buy 100 homes at $1000 less than my predicted price and sell them at their true price, ' \n",
    "      'I can be 95% confident that the most she would lose is ${:,} ' \n",
    "      'and the most she would gain is ${:,}.'.format(-1*min_error_1000, max_error_1000))"
   ]
  },
  {
   "cell_type": "code",
   "execution_count": 38,
   "metadata": {},
   "outputs": [
    {
     "name": "stdout",
     "output_type": "stream",
     "text": [
      "-32531 41209\n"
     ]
    },
    {
     "data": {
      "image/png": "[encoded data removed]",
      "text/plain": [
       "<Figure size 432x288 with 1 Axes>"
      ]
     },
     "metadata": {
      "needs_background": "light"
     },
     "output_type": "display_data"
    }
   ],
   "source": [
    "plt.hist(error_means_1000, bins=20)\n",
    "plt.plot()\n",
    "print(min_error_100, max_error_100)"
   ]
  },
  {
   "cell_type": "markdown",
   "metadata": {},
   "source": [
    "### Result"
   ]
  },
  {
   "cell_type": "markdown",
   "metadata": {},
   "source": [
    "Other experiments:\n",
    "* experiments with other models\n",
    "* experiemnts with predicted prices reduced by \\\\$5,000, \\\\$10,000, \\\\$50,000\n",
    "\n",
    "When running experiments using my other models, the Random Forest model resulted in the most profit, which was expected since the model had the least error in its prediction.\n",
    "\n",
    "I ran experiments with \\\\$5,000, \\\\$10,000, \\\\$50,000 deducted from the predicted prices. \n",
    "This means that my boss would purchase 100 homes with \\\\$5,000, \\\\$10,000, and \\\\$50,000 below my predicted prices. \n",
    "The result was that these 3 experiments produced better profits and less losses than the scenario where my boss would purchase homes at \\\\$1000 less than my predicted prices. However, finding 100 houses at those reduced prices would be difficult. Therefore, I would reccomend focusing on finding homes with the \\\\$1000 reductions."
   ]
  },
  {
   "cell_type": "code",
   "execution_count": null,
   "metadata": {},
   "outputs": [],
   "source": []
  },
  {
   "cell_type": "code",
   "execution_count": null,
   "metadata": {},
   "outputs": [],
   "source": []
  },
  {
   "cell_type": "code",
   "execution_count": null,
   "metadata": {},
   "outputs": [],
   "source": []
  },
  {
   "cell_type": "code",
   "execution_count": null,
   "metadata": {},
   "outputs": [],
   "source": []
  }
 ],
 "metadata": {
  "kernelspec": {
   "display_name": "Python 3",
   "language": "python",
   "name": "python3"
  },
  "language_info": {
   "codemirror_mode": {
    "name": "ipython",
    "version": 3
   },
   "file_extension": ".py",
   "mimetype": "text/x-python",
   "name": "python",
   "nbconvert_exporter": "python",
   "pygments_lexer": "ipython3",
   "version": "3.7.3"
  }
 },
 "nbformat": 4,
 "nbformat_minor": 2
}
