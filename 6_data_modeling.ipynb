{
 "cells": [
  {
   "cell_type": "markdown",
   "metadata": {},
   "source": [
    "## Data Preparation"
   ]
  },
  {
   "cell_type": "code",
   "execution_count": 102,
   "metadata": {},
   "outputs": [],
   "source": [
    "# import necessary modules/libraries\n",
    "\n",
    "import numpy as  np\n",
    "import pandas as pd\n",
    "\n",
    "import matplotlib\n",
    "import matplotlib.pyplot as plt\n",
    "import seaborn as sns\n",
    "\n",
    "from scipy import stats\n",
    "from scipy.stats import pearsonr\n",
    "\n",
    "from matplotlib import rcParams\n",
    "sns.set_style(\"whitegrid\")\n",
    "sns.set_context(\"talk\", font_scale=0.7)\n",
    "sns.set_palette(\"Greens_r\")\n",
    "#set_palette(\"Set1\", 8, .75) # makes plot lines red\n",
    "\n",
    "# Ignore  the warnings\n",
    "import warnings\n",
    "warnings.filterwarnings('always')\n",
    "warnings.filterwarnings('ignore')\n",
    "\n",
    "from sklearn.preprocessing import Imputer # to impute missing data\n",
    "\n",
    "from sklearn.preprocessing import StandardScaler\n",
    "from sklearn.preprocessing import MinMaxScaler\n",
    "\n",
    "import sklearn\n",
    "from sklearn.linear_model import LinearRegression\n",
    "from sklearn.ensemble import RandomForestRegressor\n",
    "from sklearn.linear_model import Lasso\n",
    "from sklearn.linear_model import Ridge\n",
    "from sklearn.model_selection import train_test_split\n",
    "from sklearn.model_selection import cross_validate\n",
    "from sklearn.model_selection import cross_val_score\n",
    "from sklearn.model_selection import GridSearchCV\n",
    "from sklearn.metrics import mean_squared_error\n",
    "\n",
    "%matplotlib inline"
   ]
  },
  {
   "cell_type": "markdown",
   "metadata": {},
   "source": [
    "## Feature Engineering"
   ]
  },
  {
   "cell_type": "code",
   "execution_count": 142,
   "metadata": {},
   "outputs": [],
   "source": [
    "df = pd.read_csv('house_price_prediction.csv') # read the data\n",
    "\n",
    "df['date'] = pd.to_datetime(df['date']) # change date col to datetime\n",
    "df['month'] = df['date'].dt.month # creating month feature\n",
    "df['year'] = df['date'].dt.year  # all 2014 so can drop\n",
    "df[['waterfront', 'condition']] = df[['waterfront', 'condition']].astype('category') # change data types to categorical\n",
    "df['state'] = df['statezip'].apply(lambda x: x.split(' ')[0]) # split statezip into state & zipcode\n",
    "df['zipcode'] = df['statezip'].apply(lambda x: int(x.split(' ')[1]))\n",
    "df['total_sqft'] = df.sqft_living + df.sqft_lot # creating total_sqft feature: sqft_above + sqft_lot\n",
    "df['street_name'] = df['street'].str.strip().str.lstrip('-0123456789').str.strip().str.lower()\n",
    "df['price_is0'] = df['price'] <= 0 # create column of boolean arrays with 1 for price == $0 & 0 for price != $0\n",
    "df['renov_date_is0'] = df['yr_renovated'] <= 0 # create column of boolean arrays with 1 for yr_renov == 0 & 0 for others\n",
    "\n",
    "# replacing 0s with the mean bedroom & bathroom values\n",
    "df[\"bedrooms\"].replace({0: round(df[\"bedrooms\"].mean(), 0)}, inplace=True)\n",
    "df[\"bathrooms\"].replace({0: round(df[\"bathrooms\"].mean(), 0)}, inplace=True)"
   ]
  },
  {
   "cell_type": "code",
   "execution_count": 143,
   "metadata": {
    "scrolled": true
   },
   "outputs": [],
   "source": [
    "df = pd.get_dummies(df, columns=['month', 'zipcode', 'street_name', 'city'])"
   ]
  },
  {
   "cell_type": "markdown",
   "metadata": {},
   "source": [
    "**Further feature engineering**"
   ]
  },
  {
   "cell_type": "code",
   "execution_count": 144,
   "metadata": {},
   "outputs": [],
   "source": [
    "df2 = df.copy()\n",
    "df2['yr_built_is0'] = df2['yr_built'] <= 0\n",
    "df2['renovation_age'] = df2['year'] - df2['yr_renovated']\n",
    "df2['house_age'] = df2['year'] - df2['yr_built']\n",
    "df2 = df2[df2['sqft_lot'] < 600000]"
   ]
  },
  {
   "cell_type": "code",
   "execution_count": 145,
   "metadata": {},
   "outputs": [],
   "source": [
    "for c in ['date', 'year', 'statezip', 'country', 'state', 'street']:\n",
    "    try:\n",
    "        del df[c], df2[c]\n",
    "    except KeyError:\n",
    "        pass"
   ]
  },
  {
   "cell_type": "code",
   "execution_count": 146,
   "metadata": {},
   "outputs": [],
   "source": [
    "df_no_outs = df[df.price < 10000000].copy() # df with price outliers removed\n",
    "df_no_zeros = df_no_outs[df_no_outs[\"price\"] != 0].copy() # df with $0 prices removed\n",
    "\n",
    "df2_no_outs = df[df.price < 10000000].copy() # df2 with price outliers removed\n",
    "df2_no_zeros = df_no_outs[df_no_outs[\"price\"] != 0].copy() # df2 with $0 prices removed"
   ]
  },
  {
   "cell_type": "markdown",
   "metadata": {},
   "source": [
    "# Data Modeling"
   ]
  },
  {
   "cell_type": "markdown",
   "metadata": {},
   "source": [
    "## Data Preprocessing"
   ]
  },
  {
   "cell_type": "code",
   "execution_count": 147,
   "metadata": {},
   "outputs": [],
   "source": [
    "# dataframe with both zero prices and outliers.\n",
    "X = df.drop(['price'], axis='columns')\n",
    "y = df[\"price\"]\n",
    "# splitting data into training and test data\n",
    "X_train, X_test, y_train, y_test = train_test_split(X, y, test_size = 0.3, random_state=42)\n",
    "\n",
    "# dataframe without price outliers\n",
    "X_no_outs = df_no_outs.drop(['price'], axis='columns')\n",
    "y_no_outs = df_no_outs[\"price\"]\n",
    "X_train_no_outs, X_test_no_outs, y_train_no_outs, y_test_no_outs = train_test_split(X_no_outs, y_no_outs, test_size = 0.3, random_state=42)\n",
    "\n",
    "# dataframe without $0 price values\n",
    "X_no_zeros = df_no_zeros.drop(['price'], axis='columns')\n",
    "y_no_zeros = df_no_zeros[\"price\"]\n",
    "X_train_no_zeros, X_test_no_zeros, y_train_no_zeros, y_test_no_zeros = train_test_split(X_no_zeros, y_no_zeros, test_size = 0.3, random_state=42)\n",
    "\n",
    "# dataframe with a parabolic transformation on the `bedrooms` feature\n",
    "X_transformed = df_no_zeros.drop(['price'], axis='columns')\n",
    "X_transformed['bedrooms_squared'] = X['bedrooms']**2  # parabolic transformation of bedrooms\n",
    "y_transformed = df_no_zeros['price']\n",
    "X_train_transformed, X_test_transformed, y_train_transformed, y_test_transformed = train_test_split(X_transformed, y_transformed, test_size = 0.3, random_state=42)\n",
    "\n",
    "# dataframe with both zero prices and outliers.\n",
    "X2 = df2.drop(['price'], axis='columns')\n",
    "y2 = df2[\"price\"]\n",
    "X2_train, X2_test, y2_train, y2_test = train_test_split(X2, y2, test_size = 0.3, random_state=42)\n",
    "\n",
    "# dataframe without price outliers\n",
    "X2_no_outs = df2_no_outs.drop(['price'], axis='columns')\n",
    "y2_no_outs = df2_no_outs[\"price\"]\n",
    "X2_train_no_outs, X2_test_no_outs, y2_train_no_outs, y2_test_no_outs = train_test_split(X2_no_outs, y2_no_outs, test_size = 0.3, random_state=42)\n",
    "\n",
    "# dataframe without $0 price values\n",
    "X2_no_zeros = df2_no_zeros.drop(['price'], axis='columns')\n",
    "y2_no_zeros = df2_no_zeros[\"price\"]\n",
    "X2_train_no_zeros, X2_test_no_zeros, y2_train_no_zeros, y2_test_no_zeros = train_test_split(X2_no_zeros, y2_no_zeros, test_size = 0.3, random_state=42)\n",
    "\n",
    "# dataframe with a parabolic transformation on the `bedrooms` feature\n",
    "X2_transformed = df2_no_zeros.drop(['price'], axis='columns')\n",
    "X2_transformed['bedrooms_squared'] = X2_transformed['bedrooms']**2  # parabolic transformation of bedrooms\n",
    "y2_transformed = df2_no_zeros['price']\n",
    "X2_train_transformed, X2_test_transformed, y2_train_transformed, y2_test_transformed = train_test_split(X2_transformed, y2_transformed, test_size = 0.3, random_state=42)\n"
   ]
  },
  {
   "cell_type": "code",
   "execution_count": 148,
   "metadata": {},
   "outputs": [],
   "source": [
    "# 4 training sets and test sets\n",
    "# 3 algorithms\n",
    "\n",
    "train_test_sets = [\n",
    "    [X_train, X_test, y_train, y_test],\n",
    "    [X_train_no_outs, X_test_no_outs, y_train_no_outs, y_test_no_outs],\n",
    "    [X_train_no_zeros, X_test_no_zeros, y_train_no_zeros, y_test_no_zeros],\n",
    "    [X_train_transformed, X_test_transformed, y_train_transformed, y_test_transformed],\n",
    "    [X2_train, X2_test, y2_train, y2_test],\n",
    "    [X2_train_no_outs, X2_test_no_outs, y2_train_no_outs, y2_test_no_outs],\n",
    "    [X2_train_no_zeros, X2_test_no_zeros, y2_train_no_zeros, y2_test_no_zeros],\n",
    "    [X2_train_transformed, X2_test_transformed, y2_train_transformed, y2_test_transformed],\n",
    "]\n",
    "\n",
    "train_test_dicts = []\n",
    "for i, sets in enumerate(train_test_sets):\n",
    "    d = dict(zip('X_train X_test y_train_true y_test_true'.split(), sets))\n",
    "    train_test_dicts.append(d)\n",
    "\n",
    "algorithms = [LinearRegression, Ridge, RandomForestRegressor]\n",
    "names = ['linear regression', 'ridge regression ', 'random forest    ']"
   ]
  },
  {
   "cell_type": "code",
   "execution_count": 149,
   "metadata": {},
   "outputs": [],
   "source": [
    "def calc_rmse(y_true, y_pred):\n",
    "    rmse = np.sqrt(np.mean(y_true - y_pred)**2)\n",
    "    return rmse\n",
    "    \n",
    "def fit_and_score(X_train, y_train_true, X_test, y_test_true, model):\n",
    "    '''fits model and returns the RMSE for in-sample error and out-of-sample error, and their accuracy score'''\n",
    "    \n",
    "    model.fit(X_train, y_train_true)\n",
    "    y_train_pred = model.predict(X_train)\n",
    "    train_error = calc_rmse(y_true=y_train_true, y_pred=y_train_pred)\n",
    "    y_test_pred = model.predict(X_test)\n",
    "    test_error = calc_rmse(y_true=y_test_true, y_pred=y_test_pred)\n",
    "    #print(y_train_true.shape, y_train_pred.shape)\n",
    "    \n",
    "    train_score = model.score(X_train, y_train_true)\n",
    "    test_score = model.score(X_test, y_test_true)\n",
    "    \n",
    "    return train_error, test_error, train_score, test_score, y_train_pred, y_test_pred"
   ]
  },
  {
   "cell_type": "markdown",
   "metadata": {},
   "source": [
    "### Choosing alpha for Ridge Regression"
   ]
  },
  {
   "cell_type": "code",
   "execution_count": 111,
   "metadata": {},
   "outputs": [
    {
     "name": "stdout",
     "output_type": "stream",
     "text": [
      "\n",
      "alpha: 0.0001 | test_score: 0.07617912088939582 | test_error: 28566.35517300306 | test/train error: 338459479266120.2\n",
      "alpha: 0.001 | test_score: 0.07853034951751338 | test_error: 27887.069950909234 | test/train error: 4479940201405.5\n",
      "alpha: 0.01 | test_score: 0.08293963903574408 | test_error: 26416.88262616 | test/train error: 12822886435380.7\n",
      "alpha: 0.1 | test_score: 0.0888537588858156 | test_error: 25387.83019539755 | test/train error: 99647645609803.0\n",
      "alpha: 1 | test_score: 0.0980933941861637 | test_error: 23232.288498621427 | test/train error: 525210919799374.6\n",
      "alpha: 10.0 | test_score: 0.09840871488828508 | test_error: 22945.309749708143 | test/train error: 28451699998521.4\n",
      "\n",
      "alpha: 0.0001 | test_score: 0.5702971105591239 | test_error: 4055.501032359898 | test/train error: 6158197117849.7\n",
      "alpha: 0.001 | test_score: 0.5777523919863424 | test_error: 4375.531388178785 | test/train error: 3400296045508.8\n",
      "alpha: 0.01 | test_score: 0.5974661795823368 | test_error: 4872.086406264395 | test/train error: 8433339030304.1\n",
      "alpha: 0.1 | test_score: 0.6423940104596548 | test_error: 4306.264125178734 | test/train error: 10492332872348.8\n",
      "alpha: 1 | test_score: 0.7051432329874714 | test_error: 4409.198757710269 | test/train error: 5432137883973.9\n",
      "alpha: 10.0 | test_score: 0.7261238735062293 | test_error: 3278.0499092683694 | test/train error: 212707037580621.0\n",
      "\n",
      "alpha: 0.0001 | test_score: 0.569423942162187 | test_error: 12440.661737446091 | test/train error: 25546698281331.6\n",
      "alpha: 0.001 | test_score: 0.6329329433650457 | test_error: 10356.53168390476 | test/train error: 1026285450619059.8\n",
      "alpha: 0.01 | test_score: 0.7043597430909456 | test_error: 6707.891387580094 | test/train error: 24414557041753.6\n",
      "alpha: 0.1 | test_score: 0.737346383690731 | test_error: 5966.532864340418 | test/train error: 50686992549624.8\n",
      "alpha: 1 | test_score: 0.7664180494081397 | test_error: 4759.165906486796 | test/train error: 6360442298872.3\n",
      "alpha: 10.0 | test_score: 0.7648228040257405 | test_error: 4572.243225270335 | test/train error: 16943629897191.1\n",
      "\n",
      "alpha: 0.0001 | test_score: 0.5666728410658873 | test_error: 12765.753298985039 | test/train error: 119940859830007.8\n",
      "alpha: 0.001 | test_score: 0.6306734173356551 | test_error: 10672.967528153076 | test/train error: 1177054096832619.0\n",
      "alpha: 0.01 | test_score: 0.7029525482404471 | test_error: 6983.933061945137 | test/train error: 63980246450944.8\n",
      "alpha: 0.1 | test_score: 0.736646245904603 | test_error: 6142.841617166739 | test/train error: 13572636338677.6\n",
      "alpha: 1 | test_score: 0.7660798571924108 | test_error: 4866.420389849989 | test/train error: 25208013140458.6\n",
      "alpha: 10.0 | test_score: 0.7645735071976965 | test_error: 4642.52731556809 | test/train error: 4882893210569.7\n",
      "\n",
      "alpha: 0.0001 | test_score: 0.0848697535071552 | test_error: 18610.045224784244 | test/train error: 34106942781284.5\n",
      "alpha: 0.001 | test_score: 0.09450420615864041 | test_error: 17684.749254673643 | test/train error: 15251511773001.8\n",
      "alpha: 0.01 | test_score: 0.10628325028944662 | test_error: 16108.675567836919 | test/train error: 39005987939779.9\n",
      "alpha: 0.1 | test_score: 0.11480657361451597 | test_error: 15935.005601717816 | test/train error: 73254939381218.2\n",
      "alpha: 1 | test_score: 0.12756499315930503 | test_error: 14424.656652955215 | test/train error: 415996104688486.6\n",
      "alpha: 10.0 | test_score: 0.12915079400834995 | test_error: 11277.447725251466 | test/train error: 8864567936206.1\n",
      "\n",
      "alpha: 0.0001 | test_score: 0.5702971105591239 | test_error: 4055.501032359898 | test/train error: 6158197117849.7\n",
      "alpha: 0.001 | test_score: 0.5777523919863424 | test_error: 4375.531388178785 | test/train error: 3400296045508.8\n",
      "alpha: 0.01 | test_score: 0.5974661795823368 | test_error: 4872.086406264395 | test/train error: 8433339030304.1\n",
      "alpha: 0.1 | test_score: 0.6423940104596548 | test_error: 4306.264125178734 | test/train error: 10492332872348.8\n",
      "alpha: 1 | test_score: 0.7051432329874714 | test_error: 4409.198757710269 | test/train error: 5432137883973.9\n",
      "alpha: 10.0 | test_score: 0.7261238735062293 | test_error: 3278.0499092683694 | test/train error: 212707037580621.0\n",
      "\n",
      "alpha: 0.0001 | test_score: 0.569423942162187 | test_error: 12440.661737446091 | test/train error: 25546698281331.6\n",
      "alpha: 0.001 | test_score: 0.6329329433650457 | test_error: 10356.53168390476 | test/train error: 1026285450619059.8\n",
      "alpha: 0.01 | test_score: 0.7043597430909456 | test_error: 6707.891387580094 | test/train error: 24414557041753.6\n",
      "alpha: 0.1 | test_score: 0.737346383690731 | test_error: 5966.532864340418 | test/train error: 50686992549624.8\n",
      "alpha: 1 | test_score: 0.7664180494081397 | test_error: 4759.165906486796 | test/train error: 6360442298872.3\n",
      "alpha: 10.0 | test_score: 0.7648228040257405 | test_error: 4572.243225270335 | test/train error: 16943629897191.1\n",
      "\n",
      "alpha: 0.0001 | test_score: 0.5666728410658873 | test_error: 12765.753298985039 | test/train error: 119940859830007.8\n",
      "alpha: 0.001 | test_score: 0.6306734173356551 | test_error: 10672.967528153076 | test/train error: 1177054096832619.0\n",
      "alpha: 0.01 | test_score: 0.7029525482404471 | test_error: 6983.933061945137 | test/train error: 63980246450944.8\n",
      "alpha: 0.1 | test_score: 0.736646245904603 | test_error: 6142.841617166739 | test/train error: 13572636338677.6\n",
      "alpha: 1 | test_score: 0.7660798571924108 | test_error: 4866.420389849989 | test/train error: 25208013140458.6\n",
      "alpha: 10.0 | test_score: 0.7645735071976965 | test_error: 4642.52731556809 | test/train error: 4882893210569.7\n"
     ]
    }
   ],
   "source": [
    "alphas = [1e-4, 1e-3, 1e-2, 1e-1, 1, 1e1]\n",
    "\n",
    "for sets in train_test_dicts:\n",
    "    print('')\n",
    "    for alpha in alphas:\n",
    "        model = Ridge(alpha = alpha)\n",
    "        train_error, test_error, train_score, test_score, y_train_pred, y_test_pred = fit_and_score(model=model, **sets)\n",
    "        #train_error, test_error, train_score, test_score, y_pred = fit_and_score(sets[0], sets[2],  sets[1], sets[3], model)\n",
    "        print('alpha: {} | test_score: {} | test_error: {} | test/train error: {}'.format(alpha, test_score, test_error, round(test_error/train_error, 1)))\n"
   ]
  },
  {
   "cell_type": "markdown",
   "metadata": {},
   "source": [
    "For all datasets, **alpha=1** produced the highest test score. Therefore I'll be using this value for my ridge regression models."
   ]
  },
  {
   "cell_type": "markdown",
   "metadata": {},
   "source": [
    "### Choosing parameters for Random Forest"
   ]
  },
  {
   "cell_type": "code",
   "execution_count": 112,
   "metadata": {
    "scrolled": true
   },
   "outputs": [
    {
     "name": "stdout",
     "output_type": "stream",
     "text": [
      "\n",
      "max_depth: None | n_estimators: 1 | test_score: 0.018 | test_error: 31518.469 | test/train error: 14.3\n",
      "max_depth: None | n_estimators: 10 | test_score: 0.092 | test_error: 24109.805 | test/train error: 13.2\n",
      "max_depth: None | n_estimators: 100 | test_score: 0.09 | test_error: 29657.587 | test/train error: 12.9\n",
      "max_depth: None | n_estimators: 200 | test_score: 0.091 | test_error: 28721.809 | test/train error: 15.2\n",
      "max_depth: 10 | n_estimators: 1 | test_score: 0.032 | test_error: 21320.666 | test/train error: 22.6\n",
      "max_depth: 10 | n_estimators: 10 | test_score: 0.079 | test_error: 27920.833 | test/train error: 10.0\n",
      "max_depth: 10 | n_estimators: 100 | test_score: 0.084 | test_error: 27345.904 | test/train error: 13.1\n",
      "max_depth: 10 | n_estimators: 200 | test_score: 0.086 | test_error: 26899.515 | test/train error: 17.0\n",
      "max_depth: 100 | n_estimators: 1 | test_score: 0.044 | test_error: 38154.178 | test/train error: 5.3\n",
      "max_depth: 100 | n_estimators: 10 | test_score: 0.081 | test_error: 26937.466 | test/train error: 11.5\n",
      "max_depth: 100 | n_estimators: 100 | test_score: 0.092 | test_error: 28723.89 | test/train error: 14.4\n",
      "max_depth: 100 | n_estimators: 200 | test_score: 0.091 | test_error: 28477.379 | test/train error: 15.7\n",
      "\n",
      "max_depth: None | n_estimators: 1 | test_score: 0.462 | test_error: 5078.25 | test/train error: 24.6\n",
      "max_depth: None | n_estimators: 10 | test_score: 0.723 | test_error: 2846.234 | test/train error: 1.0\n",
      "max_depth: None | n_estimators: 100 | test_score: 0.719 | test_error: 2055.532 | test/train error: 1.2\n",
      "max_depth: None | n_estimators: 200 | test_score: 0.739 | test_error: 3456.647 | test/train error: 1.2\n",
      "max_depth: 10 | n_estimators: 1 | test_score: 0.517 | test_error: 1028.988 | test/train error: 0.2\n",
      "max_depth: 10 | n_estimators: 10 | test_score: 0.648 | test_error: 6880.192 | test/train error: 17.3\n",
      "max_depth: 10 | n_estimators: 100 | test_score: 0.686 | test_error: 98.192 | test/train error: 0.0\n",
      "max_depth: 10 | n_estimators: 200 | test_score: 0.689 | test_error: 85.356 | test/train error: 0.0\n",
      "max_depth: 100 | n_estimators: 1 | test_score: 0.352 | test_error: 1667.552 | test/train error: 0.7\n",
      "max_depth: 100 | n_estimators: 10 | test_score: 0.71 | test_error: 2487.774 | test/train error: 2.1\n",
      "max_depth: 100 | n_estimators: 100 | test_score: 0.744 | test_error: 4777.557 | test/train error: 1.6\n",
      "max_depth: 100 | n_estimators: 200 | test_score: 0.736 | test_error: 2095.81 | test/train error: 0.9\n",
      "\n",
      "max_depth: None | n_estimators: 1 | test_score: 0.436 | test_error: 17596.851 | test/train error: 1.9\n",
      "max_depth: None | n_estimators: 10 | test_score: 0.707 | test_error: 12555.633 | test/train error: 4.0\n",
      "max_depth: None | n_estimators: 100 | test_score: 0.712 | test_error: 12099.613 | test/train error: 4.3\n",
      "max_depth: None | n_estimators: 200 | test_score: 0.718 | test_error: 13613.206 | test/train error: 3.9\n",
      "max_depth: 10 | n_estimators: 1 | test_score: 0.329 | test_error: 6752.012 | test/train error: 2.2\n",
      "max_depth: 10 | n_estimators: 10 | test_score: 0.656 | test_error: 11617.105 | test/train error: 27.2\n",
      "max_depth: 10 | n_estimators: 100 | test_score: 0.703 | test_error: 12034.436 | test/train error: 4.0\n",
      "max_depth: 10 | n_estimators: 200 | test_score: 0.682 | test_error: 12771.943 | test/train error: 3.9\n",
      "max_depth: 100 | n_estimators: 1 | test_score: 0.557 | test_error: 17190.634 | test/train error: 3.4\n",
      "max_depth: 100 | n_estimators: 10 | test_score: 0.7 | test_error: 13520.17 | test/train error: 3.6\n",
      "max_depth: 100 | n_estimators: 100 | test_score: 0.718 | test_error: 13304.249 | test/train error: 3.8\n",
      "max_depth: 100 | n_estimators: 200 | test_score: 0.715 | test_error: 12014.258 | test/train error: 4.3\n",
      "\n",
      "max_depth: None | n_estimators: 1 | test_score: 0.441 | test_error: 19080.525 | test/train error: 18.5\n",
      "max_depth: None | n_estimators: 10 | test_score: 0.71 | test_error: 14092.534 | test/train error: 3.5\n",
      "max_depth: None | n_estimators: 100 | test_score: 0.701 | test_error: 12251.978 | test/train error: 4.7\n",
      "max_depth: None | n_estimators: 200 | test_score: 0.713 | test_error: 12134.133 | test/train error: 4.4\n",
      "max_depth: 10 | n_estimators: 1 | test_score: 0.51 | test_error: 23369.633 | test/train error: 2.8\n",
      "max_depth: 10 | n_estimators: 10 | test_score: 0.666 | test_error: 11586.886 | test/train error: 3.9\n",
      "max_depth: 10 | n_estimators: 100 | test_score: 0.686 | test_error: 12577.734 | test/train error: 4.0\n",
      "max_depth: 10 | n_estimators: 200 | test_score: 0.687 | test_error: 12786.217 | test/train error: 4.1\n",
      "max_depth: 100 | n_estimators: 1 | test_score: 0.369 | test_error: 8431.328 | test/train error: 2.7\n",
      "max_depth: 100 | n_estimators: 10 | test_score: 0.653 | test_error: 12367.4 | test/train error: 8.1\n",
      "max_depth: 100 | n_estimators: 100 | test_score: 0.711 | test_error: 13299.95 | test/train error: 3.5\n",
      "max_depth: 100 | n_estimators: 200 | test_score: 0.72 | test_error: 11937.625 | test/train error: 4.1\n",
      "\n",
      "max_depth: None | n_estimators: 1 | test_score: 0.089 | test_error: 22280.774 | test/train error: 12.5\n",
      "max_depth: None | n_estimators: 10 | test_score: 0.112 | test_error: 16711.057 | test/train error: 27.1\n",
      "max_depth: None | n_estimators: 100 | test_score: 0.122 | test_error: 18122.265 | test/train error: 8.5\n",
      "max_depth: None | n_estimators: 200 | test_score: 0.12 | test_error: 19041.353 | test/train error: 7.1\n",
      "max_depth: 10 | n_estimators: 1 | test_score: 0.097 | test_error: 13799.867 | test/train error: 2.2\n",
      "max_depth: 10 | n_estimators: 10 | test_score: 0.113 | test_error: 21674.011 | test/train error: 6.5\n",
      "max_depth: 10 | n_estimators: 100 | test_score: 0.116 | test_error: 19171.365 | test/train error: 5.7\n",
      "max_depth: 10 | n_estimators: 200 | test_score: 0.114 | test_error: 18879.605 | test/train error: 9.6\n",
      "max_depth: 100 | n_estimators: 1 | test_score: 0.077 | test_error: 26362.981 | test/train error: 13.6\n",
      "max_depth: 100 | n_estimators: 10 | test_score: 0.105 | test_error: 15008.679 | test/train error: 14.8\n",
      "max_depth: 100 | n_estimators: 100 | test_score: 0.123 | test_error: 18204.933 | test/train error: 6.0\n",
      "max_depth: 100 | n_estimators: 200 | test_score: 0.121 | test_error: 17847.564 | test/train error: 9.3\n",
      "\n",
      "max_depth: None | n_estimators: 1 | test_score: 0.461 | test_error: 1069.529 | test/train error: 1.7\n",
      "max_depth: None | n_estimators: 10 | test_score: 0.698 | test_error: 3275.704 | test/train error: 1.1\n",
      "max_depth: None | n_estimators: 100 | test_score: 0.728 | test_error: 4263.946 | test/train error: 1.9\n",
      "max_depth: None | n_estimators: 200 | test_score: 0.739 | test_error: 2861.399 | test/train error: 1.2\n",
      "max_depth: 10 | n_estimators: 1 | test_score: 0.39 | test_error: 17183.569 | test/train error: 33.6\n",
      "max_depth: 10 | n_estimators: 10 | test_score: 0.684 | test_error: 1330.121 | test/train error: 0.4\n",
      "max_depth: 10 | n_estimators: 100 | test_score: 0.69 | test_error: 1261.742 | test/train error: 0.6\n",
      "max_depth: 10 | n_estimators: 200 | test_score: 0.691 | test_error: 938.295 | test/train error: 0.4\n",
      "max_depth: 100 | n_estimators: 1 | test_score: 0.236 | test_error: 5288.951 | test/train error: 14.2\n",
      "max_depth: 100 | n_estimators: 10 | test_score: 0.681 | test_error: 1531.859 | test/train error: 1.6\n",
      "max_depth: 100 | n_estimators: 100 | test_score: 0.738 | test_error: 3428.877 | test/train error: 1.7\n",
      "max_depth: 100 | n_estimators: 200 | test_score: 0.737 | test_error: 3031.426 | test/train error: 1.2\n",
      "\n",
      "max_depth: None | n_estimators: 1 | test_score: 0.506 | test_error: 11936.425 | test/train error: 3.3\n",
      "max_depth: None | n_estimators: 10 | test_score: 0.687 | test_error: 12929.708 | test/train error: 13.1\n",
      "max_depth: None | n_estimators: 100 | test_score: 0.717 | test_error: 10839.608 | test/train error: 3.7\n",
      "max_depth: None | n_estimators: 200 | test_score: 0.724 | test_error: 13678.25 | test/train error: 4.4\n",
      "max_depth: 10 | n_estimators: 1 | test_score: 0.435 | test_error: 18503.305 | test/train error: 3.5\n",
      "max_depth: 10 | n_estimators: 10 | test_score: 0.683 | test_error: 10995.921 | test/train error: 18.9\n",
      "max_depth: 10 | n_estimators: 100 | test_score: 0.676 | test_error: 12214.99 | test/train error: 4.0\n",
      "max_depth: 10 | n_estimators: 200 | test_score: 0.681 | test_error: 13061.442 | test/train error: 4.1\n",
      "max_depth: 100 | n_estimators: 1 | test_score: 0.33 | test_error: 23151.683 | test/train error: 8.7\n"
     ]
    },
    {
     "name": "stdout",
     "output_type": "stream",
     "text": [
      "max_depth: 100 | n_estimators: 10 | test_score: 0.67 | test_error: 15075.697 | test/train error: 5.7\n",
      "max_depth: 100 | n_estimators: 100 | test_score: 0.715 | test_error: 13363.47 | test/train error: 3.9\n",
      "max_depth: 100 | n_estimators: 200 | test_score: 0.706 | test_error: 11845.164 | test/train error: 4.1\n",
      "\n",
      "max_depth: None | n_estimators: 1 | test_score: 0.49 | test_error: 16390.949 | test/train error: 44.2\n",
      "max_depth: None | n_estimators: 10 | test_score: 0.707 | test_error: 13912.888 | test/train error: 3.9\n",
      "max_depth: None | n_estimators: 100 | test_score: 0.71 | test_error: 14228.908 | test/train error: 4.7\n",
      "max_depth: None | n_estimators: 200 | test_score: 0.714 | test_error: 12513.487 | test/train error: 3.8\n",
      "max_depth: 10 | n_estimators: 1 | test_score: 0.391 | test_error: 4291.681 | test/train error: 2.3\n",
      "max_depth: 10 | n_estimators: 10 | test_score: 0.634 | test_error: 17330.312 | test/train error: 4.0\n",
      "max_depth: 10 | n_estimators: 100 | test_score: 0.67 | test_error: 12824.764 | test/train error: 4.3\n",
      "max_depth: 10 | n_estimators: 200 | test_score: 0.682 | test_error: 12631.931 | test/train error: 4.3\n",
      "max_depth: 100 | n_estimators: 1 | test_score: 0.457 | test_error: 20591.628 | test/train error: 2.4\n",
      "max_depth: 100 | n_estimators: 10 | test_score: 0.677 | test_error: 11451.475 | test/train error: 5.0\n",
      "max_depth: 100 | n_estimators: 100 | test_score: 0.72 | test_error: 13101.885 | test/train error: 3.9\n",
      "max_depth: 100 | n_estimators: 200 | test_score: 0.704 | test_error: 12704.054 | test/train error: 4.3\n"
     ]
    }
   ],
   "source": [
    "max_depths = [None, 10, 100]\n",
    "n_estimators = [1, 10, 100, 200]\n",
    "\n",
    "for sets in train_test_dicts:\n",
    "    print('')\n",
    "    for max_depth in max_depths:\n",
    "        for n in n_estimators:\n",
    "            model = RandomForestRegressor(max_depth=max_depth , n_estimators=n)\n",
    "            train_error, test_error, train_score, test_score, y_train_pred, y_test_pred = fit_and_score(model=model, **sets)\n",
    "            train_error, test_error, train_score, test_score = round(train_error,3), round(test_error,3), round(train_score,3), round(test_score,3)\n",
    "            print('max_depth: {} | n_estimators: {} | test_score: {} | test_error: {} | test/train error: {}'.format(max_depth, n, test_score, test_error, round(test_error/train_error, 1)))\n"
   ]
  },
  {
   "cell_type": "markdown",
   "metadata": {},
   "source": [
    "For all datasets, **max_depth=None** and **n_estimators=200** produced the highest test scores. Therefore I'll be using these two value for my random forest models."
   ]
  },
  {
   "cell_type": "code",
   "execution_count": 150,
   "metadata": {
    "scrolled": true
   },
   "outputs": [],
   "source": [
    "# save this and compare to w/ address\n",
    "lr_train_error = dict()\n",
    "lr_test_error = dict()\n",
    "lr_train_score = dict()\n",
    "lr_test_score = dict()\n",
    "lr_y_train_pred = dict()\n",
    "lr_y_test_pred = dict()\n",
    "\n",
    "ridge_train_error = dict()\n",
    "ridge_test_error = dict()\n",
    "ridge_train_score = dict()\n",
    "ridge_test_score = dict()\n",
    "ridge_y_train_pred = dict()\n",
    "ridge_y_test_pred = dict()\n",
    "\n",
    "rf_train_error = dict()\n",
    "rf_test_error = dict()\n",
    "rf_train_score = dict()\n",
    "rf_test_score = dict()\n",
    "rf_y_train_pred = dict()\n",
    "rf_y_test_pred = dict()\n",
    "\n",
    "for model_class, hyperparams in zip(\n",
    "            [LinearRegression, Ridge, RandomForestRegressor], \n",
    "            [{}, dict(alpha=1), dict(max_depth=None, n_estimators=200)]\n",
    "            ):\n",
    "    for i, sets in enumerate(train_test_dicts):\n",
    "        lr = LinearRegression()\n",
    "        \n",
    "        train_error, test_error, train_score, test_score, y_train_pred, y_test_pred = fit_and_score(model=lr, **sets)\n",
    "        train_error, test_error, train_score, test_score, y_train_pred, y_test_pred = np.round(train_error,0), np.round(test_error,0), np.round(train_score,3), np.round(test_score,3), np.round(y_train_pred,0), np.round(y_test_pred,0)\n",
    "\n",
    "        lr_train_error[i] = train_error\n",
    "        lr_test_error[i] = test_error\n",
    "        lr_train_score[i] = train_score\n",
    "        lr_test_score[i] = test_score\n",
    "        lr_y_train_pred[i] = y_train_pred\n",
    "        lr_y_test_pred[i] = y_test_pred\n",
    "        \n",
    "        \n",
    "    for i, sets in enumerate(train_test_dicts):\n",
    "        ridge = Ridge(alpha=1)\n",
    "        \n",
    "        train_error, test_error, train_score, test_score, y_train_pred, y_test_pred = fit_and_score(model=ridge, **sets)\n",
    "        train_error, test_error, train_score, test_score, y_train_pred, y_test_pred = np.round(train_error,0), np.round(test_error,0), np.round(train_score,3), np.round(test_score,3), np.round(y_train_pred,0), np.round(y_test_pred,0)\n",
    "\n",
    "        ridge_train_error[i] = train_error\n",
    "        ridge_test_error[i] = test_error\n",
    "        ridge_train_score[i] = train_score\n",
    "        ridge_test_score[i] = test_score\n",
    "        ridge_y_train_pred[i] = y_train_pred\n",
    "        ridge_y_test_pred[i] = y_test_pred\n",
    "        \n",
    "    for i, sets in enumerate(train_test_dicts):\n",
    "        rf = RandomForestRegressor(max_depth=None, n_estimators=200)\n",
    "        \n",
    "        train_error, test_error, train_score, test_score, y_train_pred, y_test_pred = fit_and_score(model=rf, **sets)\n",
    "        train_error, test_error, train_score, test_score, y_train_pred, y_test_pred = np.round(train_error,0), np.round(test_error,0), np.round(train_score,3), np.round(test_score,3), np.round(y_train_pred,0), np.round(y_test_pred,0)\n",
    "\n",
    "        rf_train_error[i] = train_error\n",
    "        rf_test_error[i] = test_error\n",
    "        rf_train_score[i] = train_score\n",
    "        rf_test_score[i] = test_score\n",
    "        rf_y_train_pred[i] = y_train_pred\n",
    "        rf_y_test_pred[i] = y_test_pred"
   ]
  },
  {
   "cell_type": "code",
   "execution_count": 151,
   "metadata": {
    "scrolled": true
   },
   "outputs": [],
   "source": [
    "# constructing table contents \n",
    "#features\n",
    "features = []\n",
    "for i in range(24):\n",
    "    features.append('all except price, date, year, street, city, state')\n",
    "\n",
    "#models\n",
    "reg, rr, rfr = 'LinearRegression ', 'RidgeRegression ', 'RandomForest '\n",
    "\n",
    "models = ((reg)*8).split(' ') + ((rr)*8).split(' ') + ((rfr)*8).split(' ')\n",
    "models.remove('')\n",
    "models.remove('')\n",
    "models.remove('')\n",
    "\n",
    "#errors\n",
    "ridge_key_change = {0: 8, 1:9, 2:10, 3:11, 4:12, 5:13, 6:14, 7:15}\n",
    "rf_key_change = {0: 16, 1:17, 2:18, 3:19, 4:20, 5:21, 6:22, 7:23}\n",
    "\n",
    "ridge_train_error = {ridge_key_change[k]: v for k, v in ridge_train_error.items()}\n",
    "rf_train_error = {rf_key_change[k]: v for k, v in rf_train_error.items()}\n",
    "ridge_test_error = {ridge_key_change[k]: v for k, v in ridge_test_error.items()}\n",
    "rf_test_error = {rf_key_change[k]: v for k, v in rf_test_error.items()}\n",
    "\n",
    "train_errors = {**lr_train_error, **ridge_train_error, **rf_train_error}\n",
    "test_errors = {**lr_test_error, **ridge_test_error, **rf_test_error}\n",
    "\n",
    "#scores\n",
    "ridge_train_score = {ridge_key_change[k]: v for k, v in ridge_train_score.items()}\n",
    "rf_train_score = {rf_key_change[k]: v for k, v in rf_train_score.items()}\n",
    "ridge_test_score = {ridge_key_change[k]: v for k, v in ridge_test_score.items()}\n",
    "rf_test_score = {rf_key_change[k]: v for k, v in rf_test_score.items()}\n",
    "\n",
    "train_scores = {**lr_train_score, **ridge_train_score, **rf_train_score}\n",
    "test_scores = {**lr_test_score, **ridge_test_score, **rf_test_score}"
   ]
  },
  {
   "cell_type": "code",
   "execution_count": 152,
   "metadata": {
    "scrolled": false
   },
   "outputs": [
    {
     "data": {
      "text/html": [
       "<div>\n",
       "<style scoped>\n",
       "    .dataframe tbody tr th:only-of-type {\n",
       "        vertical-align: middle;\n",
       "    }\n",
       "\n",
       "    .dataframe tbody tr th {\n",
       "        vertical-align: top;\n",
       "    }\n",
       "\n",
       "    .dataframe thead th {\n",
       "        text-align: right;\n",
       "    }\n",
       "</style>\n",
       "<table border=\"1\" class=\"dataframe\">\n",
       "  <thead>\n",
       "    <tr style=\"text-align: right;\">\n",
       "      <th></th>\n",
       "      <th>models</th>\n",
       "      <th>test_score</th>\n",
       "      <th>train_score</th>\n",
       "      <th>test_error</th>\n",
       "      <th>train_error</th>\n",
       "      <th>price outs removed</th>\n",
       "      <th>description</th>\n",
       "      <th>features</th>\n",
       "    </tr>\n",
       "  </thead>\n",
       "  <tbody>\n",
       "    <tr>\n",
       "      <th>16</th>\n",
       "      <td>RidgeRegression</td>\n",
       "      <td>0.766</td>\n",
       "      <td>0.895</td>\n",
       "      <td>4866.0</td>\n",
       "      <td>0.0</td>\n",
       "      <td>yes</td>\n",
       "      <td>df2 parabolic transformation</td>\n",
       "      <td>all except price, date, year, street, city, state</td>\n",
       "    </tr>\n",
       "    <tr>\n",
       "      <th>15</th>\n",
       "      <td>RidgeRegression</td>\n",
       "      <td>0.766</td>\n",
       "      <td>0.894</td>\n",
       "      <td>4759.0</td>\n",
       "      <td>0.0</td>\n",
       "      <td>yes</td>\n",
       "      <td>df2 zero prices removed</td>\n",
       "      <td>all except price, date, year, street, city, state</td>\n",
       "    </tr>\n",
       "    <tr>\n",
       "      <th>11</th>\n",
       "      <td>RidgeRegression</td>\n",
       "      <td>0.766</td>\n",
       "      <td>0.894</td>\n",
       "      <td>4759.0</td>\n",
       "      <td>0.0</td>\n",
       "      <td>yes</td>\n",
       "      <td>zero prices removed</td>\n",
       "      <td>all except price, date, year, street, city, state</td>\n",
       "    </tr>\n",
       "    <tr>\n",
       "      <th>12</th>\n",
       "      <td>RidgeRegression</td>\n",
       "      <td>0.766</td>\n",
       "      <td>0.895</td>\n",
       "      <td>4866.0</td>\n",
       "      <td>0.0</td>\n",
       "      <td>yes</td>\n",
       "      <td>parabolic transformation</td>\n",
       "      <td>all except price, date, year, street, city, state</td>\n",
       "    </tr>\n",
       "    <tr>\n",
       "      <th>18</th>\n",
       "      <td>RandomForest</td>\n",
       "      <td>0.745</td>\n",
       "      <td>0.947</td>\n",
       "      <td>2825.0</td>\n",
       "      <td>2565.0</td>\n",
       "      <td>yes</td>\n",
       "      <td>no transformations</td>\n",
       "      <td>all except price, date, year, street, city, state</td>\n",
       "    </tr>\n",
       "    <tr>\n",
       "      <th>22</th>\n",
       "      <td>RandomForest</td>\n",
       "      <td>0.731</td>\n",
       "      <td>0.947</td>\n",
       "      <td>3668.0</td>\n",
       "      <td>2823.0</td>\n",
       "      <td>yes</td>\n",
       "      <td>df2 no transformations</td>\n",
       "      <td>all except price, date, year, street, city, state</td>\n",
       "    </tr>\n",
       "    <tr>\n",
       "      <th>24</th>\n",
       "      <td>RandomForest</td>\n",
       "      <td>0.719</td>\n",
       "      <td>0.953</td>\n",
       "      <td>12669.0</td>\n",
       "      <td>2873.0</td>\n",
       "      <td>yes</td>\n",
       "      <td>df2 parabolic transformation</td>\n",
       "      <td>all except price, date, year, street, city, state</td>\n",
       "    </tr>\n",
       "    <tr>\n",
       "      <th>20</th>\n",
       "      <td>RandomForest</td>\n",
       "      <td>0.718</td>\n",
       "      <td>0.954</td>\n",
       "      <td>12482.0</td>\n",
       "      <td>3169.0</td>\n",
       "      <td>yes</td>\n",
       "      <td>parabolic transformation</td>\n",
       "      <td>all except price, date, year, street, city, state</td>\n",
       "    </tr>\n",
       "    <tr>\n",
       "      <th>19</th>\n",
       "      <td>RandomForest</td>\n",
       "      <td>0.717</td>\n",
       "      <td>0.955</td>\n",
       "      <td>13568.0</td>\n",
       "      <td>3284.0</td>\n",
       "      <td>yes</td>\n",
       "      <td>zero prices removed</td>\n",
       "      <td>all except price, date, year, street, city, state</td>\n",
       "    </tr>\n",
       "    <tr>\n",
       "      <th>23</th>\n",
       "      <td>RandomForest</td>\n",
       "      <td>0.708</td>\n",
       "      <td>0.955</td>\n",
       "      <td>12563.0</td>\n",
       "      <td>3135.0</td>\n",
       "      <td>yes</td>\n",
       "      <td>df2 zero prices removed</td>\n",
       "      <td>all except price, date, year, street, city, state</td>\n",
       "    </tr>\n",
       "    <tr>\n",
       "      <th>14</th>\n",
       "      <td>RidgeRegression</td>\n",
       "      <td>0.705</td>\n",
       "      <td>0.884</td>\n",
       "      <td>4409.0</td>\n",
       "      <td>0.0</td>\n",
       "      <td>yes</td>\n",
       "      <td>df2 no transformations</td>\n",
       "      <td>all except price, date, year, street, city, state</td>\n",
       "    </tr>\n",
       "    <tr>\n",
       "      <th>10</th>\n",
       "      <td>RidgeRegression</td>\n",
       "      <td>0.705</td>\n",
       "      <td>0.884</td>\n",
       "      <td>4409.0</td>\n",
       "      <td>0.0</td>\n",
       "      <td>yes</td>\n",
       "      <td>no transformations</td>\n",
       "      <td>all except price, date, year, street, city, state</td>\n",
       "    </tr>\n",
       "    <tr>\n",
       "      <th>13</th>\n",
       "      <td>RidgeRegression</td>\n",
       "      <td>0.128</td>\n",
       "      <td>0.786</td>\n",
       "      <td>14425.0</td>\n",
       "      <td>0.0</td>\n",
       "      <td>no</td>\n",
       "      <td>df2 no transformations</td>\n",
       "      <td>all except price, date, year, street, city, state</td>\n",
       "    </tr>\n",
       "    <tr>\n",
       "      <th>21</th>\n",
       "      <td>RandomForest</td>\n",
       "      <td>0.124</td>\n",
       "      <td>0.917</td>\n",
       "      <td>18167.0</td>\n",
       "      <td>2277.0</td>\n",
       "      <td>no</td>\n",
       "      <td>df2 no transformations</td>\n",
       "      <td>all except price, date, year, street, city, state</td>\n",
       "    </tr>\n",
       "    <tr>\n",
       "      <th>9</th>\n",
       "      <td>RidgeRegression</td>\n",
       "      <td>0.098</td>\n",
       "      <td>0.889</td>\n",
       "      <td>23232.0</td>\n",
       "      <td>0.0</td>\n",
       "      <td>no</td>\n",
       "      <td>no transformations</td>\n",
       "      <td>all except price, date, year, street, city, state</td>\n",
       "    </tr>\n",
       "    <tr>\n",
       "      <th>17</th>\n",
       "      <td>RandomForest</td>\n",
       "      <td>0.091</td>\n",
       "      <td>0.957</td>\n",
       "      <td>28626.0</td>\n",
       "      <td>1870.0</td>\n",
       "      <td>no</td>\n",
       "      <td>no transformations</td>\n",
       "      <td>all except price, date, year, street, city, state</td>\n",
       "    </tr>\n",
       "    <tr>\n",
       "      <th>8</th>\n",
       "      <td>LinearRegression</td>\n",
       "      <td>0.088</td>\n",
       "      <td>0.932</td>\n",
       "      <td>50163.0</td>\n",
       "      <td>3.0</td>\n",
       "      <td>yes</td>\n",
       "      <td>df2 parabolic transformation</td>\n",
       "      <td>all except price, date, year, street, city, state</td>\n",
       "    </tr>\n",
       "    <tr>\n",
       "      <th>4</th>\n",
       "      <td>LinearRegression</td>\n",
       "      <td>0.088</td>\n",
       "      <td>0.932</td>\n",
       "      <td>50163.0</td>\n",
       "      <td>3.0</td>\n",
       "      <td>yes</td>\n",
       "      <td>parabolic transformation</td>\n",
       "      <td>all except price, date, year, street, city, state</td>\n",
       "    </tr>\n",
       "    <tr>\n",
       "      <th>5</th>\n",
       "      <td>LinearRegression</td>\n",
       "      <td>-15.582</td>\n",
       "      <td>0.826</td>\n",
       "      <td>489486.0</td>\n",
       "      <td>187.0</td>\n",
       "      <td>no</td>\n",
       "      <td>df2 no transformations</td>\n",
       "      <td>all except price, date, year, street, city, state</td>\n",
       "    </tr>\n",
       "    <tr>\n",
       "      <th>1</th>\n",
       "      <td>LinearRegression</td>\n",
       "      <td>-37.746</td>\n",
       "      <td>0.923</td>\n",
       "      <td>1979556.0</td>\n",
       "      <td>145.0</td>\n",
       "      <td>no</td>\n",
       "      <td>no transformations</td>\n",
       "      <td>all except price, date, year, street, city, state</td>\n",
       "    </tr>\n",
       "    <tr>\n",
       "      <th>2</th>\n",
       "      <td>LinearRegression</td>\n",
       "      <td>-251.569</td>\n",
       "      <td>0.918</td>\n",
       "      <td>665865.0</td>\n",
       "      <td>58.0</td>\n",
       "      <td>yes</td>\n",
       "      <td>no transformations</td>\n",
       "      <td>all except price, date, year, street, city, state</td>\n",
       "    </tr>\n",
       "    <tr>\n",
       "      <th>6</th>\n",
       "      <td>LinearRegression</td>\n",
       "      <td>-251.569</td>\n",
       "      <td>0.918</td>\n",
       "      <td>665865.0</td>\n",
       "      <td>58.0</td>\n",
       "      <td>yes</td>\n",
       "      <td>df2 no transformations</td>\n",
       "      <td>all except price, date, year, street, city, state</td>\n",
       "    </tr>\n",
       "    <tr>\n",
       "      <th>7</th>\n",
       "      <td>LinearRegression</td>\n",
       "      <td>-1492.156</td>\n",
       "      <td>0.931</td>\n",
       "      <td>1166730.0</td>\n",
       "      <td>30.0</td>\n",
       "      <td>yes</td>\n",
       "      <td>df2 zero prices removed</td>\n",
       "      <td>all except price, date, year, street, city, state</td>\n",
       "    </tr>\n",
       "    <tr>\n",
       "      <th>3</th>\n",
       "      <td>LinearRegression</td>\n",
       "      <td>-1492.156</td>\n",
       "      <td>0.931</td>\n",
       "      <td>1166730.0</td>\n",
       "      <td>30.0</td>\n",
       "      <td>yes</td>\n",
       "      <td>zero prices removed</td>\n",
       "      <td>all except price, date, year, street, city, state</td>\n",
       "    </tr>\n",
       "  </tbody>\n",
       "</table>\n",
       "</div>"
      ],
      "text/plain": [
       "              models  test_score  train_score  test_error  train_error  \\\n",
       "16   RidgeRegression       0.766        0.895      4866.0          0.0   \n",
       "15   RidgeRegression       0.766        0.894      4759.0          0.0   \n",
       "11   RidgeRegression       0.766        0.894      4759.0          0.0   \n",
       "12   RidgeRegression       0.766        0.895      4866.0          0.0   \n",
       "18      RandomForest       0.745        0.947      2825.0       2565.0   \n",
       "22      RandomForest       0.731        0.947      3668.0       2823.0   \n",
       "24      RandomForest       0.719        0.953     12669.0       2873.0   \n",
       "20      RandomForest       0.718        0.954     12482.0       3169.0   \n",
       "19      RandomForest       0.717        0.955     13568.0       3284.0   \n",
       "23      RandomForest       0.708        0.955     12563.0       3135.0   \n",
       "14   RidgeRegression       0.705        0.884      4409.0          0.0   \n",
       "10   RidgeRegression       0.705        0.884      4409.0          0.0   \n",
       "13   RidgeRegression       0.128        0.786     14425.0          0.0   \n",
       "21      RandomForest       0.124        0.917     18167.0       2277.0   \n",
       "9    RidgeRegression       0.098        0.889     23232.0          0.0   \n",
       "17      RandomForest       0.091        0.957     28626.0       1870.0   \n",
       "8   LinearRegression       0.088        0.932     50163.0          3.0   \n",
       "4   LinearRegression       0.088        0.932     50163.0          3.0   \n",
       "5   LinearRegression     -15.582        0.826    489486.0        187.0   \n",
       "1   LinearRegression     -37.746        0.923   1979556.0        145.0   \n",
       "2   LinearRegression    -251.569        0.918    665865.0         58.0   \n",
       "6   LinearRegression    -251.569        0.918    665865.0         58.0   \n",
       "7   LinearRegression   -1492.156        0.931   1166730.0         30.0   \n",
       "3   LinearRegression   -1492.156        0.931   1166730.0         30.0   \n",
       "\n",
       "   price outs removed                   description  \\\n",
       "16                yes  df2 parabolic transformation   \n",
       "15                yes       df2 zero prices removed   \n",
       "11                yes           zero prices removed   \n",
       "12                yes      parabolic transformation   \n",
       "18                yes            no transformations   \n",
       "22                yes        df2 no transformations   \n",
       "24                yes  df2 parabolic transformation   \n",
       "20                yes      parabolic transformation   \n",
       "19                yes           zero prices removed   \n",
       "23                yes       df2 zero prices removed   \n",
       "14                yes        df2 no transformations   \n",
       "10                yes            no transformations   \n",
       "13                 no        df2 no transformations   \n",
       "21                 no        df2 no transformations   \n",
       "9                  no            no transformations   \n",
       "17                 no            no transformations   \n",
       "8                 yes  df2 parabolic transformation   \n",
       "4                 yes      parabolic transformation   \n",
       "5                  no        df2 no transformations   \n",
       "1                  no            no transformations   \n",
       "2                 yes            no transformations   \n",
       "6                 yes        df2 no transformations   \n",
       "7                 yes       df2 zero prices removed   \n",
       "3                 yes           zero prices removed   \n",
       "\n",
       "                                             features  \n",
       "16  all except price, date, year, street, city, state  \n",
       "15  all except price, date, year, street, city, state  \n",
       "11  all except price, date, year, street, city, state  \n",
       "12  all except price, date, year, street, city, state  \n",
       "18  all except price, date, year, street, city, state  \n",
       "22  all except price, date, year, street, city, state  \n",
       "24  all except price, date, year, street, city, state  \n",
       "20  all except price, date, year, street, city, state  \n",
       "19  all except price, date, year, street, city, state  \n",
       "23  all except price, date, year, street, city, state  \n",
       "14  all except price, date, year, street, city, state  \n",
       "10  all except price, date, year, street, city, state  \n",
       "13  all except price, date, year, street, city, state  \n",
       "21  all except price, date, year, street, city, state  \n",
       "9   all except price, date, year, street, city, state  \n",
       "17  all except price, date, year, street, city, state  \n",
       "8   all except price, date, year, street, city, state  \n",
       "4   all except price, date, year, street, city, state  \n",
       "5   all except price, date, year, street, city, state  \n",
       "1   all except price, date, year, street, city, state  \n",
       "2   all except price, date, year, street, city, state  \n",
       "6   all except price, date, year, street, city, state  \n",
       "7   all except price, date, year, street, city, state  \n",
       "3   all except price, date, year, street, city, state  "
      ]
     },
     "execution_count": 152,
     "metadata": {},
     "output_type": "execute_result"
    }
   ],
   "source": [
    "content = {'features': [features[i] for i in range(len(features))],\n",
    "           'models': [models[i] for i in range(len(models))], \n",
    "           'test_error': [test_errors[key] for key in test_errors],\n",
    "           'train_error': [train_errors[key] for key in train_errors],\n",
    "           'test_score': [test_scores[key] for key in test_scores],\n",
    "           'train_score': [train_scores[key] for key in train_scores],\n",
    "           'description': ['no transformations', 'no transformations', 'zero prices removed', 'parabolic transformation', 'df2 no transformations', 'df2 no transformations', 'df2 zero prices removed', 'df2 parabolic transformation', \n",
    "                           'no transformations', 'no transformations', 'zero prices removed', 'parabolic transformation', 'df2 no transformations', 'df2 no transformations', 'df2 zero prices removed', 'df2 parabolic transformation',\n",
    "                           'no transformations', 'no transformations', 'zero prices removed', 'parabolic transformation', 'df2 no transformations', 'df2 no transformations', 'df2 zero prices removed', 'df2 parabolic transformation' \n",
    "                            ],\n",
    "           'price outs removed': ['no', 'yes', 'yes', 'yes', 'no', 'yes', 'yes', 'yes', 'no', 'yes', 'yes', 'yes', 'no', 'yes', 'yes', 'yes', 'no', 'yes', 'yes', 'yes', 'no', 'yes', 'yes', 'yes']}\n",
    "\n",
    "table = pd.DataFrame(content, columns=['models', 'test_score', 'train_score', 'test_error', 'train_error', 'price outs removed', 'description', 'features'], index=[1,2,3,4,5,6,7,8,9,10,11,12,13,14,15,16,17,18,19,20,21,22,23,24])\n",
    "table.sort_values('test_score', ascending=False)"
   ]
  },
  {
   "cell_type": "code",
   "execution_count": 153,
   "metadata": {},
   "outputs": [],
   "source": [
    "# change to the following after adding addresses\n",
    "table.to_csv('with_address.csv', index=False)"
   ]
  },
  {
   "cell_type": "markdown",
   "metadata": {},
   "source": [
    "In df2, 3 features were added, `yr_built_is0`, `renovation_age`, and `house_age`. Also, 2 outliers of `sqft_lot` have been removed. These changes led to an overall better performance than df. "
   ]
  },
  {
   "cell_type": "markdown",
   "metadata": {},
   "source": [
    "Model description:\n",
    "* Each model contains all features except for `price`, `date`, `year`, `street`, `city`, and `state`\n",
    "* Models described as having no transformations are those which did not have their `bedrooms` feature undergo parabolic transformation.\n",
    "* Models with zero prices removed are those with zero values in the `price` feature and price outliers removed.\n",
    "* Models with parabolic transformation are based on data with price outliers and zero prices removed, and have their `bedrooms` feature transformed.\n",
    "\n",
    "From the table above we can see that the best model is the Random Forest with 66% accuracy. That model only has the price outliers removed but not the zero prices. There were also no transformations on the features."
   ]
  },
  {
   "cell_type": "markdown",
   "metadata": {},
   "source": [
    "**Analysing the coefficients**"
   ]
  },
  {
   "cell_type": "markdown",
   "metadata": {},
   "source": [
    "Let's take a look at the coefficients of the best performing ridge regression model that has its `bedrooms` feature transformed."
   ]
  },
  {
   "cell_type": "code",
   "execution_count": 154,
   "metadata": {
    "scrolled": true
   },
   "outputs": [
    {
     "data": {
      "text/plain": [
       "2757"
      ]
     },
     "execution_count": 154,
     "metadata": {},
     "output_type": "execute_result"
    }
   ],
   "source": [
    "X2_transformed.columns.get_loc(\"bedrooms_squared\")"
   ]
  },
  {
   "cell_type": "code",
   "execution_count": 155,
   "metadata": {
    "scrolled": false
   },
   "outputs": [
    {
     "data": {
      "text/plain": [
       "Ridge(alpha=1.0, copy_X=True, fit_intercept=True, max_iter=None,\n",
       "      normalize=False, random_state=None, solver='auto', tol=0.001)"
      ]
     },
     "execution_count": 155,
     "metadata": {},
     "output_type": "execute_result"
    }
   ],
   "source": [
    "#Looking at the coefficients of the best ridge model:\n",
    "ridge = Ridge()\n",
    "ridge.fit(X2_transformed, y2_transformed)"
   ]
  },
  {
   "cell_type": "code",
   "execution_count": 156,
   "metadata": {
    "scrolled": false
   },
   "outputs": [
    {
     "data": {
      "text/plain": [
       "bedrooms             -2488.445012\n",
       "bathrooms            16351.327832\n",
       "sqft_living             98.811006\n",
       "sqft_lot               -49.363365\n",
       "floors              -30401.011872\n",
       "waterfront          533796.510797\n",
       "view                 58641.431715\n",
       "condition            25971.330640\n",
       "sqft_above              96.505475\n",
       "sqft_basement            2.306068\n",
       "yr_built              -128.118554\n",
       "yr_renovated            34.537373\n",
       "total_sqft              49.402657\n",
       "price_is0                0.000000\n",
       "renov_date_is0       59524.707516\n",
       "bedrooms_squared     -2934.999847\n",
       "Name: coef, dtype: float64"
      ]
     },
     "execution_count": 156,
     "metadata": {},
     "output_type": "execute_result"
    }
   ],
   "source": [
    "coefs = pd.DataFrame(ridge.coef_, index=list(X2_transformed), columns=['coef'])\n",
    "coefs.iloc[[0,1,2,3,4,5,6,7,8,9,10,11,12,13,14, 2757], 0]\n",
    "#coefs[[0:15], [2757]]"
   ]
  },
  {
   "cell_type": "code",
   "execution_count": 157,
   "metadata": {
    "scrolled": true
   },
   "outputs": [
    {
     "data": {
      "text/plain": [
       "street_name_se 22nd st       -7.320518e+05\n",
       "street_name_175th pl ne      -5.197417e+05\n",
       "street_name_79th pl ne       -5.139810e+05\n",
       "street_name_shoreland dr s   -3.527485e+05\n",
       "street_name_ne 70th st       -3.048568e+05\n",
       "                                  ...     \n",
       "street_name_6th st w          6.298176e+05\n",
       "street_name_warren ave n      6.581901e+05\n",
       "street_name_91st ave ne       7.860069e+05\n",
       "street_name_butterworth rd    8.000799e+05\n",
       "street_name_95th ave ne       1.796228e+06\n",
       "Name: coef, Length: 2758, dtype: float64"
      ]
     },
     "execution_count": 157,
     "metadata": {},
     "output_type": "execute_result"
    }
   ],
   "source": [
    "coefs['coef'].sort_values()"
   ]
  },
  {
   "cell_type": "code",
   "execution_count": 158,
   "metadata": {},
   "outputs": [],
   "source": [
    "coefs.to_csv('w_address_coefs.csv')"
   ]
  },
  {
   "cell_type": "markdown",
   "metadata": {},
   "source": [
    "The coefficient of a term represents the change in the mean response for one unit of change in that term. If the coefficient is positive, as the term increases, the mean value of the response increases. If the coefficient is negative, as the term increases, the mean value of the response decreases. So for example we see than the coefficient of `sqft_living` is 180. This means that for every 1 sqft increase on a house, the price would increase by \\\\$180.\n",
    "\n",
    "I was surprised to see `bedrooms` have a negative coeficient, since my assumption was that when the number of bedrooms increase, so does the price. However, we saw previously with a `bedrooms` and `price` scatterplot that price increases with number of bedrooms only for homes with up to 5 bedrooms. The price then starts to decrease for homes with 6 bedrooms or more.  \n",
    "Notice also `bedrooms_squared` has a positive coeficient. This feature is `bedrooms` with a parabolic transformation. Since this feature has adjusted for `bedrooms` shape, it makes sense that it is positive.\n",
    "\n",
    "Not only is the coefficient of `sqft_lot` negative, but it's also a small number, indicating that its affect on  price is miniscule."
   ]
  },
  {
   "cell_type": "code",
   "execution_count": 159,
   "metadata": {
    "scrolled": false
   },
   "outputs": [
    {
     "data": {
      "image/png": "[encoded data removed]",
      "text/plain": [
       "<Figure size 576x288 with 1 Axes>"
      ]
     },
     "metadata": {
      "needs_background": "light"
     },
     "output_type": "display_data"
    }
   ],
   "source": [
    "fig, ax = plt.subplots(figsize=(8,4))\n",
    "ax.plot(y2_test_transformed, 'bo', alpha=0.3, label='actual prices')\n",
    "ax.plot(ridge_y_test_pred[7], 'go', alpha=0.2, label='predicted prices')\n",
    "#ax.set_xlabel('')\n",
    "ax.set_ylabel('price')\n",
    "ax.legend()\n",
    "plt.show()"
   ]
  },
  {
   "cell_type": "code",
   "execution_count": 160,
   "metadata": {},
   "outputs": [
    {
     "data": {
      "text/plain": [
       "Text(0, 0.5, 'predicted prices')"
      ]
     },
     "execution_count": 160,
     "metadata": {},
     "output_type": "execute_result"
    },
    {
     "data": {
      "image/png": "[encoded data removed]",
      "text/plain": [
       "<Figure size 432x288 with 1 Axes>"
      ]
     },
     "metadata": {
      "needs_background": "light"
     },
     "output_type": "display_data"
    }
   ],
   "source": [
    "plt.scatter(y2_test_transformed, ridge_y_test_pred[7], s=20)\n",
    "plt.title('Scatter plot of actual and predicted prices')\n",
    "plt.xlabel('actual prices')\n",
    "plt.ylabel('predicted prices')"
   ]
  },
  {
   "cell_type": "markdown",
   "metadata": {},
   "source": [
    "We see in the above plot that the predicted prices are somewhat close to the actual prices, but not very close. The best case scenario would be for the scatter plots to follow a perfectly straight diagonal line, indicating that our model perfectly predicted the house prices."
   ]
  },
  {
   "cell_type": "markdown",
   "metadata": {},
   "source": [
    "Histogram of the residuals of the best performing ridge regression model"
   ]
  },
  {
   "cell_type": "code",
   "execution_count": 161,
   "metadata": {
    "scrolled": false
   },
   "outputs": [
    {
     "data": {
      "image/png": "[encoded data removed]",
      "text/plain": [
       "<Figure size 576x288 with 1 Axes>"
      ]
     },
     "metadata": {
      "needs_background": "light"
     },
     "output_type": "display_data"
    }
   ],
   "source": [
    "plt.subplots(figsize=(8,4))\n",
    "plt.hist(y2_test_transformed - ridge_y_test_pred[7], bins=20)\n",
    "plt.title('Histogram of residuals')\n",
    "plt.show()"
   ]
  },
  {
   "cell_type": "markdown",
   "metadata": {},
   "source": [
    "Ideally a residual histogram would follow a normal distribution, and that would tell us that we've chosen an appropriate model type. However, the above plot does not closely follow a normal distribution, which is another indication that a linear regression model is not best for my dataset."
   ]
  },
  {
   "cell_type": "markdown",
   "metadata": {},
   "source": [
    "### CI around my prediction accuracy"
   ]
  },
  {
   "cell_type": "markdown",
   "metadata": {},
   "source": [
    "calculate standard error RMSE\n",
    ".."
   ]
  },
  {
   "cell_type": "code",
   "execution_count": 162,
   "metadata": {},
   "outputs": [
    {
     "data": {
      "text/plain": [
       "{8: 23232.0,\n",
       " 9: 4409.0,\n",
       " 10: 4759.0,\n",
       " 11: 4866.0,\n",
       " 12: 14425.0,\n",
       " 13: 4409.0,\n",
       " 14: 4759.0,\n",
       " 15: 4866.0}"
      ]
     },
     "execution_count": 162,
     "metadata": {},
     "output_type": "execute_result"
    }
   ],
   "source": [
    "# RMSE == standard deviation of errors\n",
    "#rf_test_error\n",
    "ridge_test_error"
   ]
  },
  {
   "cell_type": "code",
   "execution_count": 163,
   "metadata": {},
   "outputs": [],
   "source": [
    "one_sd = min(ridge_test_error.values())\n",
    "two_sd = 2*one_sd\n",
    "three_sd = 3*one_sd"
   ]
  },
  {
   "cell_type": "markdown",
   "metadata": {},
   "source": [
    "#### 68% Confidence"
   ]
  },
  {
   "cell_type": "code",
   "execution_count": 164,
   "metadata": {},
   "outputs": [
    {
     "name": "stdout",
     "output_type": "stream",
     "text": [
      "I can be 68% confident that the error in the home price predictions will be between -4409.0 and 4409.0.\n"
     ]
    }
   ],
   "source": [
    "min_error = 0 - one_sd\n",
    "max_error = 0 + one_sd\n",
    "\n",
    "print('I can be 68% confident that the error in the home price predictions will be between {} and {}.'.format(min_error, max_error))"
   ]
  },
  {
   "cell_type": "markdown",
   "metadata": {},
   "source": [
    "#### 95% Confidence"
   ]
  },
  {
   "cell_type": "code",
   "execution_count": 165,
   "metadata": {
    "scrolled": true
   },
   "outputs": [
    {
     "name": "stdout",
     "output_type": "stream",
     "text": [
      "I can be 95% confident that the error in the home price predictions will be between -8818.0 and 8818.0.\n"
     ]
    }
   ],
   "source": [
    "min_error = 0 - two_sd\n",
    "max_error = 0 + two_sd\n",
    "\n",
    "print('I can be 95% confident that the error in the home price predictions will be between {} and {}.'.format(min_error, max_error))"
   ]
  },
  {
   "cell_type": "markdown",
   "metadata": {},
   "source": [
    "### Result Analysis"
   ]
  },
  {
   "cell_type": "markdown",
   "metadata": {},
   "source": [
    "The following analysis is based on my 95% confidence that the error in the home price predictions is between -429250 and -429250:\n",
    "\n",
    "If I've predicted a house to be $\\$$500,000 and someone were to buy the house at that price, the worst loss would be \\\\$429250 and the highest gain would be \\\\$429250. That is, the least the house would be worth is \\\\$70,750 (500,000-429250), and the most the house would be worth is \\\\$929,250 (500,000+429250).\n",
    "\n",
    "Let's say my boss wants to buy a house at below my estimate in the hopes of flipping it, i.e., selling the house at around double the price at which he acquired it. With a house that I have estimated to be \\\\$500,000, if he purchases it at \\\\$300,000 for example, 3 things can happen:\n",
    "\n",
    "1. My estimation is correct and he would make a profit of \\\\$200,000 by selling it for \\\\$500,000.  \n",
    "2. The house is actually worth \\\\$70,750 and he ends up buying at a higher price than what the house is worth, losing \\\\$229,250 on the purchase, and resulting in a 24\\% loss.\n",
    "3. The house is actually worth \\\\$929,250 and he ends up buying \\\\$629,250 below the house value, resulting in a 309\\%  profit if he were to sell it at \\\\$929,250."
   ]
  },
  {
   "cell_type": "markdown",
   "metadata": {},
   "source": [
    "**What happens if my boss purchases 100 homes?**"
   ]
  },
  {
   "cell_type": "code",
   "execution_count": 166,
   "metadata": {
    "scrolled": true
   },
   "outputs": [],
   "source": [
    "from math import sqrt\n",
    "\n",
    "np.random.seed(47)\n",
    "n = 100 # length of sample\n",
    "\n",
    "# function to sample the actual and predicted prices of 100 homes at a time.\n",
    "def draw_bs_reps(y_test, y_pred):\n",
    "    bs_error = np.random.choice(y_test - y_pred, n) # price sold - price bought == profit (gain or loss)\n",
    "    \n",
    "    error_mean = np.sum(bs_error) / len(bs_error) # avg gain or loss on n transactions\n",
    "    return error_mean"
   ]
  },
  {
   "cell_type": "code",
   "execution_count": 167,
   "metadata": {
    "scrolled": false
   },
   "outputs": [
    {
     "name": "stdout",
     "output_type": "stream",
     "text": [
      "mean of means: 5163\n",
      "std of means: 18450\n",
      "\n",
      "The above result means that if I calculate the error between the true/historical price and my predicted price of 100 homes, I can be 95% confident that the error of the mean of average error in the home price predictions will be between -3,173,600 and 4,206,300.\n",
      "\n",
      "In other words, if my boss was to buy 100 homes at my predicted price and sell them at their true price, I can be 95% confident that the most she would lose is $3,173,600 and the most she would gain is $4,206,300.\n"
     ]
    }
   ],
   "source": [
    "# conducting 1000 experiments of purchasing 100 homes\n",
    "\n",
    "#error_means = np.array([draw_bs_reps(y2_test_no_outs, rf_y_test_pred[5]) for i in range(1000)]) # Random Forest model\n",
    "error_means = np.array([draw_bs_reps(y2_test_no_zeros, ridge_y_test_pred[6]) for i in range(1000)]) # Ridge reg model\n",
    "error_means = np.round(error_means, 2)\n",
    "error_means_mean = np.mean(error_means) # mean of means\n",
    "print('mean of means: {}'.format(int(error_means_mean)))\n",
    "\n",
    "error_means_std = sqrt(np.sum((error_means-error_means_mean)**2) / (1000-1)) # standard deviation of means\n",
    "print('std of means: {}'.format(int(error_means_std)))\n",
    "\n",
    "# confidence interval\n",
    "min_error_100 = int(error_means_mean - 2*error_means_std)\n",
    "max_error_100 = int(error_means_mean + 2*error_means_std)\n",
    "\n",
    "print('')\n",
    "print('The above result means that if I calculate the error between the true/historical price and my predicted price ' \n",
    "      'of 100 homes, I can be 95% confident that the error of the mean of average error in the home price ' \n",
    "      'predictions will be between {:,} and {:,}.'.format(min_error_100*100, max_error_100*100))\n",
    "print('')\n",
    "print('In other words, if my boss was to buy 100 homes at my predicted price and sell them at their true price, ' \n",
    "      'I can be 95% confident that the most she would lose is ${:,} ' \n",
    "      'and the most she would gain is ${:,}.'.format(-1*min_error_100*100, max_error_100*100))"
   ]
  },
  {
   "cell_type": "markdown",
   "metadata": {},
   "source": [
    "Below is a histogram of the distribution of purchasing 100 homes at my predicted prices."
   ]
  },
  {
   "cell_type": "code",
   "execution_count": 168,
   "metadata": {},
   "outputs": [
    {
     "name": "stdout",
     "output_type": "stream",
     "text": [
      "-31736 42063\n"
     ]
    },
    {
     "data": {
      "image/png": "[encoded data removed]",
      "text/plain": [
       "<Figure size 432x288 with 1 Axes>"
      ]
     },
     "metadata": {
      "needs_background": "light"
     },
     "output_type": "display_data"
    }
   ],
   "source": [
    "plt.hist(error_means, bins=20)\n",
    "plt.plot()\n",
    "print(min_error_100, max_error_100)"
   ]
  },
  {
   "cell_type": "markdown",
   "metadata": {},
   "source": [
    "It shows that the mode is shifted to the positive, which is good because it means we're profiting. I conducted this experiment a few more times to make sure the shape is real."
   ]
  },
  {
   "cell_type": "markdown",
   "metadata": {},
   "source": [
    "What happens if my boss purchases homes $1000 below my predicted prices?"
   ]
  },
  {
   "cell_type": "code",
   "execution_count": 169,
   "metadata": {},
   "outputs": [],
   "source": [
    "# running the same experiment as before, with $1000 deducted from my predicted prices\n",
    "\n",
    "np.random.seed(47)\n",
    "n = 100 # length of sample\n",
    "N_rep = 1000 # number of times to bootstrap/resample\n",
    "\n",
    "def draw_bs_reps(y_test, y_pred):\n",
    "    bs_error = np.random.choice(y_test - (y_pred-1000), n) # deduct 1000 from each predicted price\n",
    "    \n",
    "    error_mean = np.sum(bs_error) / len(bs_error) # avg gain or loss on n transactions\n",
    "    return error_mean"
   ]
  },
  {
   "cell_type": "code",
   "execution_count": 170,
   "metadata": {
    "scrolled": true
   },
   "outputs": [
    {
     "name": "stdout",
     "output_type": "stream",
     "text": [
      "mean of means: 5163\n",
      "std of means: 18450\n",
      "\n",
      "If my boss was to buy 100 homes at $1000 less than my predicted price and sell them at their true price, I can be 95% confident that the most she would lose is $3,173,600 and the most she would gain is $4,206,300.\n"
     ]
    }
   ],
   "source": [
    "#error_means = np.array([draw_bs_reps(y2_test_no_outs, rf_y_test_pred[5]) for i in range(1000)]) # Random Forest model\n",
    "error_means_1000 = np.array([draw_bs_reps(y2_test_no_zeros, ridge_y_test_pred[6]) for i in range(1000)]) # Random Forest model\n",
    "error_means_1000 = np.round(error_means, 2)\n",
    "error_means_mean = np.mean(error_means_1000) # mean of means\n",
    "print('mean of means: {}'.format(int(error_means_mean)))\n",
    "\n",
    "error_means_std = sqrt(np.sum((error_means-error_means_mean)**2) / (1000-1)) # standard deviation of means\n",
    "print('std of means: {}'.format(int(error_means_std)))\n",
    "\n",
    "# confidence interval\n",
    "min_error_1000 = int(error_means_mean - 2*error_means_std)\n",
    "max_error_1000 = int(error_means_mean + 2*error_means_std)\n",
    "\n",
    "print('')\n",
    "print('If my boss was to buy 100 homes at $1000 less than my predicted price and sell them at their true price, ' \n",
    "      'I can be 95% confident that the most she would lose is ${:,} ' \n",
    "      'and the most she would gain is ${:,}.'.format(-1*min_error_1000*100, max_error_1000*100))"
   ]
  },
  {
   "cell_type": "code",
   "execution_count": 171,
   "metadata": {},
   "outputs": [
    {
     "name": "stdout",
     "output_type": "stream",
     "text": [
      "-31736 42063\n"
     ]
    },
    {
     "data": {
      "image/png": "[encoded data removed]",
      "text/plain": [
       "<Figure size 432x288 with 1 Axes>"
      ]
     },
     "metadata": {
      "needs_background": "light"
     },
     "output_type": "display_data"
    }
   ],
   "source": [
    "plt.hist(error_means_1000, bins=20)\n",
    "plt.plot()\n",
    "print(min_error_100, max_error_100)"
   ]
  },
  {
   "cell_type": "markdown",
   "metadata": {},
   "source": [
    "When purchasing 100 homes at \\\\$1000 below my predicted price, the most my boss would lose decreases by \\\\$ and the most she would gain increases by \\\\$.  \n",
    "This is clearly a better option, and since finding homes that are selling \\\\$1000 below their true value is practical, I would recommend this plan to my boss."
   ]
  },
  {
   "cell_type": "markdown",
   "metadata": {},
   "source": [
    "### Result"
   ]
  },
  {
   "cell_type": "markdown",
   "metadata": {},
   "source": [
    "Other experiments:\n",
    "* experiments with other models\n",
    "* experiemnts with predicted prices reduced by \\\\$5,000, \\\\$10,000, \\\\$50,000\n",
    "\n",
    "When running experiments using my other models, the Random Forest model resulted in the most profit, which was expected since the model had the least error in its prediction.\n",
    "\n",
    "I ran experiments with \\\\$5,000, \\\\$10,000, \\\\$50,000 deducted from the predicted prices. \n",
    "This means that my boss would purchase 100 homes with \\\\$5,000, \\\\$10,000, and \\\\$50,000 below my predicted prices. \n",
    "The result was that these 3 experiments produced better profits and less losses than the scenario where my boss would purchase homes at \\\\$1000 less than my predicted prices. However, finding 100 houses at those reduced prices would be difficult. Therefore, I would reccomend focusing on finding homes with the \\\\$1000 reductions."
   ]
  },
  {
   "cell_type": "code",
   "execution_count": null,
   "metadata": {},
   "outputs": [],
   "source": []
  },
  {
   "cell_type": "code",
   "execution_count": null,
   "metadata": {},
   "outputs": [],
   "source": []
  },
  {
   "cell_type": "code",
   "execution_count": null,
   "metadata": {},
   "outputs": [],
   "source": []
  },
  {
   "cell_type": "code",
   "execution_count": null,
   "metadata": {},
   "outputs": [],
   "source": []
  }
 ],
 "metadata": {
  "kernelspec": {
   "display_name": "Python 3",
   "language": "python",
   "name": "python3"
  },
  "language_info": {
   "codemirror_mode": {
    "name": "ipython",
    "version": 3
   },
   "file_extension": ".py",
   "mimetype": "text/x-python",
   "name": "python",
   "nbconvert_exporter": "python",
   "pygments_lexer": "ipython3",
   "version": "3.7.3"
  }
 },
 "nbformat": 4,
 "nbformat_minor": 2
}
